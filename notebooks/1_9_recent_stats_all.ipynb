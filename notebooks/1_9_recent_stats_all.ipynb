{
 "cells": [
  {
   "cell_type": "code",
   "execution_count": 1,
   "metadata": {
    "collapsed": true
   },
   "outputs": [],
   "source": [
    "import os\n",
    "from tqdm import tqdm\n",
    "import feather\n",
    "import pandas as pd\n",
    "import numpy as np\n",
    "from scipy import stats\n",
    "import gc"
   ]
  },
  {
   "cell_type": "code",
   "execution_count": 2,
   "metadata": {
    "collapsed": true
   },
   "outputs": [],
   "source": [
    "def append_to_csv(batch, csv_file):\n",
    "    props = dict(encoding='utf-8', index=False)\n",
    "    if not os.path.exists(csv_file):\n",
    "        batch.to_csv(csv_file, **props)\n",
    "    else:\n",
    "        batch.to_csv(csv_file, mode='a', header=False, **props)\n",
    "        \n",
    "def delete_file_if_exists(filename):\n",
    "    if os.path.exists(filename):\n",
    "        os.remove(filename)"
   ]
  },
  {
   "cell_type": "code",
   "execution_count": 3,
   "metadata": {
    "collapsed": true
   },
   "outputs": [],
   "source": [
    "date_block = {}\n",
    "date_block['1_2013'] = 0\n",
    "date_block['2_2013'] = 1\n",
    "date_block['3_2013'] = 2\n",
    "date_block['4_2013'] = 3\n",
    "date_block['5_2013'] = 4\n",
    "date_block['6_2013'] = 5\n",
    "date_block['7_2013'] = 6\n",
    "date_block['8_2013'] = 7\n",
    "date_block['9_2013'] = 8\n",
    "date_block['10_2013'] = 9\n",
    "date_block['11_2013'] = 10\n",
    "date_block['12_2013'] = 11\n",
    "\n",
    "date_block['1_2014'] = 12\n",
    "date_block['2_2014'] = 13\n",
    "date_block['3_2014'] = 14\n",
    "date_block['4_2014'] = 15\n",
    "date_block['5_2014'] = 16\n",
    "date_block['6_2014'] = 17\n",
    "date_block['7_2014'] = 18\n",
    "date_block['8_2014'] = 19\n",
    "date_block['9_2014'] = 20\n",
    "date_block['10_2014'] = 21\n",
    "date_block['11_2014'] = 22\n",
    "date_block['12_2014'] = 23\n",
    "\n",
    "date_block['1_2015'] = 24\n",
    "date_block['2_2015'] = 25\n",
    "date_block['3_2015'] = 26\n",
    "date_block['4_2015'] = 27\n",
    "date_block['5_2015'] = 28\n",
    "date_block['6_2015'] = 29\n",
    "date_block['7_2015'] = 30\n",
    "date_block['8_2015'] = 31\n",
    "date_block['9_2015'] = 32\n",
    "date_block['10_2015'] = 33\n",
    "date_block['11_2015'] = 34\n",
    "date_block['12_2015'] = 35\n",
    "\n",
    "date_block['1_2016'] = 36\n",
    "date_block['2_2016'] = 37\n",
    "date_block['3_2016'] = 38\n",
    "date_block['4_2016'] = 39\n",
    "date_block['5_2016'] = 40\n",
    "date_block['6_2016'] = 41\n",
    "date_block['7_2016'] = 42\n",
    "date_block['8_2016'] = 43\n",
    "date_block['9_2016'] = 44\n",
    "date_block['10_2016'] = 45\n",
    "date_block['11_2016'] = 46\n",
    "date_block['12_2016'] = 47\n",
    "\n",
    "date_block['1_2017'] = 48\n",
    "date_block['2_2017'] = 49\n",
    "date_block['3_2017'] = 50\n",
    "date_block['4_2017'] = 51\n",
    "date_block['5_2017'] = 52\n",
    "date_block['6_2017'] = 53\n",
    "date_block['7_2017'] = 54\n",
    "date_block['8_2017'] = 55\n",
    "date_block['9_2017'] = 56\n",
    "date_block['10_2017'] = 57\n",
    "date_block['11_2017'] = 58\n",
    "date_block['12_2017'] = 59\n",
    "\n",
    "def get_date_block_num(x):\n",
    "    year, month, day = x.split('-')\n",
    "    mon = int(month)\n",
    "    yr = int(year)\n",
    "    mon_year = str(mon) + '_' + str(yr)\n",
    "    \n",
    "    return date_block[mon_year]"
   ]
  },
  {
   "cell_type": "code",
   "execution_count": null,
   "metadata": {
    "collapsed": true
   },
   "outputs": [],
   "source": [
    "# df_train = pd.read_csv('../cache/bkup/train10_t.csv')"
   ]
  },
  {
   "cell_type": "code",
   "execution_count": null,
   "metadata": {
    "collapsed": true
   },
   "outputs": [],
   "source": [
    "# df_test = pd.read_csv('../cache/bkup/test7_t.csv')"
   ]
  },
  {
   "cell_type": "code",
   "execution_count": null,
   "metadata": {
    "collapsed": true
   },
   "outputs": [],
   "source": []
  }
 ],
 "metadata": {
  "kernelspec": {
   "display_name": "sdp35",
   "language": "python",
   "name": "sdp35"
  },
  "language_info": {
   "codemirror_mode": {
    "name": "ipython",
    "version": 3
   },
   "file_extension": ".py",
   "mimetype": "text/x-python",
   "name": "python",
   "nbconvert_exporter": "python",
   "pygments_lexer": "ipython3",
   "version": "3.5.4"
  }
 },
 "nbformat": 4,
 "nbformat_minor": 2
}
