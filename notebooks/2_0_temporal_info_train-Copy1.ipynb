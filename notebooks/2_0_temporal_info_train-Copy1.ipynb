{
 "cells": [
  {
   "cell_type": "code",
   "execution_count": 1,
   "metadata": {
    "collapsed": false
   },
   "outputs": [],
   "source": [
    "import os\n",
    "from tqdm import tqdm\n",
    "# import feather\n",
    "import pandas as pd\n",
    "import numpy as np\n",
    "from scipy import stats\n",
    "import gc\n",
    "from joblib import Parallel, delayed"
   ]
  },
  {
   "cell_type": "code",
   "execution_count": 2,
   "metadata": {
    "collapsed": true
   },
   "outputs": [],
   "source": [
    "def append_to_csv(batch, csv_file):\n",
    "    props = dict(encoding='utf-8', index=False)\n",
    "    if not os.path.exists(csv_file):\n",
    "        batch.to_csv(csv_file, **props)\n",
    "    else:\n",
    "        batch.to_csv(csv_file, mode='a', header=False, **props)\n",
    "\n",
    "def delete_file_if_exists(filename):\n",
    "    if os.path.exists(filename):\n",
    "        os.remove(filename)"
   ]
  },
  {
   "cell_type": "code",
   "execution_count": 3,
   "metadata": {
    "collapsed": false
   },
   "outputs": [
    {
     "name": "stderr",
     "output_type": "stream",
     "text": [
      "/home/watts/anaconda2/envs/sdp35/lib/python3.5/site-packages/IPython/core/interactiveshell.py:2728: DtypeWarning: Columns (5) have mixed types. Specify dtype option on import or set low_memory=False.\n",
      "  interactivity=interactivity, compiler=compiler, result=result)\n"
     ]
    }
   ],
   "source": [
    "fn = '../cache/bkup/train10_t_store{}.csv'.format(1)\n",
    "df =pd.read_csv(fn)"
   ]
  },
  {
   "cell_type": "code",
   "execution_count": 4,
   "metadata": {
    "collapsed": false
   },
   "outputs": [
    {
     "data": {
      "text/html": [
       "<div>\n",
       "<style scoped>\n",
       "    .dataframe tbody tr th:only-of-type {\n",
       "        vertical-align: middle;\n",
       "    }\n",
       "\n",
       "    .dataframe tbody tr th {\n",
       "        vertical-align: top;\n",
       "    }\n",
       "\n",
       "    .dataframe thead th {\n",
       "        text-align: right;\n",
       "    }\n",
       "</style>\n",
       "<table border=\"1\" class=\"dataframe\">\n",
       "  <thead>\n",
       "    <tr style=\"text-align: right;\">\n",
       "      <th></th>\n",
       "      <th>0</th>\n",
       "      <th>1</th>\n",
       "      <th>2</th>\n",
       "      <th>3</th>\n",
       "      <th>4</th>\n",
       "      <th>5</th>\n",
       "      <th>6</th>\n",
       "      <th>7</th>\n",
       "      <th>8</th>\n",
       "      <th>9</th>\n",
       "      <th>...</th>\n",
       "      <th>2562143</th>\n",
       "      <th>2562144</th>\n",
       "      <th>2562145</th>\n",
       "      <th>2562146</th>\n",
       "      <th>2562147</th>\n",
       "      <th>2562148</th>\n",
       "      <th>2562149</th>\n",
       "      <th>2562150</th>\n",
       "      <th>2562151</th>\n",
       "      <th>2562152</th>\n",
       "    </tr>\n",
       "  </thead>\n",
       "  <tbody>\n",
       "    <tr>\n",
       "      <th>id</th>\n",
       "      <td>578</td>\n",
       "      <td>579</td>\n",
       "      <td>580</td>\n",
       "      <td>581</td>\n",
       "      <td>582</td>\n",
       "      <td>583</td>\n",
       "      <td>584</td>\n",
       "      <td>585</td>\n",
       "      <td>586</td>\n",
       "      <td>587</td>\n",
       "      <td>...</td>\n",
       "      <td>125396202</td>\n",
       "      <td>125396203</td>\n",
       "      <td>125396204</td>\n",
       "      <td>125396205</td>\n",
       "      <td>125396206</td>\n",
       "      <td>125396207</td>\n",
       "      <td>125396208</td>\n",
       "      <td>125396209</td>\n",
       "      <td>125396210</td>\n",
       "      <td>125396211</td>\n",
       "    </tr>\n",
       "    <tr>\n",
       "      <th>date</th>\n",
       "      <td>2013-01-02</td>\n",
       "      <td>2013-01-02</td>\n",
       "      <td>2013-01-02</td>\n",
       "      <td>2013-01-02</td>\n",
       "      <td>2013-01-02</td>\n",
       "      <td>2013-01-02</td>\n",
       "      <td>2013-01-02</td>\n",
       "      <td>2013-01-02</td>\n",
       "      <td>2013-01-02</td>\n",
       "      <td>2013-01-02</td>\n",
       "      <td>...</td>\n",
       "      <td>2017-08-15</td>\n",
       "      <td>2017-08-15</td>\n",
       "      <td>2017-08-15</td>\n",
       "      <td>2017-08-15</td>\n",
       "      <td>2017-08-15</td>\n",
       "      <td>2017-08-15</td>\n",
       "      <td>2017-08-15</td>\n",
       "      <td>2017-08-15</td>\n",
       "      <td>2017-08-15</td>\n",
       "      <td>2017-08-15</td>\n",
       "    </tr>\n",
       "    <tr>\n",
       "      <th>store_nbr</th>\n",
       "      <td>1</td>\n",
       "      <td>1</td>\n",
       "      <td>1</td>\n",
       "      <td>1</td>\n",
       "      <td>1</td>\n",
       "      <td>1</td>\n",
       "      <td>1</td>\n",
       "      <td>1</td>\n",
       "      <td>1</td>\n",
       "      <td>1</td>\n",
       "      <td>...</td>\n",
       "      <td>1</td>\n",
       "      <td>1</td>\n",
       "      <td>1</td>\n",
       "      <td>1</td>\n",
       "      <td>1</td>\n",
       "      <td>1</td>\n",
       "      <td>1</td>\n",
       "      <td>1</td>\n",
       "      <td>1</td>\n",
       "      <td>1</td>\n",
       "    </tr>\n",
       "    <tr>\n",
       "      <th>item_nbr</th>\n",
       "      <td>103665</td>\n",
       "      <td>105574</td>\n",
       "      <td>105575</td>\n",
       "      <td>105577</td>\n",
       "      <td>105737</td>\n",
       "      <td>105857</td>\n",
       "      <td>106716</td>\n",
       "      <td>108696</td>\n",
       "      <td>108698</td>\n",
       "      <td>108701</td>\n",
       "      <td>...</td>\n",
       "      <td>2111684</td>\n",
       "      <td>2111870</td>\n",
       "      <td>2112404</td>\n",
       "      <td>2113914</td>\n",
       "      <td>2114566</td>\n",
       "      <td>2114812</td>\n",
       "      <td>2116416</td>\n",
       "      <td>2122188</td>\n",
       "      <td>2122676</td>\n",
       "      <td>2124052</td>\n",
       "    </tr>\n",
       "    <tr>\n",
       "      <th>unit_sales</th>\n",
       "      <td>2</td>\n",
       "      <td>8</td>\n",
       "      <td>15</td>\n",
       "      <td>2</td>\n",
       "      <td>2</td>\n",
       "      <td>12</td>\n",
       "      <td>2</td>\n",
       "      <td>3</td>\n",
       "      <td>6</td>\n",
       "      <td>3</td>\n",
       "      <td>...</td>\n",
       "      <td>7</td>\n",
       "      <td>21</td>\n",
       "      <td>5</td>\n",
       "      <td>1</td>\n",
       "      <td>1</td>\n",
       "      <td>1</td>\n",
       "      <td>1</td>\n",
       "      <td>1</td>\n",
       "      <td>2</td>\n",
       "      <td>1</td>\n",
       "    </tr>\n",
       "    <tr>\n",
       "      <th>onpromotion</th>\n",
       "      <td>Unk</td>\n",
       "      <td>Unk</td>\n",
       "      <td>Unk</td>\n",
       "      <td>Unk</td>\n",
       "      <td>Unk</td>\n",
       "      <td>Unk</td>\n",
       "      <td>Unk</td>\n",
       "      <td>Unk</td>\n",
       "      <td>Unk</td>\n",
       "      <td>Unk</td>\n",
       "      <td>...</td>\n",
       "      <td>False</td>\n",
       "      <td>False</td>\n",
       "      <td>True</td>\n",
       "      <td>False</td>\n",
       "      <td>False</td>\n",
       "      <td>True</td>\n",
       "      <td>False</td>\n",
       "      <td>False</td>\n",
       "      <td>False</td>\n",
       "      <td>False</td>\n",
       "    </tr>\n",
       "    <tr>\n",
       "      <th>item_family</th>\n",
       "      <td>BREAD/BAKERY</td>\n",
       "      <td>GROCERY I</td>\n",
       "      <td>GROCERY I</td>\n",
       "      <td>GROCERY I</td>\n",
       "      <td>GROCERY I</td>\n",
       "      <td>GROCERY I</td>\n",
       "      <td>GROCERY I</td>\n",
       "      <td>DELI</td>\n",
       "      <td>DELI</td>\n",
       "      <td>DELI</td>\n",
       "      <td>...</td>\n",
       "      <td>BEVERAGES</td>\n",
       "      <td>PRODUCE</td>\n",
       "      <td>DAIRY</td>\n",
       "      <td>CLEANING</td>\n",
       "      <td>GROCERY I</td>\n",
       "      <td>CLEANING</td>\n",
       "      <td>GROCERY I</td>\n",
       "      <td>GROCERY I</td>\n",
       "      <td>BEVERAGES</td>\n",
       "      <td>LIQUOR,WINE,BEER</td>\n",
       "    </tr>\n",
       "    <tr>\n",
       "      <th>item_class</th>\n",
       "      <td>2712</td>\n",
       "      <td>1045</td>\n",
       "      <td>1045</td>\n",
       "      <td>1045</td>\n",
       "      <td>1044</td>\n",
       "      <td>1092</td>\n",
       "      <td>1032</td>\n",
       "      <td>2636</td>\n",
       "      <td>2644</td>\n",
       "      <td>2644</td>\n",
       "      <td>...</td>\n",
       "      <td>1120</td>\n",
       "      <td>2028</td>\n",
       "      <td>2108</td>\n",
       "      <td>3040</td>\n",
       "      <td>1034</td>\n",
       "      <td>3020</td>\n",
       "      <td>1060</td>\n",
       "      <td>1084</td>\n",
       "      <td>1124</td>\n",
       "      <td>1318</td>\n",
       "    </tr>\n",
       "    <tr>\n",
       "      <th>perishable</th>\n",
       "      <td>1</td>\n",
       "      <td>0</td>\n",
       "      <td>0</td>\n",
       "      <td>0</td>\n",
       "      <td>0</td>\n",
       "      <td>0</td>\n",
       "      <td>0</td>\n",
       "      <td>1</td>\n",
       "      <td>1</td>\n",
       "      <td>1</td>\n",
       "      <td>...</td>\n",
       "      <td>0</td>\n",
       "      <td>1</td>\n",
       "      <td>1</td>\n",
       "      <td>0</td>\n",
       "      <td>0</td>\n",
       "      <td>0</td>\n",
       "      <td>0</td>\n",
       "      <td>0</td>\n",
       "      <td>0</td>\n",
       "      <td>0</td>\n",
       "    </tr>\n",
       "    <tr>\n",
       "      <th>city</th>\n",
       "      <td>Quito</td>\n",
       "      <td>Quito</td>\n",
       "      <td>Quito</td>\n",
       "      <td>Quito</td>\n",
       "      <td>Quito</td>\n",
       "      <td>Quito</td>\n",
       "      <td>Quito</td>\n",
       "      <td>Quito</td>\n",
       "      <td>Quito</td>\n",
       "      <td>Quito</td>\n",
       "      <td>...</td>\n",
       "      <td>Quito</td>\n",
       "      <td>Quito</td>\n",
       "      <td>Quito</td>\n",
       "      <td>Quito</td>\n",
       "      <td>Quito</td>\n",
       "      <td>Quito</td>\n",
       "      <td>Quito</td>\n",
       "      <td>Quito</td>\n",
       "      <td>Quito</td>\n",
       "      <td>Quito</td>\n",
       "    </tr>\n",
       "    <tr>\n",
       "      <th>state</th>\n",
       "      <td>Pichincha</td>\n",
       "      <td>Pichincha</td>\n",
       "      <td>Pichincha</td>\n",
       "      <td>Pichincha</td>\n",
       "      <td>Pichincha</td>\n",
       "      <td>Pichincha</td>\n",
       "      <td>Pichincha</td>\n",
       "      <td>Pichincha</td>\n",
       "      <td>Pichincha</td>\n",
       "      <td>Pichincha</td>\n",
       "      <td>...</td>\n",
       "      <td>Pichincha</td>\n",
       "      <td>Pichincha</td>\n",
       "      <td>Pichincha</td>\n",
       "      <td>Pichincha</td>\n",
       "      <td>Pichincha</td>\n",
       "      <td>Pichincha</td>\n",
       "      <td>Pichincha</td>\n",
       "      <td>Pichincha</td>\n",
       "      <td>Pichincha</td>\n",
       "      <td>Pichincha</td>\n",
       "    </tr>\n",
       "    <tr>\n",
       "      <th>store_type</th>\n",
       "      <td>D</td>\n",
       "      <td>D</td>\n",
       "      <td>D</td>\n",
       "      <td>D</td>\n",
       "      <td>D</td>\n",
       "      <td>D</td>\n",
       "      <td>D</td>\n",
       "      <td>D</td>\n",
       "      <td>D</td>\n",
       "      <td>D</td>\n",
       "      <td>...</td>\n",
       "      <td>D</td>\n",
       "      <td>D</td>\n",
       "      <td>D</td>\n",
       "      <td>D</td>\n",
       "      <td>D</td>\n",
       "      <td>D</td>\n",
       "      <td>D</td>\n",
       "      <td>D</td>\n",
       "      <td>D</td>\n",
       "      <td>D</td>\n",
       "    </tr>\n",
       "    <tr>\n",
       "      <th>cluster</th>\n",
       "      <td>13</td>\n",
       "      <td>13</td>\n",
       "      <td>13</td>\n",
       "      <td>13</td>\n",
       "      <td>13</td>\n",
       "      <td>13</td>\n",
       "      <td>13</td>\n",
       "      <td>13</td>\n",
       "      <td>13</td>\n",
       "      <td>13</td>\n",
       "      <td>...</td>\n",
       "      <td>13</td>\n",
       "      <td>13</td>\n",
       "      <td>13</td>\n",
       "      <td>13</td>\n",
       "      <td>13</td>\n",
       "      <td>13</td>\n",
       "      <td>13</td>\n",
       "      <td>13</td>\n",
       "      <td>13</td>\n",
       "      <td>13</td>\n",
       "    </tr>\n",
       "    <tr>\n",
       "      <th>dcoilwtico</th>\n",
       "      <td>93.14</td>\n",
       "      <td>93.14</td>\n",
       "      <td>93.14</td>\n",
       "      <td>93.14</td>\n",
       "      <td>93.14</td>\n",
       "      <td>93.14</td>\n",
       "      <td>93.14</td>\n",
       "      <td>93.14</td>\n",
       "      <td>93.14</td>\n",
       "      <td>93.14</td>\n",
       "      <td>...</td>\n",
       "      <td>47.57</td>\n",
       "      <td>47.57</td>\n",
       "      <td>47.57</td>\n",
       "      <td>47.57</td>\n",
       "      <td>47.57</td>\n",
       "      <td>47.57</td>\n",
       "      <td>47.57</td>\n",
       "      <td>47.57</td>\n",
       "      <td>47.57</td>\n",
       "      <td>47.57</td>\n",
       "    </tr>\n",
       "    <tr>\n",
       "      <th>transactions</th>\n",
       "      <td>2111</td>\n",
       "      <td>2111</td>\n",
       "      <td>2111</td>\n",
       "      <td>2111</td>\n",
       "      <td>2111</td>\n",
       "      <td>2111</td>\n",
       "      <td>2111</td>\n",
       "      <td>2111</td>\n",
       "      <td>2111</td>\n",
       "      <td>2111</td>\n",
       "      <td>...</td>\n",
       "      <td>1693</td>\n",
       "      <td>1693</td>\n",
       "      <td>1693</td>\n",
       "      <td>1693</td>\n",
       "      <td>1693</td>\n",
       "      <td>1693</td>\n",
       "      <td>1693</td>\n",
       "      <td>1693</td>\n",
       "      <td>1693</td>\n",
       "      <td>1693</td>\n",
       "    </tr>\n",
       "    <tr>\n",
       "      <th>dom</th>\n",
       "      <td>2</td>\n",
       "      <td>2</td>\n",
       "      <td>2</td>\n",
       "      <td>2</td>\n",
       "      <td>2</td>\n",
       "      <td>2</td>\n",
       "      <td>2</td>\n",
       "      <td>2</td>\n",
       "      <td>2</td>\n",
       "      <td>2</td>\n",
       "      <td>...</td>\n",
       "      <td>15</td>\n",
       "      <td>15</td>\n",
       "      <td>15</td>\n",
       "      <td>15</td>\n",
       "      <td>15</td>\n",
       "      <td>15</td>\n",
       "      <td>15</td>\n",
       "      <td>15</td>\n",
       "      <td>15</td>\n",
       "      <td>15</td>\n",
       "    </tr>\n",
       "    <tr>\n",
       "      <th>mon</th>\n",
       "      <td>1</td>\n",
       "      <td>1</td>\n",
       "      <td>1</td>\n",
       "      <td>1</td>\n",
       "      <td>1</td>\n",
       "      <td>1</td>\n",
       "      <td>1</td>\n",
       "      <td>1</td>\n",
       "      <td>1</td>\n",
       "      <td>1</td>\n",
       "      <td>...</td>\n",
       "      <td>8</td>\n",
       "      <td>8</td>\n",
       "      <td>8</td>\n",
       "      <td>8</td>\n",
       "      <td>8</td>\n",
       "      <td>8</td>\n",
       "      <td>8</td>\n",
       "      <td>8</td>\n",
       "      <td>8</td>\n",
       "      <td>8</td>\n",
       "    </tr>\n",
       "    <tr>\n",
       "      <th>dow</th>\n",
       "      <td>2</td>\n",
       "      <td>2</td>\n",
       "      <td>2</td>\n",
       "      <td>2</td>\n",
       "      <td>2</td>\n",
       "      <td>2</td>\n",
       "      <td>2</td>\n",
       "      <td>2</td>\n",
       "      <td>2</td>\n",
       "      <td>2</td>\n",
       "      <td>...</td>\n",
       "      <td>1</td>\n",
       "      <td>1</td>\n",
       "      <td>1</td>\n",
       "      <td>1</td>\n",
       "      <td>1</td>\n",
       "      <td>1</td>\n",
       "      <td>1</td>\n",
       "      <td>1</td>\n",
       "      <td>1</td>\n",
       "      <td>1</td>\n",
       "    </tr>\n",
       "    <tr>\n",
       "      <th>doy</th>\n",
       "      <td>2</td>\n",
       "      <td>2</td>\n",
       "      <td>2</td>\n",
       "      <td>2</td>\n",
       "      <td>2</td>\n",
       "      <td>2</td>\n",
       "      <td>2</td>\n",
       "      <td>2</td>\n",
       "      <td>2</td>\n",
       "      <td>2</td>\n",
       "      <td>...</td>\n",
       "      <td>227</td>\n",
       "      <td>227</td>\n",
       "      <td>227</td>\n",
       "      <td>227</td>\n",
       "      <td>227</td>\n",
       "      <td>227</td>\n",
       "      <td>227</td>\n",
       "      <td>227</td>\n",
       "      <td>227</td>\n",
       "      <td>227</td>\n",
       "    </tr>\n",
       "    <tr>\n",
       "      <th>dcount</th>\n",
       "      <td>734870</td>\n",
       "      <td>734870</td>\n",
       "      <td>734870</td>\n",
       "      <td>734870</td>\n",
       "      <td>734870</td>\n",
       "      <td>734870</td>\n",
       "      <td>734870</td>\n",
       "      <td>734870</td>\n",
       "      <td>734870</td>\n",
       "      <td>734870</td>\n",
       "      <td>...</td>\n",
       "      <td>736556</td>\n",
       "      <td>736556</td>\n",
       "      <td>736556</td>\n",
       "      <td>736556</td>\n",
       "      <td>736556</td>\n",
       "      <td>736556</td>\n",
       "      <td>736556</td>\n",
       "      <td>736556</td>\n",
       "      <td>736556</td>\n",
       "      <td>736556</td>\n",
       "    </tr>\n",
       "    <tr>\n",
       "      <th>h_type</th>\n",
       "      <td>Work Day</td>\n",
       "      <td>Work Day</td>\n",
       "      <td>Work Day</td>\n",
       "      <td>Work Day</td>\n",
       "      <td>Work Day</td>\n",
       "      <td>Work Day</td>\n",
       "      <td>Work Day</td>\n",
       "      <td>Work Day</td>\n",
       "      <td>Work Day</td>\n",
       "      <td>Work Day</td>\n",
       "      <td>...</td>\n",
       "      <td>Work Day</td>\n",
       "      <td>Work Day</td>\n",
       "      <td>Work Day</td>\n",
       "      <td>Work Day</td>\n",
       "      <td>Work Day</td>\n",
       "      <td>Work Day</td>\n",
       "      <td>Work Day</td>\n",
       "      <td>Work Day</td>\n",
       "      <td>Work Day</td>\n",
       "      <td>Work Day</td>\n",
       "    </tr>\n",
       "    <tr>\n",
       "      <th>h_desc</th>\n",
       "      <td>Normal</td>\n",
       "      <td>Normal</td>\n",
       "      <td>Normal</td>\n",
       "      <td>Normal</td>\n",
       "      <td>Normal</td>\n",
       "      <td>Normal</td>\n",
       "      <td>Normal</td>\n",
       "      <td>Normal</td>\n",
       "      <td>Normal</td>\n",
       "      <td>Normal</td>\n",
       "      <td>...</td>\n",
       "      <td>Normal</td>\n",
       "      <td>Normal</td>\n",
       "      <td>Normal</td>\n",
       "      <td>Normal</td>\n",
       "      <td>Normal</td>\n",
       "      <td>Normal</td>\n",
       "      <td>Normal</td>\n",
       "      <td>Normal</td>\n",
       "      <td>Normal</td>\n",
       "      <td>Normal</td>\n",
       "    </tr>\n",
       "    <tr>\n",
       "      <th>pd</th>\n",
       "      <td>0</td>\n",
       "      <td>0</td>\n",
       "      <td>0</td>\n",
       "      <td>0</td>\n",
       "      <td>0</td>\n",
       "      <td>0</td>\n",
       "      <td>0</td>\n",
       "      <td>0</td>\n",
       "      <td>0</td>\n",
       "      <td>0</td>\n",
       "      <td>...</td>\n",
       "      <td>1</td>\n",
       "      <td>1</td>\n",
       "      <td>1</td>\n",
       "      <td>1</td>\n",
       "      <td>1</td>\n",
       "      <td>1</td>\n",
       "      <td>1</td>\n",
       "      <td>1</td>\n",
       "      <td>1</td>\n",
       "      <td>1</td>\n",
       "    </tr>\n",
       "    <tr>\n",
       "      <th>wbe</th>\n",
       "      <td>172</td>\n",
       "      <td>172</td>\n",
       "      <td>172</td>\n",
       "      <td>172</td>\n",
       "      <td>172</td>\n",
       "      <td>172</td>\n",
       "      <td>172</td>\n",
       "      <td>172</td>\n",
       "      <td>172</td>\n",
       "      <td>172</td>\n",
       "      <td>...</td>\n",
       "      <td>0</td>\n",
       "      <td>0</td>\n",
       "      <td>0</td>\n",
       "      <td>0</td>\n",
       "      <td>0</td>\n",
       "      <td>0</td>\n",
       "      <td>0</td>\n",
       "      <td>0</td>\n",
       "      <td>0</td>\n",
       "      <td>0</td>\n",
       "    </tr>\n",
       "    <tr>\n",
       "      <th>wae</th>\n",
       "      <td>0</td>\n",
       "      <td>0</td>\n",
       "      <td>0</td>\n",
       "      <td>0</td>\n",
       "      <td>0</td>\n",
       "      <td>0</td>\n",
       "      <td>0</td>\n",
       "      <td>0</td>\n",
       "      <td>0</td>\n",
       "      <td>0</td>\n",
       "      <td>...</td>\n",
       "      <td>70</td>\n",
       "      <td>70</td>\n",
       "      <td>70</td>\n",
       "      <td>70</td>\n",
       "      <td>70</td>\n",
       "      <td>70</td>\n",
       "      <td>70</td>\n",
       "      <td>70</td>\n",
       "      <td>70</td>\n",
       "      <td>70</td>\n",
       "    </tr>\n",
       "    <tr>\n",
       "      <th>wfe</th>\n",
       "      <td>172</td>\n",
       "      <td>172</td>\n",
       "      <td>172</td>\n",
       "      <td>172</td>\n",
       "      <td>172</td>\n",
       "      <td>172</td>\n",
       "      <td>172</td>\n",
       "      <td>172</td>\n",
       "      <td>172</td>\n",
       "      <td>172</td>\n",
       "      <td>...</td>\n",
       "      <td>70</td>\n",
       "      <td>70</td>\n",
       "      <td>70</td>\n",
       "      <td>70</td>\n",
       "      <td>70</td>\n",
       "      <td>70</td>\n",
       "      <td>70</td>\n",
       "      <td>70</td>\n",
       "      <td>70</td>\n",
       "      <td>70</td>\n",
       "    </tr>\n",
       "    <tr>\n",
       "      <th>store_item_nbr</th>\n",
       "      <td>1_103665</td>\n",
       "      <td>1_105574</td>\n",
       "      <td>1_105575</td>\n",
       "      <td>1_105577</td>\n",
       "      <td>1_105737</td>\n",
       "      <td>1_105857</td>\n",
       "      <td>1_106716</td>\n",
       "      <td>1_108696</td>\n",
       "      <td>1_108698</td>\n",
       "      <td>1_108701</td>\n",
       "      <td>...</td>\n",
       "      <td>1_2111684</td>\n",
       "      <td>1_2111870</td>\n",
       "      <td>1_2112404</td>\n",
       "      <td>1_2113914</td>\n",
       "      <td>1_2114566</td>\n",
       "      <td>1_2114812</td>\n",
       "      <td>1_2116416</td>\n",
       "      <td>1_2122188</td>\n",
       "      <td>1_2122676</td>\n",
       "      <td>1_2124052</td>\n",
       "    </tr>\n",
       "  </tbody>\n",
       "</table>\n",
       "<p>27 rows × 2562153 columns</p>\n",
       "</div>"
      ],
      "text/plain": [
       "                     0           1           2           3           4        \\\n",
       "id                       578         579         580         581         582   \n",
       "date              2013-01-02  2013-01-02  2013-01-02  2013-01-02  2013-01-02   \n",
       "store_nbr                  1           1           1           1           1   \n",
       "item_nbr              103665      105574      105575      105577      105737   \n",
       "unit_sales                 2           8          15           2           2   \n",
       "onpromotion              Unk         Unk         Unk         Unk         Unk   \n",
       "item_family     BREAD/BAKERY   GROCERY I   GROCERY I   GROCERY I   GROCERY I   \n",
       "item_class              2712        1045        1045        1045        1044   \n",
       "perishable                 1           0           0           0           0   \n",
       "city                   Quito       Quito       Quito       Quito       Quito   \n",
       "state              Pichincha   Pichincha   Pichincha   Pichincha   Pichincha   \n",
       "store_type                 D           D           D           D           D   \n",
       "cluster                   13          13          13          13          13   \n",
       "dcoilwtico             93.14       93.14       93.14       93.14       93.14   \n",
       "transactions            2111        2111        2111        2111        2111   \n",
       "dom                        2           2           2           2           2   \n",
       "mon                        1           1           1           1           1   \n",
       "dow                        2           2           2           2           2   \n",
       "doy                        2           2           2           2           2   \n",
       "dcount                734870      734870      734870      734870      734870   \n",
       "h_type              Work Day    Work Day    Work Day    Work Day    Work Day   \n",
       "h_desc                Normal      Normal      Normal      Normal      Normal   \n",
       "pd                         0           0           0           0           0   \n",
       "wbe                      172         172         172         172         172   \n",
       "wae                        0           0           0           0           0   \n",
       "wfe                      172         172         172         172         172   \n",
       "store_item_nbr      1_103665    1_105574    1_105575    1_105577    1_105737   \n",
       "\n",
       "                   5           6           7           8           9        \\\n",
       "id                     583         584         585         586         587   \n",
       "date            2013-01-02  2013-01-02  2013-01-02  2013-01-02  2013-01-02   \n",
       "store_nbr                1           1           1           1           1   \n",
       "item_nbr            105857      106716      108696      108698      108701   \n",
       "unit_sales              12           2           3           6           3   \n",
       "onpromotion            Unk         Unk         Unk         Unk         Unk   \n",
       "item_family      GROCERY I   GROCERY I        DELI        DELI        DELI   \n",
       "item_class            1092        1032        2636        2644        2644   \n",
       "perishable               0           0           1           1           1   \n",
       "city                 Quito       Quito       Quito       Quito       Quito   \n",
       "state            Pichincha   Pichincha   Pichincha   Pichincha   Pichincha   \n",
       "store_type               D           D           D           D           D   \n",
       "cluster                 13          13          13          13          13   \n",
       "dcoilwtico           93.14       93.14       93.14       93.14       93.14   \n",
       "transactions          2111        2111        2111        2111        2111   \n",
       "dom                      2           2           2           2           2   \n",
       "mon                      1           1           1           1           1   \n",
       "dow                      2           2           2           2           2   \n",
       "doy                      2           2           2           2           2   \n",
       "dcount              734870      734870      734870      734870      734870   \n",
       "h_type            Work Day    Work Day    Work Day    Work Day    Work Day   \n",
       "h_desc              Normal      Normal      Normal      Normal      Normal   \n",
       "pd                       0           0           0           0           0   \n",
       "wbe                    172         172         172         172         172   \n",
       "wae                      0           0           0           0           0   \n",
       "wfe                    172         172         172         172         172   \n",
       "store_item_nbr    1_105857    1_106716    1_108696    1_108698    1_108701   \n",
       "\n",
       "                      ...            2562143     2562144     2562145  \\\n",
       "id                    ...          125396202   125396203   125396204   \n",
       "date                  ...         2017-08-15  2017-08-15  2017-08-15   \n",
       "store_nbr             ...                  1           1           1   \n",
       "item_nbr              ...            2111684     2111870     2112404   \n",
       "unit_sales            ...                  7          21           5   \n",
       "onpromotion           ...              False       False        True   \n",
       "item_family           ...          BEVERAGES     PRODUCE       DAIRY   \n",
       "item_class            ...               1120        2028        2108   \n",
       "perishable            ...                  0           1           1   \n",
       "city                  ...              Quito       Quito       Quito   \n",
       "state                 ...          Pichincha   Pichincha   Pichincha   \n",
       "store_type            ...                  D           D           D   \n",
       "cluster               ...                 13          13          13   \n",
       "dcoilwtico            ...              47.57       47.57       47.57   \n",
       "transactions          ...               1693        1693        1693   \n",
       "dom                   ...                 15          15          15   \n",
       "mon                   ...                  8           8           8   \n",
       "dow                   ...                  1           1           1   \n",
       "doy                   ...                227         227         227   \n",
       "dcount                ...             736556      736556      736556   \n",
       "h_type                ...           Work Day    Work Day    Work Day   \n",
       "h_desc                ...             Normal      Normal      Normal   \n",
       "pd                    ...                  1           1           1   \n",
       "wbe                   ...                  0           0           0   \n",
       "wae                   ...                 70          70          70   \n",
       "wfe                   ...                 70          70          70   \n",
       "store_item_nbr        ...          1_2111684   1_2111870   1_2112404   \n",
       "\n",
       "                   2562146     2562147     2562148     2562149     2562150  \\\n",
       "id               125396205   125396206   125396207   125396208   125396209   \n",
       "date            2017-08-15  2017-08-15  2017-08-15  2017-08-15  2017-08-15   \n",
       "store_nbr                1           1           1           1           1   \n",
       "item_nbr           2113914     2114566     2114812     2116416     2122188   \n",
       "unit_sales               1           1           1           1           1   \n",
       "onpromotion          False       False        True       False       False   \n",
       "item_family       CLEANING   GROCERY I    CLEANING   GROCERY I   GROCERY I   \n",
       "item_class            3040        1034        3020        1060        1084   \n",
       "perishable               0           0           0           0           0   \n",
       "city                 Quito       Quito       Quito       Quito       Quito   \n",
       "state            Pichincha   Pichincha   Pichincha   Pichincha   Pichincha   \n",
       "store_type               D           D           D           D           D   \n",
       "cluster                 13          13          13          13          13   \n",
       "dcoilwtico           47.57       47.57       47.57       47.57       47.57   \n",
       "transactions          1693        1693        1693        1693        1693   \n",
       "dom                     15          15          15          15          15   \n",
       "mon                      8           8           8           8           8   \n",
       "dow                      1           1           1           1           1   \n",
       "doy                    227         227         227         227         227   \n",
       "dcount              736556      736556      736556      736556      736556   \n",
       "h_type            Work Day    Work Day    Work Day    Work Day    Work Day   \n",
       "h_desc              Normal      Normal      Normal      Normal      Normal   \n",
       "pd                       1           1           1           1           1   \n",
       "wbe                      0           0           0           0           0   \n",
       "wae                     70          70          70          70          70   \n",
       "wfe                     70          70          70          70          70   \n",
       "store_item_nbr   1_2113914   1_2114566   1_2114812   1_2116416   1_2122188   \n",
       "\n",
       "                   2562151           2562152  \n",
       "id               125396210         125396211  \n",
       "date            2017-08-15        2017-08-15  \n",
       "store_nbr                1                 1  \n",
       "item_nbr           2122676           2124052  \n",
       "unit_sales               2                 1  \n",
       "onpromotion          False             False  \n",
       "item_family      BEVERAGES  LIQUOR,WINE,BEER  \n",
       "item_class            1124              1318  \n",
       "perishable               0                 0  \n",
       "city                 Quito             Quito  \n",
       "state            Pichincha         Pichincha  \n",
       "store_type               D                 D  \n",
       "cluster                 13                13  \n",
       "dcoilwtico           47.57             47.57  \n",
       "transactions          1693              1693  \n",
       "dom                     15                15  \n",
       "mon                      8                 8  \n",
       "dow                      1                 1  \n",
       "doy                    227               227  \n",
       "dcount              736556            736556  \n",
       "h_type            Work Day          Work Day  \n",
       "h_desc              Normal            Normal  \n",
       "pd                       1                 1  \n",
       "wbe                      0                 0  \n",
       "wae                     70                70  \n",
       "wfe                     70                70  \n",
       "store_item_nbr   1_2122676         1_2124052  \n",
       "\n",
       "[27 rows x 2562153 columns]"
      ]
     },
     "execution_count": 4,
     "metadata": {},
     "output_type": "execute_result"
    }
   ],
   "source": [
    "df.T"
   ]
  },
  {
   "cell_type": "code",
   "execution_count": 6,
   "metadata": {
    "collapsed": false
   },
   "outputs": [
    {
     "data": {
      "text/plain": [
       "Work Day      1766988\n",
       "Weekend        596121\n",
       "Holiday        103455\n",
       "Event           88892\n",
       "Additional       6697\n",
       "Name: h_type, dtype: int64"
      ]
     },
     "execution_count": 6,
     "metadata": {},
     "output_type": "execute_result"
    }
   ],
   "source": [
    "df.h_type.value_counts()"
   ]
  },
  {
   "cell_type": "code",
   "execution_count": 30,
   "metadata": {
    "collapsed": false
   },
   "outputs": [],
   "source": [
    "# df[df.onpromotion == True]"
   ]
  },
  {
   "cell_type": "code",
   "execution_count": 31,
   "metadata": {
    "collapsed": false
   },
   "outputs": [],
   "source": [
    "# fn = '../cache/bkup/test7_t_store{}.csv'.format(2)\n",
    "# df2 =pd.read_csv(fn)"
   ]
  },
  {
   "cell_type": "code",
   "execution_count": 32,
   "metadata": {
    "collapsed": false
   },
   "outputs": [
    {
     "data": {
      "text/html": [
       "<div>\n",
       "<table border=\"1\" class=\"dataframe\">\n",
       "  <thead>\n",
       "    <tr style=\"text-align: right;\">\n",
       "      <th></th>\n",
       "      <th>id</th>\n",
       "      <th>date</th>\n",
       "      <th>store_nbr</th>\n",
       "      <th>item_nbr</th>\n",
       "      <th>onpromotion</th>\n",
       "      <th>item_family</th>\n",
       "      <th>item_class</th>\n",
       "      <th>perishable</th>\n",
       "      <th>city</th>\n",
       "      <th>state</th>\n",
       "      <th>...</th>\n",
       "      <th>dow</th>\n",
       "      <th>doy</th>\n",
       "      <th>dcount</th>\n",
       "      <th>h_type</th>\n",
       "      <th>h_desc</th>\n",
       "      <th>pd</th>\n",
       "      <th>wbe</th>\n",
       "      <th>wae</th>\n",
       "      <th>wfe</th>\n",
       "      <th>store_item_nbr</th>\n",
       "    </tr>\n",
       "  </thead>\n",
       "  <tbody>\n",
       "  </tbody>\n",
       "</table>\n",
       "<p>0 rows × 26 columns</p>\n",
       "</div>"
      ],
      "text/plain": [
       "Empty DataFrame\n",
       "Columns: [id, date, store_nbr, item_nbr, onpromotion, item_family, item_class, perishable, city, state, store_type, cluster, dcoilwtico, transactions, dom, mon, dow, doy, dcount, h_type, h_desc, pd, wbe, wae, wfe, store_item_nbr]\n",
       "Index: []\n",
       "\n",
       "[0 rows x 26 columns]"
      ]
     },
     "execution_count": 32,
     "metadata": {},
     "output_type": "execute_result"
    }
   ],
   "source": [
    "df[(df.onpromotion == True) & (df.store_item_nbr == '1_105737')]"
   ]
  },
  {
   "cell_type": "code",
   "execution_count": 33,
   "metadata": {
    "collapsed": false
   },
   "outputs": [],
   "source": [
    "# len(set(df2.store_item_nbr))"
   ]
  },
  {
   "cell_type": "code",
   "execution_count": 34,
   "metadata": {
    "collapsed": false
   },
   "outputs": [],
   "source": [
    "# df2[df2.onpromotion == True]"
   ]
  },
  {
   "cell_type": "code",
   "execution_count": 35,
   "metadata": {
    "collapsed": false
   },
   "outputs": [],
   "source": [
    "# df2.h_type.value_counts()"
   ]
  },
  {
   "cell_type": "code",
   "execution_count": 36,
   "metadata": {
    "collapsed": false
   },
   "outputs": [],
   "source": [
    "# df2.h_desc.value_counts()"
   ]
  },
  {
   "cell_type": "code",
   "execution_count": 37,
   "metadata": {
    "collapsed": true
   },
   "outputs": [],
   "source": [
    "def days_from_next_promotion(store_num):\n",
    "    fn = '../cache/bkup/train10_t_store{}.csv'.format(store_num)\n",
    "    df =pd.read_csv(fn)\n",
    "    df['dts'] = df.date.map(np.datetime64)\n",
    "    df_min_date = np.min(df.dts)\n",
    "    df_max_date = np.min(df.dts)\n",
    "    max_days = ((df_max_date - df_min_date))/np.timedelta64(1, 'D')\n",
    "    n = 0\n",
    "    items = list(set(df.store_item_nbr))\n",
    "    for item in items:\n",
    "        n = 1\n",
    "        df_it = df[(df.store_item_nbr == item)].reset_index(drop=True)\n",
    "        \n",
    "        df_it['pe'] = 0 # promotion event\n",
    "        df_it['pe'][df_it.onpromotion == True] = 1\n",
    "        promo_indices = list(np.transpose(*np.where(df_it.pe)))\n",
    "        \n",
    "        df_it['days_from_next_promo'] = max_days\n",
    "        last_loc = 0\n",
    "        for j in promo_indices:\n",
    "            promo_date = df_it.loc[j, 'dts']\n",
    "            while last_loc < j:\n",
    "                curr_date = df_it.loc[last_loc, 'dts']\n",
    "                if(curr_date == promo_date):\n",
    "                    df_it.loc[last_loc, 'days_from_next_promo'] = 0\n",
    "                    continue\n",
    "                diff = int((promo_date - curr_date)/ np.timedelta64(1, 'D'))\n",
    "                df_it.loc[last_loc, 'days_from_next_promo'] = diff\n",
    "                last_loc += 1    \n",
    "            if last_loc == j:\n",
    "                df_it.loc[last_loc, 'days_from_next_promo'] = 0\n",
    "                last_loc += 1\n",
    "        fn_tmp = '../cache/train10_t_store{}_{}_next_promo_tmp.csv'.format(store_num, item)\n",
    "        delete_file_if_exists(fn_tmp)\n",
    "        df1 = pd.DataFrame()\n",
    "        df1['id'] = df_it['id'].values\n",
    "        df1['days_from_next_promo'] = df_it['days_from_next_promo'].values\n",
    "        df1.to_csv(fn_tmp, float_format='%.5f', index=False)\n",
    "        del df1\n",
    "    df2 = pd.DataFrame()\n",
    "    for item in items:\n",
    "        fn_tmp = '../cache/train10_t_store{}_{}_next_promo_tmp.csv'.format(store_num, item)\n",
    "        df1 = pd.read_csv(fn_tmp)\n",
    "        df2 = pd.concat([df2, df1], axis=0)\n",
    "    df2 = df2.sort('id')\n",
    "    df = df[(df.dts >= np.datetime64('2015-01-01')) & (df.dts <= np.datetime64('2017-08-15'))]\n",
    "    min_id = df.iloc[0]['id']\n",
    "    df2 = df2[df2.id >= min_id]\n",
    "    assert(len(df) == len(df2))\n",
    "    # assert(df.id == df2.id)\n",
    "    s = sum(df2.isnull().any()==True) # print NA\n",
    "    print(s)\n",
    "    if s > 0:\n",
    "        print(df2.isnull().sum())\n",
    "    fn_tmp = '../cache/train10_t_store{}_days_from_next_promo.csv'.format(store_num)\n",
    "    delete_file_if_exists(fn_tmp)\n",
    "    df2.to_csv(fn_tmp, float_format='%.5f', index=False)\n",
    "    del df2\n",
    "    del df\n",
    "    for item in items:\n",
    "        fn_tmp = '../cache/train10_t_store{}_{}_next_promo_tmp.csv'.format(store_num, item)\n",
    "        delete_file_if_exists(fn_tmp)"
   ]
  },
  {
   "cell_type": "code",
   "execution_count": 38,
   "metadata": {
    "collapsed": true
   },
   "outputs": [],
   "source": [
    "def days_from_prev_promotion(store_num):\n",
    "    fn = '../cache/bkup/train10_t_store{}.csv'.format(store_num)\n",
    "    df =pd.read_csv(fn)\n",
    "    df['dts'] = df.date.map(np.datetime64)\n",
    "    df_min_date = np.min(df.dts)\n",
    "    df_max_date = np.min(df.dts)\n",
    "    max_days = ((df_max_date - df_min_date))/np.timedelta64(1, 'D')\n",
    "    n = 0\n",
    "    items = list(set(df.store_item_nbr))\n",
    "    for item in items:\n",
    "        n = 1\n",
    "        df_it = df[(df.store_item_nbr == item)].reset_index(drop=True)\n",
    "        \n",
    "        df_it['pe'] = 0 # promotion event\n",
    "        df_it['pe'][df_it.onpromotion == True] = 1\n",
    "        promo_indices = list(np.transpose(*np.where(df_it.pe)))\n",
    "        \n",
    "        df_it['days_from_prev_promo'] = max_days\n",
    "        last_loc = len(df_it)-1\n",
    "        for j in promo_indices:\n",
    "            promo_date = df_it.loc[j, 'dts']\n",
    "            while last_loc > j:\n",
    "                curr_date = df_it.loc[last_loc, 'dts']\n",
    "                if(curr_date == promo_date):\n",
    "                    df_it.loc[last_loc, 'days_from_prev_promo'] = 0\n",
    "                    continue\n",
    "                diff = int((promo_date - curr_date)/ np.timedelta64(1, 'D'))\n",
    "                df_it.loc[last_loc, 'days_from_prev_promo'] = abs(diff)\n",
    "                last_loc -= 1    \n",
    "            if last_loc == j:\n",
    "                df_it.loc[last_loc, 'days_from_prev_promo'] = 0\n",
    "                last_loc -= 1\n",
    "        fn_tmp = '../cache/train10_t_store{}_{}_prev_promo_tmp.csv'.format(store_num, item)\n",
    "        delete_file_if_exists(fn_tmp)\n",
    "        df1 = pd.DataFrame()\n",
    "        df1['id'] = df_it['id'].values\n",
    "        df1['days_from_prev_promo'] = df_it['days_from_prev_promo'].values\n",
    "        df1.to_csv(fn_tmp, float_format='%.5f', index=False)\n",
    "        del df1\n",
    "    df2 = pd.DataFrame()\n",
    "    for item in items:\n",
    "        fn_tmp = '../cache/train10_t_store{}_{}_prev_promo_tmp.csv'.format(store_num, item)\n",
    "        df1 = pd.read_csv(fn_tmp)\n",
    "        df2 = pd.concat([df2, df1], axis=0)\n",
    "    df2 = df2.sort('id')\n",
    "    df = df[(df.dts >= np.datetime64('2015-01-01')) & (df.dts <= np.datetime64('2017-08-15'))]\n",
    "    min_id = df.iloc[0]['id']\n",
    "    df2 = df2[df2.id >= min_id]\n",
    "    assert(len(df) == len(df2))\n",
    "    # assert(df.id == df2.id)\n",
    "    s = sum(df2.isnull().any()==True) # print NA\n",
    "    print(s)\n",
    "    if s > 0:\n",
    "        print(df2.isnull().sum())\n",
    "    fn_tmp = '../cache/train10_t_store{}_days_from_prev_promo.csv'.format(store_num)\n",
    "    delete_file_if_exists(fn_tmp)\n",
    "    df2.to_csv(fn_tmp, float_format='%.5f', index=False)\n",
    "    del df2\n",
    "    del df\n",
    "    for item in items:\n",
    "        fn_tmp = '../cache/train10_t_store{}_{}_prev_promo_tmp.csv'.format(store_num, item)\n",
    "        delete_file_if_exists(fn_tmp)"
   ]
  },
  {
   "cell_type": "code",
   "execution_count": 39,
   "metadata": {
    "collapsed": true
   },
   "outputs": [],
   "source": [
    "def days_from_next_event(store_num):\n",
    "    fn = '../cache/bkup/train10_t_store{}.csv'.format(store_num)\n",
    "    df =pd.read_csv(fn)\n",
    "    df['dts'] = df.date.map(np.datetime64)\n",
    "    df_min_date = np.min(df.dts)\n",
    "    df_max_date = np.min(df.dts)\n",
    "    max_days = ((df_max_date - df_min_date))/np.timedelta64(1, 'D')\n",
    "    n = 0\n",
    "    items = list(set(df.store_item_nbr))\n",
    "    for item in items:\n",
    "        n = 1\n",
    "        df_it = df[(df.store_item_nbr == item)].reset_index(drop=True)\n",
    "        \n",
    "        df_it['pe'] = 0 # promotion event\n",
    "        df_it['pe'][df_it.h_type == 'Event'] = 1\n",
    "        promo_indices = list(np.transpose(*np.where(df_it.pe)))\n",
    "        \n",
    "        df_it['days_from_next_event'] = max_days\n",
    "        last_loc = 0\n",
    "        for j in promo_indices:\n",
    "            promo_date = df_it.loc[j, 'dts']\n",
    "            while last_loc < j:\n",
    "                curr_date = df_it.loc[last_loc, 'dts']\n",
    "                if(curr_date == promo_date):\n",
    "                    df_it.loc[last_loc, 'days_from_next_event'] = 0\n",
    "                    continue\n",
    "                diff = int((promo_date - curr_date)/ np.timedelta64(1, 'D'))\n",
    "                df_it.loc[last_loc, 'days_from_next_event'] = diff\n",
    "                last_loc += 1    \n",
    "            if last_loc == j:\n",
    "                df_it.loc[last_loc, 'days_from_next_event'] = 0\n",
    "                last_loc += 1\n",
    "        fn_tmp = '../cache/train10_t_store{}_{}_next_event_tmp.csv'.format(store_num, item)\n",
    "        delete_file_if_exists(fn_tmp)\n",
    "        df1 = pd.DataFrame()\n",
    "        df1['id'] = df_it['id'].values\n",
    "        df1['days_from_next_event'] = df_it['days_from_next_event'].values\n",
    "        df1.to_csv(fn_tmp, float_format='%.5f', index=False)\n",
    "        del df1\n",
    "    df2 = pd.DataFrame()\n",
    "    for item in items:\n",
    "        fn_tmp = '../cache/train10_t_store{}_{}_next_event_tmp.csv'.format(store_num, item)\n",
    "        df1 = pd.read_csv(fn_tmp)\n",
    "        df2 = pd.concat([df2, df1], axis=0)\n",
    "    df2 = df2.sort('id')\n",
    "    df = df[(df.dts >= np.datetime64('2015-01-01')) & (df.dts <= np.datetime64('2017-08-15'))]\n",
    "    min_id = df.iloc[0]['id']\n",
    "    df2 = df2[df2.id >= min_id]\n",
    "    assert(len(df) == len(df2))\n",
    "    # assert(df.id == df2.id)\n",
    "    s = sum(df2.isnull().any()==True) # print NA\n",
    "    print(s)\n",
    "    if s > 0:\n",
    "        print(df2.isnull().sum())\n",
    "    fn_tmp = '../cache/train10_t_store{}_days_from_next_event.csv'.format(store_num)\n",
    "    delete_file_if_exists(fn_tmp)\n",
    "    df2.to_csv(fn_tmp, float_format='%.5f', index=False)\n",
    "    del df2\n",
    "    del df\n",
    "    for item in items:\n",
    "        fn_tmp = '../cache/train10_t_store{}_{}_next_event_tmp.csv'.format(store_num, item)\n",
    "        delete_file_if_exists(fn_tmp)"
   ]
  },
  {
   "cell_type": "code",
   "execution_count": 40,
   "metadata": {
    "collapsed": true
   },
   "outputs": [],
   "source": [
    "def days_from_prev_event(store_num):\n",
    "    fn = '../cache/bkup/train10_t_store{}.csv'.format(store_num)\n",
    "    df =pd.read_csv(fn)\n",
    "    df['dts'] = df.date.map(np.datetime64)\n",
    "    df_min_date = np.min(df.dts)\n",
    "    df_max_date = np.min(df.dts)\n",
    "    max_days = ((df_max_date - df_min_date))/np.timedelta64(1, 'D')\n",
    "    n = 0\n",
    "    items = list(set(df.store_item_nbr))\n",
    "    for item in items:\n",
    "        n = 1\n",
    "        df_it = df[(df.store_item_nbr == item)].reset_index(drop=True)\n",
    "        \n",
    "        df_it['pe'] = 0 # promotion event\n",
    "        df_it['pe'][df_it.h_type == 'Event'] = 1\n",
    "        promo_indices = list(np.transpose(*np.where(df_it.pe)))\n",
    "        \n",
    "        df_it['days_from_prev_event'] = max_days\n",
    "        last_loc = len(df_it)-1\n",
    "        for j in promo_indices:\n",
    "            promo_date = df_it.loc[j, 'dts']\n",
    "            while last_loc > j:\n",
    "                curr_date = df_it.loc[last_loc, 'dts']\n",
    "                if(curr_date == promo_date):\n",
    "                    df_it.loc[last_loc, 'days_from_prev_event'] = 0\n",
    "                    continue\n",
    "                diff = int((promo_date - curr_date)/ np.timedelta64(1, 'D'))\n",
    "                df_it.loc[last_loc, 'days_from_prev_event'] = abs(diff)\n",
    "                last_loc -= 1    \n",
    "            if last_loc == j:\n",
    "                df_it.loc[last_loc, 'days_from_prev_event'] = 0\n",
    "                last_loc -= 1\n",
    "        fn_tmp = '../cache/train10_t_store{}_{}_prev_event_tmp.csv'.format(store_num, item)\n",
    "        delete_file_if_exists(fn_tmp)\n",
    "        df1 = pd.DataFrame()\n",
    "        df1['id'] = df_it['id'].values\n",
    "        df1['days_from_prev_event'] = df_it['days_from_prev_event'].values\n",
    "        df1.to_csv(fn_tmp, float_format='%.5f', index=False)\n",
    "        del df1\n",
    "    df2 = pd.DataFrame()\n",
    "    for item in items:\n",
    "        fn_tmp = '../cache/train10_t_store{}_{}_prev_event_tmp.csv'.format(store_num, item)\n",
    "        df1 = pd.read_csv(fn_tmp)\n",
    "        df2 = pd.concat([df2, df1], axis=0)\n",
    "    df2 = df2.sort('id')\n",
    "    df = df[(df.dts >= np.datetime64('2015-01-01')) & (df.dts <= np.datetime64('2017-08-15'))]\n",
    "    min_id = df.iloc[0]['id']\n",
    "    df2 = df2[df2.id >= min_id]\n",
    "    assert(len(df) == len(df2))\n",
    "    # assert(df.id == df2.id)\n",
    "    s = sum(df2.isnull().any()==True) # print NA\n",
    "    print(s)\n",
    "    if s > 0:\n",
    "        print(df2.isnull().sum())\n",
    "    fn_tmp = '../cache/train10_t_store{}_days_from_prev_event.csv'.format(store_num)\n",
    "    delete_file_if_exists(fn_tmp)\n",
    "    df2.to_csv(fn_tmp, float_format='%.5f', index=False)\n",
    "    del df2\n",
    "    del df\n",
    "    for item in items:\n",
    "        fn_tmp = '../cache/train10_t_store{}_{}_prev_event_tmp.csv'.format(store_num, item)\n",
    "        delete_file_if_exists(fn_tmp)"
   ]
  },
  {
   "cell_type": "code",
   "execution_count": 41,
   "metadata": {
    "collapsed": true
   },
   "outputs": [],
   "source": [
    "def days_from_next_holiday(store_num):\n",
    "    fn = '../cache/bkup/train10_t_store{}.csv'.format(store_num)\n",
    "    df =pd.read_csv(fn)\n",
    "    df['dts'] = df.date.map(np.datetime64)\n",
    "    df_min_date = np.min(df.dts)\n",
    "    df_max_date = np.min(df.dts)\n",
    "    max_days = ((df_max_date - df_min_date))/np.timedelta64(1, 'D')\n",
    "    n = 0\n",
    "    items = list(set(df.store_item_nbr))\n",
    "    for item in items:\n",
    "        n = 1\n",
    "        df_it = df[(df.store_item_nbr == item)].reset_index(drop=True)\n",
    "        \n",
    "        df_it['pe'] = 0 # promotion event\n",
    "        df_it['pe'][df_it.h_type == 'Holiday'] = 1\n",
    "        promo_indices = list(np.transpose(*np.where(df_it.pe)))\n",
    "        \n",
    "        df_it['days_from_next_holiday'] = max_days\n",
    "        last_loc = 0\n",
    "        for j in promo_indices:\n",
    "            promo_date = df_it.loc[j, 'dts']\n",
    "            while last_loc < j:\n",
    "                curr_date = df_it.loc[last_loc, 'dts']\n",
    "                if(curr_date == promo_date):\n",
    "                    df_it.loc[last_loc, 'days_from_next_holiday'] = 0\n",
    "                    continue\n",
    "                diff = int((promo_date - curr_date)/ np.timedelta64(1, 'D'))\n",
    "                df_it.loc[last_loc, 'days_from_next_holiday'] = diff\n",
    "                last_loc += 1    \n",
    "            if last_loc == j:\n",
    "                df_it.loc[last_loc, 'days_from_next_holiday'] = 0\n",
    "                last_loc += 1\n",
    "        fn_tmp = '../cache/train10_t_store{}_{}_next_holiday_tmp.csv'.format(store_num, item)\n",
    "        delete_file_if_exists(fn_tmp)\n",
    "        df1 = pd.DataFrame()\n",
    "        df1['id'] = df_it['id'].values\n",
    "        df1['days_from_next_holiday'] = df_it['days_from_next_holiday'].values\n",
    "        df1.to_csv(fn_tmp, float_format='%.5f', index=False)\n",
    "        del df1\n",
    "    df2 = pd.DataFrame()\n",
    "    for item in items:\n",
    "        fn_tmp = '../cache/train10_t_store{}_{}_next_holiday_tmp.csv'.format(store_num, item)\n",
    "        df1 = pd.read_csv(fn_tmp)\n",
    "        df2 = pd.concat([df2, df1], axis=0)\n",
    "    df2 = df2.sort('id')\n",
    "    df = df[(df.dts >= np.datetime64('2015-01-01')) & (df.dts <= np.datetime64('2017-08-15'))]\n",
    "    min_id = df.iloc[0]['id']\n",
    "    df2 = df2[df2.id >= min_id]\n",
    "    assert(len(df) == len(df2))\n",
    "    # assert(df.id == df2.id)\n",
    "    s = sum(df2.isnull().any()==True) # print NA\n",
    "    print(s)\n",
    "    if s > 0:\n",
    "        print(df2.isnull().sum())\n",
    "    fn_tmp = '../cache/train10_t_store{}_days_from_next_holiday.csv'.format(store_num)\n",
    "    delete_file_if_exists(fn_tmp)\n",
    "    df2.to_csv(fn_tmp, float_format='%.5f', index=False)\n",
    "    del df2\n",
    "    del df\n",
    "    for item in items:\n",
    "        fn_tmp = '../cache/train10_t_store{}_{}_next_holiday_tmp.csv'.format(store_num, item)\n",
    "        delete_file_if_exists(fn_tmp)"
   ]
  },
  {
   "cell_type": "code",
   "execution_count": 42,
   "metadata": {
    "collapsed": true
   },
   "outputs": [],
   "source": [
    "def days_from_prev_holiday(store_num):\n",
    "    fn = '../cache/bkup/train10_t_store{}.csv'.format(store_num)\n",
    "    df =pd.read_csv(fn)\n",
    "    df['dts'] = df.date.map(np.datetime64)\n",
    "    df_min_date = np.min(df.dts)\n",
    "    df_max_date = np.min(df.dts)\n",
    "    max_days = ((df_max_date - df_min_date))/np.timedelta64(1, 'D')\n",
    "    n = 0\n",
    "    items = list(set(df.store_item_nbr))\n",
    "    for item in items:\n",
    "        n = 1\n",
    "        df_it = df[(df.store_item_nbr == item)].reset_index(drop=True)\n",
    "        \n",
    "        df_it['pe'] = 0 # promotion event\n",
    "        df_it['pe'][df_it.h_type == 'Holiday'] = 1\n",
    "        promo_indices = list(np.transpose(*np.where(df_it.pe)))\n",
    "        \n",
    "        df_it['days_from_prev_holiday'] = max_days\n",
    "        last_loc = len(df_it)-1\n",
    "        for j in promo_indices:\n",
    "            promo_date = df_it.loc[j, 'dts']\n",
    "            while last_loc > j:\n",
    "                curr_date = df_it.loc[last_loc, 'dts']\n",
    "                if(curr_date == promo_date):\n",
    "                    df_it.loc[last_loc, 'days_from_prev_holiday'] = 0\n",
    "                    continue\n",
    "                diff = int((promo_date - curr_date)/ np.timedelta64(1, 'D'))\n",
    "                df_it.loc[last_loc, 'days_from_prev_holiday'] = abs(diff)\n",
    "                last_loc -= 1    \n",
    "            if last_loc == j:\n",
    "                df_it.loc[last_loc, 'days_from_prev_holiday'] = 0\n",
    "                last_loc -= 1\n",
    "        fn_tmp = '../cache/train10_t_store{}_{}_prev_holiday_tmp.csv'.format(store_num, item)\n",
    "        delete_file_if_exists(fn_tmp)\n",
    "        df1 = pd.DataFrame()\n",
    "        df1['id'] = df_it['id'].values\n",
    "        df1['days_from_prev_holiday'] = df_it['days_from_prev_holiday'].values\n",
    "        df1.to_csv(fn_tmp, float_format='%.5f', index=False)\n",
    "        del df1\n",
    "    df2 = pd.DataFrame()\n",
    "    for item in items:\n",
    "        fn_tmp = '../cache/train10_t_store{}_{}_prev_holiday_tmp.csv'.format(store_num, item)\n",
    "        df1 = pd.read_csv(fn_tmp)\n",
    "        df2 = pd.concat([df2, df1], axis=0)\n",
    "    df2 = df2.sort('id')\n",
    "    df = df[(df.dts >= np.datetime64('2015-01-01')) & (df.dts <= np.datetime64('2017-08-15'))]\n",
    "    min_id = df.iloc[0]['id']\n",
    "    df2 = df2[df2.id >= min_id]\n",
    "    assert(len(df) == len(df2))\n",
    "    # assert(df.id == df2.id)\n",
    "    s = sum(df2.isnull().any()==True) # print NA\n",
    "    print(s)\n",
    "    if s > 0:\n",
    "        print(df2.isnull().sum())\n",
    "    fn_tmp = '../cache/train10_t_store{}_days_from_prev_holiday.csv'.format(store_num)\n",
    "    delete_file_if_exists(fn_tmp)\n",
    "    df2.to_csv(fn_tmp, float_format='%.5f', index=False)\n",
    "    del df2\n",
    "    del df\n",
    "    for item in items:\n",
    "        fn_tmp = '../cache/train10_t_store{}_{}_prev_holiday_tmp.csv'.format(store_num, item)\n",
    "        delete_file_if_exists(fn_tmp)"
   ]
  },
  {
   "cell_type": "code",
   "execution_count": 43,
   "metadata": {
    "collapsed": true
   },
   "outputs": [],
   "source": [
    "def days_from_next_nw(store_num):\n",
    "    fn = '../cache/bkup/test7_t_store{}.csv'.format(store_num)\n",
    "    df =pd.read_csv(fn)\n",
    "    df['dts'] = df.date.map(np.datetime64)\n",
    "    df_min_date = np.min(df.dts)\n",
    "    df_max_date = np.min(df.dts)\n",
    "    max_days = ((df_max_date - df_min_date))/np.timedelta64(1, 'D')\n",
    "    n = 0\n",
    "    items = list(set(df.store_item_nbr))\n",
    "    for item in items:\n",
    "        n = 1\n",
    "        df_it = df[(df.store_item_nbr == item)].reset_index(drop=True)\n",
    "        \n",
    "        df_it['pe'] = 0 # promotion event\n",
    "        df_it['pe'][df_it.h_type != 'Work Day'] = 1\n",
    "        promo_indices = list(np.transpose(*np.where(df_it.pe)))\n",
    "        \n",
    "        df_it['days_from_next_nw'] = max_days\n",
    "        last_loc = 0\n",
    "        for j in promo_indices:\n",
    "            promo_date = df_it.loc[j, 'dts']\n",
    "            while last_loc < j:\n",
    "                curr_date = df_it.loc[last_loc, 'dts']\n",
    "                if(curr_date == promo_date):\n",
    "                    df_it.loc[last_loc, 'days_from_next_nw'] = 0\n",
    "                    continue\n",
    "                diff = int((promo_date - curr_date)/ np.timedelta64(1, 'D'))\n",
    "                df_it.loc[last_loc, 'days_from_next_nw'] = diff\n",
    "                last_loc += 1    \n",
    "            if last_loc == j:\n",
    "                df_it.loc[last_loc, 'days_from_next_nw'] = 0\n",
    "                last_loc += 1\n",
    "        fn_tmp = '../cache/test7_t_store{}_{}_next_nw_tmp.csv'.format(store_num, item)\n",
    "        delete_file_if_exists(fn_tmp)\n",
    "        df1 = pd.DataFrame()\n",
    "        df1['id'] = df_it['id'].values\n",
    "        df1['days_from_next_nw'] = df_it['days_from_next_nw'].values\n",
    "        df1.to_csv(fn_tmp, float_format='%.5f', index=False)\n",
    "        del df1\n",
    "    df2 = pd.DataFrame()\n",
    "    for item in items:\n",
    "        fn_tmp = '../cache/test7_t_store{}_{}_next_nw_tmp.csv'.format(store_num, item)\n",
    "        df1 = pd.read_csv(fn_tmp)\n",
    "        df2 = pd.concat([df2, df1], axis=0)\n",
    "    df2 = df2.sort('id')\n",
    "    df = df[(df.dts >= np.datetime64('2015-01-01')) & (df.dts <= np.datetime64('2017-08-15'))]\n",
    "    min_id = df.iloc[0]['id']\n",
    "    df2 = df2[df2.id >= min_id]\n",
    "    assert(len(df) == len(df2))\n",
    "    # assert(df.id == df2.id)\n",
    "    s = sum(df2.isnull().any()==True) # print NA\n",
    "    print(s)\n",
    "    if s > 0:\n",
    "        print(df2.isnull().sum())\n",
    "    fn_tmp = '../cache/test7_t_store{}_days_from_next_nw.csv'.format(store_num)\n",
    "    delete_file_if_exists(fn_tmp)\n",
    "    df2.to_csv(fn_tmp, float_format='%.5f', index=False)\n",
    "    del df2\n",
    "    del df\n",
    "    for item in items:\n",
    "        fn_tmp = '../cache/test7_t_store{}_{}_next_nw_tmp.csv'.format(store_num, item)\n",
    "        delete_file_if_exists(fn_tmp)"
   ]
  },
  {
   "cell_type": "code",
   "execution_count": 44,
   "metadata": {
    "collapsed": true
   },
   "outputs": [],
   "source": [
    "def days_from_prev_nw(store_num):\n",
    "    fn = '../cache/bkup/train10_t_store{}.csv'.format(store_num)\n",
    "    df =pd.read_csv(fn)\n",
    "    df['dts'] = df.date.map(np.datetime64)\n",
    "    df_min_date = np.min(df.dts)\n",
    "    df_max_date = np.min(df.dts)\n",
    "    max_days = ((df_max_date - df_min_date))/np.timedelta64(1, 'D')\n",
    "    n = 0\n",
    "    items = list(set(df.store_item_nbr))\n",
    "    for item in items:\n",
    "        n = 1\n",
    "        df_it = df[(df.store_item_nbr == item)].reset_index(drop=True)\n",
    "        \n",
    "        df_it['pe'] = 0 # promotion event\n",
    "        df_it['pe'][df_it.h_type != 'Work Day'] = 1\n",
    "        promo_indices = list(np.transpose(*np.where(df_it.pe)))\n",
    "        \n",
    "        df_it['days_from_prev_nw'] = max_days\n",
    "        last_loc = len(df_it)-1\n",
    "        for j in promo_indices:\n",
    "            promo_date = df_it.loc[j, 'dts']\n",
    "            while last_loc > j:\n",
    "                curr_date = df_it.loc[last_loc, 'dts']\n",
    "                if(curr_date == promo_date):\n",
    "                    df_it.loc[last_loc, 'days_from_prev_nw'] = 0\n",
    "                    continue\n",
    "                diff = int((promo_date - curr_date)/ np.timedelta64(1, 'D'))\n",
    "                df_it.loc[last_loc, 'days_from_prev_nw'] = abs(diff)\n",
    "                last_loc -= 1    \n",
    "            if last_loc == j:\n",
    "                df_it.loc[last_loc, 'days_from_prev_nw'] = 0\n",
    "                last_loc -= 1\n",
    "        fn_tmp = '../cache/train10_t_store{}_{}_prev_nw_tmp.csv'.format(store_num, item)\n",
    "        delete_file_if_exists(fn_tmp)\n",
    "        df1 = pd.DataFrame()\n",
    "        df1['id'] = df_it['id'].values\n",
    "        df1['days_from_prev_nw'] = df_it['days_from_prev_nw'].values\n",
    "        df1.to_csv(fn_tmp, float_format='%.5f', index=False)\n",
    "        del df1\n",
    "    df2 = pd.DataFrame()\n",
    "    for item in items:\n",
    "        fn_tmp = '../cache/train10_t_store{}_{}_prev_nw_tmp.csv'.format(store_num, item)\n",
    "        df1 = pd.read_csv(fn_tmp)\n",
    "        df2 = pd.concat([df2, df1], axis=0)\n",
    "    df2 = df2.sort('id')\n",
    "    df = df[(df.dts >= np.datetime64('2015-01-01')) & (df.dts <= np.datetime64('2017-08-15'))]\n",
    "    min_id = df.iloc[0]['id']\n",
    "    df2 = df2[df2.id >= min_id]\n",
    "    assert(len(df) == len(df2))\n",
    "    # assert(df.id == df2.id)\n",
    "    s = sum(df2.isnull().any()==True) # print NA\n",
    "    print(s)\n",
    "    if s > 0:\n",
    "        print(df2.isnull().sum())\n",
    "    fn_tmp = '../cache/train10_t_store{}_days_from_prev_nw.csv'.format(store_num)\n",
    "    delete_file_if_exists(fn_tmp)\n",
    "    df2.to_csv(fn_tmp, float_format='%.5f', index=False)\n",
    "    del df2\n",
    "    del df\n",
    "    for item in items:\n",
    "        fn_tmp = '../cache/train10_t_store{}_{}_prev_nw_tmp.csv'.format(store_num, item)\n",
    "        delete_file_if_exists(fn_tmp)"
   ]
  },
  {
   "cell_type": "code",
   "execution_count": 45,
   "metadata": {
    "collapsed": true
   },
   "outputs": [],
   "source": [
    "def days_from_next_nn(store_num):\n",
    "    fn = '../cache/bkup/test7_t_store{}.csv'.format(store_num)\n",
    "    df =pd.read_csv(fn)\n",
    "    df['dts'] = df.date.map(np.datetime64)\n",
    "    df_min_date = np.min(df.dts)\n",
    "    df_max_date = np.min(df.dts)\n",
    "    max_days = ((df_max_date - df_min_date))/np.timedelta64(1, 'D')\n",
    "    n = 0\n",
    "    items = list(set(df.store_item_nbr))\n",
    "    for item in items:\n",
    "        n = 1\n",
    "        df_it = df[(df.store_item_nbr == item)].reset_index(drop=True)\n",
    "        \n",
    "        df_it['pe'] = 0 # promotion event\n",
    "        df_it['pe'][df_it.h_desc != 'Normal'] = 1\n",
    "        promo_indices = list(np.transpose(*np.where(df_it.pe)))\n",
    "        \n",
    "        df_it['days_from_next_nn'] = max_days\n",
    "        last_loc = 0\n",
    "        for j in promo_indices:\n",
    "            promo_date = df_it.loc[j, 'dts']\n",
    "            while last_loc < j:\n",
    "                curr_date = df_it.loc[last_loc, 'dts']\n",
    "                if(curr_date == promo_date):\n",
    "                    df_it.loc[last_loc, 'days_from_next_nn'] = 0\n",
    "                    continue\n",
    "                diff = int((promo_date - curr_date)/ np.timedelta64(1, 'D'))\n",
    "                df_it.loc[last_loc, 'days_from_next_nn'] = diff\n",
    "                last_loc += 1    \n",
    "            if last_loc == j:\n",
    "                df_it.loc[last_loc, 'days_from_next_nn'] = 0\n",
    "                last_loc += 1\n",
    "        fn_tmp = '../cache/test7_t_store{}_{}_next_nn_tmp.csv'.format(store_num, item)\n",
    "        delete_file_if_exists(fn_tmp)\n",
    "        df1 = pd.DataFrame()\n",
    "        df1['id'] = df_it['id'].values\n",
    "        df1['days_from_next_nn'] = df_it['days_from_next_nn'].values\n",
    "        df1.to_csv(fn_tmp, float_format='%.5f', index=False)\n",
    "        del df1\n",
    "    df2 = pd.DataFrame()\n",
    "    for item in items:\n",
    "        fn_tmp = '../cache/test7_t_store{}_{}_next_nn_tmp.csv'.format(store_num, item)\n",
    "        df1 = pd.read_csv(fn_tmp)\n",
    "        df2 = pd.concat([df2, df1], axis=0)\n",
    "    df2 = df2.sort('id')\n",
    "    df = df[(df.dts >= np.datetime64('2015-01-01')) & (df.dts <= np.datetime64('2017-08-15'))]\n",
    "    min_id = df.iloc[0]['id']\n",
    "    df2 = df2[df2.id >= min_id]\n",
    "    assert(len(df) == len(df2))\n",
    "    # assert(df.id == df2.id)\n",
    "    s = sum(df2.isnull().any()==True) # print NA\n",
    "    print(s)\n",
    "    if s > 0:\n",
    "        print(df2.isnull().sum())\n",
    "    fn_tmp = '../cache/test7_t_store{}_days_from_next_nn.csv'.format(store_num)\n",
    "    delete_file_if_exists(fn_tmp)\n",
    "    df2.to_csv(fn_tmp, float_format='%.5f', index=False)\n",
    "    del df2\n",
    "    del df\n",
    "    for item in items:\n",
    "        fn_tmp = '../cache/test7_t_store{}_{}_next_nn_tmp.csv'.format(store_num, item)\n",
    "        delete_file_if_exists(fn_tmp)"
   ]
  },
  {
   "cell_type": "code",
   "execution_count": 46,
   "metadata": {
    "collapsed": true
   },
   "outputs": [],
   "source": [
    "def days_from_prev_nn(store_num):\n",
    "    fn = '../cache/bkup/train10_t_store{}.csv'.format(store_num)\n",
    "    df =pd.read_csv(fn)\n",
    "    df['dts'] = df.date.map(np.datetime64)\n",
    "    df_min_date = np.min(df.dts)\n",
    "    df_max_date = np.min(df.dts)\n",
    "    max_days = ((df_max_date - df_min_date))/np.timedelta64(1, 'D')\n",
    "    n = 0\n",
    "    items = list(set(df.store_item_nbr))\n",
    "    for item in items:\n",
    "        n = 1\n",
    "        df_it = df[(df.store_item_nbr == item)].reset_index(drop=True)\n",
    "        \n",
    "        df_it['pe'] = 0 # promotion event\n",
    "        df_it['pe'][df_it.h_desc != 'Normal'] = 1\n",
    "        promo_indices = list(np.transpose(*np.where(df_it.pe)))\n",
    "        \n",
    "        df_it['days_from_prev_nn'] = max_days\n",
    "        last_loc = len(df_it)-1\n",
    "        for j in promo_indices:\n",
    "            promo_date = df_it.loc[j, 'dts']\n",
    "            while last_loc > j:\n",
    "                curr_date = df_it.loc[last_loc, 'dts']\n",
    "                if(curr_date == promo_date):\n",
    "                    df_it.loc[last_loc, 'days_from_prev_nn'] = 0\n",
    "                    continue\n",
    "                diff = int((promo_date - curr_date)/ np.timedelta64(1, 'D'))\n",
    "                df_it.loc[last_loc, 'days_from_prev_nn'] = abs(diff)\n",
    "                last_loc -= 1    \n",
    "            if last_loc == j:\n",
    "                df_it.loc[last_loc, 'days_from_prev_nn'] = 0\n",
    "                last_loc -= 1\n",
    "        fn_tmp = '../cache/train10_t_store{}_{}_prev_nn_tmp.csv'.format(store_num, item)\n",
    "        delete_file_if_exists(fn_tmp)\n",
    "        df1 = pd.DataFrame()\n",
    "        df1['id'] = df_it['id'].values\n",
    "        df1['days_from_prev_nn'] = df_it['days_from_prev_nn'].values\n",
    "        df1.to_csv(fn_tmp, float_format='%.5f', index=False)\n",
    "        del df1\n",
    "    df2 = pd.DataFrame()\n",
    "    for item in items:\n",
    "        fn_tmp = '../cache/train10_t_store{}_{}_prev_nn_tmp.csv'.format(store_num, item)\n",
    "        df1 = pd.read_csv(fn_tmp)\n",
    "        df2 = pd.concat([df2, df1], axis=0)\n",
    "    df2 = df2.sort('id')\n",
    "    df = df[(df.dts >= np.datetime64('2015-01-01')) & (df.dts <= np.datetime64('2017-08-15'))]\n",
    "    min_id = df.iloc[0]['id']\n",
    "    df2 = df2[df2.id >= min_id]\n",
    "    assert(len(df) == len(df2))\n",
    "    # assert(df.id == df2.id)\n",
    "    s = sum(df2.isnull().any()==True) # print NA\n",
    "    print(s)\n",
    "    if s > 0:\n",
    "        print(df2.isnull().sum())\n",
    "    fn_tmp = '../cache/train10_t_store{}_days_from_prev_nn.csv'.format(store_num)\n",
    "    delete_file_if_exists(fn_tmp)\n",
    "    df2.to_csv(fn_tmp, float_format='%.5f', index=False)\n",
    "    del df2\n",
    "    del df\n",
    "    for item in items:\n",
    "        fn_tmp = '../cache/train10_t_store{}_{}_prev_nn_tmp.csv'.format(store_num, item)\n",
    "        delete_file_if_exists(fn_tmp)"
   ]
  },
  {
   "cell_type": "code",
   "execution_count": 47,
   "metadata": {
    "collapsed": false
   },
   "outputs": [],
   "source": [
    "# days_from_next_promotion(df2)"
   ]
  },
  {
   "cell_type": "code",
   "execution_count": 48,
   "metadata": {
    "collapsed": false
   },
   "outputs": [],
   "source": [
    "# for i in tqdm(range(1,55)):\n",
    "# #     days_from_next_promotion(i)\n",
    "#     days_from_prev_promotion(i)\n",
    "# #     days_from_next_event(i)\n",
    "# #     days_from_prev_event(i)\n",
    "# #     days_from_next_holiday(i)\n",
    "# #     days_from_prev_holiday(i)\n",
    "# #     days_from_next_nw(i)\n",
    "# #     days_from_prev_nw(i)\n",
    "# #     days_from_next_nn(i)\n",
    "# #     days_from_prev_nn(i)"
   ]
  },
  {
   "cell_type": "code",
   "execution_count": 48,
   "metadata": {
    "collapsed": true
   },
   "outputs": [],
   "source": [
    "def days_from_prev_promotion_test(store_num):\n",
    "    fn = '../cache/bkup/test7_t_store{}.csv'.format(store_num)\n",
    "    df =pd.read_csv(fn)\n",
    "    df['dts'] = df.date.map(np.datetime64)\n",
    "    df_min_date = np.min(df.dts)\n",
    "    df_max_date = np.min(df.dts)\n",
    "    max_days = ((df_max_date - df_min_date))/np.timedelta64(1, 'D')\n",
    "    n = 0\n",
    "    items = list(set(df.store_item_nbr))\n",
    "    for item in items:\n",
    "        n = 1\n",
    "        df_it = df[(df.store_item_nbr == item)].reset_index(drop=True)\n",
    "        \n",
    "        df_it['pe'] = 0 # promotion event\n",
    "        df_it['pe'][df_it.onpromotion == True] = 1\n",
    "        promo_indices = list(np.transpose(*np.where(df_it.pe)))\n",
    "        \n",
    "        df_it['days_from_prev_promo'] = max_days\n",
    "        last_loc = len(df_it)-1\n",
    "        for j in promo_indices:\n",
    "            promo_date = df_it.loc[j, 'dts']\n",
    "            while last_loc > j:\n",
    "                curr_date = df_it.loc[last_loc, 'dts']\n",
    "                if(curr_date == promo_date):\n",
    "                    df_it.loc[last_loc, 'days_from_prev_promo'] = 0\n",
    "                    continue\n",
    "                diff = int((promo_date - curr_date)/ np.timedelta64(1, 'D'))\n",
    "                df_it.loc[last_loc, 'days_from_prev_promo'] = abs(diff)\n",
    "                last_loc -= 1    \n",
    "            if last_loc == j:\n",
    "                df_it.loc[last_loc, 'days_from_prev_promo'] = 0\n",
    "                last_loc -= 1\n",
    "        fn_tmp = '../cache/test7_t_store{}_{}_prev_promo_tmp.csv'.format(store_num, item)\n",
    "        delete_file_if_exists(fn_tmp)\n",
    "        df1 = pd.DataFrame()\n",
    "        df1['id'] = df_it['id'].values\n",
    "        df1['days_from_prev_promo'] = df_it['days_from_prev_promo'].values\n",
    "        df1.to_csv(fn_tmp, float_format='%.5f', index=False)\n",
    "        del df1\n",
    "    df2 = pd.DataFrame()\n",
    "    for item in items:\n",
    "        fn_tmp = '../cache/test7_t_store{}_{}_prev_promo_tmp.csv'.format(store_num, item)\n",
    "        df1 = pd.read_csv(fn_tmp)\n",
    "        df2 = pd.concat([df2, df1], axis=0)\n",
    "    df2 = df2.sort_values('id')\n",
    "    df = df[(df.dts >= np.datetime64('2017-08-16')) & (df.dts <= np.datetime64('2017-08-31'))]\n",
    "    min_id = df.iloc[0]['id']\n",
    "    df2 = df2[df2.id >= min_id]\n",
    "    assert(len(df) == len(df2))\n",
    "    # assert(df.id == df2.id)\n",
    "    s = sum(df2.isnull().any()==True) # print NA\n",
    "    print(s)\n",
    "    if s > 0:\n",
    "        print(df2.isnull().sum())\n",
    "    fn_tmp = '../cache/test7_t_store{}_days_from_prev_promo.csv'.format(store_num)\n",
    "    delete_file_if_exists(fn_tmp)\n",
    "    df2.to_csv(fn_tmp, float_format='%.5f', index=False)\n",
    "    del df2\n",
    "    del df\n",
    "    for item in items:\n",
    "        fn_tmp = '../cache/test7_t_store{}_{}_prev_promo_tmp.csv'.format(store_num, item)\n",
    "        delete_file_if_exists(fn_tmp)"
   ]
  },
  {
   "cell_type": "code",
   "execution_count": 50,
   "metadata": {
    "collapsed": false
   },
   "outputs": [
    {
     "name": "stderr",
     "output_type": "stream",
     "text": [
      "  0%|          | 0/54 [00:00<?, ?it/s]/opt/conda/lib/python3.6/site-packages/ipykernel/__main__.py:15: SettingWithCopyWarning: \n",
      "A value is trying to be set on a copy of a slice from a DataFrame\n",
      "\n",
      "See the caveats in the documentation: http://pandas.pydata.org/pandas-docs/stable/indexing.html#indexing-view-versus-copy\n",
      "/opt/conda/lib/python3.6/site-packages/ipykernel/__main__.py:45: FutureWarning: sort(columns=....) is deprecated, use sort_values(by=.....)\n"
     ]
    },
    {
     "name": "stdout",
     "output_type": "stream",
     "text": [
      "0\n"
     ]
    },
    {
     "name": "stderr",
     "output_type": "stream",
     "text": [
      "\r",
      "  2%|▏         | 1/54 [04:23<3:52:37, 263.36s/it]"
     ]
    },
    {
     "name": "stdout",
     "output_type": "stream",
     "text": [
      "0\n"
     ]
    },
    {
     "name": "stderr",
     "output_type": "stream",
     "text": [
      "  6%|▌         | 3/54 [11:13<3:17:05, 231.87s/it]"
     ]
    },
    {
     "name": "stdout",
     "output_type": "stream",
     "text": [
      "0\n",
      "0\n"
     ]
    },
    {
     "name": "stderr",
     "output_type": "stream",
     "text": [
      "  9%|▉         | 5/54 [17:03<2:45:22, 202.50s/it]"
     ]
    },
    {
     "name": "stdout",
     "output_type": "stream",
     "text": [
      "0\n"
     ]
    },
    {
     "name": "stderr",
     "output_type": "stream",
     "text": [
      "\r",
      " 11%|█         | 6/54 [19:53<2:34:01, 192.52s/it]"
     ]
    },
    {
     "name": "stdout",
     "output_type": "stream",
     "text": [
      "0\n"
     ]
    },
    {
     "name": "stderr",
     "output_type": "stream",
     "text": [
      "\r",
      " 13%|█▎        | 7/54 [22:42<2:25:26, 185.67s/it]"
     ]
    },
    {
     "name": "stdout",
     "output_type": "stream",
     "text": [
      "0\n"
     ]
    },
    {
     "name": "stderr",
     "output_type": "stream",
     "text": [
      "\r",
      " 15%|█▍        | 8/54 [25:32<2:18:39, 180.86s/it]"
     ]
    },
    {
     "name": "stdout",
     "output_type": "stream",
     "text": [
      "0\n"
     ]
    },
    {
     "name": "stderr",
     "output_type": "stream",
     "text": [
      "\r",
      " 17%|█▋        | 9/54 [28:23<2:13:27, 177.94s/it]"
     ]
    },
    {
     "name": "stdout",
     "output_type": "stream",
     "text": [
      "0\n"
     ]
    },
    {
     "name": "stderr",
     "output_type": "stream",
     "text": [
      "\r",
      " 19%|█▊        | 10/54 [31:13<2:08:42, 175.51s/it]"
     ]
    },
    {
     "name": "stdout",
     "output_type": "stream",
     "text": [
      "0\n"
     ]
    },
    {
     "name": "stderr",
     "output_type": "stream",
     "text": [
      "\r",
      " 20%|██        | 11/54 [34:05<2:05:02, 174.47s/it]"
     ]
    },
    {
     "name": "stdout",
     "output_type": "stream",
     "text": [
      "0\n"
     ]
    },
    {
     "name": "stderr",
     "output_type": "stream",
     "text": [
      "\r",
      " 22%|██▏       | 12/54 [36:54<2:01:05, 172.99s/it]"
     ]
    },
    {
     "name": "stdout",
     "output_type": "stream",
     "text": [
      "0\n"
     ]
    },
    {
     "name": "stderr",
     "output_type": "stream",
     "text": [
      "\r",
      " 24%|██▍       | 13/54 [39:44<1:57:25, 171.85s/it]"
     ]
    },
    {
     "name": "stdout",
     "output_type": "stream",
     "text": [
      "0\n"
     ]
    },
    {
     "name": "stderr",
     "output_type": "stream",
     "text": [
      "\r",
      " 26%|██▌       | 14/54 [42:14<1:50:13, 165.33s/it]"
     ]
    },
    {
     "name": "stdout",
     "output_type": "stream",
     "text": [
      "0\n"
     ]
    },
    {
     "name": "stderr",
     "output_type": "stream",
     "text": [
      "\r",
      " 28%|██▊       | 15/54 [44:37<1:43:13, 158.81s/it]"
     ]
    },
    {
     "name": "stdout",
     "output_type": "stream",
     "text": [
      "0\n"
     ]
    },
    {
     "name": "stderr",
     "output_type": "stream",
     "text": [
      "\r",
      " 30%|██▉       | 16/54 [47:01<1:37:38, 154.17s/it]"
     ]
    },
    {
     "name": "stdout",
     "output_type": "stream",
     "text": [
      "0\n"
     ]
    },
    {
     "name": "stderr",
     "output_type": "stream",
     "text": [
      "\r",
      " 31%|███▏      | 17/54 [49:24<1:33:00, 150.83s/it]"
     ]
    },
    {
     "name": "stdout",
     "output_type": "stream",
     "text": [
      "0\n"
     ]
    },
    {
     "name": "stderr",
     "output_type": "stream",
     "text": [
      "\r",
      " 33%|███▎      | 18/54 [51:48<1:29:14, 148.74s/it]"
     ]
    },
    {
     "name": "stdout",
     "output_type": "stream",
     "text": [
      "0\n"
     ]
    },
    {
     "name": "stderr",
     "output_type": "stream",
     "text": [
      "\r",
      " 35%|███▌      | 19/54 [54:10<1:25:40, 146.88s/it]"
     ]
    },
    {
     "name": "stdout",
     "output_type": "stream",
     "text": [
      "0\n"
     ]
    },
    {
     "name": "stderr",
     "output_type": "stream",
     "text": [
      "\r",
      " 37%|███▋      | 20/54 [56:35<1:22:48, 146.14s/it]"
     ]
    },
    {
     "name": "stdout",
     "output_type": "stream",
     "text": [
      "0\n"
     ]
    },
    {
     "name": "stderr",
     "output_type": "stream",
     "text": [
      "\r",
      " 39%|███▉      | 21/54 [58:58<1:19:58, 145.40s/it]"
     ]
    },
    {
     "name": "stdout",
     "output_type": "stream",
     "text": [
      "0\n"
     ]
    },
    {
     "name": "stderr",
     "output_type": "stream",
     "text": [
      "\r",
      " 41%|████      | 22/54 [1:01:21<1:17:11, 144.74s/it]"
     ]
    },
    {
     "name": "stdout",
     "output_type": "stream",
     "text": [
      "0\n"
     ]
    },
    {
     "name": "stderr",
     "output_type": "stream",
     "text": [
      "\r",
      " 43%|████▎     | 23/54 [1:03:44<1:14:25, 144.05s/it]"
     ]
    },
    {
     "name": "stdout",
     "output_type": "stream",
     "text": [
      "0\n"
     ]
    },
    {
     "name": "stderr",
     "output_type": "stream",
     "text": [
      "\r",
      " 44%|████▍     | 24/54 [1:06:07<1:11:50, 143.69s/it]"
     ]
    },
    {
     "name": "stdout",
     "output_type": "stream",
     "text": [
      "0\n"
     ]
    },
    {
     "name": "stderr",
     "output_type": "stream",
     "text": [
      "\r",
      " 46%|████▋     | 25/54 [1:08:29<1:09:10, 143.13s/it]"
     ]
    },
    {
     "name": "stdout",
     "output_type": "stream",
     "text": [
      "0\n"
     ]
    },
    {
     "name": "stderr",
     "output_type": "stream",
     "text": [
      "\r",
      " 48%|████▊     | 26/54 [1:10:50<1:06:34, 142.67s/it]"
     ]
    },
    {
     "name": "stdout",
     "output_type": "stream",
     "text": [
      "0\n"
     ]
    },
    {
     "name": "stderr",
     "output_type": "stream",
     "text": [
      "\r",
      " 50%|█████     | 27/54 [1:13:13<1:04:11, 142.64s/it]"
     ]
    },
    {
     "name": "stdout",
     "output_type": "stream",
     "text": [
      "0\n"
     ]
    },
    {
     "name": "stderr",
     "output_type": "stream",
     "text": [
      "\r",
      " 52%|█████▏    | 28/54 [1:15:37<1:02:03, 143.20s/it]"
     ]
    },
    {
     "name": "stdout",
     "output_type": "stream",
     "text": [
      "0\n"
     ]
    },
    {
     "name": "stderr",
     "output_type": "stream",
     "text": [
      "\r",
      " 54%|█████▎    | 29/54 [1:18:02<59:48, 143.54s/it]  "
     ]
    },
    {
     "name": "stdout",
     "output_type": "stream",
     "text": [
      "0\n"
     ]
    },
    {
     "name": "stderr",
     "output_type": "stream",
     "text": [
      "\r",
      " 56%|█████▌    | 30/54 [1:20:25<57:21, 143.39s/it]"
     ]
    },
    {
     "name": "stdout",
     "output_type": "stream",
     "text": [
      "0\n"
     ]
    },
    {
     "name": "stderr",
     "output_type": "stream",
     "text": [
      "\r",
      " 57%|█████▋    | 31/54 [1:22:48<55:01, 143.54s/it]"
     ]
    },
    {
     "name": "stdout",
     "output_type": "stream",
     "text": [
      "0\n"
     ]
    },
    {
     "name": "stderr",
     "output_type": "stream",
     "text": [
      "\r",
      " 59%|█████▉    | 32/54 [1:25:12<52:36, 143.46s/it]"
     ]
    },
    {
     "name": "stdout",
     "output_type": "stream",
     "text": [
      "0\n"
     ]
    },
    {
     "name": "stderr",
     "output_type": "stream",
     "text": [
      "\r",
      " 61%|██████    | 33/54 [1:27:36<50:16, 143.67s/it]"
     ]
    },
    {
     "name": "stdout",
     "output_type": "stream",
     "text": [
      "0\n"
     ]
    },
    {
     "name": "stderr",
     "output_type": "stream",
     "text": [
      "\r",
      " 63%|██████▎   | 34/54 [1:30:00<47:56, 143.85s/it]"
     ]
    },
    {
     "name": "stdout",
     "output_type": "stream",
     "text": [
      "0\n"
     ]
    },
    {
     "name": "stderr",
     "output_type": "stream",
     "text": [
      "\r",
      " 65%|██████▍   | 35/54 [1:32:23<45:28, 143.62s/it]"
     ]
    },
    {
     "name": "stdout",
     "output_type": "stream",
     "text": [
      "0\n"
     ]
    },
    {
     "name": "stderr",
     "output_type": "stream",
     "text": [
      "\r",
      " 67%|██████▋   | 36/54 [1:34:49<43:17, 144.30s/it]"
     ]
    },
    {
     "name": "stdout",
     "output_type": "stream",
     "text": [
      "0\n"
     ]
    },
    {
     "name": "stderr",
     "output_type": "stream",
     "text": [
      "\r",
      " 69%|██████▊   | 37/54 [1:37:12<40:44, 143.79s/it]"
     ]
    },
    {
     "name": "stdout",
     "output_type": "stream",
     "text": [
      "0\n"
     ]
    },
    {
     "name": "stderr",
     "output_type": "stream",
     "text": [
      "\r",
      " 70%|███████   | 38/54 [1:39:34<38:13, 143.34s/it]"
     ]
    },
    {
     "name": "stdout",
     "output_type": "stream",
     "text": [
      "0\n"
     ]
    },
    {
     "name": "stderr",
     "output_type": "stream",
     "text": [
      "\r",
      " 72%|███████▏  | 39/54 [1:41:58<35:52, 143.50s/it]"
     ]
    },
    {
     "name": "stdout",
     "output_type": "stream",
     "text": [
      "0\n"
     ]
    },
    {
     "name": "stderr",
     "output_type": "stream",
     "text": [
      "\r",
      " 74%|███████▍  | 40/54 [1:44:21<33:29, 143.51s/it]"
     ]
    },
    {
     "name": "stdout",
     "output_type": "stream",
     "text": [
      "0\n"
     ]
    },
    {
     "name": "stderr",
     "output_type": "stream",
     "text": [
      "\r",
      " 76%|███████▌  | 41/54 [1:46:43<30:59, 143.08s/it]"
     ]
    },
    {
     "name": "stdout",
     "output_type": "stream",
     "text": [
      "0\n"
     ]
    },
    {
     "name": "stderr",
     "output_type": "stream",
     "text": [
      "\r",
      " 78%|███████▊  | 42/54 [1:49:06<28:36, 143.04s/it]"
     ]
    },
    {
     "name": "stdout",
     "output_type": "stream",
     "text": [
      "0\n"
     ]
    },
    {
     "name": "stderr",
     "output_type": "stream",
     "text": [
      "\r",
      " 80%|███████▉  | 43/54 [1:51:31<26:17, 143.39s/it]"
     ]
    },
    {
     "name": "stdout",
     "output_type": "stream",
     "text": [
      "0\n"
     ]
    },
    {
     "name": "stderr",
     "output_type": "stream",
     "text": [
      "\r",
      " 81%|████████▏ | 44/54 [1:53:54<23:54, 143.44s/it]"
     ]
    },
    {
     "name": "stdout",
     "output_type": "stream",
     "text": [
      "0\n"
     ]
    },
    {
     "name": "stderr",
     "output_type": "stream",
     "text": [
      "\r",
      " 83%|████████▎ | 45/54 [1:56:17<21:29, 143.29s/it]"
     ]
    },
    {
     "name": "stdout",
     "output_type": "stream",
     "text": [
      "0\n"
     ]
    },
    {
     "name": "stderr",
     "output_type": "stream",
     "text": [
      "\r",
      " 85%|████████▌ | 46/54 [1:58:40<19:05, 143.21s/it]"
     ]
    },
    {
     "name": "stdout",
     "output_type": "stream",
     "text": [
      "0\n"
     ]
    },
    {
     "name": "stderr",
     "output_type": "stream",
     "text": [
      "\r",
      " 87%|████████▋ | 47/54 [2:01:04<16:43, 143.31s/it]"
     ]
    },
    {
     "name": "stdout",
     "output_type": "stream",
     "text": [
      "0\n"
     ]
    },
    {
     "name": "stderr",
     "output_type": "stream",
     "text": [
      "\r",
      " 89%|████████▉ | 48/54 [2:03:27<14:20, 143.35s/it]"
     ]
    },
    {
     "name": "stdout",
     "output_type": "stream",
     "text": [
      "0\n"
     ]
    },
    {
     "name": "stderr",
     "output_type": "stream",
     "text": [
      "\r",
      " 91%|█████████ | 49/54 [2:05:51<11:57, 143.47s/it]"
     ]
    },
    {
     "name": "stdout",
     "output_type": "stream",
     "text": [
      "0\n",
      "0\n"
     ]
    },
    {
     "name": "stderr",
     "output_type": "stream",
     "text": [
      " 94%|█████████▍| 51/54 [2:10:38<07:10, 143.55s/it]"
     ]
    },
    {
     "name": "stdout",
     "output_type": "stream",
     "text": [
      "0\n"
     ]
    },
    {
     "name": "stderr",
     "output_type": "stream",
     "text": [
      "\r",
      " 96%|█████████▋| 52/54 [2:13:01<04:46, 143.34s/it]"
     ]
    },
    {
     "name": "stdout",
     "output_type": "stream",
     "text": [
      "0\n"
     ]
    },
    {
     "name": "stderr",
     "output_type": "stream",
     "text": [
      "\r",
      " 98%|█████████▊| 53/54 [2:15:24<02:23, 143.37s/it]"
     ]
    },
    {
     "name": "stdout",
     "output_type": "stream",
     "text": [
      "0\n"
     ]
    },
    {
     "name": "stderr",
     "output_type": "stream",
     "text": [
      "\r",
      "100%|██████████| 54/54 [2:17:47<00:00, 143.23s/it]"
     ]
    },
    {
     "name": "stdout",
     "output_type": "stream",
     "text": [
      "0\n"
     ]
    },
    {
     "name": "stderr",
     "output_type": "stream",
     "text": [
      "\n"
     ]
    }
   ],
   "source": [
    "# for i in tqdm(range(1,55)):\n",
    "#     days_from_next_promotion(i)\n",
    "#     days_from_prev_promotion_test(i)\n",
    "#     days_from_next_event(i)\n",
    "#     days_from_prev_event(i)\n",
    "#     days_from_next_holiday(i)\n",
    "#     days_from_prev_holiday(i)\n",
    "#     days_from_next_nw(i)\n",
    "#     days_from_prev_nw(i)\n",
    "#     days_from_next_nn(i)\n",
    "#     days_from_prev_nn(i)"
   ]
  },
  {
   "cell_type": "code",
   "execution_count": 8,
   "metadata": {
    "collapsed": false
   },
   "outputs": [
    {
     "name": "stderr",
     "output_type": "stream",
     "text": [
      "/home/watts/anaconda2/envs/sdp35/lib/python3.5/site-packages/IPython/core/interactiveshell.py:2728: DtypeWarning: Columns (5) have mixed types. Specify dtype option on import or set low_memory=False.\n",
      "  interactivity=interactivity, compiler=compiler, result=result)\n"
     ]
    }
   ],
   "source": [
    "fn = '../cache/bkup/train10_t_store{}.csv'.format(1)\n",
    "df =pd.read_csv(fn)\n",
    "# df['dts'] = df.date.map(pd.to_datetime)\n",
    "# df['dts1'] = df.date.map(np.datetime64)"
   ]
  },
  {
   "cell_type": "code",
   "execution_count": 9,
   "metadata": {
    "collapsed": true
   },
   "outputs": [],
   "source": [
    "from datetime import date"
   ]
  },
  {
   "cell_type": "code",
   "execution_count": 10,
   "metadata": {
    "collapsed": false
   },
   "outputs": [],
   "source": [
    "\n",
    "df['year'] = df.dcount.map(lambda x: date.fromordinal(x).isocalendar()[0])\n",
    "df['curr_week']  = df.dcount.map(lambda x: date.fromordinal(x).isocalendar()[1])"
   ]
  },
  {
   "cell_type": "code",
   "execution_count": 11,
   "metadata": {
    "collapsed": false
   },
   "outputs": [
    {
     "data": {
      "text/plain": [
       "2013"
      ]
     },
     "execution_count": 11,
     "metadata": {},
     "output_type": "execute_result"
    }
   ],
   "source": [
    "np.min(df.year)"
   ]
  },
  {
   "cell_type": "code",
   "execution_count": 12,
   "metadata": {
    "collapsed": false
   },
   "outputs": [
    {
     "data": {
      "text/plain": [
       "2017"
      ]
     },
     "execution_count": 12,
     "metadata": {},
     "output_type": "execute_result"
    }
   ],
   "source": [
    "np.max(df.year)"
   ]
  },
  {
   "cell_type": "code",
   "execution_count": 13,
   "metadata": {
    "collapsed": true
   },
   "outputs": [],
   "source": [
    "df['cw'] = df['curr_week'].astype('str') + '_' + df['year'].astype('str')"
   ]
  },
  {
   "cell_type": "code",
   "execution_count": 14,
   "metadata": {
    "collapsed": false
   },
   "outputs": [
    {
     "data": {
      "text/plain": [
       "2013"
      ]
     },
     "execution_count": 14,
     "metadata": {},
     "output_type": "execute_result"
    }
   ],
   "source": [
    "pd.to_datetime('2013-12-31').year"
   ]
  },
  {
   "cell_type": "code",
   "execution_count": 15,
   "metadata": {
    "collapsed": false
   },
   "outputs": [
    {
     "data": {
      "text/plain": [
       "(2014, 1, 2)"
      ]
     },
     "execution_count": 15,
     "metadata": {},
     "output_type": "execute_result"
    }
   ],
   "source": [
    "pd.to_datetime('2013-12-31').isocalendar()"
   ]
  },
  {
   "cell_type": "code",
   "execution_count": 16,
   "metadata": {
    "collapsed": true
   },
   "outputs": [],
   "source": [
    "import datetime"
   ]
  },
  {
   "cell_type": "code",
   "execution_count": 17,
   "metadata": {
    "collapsed": false
   },
   "outputs": [
    {
     "data": {
      "text/plain": [
       "(2014, 1, 2)"
      ]
     },
     "execution_count": 17,
     "metadata": {},
     "output_type": "execute_result"
    }
   ],
   "source": [
    "pd.to_datetime('2013-12-31').isocalendar()"
   ]
  },
  {
   "cell_type": "code",
   "execution_count": 18,
   "metadata": {
    "collapsed": true
   },
   "outputs": [],
   "source": [
    "def get_prev_week(date):\n",
    "    curr_year, curr_month, curr_day = str(date).split('-')\n",
    "    \n",
    "    today = datetime.date(int(curr_year),int(curr_month),int(curr_day))\n",
    "    prev_week = today + datetime.timedelta(days=-7)\n",
    "    selected_week = prev_week.isocalendar()[1]\n",
    "    selected_year = prev_week.isocalendar()[0]\n",
    "   \n",
    "        \n",
    "    prev_week = str(selected_week) + '_' + str(selected_year)\n",
    "    return prev_week"
   ]
  },
  {
   "cell_type": "code",
   "execution_count": 19,
   "metadata": {
    "collapsed": true
   },
   "outputs": [],
   "source": [
    "def get_next_week(date):\n",
    "    curr_year, curr_month, curr_day = str(date).split('-')\n",
    "    \n",
    "    today = datetime.date(int(curr_year),int(curr_month),int(curr_day))\n",
    "    next_week = today + datetime.timedelta(days=7)\n",
    "    selected_week = next_week.isocalendar()[1]\n",
    "    selected_year = next_week.isocalendar()[0]\n",
    "   \n",
    "    next_week = str(selected_week) + '_' + str(selected_year)\n",
    "    return next_week"
   ]
  },
  {
   "cell_type": "code",
   "execution_count": 20,
   "metadata": {
    "collapsed": false
   },
   "outputs": [],
   "source": [
    "def get_holidays_in_week(df, wk):\n",
    "    weeks = list(np.unique(df[wk].values))\n",
    "#     print(len(weeks))\n",
    "    col = 'hols_in_'+ str(wk)\n",
    "    df1 = pd.DataFrame()\n",
    "    for week in tqdm(weeks):\n",
    "        data = df[(df.h_type != 'Work Day') & (df.h_type != 'Weekend') & (df.cw == week)]\n",
    "#         print(len(data))\n",
    "        if len(data) > 0:\n",
    "            df2 = pd.DataFrame()\n",
    "            df2['id'] = data.id.values\n",
    "            l = list(data.index.values)\n",
    "            n = len(np.unique(data.date))\n",
    "            df2[col] = n\n",
    "            df1 = pd.concat([df1, df2], axis=0)\n",
    "            del df2\n",
    "    \n",
    "    df1_id = df1.id.values\n",
    "    df2_id = df.id[~df.id.isin(df1_id)]\n",
    "    df2 = pd.DataFrame()\n",
    "    df2['id'] = df2_id.values\n",
    "    df2[col] = 0\n",
    "    df1 = pd.concat([df1,df2], axis=0)\n",
    "    df1 = df1.sort_values('id')\n",
    "    del df2\n",
    "#     print(len(df1), len(df))\n",
    "    df[col] = df1[col].values\n",
    "#     print(df.head())\n",
    "    del df1\n",
    "    return df"
   ]
  },
  {
   "cell_type": "code",
   "execution_count": 34,
   "metadata": {
    "collapsed": false
   },
   "outputs": [
    {
     "data": {
      "text/html": [
       "<div>\n",
       "<style scoped>\n",
       "    .dataframe tbody tr th:only-of-type {\n",
       "        vertical-align: middle;\n",
       "    }\n",
       "\n",
       "    .dataframe tbody tr th {\n",
       "        vertical-align: top;\n",
       "    }\n",
       "\n",
       "    .dataframe thead th {\n",
       "        text-align: right;\n",
       "    }\n",
       "</style>\n",
       "<table border=\"1\" class=\"dataframe\">\n",
       "  <thead>\n",
       "    <tr style=\"text-align: right;\">\n",
       "      <th></th>\n",
       "      <th>id</th>\n",
       "      <th>date</th>\n",
       "      <th>store_nbr</th>\n",
       "      <th>item_nbr</th>\n",
       "      <th>unit_sales</th>\n",
       "      <th>onpromotion</th>\n",
       "      <th>item_family</th>\n",
       "      <th>item_class</th>\n",
       "      <th>perishable</th>\n",
       "      <th>city</th>\n",
       "      <th>...</th>\n",
       "      <th>store_item_nbr</th>\n",
       "      <th>dts</th>\n",
       "      <th>year</th>\n",
       "      <th>curr_week</th>\n",
       "      <th>cw</th>\n",
       "      <th>pw</th>\n",
       "      <th>nw</th>\n",
       "      <th>hols_in_cw</th>\n",
       "      <th>hols_in_nw</th>\n",
       "      <th>hols_in_pw</th>\n",
       "    </tr>\n",
       "  </thead>\n",
       "  <tbody>\n",
       "    <tr>\n",
       "      <th>0</th>\n",
       "      <td>578</td>\n",
       "      <td>2013-01-02</td>\n",
       "      <td>1</td>\n",
       "      <td>103665</td>\n",
       "      <td>2.0</td>\n",
       "      <td>Unk</td>\n",
       "      <td>BREAD/BAKERY</td>\n",
       "      <td>2712</td>\n",
       "      <td>1</td>\n",
       "      <td>Quito</td>\n",
       "      <td>...</td>\n",
       "      <td>1_103665</td>\n",
       "      <td>2013-01-02</td>\n",
       "      <td>2013</td>\n",
       "      <td>1</td>\n",
       "      <td>1_2013</td>\n",
       "      <td>52_2012</td>\n",
       "      <td>2_2013</td>\n",
       "      <td>0</td>\n",
       "      <td>0</td>\n",
       "      <td>0</td>\n",
       "    </tr>\n",
       "    <tr>\n",
       "      <th>1</th>\n",
       "      <td>579</td>\n",
       "      <td>2013-01-02</td>\n",
       "      <td>1</td>\n",
       "      <td>105574</td>\n",
       "      <td>8.0</td>\n",
       "      <td>Unk</td>\n",
       "      <td>GROCERY I</td>\n",
       "      <td>1045</td>\n",
       "      <td>0</td>\n",
       "      <td>Quito</td>\n",
       "      <td>...</td>\n",
       "      <td>1_105574</td>\n",
       "      <td>2013-01-02</td>\n",
       "      <td>2013</td>\n",
       "      <td>1</td>\n",
       "      <td>1_2013</td>\n",
       "      <td>52_2012</td>\n",
       "      <td>2_2013</td>\n",
       "      <td>0</td>\n",
       "      <td>0</td>\n",
       "      <td>0</td>\n",
       "    </tr>\n",
       "    <tr>\n",
       "      <th>2</th>\n",
       "      <td>580</td>\n",
       "      <td>2013-01-02</td>\n",
       "      <td>1</td>\n",
       "      <td>105575</td>\n",
       "      <td>15.0</td>\n",
       "      <td>Unk</td>\n",
       "      <td>GROCERY I</td>\n",
       "      <td>1045</td>\n",
       "      <td>0</td>\n",
       "      <td>Quito</td>\n",
       "      <td>...</td>\n",
       "      <td>1_105575</td>\n",
       "      <td>2013-01-02</td>\n",
       "      <td>2013</td>\n",
       "      <td>1</td>\n",
       "      <td>1_2013</td>\n",
       "      <td>52_2012</td>\n",
       "      <td>2_2013</td>\n",
       "      <td>0</td>\n",
       "      <td>0</td>\n",
       "      <td>0</td>\n",
       "    </tr>\n",
       "    <tr>\n",
       "      <th>3</th>\n",
       "      <td>581</td>\n",
       "      <td>2013-01-02</td>\n",
       "      <td>1</td>\n",
       "      <td>105577</td>\n",
       "      <td>2.0</td>\n",
       "      <td>Unk</td>\n",
       "      <td>GROCERY I</td>\n",
       "      <td>1045</td>\n",
       "      <td>0</td>\n",
       "      <td>Quito</td>\n",
       "      <td>...</td>\n",
       "      <td>1_105577</td>\n",
       "      <td>2013-01-02</td>\n",
       "      <td>2013</td>\n",
       "      <td>1</td>\n",
       "      <td>1_2013</td>\n",
       "      <td>52_2012</td>\n",
       "      <td>2_2013</td>\n",
       "      <td>0</td>\n",
       "      <td>0</td>\n",
       "      <td>0</td>\n",
       "    </tr>\n",
       "    <tr>\n",
       "      <th>4</th>\n",
       "      <td>582</td>\n",
       "      <td>2013-01-02</td>\n",
       "      <td>1</td>\n",
       "      <td>105737</td>\n",
       "      <td>2.0</td>\n",
       "      <td>Unk</td>\n",
       "      <td>GROCERY I</td>\n",
       "      <td>1044</td>\n",
       "      <td>0</td>\n",
       "      <td>Quito</td>\n",
       "      <td>...</td>\n",
       "      <td>1_105737</td>\n",
       "      <td>2013-01-02</td>\n",
       "      <td>2013</td>\n",
       "      <td>1</td>\n",
       "      <td>1_2013</td>\n",
       "      <td>52_2012</td>\n",
       "      <td>2_2013</td>\n",
       "      <td>0</td>\n",
       "      <td>0</td>\n",
       "      <td>0</td>\n",
       "    </tr>\n",
       "  </tbody>\n",
       "</table>\n",
       "<p>5 rows × 36 columns</p>\n",
       "</div>"
      ],
      "text/plain": [
       "    id        date  store_nbr  item_nbr  unit_sales onpromotion   item_family  \\\n",
       "0  578  2013-01-02          1    103665         2.0         Unk  BREAD/BAKERY   \n",
       "1  579  2013-01-02          1    105574         8.0         Unk     GROCERY I   \n",
       "2  580  2013-01-02          1    105575        15.0         Unk     GROCERY I   \n",
       "3  581  2013-01-02          1    105577         2.0         Unk     GROCERY I   \n",
       "4  582  2013-01-02          1    105737         2.0         Unk     GROCERY I   \n",
       "\n",
       "   item_class  perishable   city     ...     store_item_nbr        dts  year  \\\n",
       "0        2712           1  Quito     ...           1_103665 2013-01-02  2013   \n",
       "1        1045           0  Quito     ...           1_105574 2013-01-02  2013   \n",
       "2        1045           0  Quito     ...           1_105575 2013-01-02  2013   \n",
       "3        1045           0  Quito     ...           1_105577 2013-01-02  2013   \n",
       "4        1044           0  Quito     ...           1_105737 2013-01-02  2013   \n",
       "\n",
       "   curr_week      cw       pw      nw  hols_in_cw  hols_in_nw  hols_in_pw  \n",
       "0          1  1_2013  52_2012  2_2013           0           0           0  \n",
       "1          1  1_2013  52_2012  2_2013           0           0           0  \n",
       "2          1  1_2013  52_2012  2_2013           0           0           0  \n",
       "3          1  1_2013  52_2012  2_2013           0           0           0  \n",
       "4          1  1_2013  52_2012  2_2013           0           0           0  \n",
       "\n",
       "[5 rows x 36 columns]"
      ]
     },
     "execution_count": 34,
     "metadata": {},
     "output_type": "execute_result"
    }
   ],
   "source": [
    "df.head()"
   ]
  },
  {
   "cell_type": "code",
   "execution_count": 22,
   "metadata": {
    "collapsed": false
   },
   "outputs": [],
   "source": [
    "df['pw']  = df['date'].map(lambda x: get_prev_week(x))"
   ]
  },
  {
   "cell_type": "code",
   "execution_count": 23,
   "metadata": {
    "collapsed": true
   },
   "outputs": [],
   "source": [
    "data = df[(df.h_type != 'Work Day') & (df.cw == '1_2013')]"
   ]
  },
  {
   "cell_type": "code",
   "execution_count": 24,
   "metadata": {
    "collapsed": false
   },
   "outputs": [
    {
     "data": {
      "text/plain": [
       "659"
      ]
     },
     "execution_count": 24,
     "metadata": {},
     "output_type": "execute_result"
    }
   ],
   "source": [
    "len(data)"
   ]
  },
  {
   "cell_type": "code",
   "execution_count": 25,
   "metadata": {
    "collapsed": false
   },
   "outputs": [
    {
     "data": {
      "text/plain": [
       "array(['2013-01-06'], dtype=object)"
      ]
     },
     "execution_count": 25,
     "metadata": {},
     "output_type": "execute_result"
    }
   ],
   "source": [
    "np.unique(data.date)"
   ]
  },
  {
   "cell_type": "code",
   "execution_count": 26,
   "metadata": {
    "collapsed": true
   },
   "outputs": [],
   "source": [
    "df['nw']  = df['date'].map(lambda x: get_next_week(x))"
   ]
  },
  {
   "cell_type": "code",
   "execution_count": 27,
   "metadata": {
    "collapsed": true
   },
   "outputs": [],
   "source": [
    "df['hols_in_cw'] = 0\n",
    "df['hols_in_nw'] = 0\n",
    "df['hols_in_pw'] = 0"
   ]
  },
  {
   "cell_type": "code",
   "execution_count": 28,
   "metadata": {
    "collapsed": false
   },
   "outputs": [
    {
     "name": "stderr",
     "output_type": "stream",
     "text": [
      "100%|██████████| 242/242 [03:19<00:00,  1.21it/s]\n"
     ]
    },
    {
     "name": "stdout",
     "output_type": "stream",
     "text": [
      "CPU times: user 3min 24s, sys: 340 ms, total: 3min 25s\n",
      "Wall time: 3min 25s\n"
     ]
    }
   ],
   "source": [
    "%%time\n",
    "df = get_holidays_in_week(df, 'cw')"
   ]
  },
  {
   "cell_type": "code",
   "execution_count": 35,
   "metadata": {
    "collapsed": false
   },
   "outputs": [
    {
     "data": {
      "text/plain": [
       "array([0, 1, 2, 3, 4, 5, 7])"
      ]
     },
     "execution_count": 35,
     "metadata": {},
     "output_type": "execute_result"
    }
   ],
   "source": [
    "np.unique(df.hols_in_cw)"
   ]
  },
  {
   "cell_type": "code",
   "execution_count": 30,
   "metadata": {
    "collapsed": false
   },
   "outputs": [
    {
     "data": {
      "text/html": [
       "<div>\n",
       "<style scoped>\n",
       "    .dataframe tbody tr th:only-of-type {\n",
       "        vertical-align: middle;\n",
       "    }\n",
       "\n",
       "    .dataframe tbody tr th {\n",
       "        vertical-align: top;\n",
       "    }\n",
       "\n",
       "    .dataframe thead th {\n",
       "        text-align: right;\n",
       "    }\n",
       "</style>\n",
       "<table border=\"1\" class=\"dataframe\">\n",
       "  <thead>\n",
       "    <tr style=\"text-align: right;\">\n",
       "      <th></th>\n",
       "      <th>0</th>\n",
       "      <th>1</th>\n",
       "      <th>2</th>\n",
       "      <th>3</th>\n",
       "      <th>4</th>\n",
       "      <th>5</th>\n",
       "      <th>6</th>\n",
       "      <th>7</th>\n",
       "      <th>8</th>\n",
       "      <th>9</th>\n",
       "      <th>...</th>\n",
       "      <th>2562143</th>\n",
       "      <th>2562144</th>\n",
       "      <th>2562145</th>\n",
       "      <th>2562146</th>\n",
       "      <th>2562147</th>\n",
       "      <th>2562148</th>\n",
       "      <th>2562149</th>\n",
       "      <th>2562150</th>\n",
       "      <th>2562151</th>\n",
       "      <th>2562152</th>\n",
       "    </tr>\n",
       "  </thead>\n",
       "  <tbody>\n",
       "    <tr>\n",
       "      <th>id</th>\n",
       "      <td>578</td>\n",
       "      <td>579</td>\n",
       "      <td>580</td>\n",
       "      <td>581</td>\n",
       "      <td>582</td>\n",
       "      <td>583</td>\n",
       "      <td>584</td>\n",
       "      <td>585</td>\n",
       "      <td>586</td>\n",
       "      <td>587</td>\n",
       "      <td>...</td>\n",
       "      <td>125396202</td>\n",
       "      <td>125396203</td>\n",
       "      <td>125396204</td>\n",
       "      <td>125396205</td>\n",
       "      <td>125396206</td>\n",
       "      <td>125396207</td>\n",
       "      <td>125396208</td>\n",
       "      <td>125396209</td>\n",
       "      <td>125396210</td>\n",
       "      <td>125396211</td>\n",
       "    </tr>\n",
       "    <tr>\n",
       "      <th>date</th>\n",
       "      <td>2013-01-02</td>\n",
       "      <td>2013-01-02</td>\n",
       "      <td>2013-01-02</td>\n",
       "      <td>2013-01-02</td>\n",
       "      <td>2013-01-02</td>\n",
       "      <td>2013-01-02</td>\n",
       "      <td>2013-01-02</td>\n",
       "      <td>2013-01-02</td>\n",
       "      <td>2013-01-02</td>\n",
       "      <td>2013-01-02</td>\n",
       "      <td>...</td>\n",
       "      <td>2017-08-15</td>\n",
       "      <td>2017-08-15</td>\n",
       "      <td>2017-08-15</td>\n",
       "      <td>2017-08-15</td>\n",
       "      <td>2017-08-15</td>\n",
       "      <td>2017-08-15</td>\n",
       "      <td>2017-08-15</td>\n",
       "      <td>2017-08-15</td>\n",
       "      <td>2017-08-15</td>\n",
       "      <td>2017-08-15</td>\n",
       "    </tr>\n",
       "    <tr>\n",
       "      <th>store_nbr</th>\n",
       "      <td>1</td>\n",
       "      <td>1</td>\n",
       "      <td>1</td>\n",
       "      <td>1</td>\n",
       "      <td>1</td>\n",
       "      <td>1</td>\n",
       "      <td>1</td>\n",
       "      <td>1</td>\n",
       "      <td>1</td>\n",
       "      <td>1</td>\n",
       "      <td>...</td>\n",
       "      <td>1</td>\n",
       "      <td>1</td>\n",
       "      <td>1</td>\n",
       "      <td>1</td>\n",
       "      <td>1</td>\n",
       "      <td>1</td>\n",
       "      <td>1</td>\n",
       "      <td>1</td>\n",
       "      <td>1</td>\n",
       "      <td>1</td>\n",
       "    </tr>\n",
       "    <tr>\n",
       "      <th>item_nbr</th>\n",
       "      <td>103665</td>\n",
       "      <td>105574</td>\n",
       "      <td>105575</td>\n",
       "      <td>105577</td>\n",
       "      <td>105737</td>\n",
       "      <td>105857</td>\n",
       "      <td>106716</td>\n",
       "      <td>108696</td>\n",
       "      <td>108698</td>\n",
       "      <td>108701</td>\n",
       "      <td>...</td>\n",
       "      <td>2111684</td>\n",
       "      <td>2111870</td>\n",
       "      <td>2112404</td>\n",
       "      <td>2113914</td>\n",
       "      <td>2114566</td>\n",
       "      <td>2114812</td>\n",
       "      <td>2116416</td>\n",
       "      <td>2122188</td>\n",
       "      <td>2122676</td>\n",
       "      <td>2124052</td>\n",
       "    </tr>\n",
       "    <tr>\n",
       "      <th>unit_sales</th>\n",
       "      <td>2</td>\n",
       "      <td>8</td>\n",
       "      <td>15</td>\n",
       "      <td>2</td>\n",
       "      <td>2</td>\n",
       "      <td>12</td>\n",
       "      <td>2</td>\n",
       "      <td>3</td>\n",
       "      <td>6</td>\n",
       "      <td>3</td>\n",
       "      <td>...</td>\n",
       "      <td>7</td>\n",
       "      <td>21</td>\n",
       "      <td>5</td>\n",
       "      <td>1</td>\n",
       "      <td>1</td>\n",
       "      <td>1</td>\n",
       "      <td>1</td>\n",
       "      <td>1</td>\n",
       "      <td>2</td>\n",
       "      <td>1</td>\n",
       "    </tr>\n",
       "    <tr>\n",
       "      <th>onpromotion</th>\n",
       "      <td>Unk</td>\n",
       "      <td>Unk</td>\n",
       "      <td>Unk</td>\n",
       "      <td>Unk</td>\n",
       "      <td>Unk</td>\n",
       "      <td>Unk</td>\n",
       "      <td>Unk</td>\n",
       "      <td>Unk</td>\n",
       "      <td>Unk</td>\n",
       "      <td>Unk</td>\n",
       "      <td>...</td>\n",
       "      <td>False</td>\n",
       "      <td>False</td>\n",
       "      <td>True</td>\n",
       "      <td>False</td>\n",
       "      <td>False</td>\n",
       "      <td>True</td>\n",
       "      <td>False</td>\n",
       "      <td>False</td>\n",
       "      <td>False</td>\n",
       "      <td>False</td>\n",
       "    </tr>\n",
       "    <tr>\n",
       "      <th>item_family</th>\n",
       "      <td>BREAD/BAKERY</td>\n",
       "      <td>GROCERY I</td>\n",
       "      <td>GROCERY I</td>\n",
       "      <td>GROCERY I</td>\n",
       "      <td>GROCERY I</td>\n",
       "      <td>GROCERY I</td>\n",
       "      <td>GROCERY I</td>\n",
       "      <td>DELI</td>\n",
       "      <td>DELI</td>\n",
       "      <td>DELI</td>\n",
       "      <td>...</td>\n",
       "      <td>BEVERAGES</td>\n",
       "      <td>PRODUCE</td>\n",
       "      <td>DAIRY</td>\n",
       "      <td>CLEANING</td>\n",
       "      <td>GROCERY I</td>\n",
       "      <td>CLEANING</td>\n",
       "      <td>GROCERY I</td>\n",
       "      <td>GROCERY I</td>\n",
       "      <td>BEVERAGES</td>\n",
       "      <td>LIQUOR,WINE,BEER</td>\n",
       "    </tr>\n",
       "    <tr>\n",
       "      <th>item_class</th>\n",
       "      <td>2712</td>\n",
       "      <td>1045</td>\n",
       "      <td>1045</td>\n",
       "      <td>1045</td>\n",
       "      <td>1044</td>\n",
       "      <td>1092</td>\n",
       "      <td>1032</td>\n",
       "      <td>2636</td>\n",
       "      <td>2644</td>\n",
       "      <td>2644</td>\n",
       "      <td>...</td>\n",
       "      <td>1120</td>\n",
       "      <td>2028</td>\n",
       "      <td>2108</td>\n",
       "      <td>3040</td>\n",
       "      <td>1034</td>\n",
       "      <td>3020</td>\n",
       "      <td>1060</td>\n",
       "      <td>1084</td>\n",
       "      <td>1124</td>\n",
       "      <td>1318</td>\n",
       "    </tr>\n",
       "    <tr>\n",
       "      <th>perishable</th>\n",
       "      <td>1</td>\n",
       "      <td>0</td>\n",
       "      <td>0</td>\n",
       "      <td>0</td>\n",
       "      <td>0</td>\n",
       "      <td>0</td>\n",
       "      <td>0</td>\n",
       "      <td>1</td>\n",
       "      <td>1</td>\n",
       "      <td>1</td>\n",
       "      <td>...</td>\n",
       "      <td>0</td>\n",
       "      <td>1</td>\n",
       "      <td>1</td>\n",
       "      <td>0</td>\n",
       "      <td>0</td>\n",
       "      <td>0</td>\n",
       "      <td>0</td>\n",
       "      <td>0</td>\n",
       "      <td>0</td>\n",
       "      <td>0</td>\n",
       "    </tr>\n",
       "    <tr>\n",
       "      <th>city</th>\n",
       "      <td>Quito</td>\n",
       "      <td>Quito</td>\n",
       "      <td>Quito</td>\n",
       "      <td>Quito</td>\n",
       "      <td>Quito</td>\n",
       "      <td>Quito</td>\n",
       "      <td>Quito</td>\n",
       "      <td>Quito</td>\n",
       "      <td>Quito</td>\n",
       "      <td>Quito</td>\n",
       "      <td>...</td>\n",
       "      <td>Quito</td>\n",
       "      <td>Quito</td>\n",
       "      <td>Quito</td>\n",
       "      <td>Quito</td>\n",
       "      <td>Quito</td>\n",
       "      <td>Quito</td>\n",
       "      <td>Quito</td>\n",
       "      <td>Quito</td>\n",
       "      <td>Quito</td>\n",
       "      <td>Quito</td>\n",
       "    </tr>\n",
       "    <tr>\n",
       "      <th>state</th>\n",
       "      <td>Pichincha</td>\n",
       "      <td>Pichincha</td>\n",
       "      <td>Pichincha</td>\n",
       "      <td>Pichincha</td>\n",
       "      <td>Pichincha</td>\n",
       "      <td>Pichincha</td>\n",
       "      <td>Pichincha</td>\n",
       "      <td>Pichincha</td>\n",
       "      <td>Pichincha</td>\n",
       "      <td>Pichincha</td>\n",
       "      <td>...</td>\n",
       "      <td>Pichincha</td>\n",
       "      <td>Pichincha</td>\n",
       "      <td>Pichincha</td>\n",
       "      <td>Pichincha</td>\n",
       "      <td>Pichincha</td>\n",
       "      <td>Pichincha</td>\n",
       "      <td>Pichincha</td>\n",
       "      <td>Pichincha</td>\n",
       "      <td>Pichincha</td>\n",
       "      <td>Pichincha</td>\n",
       "    </tr>\n",
       "    <tr>\n",
       "      <th>store_type</th>\n",
       "      <td>D</td>\n",
       "      <td>D</td>\n",
       "      <td>D</td>\n",
       "      <td>D</td>\n",
       "      <td>D</td>\n",
       "      <td>D</td>\n",
       "      <td>D</td>\n",
       "      <td>D</td>\n",
       "      <td>D</td>\n",
       "      <td>D</td>\n",
       "      <td>...</td>\n",
       "      <td>D</td>\n",
       "      <td>D</td>\n",
       "      <td>D</td>\n",
       "      <td>D</td>\n",
       "      <td>D</td>\n",
       "      <td>D</td>\n",
       "      <td>D</td>\n",
       "      <td>D</td>\n",
       "      <td>D</td>\n",
       "      <td>D</td>\n",
       "    </tr>\n",
       "    <tr>\n",
       "      <th>cluster</th>\n",
       "      <td>13</td>\n",
       "      <td>13</td>\n",
       "      <td>13</td>\n",
       "      <td>13</td>\n",
       "      <td>13</td>\n",
       "      <td>13</td>\n",
       "      <td>13</td>\n",
       "      <td>13</td>\n",
       "      <td>13</td>\n",
       "      <td>13</td>\n",
       "      <td>...</td>\n",
       "      <td>13</td>\n",
       "      <td>13</td>\n",
       "      <td>13</td>\n",
       "      <td>13</td>\n",
       "      <td>13</td>\n",
       "      <td>13</td>\n",
       "      <td>13</td>\n",
       "      <td>13</td>\n",
       "      <td>13</td>\n",
       "      <td>13</td>\n",
       "    </tr>\n",
       "    <tr>\n",
       "      <th>dcoilwtico</th>\n",
       "      <td>93.14</td>\n",
       "      <td>93.14</td>\n",
       "      <td>93.14</td>\n",
       "      <td>93.14</td>\n",
       "      <td>93.14</td>\n",
       "      <td>93.14</td>\n",
       "      <td>93.14</td>\n",
       "      <td>93.14</td>\n",
       "      <td>93.14</td>\n",
       "      <td>93.14</td>\n",
       "      <td>...</td>\n",
       "      <td>47.57</td>\n",
       "      <td>47.57</td>\n",
       "      <td>47.57</td>\n",
       "      <td>47.57</td>\n",
       "      <td>47.57</td>\n",
       "      <td>47.57</td>\n",
       "      <td>47.57</td>\n",
       "      <td>47.57</td>\n",
       "      <td>47.57</td>\n",
       "      <td>47.57</td>\n",
       "    </tr>\n",
       "    <tr>\n",
       "      <th>transactions</th>\n",
       "      <td>2111</td>\n",
       "      <td>2111</td>\n",
       "      <td>2111</td>\n",
       "      <td>2111</td>\n",
       "      <td>2111</td>\n",
       "      <td>2111</td>\n",
       "      <td>2111</td>\n",
       "      <td>2111</td>\n",
       "      <td>2111</td>\n",
       "      <td>2111</td>\n",
       "      <td>...</td>\n",
       "      <td>1693</td>\n",
       "      <td>1693</td>\n",
       "      <td>1693</td>\n",
       "      <td>1693</td>\n",
       "      <td>1693</td>\n",
       "      <td>1693</td>\n",
       "      <td>1693</td>\n",
       "      <td>1693</td>\n",
       "      <td>1693</td>\n",
       "      <td>1693</td>\n",
       "    </tr>\n",
       "    <tr>\n",
       "      <th>dom</th>\n",
       "      <td>2</td>\n",
       "      <td>2</td>\n",
       "      <td>2</td>\n",
       "      <td>2</td>\n",
       "      <td>2</td>\n",
       "      <td>2</td>\n",
       "      <td>2</td>\n",
       "      <td>2</td>\n",
       "      <td>2</td>\n",
       "      <td>2</td>\n",
       "      <td>...</td>\n",
       "      <td>15</td>\n",
       "      <td>15</td>\n",
       "      <td>15</td>\n",
       "      <td>15</td>\n",
       "      <td>15</td>\n",
       "      <td>15</td>\n",
       "      <td>15</td>\n",
       "      <td>15</td>\n",
       "      <td>15</td>\n",
       "      <td>15</td>\n",
       "    </tr>\n",
       "    <tr>\n",
       "      <th>mon</th>\n",
       "      <td>1</td>\n",
       "      <td>1</td>\n",
       "      <td>1</td>\n",
       "      <td>1</td>\n",
       "      <td>1</td>\n",
       "      <td>1</td>\n",
       "      <td>1</td>\n",
       "      <td>1</td>\n",
       "      <td>1</td>\n",
       "      <td>1</td>\n",
       "      <td>...</td>\n",
       "      <td>8</td>\n",
       "      <td>8</td>\n",
       "      <td>8</td>\n",
       "      <td>8</td>\n",
       "      <td>8</td>\n",
       "      <td>8</td>\n",
       "      <td>8</td>\n",
       "      <td>8</td>\n",
       "      <td>8</td>\n",
       "      <td>8</td>\n",
       "    </tr>\n",
       "    <tr>\n",
       "      <th>dow</th>\n",
       "      <td>2</td>\n",
       "      <td>2</td>\n",
       "      <td>2</td>\n",
       "      <td>2</td>\n",
       "      <td>2</td>\n",
       "      <td>2</td>\n",
       "      <td>2</td>\n",
       "      <td>2</td>\n",
       "      <td>2</td>\n",
       "      <td>2</td>\n",
       "      <td>...</td>\n",
       "      <td>1</td>\n",
       "      <td>1</td>\n",
       "      <td>1</td>\n",
       "      <td>1</td>\n",
       "      <td>1</td>\n",
       "      <td>1</td>\n",
       "      <td>1</td>\n",
       "      <td>1</td>\n",
       "      <td>1</td>\n",
       "      <td>1</td>\n",
       "    </tr>\n",
       "    <tr>\n",
       "      <th>doy</th>\n",
       "      <td>2</td>\n",
       "      <td>2</td>\n",
       "      <td>2</td>\n",
       "      <td>2</td>\n",
       "      <td>2</td>\n",
       "      <td>2</td>\n",
       "      <td>2</td>\n",
       "      <td>2</td>\n",
       "      <td>2</td>\n",
       "      <td>2</td>\n",
       "      <td>...</td>\n",
       "      <td>227</td>\n",
       "      <td>227</td>\n",
       "      <td>227</td>\n",
       "      <td>227</td>\n",
       "      <td>227</td>\n",
       "      <td>227</td>\n",
       "      <td>227</td>\n",
       "      <td>227</td>\n",
       "      <td>227</td>\n",
       "      <td>227</td>\n",
       "    </tr>\n",
       "    <tr>\n",
       "      <th>dcount</th>\n",
       "      <td>734870</td>\n",
       "      <td>734870</td>\n",
       "      <td>734870</td>\n",
       "      <td>734870</td>\n",
       "      <td>734870</td>\n",
       "      <td>734870</td>\n",
       "      <td>734870</td>\n",
       "      <td>734870</td>\n",
       "      <td>734870</td>\n",
       "      <td>734870</td>\n",
       "      <td>...</td>\n",
       "      <td>736556</td>\n",
       "      <td>736556</td>\n",
       "      <td>736556</td>\n",
       "      <td>736556</td>\n",
       "      <td>736556</td>\n",
       "      <td>736556</td>\n",
       "      <td>736556</td>\n",
       "      <td>736556</td>\n",
       "      <td>736556</td>\n",
       "      <td>736556</td>\n",
       "    </tr>\n",
       "    <tr>\n",
       "      <th>h_type</th>\n",
       "      <td>Work Day</td>\n",
       "      <td>Work Day</td>\n",
       "      <td>Work Day</td>\n",
       "      <td>Work Day</td>\n",
       "      <td>Work Day</td>\n",
       "      <td>Work Day</td>\n",
       "      <td>Work Day</td>\n",
       "      <td>Work Day</td>\n",
       "      <td>Work Day</td>\n",
       "      <td>Work Day</td>\n",
       "      <td>...</td>\n",
       "      <td>Work Day</td>\n",
       "      <td>Work Day</td>\n",
       "      <td>Work Day</td>\n",
       "      <td>Work Day</td>\n",
       "      <td>Work Day</td>\n",
       "      <td>Work Day</td>\n",
       "      <td>Work Day</td>\n",
       "      <td>Work Day</td>\n",
       "      <td>Work Day</td>\n",
       "      <td>Work Day</td>\n",
       "    </tr>\n",
       "    <tr>\n",
       "      <th>h_desc</th>\n",
       "      <td>Normal</td>\n",
       "      <td>Normal</td>\n",
       "      <td>Normal</td>\n",
       "      <td>Normal</td>\n",
       "      <td>Normal</td>\n",
       "      <td>Normal</td>\n",
       "      <td>Normal</td>\n",
       "      <td>Normal</td>\n",
       "      <td>Normal</td>\n",
       "      <td>Normal</td>\n",
       "      <td>...</td>\n",
       "      <td>Normal</td>\n",
       "      <td>Normal</td>\n",
       "      <td>Normal</td>\n",
       "      <td>Normal</td>\n",
       "      <td>Normal</td>\n",
       "      <td>Normal</td>\n",
       "      <td>Normal</td>\n",
       "      <td>Normal</td>\n",
       "      <td>Normal</td>\n",
       "      <td>Normal</td>\n",
       "    </tr>\n",
       "    <tr>\n",
       "      <th>pd</th>\n",
       "      <td>0</td>\n",
       "      <td>0</td>\n",
       "      <td>0</td>\n",
       "      <td>0</td>\n",
       "      <td>0</td>\n",
       "      <td>0</td>\n",
       "      <td>0</td>\n",
       "      <td>0</td>\n",
       "      <td>0</td>\n",
       "      <td>0</td>\n",
       "      <td>...</td>\n",
       "      <td>1</td>\n",
       "      <td>1</td>\n",
       "      <td>1</td>\n",
       "      <td>1</td>\n",
       "      <td>1</td>\n",
       "      <td>1</td>\n",
       "      <td>1</td>\n",
       "      <td>1</td>\n",
       "      <td>1</td>\n",
       "      <td>1</td>\n",
       "    </tr>\n",
       "    <tr>\n",
       "      <th>wbe</th>\n",
       "      <td>172</td>\n",
       "      <td>172</td>\n",
       "      <td>172</td>\n",
       "      <td>172</td>\n",
       "      <td>172</td>\n",
       "      <td>172</td>\n",
       "      <td>172</td>\n",
       "      <td>172</td>\n",
       "      <td>172</td>\n",
       "      <td>172</td>\n",
       "      <td>...</td>\n",
       "      <td>0</td>\n",
       "      <td>0</td>\n",
       "      <td>0</td>\n",
       "      <td>0</td>\n",
       "      <td>0</td>\n",
       "      <td>0</td>\n",
       "      <td>0</td>\n",
       "      <td>0</td>\n",
       "      <td>0</td>\n",
       "      <td>0</td>\n",
       "    </tr>\n",
       "    <tr>\n",
       "      <th>wae</th>\n",
       "      <td>0</td>\n",
       "      <td>0</td>\n",
       "      <td>0</td>\n",
       "      <td>0</td>\n",
       "      <td>0</td>\n",
       "      <td>0</td>\n",
       "      <td>0</td>\n",
       "      <td>0</td>\n",
       "      <td>0</td>\n",
       "      <td>0</td>\n",
       "      <td>...</td>\n",
       "      <td>70</td>\n",
       "      <td>70</td>\n",
       "      <td>70</td>\n",
       "      <td>70</td>\n",
       "      <td>70</td>\n",
       "      <td>70</td>\n",
       "      <td>70</td>\n",
       "      <td>70</td>\n",
       "      <td>70</td>\n",
       "      <td>70</td>\n",
       "    </tr>\n",
       "    <tr>\n",
       "      <th>wfe</th>\n",
       "      <td>172</td>\n",
       "      <td>172</td>\n",
       "      <td>172</td>\n",
       "      <td>172</td>\n",
       "      <td>172</td>\n",
       "      <td>172</td>\n",
       "      <td>172</td>\n",
       "      <td>172</td>\n",
       "      <td>172</td>\n",
       "      <td>172</td>\n",
       "      <td>...</td>\n",
       "      <td>70</td>\n",
       "      <td>70</td>\n",
       "      <td>70</td>\n",
       "      <td>70</td>\n",
       "      <td>70</td>\n",
       "      <td>70</td>\n",
       "      <td>70</td>\n",
       "      <td>70</td>\n",
       "      <td>70</td>\n",
       "      <td>70</td>\n",
       "    </tr>\n",
       "    <tr>\n",
       "      <th>store_item_nbr</th>\n",
       "      <td>1_103665</td>\n",
       "      <td>1_105574</td>\n",
       "      <td>1_105575</td>\n",
       "      <td>1_105577</td>\n",
       "      <td>1_105737</td>\n",
       "      <td>1_105857</td>\n",
       "      <td>1_106716</td>\n",
       "      <td>1_108696</td>\n",
       "      <td>1_108698</td>\n",
       "      <td>1_108701</td>\n",
       "      <td>...</td>\n",
       "      <td>1_2111684</td>\n",
       "      <td>1_2111870</td>\n",
       "      <td>1_2112404</td>\n",
       "      <td>1_2113914</td>\n",
       "      <td>1_2114566</td>\n",
       "      <td>1_2114812</td>\n",
       "      <td>1_2116416</td>\n",
       "      <td>1_2122188</td>\n",
       "      <td>1_2122676</td>\n",
       "      <td>1_2124052</td>\n",
       "    </tr>\n",
       "    <tr>\n",
       "      <th>dts</th>\n",
       "      <td>2013-01-02 00:00:00</td>\n",
       "      <td>2013-01-02 00:00:00</td>\n",
       "      <td>2013-01-02 00:00:00</td>\n",
       "      <td>2013-01-02 00:00:00</td>\n",
       "      <td>2013-01-02 00:00:00</td>\n",
       "      <td>2013-01-02 00:00:00</td>\n",
       "      <td>2013-01-02 00:00:00</td>\n",
       "      <td>2013-01-02 00:00:00</td>\n",
       "      <td>2013-01-02 00:00:00</td>\n",
       "      <td>2013-01-02 00:00:00</td>\n",
       "      <td>...</td>\n",
       "      <td>2017-08-15 00:00:00</td>\n",
       "      <td>2017-08-15 00:00:00</td>\n",
       "      <td>2017-08-15 00:00:00</td>\n",
       "      <td>2017-08-15 00:00:00</td>\n",
       "      <td>2017-08-15 00:00:00</td>\n",
       "      <td>2017-08-15 00:00:00</td>\n",
       "      <td>2017-08-15 00:00:00</td>\n",
       "      <td>2017-08-15 00:00:00</td>\n",
       "      <td>2017-08-15 00:00:00</td>\n",
       "      <td>2017-08-15 00:00:00</td>\n",
       "    </tr>\n",
       "    <tr>\n",
       "      <th>year</th>\n",
       "      <td>2013</td>\n",
       "      <td>2013</td>\n",
       "      <td>2013</td>\n",
       "      <td>2013</td>\n",
       "      <td>2013</td>\n",
       "      <td>2013</td>\n",
       "      <td>2013</td>\n",
       "      <td>2013</td>\n",
       "      <td>2013</td>\n",
       "      <td>2013</td>\n",
       "      <td>...</td>\n",
       "      <td>2017</td>\n",
       "      <td>2017</td>\n",
       "      <td>2017</td>\n",
       "      <td>2017</td>\n",
       "      <td>2017</td>\n",
       "      <td>2017</td>\n",
       "      <td>2017</td>\n",
       "      <td>2017</td>\n",
       "      <td>2017</td>\n",
       "      <td>2017</td>\n",
       "    </tr>\n",
       "    <tr>\n",
       "      <th>curr_week</th>\n",
       "      <td>1</td>\n",
       "      <td>1</td>\n",
       "      <td>1</td>\n",
       "      <td>1</td>\n",
       "      <td>1</td>\n",
       "      <td>1</td>\n",
       "      <td>1</td>\n",
       "      <td>1</td>\n",
       "      <td>1</td>\n",
       "      <td>1</td>\n",
       "      <td>...</td>\n",
       "      <td>33</td>\n",
       "      <td>33</td>\n",
       "      <td>33</td>\n",
       "      <td>33</td>\n",
       "      <td>33</td>\n",
       "      <td>33</td>\n",
       "      <td>33</td>\n",
       "      <td>33</td>\n",
       "      <td>33</td>\n",
       "      <td>33</td>\n",
       "    </tr>\n",
       "    <tr>\n",
       "      <th>cw</th>\n",
       "      <td>1_2013</td>\n",
       "      <td>1_2013</td>\n",
       "      <td>1_2013</td>\n",
       "      <td>1_2013</td>\n",
       "      <td>1_2013</td>\n",
       "      <td>1_2013</td>\n",
       "      <td>1_2013</td>\n",
       "      <td>1_2013</td>\n",
       "      <td>1_2013</td>\n",
       "      <td>1_2013</td>\n",
       "      <td>...</td>\n",
       "      <td>33_2017</td>\n",
       "      <td>33_2017</td>\n",
       "      <td>33_2017</td>\n",
       "      <td>33_2017</td>\n",
       "      <td>33_2017</td>\n",
       "      <td>33_2017</td>\n",
       "      <td>33_2017</td>\n",
       "      <td>33_2017</td>\n",
       "      <td>33_2017</td>\n",
       "      <td>33_2017</td>\n",
       "    </tr>\n",
       "    <tr>\n",
       "      <th>pw</th>\n",
       "      <td>52_2012</td>\n",
       "      <td>52_2012</td>\n",
       "      <td>52_2012</td>\n",
       "      <td>52_2012</td>\n",
       "      <td>52_2012</td>\n",
       "      <td>52_2012</td>\n",
       "      <td>52_2012</td>\n",
       "      <td>52_2012</td>\n",
       "      <td>52_2012</td>\n",
       "      <td>52_2012</td>\n",
       "      <td>...</td>\n",
       "      <td>32_2017</td>\n",
       "      <td>32_2017</td>\n",
       "      <td>32_2017</td>\n",
       "      <td>32_2017</td>\n",
       "      <td>32_2017</td>\n",
       "      <td>32_2017</td>\n",
       "      <td>32_2017</td>\n",
       "      <td>32_2017</td>\n",
       "      <td>32_2017</td>\n",
       "      <td>32_2017</td>\n",
       "    </tr>\n",
       "    <tr>\n",
       "      <th>nw</th>\n",
       "      <td>2_2013</td>\n",
       "      <td>2_2013</td>\n",
       "      <td>2_2013</td>\n",
       "      <td>2_2013</td>\n",
       "      <td>2_2013</td>\n",
       "      <td>2_2013</td>\n",
       "      <td>2_2013</td>\n",
       "      <td>2_2013</td>\n",
       "      <td>2_2013</td>\n",
       "      <td>2_2013</td>\n",
       "      <td>...</td>\n",
       "      <td>34_2017</td>\n",
       "      <td>34_2017</td>\n",
       "      <td>34_2017</td>\n",
       "      <td>34_2017</td>\n",
       "      <td>34_2017</td>\n",
       "      <td>34_2017</td>\n",
       "      <td>34_2017</td>\n",
       "      <td>34_2017</td>\n",
       "      <td>34_2017</td>\n",
       "      <td>34_2017</td>\n",
       "    </tr>\n",
       "    <tr>\n",
       "      <th>hols_in_cw</th>\n",
       "      <td>0</td>\n",
       "      <td>0</td>\n",
       "      <td>0</td>\n",
       "      <td>0</td>\n",
       "      <td>0</td>\n",
       "      <td>0</td>\n",
       "      <td>0</td>\n",
       "      <td>0</td>\n",
       "      <td>0</td>\n",
       "      <td>0</td>\n",
       "      <td>...</td>\n",
       "      <td>0</td>\n",
       "      <td>0</td>\n",
       "      <td>0</td>\n",
       "      <td>0</td>\n",
       "      <td>0</td>\n",
       "      <td>0</td>\n",
       "      <td>0</td>\n",
       "      <td>0</td>\n",
       "      <td>0</td>\n",
       "      <td>0</td>\n",
       "    </tr>\n",
       "    <tr>\n",
       "      <th>hols_in_nw</th>\n",
       "      <td>0</td>\n",
       "      <td>0</td>\n",
       "      <td>0</td>\n",
       "      <td>0</td>\n",
       "      <td>0</td>\n",
       "      <td>0</td>\n",
       "      <td>0</td>\n",
       "      <td>0</td>\n",
       "      <td>0</td>\n",
       "      <td>0</td>\n",
       "      <td>...</td>\n",
       "      <td>0</td>\n",
       "      <td>0</td>\n",
       "      <td>0</td>\n",
       "      <td>0</td>\n",
       "      <td>0</td>\n",
       "      <td>0</td>\n",
       "      <td>0</td>\n",
       "      <td>0</td>\n",
       "      <td>0</td>\n",
       "      <td>0</td>\n",
       "    </tr>\n",
       "    <tr>\n",
       "      <th>hols_in_pw</th>\n",
       "      <td>0</td>\n",
       "      <td>0</td>\n",
       "      <td>0</td>\n",
       "      <td>0</td>\n",
       "      <td>0</td>\n",
       "      <td>0</td>\n",
       "      <td>0</td>\n",
       "      <td>0</td>\n",
       "      <td>0</td>\n",
       "      <td>0</td>\n",
       "      <td>...</td>\n",
       "      <td>0</td>\n",
       "      <td>0</td>\n",
       "      <td>0</td>\n",
       "      <td>0</td>\n",
       "      <td>0</td>\n",
       "      <td>0</td>\n",
       "      <td>0</td>\n",
       "      <td>0</td>\n",
       "      <td>0</td>\n",
       "      <td>0</td>\n",
       "    </tr>\n",
       "  </tbody>\n",
       "</table>\n",
       "<p>36 rows × 2562153 columns</p>\n",
       "</div>"
      ],
      "text/plain": [
       "                            0                    1                    2        \\\n",
       "id                              578                  579                  580   \n",
       "date                     2013-01-02           2013-01-02           2013-01-02   \n",
       "store_nbr                         1                    1                    1   \n",
       "item_nbr                     103665               105574               105575   \n",
       "unit_sales                        2                    8                   15   \n",
       "onpromotion                     Unk                  Unk                  Unk   \n",
       "item_family            BREAD/BAKERY            GROCERY I            GROCERY I   \n",
       "item_class                     2712                 1045                 1045   \n",
       "perishable                        1                    0                    0   \n",
       "city                          Quito                Quito                Quito   \n",
       "state                     Pichincha            Pichincha            Pichincha   \n",
       "store_type                        D                    D                    D   \n",
       "cluster                          13                   13                   13   \n",
       "dcoilwtico                    93.14                93.14                93.14   \n",
       "transactions                   2111                 2111                 2111   \n",
       "dom                               2                    2                    2   \n",
       "mon                               1                    1                    1   \n",
       "dow                               2                    2                    2   \n",
       "doy                               2                    2                    2   \n",
       "dcount                       734870               734870               734870   \n",
       "h_type                     Work Day             Work Day             Work Day   \n",
       "h_desc                       Normal               Normal               Normal   \n",
       "pd                                0                    0                    0   \n",
       "wbe                             172                  172                  172   \n",
       "wae                               0                    0                    0   \n",
       "wfe                             172                  172                  172   \n",
       "store_item_nbr             1_103665             1_105574             1_105575   \n",
       "dts             2013-01-02 00:00:00  2013-01-02 00:00:00  2013-01-02 00:00:00   \n",
       "year                           2013                 2013                 2013   \n",
       "curr_week                         1                    1                    1   \n",
       "cw                           1_2013               1_2013               1_2013   \n",
       "pw                          52_2012              52_2012              52_2012   \n",
       "nw                           2_2013               2_2013               2_2013   \n",
       "hols_in_cw                        0                    0                    0   \n",
       "hols_in_nw                        0                    0                    0   \n",
       "hols_in_pw                        0                    0                    0   \n",
       "\n",
       "                            3                    4                    5        \\\n",
       "id                              581                  582                  583   \n",
       "date                     2013-01-02           2013-01-02           2013-01-02   \n",
       "store_nbr                         1                    1                    1   \n",
       "item_nbr                     105577               105737               105857   \n",
       "unit_sales                        2                    2                   12   \n",
       "onpromotion                     Unk                  Unk                  Unk   \n",
       "item_family               GROCERY I            GROCERY I            GROCERY I   \n",
       "item_class                     1045                 1044                 1092   \n",
       "perishable                        0                    0                    0   \n",
       "city                          Quito                Quito                Quito   \n",
       "state                     Pichincha            Pichincha            Pichincha   \n",
       "store_type                        D                    D                    D   \n",
       "cluster                          13                   13                   13   \n",
       "dcoilwtico                    93.14                93.14                93.14   \n",
       "transactions                   2111                 2111                 2111   \n",
       "dom                               2                    2                    2   \n",
       "mon                               1                    1                    1   \n",
       "dow                               2                    2                    2   \n",
       "doy                               2                    2                    2   \n",
       "dcount                       734870               734870               734870   \n",
       "h_type                     Work Day             Work Day             Work Day   \n",
       "h_desc                       Normal               Normal               Normal   \n",
       "pd                                0                    0                    0   \n",
       "wbe                             172                  172                  172   \n",
       "wae                               0                    0                    0   \n",
       "wfe                             172                  172                  172   \n",
       "store_item_nbr             1_105577             1_105737             1_105857   \n",
       "dts             2013-01-02 00:00:00  2013-01-02 00:00:00  2013-01-02 00:00:00   \n",
       "year                           2013                 2013                 2013   \n",
       "curr_week                         1                    1                    1   \n",
       "cw                           1_2013               1_2013               1_2013   \n",
       "pw                          52_2012              52_2012              52_2012   \n",
       "nw                           2_2013               2_2013               2_2013   \n",
       "hols_in_cw                        0                    0                    0   \n",
       "hols_in_nw                        0                    0                    0   \n",
       "hols_in_pw                        0                    0                    0   \n",
       "\n",
       "                            6                    7                    8        \\\n",
       "id                              584                  585                  586   \n",
       "date                     2013-01-02           2013-01-02           2013-01-02   \n",
       "store_nbr                         1                    1                    1   \n",
       "item_nbr                     106716               108696               108698   \n",
       "unit_sales                        2                    3                    6   \n",
       "onpromotion                     Unk                  Unk                  Unk   \n",
       "item_family               GROCERY I                 DELI                 DELI   \n",
       "item_class                     1032                 2636                 2644   \n",
       "perishable                        0                    1                    1   \n",
       "city                          Quito                Quito                Quito   \n",
       "state                     Pichincha            Pichincha            Pichincha   \n",
       "store_type                        D                    D                    D   \n",
       "cluster                          13                   13                   13   \n",
       "dcoilwtico                    93.14                93.14                93.14   \n",
       "transactions                   2111                 2111                 2111   \n",
       "dom                               2                    2                    2   \n",
       "mon                               1                    1                    1   \n",
       "dow                               2                    2                    2   \n",
       "doy                               2                    2                    2   \n",
       "dcount                       734870               734870               734870   \n",
       "h_type                     Work Day             Work Day             Work Day   \n",
       "h_desc                       Normal               Normal               Normal   \n",
       "pd                                0                    0                    0   \n",
       "wbe                             172                  172                  172   \n",
       "wae                               0                    0                    0   \n",
       "wfe                             172                  172                  172   \n",
       "store_item_nbr             1_106716             1_108696             1_108698   \n",
       "dts             2013-01-02 00:00:00  2013-01-02 00:00:00  2013-01-02 00:00:00   \n",
       "year                           2013                 2013                 2013   \n",
       "curr_week                         1                    1                    1   \n",
       "cw                           1_2013               1_2013               1_2013   \n",
       "pw                          52_2012              52_2012              52_2012   \n",
       "nw                           2_2013               2_2013               2_2013   \n",
       "hols_in_cw                        0                    0                    0   \n",
       "hols_in_nw                        0                    0                    0   \n",
       "hols_in_pw                        0                    0                    0   \n",
       "\n",
       "                            9               ...                       2562143  \\\n",
       "id                              587         ...                     125396202   \n",
       "date                     2013-01-02         ...                    2017-08-15   \n",
       "store_nbr                         1         ...                             1   \n",
       "item_nbr                     108701         ...                       2111684   \n",
       "unit_sales                        3         ...                             7   \n",
       "onpromotion                     Unk         ...                         False   \n",
       "item_family                    DELI         ...                     BEVERAGES   \n",
       "item_class                     2644         ...                          1120   \n",
       "perishable                        1         ...                             0   \n",
       "city                          Quito         ...                         Quito   \n",
       "state                     Pichincha         ...                     Pichincha   \n",
       "store_type                        D         ...                             D   \n",
       "cluster                          13         ...                            13   \n",
       "dcoilwtico                    93.14         ...                         47.57   \n",
       "transactions                   2111         ...                          1693   \n",
       "dom                               2         ...                            15   \n",
       "mon                               1         ...                             8   \n",
       "dow                               2         ...                             1   \n",
       "doy                               2         ...                           227   \n",
       "dcount                       734870         ...                        736556   \n",
       "h_type                     Work Day         ...                      Work Day   \n",
       "h_desc                       Normal         ...                        Normal   \n",
       "pd                                0         ...                             1   \n",
       "wbe                             172         ...                             0   \n",
       "wae                               0         ...                            70   \n",
       "wfe                             172         ...                            70   \n",
       "store_item_nbr             1_108701         ...                     1_2111684   \n",
       "dts             2013-01-02 00:00:00         ...           2017-08-15 00:00:00   \n",
       "year                           2013         ...                          2017   \n",
       "curr_week                         1         ...                            33   \n",
       "cw                           1_2013         ...                       33_2017   \n",
       "pw                          52_2012         ...                       32_2017   \n",
       "nw                           2_2013         ...                       34_2017   \n",
       "hols_in_cw                        0         ...                             0   \n",
       "hols_in_nw                        0         ...                             0   \n",
       "hols_in_pw                        0         ...                             0   \n",
       "\n",
       "                            2562144              2562145              2562146  \\\n",
       "id                        125396203            125396204            125396205   \n",
       "date                     2017-08-15           2017-08-15           2017-08-15   \n",
       "store_nbr                         1                    1                    1   \n",
       "item_nbr                    2111870              2112404              2113914   \n",
       "unit_sales                       21                    5                    1   \n",
       "onpromotion                   False                 True                False   \n",
       "item_family                 PRODUCE                DAIRY             CLEANING   \n",
       "item_class                     2028                 2108                 3040   \n",
       "perishable                        1                    1                    0   \n",
       "city                          Quito                Quito                Quito   \n",
       "state                     Pichincha            Pichincha            Pichincha   \n",
       "store_type                        D                    D                    D   \n",
       "cluster                          13                   13                   13   \n",
       "dcoilwtico                    47.57                47.57                47.57   \n",
       "transactions                   1693                 1693                 1693   \n",
       "dom                              15                   15                   15   \n",
       "mon                               8                    8                    8   \n",
       "dow                               1                    1                    1   \n",
       "doy                             227                  227                  227   \n",
       "dcount                       736556               736556               736556   \n",
       "h_type                     Work Day             Work Day             Work Day   \n",
       "h_desc                       Normal               Normal               Normal   \n",
       "pd                                1                    1                    1   \n",
       "wbe                               0                    0                    0   \n",
       "wae                              70                   70                   70   \n",
       "wfe                              70                   70                   70   \n",
       "store_item_nbr            1_2111870            1_2112404            1_2113914   \n",
       "dts             2017-08-15 00:00:00  2017-08-15 00:00:00  2017-08-15 00:00:00   \n",
       "year                           2017                 2017                 2017   \n",
       "curr_week                        33                   33                   33   \n",
       "cw                          33_2017              33_2017              33_2017   \n",
       "pw                          32_2017              32_2017              32_2017   \n",
       "nw                          34_2017              34_2017              34_2017   \n",
       "hols_in_cw                        0                    0                    0   \n",
       "hols_in_nw                        0                    0                    0   \n",
       "hols_in_pw                        0                    0                    0   \n",
       "\n",
       "                            2562147              2562148              2562149  \\\n",
       "id                        125396206            125396207            125396208   \n",
       "date                     2017-08-15           2017-08-15           2017-08-15   \n",
       "store_nbr                         1                    1                    1   \n",
       "item_nbr                    2114566              2114812              2116416   \n",
       "unit_sales                        1                    1                    1   \n",
       "onpromotion                   False                 True                False   \n",
       "item_family               GROCERY I             CLEANING            GROCERY I   \n",
       "item_class                     1034                 3020                 1060   \n",
       "perishable                        0                    0                    0   \n",
       "city                          Quito                Quito                Quito   \n",
       "state                     Pichincha            Pichincha            Pichincha   \n",
       "store_type                        D                    D                    D   \n",
       "cluster                          13                   13                   13   \n",
       "dcoilwtico                    47.57                47.57                47.57   \n",
       "transactions                   1693                 1693                 1693   \n",
       "dom                              15                   15                   15   \n",
       "mon                               8                    8                    8   \n",
       "dow                               1                    1                    1   \n",
       "doy                             227                  227                  227   \n",
       "dcount                       736556               736556               736556   \n",
       "h_type                     Work Day             Work Day             Work Day   \n",
       "h_desc                       Normal               Normal               Normal   \n",
       "pd                                1                    1                    1   \n",
       "wbe                               0                    0                    0   \n",
       "wae                              70                   70                   70   \n",
       "wfe                              70                   70                   70   \n",
       "store_item_nbr            1_2114566            1_2114812            1_2116416   \n",
       "dts             2017-08-15 00:00:00  2017-08-15 00:00:00  2017-08-15 00:00:00   \n",
       "year                           2017                 2017                 2017   \n",
       "curr_week                        33                   33                   33   \n",
       "cw                          33_2017              33_2017              33_2017   \n",
       "pw                          32_2017              32_2017              32_2017   \n",
       "nw                          34_2017              34_2017              34_2017   \n",
       "hols_in_cw                        0                    0                    0   \n",
       "hols_in_nw                        0                    0                    0   \n",
       "hols_in_pw                        0                    0                    0   \n",
       "\n",
       "                            2562150              2562151              2562152  \n",
       "id                        125396209            125396210            125396211  \n",
       "date                     2017-08-15           2017-08-15           2017-08-15  \n",
       "store_nbr                         1                    1                    1  \n",
       "item_nbr                    2122188              2122676              2124052  \n",
       "unit_sales                        1                    2                    1  \n",
       "onpromotion                   False                False                False  \n",
       "item_family               GROCERY I            BEVERAGES     LIQUOR,WINE,BEER  \n",
       "item_class                     1084                 1124                 1318  \n",
       "perishable                        0                    0                    0  \n",
       "city                          Quito                Quito                Quito  \n",
       "state                     Pichincha            Pichincha            Pichincha  \n",
       "store_type                        D                    D                    D  \n",
       "cluster                          13                   13                   13  \n",
       "dcoilwtico                    47.57                47.57                47.57  \n",
       "transactions                   1693                 1693                 1693  \n",
       "dom                              15                   15                   15  \n",
       "mon                               8                    8                    8  \n",
       "dow                               1                    1                    1  \n",
       "doy                             227                  227                  227  \n",
       "dcount                       736556               736556               736556  \n",
       "h_type                     Work Day             Work Day             Work Day  \n",
       "h_desc                       Normal               Normal               Normal  \n",
       "pd                                1                    1                    1  \n",
       "wbe                               0                    0                    0  \n",
       "wae                              70                   70                   70  \n",
       "wfe                              70                   70                   70  \n",
       "store_item_nbr            1_2122188            1_2122676            1_2124052  \n",
       "dts             2017-08-15 00:00:00  2017-08-15 00:00:00  2017-08-15 00:00:00  \n",
       "year                           2017                 2017                 2017  \n",
       "curr_week                        33                   33                   33  \n",
       "cw                          33_2017              33_2017              33_2017  \n",
       "pw                          32_2017              32_2017              32_2017  \n",
       "nw                          34_2017              34_2017              34_2017  \n",
       "hols_in_cw                        0                    0                    0  \n",
       "hols_in_nw                        0                    0                    0  \n",
       "hols_in_pw                        0                    0                    0  \n",
       "\n",
       "[36 rows x 2562153 columns]"
      ]
     },
     "execution_count": 30,
     "metadata": {},
     "output_type": "execute_result"
    }
   ],
   "source": [
    "df.T"
   ]
  },
  {
   "cell_type": "code",
   "execution_count": 36,
   "metadata": {
    "collapsed": false
   },
   "outputs": [
    {
     "data": {
      "text/plain": [
       "{0, 1, 2, 3, 4, 5, 7}"
      ]
     },
     "execution_count": 36,
     "metadata": {},
     "output_type": "execute_result"
    }
   ],
   "source": [
    "set(df['hols_in_cw'].values)"
   ]
  },
  {
   "cell_type": "code",
   "execution_count": null,
   "metadata": {
    "collapsed": true
   },
   "outputs": [],
   "source": []
  },
  {
   "cell_type": "code",
   "execution_count": 32,
   "metadata": {
    "collapsed": true
   },
   "outputs": [],
   "source": [
    "def holidays_in_curr_prev_next_week(store_num):\n",
    "    fn = '../cache/bkup/train10_t_store{}.csv'.format(store_num)\n",
    "    df =pd.read_csv(fn)\n",
    "#     df['dts'] = df.date.map(pd.to_datetime)\n",
    "    df['year'] = df.dcount.map(lambda x: date.fromordinal(x).isocalendar()[0])\n",
    "    df['curr_week']  = df.dcount.map(lambda x: date.fromordinal(x).isocalendar()[1])\n",
    "    df['cw'] = df['curr_week'].astype('str') + '_' + df['year'].astype('str')\n",
    "    df['pw']  = df['date'].map(lambda x: get_prev_week(x))\n",
    "    df['nw']  = df['date'].map(lambda x: get_next_week(x))\n",
    "    df['hols_in_cw'] = 0\n",
    "    df['hols_in_nw'] = 0\n",
    "    df['hols_in_pw'] = 0\n",
    "    df = get_holidays_in_week(df, 'cw')\n",
    "    df = get_holidays_in_week(df, 'pw')\n",
    "    df = get_holidays_in_week(df, 'nw')\n",
    "    \n",
    "    hols = ['hols_in_cw', 'hols_in_pw', 'hols_in_nw']\n",
    "    df1 = df[hols]\n",
    "    fn_tmp = '../cache/train10_t_store{}_cw_pw_nw_hols.csv'.format(store_num)\n",
    "    print(fn_tmp)\n",
    "    df1.to_csv(fn_tmp, float_format='%.5f', index=False)\n",
    "    \n",
    "    del df\n",
    "    del df1"
   ]
  },
  {
   "cell_type": "code",
   "execution_count": 33,
   "metadata": {
    "collapsed": false
   },
   "outputs": [
    {
     "name": "stderr",
     "output_type": "stream",
     "text": [
      "/home/watts/anaconda2/envs/sdp35/lib/python3.5/site-packages/IPython/core/interactiveshell.py:2850: DtypeWarning: Columns (5) have mixed types. Specify dtype option on import or set low_memory=False.\n",
      "  if self.run_code(code, result):\n",
      "100%|██████████| 242/242 [03:20<00:00,  1.21it/s]\n",
      "100%|██████████| 242/242 [03:19<00:00,  1.21it/s]\n",
      "100%|██████████| 242/242 [03:19<00:00,  1.21it/s]\n"
     ]
    },
    {
     "name": "stdout",
     "output_type": "stream",
     "text": [
      "../cache/train10_t_store1_cw_pw_nw_hols.csv\n"
     ]
    },
    {
     "name": "stderr",
     "output_type": "stream",
     "text": [
      "100%|██████████| 242/242 [03:55<00:00,  1.03it/s]\n",
      "100%|██████████| 242/242 [03:12<00:00,  1.26it/s]\n",
      "100%|██████████| 242/242 [02:36<00:00,  1.55it/s]\n"
     ]
    },
    {
     "name": "stdout",
     "output_type": "stream",
     "text": [
      "../cache/train10_t_store2_cw_pw_nw_hols.csv\n"
     ]
    },
    {
     "name": "stderr",
     "output_type": "stream",
     "text": [
      "100%|██████████| 242/242 [02:58<00:00,  1.36it/s]\n",
      "100%|██████████| 242/242 [02:57<00:00,  1.37it/s]\n",
      "100%|██████████| 242/242 [02:58<00:00,  1.36it/s]\n"
     ]
    },
    {
     "name": "stdout",
     "output_type": "stream",
     "text": [
      "../cache/train10_t_store3_cw_pw_nw_hols.csv\n"
     ]
    },
    {
     "name": "stderr",
     "output_type": "stream",
     "text": [
      "100%|██████████| 242/242 [02:28<00:00,  1.63it/s]\n",
      "100%|██████████| 242/242 [02:28<00:00,  1.63it/s]\n",
      "100%|██████████| 242/242 [02:28<00:00,  1.63it/s]\n"
     ]
    },
    {
     "name": "stdout",
     "output_type": "stream",
     "text": [
      "../cache/train10_t_store4_cw_pw_nw_hols.csv\n"
     ]
    },
    {
     "name": "stderr",
     "output_type": "stream",
     "text": [
      "100%|██████████| 242/242 [02:20<00:00,  1.72it/s]\n",
      "100%|██████████| 242/242 [02:19<00:00,  1.73it/s]\n",
      "100%|██████████| 242/242 [02:19<00:00,  1.74it/s]\n"
     ]
    },
    {
     "name": "stdout",
     "output_type": "stream",
     "text": [
      "../cache/train10_t_store5_cw_pw_nw_hols.csv\n"
     ]
    },
    {
     "name": "stderr",
     "output_type": "stream",
     "text": [
      "100%|██████████| 242/242 [02:42<00:00,  1.49it/s]\n",
      "100%|██████████| 242/242 [02:41<00:00,  1.50it/s]\n",
      "100%|██████████| 242/242 [02:41<00:00,  1.50it/s]\n"
     ]
    },
    {
     "name": "stdout",
     "output_type": "stream",
     "text": [
      "../cache/train10_t_store6_cw_pw_nw_hols.csv\n"
     ]
    },
    {
     "name": "stderr",
     "output_type": "stream",
     "text": [
      "100%|██████████| 242/242 [02:34<00:00,  1.57it/s]\n",
      "100%|██████████| 242/242 [02:32<00:00,  1.58it/s]\n",
      "100%|██████████| 242/242 [02:32<00:00,  1.59it/s]\n"
     ]
    },
    {
     "name": "stdout",
     "output_type": "stream",
     "text": [
      "../cache/train10_t_store7_cw_pw_nw_hols.csv\n"
     ]
    },
    {
     "name": "stderr",
     "output_type": "stream",
     "text": [
      "100%|██████████| 242/242 [02:51<00:00,  1.41it/s]\n",
      "100%|██████████| 242/242 [02:50<00:00,  1.42it/s]\n",
      "100%|██████████| 242/242 [02:50<00:00,  1.42it/s]\n"
     ]
    },
    {
     "name": "stdout",
     "output_type": "stream",
     "text": [
      "../cache/train10_t_store8_cw_pw_nw_hols.csv\n"
     ]
    },
    {
     "name": "stderr",
     "output_type": "stream",
     "text": [
      "100%|██████████| 242/242 [02:25<00:00,  1.66it/s]\n",
      "100%|██████████| 242/242 [02:25<00:00,  1.67it/s]\n",
      "100%|██████████| 242/242 [02:24<00:00,  1.67it/s]\n"
     ]
    },
    {
     "name": "stdout",
     "output_type": "stream",
     "text": [
      "../cache/train10_t_store9_cw_pw_nw_hols.csv\n"
     ]
    },
    {
     "name": "stderr",
     "output_type": "stream",
     "text": [
      "100%|██████████| 242/242 [01:31<00:00,  2.64it/s]\n",
      "100%|██████████| 242/242 [01:31<00:00,  2.64it/s]\n",
      "100%|██████████| 242/242 [01:31<00:00,  2.65it/s]\n"
     ]
    },
    {
     "name": "stdout",
     "output_type": "stream",
     "text": [
      "../cache/train10_t_store10_cw_pw_nw_hols.csv\n"
     ]
    },
    {
     "name": "stderr",
     "output_type": "stream",
     "text": [
      "100%|██████████| 242/242 [02:15<00:00,  1.79it/s]\n",
      "100%|██████████| 242/242 [02:14<00:00,  1.80it/s]\n",
      "100%|██████████| 242/242 [02:15<00:00,  1.79it/s]\n"
     ]
    },
    {
     "name": "stdout",
     "output_type": "stream",
     "text": [
      "../cache/train10_t_store11_cw_pw_nw_hols.csv\n"
     ]
    },
    {
     "name": "stderr",
     "output_type": "stream",
     "text": [
      "100%|██████████| 234/234 [01:34<00:00,  2.49it/s]\n",
      "100%|██████████| 234/234 [01:32<00:00,  2.52it/s]\n",
      "100%|██████████| 234/234 [01:33<00:00,  2.51it/s]\n"
     ]
    },
    {
     "name": "stdout",
     "output_type": "stream",
     "text": [
      "../cache/train10_t_store12_cw_pw_nw_hols.csv\n"
     ]
    },
    {
     "name": "stderr",
     "output_type": "stream",
     "text": [
      "100%|██████████| 242/242 [01:32<00:00,  2.62it/s]\n",
      "100%|██████████| 242/242 [01:31<00:00,  2.64it/s]\n",
      "100%|██████████| 242/242 [01:31<00:00,  2.64it/s]\n"
     ]
    },
    {
     "name": "stdout",
     "output_type": "stream",
     "text": [
      "../cache/train10_t_store13_cw_pw_nw_hols.csv\n"
     ]
    },
    {
     "name": "stderr",
     "output_type": "stream",
     "text": [
      "100%|██████████| 237/237 [01:33<00:00,  2.54it/s]\n",
      "100%|██████████| 237/237 [01:32<00:00,  2.56it/s]\n",
      "100%|██████████| 237/237 [01:33<00:00,  2.53it/s]\n"
     ]
    },
    {
     "name": "stdout",
     "output_type": "stream",
     "text": [
      "../cache/train10_t_store14_cw_pw_nw_hols.csv\n"
     ]
    },
    {
     "name": "stderr",
     "output_type": "stream",
     "text": [
      "100%|██████████| 242/242 [01:42<00:00,  2.35it/s]\n",
      "100%|██████████| 242/242 [01:42<00:00,  2.36it/s]\n",
      "100%|██████████| 242/242 [01:42<00:00,  2.36it/s]\n"
     ]
    },
    {
     "name": "stdout",
     "output_type": "stream",
     "text": [
      "../cache/train10_t_store15_cw_pw_nw_hols.csv\n"
     ]
    },
    {
     "name": "stderr",
     "output_type": "stream",
     "text": [
      "100%|██████████| 242/242 [01:37<00:00,  2.49it/s]\n",
      "100%|██████████| 242/242 [01:36<00:00,  2.51it/s]\n",
      "100%|██████████| 242/242 [01:36<00:00,  2.52it/s]\n"
     ]
    },
    {
     "name": "stdout",
     "output_type": "stream",
     "text": [
      "../cache/train10_t_store16_cw_pw_nw_hols.csv\n"
     ]
    },
    {
     "name": "stderr",
     "output_type": "stream",
     "text": [
      "100%|██████████| 242/242 [01:53<00:00,  2.12it/s]\n",
      "100%|██████████| 242/242 [01:53<00:00,  2.13it/s]\n",
      "100%|██████████| 242/242 [01:53<00:00,  2.13it/s]\n"
     ]
    },
    {
     "name": "stdout",
     "output_type": "stream",
     "text": [
      "../cache/train10_t_store17_cw_pw_nw_hols.csv\n"
     ]
    },
    {
     "name": "stderr",
     "output_type": "stream",
     "text": [
      "100%|██████████| 227/227 [01:48<00:00,  2.09it/s]\n",
      "100%|██████████| 227/227 [01:48<00:00,  2.10it/s]\n",
      "100%|██████████| 227/227 [01:47<00:00,  2.11it/s]\n"
     ]
    },
    {
     "name": "stdout",
     "output_type": "stream",
     "text": [
      "../cache/train10_t_store18_cw_pw_nw_hols.csv\n"
     ]
    },
    {
     "name": "stderr",
     "output_type": "stream",
     "text": [
      "100%|██████████| 242/242 [01:39<00:00,  2.43it/s]\n",
      "100%|██████████| 242/242 [01:38<00:00,  2.45it/s]\n",
      "100%|██████████| 242/242 [01:38<00:00,  2.45it/s]\n"
     ]
    },
    {
     "name": "stdout",
     "output_type": "stream",
     "text": [
      "../cache/train10_t_store19_cw_pw_nw_hols.csv\n"
     ]
    },
    {
     "name": "stderr",
     "output_type": "stream",
     "text": [
      "100%|██████████| 132/132 [00:48<00:00,  2.73it/s]\n",
      "100%|██████████| 132/132 [00:47<00:00,  2.76it/s]\n",
      "100%|██████████| 132/132 [00:47<00:00,  2.76it/s]\n"
     ]
    },
    {
     "name": "stdout",
     "output_type": "stream",
     "text": [
      "../cache/train10_t_store20_cw_pw_nw_hols.csv\n"
     ]
    },
    {
     "name": "stderr",
     "output_type": "stream",
     "text": [
      "100%|██████████| 109/109 [00:33<00:00,  3.28it/s]\n",
      "100%|██████████| 109/109 [00:33<00:00,  3.30it/s]\n",
      "100%|██████████| 109/109 [00:32<00:00,  3.34it/s]\n"
     ]
    },
    {
     "name": "stdout",
     "output_type": "stream",
     "text": [
      "../cache/train10_t_store21_cw_pw_nw_hols.csv\n"
     ]
    },
    {
     "name": "stderr",
     "output_type": "stream",
     "text": [
      "100%|██████████| 98/98 [00:19<00:00,  4.90it/s]\n",
      "100%|██████████| 98/98 [00:19<00:00,  4.91it/s]\n",
      "100%|██████████| 98/98 [00:20<00:00,  4.88it/s]\n"
     ]
    },
    {
     "name": "stdout",
     "output_type": "stream",
     "text": [
      "../cache/train10_t_store22_cw_pw_nw_hols.csv\n"
     ]
    },
    {
     "name": "stderr",
     "output_type": "stream",
     "text": [
      "100%|██████████| 242/242 [02:04<00:00,  1.94it/s]\n",
      "100%|██████████| 242/242 [02:03<00:00,  1.96it/s]\n",
      "100%|██████████| 242/242 [02:03<00:00,  1.96it/s]\n"
     ]
    },
    {
     "name": "stdout",
     "output_type": "stream",
     "text": [
      "../cache/train10_t_store23_cw_pw_nw_hols.csv\n"
     ]
    },
    {
     "name": "stderr",
     "output_type": "stream",
     "text": [
      "100%|██████████| 228/228 [02:17<00:00,  1.66it/s]\n",
      "100%|██████████| 228/228 [02:16<00:00,  1.67it/s]\n",
      "100%|██████████| 228/228 [02:16<00:00,  1.68it/s]\n"
     ]
    },
    {
     "name": "stdout",
     "output_type": "stream",
     "text": [
      "../cache/train10_t_store24_cw_pw_nw_hols.csv\n"
     ]
    },
    {
     "name": "stderr",
     "output_type": "stream",
     "text": [
      "100%|██████████| 233/233 [01:45<00:00,  2.22it/s]\n",
      "100%|██████████| 233/233 [01:44<00:00,  2.24it/s]\n",
      "100%|██████████| 233/233 [01:43<00:00,  2.25it/s]\n"
     ]
    },
    {
     "name": "stdout",
     "output_type": "stream",
     "text": [
      "../cache/train10_t_store25_cw_pw_nw_hols.csv\n"
     ]
    },
    {
     "name": "stderr",
     "output_type": "stream",
     "text": [
      "100%|██████████| 242/242 [01:34<00:00,  2.56it/s]\n",
      "100%|██████████| 242/242 [01:33<00:00,  2.58it/s]\n",
      "100%|██████████| 242/242 [01:33<00:00,  2.58it/s]\n"
     ]
    },
    {
     "name": "stdout",
     "output_type": "stream",
     "text": [
      "../cache/train10_t_store26_cw_pw_nw_hols.csv\n"
     ]
    },
    {
     "name": "stderr",
     "output_type": "stream",
     "text": [
      "100%|██████████| 242/242 [02:19<00:00,  1.74it/s]\n",
      "100%|██████████| 242/242 [02:18<00:00,  1.75it/s]\n",
      "100%|██████████| 242/242 [02:17<00:00,  1.76it/s]\n"
     ]
    },
    {
     "name": "stdout",
     "output_type": "stream",
     "text": [
      "../cache/train10_t_store27_cw_pw_nw_hols.csv\n"
     ]
    },
    {
     "name": "stderr",
     "output_type": "stream",
     "text": [
      "100%|██████████| 242/242 [02:07<00:00,  1.90it/s]\n",
      "100%|██████████| 242/242 [02:06<00:00,  1.92it/s]\n",
      "100%|██████████| 242/242 [02:07<00:00,  1.90it/s]\n"
     ]
    },
    {
     "name": "stdout",
     "output_type": "stream",
     "text": [
      "../cache/train10_t_store28_cw_pw_nw_hols.csv\n"
     ]
    },
    {
     "name": "stderr",
     "output_type": "stream",
     "text": [
      "100%|██████████| 127/127 [00:42<00:00,  3.02it/s]\n",
      "100%|██████████| 127/127 [00:42<00:00,  3.02it/s]\n",
      "100%|██████████| 127/127 [00:41<00:00,  3.05it/s]\n"
     ]
    },
    {
     "name": "stdout",
     "output_type": "stream",
     "text": [
      "../cache/train10_t_store29_cw_pw_nw_hols.csv\n"
     ]
    },
    {
     "name": "stderr",
     "output_type": "stream",
     "text": [
      "100%|██████████| 239/239 [01:23<00:00,  2.87it/s]\n",
      "100%|██████████| 239/239 [01:22<00:00,  2.89it/s]\n",
      "100%|██████████| 239/239 [01:22<00:00,  2.88it/s]\n"
     ]
    },
    {
     "name": "stdout",
     "output_type": "stream",
     "text": [
      "../cache/train10_t_store30_cw_pw_nw_hols.csv\n"
     ]
    },
    {
     "name": "stderr",
     "output_type": "stream",
     "text": [
      "100%|██████████| 242/242 [02:04<00:00,  1.94it/s]\n",
      "100%|██████████| 242/242 [02:03<00:00,  1.95it/s]\n",
      "100%|██████████| 242/242 [02:03<00:00,  1.95it/s]\n"
     ]
    },
    {
     "name": "stdout",
     "output_type": "stream",
     "text": [
      "../cache/train10_t_store31_cw_pw_nw_hols.csv\n"
     ]
    },
    {
     "name": "stderr",
     "output_type": "stream",
     "text": [
      "100%|██████████| 242/242 [01:12<00:00,  3.36it/s]\n",
      "100%|██████████| 242/242 [01:11<00:00,  3.39it/s]\n",
      "100%|██████████| 242/242 [01:12<00:00,  3.36it/s]\n"
     ]
    },
    {
     "name": "stdout",
     "output_type": "stream",
     "text": [
      "../cache/train10_t_store32_cw_pw_nw_hols.csv\n"
     ]
    },
    {
     "name": "stderr",
     "output_type": "stream",
     "text": [
      "100%|██████████| 242/242 [01:44<00:00,  2.33it/s]\n",
      "100%|██████████| 242/242 [01:42<00:00,  2.36it/s]\n",
      "100%|██████████| 242/242 [01:42<00:00,  2.36it/s]\n"
     ]
    },
    {
     "name": "stdout",
     "output_type": "stream",
     "text": [
      "../cache/train10_t_store33_cw_pw_nw_hols.csv\n"
     ]
    },
    {
     "name": "stderr",
     "output_type": "stream",
     "text": [
      "100%|██████████| 242/242 [02:00<00:00,  2.00it/s]\n",
      "100%|██████████| 242/242 [02:00<00:00,  2.01it/s]\n",
      "100%|██████████| 242/242 [02:00<00:00,  2.00it/s]\n"
     ]
    },
    {
     "name": "stdout",
     "output_type": "stream",
     "text": [
      "../cache/train10_t_store34_cw_pw_nw_hols.csv\n"
     ]
    },
    {
     "name": "stderr",
     "output_type": "stream",
     "text": [
      "100%|██████████| 242/242 [01:13<00:00,  3.28it/s]\n",
      "100%|██████████| 242/242 [01:12<00:00,  3.32it/s]\n",
      "100%|██████████| 242/242 [01:13<00:00,  3.31it/s]\n"
     ]
    },
    {
     "name": "stdout",
     "output_type": "stream",
     "text": [
      "../cache/train10_t_store35_cw_pw_nw_hols.csv\n"
     ]
    },
    {
     "name": "stderr",
     "output_type": "stream",
     "text": [
      "100%|██████████| 224/224 [01:47<00:00,  2.08it/s]\n",
      "100%|██████████| 224/224 [01:47<00:00,  2.09it/s]\n",
      "100%|██████████| 224/224 [01:47<00:00,  2.09it/s]\n"
     ]
    },
    {
     "name": "stdout",
     "output_type": "stream",
     "text": [
      "../cache/train10_t_store36_cw_pw_nw_hols.csv\n"
     ]
    },
    {
     "name": "stderr",
     "output_type": "stream",
     "text": [
      "100%|██████████| 242/242 [02:28<00:00,  1.63it/s]\n",
      "100%|██████████| 242/242 [02:27<00:00,  1.64it/s]\n",
      "100%|██████████| 242/242 [02:27<00:00,  1.64it/s]\n"
     ]
    },
    {
     "name": "stdout",
     "output_type": "stream",
     "text": [
      "../cache/train10_t_store37_cw_pw_nw_hols.csv\n"
     ]
    },
    {
     "name": "stderr",
     "output_type": "stream",
     "text": [
      "100%|██████████| 242/242 [02:23<00:00,  1.69it/s]\n",
      "100%|██████████| 242/242 [02:22<00:00,  1.69it/s]\n",
      "100%|██████████| 242/242 [02:22<00:00,  1.70it/s]\n"
     ]
    },
    {
     "name": "stdout",
     "output_type": "stream",
     "text": [
      "../cache/train10_t_store38_cw_pw_nw_hols.csv\n"
     ]
    },
    {
     "name": "stderr",
     "output_type": "stream",
     "text": [
      "100%|██████████| 242/242 [02:19<00:00,  1.73it/s]\n",
      "100%|██████████| 242/242 [02:19<00:00,  1.74it/s]\n",
      "100%|██████████| 242/242 [02:18<00:00,  1.75it/s]\n"
     ]
    },
    {
     "name": "stdout",
     "output_type": "stream",
     "text": [
      "../cache/train10_t_store39_cw_pw_nw_hols.csv\n"
     ]
    },
    {
     "name": "stderr",
     "output_type": "stream",
     "text": [
      "100%|██████████| 242/242 [01:50<00:00,  2.18it/s]\n",
      "100%|██████████| 242/242 [01:50<00:00,  2.19it/s]\n",
      "100%|██████████| 242/242 [01:50<00:00,  2.19it/s]\n"
     ]
    },
    {
     "name": "stdout",
     "output_type": "stream",
     "text": [
      "../cache/train10_t_store40_cw_pw_nw_hols.csv\n"
     ]
    },
    {
     "name": "stderr",
     "output_type": "stream",
     "text": [
      "100%|██████████| 242/242 [02:12<00:00,  1.83it/s]\n",
      "100%|██████████| 242/242 [02:11<00:00,  1.84it/s]\n",
      "100%|██████████| 242/242 [02:11<00:00,  1.84it/s]\n"
     ]
    },
    {
     "name": "stdout",
     "output_type": "stream",
     "text": [
      "../cache/train10_t_store41_cw_pw_nw_hols.csv\n"
     ]
    },
    {
     "name": "stderr",
     "output_type": "stream",
     "text": [
      "100%|██████████| 105/105 [00:33<00:00,  3.09it/s]\n",
      "100%|██████████| 105/105 [00:33<00:00,  3.15it/s]\n",
      "100%|██████████| 105/105 [00:33<00:00,  3.11it/s]\n"
     ]
    },
    {
     "name": "stdout",
     "output_type": "stream",
     "text": [
      "../cache/train10_t_store42_cw_pw_nw_hols.csv\n"
     ]
    },
    {
     "name": "stderr",
     "output_type": "stream",
     "text": [
      "100%|██████████| 242/242 [01:42<00:00,  2.35it/s]\n",
      "100%|██████████| 242/242 [01:42<00:00,  2.36it/s]\n",
      "100%|██████████| 242/242 [01:42<00:00,  2.36it/s]\n"
     ]
    },
    {
     "name": "stdout",
     "output_type": "stream",
     "text": [
      "../cache/train10_t_store43_cw_pw_nw_hols.csv\n"
     ]
    },
    {
     "name": "stderr",
     "output_type": "stream",
     "text": [
      "100%|██████████| 242/242 [03:04<00:00,  1.31it/s]\n",
      "100%|██████████| 242/242 [03:02<00:00,  1.32it/s]\n",
      "100%|██████████| 242/242 [03:02<00:00,  1.32it/s]\n"
     ]
    },
    {
     "name": "stdout",
     "output_type": "stream",
     "text": [
      "../cache/train10_t_store44_cw_pw_nw_hols.csv\n"
     ]
    },
    {
     "name": "stderr",
     "output_type": "stream",
     "text": [
      "100%|██████████| 242/242 [03:03<00:00,  1.32it/s]\n",
      "100%|██████████| 242/242 [03:01<00:00,  1.33it/s]\n",
      "100%|██████████| 242/242 [03:02<00:00,  1.33it/s]\n"
     ]
    },
    {
     "name": "stdout",
     "output_type": "stream",
     "text": [
      "../cache/train10_t_store45_cw_pw_nw_hols.csv\n"
     ]
    },
    {
     "name": "stderr",
     "output_type": "stream",
     "text": [
      "100%|██████████| 242/242 [02:55<00:00,  1.38it/s]\n",
      "100%|██████████| 242/242 [02:54<00:00,  1.39it/s]\n",
      "100%|██████████| 242/242 [02:55<00:00,  1.38it/s]\n"
     ]
    },
    {
     "name": "stdout",
     "output_type": "stream",
     "text": [
      "../cache/train10_t_store46_cw_pw_nw_hols.csv\n"
     ]
    },
    {
     "name": "stderr",
     "output_type": "stream",
     "text": [
      "100%|██████████| 242/242 [03:00<00:00,  1.34it/s]\n",
      "100%|██████████| 242/242 [03:01<00:00,  1.34it/s]\n",
      "100%|██████████| 242/242 [03:00<00:00,  1.34it/s]\n"
     ]
    },
    {
     "name": "stdout",
     "output_type": "stream",
     "text": [
      "../cache/train10_t_store47_cw_pw_nw_hols.csv\n"
     ]
    },
    {
     "name": "stderr",
     "output_type": "stream",
     "text": [
      "100%|██████████| 242/242 [02:50<00:00,  1.42it/s]\n",
      "100%|██████████| 242/242 [02:48<00:00,  1.43it/s]\n",
      "100%|██████████| 242/242 [02:49<00:00,  1.43it/s]\n"
     ]
    },
    {
     "name": "stdout",
     "output_type": "stream",
     "text": [
      "../cache/train10_t_store48_cw_pw_nw_hols.csv\n"
     ]
    },
    {
     "name": "stderr",
     "output_type": "stream",
     "text": [
      "100%|██████████| 242/242 [02:55<00:00,  1.38it/s]\n",
      "100%|██████████| 242/242 [02:55<00:00,  1.38it/s]\n",
      "100%|██████████| 242/242 [02:55<00:00,  1.38it/s]\n"
     ]
    },
    {
     "name": "stdout",
     "output_type": "stream",
     "text": [
      "../cache/train10_t_store49_cw_pw_nw_hols.csv\n"
     ]
    },
    {
     "name": "stderr",
     "output_type": "stream",
     "text": [
      "100%|██████████| 242/242 [02:47<00:00,  1.44it/s]\n",
      "100%|██████████| 242/242 [02:46<00:00,  1.45it/s]\n",
      "100%|██████████| 242/242 [02:46<00:00,  1.45it/s]\n"
     ]
    },
    {
     "name": "stdout",
     "output_type": "stream",
     "text": [
      "../cache/train10_t_store50_cw_pw_nw_hols.csv\n"
     ]
    },
    {
     "name": "stderr",
     "output_type": "stream",
     "text": [
      "100%|██████████| 242/242 [02:35<00:00,  1.55it/s]\n",
      "100%|██████████| 242/242 [02:35<00:00,  1.56it/s]\n",
      "100%|██████████| 242/242 [02:34<00:00,  1.57it/s]\n"
     ]
    },
    {
     "name": "stdout",
     "output_type": "stream",
     "text": [
      "../cache/train10_t_store51_cw_pw_nw_hols.csv\n"
     ]
    },
    {
     "name": "stderr",
     "output_type": "stream",
     "text": [
      "100%|██████████| 18/18 [00:01<00:00, 13.91it/s]\n",
      "100%|██████████| 18/18 [00:01<00:00, 14.86it/s]\n",
      "100%|██████████| 18/18 [00:01<00:00, 14.89it/s]\n"
     ]
    },
    {
     "name": "stdout",
     "output_type": "stream",
     "text": [
      "../cache/train10_t_store52_cw_pw_nw_hols.csv\n"
     ]
    },
    {
     "name": "stderr",
     "output_type": "stream",
     "text": [
      "100%|██████████| 169/169 [01:11<00:00,  2.35it/s]\n",
      "100%|██████████| 169/169 [01:11<00:00,  2.38it/s]\n",
      "100%|██████████| 169/169 [01:11<00:00,  2.36it/s]\n"
     ]
    },
    {
     "name": "stdout",
     "output_type": "stream",
     "text": [
      "../cache/train10_t_store53_cw_pw_nw_hols.csv\n"
     ]
    },
    {
     "name": "stderr",
     "output_type": "stream",
     "text": [
      "100%|██████████| 242/242 [01:27<00:00,  2.76it/s]\n",
      "100%|██████████| 242/242 [01:27<00:00,  2.77it/s]\n",
      "100%|██████████| 242/242 [01:26<00:00,  2.79it/s]\n"
     ]
    },
    {
     "name": "stdout",
     "output_type": "stream",
     "text": [
      "../cache/train10_t_store54_cw_pw_nw_hols.csv\n"
     ]
    }
   ],
   "source": [
    "for i in range(1,55):\n",
    "    holidays_in_curr_prev_next_week(i)"
   ]
  },
  {
   "cell_type": "code",
   "execution_count": null,
   "metadata": {
    "collapsed": true
   },
   "outputs": [],
   "source": []
  }
 ],
 "metadata": {
  "kernelspec": {
   "display_name": "sdp35",
   "language": "python",
   "name": "sdp35"
  },
  "language_info": {
   "codemirror_mode": {
    "name": "ipython",
    "version": 3
   },
   "file_extension": ".py",
   "mimetype": "text/x-python",
   "name": "python",
   "nbconvert_exporter": "python",
   "pygments_lexer": "ipython3",
   "version": "3.5.4"
  }
 },
 "nbformat": 4,
 "nbformat_minor": 2
}
