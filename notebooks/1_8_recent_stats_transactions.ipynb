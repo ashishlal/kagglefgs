{
 "cells": [
  {
   "cell_type": "code",
   "execution_count": 2,
   "metadata": {},
   "outputs": [],
   "source": [
    "import os\n",
    "from tqdm import tqdm\n",
    "import feather\n",
    "import pandas as pd\n",
    "import numpy as np\n",
    "from scipy import stats\n",
    "import gc"
   ]
  },
  {
   "cell_type": "code",
   "execution_count": 3,
   "metadata": {},
   "outputs": [],
   "source": [
    "def append_to_csv(batch, csv_file):\n",
    "    props = dict(encoding='utf-8', index=False)\n",
    "    if not os.path.exists(csv_file):\n",
    "        batch.to_csv(csv_file, **props)\n",
    "    else:\n",
    "        batch.to_csv(csv_file, mode='a', header=False, **props)\n",
    "        \n",
    "def delete_file_if_exists(filename):\n",
    "    if os.path.exists(filename):\n",
    "        os.remove(filename)"
   ]
  },
  {
   "cell_type": "code",
   "execution_count": 4,
   "metadata": {},
   "outputs": [],
   "source": [
    "date_block = {}\n",
    "date_block['1_2013'] = 0\n",
    "date_block['2_2013'] = 1\n",
    "date_block['3_2013'] = 2\n",
    "date_block['4_2013'] = 3\n",
    "date_block['5_2013'] = 4\n",
    "date_block['6_2013'] = 5\n",
    "date_block['7_2013'] = 6\n",
    "date_block['8_2013'] = 7\n",
    "date_block['9_2013'] = 8\n",
    "date_block['10_2013'] = 9\n",
    "date_block['11_2013'] = 10\n",
    "date_block['12_2013'] = 11\n",
    "\n",
    "date_block['1_2014'] = 12\n",
    "date_block['2_2014'] = 13\n",
    "date_block['3_2014'] = 14\n",
    "date_block['4_2014'] = 15\n",
    "date_block['5_2014'] = 16\n",
    "date_block['6_2014'] = 17\n",
    "date_block['7_2014'] = 18\n",
    "date_block['8_2014'] = 19\n",
    "date_block['9_2014'] = 20\n",
    "date_block['10_2014'] = 21\n",
    "date_block['11_2014'] = 22\n",
    "date_block['12_2014'] = 23\n",
    "\n",
    "date_block['1_2015'] = 24\n",
    "date_block['2_2015'] = 25\n",
    "date_block['3_2015'] = 26\n",
    "date_block['4_2015'] = 27\n",
    "date_block['5_2015'] = 28\n",
    "date_block['6_2015'] = 29\n",
    "date_block['7_2015'] = 30\n",
    "date_block['8_2015'] = 31\n",
    "date_block['9_2015'] = 32\n",
    "date_block['10_2015'] = 33\n",
    "date_block['11_2015'] = 34\n",
    "date_block['12_2015'] = 35\n",
    "\n",
    "date_block['1_2016'] = 36\n",
    "date_block['2_2016'] = 37\n",
    "date_block['3_2016'] = 38\n",
    "date_block['4_2016'] = 39\n",
    "date_block['5_2016'] = 40\n",
    "date_block['6_2016'] = 41\n",
    "date_block['7_2016'] = 42\n",
    "date_block['8_2016'] = 43\n",
    "date_block['9_2016'] = 44\n",
    "date_block['10_2016'] = 45\n",
    "date_block['11_2016'] = 46\n",
    "date_block['12_2016'] = 47\n",
    "\n",
    "date_block['1_2017'] = 48\n",
    "date_block['2_2017'] = 49\n",
    "date_block['3_2017'] = 50\n",
    "date_block['4_2017'] = 51\n",
    "date_block['5_2017'] = 52\n",
    "date_block['6_2017'] = 53\n",
    "date_block['7_2017'] = 54\n",
    "date_block['8_2017'] = 55\n",
    "date_block['9_2017'] = 56\n",
    "date_block['10_2017'] = 57\n",
    "date_block['11_2017'] = 58\n",
    "date_block['12_2017'] = 59\n",
    "\n",
    "def get_date_block_num(x):\n",
    "    year, month, day = x.split('-')\n",
    "    mon = int(month)\n",
    "    yr = int(year)\n",
    "    mon_year = str(mon) + '_' + str(yr)\n",
    "    \n",
    "    return date_block[mon_year]"
   ]
  },
  {
   "cell_type": "code",
   "execution_count": 4,
   "metadata": {},
   "outputs": [
    {
     "name": "stderr",
     "output_type": "stream",
     "text": [
      "\r",
      "  0%|          | 0/54 [00:00<?, ?it/s]"
     ]
    },
    {
     "name": "stdout",
     "output_type": "stream",
     "text": [
      "../cache/bkup2/test7_1_t_store1.csv\n"
     ]
    },
    {
     "name": "stderr",
     "output_type": "stream",
     "text": [
      "/home/watts/anaconda2/envs/sdp35/lib/python3.5/site-packages/IPython/core/interactiveshell.py:2728: DtypeWarning: Columns (5) have mixed types. Specify dtype option on import or set low_memory=False.\n",
      "  interactivity=interactivity, compiler=compiler, result=result)\n"
     ]
    },
    {
     "name": "stdout",
     "output_type": "stream",
     "text": [
      "(2624569, 27)\n"
     ]
    },
    {
     "name": "stderr",
     "output_type": "stream",
     "text": [
      "/home/watts/anaconda2/envs/sdp35/lib/python3.5/site-packages/pandas/core/groupby.py:4189: FutureWarning: using a dict with renaming is deprecated and will be removed in a future version\n",
      "  return super(DataFrameGroupBy, self).aggregate(arg, *args, **kwargs)\n",
      "  2%|▏         | 1/54 [00:22<20:02, 22.69s/it]"
     ]
    },
    {
     "name": "stdout",
     "output_type": "stream",
     "text": [
      "../cache/bkup2/test7_1_t_store2.csv\n",
      "(3050256, 27)\n"
     ]
    },
    {
     "name": "stderr",
     "output_type": "stream",
     "text": [
      "\r",
      "  4%|▎         | 2/54 [00:48<21:12, 24.46s/it]"
     ]
    },
    {
     "name": "stdout",
     "output_type": "stream",
     "text": [
      "../cache/bkup2/test7_1_t_store3.csv\n",
      "(3463680, 27)\n"
     ]
    },
    {
     "name": "stderr",
     "output_type": "stream",
     "text": [
      "\r",
      "  6%|▌         | 3/54 [01:18<22:19, 26.26s/it]"
     ]
    },
    {
     "name": "stdout",
     "output_type": "stream",
     "text": [
      "../cache/bkup2/test7_1_t_store4.csv\n",
      "(2892970, 27)\n"
     ]
    },
    {
     "name": "stderr",
     "output_type": "stream",
     "text": [
      "\r",
      "  7%|▋         | 4/54 [01:43<21:34, 25.89s/it]"
     ]
    },
    {
     "name": "stdout",
     "output_type": "stream",
     "text": [
      "../cache/bkup2/test7_1_t_store5.csv\n",
      "(2729107, 27)\n"
     ]
    },
    {
     "name": "stderr",
     "output_type": "stream",
     "text": [
      "\r",
      "  9%|▉         | 5/54 [02:07<20:53, 25.59s/it]"
     ]
    },
    {
     "name": "stdout",
     "output_type": "stream",
     "text": [
      "../cache/bkup2/test7_1_t_store6.csv\n",
      "(3152215, 27)\n"
     ]
    },
    {
     "name": "stderr",
     "output_type": "stream",
     "text": [
      "\r",
      " 11%|█         | 6/54 [02:36<20:52, 26.09s/it]"
     ]
    },
    {
     "name": "stdout",
     "output_type": "stream",
     "text": [
      "../cache/bkup2/test7_1_t_store7.csv\n",
      "(2983620, 27)\n"
     ]
    },
    {
     "name": "stderr",
     "output_type": "stream",
     "text": [
      "\r",
      " 13%|█▎        | 7/54 [03:03<20:34, 26.27s/it]"
     ]
    },
    {
     "name": "stdout",
     "output_type": "stream",
     "text": [
      "../cache/bkup2/test7_1_t_store8.csv\n",
      "(3323600, 27)\n"
     ]
    },
    {
     "name": "stderr",
     "output_type": "stream",
     "text": [
      "\r",
      " 15%|█▍        | 8/54 [03:32<20:24, 26.62s/it]"
     ]
    },
    {
     "name": "stdout",
     "output_type": "stream",
     "text": [
      "../cache/bkup2/test7_1_t_store9.csv\n",
      "(2836206, 27)\n"
     ]
    },
    {
     "name": "stderr",
     "output_type": "stream",
     "text": [
      "\r",
      " 17%|█▋        | 9/54 [03:58<19:52, 26.51s/it]"
     ]
    },
    {
     "name": "stdout",
     "output_type": "stream",
     "text": [
      "../cache/bkup2/test7_1_t_store10.csv\n",
      "(1802898, 27)\n"
     ]
    },
    {
     "name": "stderr",
     "output_type": "stream",
     "text": [
      "\r",
      " 19%|█▊        | 10/54 [04:14<18:37, 25.40s/it]"
     ]
    },
    {
     "name": "stdout",
     "output_type": "stream",
     "text": [
      "../cache/bkup2/test7_1_t_store11.csv\n",
      "(2630698, 27)\n"
     ]
    },
    {
     "name": "stderr",
     "output_type": "stream",
     "text": [
      "\r",
      " 20%|██        | 11/54 [04:36<18:00, 25.13s/it]"
     ]
    },
    {
     "name": "stdout",
     "output_type": "stream",
     "text": [
      "../cache/bkup2/test7_1_t_store12.csv\n",
      "(1898999, 27)\n"
     ]
    },
    {
     "name": "stderr",
     "output_type": "stream",
     "text": [
      "\r",
      " 22%|██▏       | 12/54 [04:52<17:03, 24.37s/it]"
     ]
    },
    {
     "name": "stdout",
     "output_type": "stream",
     "text": [
      "../cache/bkup2/test7_1_t_store13.csv\n",
      "(1799144, 27)\n"
     ]
    },
    {
     "name": "stderr",
     "output_type": "stream",
     "text": [
      "\r",
      " 24%|██▍       | 13/54 [05:07<16:10, 23.68s/it]"
     ]
    },
    {
     "name": "stdout",
     "output_type": "stream",
     "text": [
      "../cache/bkup2/test7_1_t_store14.csv\n",
      "(1868357, 27)\n"
     ]
    },
    {
     "name": "stderr",
     "output_type": "stream",
     "text": [
      "\r",
      " 26%|██▌       | 14/54 [05:23<15:25, 23.13s/it]"
     ]
    },
    {
     "name": "stdout",
     "output_type": "stream",
     "text": [
      "../cache/bkup2/test7_1_t_store15.csv\n",
      "(2001094, 27)\n"
     ]
    },
    {
     "name": "stderr",
     "output_type": "stream",
     "text": [
      "\r",
      " 28%|██▊       | 15/54 [05:40<14:46, 22.72s/it]"
     ]
    },
    {
     "name": "stdout",
     "output_type": "stream",
     "text": [
      "../cache/bkup2/test7_1_t_store16.csv\n",
      "(1882451, 27)\n"
     ]
    },
    {
     "name": "stderr",
     "output_type": "stream",
     "text": [
      "\r",
      " 30%|██▉       | 16/54 [05:56<14:07, 22.31s/it]"
     ]
    },
    {
     "name": "stdout",
     "output_type": "stream",
     "text": [
      "../cache/bkup2/test7_1_t_store17.csv\n",
      "(2226436, 27)\n"
     ]
    },
    {
     "name": "stderr",
     "output_type": "stream",
     "text": [
      "\r",
      " 31%|███▏      | 17/54 [06:16<13:38, 22.13s/it]"
     ]
    },
    {
     "name": "stdout",
     "output_type": "stream",
     "text": [
      "../cache/bkup2/test7_1_t_store18.csv\n",
      "(2259098, 27)\n"
     ]
    },
    {
     "name": "stderr",
     "output_type": "stream",
     "text": [
      "\r",
      " 33%|███▎      | 18/54 [06:35<13:10, 21.96s/it]"
     ]
    },
    {
     "name": "stdout",
     "output_type": "stream",
     "text": [
      "../cache/bkup2/test7_1_t_store19.csv\n",
      "(1941571, 27)\n"
     ]
    },
    {
     "name": "stderr",
     "output_type": "stream",
     "text": [
      "\r",
      " 35%|███▌      | 19/54 [06:51<12:38, 21.67s/it]"
     ]
    },
    {
     "name": "stdout",
     "output_type": "stream",
     "text": [
      "../cache/bkup2/test7_1_t_store20.csv\n",
      "(1728401, 27)\n"
     ]
    },
    {
     "name": "stderr",
     "output_type": "stream",
     "text": [
      "\r",
      " 37%|███▋      | 20/54 [07:06<12:04, 21.30s/it]"
     ]
    },
    {
     "name": "stdout",
     "output_type": "stream",
     "text": [
      "../cache/bkup2/test7_1_t_store21.csv\n",
      "(1435835, 27)\n"
     ]
    },
    {
     "name": "stderr",
     "output_type": "stream",
     "text": [
      "\r",
      " 39%|███▉      | 21/54 [07:18<11:29, 20.89s/it]"
     ]
    },
    {
     "name": "stdout",
     "output_type": "stream",
     "text": [
      "../cache/bkup2/test7_1_t_store22.csv\n",
      "(985899, 27)\n"
     ]
    },
    {
     "name": "stderr",
     "output_type": "stream",
     "text": [
      "\r",
      " 41%|████      | 22/54 [07:26<10:49, 20.31s/it]"
     ]
    },
    {
     "name": "stdout",
     "output_type": "stream",
     "text": [
      "../cache/bkup2/test7_1_t_store23.csv\n",
      "(2428113, 27)\n"
     ]
    },
    {
     "name": "stderr",
     "output_type": "stream",
     "text": [
      "\r",
      " 43%|████▎     | 23/54 [07:47<10:30, 20.32s/it]"
     ]
    },
    {
     "name": "stdout",
     "output_type": "stream",
     "text": [
      "../cache/bkup2/test7_1_t_store24.csv\n",
      "(2832305, 27)\n"
     ]
    },
    {
     "name": "stderr",
     "output_type": "stream",
     "text": [
      "\r",
      " 44%|████▍     | 24/54 [08:11<10:14, 20.49s/it]"
     ]
    },
    {
     "name": "stdout",
     "output_type": "stream",
     "text": [
      "../cache/bkup2/test7_1_t_store25.csv\n",
      "(2119436, 27)\n"
     ]
    },
    {
     "name": "stderr",
     "output_type": "stream",
     "text": [
      "\r",
      " 46%|████▋     | 25/54 [08:31<09:53, 20.45s/it]"
     ]
    },
    {
     "name": "stdout",
     "output_type": "stream",
     "text": [
      "../cache/bkup2/test7_1_t_store26.csv\n",
      "(1855498, 27)\n"
     ]
    },
    {
     "name": "stderr",
     "output_type": "stream",
     "text": [
      "\r",
      " 48%|████▊     | 26/54 [08:48<09:29, 20.33s/it]"
     ]
    },
    {
     "name": "stdout",
     "output_type": "stream",
     "text": [
      "../cache/bkup2/test7_1_t_store27.csv\n",
      "(2694130, 27)\n"
     ]
    },
    {
     "name": "stderr",
     "output_type": "stream",
     "text": [
      "\r",
      " 50%|█████     | 27/54 [09:13<09:13, 20.49s/it]"
     ]
    },
    {
     "name": "stdout",
     "output_type": "stream",
     "text": [
      "../cache/bkup2/test7_1_t_store28.csv\n",
      "(2481232, 27)\n"
     ]
    },
    {
     "name": "stderr",
     "output_type": "stream",
     "text": [
      "\r",
      " 52%|█████▏    | 28/54 [09:35<08:54, 20.57s/it]"
     ]
    },
    {
     "name": "stdout",
     "output_type": "stream",
     "text": [
      "../cache/bkup2/test7_1_t_store29.csv\n",
      "(1571375, 27)\n"
     ]
    },
    {
     "name": "stderr",
     "output_type": "stream",
     "text": [
      "\r",
      " 54%|█████▎    | 29/54 [09:49<08:28, 20.34s/it]"
     ]
    },
    {
     "name": "stdout",
     "output_type": "stream",
     "text": [
      "../cache/bkup2/test7_1_t_store30.csv\n",
      "(1660278, 27)\n"
     ]
    },
    {
     "name": "stderr",
     "output_type": "stream",
     "text": [
      "\r",
      " 56%|█████▌    | 30/54 [10:05<08:04, 20.17s/it]"
     ]
    },
    {
     "name": "stdout",
     "output_type": "stream",
     "text": [
      "../cache/bkup2/test7_1_t_store31.csv\n",
      "(2424140, 27)\n"
     ]
    },
    {
     "name": "stderr",
     "output_type": "stream",
     "text": [
      "\r",
      " 57%|█████▋    | 31/54 [10:27<07:45, 20.24s/it]"
     ]
    },
    {
     "name": "stdout",
     "output_type": "stream",
     "text": [
      "../cache/bkup2/test7_1_t_store32.csv\n",
      "(1425031, 27)\n"
     ]
    },
    {
     "name": "stderr",
     "output_type": "stream",
     "text": [
      "\r",
      " 59%|█████▉    | 32/54 [10:39<07:19, 20.00s/it]"
     ]
    },
    {
     "name": "stdout",
     "output_type": "stream",
     "text": [
      "../cache/bkup2/test7_1_t_store33.csv\n",
      "(2025901, 27)\n"
     ]
    },
    {
     "name": "stderr",
     "output_type": "stream",
     "text": [
      "\r",
      " 61%|██████    | 33/54 [10:57<06:58, 19.94s/it]"
     ]
    },
    {
     "name": "stdout",
     "output_type": "stream",
     "text": [
      "../cache/bkup2/test7_1_t_store34.csv\n",
      "(2361838, 27)\n"
     ]
    },
    {
     "name": "stderr",
     "output_type": "stream",
     "text": [
      "\r",
      " 63%|██████▎   | 34/54 [11:18<06:39, 19.97s/it]"
     ]
    },
    {
     "name": "stdout",
     "output_type": "stream",
     "text": [
      "../cache/bkup2/test7_1_t_store35.csv\n",
      "(1450520, 27)\n"
     ]
    },
    {
     "name": "stderr",
     "output_type": "stream",
     "text": [
      "\r",
      " 65%|██████▍   | 35/54 [11:31<06:15, 19.74s/it]"
     ]
    },
    {
     "name": "stdout",
     "output_type": "stream",
     "text": [
      "../cache/bkup2/test7_1_t_store36.csv\n",
      "(2273578, 27)\n"
     ]
    },
    {
     "name": "stderr",
     "output_type": "stream",
     "text": [
      "\r",
      " 67%|██████▋   | 36/54 [11:50<05:55, 19.74s/it]"
     ]
    },
    {
     "name": "stdout",
     "output_type": "stream",
     "text": [
      "../cache/bkup2/test7_1_t_store37.csv\n",
      "(2894107, 27)\n"
     ]
    },
    {
     "name": "stderr",
     "output_type": "stream",
     "text": [
      "\r",
      " 69%|██████▊   | 37/54 [12:15<05:37, 19.87s/it]"
     ]
    },
    {
     "name": "stdout",
     "output_type": "stream",
     "text": [
      "../cache/bkup2/test7_1_t_store38.csv\n",
      "(2790147, 27)\n"
     ]
    },
    {
     "name": "stderr",
     "output_type": "stream",
     "text": [
      "\r",
      " 70%|███████   | 38/54 [12:39<05:19, 19.97s/it]"
     ]
    },
    {
     "name": "stdout",
     "output_type": "stream",
     "text": [
      "../cache/bkup2/test7_1_t_store39.csv\n",
      "(2700452, 27)\n"
     ]
    },
    {
     "name": "stderr",
     "output_type": "stream",
     "text": [
      "\r",
      " 72%|███████▏  | 39/54 [13:02<05:00, 20.05s/it]"
     ]
    },
    {
     "name": "stdout",
     "output_type": "stream",
     "text": [
      "../cache/bkup2/test7_1_t_store40.csv\n",
      "(2165215, 27)\n"
     ]
    },
    {
     "name": "stderr",
     "output_type": "stream",
     "text": [
      "\r",
      " 74%|███████▍  | 40/54 [13:20<04:40, 20.02s/it]"
     ]
    },
    {
     "name": "stdout",
     "output_type": "stream",
     "text": [
      "../cache/bkup2/test7_1_t_store41.csv\n",
      "(2566335, 27)\n"
     ]
    },
    {
     "name": "stderr",
     "output_type": "stream",
     "text": [
      "\r",
      " 76%|███████▌  | 41/54 [13:42<04:20, 20.07s/it]"
     ]
    },
    {
     "name": "stdout",
     "output_type": "stream",
     "text": [
      "../cache/bkup2/test7_1_t_store42.csv\n",
      "(1524099, 27)\n"
     ]
    },
    {
     "name": "stderr",
     "output_type": "stream",
     "text": [
      "\r",
      " 78%|███████▊  | 42/54 [13:56<03:58, 19.92s/it]"
     ]
    },
    {
     "name": "stdout",
     "output_type": "stream",
     "text": [
      "../cache/bkup2/test7_1_t_store43.csv\n",
      "(2002110, 27)\n"
     ]
    },
    {
     "name": "stderr",
     "output_type": "stream",
     "text": [
      "\r",
      " 80%|███████▉  | 43/54 [14:14<03:38, 19.88s/it]"
     ]
    },
    {
     "name": "stdout",
     "output_type": "stream",
     "text": [
      "../cache/bkup2/test7_1_t_store44.csv\n",
      "(3575505, 27)\n"
     ]
    },
    {
     "name": "stderr",
     "output_type": "stream",
     "text": [
      "\r",
      " 81%|████████▏ | 44/54 [14:47<03:21, 20.16s/it]"
     ]
    },
    {
     "name": "stdout",
     "output_type": "stream",
     "text": [
      "../cache/bkup2/test7_1_t_store45.csv\n",
      "(3546660, 27)\n"
     ]
    },
    {
     "name": "stderr",
     "output_type": "stream",
     "text": [
      "\r",
      " 83%|████████▎ | 45/54 [15:19<03:03, 20.43s/it]"
     ]
    },
    {
     "name": "stdout",
     "output_type": "stream",
     "text": [
      "../cache/bkup2/test7_1_t_store46.csv\n",
      "(3416306, 27)\n"
     ]
    },
    {
     "name": "stderr",
     "output_type": "stream",
     "text": [
      "\r",
      " 85%|████████▌ | 46/54 [15:50<02:45, 20.66s/it]"
     ]
    },
    {
     "name": "stdout",
     "output_type": "stream",
     "text": [
      "../cache/bkup2/test7_1_t_store47.csv\n",
      "(3519823, 27)\n"
     ]
    },
    {
     "name": "stderr",
     "output_type": "stream",
     "text": [
      "\r",
      " 87%|████████▋ | 47/54 [16:21<02:26, 20.89s/it]"
     ]
    },
    {
     "name": "stdout",
     "output_type": "stream",
     "text": [
      "../cache/bkup2/test7_1_t_store48.csv\n",
      "(3298939, 27)\n"
     ]
    },
    {
     "name": "stderr",
     "output_type": "stream",
     "text": [
      "\r",
      " 89%|████████▉ | 48/54 [16:51<02:06, 21.08s/it]"
     ]
    },
    {
     "name": "stdout",
     "output_type": "stream",
     "text": [
      "../cache/bkup2/test7_1_t_store49.csv\n",
      "(3404947, 27)\n"
     ]
    },
    {
     "name": "stderr",
     "output_type": "stream",
     "text": [
      "\r",
      " 91%|█████████ | 49/54 [17:22<01:46, 21.28s/it]"
     ]
    },
    {
     "name": "stdout",
     "output_type": "stream",
     "text": [
      "../cache/bkup2/test7_1_t_store50.csv\n",
      "(3254982, 27)\n"
     ]
    },
    {
     "name": "stderr",
     "output_type": "stream",
     "text": [
      "\r",
      " 93%|█████████▎| 50/54 [17:52<01:25, 21.45s/it]"
     ]
    },
    {
     "name": "stdout",
     "output_type": "stream",
     "text": [
      "../cache/bkup2/test7_1_t_store51.csv\n",
      "(3022447, 27)\n"
     ]
    },
    {
     "name": "stderr",
     "output_type": "stream",
     "text": [
      "\r",
      " 94%|█████████▍| 51/54 [18:18<01:04, 21.54s/it]"
     ]
    },
    {
     "name": "stdout",
     "output_type": "stream",
     "text": [
      "../cache/bkup2/test7_1_t_store52.csv\n",
      "(352997, 27)\n"
     ]
    },
    {
     "name": "stderr",
     "output_type": "stream",
     "text": [
      "\r",
      " 96%|█████████▋| 52/54 [18:21<00:42, 21.18s/it]"
     ]
    },
    {
     "name": "stdout",
     "output_type": "stream",
     "text": [
      "../cache/bkup2/test7_1_t_store53.csv\n",
      "(2000671, 27)\n"
     ]
    },
    {
     "name": "stderr",
     "output_type": "stream",
     "text": [
      "\r",
      " 98%|█████████▊| 53/54 [18:38<00:21, 21.10s/it]"
     ]
    },
    {
     "name": "stdout",
     "output_type": "stream",
     "text": [
      "../cache/bkup2/test7_1_t_store54.csv\n",
      "(1711283, 27)\n"
     ]
    },
    {
     "name": "stderr",
     "output_type": "stream",
     "text": [
      "100%|██████████| 54/54 [18:52<00:00, 20.98s/it]\n"
     ]
    }
   ],
   "source": [
    "for shop_num in tqdm(range(1,55)):\n",
    "    fn_org = '../cache/bkup/train10_t_store{}.csv'.format(shop_num)\n",
    "    fn_org1 = '../cache/bkup2/test7_1_t_store{}.csv'.format(shop_num)\n",
    "    print(fn_org1)\n",
    "    df = pd.read_csv(fn_org)\n",
    "    df1 = pd.read_csv(fn_org1)\n",
    "    df = pd.concat([df, df1], axis=0)\n",
    "    \n",
    "    print(df.shape)\n",
    "    df['date_block_num']  = df.date.map(lambda x: get_date_block_num(x))\n",
    "#     df['isHol'] = df['h_type'].map(lambda x: '1' if x != 'Work Day' else '0')\n",
    "#     df['in_t']  = df.item_nbr.astype('str') + '_' + df.dow.astype('str') + '_' + df.onpromotion.astype('str') + '_' + df.isHol.astype('str')\n",
    "    \n",
    "#     df = df.drop_duplicates()\n",
    "    unit_sales_dph_mean = df.groupby(['item_nbr', 'date_block_num'], as_index=False).agg({'transactions':{'transactions_mean':'mean'}, \n",
    "                                                         })\n",
    "    unit_sales_dph_mean.columns = ['item_nbr', 'date_block_num', 'transactions_mean']\n",
    "    df = pd.merge(df, unit_sales_dph_mean, how='left', on=['item_nbr', 'date_block_num']).fillna(0.0)\n",
    "\n",
    "    \n",
    "    shifted_df = df[['id', 'date_block_num','item_nbr','transactions_mean']].copy()\n",
    "    \n",
    "    fn = '../cache/shifted_rstm_df_shop{}.csv'.format(shop_num)\n",
    "    delete_file_if_exists(fn)\n",
    "    \n",
    "    shifted_df.to_csv(fn, float_format='%.5f', index=False)\n",
    "    del shifted_df\n",
    "    del df1\n",
    "    del df\n",
    "    del unit_sales_dph_mean\n",
    "#     del unit_sales_hol_median\n",
    "#     del unit_sales_hol_std\n"
   ]
  },
  {
   "cell_type": "code",
   "execution_count": 4,
   "metadata": {},
   "outputs": [
    {
     "name": "stderr",
     "output_type": "stream",
     "text": [
      " 39%|███▉      | 21/54 [33:08<52:05, 94.70s/it]   "
     ]
    },
    {
     "name": "stdout",
     "output_type": "stream",
     "text": [
      "22\n",
      "(985899, 9)\n",
      "{33, 34, 35, 36, 37, 38, 39, 40, 41, 42, 43, 44, 45, 46, 47, 48, 49, 50, 51, 52, 53, 54, 55}\n",
      "23\n",
      "{57, 58, 59, 60, 61, 62, 63, 64, 65, 66, 67, 68, 69, 70, 71, 72, 73, 74, 75, 76, 77, 78, 79}\n",
      "(985899, 1)\n",
      "------\n"
     ]
    },
    {
     "name": "stderr",
     "output_type": "stream",
     "text": [
      " 94%|█████████▍| 51/54 [1:09:47<04:06, 82.11s/it]"
     ]
    },
    {
     "name": "stdout",
     "output_type": "stream",
     "text": [
      "52\n",
      "(352997, 7)\n",
      "{51, 52, 53, 54, 55}\n",
      "5\n",
      "{57, 58, 59, 60, 61}\n",
      "(352997, 1)\n",
      "------\n",
      "52\n",
      "(352997, 8)\n",
      "{51, 52, 53, 54, 55}\n",
      "5\n",
      "{64, 65, 66, 67, 63}\n",
      "(352997, 1)\n",
      "------\n",
      "52\n",
      "(352997, 9)\n",
      "{51, 52, 53, 54, 55}\n",
      "5\n",
      "{75, 76, 77, 78, 79}\n",
      "(352997, 1)\n",
      "------\n"
     ]
    },
    {
     "name": "stderr",
     "output_type": "stream",
     "text": [
      "100%|██████████| 54/54 [1:11:35<00:00, 79.54s/it]\n"
     ]
    }
   ],
   "source": [
    "for shop_num in tqdm(range(1,55)):\n",
    "    fn = '../cache/shifted_rstm_df_shop{}.csv'.format(shop_num)\n",
    "    df1 = pd.read_csv(fn)\n",
    "\n",
    "    for shift in [1,3,6,12,24]:\n",
    "        \n",
    "    #     print(df1.shape)\n",
    "    #     print(set(df1.date_block_num))\n",
    "    #     df1 = df1.drop('my_id', axis=1)\n",
    "        # forward\n",
    "        # 24 month\n",
    "        shifted_df = df1[['date_block_num','item_nbr','transactions_mean']].copy()\n",
    "    #     print(shifted_df.shape)\n",
    "        org_date_blocks = shifted_df.date_block_num.values\n",
    "        shifted_df.date_block_num += shift\n",
    "        col = 'transactions_mean_f_lag_' + str(shift)\n",
    "        shifted_df.columns = ['date_block_num','item_nbr', col]\n",
    "    #     print(shifted_df.date_block_num.nunique())\n",
    "\n",
    "        df1 = df1.merge(shifted_df, on=['date_block_num','item_nbr'], how='left').fillna(0.0)\n",
    "        df1 = df1.drop_duplicates()\n",
    "\n",
    "        assert(len(df1) == len(shifted_df))\n",
    "\n",
    "        df = pd.DataFrame()\n",
    "        df['id'] = df1.id.values\n",
    "        df[col] = df1[col].values\n",
    "        df = df.loc[:, (df != 0).any(axis=0)]\n",
    "        if len(df.columns) != 2:\n",
    "            print(shop_num)\n",
    "            print(df1.shape)\n",
    "            print(set(df1.date_block_num))\n",
    "            print(shifted_df.date_block_num.nunique())\n",
    "            print(set(shifted_df.date_block_num))\n",
    "            print(df.shape)\n",
    "            print('------')\n",
    "        fn = '../cache/lag' + str(shift) + '_df_rstm_shop{}.csv'.format(shop_num)\n",
    "#         fn = '../cache/lag1_df_ipm_shop{}.csv'.format(shop_num)\n",
    "        delete_file_if_exists(fn)\n",
    "        df.to_csv(fn, float_format='%.5f', index=False)\n",
    "        del shifted_df\n",
    "        del df\n",
    "    del df1"
   ]
  },
  {
   "cell_type": "code",
   "execution_count": 5,
   "metadata": {},
   "outputs": [
    {
     "name": "stderr",
     "output_type": "stream",
     "text": [
      "\r",
      "  0%|          | 0/54 [00:00<?, ?it/s]"
     ]
    },
    {
     "name": "stdout",
     "output_type": "stream",
     "text": [
      "../cache/bkup2/test7_1_t_store1.csv\n"
     ]
    },
    {
     "name": "stderr",
     "output_type": "stream",
     "text": [
      "/home/watts/anaconda2/envs/sdp35/lib/python3.5/site-packages/IPython/core/interactiveshell.py:2728: DtypeWarning: Columns (5) have mixed types. Specify dtype option on import or set low_memory=False.\n",
      "  interactivity=interactivity, compiler=compiler, result=result)\n"
     ]
    },
    {
     "name": "stdout",
     "output_type": "stream",
     "text": [
      "(2624569, 27)\n"
     ]
    },
    {
     "name": "stderr",
     "output_type": "stream",
     "text": [
      "/home/watts/anaconda2/envs/sdp35/lib/python3.5/site-packages/pandas/core/groupby.py:4189: FutureWarning: using a dict with renaming is deprecated and will be removed in a future version\n",
      "  return super(DataFrameGroupBy, self).aggregate(arg, *args, **kwargs)\n",
      "  2%|▏         | 1/54 [00:22<20:13, 22.90s/it]"
     ]
    },
    {
     "name": "stdout",
     "output_type": "stream",
     "text": [
      "../cache/bkup2/test7_1_t_store2.csv\n",
      "(3050256, 27)\n"
     ]
    },
    {
     "name": "stderr",
     "output_type": "stream",
     "text": [
      "\r",
      "  4%|▎         | 2/54 [00:48<20:51, 24.06s/it]"
     ]
    },
    {
     "name": "stdout",
     "output_type": "stream",
     "text": [
      "../cache/bkup2/test7_1_t_store3.csv\n",
      "(3463680, 27)\n"
     ]
    },
    {
     "name": "stderr",
     "output_type": "stream",
     "text": [
      "\r",
      "  6%|▌         | 3/54 [01:16<21:41, 25.52s/it]"
     ]
    },
    {
     "name": "stdout",
     "output_type": "stream",
     "text": [
      "../cache/bkup2/test7_1_t_store4.csv\n",
      "(2892970, 27)\n"
     ]
    },
    {
     "name": "stderr",
     "output_type": "stream",
     "text": [
      "\r",
      "  7%|▋         | 4/54 [01:43<21:32, 25.85s/it]"
     ]
    },
    {
     "name": "stdout",
     "output_type": "stream",
     "text": [
      "../cache/bkup2/test7_1_t_store5.csv\n",
      "(2729107, 27)\n"
     ]
    },
    {
     "name": "stderr",
     "output_type": "stream",
     "text": [
      "\r",
      "  9%|▉         | 5/54 [02:07<20:51, 25.54s/it]"
     ]
    },
    {
     "name": "stdout",
     "output_type": "stream",
     "text": [
      "../cache/bkup2/test7_1_t_store6.csv\n",
      "(3152215, 27)\n"
     ]
    },
    {
     "name": "stderr",
     "output_type": "stream",
     "text": [
      "\r",
      " 11%|█         | 6/54 [02:35<20:40, 25.85s/it]"
     ]
    },
    {
     "name": "stdout",
     "output_type": "stream",
     "text": [
      "../cache/bkup2/test7_1_t_store7.csv\n",
      "(2983620, 27)\n"
     ]
    },
    {
     "name": "stderr",
     "output_type": "stream",
     "text": [
      "\r",
      " 13%|█▎        | 7/54 [03:00<20:12, 25.81s/it]"
     ]
    },
    {
     "name": "stdout",
     "output_type": "stream",
     "text": [
      "../cache/bkup2/test7_1_t_store8.csv\n",
      "(3323600, 27)\n"
     ]
    },
    {
     "name": "stderr",
     "output_type": "stream",
     "text": [
      "\r",
      " 15%|█▍        | 8/54 [03:29<20:05, 26.20s/it]"
     ]
    },
    {
     "name": "stdout",
     "output_type": "stream",
     "text": [
      "../cache/bkup2/test7_1_t_store9.csv\n",
      "(2836206, 27)\n"
     ]
    },
    {
     "name": "stderr",
     "output_type": "stream",
     "text": [
      "\r",
      " 17%|█▋        | 9/54 [03:53<19:29, 25.99s/it]"
     ]
    },
    {
     "name": "stdout",
     "output_type": "stream",
     "text": [
      "../cache/bkup2/test7_1_t_store10.csv\n",
      "(1802898, 27)\n"
     ]
    },
    {
     "name": "stderr",
     "output_type": "stream",
     "text": [
      "\r",
      " 19%|█▊        | 10/54 [04:08<18:14, 24.88s/it]"
     ]
    },
    {
     "name": "stdout",
     "output_type": "stream",
     "text": [
      "../cache/bkup2/test7_1_t_store11.csv\n",
      "(2630698, 27)\n"
     ]
    },
    {
     "name": "stderr",
     "output_type": "stream",
     "text": [
      "\r",
      " 20%|██        | 11/54 [04:30<17:37, 24.59s/it]"
     ]
    },
    {
     "name": "stdout",
     "output_type": "stream",
     "text": [
      "../cache/bkup2/test7_1_t_store12.csv\n",
      "(1898999, 27)\n"
     ]
    },
    {
     "name": "stderr",
     "output_type": "stream",
     "text": [
      "\r",
      " 22%|██▏       | 12/54 [04:46<16:43, 23.89s/it]"
     ]
    },
    {
     "name": "stdout",
     "output_type": "stream",
     "text": [
      "../cache/bkup2/test7_1_t_store13.csv\n",
      "(1799144, 27)\n"
     ]
    },
    {
     "name": "stderr",
     "output_type": "stream",
     "text": [
      "\r",
      " 24%|██▍       | 13/54 [05:01<15:52, 23.22s/it]"
     ]
    },
    {
     "name": "stdout",
     "output_type": "stream",
     "text": [
      "../cache/bkup2/test7_1_t_store14.csv\n",
      "(1868357, 27)\n"
     ]
    },
    {
     "name": "stderr",
     "output_type": "stream",
     "text": [
      "\r",
      " 26%|██▌       | 14/54 [05:17<15:07, 22.69s/it]"
     ]
    },
    {
     "name": "stdout",
     "output_type": "stream",
     "text": [
      "../cache/bkup2/test7_1_t_store15.csv\n",
      "(2001094, 27)\n"
     ]
    },
    {
     "name": "stderr",
     "output_type": "stream",
     "text": [
      "\r",
      " 28%|██▊       | 15/54 [05:34<14:29, 22.29s/it]"
     ]
    },
    {
     "name": "stdout",
     "output_type": "stream",
     "text": [
      "../cache/bkup2/test7_1_t_store16.csv\n",
      "(1882451, 27)\n"
     ]
    },
    {
     "name": "stderr",
     "output_type": "stream",
     "text": [
      "\r",
      " 30%|██▉       | 16/54 [05:50<13:53, 21.93s/it]"
     ]
    },
    {
     "name": "stdout",
     "output_type": "stream",
     "text": [
      "../cache/bkup2/test7_1_t_store17.csv\n",
      "(2226436, 27)\n"
     ]
    },
    {
     "name": "stderr",
     "output_type": "stream",
     "text": [
      "\r",
      " 31%|███▏      | 17/54 [06:10<13:25, 21.78s/it]"
     ]
    },
    {
     "name": "stdout",
     "output_type": "stream",
     "text": [
      "../cache/bkup2/test7_1_t_store18.csv\n",
      "(2259098, 27)\n"
     ]
    },
    {
     "name": "stderr",
     "output_type": "stream",
     "text": [
      "\r",
      " 33%|███▎      | 18/54 [06:30<13:00, 21.68s/it]"
     ]
    },
    {
     "name": "stdout",
     "output_type": "stream",
     "text": [
      "../cache/bkup2/test7_1_t_store19.csv\n",
      "(1941571, 27)\n"
     ]
    },
    {
     "name": "stderr",
     "output_type": "stream",
     "text": [
      "\r",
      " 35%|███▌      | 19/54 [06:48<12:32, 21.49s/it]"
     ]
    },
    {
     "name": "stdout",
     "output_type": "stream",
     "text": [
      "../cache/bkup2/test7_1_t_store20.csv\n",
      "(1728401, 27)\n"
     ]
    },
    {
     "name": "stderr",
     "output_type": "stream",
     "text": [
      "\r",
      " 37%|███▋      | 20/54 [07:02<11:59, 21.15s/it]"
     ]
    },
    {
     "name": "stdout",
     "output_type": "stream",
     "text": [
      "../cache/bkup2/test7_1_t_store21.csv\n",
      "(1435835, 27)\n"
     ]
    },
    {
     "name": "stderr",
     "output_type": "stream",
     "text": [
      "\r",
      " 39%|███▉      | 21/54 [07:16<11:25, 20.78s/it]"
     ]
    },
    {
     "name": "stdout",
     "output_type": "stream",
     "text": [
      "../cache/bkup2/test7_1_t_store22.csv\n",
      "(985899, 27)\n"
     ]
    },
    {
     "name": "stderr",
     "output_type": "stream",
     "text": [
      "\r",
      " 41%|████      | 22/54 [07:25<10:48, 20.26s/it]"
     ]
    },
    {
     "name": "stdout",
     "output_type": "stream",
     "text": [
      "../cache/bkup2/test7_1_t_store23.csv\n",
      "(2428113, 27)\n"
     ]
    },
    {
     "name": "stderr",
     "output_type": "stream",
     "text": [
      "\r",
      " 43%|████▎     | 23/54 [07:47<10:30, 20.33s/it]"
     ]
    },
    {
     "name": "stdout",
     "output_type": "stream",
     "text": [
      "../cache/bkup2/test7_1_t_store24.csv\n",
      "(2832305, 27)\n"
     ]
    },
    {
     "name": "stderr",
     "output_type": "stream",
     "text": [
      "\r",
      " 44%|████▍     | 24/54 [08:15<10:18, 20.63s/it]"
     ]
    },
    {
     "name": "stdout",
     "output_type": "stream",
     "text": [
      "../cache/bkup2/test7_1_t_store25.csv\n",
      "(2119436, 27)\n"
     ]
    },
    {
     "name": "stderr",
     "output_type": "stream",
     "text": [
      "\r",
      " 46%|████▋     | 25/54 [08:36<09:58, 20.65s/it]"
     ]
    },
    {
     "name": "stdout",
     "output_type": "stream",
     "text": [
      "../cache/bkup2/test7_1_t_store26.csv\n",
      "(1855498, 27)\n"
     ]
    },
    {
     "name": "stderr",
     "output_type": "stream",
     "text": [
      "\r",
      " 48%|████▊     | 26/54 [08:55<09:36, 20.58s/it]"
     ]
    },
    {
     "name": "stdout",
     "output_type": "stream",
     "text": [
      "../cache/bkup2/test7_1_t_store27.csv\n",
      "(2694130, 27)\n"
     ]
    },
    {
     "name": "stderr",
     "output_type": "stream",
     "text": [
      "\r",
      " 50%|█████     | 27/54 [09:20<09:20, 20.78s/it]"
     ]
    },
    {
     "name": "stdout",
     "output_type": "stream",
     "text": [
      "../cache/bkup2/test7_1_t_store28.csv\n",
      "(2481232, 27)\n"
     ]
    },
    {
     "name": "stderr",
     "output_type": "stream",
     "text": [
      "\r",
      " 52%|█████▏    | 28/54 [09:44<09:02, 20.86s/it]"
     ]
    },
    {
     "name": "stdout",
     "output_type": "stream",
     "text": [
      "../cache/bkup2/test7_1_t_store29.csv\n",
      "(1571375, 27)\n"
     ]
    },
    {
     "name": "stderr",
     "output_type": "stream",
     "text": [
      "\r",
      " 54%|█████▎    | 29/54 [09:58<08:35, 20.64s/it]"
     ]
    },
    {
     "name": "stdout",
     "output_type": "stream",
     "text": [
      "../cache/bkup2/test7_1_t_store30.csv\n",
      "(1660278, 27)\n"
     ]
    },
    {
     "name": "stderr",
     "output_type": "stream",
     "text": [
      "\r",
      " 56%|█████▌    | 30/54 [10:13<08:10, 20.45s/it]"
     ]
    },
    {
     "name": "stdout",
     "output_type": "stream",
     "text": [
      "../cache/bkup2/test7_1_t_store31.csv\n",
      "(2424140, 27)\n"
     ]
    },
    {
     "name": "stderr",
     "output_type": "stream",
     "text": [
      "\r",
      " 57%|█████▋    | 31/54 [10:36<07:52, 20.53s/it]"
     ]
    },
    {
     "name": "stdout",
     "output_type": "stream",
     "text": [
      "../cache/bkup2/test7_1_t_store32.csv\n",
      "(1425031, 27)\n"
     ]
    },
    {
     "name": "stderr",
     "output_type": "stream",
     "text": [
      "\r",
      " 59%|█████▉    | 32/54 [10:49<07:26, 20.28s/it]"
     ]
    },
    {
     "name": "stdout",
     "output_type": "stream",
     "text": [
      "../cache/bkup2/test7_1_t_store33.csv\n",
      "(2025901, 27)\n"
     ]
    },
    {
     "name": "stderr",
     "output_type": "stream",
     "text": [
      "\r",
      " 61%|██████    | 33/54 [11:06<07:04, 20.20s/it]"
     ]
    },
    {
     "name": "stdout",
     "output_type": "stream",
     "text": [
      "../cache/bkup2/test7_1_t_store34.csv\n",
      "(2361838, 27)\n"
     ]
    },
    {
     "name": "stderr",
     "output_type": "stream",
     "text": [
      "\r",
      " 63%|██████▎   | 34/54 [11:29<06:45, 20.27s/it]"
     ]
    },
    {
     "name": "stdout",
     "output_type": "stream",
     "text": [
      "../cache/bkup2/test7_1_t_store35.csv\n",
      "(1450520, 27)\n"
     ]
    },
    {
     "name": "stderr",
     "output_type": "stream",
     "text": [
      "\r",
      " 65%|██████▍   | 35/54 [11:42<06:21, 20.08s/it]"
     ]
    },
    {
     "name": "stdout",
     "output_type": "stream",
     "text": [
      "../cache/bkup2/test7_1_t_store36.csv\n",
      "(2273578, 27)\n"
     ]
    },
    {
     "name": "stderr",
     "output_type": "stream",
     "text": [
      "\r",
      " 67%|██████▋   | 36/54 [12:03<06:01, 20.11s/it]"
     ]
    },
    {
     "name": "stdout",
     "output_type": "stream",
     "text": [
      "../cache/bkup2/test7_1_t_store37.csv\n",
      "(2894107, 27)\n"
     ]
    },
    {
     "name": "stderr",
     "output_type": "stream",
     "text": [
      "\r",
      " 69%|██████▊   | 37/54 [12:28<05:44, 20.24s/it]"
     ]
    },
    {
     "name": "stdout",
     "output_type": "stream",
     "text": [
      "../cache/bkup2/test7_1_t_store38.csv\n",
      "(2790147, 27)\n"
     ]
    },
    {
     "name": "stderr",
     "output_type": "stream",
     "text": [
      "\r",
      " 70%|███████   | 38/54 [12:52<05:25, 20.33s/it]"
     ]
    },
    {
     "name": "stdout",
     "output_type": "stream",
     "text": [
      "../cache/bkup2/test7_1_t_store39.csv\n",
      "(2700452, 27)\n"
     ]
    },
    {
     "name": "stderr",
     "output_type": "stream",
     "text": [
      "\r",
      " 72%|███████▏  | 39/54 [13:17<05:06, 20.44s/it]"
     ]
    },
    {
     "name": "stdout",
     "output_type": "stream",
     "text": [
      "../cache/bkup2/test7_1_t_store40.csv\n",
      "(2165215, 27)\n"
     ]
    },
    {
     "name": "stderr",
     "output_type": "stream",
     "text": [
      "\r",
      " 74%|███████▍  | 40/54 [13:36<04:45, 20.42s/it]"
     ]
    },
    {
     "name": "stdout",
     "output_type": "stream",
     "text": [
      "../cache/bkup2/test7_1_t_store41.csv\n",
      "(2566335, 27)\n"
     ]
    },
    {
     "name": "stderr",
     "output_type": "stream",
     "text": [
      "\r",
      " 76%|███████▌  | 41/54 [14:00<04:26, 20.50s/it]"
     ]
    },
    {
     "name": "stdout",
     "output_type": "stream",
     "text": [
      "../cache/bkup2/test7_1_t_store42.csv\n",
      "(1524099, 27)\n"
     ]
    },
    {
     "name": "stderr",
     "output_type": "stream",
     "text": [
      "\r",
      " 78%|███████▊  | 42/54 [14:14<04:04, 20.35s/it]"
     ]
    },
    {
     "name": "stdout",
     "output_type": "stream",
     "text": [
      "../cache/bkup2/test7_1_t_store43.csv\n",
      "(2002110, 27)\n"
     ]
    },
    {
     "name": "stderr",
     "output_type": "stream",
     "text": [
      "\r",
      " 80%|███████▉  | 43/54 [14:33<03:43, 20.31s/it]"
     ]
    },
    {
     "name": "stdout",
     "output_type": "stream",
     "text": [
      "../cache/bkup2/test7_1_t_store44.csv\n",
      "(3575505, 27)\n"
     ]
    },
    {
     "name": "stderr",
     "output_type": "stream",
     "text": [
      "\r",
      " 81%|████████▏ | 44/54 [15:07<03:26, 20.62s/it]"
     ]
    },
    {
     "name": "stdout",
     "output_type": "stream",
     "text": [
      "../cache/bkup2/test7_1_t_store45.csv\n",
      "(3546660, 27)\n"
     ]
    },
    {
     "name": "stderr",
     "output_type": "stream",
     "text": [
      "\r",
      " 83%|████████▎ | 45/54 [15:40<03:08, 20.90s/it]"
     ]
    },
    {
     "name": "stdout",
     "output_type": "stream",
     "text": [
      "../cache/bkup2/test7_1_t_store46.csv\n",
      "(3416306, 27)\n"
     ]
    },
    {
     "name": "stderr",
     "output_type": "stream",
     "text": [
      "\r",
      " 85%|████████▌ | 46/54 [16:12<02:49, 21.13s/it]"
     ]
    },
    {
     "name": "stdout",
     "output_type": "stream",
     "text": [
      "../cache/bkup2/test7_1_t_store47.csv\n",
      "(3519823, 27)\n"
     ]
    },
    {
     "name": "stderr",
     "output_type": "stream",
     "text": [
      "\r",
      " 87%|████████▋ | 47/54 [16:45<02:29, 21.39s/it]"
     ]
    },
    {
     "name": "stdout",
     "output_type": "stream",
     "text": [
      "../cache/bkup2/test7_1_t_store48.csv\n",
      "(3298939, 27)\n"
     ]
    },
    {
     "name": "stderr",
     "output_type": "stream",
     "text": [
      "\r",
      " 89%|████████▉ | 48/54 [17:15<02:09, 21.58s/it]"
     ]
    },
    {
     "name": "stdout",
     "output_type": "stream",
     "text": [
      "../cache/bkup2/test7_1_t_store49.csv\n",
      "(3404947, 27)\n"
     ]
    },
    {
     "name": "stderr",
     "output_type": "stream",
     "text": [
      "\r",
      " 91%|█████████ | 49/54 [17:47<01:48, 21.79s/it]"
     ]
    },
    {
     "name": "stdout",
     "output_type": "stream",
     "text": [
      "../cache/bkup2/test7_1_t_store50.csv\n",
      "(3254982, 27)\n"
     ]
    },
    {
     "name": "stderr",
     "output_type": "stream",
     "text": [
      "\r",
      " 93%|█████████▎| 50/54 [18:15<01:27, 21.91s/it]"
     ]
    },
    {
     "name": "stdout",
     "output_type": "stream",
     "text": [
      "../cache/bkup2/test7_1_t_store51.csv\n",
      "(3022447, 27)\n"
     ]
    },
    {
     "name": "stderr",
     "output_type": "stream",
     "text": [
      "\r",
      " 94%|█████████▍| 51/54 [18:42<01:06, 22.01s/it]"
     ]
    },
    {
     "name": "stdout",
     "output_type": "stream",
     "text": [
      "../cache/bkup2/test7_1_t_store52.csv\n",
      "(352997, 27)\n"
     ]
    },
    {
     "name": "stderr",
     "output_type": "stream",
     "text": [
      "\r",
      " 96%|█████████▋| 52/54 [18:45<00:43, 21.65s/it]"
     ]
    },
    {
     "name": "stdout",
     "output_type": "stream",
     "text": [
      "../cache/bkup2/test7_1_t_store53.csv\n",
      "(2000671, 27)\n"
     ]
    },
    {
     "name": "stderr",
     "output_type": "stream",
     "text": [
      "\r",
      " 98%|█████████▊| 53/54 [19:02<00:21, 21.55s/it]"
     ]
    },
    {
     "name": "stdout",
     "output_type": "stream",
     "text": [
      "../cache/bkup2/test7_1_t_store54.csv\n",
      "(1711283, 27)\n"
     ]
    },
    {
     "name": "stderr",
     "output_type": "stream",
     "text": [
      "100%|██████████| 54/54 [19:19<00:00, 21.46s/it]\n"
     ]
    }
   ],
   "source": [
    "for shop_num in tqdm(range(1,55)):\n",
    "    fn_org = '../cache/bkup/train10_t_store{}.csv'.format(shop_num)\n",
    "    fn_org1 = '../cache/bkup2/test7_1_t_store{}.csv'.format(shop_num)\n",
    "    print(fn_org1)\n",
    "    df = pd.read_csv(fn_org)\n",
    "    df1 = pd.read_csv(fn_org1)\n",
    "    df = pd.concat([df, df1], axis=0)\n",
    "    \n",
    "    print(df.shape)\n",
    "    df['date_block_num']  = df.date.map(lambda x: get_date_block_num(x))\n",
    "#     df['isHol'] = df['h_type'].map(lambda x: '1' if x != 'Work Day' else '0')\n",
    "#     df['in_t']  = df.item_nbr.astype('str') + '_' + df.dow.astype('str') + '_' + df.onpromotion.astype('str') + '_' + df.isHol.astype('str')\n",
    "    \n",
    "#     df = df.drop_duplicates()\n",
    "    unit_sales_dph_mean = df.groupby(['item_nbr', 'date_block_num'], as_index=False).agg({'transactions':{'transactions_sum':'sum'}, \n",
    "                                                         })\n",
    "    unit_sales_dph_mean.columns = ['item_nbr', 'date_block_num', 'transactions_sum']\n",
    "    df = pd.merge(df, unit_sales_dph_mean, how='left', on=['item_nbr', 'date_block_num']).fillna(0.0)\n",
    "\n",
    "    \n",
    "    shifted_df = df[['id', 'date_block_num','item_nbr','transactions_sum']].copy()\n",
    "    \n",
    "    fn = '../cache/shifted_rsts_df_shop{}.csv'.format(shop_num)\n",
    "    delete_file_if_exists(fn)\n",
    "    \n",
    "    shifted_df.to_csv(fn, float_format='%.5f', index=False)\n",
    "    del shifted_df\n",
    "    del df1\n",
    "    del df\n",
    "    del unit_sales_dph_mean"
   ]
  },
  {
   "cell_type": "code",
   "execution_count": null,
   "metadata": {},
   "outputs": [],
   "source": []
  }
 ],
 "metadata": {
  "kernelspec": {
   "display_name": "sdp35",
   "language": "python",
   "name": "sdp35"
  },
  "language_info": {
   "codemirror_mode": {
    "name": "ipython",
    "version": 3
   },
   "file_extension": ".py",
   "mimetype": "text/x-python",
   "name": "python",
   "nbconvert_exporter": "python",
   "pygments_lexer": "ipython3",
   "version": "3.5.4"
  }
 },
 "nbformat": 4,
 "nbformat_minor": 2
}
