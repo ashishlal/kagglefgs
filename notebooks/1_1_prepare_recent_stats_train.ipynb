{
 "cells": [
  {
   "cell_type": "code",
   "execution_count": 1,
   "metadata": {
    "collapsed": true
   },
   "outputs": [],
   "source": [
    "import os\n",
    "from tqdm import tqdm\n",
    "import feather\n",
    "import pandas as pd\n",
    "import numpy as np\n",
    "from scipy import stats\n",
    "import gc\n",
    "from joblib import Parallel, delayed"
   ]
  },
  {
   "cell_type": "code",
   "execution_count": 2,
   "metadata": {
    "collapsed": true
   },
   "outputs": [],
   "source": [
    "def append_to_csv(batch, csv_file):\n",
    "    props = dict(encoding='utf-8', index=False)\n",
    "    if not os.path.exists(csv_file):\n",
    "        batch.to_csv(csv_file, **props)\n",
    "    else:\n",
    "        batch.to_csv(csv_file, mode='a', header=False, **props)\n",
    "\n",
    "def delete_file_if_exists(filename):\n",
    "    if os.path.exists(filename):\n",
    "        os.remove(filename)"
   ]
  },
  {
   "cell_type": "code",
   "execution_count": 3,
   "metadata": {
    "collapsed": false
   },
   "outputs": [
    {
     "name": "stderr",
     "output_type": "stream",
     "text": [
      "/home/watts/anaconda2/envs/sdp35/lib/python3.5/site-packages/IPython/core/interactiveshell.py:2728: DtypeWarning: Columns (5) have mixed types. Specify dtype option on import or set low_memory=False.\n",
      "  interactivity=interactivity, compiler=compiler, result=result)\n"
     ]
    }
   ],
   "source": [
    "fn = '../cache/bkup/train10_t_store{}.csv'.format(1)\n",
    "# fn = '../cache/bkup2/test7_1_t_store{}.csv'.format(1)\n",
    "df =pd.read_csv(fn)"
   ]
  },
  {
   "cell_type": "code",
   "execution_count": 4,
   "metadata": {
    "collapsed": false
   },
   "outputs": [
    {
     "data": {
      "text/html": [
       "<div>\n",
       "<style scoped>\n",
       "    .dataframe tbody tr th:only-of-type {\n",
       "        vertical-align: middle;\n",
       "    }\n",
       "\n",
       "    .dataframe tbody tr th {\n",
       "        vertical-align: top;\n",
       "    }\n",
       "\n",
       "    .dataframe thead th {\n",
       "        text-align: right;\n",
       "    }\n",
       "</style>\n",
       "<table border=\"1\" class=\"dataframe\">\n",
       "  <thead>\n",
       "    <tr style=\"text-align: right;\">\n",
       "      <th></th>\n",
       "      <th>id</th>\n",
       "      <th>date</th>\n",
       "      <th>store_nbr</th>\n",
       "      <th>item_nbr</th>\n",
       "      <th>unit_sales</th>\n",
       "      <th>onpromotion</th>\n",
       "      <th>item_family</th>\n",
       "      <th>item_class</th>\n",
       "      <th>perishable</th>\n",
       "      <th>city</th>\n",
       "      <th>...</th>\n",
       "      <th>dow</th>\n",
       "      <th>doy</th>\n",
       "      <th>dcount</th>\n",
       "      <th>h_type</th>\n",
       "      <th>h_desc</th>\n",
       "      <th>pd</th>\n",
       "      <th>wbe</th>\n",
       "      <th>wae</th>\n",
       "      <th>wfe</th>\n",
       "      <th>store_item_nbr</th>\n",
       "    </tr>\n",
       "  </thead>\n",
       "  <tbody>\n",
       "    <tr>\n",
       "      <th>0</th>\n",
       "      <td>578</td>\n",
       "      <td>2013-01-02</td>\n",
       "      <td>1</td>\n",
       "      <td>103665</td>\n",
       "      <td>2.0</td>\n",
       "      <td>Unk</td>\n",
       "      <td>BREAD/BAKERY</td>\n",
       "      <td>2712</td>\n",
       "      <td>1</td>\n",
       "      <td>Quito</td>\n",
       "      <td>...</td>\n",
       "      <td>2</td>\n",
       "      <td>2</td>\n",
       "      <td>734870</td>\n",
       "      <td>Work Day</td>\n",
       "      <td>Normal</td>\n",
       "      <td>0</td>\n",
       "      <td>172</td>\n",
       "      <td>0</td>\n",
       "      <td>172</td>\n",
       "      <td>1_103665</td>\n",
       "    </tr>\n",
       "    <tr>\n",
       "      <th>1</th>\n",
       "      <td>579</td>\n",
       "      <td>2013-01-02</td>\n",
       "      <td>1</td>\n",
       "      <td>105574</td>\n",
       "      <td>8.0</td>\n",
       "      <td>Unk</td>\n",
       "      <td>GROCERY I</td>\n",
       "      <td>1045</td>\n",
       "      <td>0</td>\n",
       "      <td>Quito</td>\n",
       "      <td>...</td>\n",
       "      <td>2</td>\n",
       "      <td>2</td>\n",
       "      <td>734870</td>\n",
       "      <td>Work Day</td>\n",
       "      <td>Normal</td>\n",
       "      <td>0</td>\n",
       "      <td>172</td>\n",
       "      <td>0</td>\n",
       "      <td>172</td>\n",
       "      <td>1_105574</td>\n",
       "    </tr>\n",
       "    <tr>\n",
       "      <th>2</th>\n",
       "      <td>580</td>\n",
       "      <td>2013-01-02</td>\n",
       "      <td>1</td>\n",
       "      <td>105575</td>\n",
       "      <td>15.0</td>\n",
       "      <td>Unk</td>\n",
       "      <td>GROCERY I</td>\n",
       "      <td>1045</td>\n",
       "      <td>0</td>\n",
       "      <td>Quito</td>\n",
       "      <td>...</td>\n",
       "      <td>2</td>\n",
       "      <td>2</td>\n",
       "      <td>734870</td>\n",
       "      <td>Work Day</td>\n",
       "      <td>Normal</td>\n",
       "      <td>0</td>\n",
       "      <td>172</td>\n",
       "      <td>0</td>\n",
       "      <td>172</td>\n",
       "      <td>1_105575</td>\n",
       "    </tr>\n",
       "    <tr>\n",
       "      <th>3</th>\n",
       "      <td>581</td>\n",
       "      <td>2013-01-02</td>\n",
       "      <td>1</td>\n",
       "      <td>105577</td>\n",
       "      <td>2.0</td>\n",
       "      <td>Unk</td>\n",
       "      <td>GROCERY I</td>\n",
       "      <td>1045</td>\n",
       "      <td>0</td>\n",
       "      <td>Quito</td>\n",
       "      <td>...</td>\n",
       "      <td>2</td>\n",
       "      <td>2</td>\n",
       "      <td>734870</td>\n",
       "      <td>Work Day</td>\n",
       "      <td>Normal</td>\n",
       "      <td>0</td>\n",
       "      <td>172</td>\n",
       "      <td>0</td>\n",
       "      <td>172</td>\n",
       "      <td>1_105577</td>\n",
       "    </tr>\n",
       "    <tr>\n",
       "      <th>4</th>\n",
       "      <td>582</td>\n",
       "      <td>2013-01-02</td>\n",
       "      <td>1</td>\n",
       "      <td>105737</td>\n",
       "      <td>2.0</td>\n",
       "      <td>Unk</td>\n",
       "      <td>GROCERY I</td>\n",
       "      <td>1044</td>\n",
       "      <td>0</td>\n",
       "      <td>Quito</td>\n",
       "      <td>...</td>\n",
       "      <td>2</td>\n",
       "      <td>2</td>\n",
       "      <td>734870</td>\n",
       "      <td>Work Day</td>\n",
       "      <td>Normal</td>\n",
       "      <td>0</td>\n",
       "      <td>172</td>\n",
       "      <td>0</td>\n",
       "      <td>172</td>\n",
       "      <td>1_105737</td>\n",
       "    </tr>\n",
       "  </tbody>\n",
       "</table>\n",
       "<p>5 rows × 27 columns</p>\n",
       "</div>"
      ],
      "text/plain": [
       "    id        date  store_nbr  item_nbr  unit_sales onpromotion   item_family  \\\n",
       "0  578  2013-01-02          1    103665         2.0         Unk  BREAD/BAKERY   \n",
       "1  579  2013-01-02          1    105574         8.0         Unk     GROCERY I   \n",
       "2  580  2013-01-02          1    105575        15.0         Unk     GROCERY I   \n",
       "3  581  2013-01-02          1    105577         2.0         Unk     GROCERY I   \n",
       "4  582  2013-01-02          1    105737         2.0         Unk     GROCERY I   \n",
       "\n",
       "   item_class  perishable   city       ...       dow doy  dcount    h_type  \\\n",
       "0        2712           1  Quito       ...         2   2  734870  Work Day   \n",
       "1        1045           0  Quito       ...         2   2  734870  Work Day   \n",
       "2        1045           0  Quito       ...         2   2  734870  Work Day   \n",
       "3        1045           0  Quito       ...         2   2  734870  Work Day   \n",
       "4        1044           0  Quito       ...         2   2  734870  Work Day   \n",
       "\n",
       "   h_desc  pd  wbe  wae  wfe  store_item_nbr  \n",
       "0  Normal   0  172    0  172        1_103665  \n",
       "1  Normal   0  172    0  172        1_105574  \n",
       "2  Normal   0  172    0  172        1_105575  \n",
       "3  Normal   0  172    0  172        1_105577  \n",
       "4  Normal   0  172    0  172        1_105737  \n",
       "\n",
       "[5 rows x 27 columns]"
      ]
     },
     "execution_count": 4,
     "metadata": {},
     "output_type": "execute_result"
    }
   ],
   "source": [
    "df.head()"
   ]
  },
  {
   "cell_type": "code",
   "execution_count": 20,
   "metadata": {
    "collapsed": false
   },
   "outputs": [
    {
     "data": {
      "text/plain": [
       "(62416, 27)"
      ]
     },
     "execution_count": 20,
     "metadata": {},
     "output_type": "execute_result"
    }
   ],
   "source": [
    "df.shape"
   ]
  },
  {
   "cell_type": "code",
   "execution_count": 21,
   "metadata": {
    "collapsed": false
   },
   "outputs": [
    {
     "data": {
      "text/plain": [
       "3901"
      ]
     },
     "execution_count": 21,
     "metadata": {},
     "output_type": "execute_result"
    }
   ],
   "source": [
    "len(set(df.item_nbr))"
   ]
  },
  {
   "cell_type": "code",
   "execution_count": 22,
   "metadata": {
    "collapsed": false
   },
   "outputs": [
    {
     "data": {
      "text/plain": [
       "'2017-08-16'"
      ]
     },
     "execution_count": 22,
     "metadata": {},
     "output_type": "execute_result"
    }
   ],
   "source": [
    "np.min(df.date)"
   ]
  },
  {
   "cell_type": "code",
   "execution_count": 23,
   "metadata": {
    "collapsed": false
   },
   "outputs": [
    {
     "data": {
      "text/plain": [
       "'2017-08-31'"
      ]
     },
     "execution_count": 23,
     "metadata": {},
     "output_type": "execute_result"
    }
   ],
   "source": [
    "np.max(df.date)"
   ]
  },
  {
   "cell_type": "code",
   "execution_count": 24,
   "metadata": {
    "collapsed": false
   },
   "outputs": [
    {
     "data": {
      "text/plain": [
       "numpy.timedelta64(15,'D')"
      ]
     },
     "execution_count": 24,
     "metadata": {},
     "output_type": "execute_result"
    }
   ],
   "source": [
    "np.datetime64(np.max(df.date)) - np.datetime64(np.min(df.date))"
   ]
  },
  {
   "cell_type": "code",
   "execution_count": 25,
   "metadata": {
    "collapsed": false
   },
   "outputs": [
    {
     "data": {
      "text/plain": [
       "1460"
      ]
     },
     "execution_count": 25,
     "metadata": {},
     "output_type": "execute_result"
    }
   ],
   "source": [
    "365 * 4"
   ]
  },
  {
   "cell_type": "code",
   "execution_count": 3,
   "metadata": {
    "collapsed": true
   },
   "outputs": [],
   "source": [
    "def set_recent_stats(df2, date, days, mean, median, std, skew, kurtosis, ten_by_ninety):\n",
    "    df2.loc[0,'date'] = date\n",
    "    df2.loc[0,'us_{}_mean'.format(days)] = mean\n",
    "    df2.loc[0,'us_{}_med'.format(days)] = median\n",
    "    df2.loc[0,'us_{}_std'.format(days)] = std\n",
    "    df2.loc[0,'us_{}_skew'.format(days)] = skew\n",
    "    df2.loc[0,'us_{}_kurt'.format(days)] = kurtosis\n",
    "    df2.loc[0,'us_{}_tbn'.format(days)] = ten_by_ninety\n",
    "\n",
    "\n",
    "def set_recent_stats_promo(df2, date, days, mean, median, std, skew, kurtosis, ten_by_ninety):\n",
    "    df2.loc[0,'date'] = date\n",
    "    df2.loc[0,'us_{}_p_mean'.format(days)] = mean\n",
    "    df2.loc[0,'us_{}_p_med'.format(days)] = median\n",
    "    df2.loc[0,'us_{}_p_std'.format(days)] = std\n",
    "    df2.loc[0,'us_{}_p_skew'.format(days)] = skew\n",
    "    df2.loc[0,'us_{}_p_kurt'.format(days)] = kurtosis\n",
    "    df2.loc[0,'us_{}_p_tbn'.format(days)] = ten_by_ninety\n",
    "\n",
    "\n",
    "def set_recent_stats_promo2(df2, date, days, mean, median, std, skew, kurtosis, ten_by_ninety):\n",
    "    \n",
    "    df2.loc[0,'date'] = date\n",
    "    df2.loc[0,'us_{}_p_mean'.format(days)] = mean\n",
    "    df2.loc[0,'us_{}_p_med'.format(days)] = median\n",
    "    df2.loc[0,'us_{}_p_std'.format(days)] = std\n",
    "    df2.loc[0,'us_{}_p_skew'.format(days)] = skew\n",
    "    df2.loc[0,'us_{}_p_kurt'.format(days)] = kurtosis\n",
    "    df2.loc[0,'us_{}_p_tbn'.format(days)] = ten_by_ninety\n",
    "\n",
    "\n",
    "def set_recent_stats_promo3(df2, date, days, mean, median, std, skew, kurtosis, ten_by_ninety):\n",
    "    df2.loc[0,'date'] = date\n",
    "    df2.loc[0,'us_{}_p_mean'.format(days)] = mean\n",
    "    df2.loc[0,'us_{}_p_med'.format(days)] = median\n",
    "    df2.loc[0,'us_{}_p_std'.format(days)] = std\n",
    "    df2.loc[0,'us_{}_p_skew'.format(days)] = skew\n",
    "    df2.loc[0,'us_{}_p_kurt'.format(days)] = kurtosis\n",
    "    df2.loc[0,'us_{}_p_tbn'.format(days)] = ten_by_ninety\n",
    "\n",
    "def set_recent_stats_hol(df2, date, days, mean, median, std, skew, kurtosis, ten_by_ninety):\n",
    "    df2.loc[0,'date'] = date\n",
    "    df2.loc[0,'us_{}_h_mean'.format(days)] = mean\n",
    "    df2.loc[0,'us_{}_h_med'.format(days)] = median\n",
    "    df2.loc[0,'us_{}_h_std'.format(days)] = std\n",
    "    df2.loc[0,'us_{}_h_skew'.format(days)] = skew\n",
    "    df2.loc[0,'us_{}_h_kurt'.format(days)] = kurtosis\n",
    "    df2.loc[0,'us_{}_h_tbn'.format(days)] = ten_by_ninety\n",
    "\n",
    "\n",
    "def set_recent_stats_per(df2, date, days, mean, median, std, skew, kurtosis, ten_by_ninety):\n",
    "    df2.loc[0,'date'] = date\n",
    "    df2.loc[0,'us_{}_per_mean'.format(days)] = mean\n",
    "    df2.loc[0,'us_{}_per_med'.format(days)] = median\n",
    "    df2.loc[0,'us_{}_per_std'.format(days)] = std\n",
    "    df2.loc[0,'us_{}_per_skew'.format(days)] = skew\n",
    "    df2.loc[0,'us_{}_per_kurt'.format(days)] = kurtosis\n",
    "    df2.loc[0,'us_{}_per_tbn'.format(days)] = ten_by_ninety\n",
    "\n",
    "\n",
    "def set_recent_stats_nper(df2, date, days, mean, median, std, skew, kurtosis, ten_by_ninety):\n",
    "    df2.loc[0,'date'] = date\n",
    "    df2.loc[0,'us_{}_nper_mean'.format(days)] = mean\n",
    "    df2.loc[0,'us_{}_nper_med'.format(days)] = median\n",
    "    df2.loc[0,'us_{}_nper_std'.format(days)] = std\n",
    "    df2.loc[0,'us_{}_nper_skew'.format(days)] = skew\n",
    "    df2.loc[0,'us_{}_nper_kurt'.format(days)] = kurtosis\n",
    "    df2.loc[0,'us_{}_nper_tbn'.format(days)] = ten_by_ninety\n",
    "\n",
    "\n",
    "def set_recent_stats_dow(df2, date, days, dow, mean, median, std, skew, kurtosis, ten_by_ninety):\n",
    "    df2.loc[0,'date'] = date\n",
    "    df2.loc[0, 'us_{}_dow{}_mean'.format(days, dow)] = mean\n",
    "    df2.loc[0, 'us_{}_dow{}_med'.format(days, dow)] = median\n",
    "    df2.loc[0, 'us_{}_dow{}_std'.format(days, dow)] = std\n",
    "    df2.loc[0, 'us_{}_dow{}_skew'.format(days, dow)] = skew\n",
    "    df2.loc[0, 'us_{}_dow{}_kurt'.format(days, dow)] = kurtosis\n",
    "    df2.loc[0, 'us_{}_dow{}_tbn'.format(days, dow)] = ten_by_ninety\n",
    "\n",
    "def set_recent_stats_promo_hol(df2, date, days, mean, median, std, skew, kurtosis, ten_by_ninety):\n",
    "    df2.loc[0,'date'] = date\n",
    "    df2.loc[0, 'us_{}_ph_mean'.format(days)] = mean\n",
    "    df2.loc[0, 'us_{}_ph_med'.format(days)] = median\n",
    "    df2.loc[0, 'us_{}_ph_std'.format(days)] = std\n",
    "    df2.loc[0, 'us_{}_ph_skew'.format(days)] = skew\n",
    "    df2.loc[0, 'us_{}_ph_kurt'.format(days)] = kurtosis\n",
    "    df2.loc[0, 'us_{}_ph_tbn'.format(days)] = ten_by_ninety\n",
    "\n",
    "\n",
    "def set_recent_stats_dow_promo_hol(df1, date, days, dow, mean, median, std, skew, kurtosis, ten_by_ninety):\n",
    "    df2.loc[0,'date'] = date\n",
    "    df2.loc[0, 'us_{}_dow{}_ph_mean'.format(days, dow)] = mean\n",
    "    df2.loc[0, 'us_{}_dow{}_ph_med'.format(days, dow)] = median\n",
    "    df2.loc[0, 'us_{}_dow{}_ph_std'.format(days, dow)] = std\n",
    "    df2.loc[0, 'us_{}_dow{}_ph_skew'.format(days, dow)] = skew\n",
    "    df2.loc[0, 'us_{}_dow{}_ph_kurt'.format(days, dow)] = kurtosis\n",
    "    df2.loc[0, 'us_{}_dow{}_ph_tbn'.format(days, dow)] = ten_by_ninety\n"
   ]
  },
  {
   "cell_type": "code",
   "execution_count": 12,
   "metadata": {
    "collapsed": true
   },
   "outputs": [],
   "source": [
    "# df_h = pd.read_csv('../data/holidays_events.csv')"
   ]
  },
  {
   "cell_type": "code",
   "execution_count": 13,
   "metadata": {
    "collapsed": false
   },
   "outputs": [
    {
     "data": {
      "text/plain": [
       "Holiday       221\n",
       "Event          56\n",
       "Additional     51\n",
       "Transfer       12\n",
       "Work Day        5\n",
       "Bridge          5\n",
       "Name: type, dtype: int64"
      ]
     },
     "execution_count": 13,
     "metadata": {},
     "output_type": "execute_result"
    }
   ],
   "source": [
    "# df_h.type.value_counts()"
   ]
  },
  {
   "cell_type": "code",
   "execution_count": 14,
   "metadata": {
    "collapsed": false
   },
   "outputs": [
    {
     "name": "stderr",
     "output_type": "stream",
     "text": [
      "/home/watts/anaconda3/envs/rss/lib/python3.5/site-packages/ipykernel_launcher.py:1: UserWarning: Boolean Series key will be reindexed to match DataFrame index.\n",
      "  \"\"\"Entry point for launching an IPython kernel.\n"
     ]
    }
   ],
   "source": [
    "# df_h1 = df_h[(df.date.apply(np.datetime64)) > np.datetime64('2017-08-15')]"
   ]
  },
  {
   "cell_type": "code",
   "execution_count": 15,
   "metadata": {
    "collapsed": false
   },
   "outputs": [
    {
     "data": {
      "text/plain": [
       "False    1574388\n",
       "True      127620\n",
       "Name: onpromotion, dtype: int64"
      ]
     },
     "execution_count": 15,
     "metadata": {},
     "output_type": "execute_result"
    }
   ],
   "source": [
    "# df.onpromotion.value_counts()"
   ]
  },
  {
   "cell_type": "code",
   "execution_count": 16,
   "metadata": {
    "collapsed": false
   },
   "outputs": [
    {
     "data": {
      "text/plain": [
       "True    127620\n",
       "Name: onpromotion, dtype: int64"
      ]
     },
     "execution_count": 16,
     "metadata": {},
     "output_type": "execute_result"
    }
   ],
   "source": [
    "# df.onpromotion[df.onpromotion==True].value_counts()"
   ]
  },
  {
   "cell_type": "code",
   "execution_count": 17,
   "metadata": {
    "collapsed": false
   },
   "outputs": [
    {
     "data": {
      "text/plain": [
       "Work Day      1166317\n",
       "Weekend        400151\n",
       "Event           65901\n",
       "Holiday         65721\n",
       "Additional       3918\n",
       "Name: h_type, dtype: int64"
      ]
     },
     "execution_count": 17,
     "metadata": {},
     "output_type": "execute_result"
    }
   ],
   "source": [
    "# df.h_type.value_counts()"
   ]
  },
  {
   "cell_type": "code",
   "execution_count": 18,
   "metadata": {
    "collapsed": false
   },
   "outputs": [
    {
     "data": {
      "text/plain": [
       "Work Day    1166317\n",
       "Name: h_type, dtype: int64"
      ]
     },
     "execution_count": 18,
     "metadata": {},
     "output_type": "execute_result"
    }
   ],
   "source": [
    "# df.h_type[df.h_type=='Work Day'].value_counts()"
   ]
  },
  {
   "cell_type": "code",
   "execution_count": 19,
   "metadata": {
    "collapsed": false
   },
   "outputs": [
    {
     "data": {
      "text/plain": [
       "Weekend       400151\n",
       "Event          65901\n",
       "Holiday        65721\n",
       "Additional      3918\n",
       "Name: h_type, dtype: int64"
      ]
     },
     "execution_count": 19,
     "metadata": {},
     "output_type": "execute_result"
    }
   ],
   "source": [
    "# df.h_type[df.h_type != 'Work Day'].value_counts()"
   ]
  },
  {
   "cell_type": "code",
   "execution_count": 20,
   "metadata": {
    "collapsed": true
   },
   "outputs": [],
   "source": [
    "#df_h.h_type[df_h.type == 'Additional'] = 'Holiday'"
   ]
  },
  {
   "cell_type": "code",
   "execution_count": 4,
   "metadata": {
    "collapsed": true
   },
   "outputs": [],
   "source": [
    "recent_days = [30, 90, 180, 365, 730]"
   ]
  },
  {
   "cell_type": "code",
   "execution_count": 5,
   "metadata": {
    "collapsed": true
   },
   "outputs": [],
   "source": [
    "overall_min_date = np.datetime64('2013-01-01')"
   ]
  },
  {
   "cell_type": "code",
   "execution_count": 6,
   "metadata": {
    "collapsed": true
   },
   "outputs": [],
   "source": [
    "my_min_date = np.datetime64('2015-01-01')"
   ]
  },
  {
   "cell_type": "code",
   "execution_count": 7,
   "metadata": {
    "collapsed": false
   },
   "outputs": [
    {
     "data": {
      "text/plain": [
       "numpy.timedelta64(730,'D')"
      ]
     },
     "execution_count": 7,
     "metadata": {},
     "output_type": "execute_result"
    }
   ],
   "source": [
    "my_min_date - overall_min_date"
   ]
  },
  {
   "cell_type": "code",
   "execution_count": 8,
   "metadata": {
    "collapsed": true
   },
   "outputs": [],
   "source": [
    "def calculate_recent_stats(date, df, fn):\n",
    "    df3 = pd.DataFrame()\n",
    "    for days in recent_days:\n",
    "        past_date = (np.datetime64(date) - np.timedelta64(days, 'D'))\n",
    "        i = 0\n",
    "        df_min_date = np.datetime64(np.min(df.date))\n",
    "        while (past_date < df_min_date) & (i <= 0):\n",
    "            past_date = (np.datetime64(date) - np.timedelta64(days-i, 'D'))\n",
    "            i +=1\n",
    "#         print(date, days, past_date, df_min_date)\n",
    "        if past_date < df_min_date:\n",
    "            print('date:{}, past_date:{}'.format(date, past_date))\n",
    "            j = days-i\n",
    "            print('days:{}, i: {}, days-i:{}'.format(days, i, j))\n",
    "            set_recent_stats(df3, date,days,0, 0, 0, 0, 0, 0)\n",
    "            continue\n",
    "#         data = df.unit_sales[(df.dts < np.datetime64(date)) & \n",
    "#                              (df.dts >= past_date)]\n",
    "        \n",
    "        data = df.unit_sales[(df.date.astype('str') < str(date)) & \n",
    "                             (df.date.astype('str') >= str(past_date))]\n",
    "        if(data.shape[0] == 0):\n",
    "            print('date:{}, past_date:{}'.format(date, past_date))\n",
    "            j = days-i\n",
    "            print('days:{}, i: {}, days-i:{}'.format(days, i, j))\n",
    "            set_recent_stats(df3, date,days,0, 0, 0, 0, 0, 0)\n",
    "            continue\n",
    "        mean = data.mean()\n",
    "        median = data.median()\n",
    "        std = data.std()\n",
    "        skew = data.skew()\n",
    "        kurtosis = data.kurtosis()\n",
    "        tenp = data.quantile(0.1)\n",
    "        ninetyp = data.quantile(0.9)\n",
    "        ten_by_ninety = tenp/ninetyp\n",
    "        set_recent_stats(df3, date,days,mean, median, std, skew, kurtosis, ten_by_ninety)\n",
    "        del data\n",
    "    append_to_csv(df3, fn)\n",
    "    del df3\n",
    "        \n",
    "\n",
    "def calculate_recent_stats_promo(date, df, fn):\n",
    "    df3 = pd.DataFrame()\n",
    "    for days in recent_days:\n",
    "        past_date = (np.datetime64(date) - np.timedelta64(days, 'D'))\n",
    "        i = 0\n",
    "        df_min_date = np.datetime64(np.min(df.date))\n",
    "        while (past_date < df_min_date) & (i <= 0):\n",
    "            past_date = (np.datetime64(date) - np.timedelta64(days-i, 'D'))\n",
    "            i +=1\n",
    "        \n",
    "        if past_date < df_min_date:\n",
    "            print('date:{}, past_date:{}'.format(date, past_date))\n",
    "            j = days-i\n",
    "            print('days:{}, i: {}, days-i:{}'.format(days, i, j))\n",
    "            set_recent_stats(df3, date,days,0, 0, 0, 0, 0, 0)\n",
    "            continue\n",
    "        \n",
    "        data = df.unit_sales[(df.dts < np.datetime64(date)) & \n",
    "                             (df.dts >= past_date) & (df.onpromotion == True)]\n",
    "        if(data.shape[0] == 0):\n",
    "            print('date:{}, past_date:{}'.format(date, past_date))\n",
    "            j = days-i\n",
    "            print('days:{}, i: {}, days-i:{}'.format(days, i, j))\n",
    "            set_recent_stats(df3, date,days,0, 0, 0, 0, 0, 0)\n",
    "            continue\n",
    "        \n",
    "        mean = data.mean()\n",
    "        median = data.median()\n",
    "        std = data.std()\n",
    "        skew = data.skew()\n",
    "        kurtosis = data.kurtosis()\n",
    "        tenp = data.quantile(0.1)\n",
    "        ninetyp = data.quantile(0.9)\n",
    "        ten_by_ninety = tenp/ninetyp\n",
    "        set_recent_stats_promo3(df3, date,days,mean, median, std, skew, kurtosis, ten_by_ninety)\n",
    "        del data\n",
    "    append_to_csv(df3, fn)\n",
    "    del df3\n",
    "        \n",
    "        \n",
    "def calculate_recent_stats_hol(date, df, fn):\n",
    "    df3 = pd.DataFrame()\n",
    "    for days in recent_days:\n",
    "        past_date = (np.datetime64(date) - np.timedelta64(days, 'D'))\n",
    "        i = 0\n",
    "        df_min_date = np.datetime64(np.min(df.date))\n",
    "        while (past_date < df_min_date) & (i <= 0):\n",
    "            past_date = (np.datetime64(date) - np.timedelta64(days-i, 'D'))\n",
    "            i +=1\n",
    "        \n",
    "        if past_date < df_min_date:\n",
    "            print('date:{}, past_date:{}'.format(date, past_date))\n",
    "            j = days-i\n",
    "            print('days:{}, i: {}, days-i:{}'.format(days, i, j))\n",
    "            set_recent_stats(df3, date,days,0, 0, 0, 0, 0, 0)\n",
    "            continue\n",
    "        \n",
    "        data = df.unit_sales[(df.dts < np.datetime64(date)) & \n",
    "                             (df.dts >= past_date) & (df.h_type != 'Work Day')]\n",
    "        if(data.shape[0] == 0):\n",
    "            print('date:{}, past_date:{}'.format(date, past_date))\n",
    "            j = days-i\n",
    "            print('days:{}, i: {}, days-i:{}'.format(days, i, j))\n",
    "            set_recent_stats(df3, date,days,0, 0, 0, 0, 0, 0)\n",
    "            continue\n",
    "        \n",
    "        mean = data.mean()\n",
    "        median = data.median()\n",
    "        std = data.std()\n",
    "        skew = data.skew()\n",
    "        kurtosis = data.kurtosis()\n",
    "        tenp = data.quantile(0.1)\n",
    "        ninetyp = data.quantile(0.9)\n",
    "        ten_by_ninety = tenp/ninetyp\n",
    "        set_recent_stats_hol(df3, date,days,mean, median, std, skew, kurtosis, ten_by_ninety)\n",
    "        del data\n",
    "    append_to_csv(df3, fn)\n",
    "    del df3\n",
    "    \n",
    " \n",
    "def calculate_recent_stats_perishable(date, df, fn):\n",
    "    df3 = pd.DataFrame()\n",
    "    for days in recent_days:\n",
    "        past_date = (np.datetime64(date) - np.timedelta64(days, 'D'))\n",
    "        i = 0\n",
    "        df_min_date = np.datetime64(np.min(df.date))\n",
    "        while (past_date < df_min_date) & (i <= 0):\n",
    "            past_date = (np.datetime64(date) - np.timedelta64(days-i, 'D'))\n",
    "            i +=1\n",
    "        \n",
    "        if past_date < df_min_date:\n",
    "            print('date:{}, past_date:{}'.format(date, past_date))\n",
    "            j = days-i\n",
    "            print('days:{}, i: {}, days-i:{}'.format(days, i, j))\n",
    "            set_recent_stats(df3, date,days,0, 0, 0, 0, 0, 0)\n",
    "            continue\n",
    "        \n",
    "        data = df.unit_sales[(df.dts < np.datetime64(date)) & \n",
    "                             (df.dts >= past_date) & (df.perishable == 1)]\n",
    "        if(data.shape[0] == 0):\n",
    "            print('date:{}, past_date:{}'.format(date, past_date))\n",
    "            j = days-i\n",
    "            print('days:{}, i: {}, days-i:{}'.format(days, i, j))\n",
    "            set_recent_stats(df3, date,days,0, 0, 0, 0, 0, 0)\n",
    "            continue\n",
    "        \n",
    "        mean = data.mean()\n",
    "        median = data.median()\n",
    "        std = data.std()\n",
    "        skew = data.skew()\n",
    "        kurtosis = data.kurtosis()\n",
    "        tenp = data.quantile(0.1)\n",
    "        ninetyp = data.quantile(0.9)\n",
    "        ten_by_ninety = tenp/ninetyp\n",
    "        set_recent_stats_per(df3, date,days, mean, median, std, skew, kurtosis, ten_by_ninety)\n",
    "        del data\n",
    "    append_to_csv(df3, fn)\n",
    "    del df3\n",
    "        \n",
    "def calculate_recent_stats_not_perishable(date, df, fn):\n",
    "    df3 = pd.DataFrame()\n",
    "    for days in recent_days:\n",
    "        past_date = (np.datetime64(date) - np.timedelta64(days, 'D'))\n",
    "        i = 0\n",
    "        df_min_date = np.datetime64(np.min(df.date))\n",
    "        while (past_date < df_min_date) & (i <= 0):\n",
    "            past_date = (np.datetime64(date) - np.timedelta64(days-i, 'D'))\n",
    "            i +=1\n",
    "        \n",
    "        if past_date < df_min_date:\n",
    "            print('date:{}, past_date:{}'.format(date, past_date))\n",
    "            j = days-i\n",
    "            print('days:{}, i: {}, days-i:{}'.format(days, i, j))\n",
    "            set_recent_stats(df3, date,days,0, 0, 0, 0, 0, 0)\n",
    "            continue\n",
    "        \n",
    "        data = df.unit_sales[(df.dts < np.datetime64(date)) & \n",
    "                             (df.dts >= past_date) & (df.perishable == 0)]\n",
    "        if(data.shape[0] == 0):\n",
    "            print('date:{}, past_date:{}'.format(date, past_date))\n",
    "            j = days-i\n",
    "            print('days:{}, i: {}, days-i:{}'.format(days, i, j))\n",
    "            set_recent_stats(df3, date,days,0, 0, 0, 0, 0, 0)\n",
    "            continue\n",
    "        mean = data.mean()\n",
    "        median = data.median()\n",
    "        std = data.std()\n",
    "        skew = data.skew()\n",
    "        kurtosis = data.kurtosis()\n",
    "        tenp = data.quantile(0.1)\n",
    "        ninetyp = data.quantile(0.9)\n",
    "        ten_by_ninety = tenp/ninetyp\n",
    "        set_recent_stats_nper(df3, date,days,mean, median, std, skew, kurtosis, ten_by_ninety)\n",
    "        del data\n",
    "    append_to_csv(df3, fn)\n",
    "    del df3\n",
    "        \n",
    "def calculate_recent_stats_dow(date, dow, df, fn):\n",
    "    df3 = pd.DataFrame()\n",
    "    for days in recent_days:\n",
    "        past_date = (np.datetime64(date) - np.timedelta64(days, 'D'))\n",
    "        i = 0\n",
    "        df_min_date = np.datetime64(np.min(df.date))\n",
    "        while (past_date < df_min_date) & (i <= 0):\n",
    "            past_date = (np.datetime64(date) - np.timedelta64(days-i, 'D'))\n",
    "            i +=1\n",
    "        \n",
    "        if past_date < df_min_date:\n",
    "            print('date:{}, past_date:{}'.format(date, past_date))\n",
    "            j = days-i\n",
    "            print('days:{}, i: {}, days-i:{}'.format(days, i, j))\n",
    "            set_recent_stats(df3, date,days,0, 0, 0, 0, 0, 0)\n",
    "            continue\n",
    "        \n",
    "        data = df.unit_sales[(df.dts < np.datetime64(date)) & \n",
    "                             (df.dts >= past_date) & (df.dow == dow)]\n",
    "        if(data.shape[0] == 0):\n",
    "            print('date:{}, past_date:{}'.format(date, past_date))\n",
    "            j = days-i\n",
    "            print('days:{}, i: {}, days-i:{}'.format(days, i, j))\n",
    "            set_recent_stats(df3, date,days,0, 0, 0, 0, 0, 0)\n",
    "            continue\n",
    "        mean = data.mean()\n",
    "        median = data.median()\n",
    "        std = data.std()\n",
    "        skew = data.skew()\n",
    "        kurtosis = data.kurtosis()\n",
    "        tenp = data.quantile(0.1)\n",
    "        ninetyp = data.quantile(0.9)\n",
    "        ten_by_ninety = tenp/ninetyp\n",
    "        set_recent_stats_dow(df3, date,days,mean, median, std, skew, kurtosis, ten_by_ninety)\n",
    "        del data\n",
    "    append_to_csv(df3, fn)\n",
    "    del df3\n",
    "    \n",
    "def calculate_recent_stats_promo_hol(date, df, fn):\n",
    "    df3 = pd.DataFrame()\n",
    "    for days in recent_days:\n",
    "        past_date = (np.datetime64(date) - np.timedelta64(days, 'D'))\n",
    "        i = 0\n",
    "        df_min_date = np.datetime64(np.min(df.date))\n",
    "        while (past_date < df_min_date) & (i <= 0):\n",
    "            past_date = (np.datetime64(date) - np.timedelta64(days-i, 'D'))\n",
    "            i +=1\n",
    "        \n",
    "        if past_date < df_min_date:\n",
    "            print('date:{}, past_date:{}'.format(date, past_date))\n",
    "            j = days-i\n",
    "            print('days:{}, i: {}, days-i:{}'.format(days, i, j))\n",
    "            set_recent_stats(df3, date,days,0, 0, 0, 0, 0, 0)\n",
    "            continue\n",
    "        \n",
    "        data = df.unit_sales[(df.dts < np.datetime64(date)) & \n",
    "                             (df.dts >= past_date) & \n",
    "                             (df.h_type != 'Work Day') & (df.onpromotion == True)]\n",
    "        if(data.shape[0] == 0):\n",
    "            print('date:{}, past_date:{}'.format(date, past_date))\n",
    "            j = days-i\n",
    "            print('days:{}, i: {}, days-i:{}'.format(days, i, j))\n",
    "            set_recent_stats(df3, date,days,0, 0, 0, 0, 0, 0)\n",
    "            continue\n",
    "        mean = data.mean()\n",
    "        median = data.median()\n",
    "        std = data.std()\n",
    "        skew = data.skew()\n",
    "        kurtosis = data.kurtosis()\n",
    "        tenp = data.quantile(0.1)\n",
    "        ninetyp = data.quantile(0.9)\n",
    "        ten_by_ninety = tenp/ninetyp\n",
    "        set_recent_stats_promo_hol(df3, date,days,mean, median, std, skew, kurtosis, ten_by_ninety)\n",
    "        del data\n",
    "    append_to_csv(df3, fn)\n",
    "    del df3\n",
    "    \n",
    "def calculate_recent_stats_dow_promo_hol(date, dow, df, fn):\n",
    "    df3 = pd.DataFrame()\n",
    "    for days in recent_days:\n",
    "        past_date = (np.datetime64(date) - np.timedelta64(days, 'D'))\n",
    "        i = 0\n",
    "        df_min_date = np.datetime64(np.min(df.date))\n",
    "        while (past_date < df_min_date) & (i <= 0):\n",
    "            past_date = (np.datetime64(date) - np.timedelta64(days-i, 'D'))\n",
    "            i +=1\n",
    "        \n",
    "        if past_date < df_min_date:\n",
    "            print('date:{}, past_date:{}'.format(date, past_date))\n",
    "            j = days-i\n",
    "            print('days:{}, i: {}, days-i:{}'.format(days, i, j))\n",
    "            set_recent_stats(df3, date,days,0, 0, 0, 0, 0, 0)\n",
    "            continue\n",
    "        \n",
    "        data = df.unit_sales[(df.dts < np.datetime64(date)) & \n",
    "                             (df.dts >= past_date) & \n",
    "                             (df.h_type != 'Work Day') & \n",
    "                             (df.onpromotion == True) & \n",
    "                             (df.dow == dow)]\n",
    "        if(data.shape[0] == 0):\n",
    "            print('date:{}, past_date:{}'.format(date, past_date))\n",
    "            j = days-i\n",
    "            print('days:{}, i: {}, days-i:{}'.format(days, i, j))\n",
    "            set_recent_stats(df3, date,days,dow,0, 0, 0, 0, 0, 0)\n",
    "            continue\n",
    "        mean = data.mean()\n",
    "        median = data.median()\n",
    "        std = data.std()\n",
    "        skew = data.skew()\n",
    "        kurtosis = data.kurtosis()\n",
    "        tenp = data.quantile(0.1)\n",
    "        ninetyp = data.quantile(0.9)\n",
    "        ten_by_ninety = tenp/ninetyp\n",
    "        set_recent_stats_dow_promo_hol(df3, date,days,dow,mean, median, std, skew, kurtosis, ten_by_ninety)\n",
    "        del data\n",
    "    append_to_csv(df3, fn)\n",
    "    del df3"
   ]
  },
  {
   "cell_type": "code",
   "execution_count": 32,
   "metadata": {
    "collapsed": false
   },
   "outputs": [
    {
     "name": "stdout",
     "output_type": "stream",
     "text": [
      "2.02009826006\n"
     ]
    }
   ],
   "source": [
    "print(df.unit_sales.mean())"
   ]
  },
  {
   "cell_type": "code",
   "execution_count": 35,
   "metadata": {
    "collapsed": true
   },
   "outputs": [],
   "source": [
    "past_date = (np.datetime64('2017-08-21') - np.timedelta64(2, 'D'))"
   ]
  },
  {
   "cell_type": "code",
   "execution_count": 42,
   "metadata": {
    "collapsed": false
   },
   "outputs": [
    {
     "name": "stdout",
     "output_type": "stream",
     "text": [
      "2017-08-19\n"
     ]
    }
   ],
   "source": [
    "print(past_date)"
   ]
  },
  {
   "cell_type": "code",
   "execution_count": 40,
   "metadata": {
    "collapsed": true
   },
   "outputs": [],
   "source": [
    "df['dts'] = df.date.map(np.datetime64)"
   ]
  },
  {
   "cell_type": "code",
   "execution_count": 52,
   "metadata": {
    "collapsed": false
   },
   "outputs": [
    {
     "data": {
      "text/plain": [
       "'2017-08-16'"
      ]
     },
     "execution_count": 52,
     "metadata": {},
     "output_type": "execute_result"
    }
   ],
   "source": [
    "df.loc[0, 'date']"
   ]
  },
  {
   "cell_type": "code",
   "execution_count": 53,
   "metadata": {
    "collapsed": false
   },
   "outputs": [
    {
     "data": {
      "text/html": [
       "<div>\n",
       "<style scoped>\n",
       "    .dataframe tbody tr th:only-of-type {\n",
       "        vertical-align: middle;\n",
       "    }\n",
       "\n",
       "    .dataframe tbody tr th {\n",
       "        vertical-align: top;\n",
       "    }\n",
       "\n",
       "    .dataframe thead th {\n",
       "        text-align: right;\n",
       "    }\n",
       "</style>\n",
       "<table border=\"1\" class=\"dataframe\">\n",
       "  <thead>\n",
       "    <tr style=\"text-align: right;\">\n",
       "      <th></th>\n",
       "      <th>id</th>\n",
       "      <th>date</th>\n",
       "      <th>store_nbr</th>\n",
       "      <th>item_nbr</th>\n",
       "      <th>onpromotion</th>\n",
       "      <th>item_family</th>\n",
       "      <th>item_class</th>\n",
       "      <th>perishable</th>\n",
       "      <th>city</th>\n",
       "      <th>state</th>\n",
       "      <th>...</th>\n",
       "      <th>dcount</th>\n",
       "      <th>h_type</th>\n",
       "      <th>h_desc</th>\n",
       "      <th>pd</th>\n",
       "      <th>wbe</th>\n",
       "      <th>wae</th>\n",
       "      <th>wfe</th>\n",
       "      <th>store_item_nbr</th>\n",
       "      <th>unit_sales</th>\n",
       "      <th>dts</th>\n",
       "    </tr>\n",
       "  </thead>\n",
       "  <tbody>\n",
       "    <tr>\n",
       "      <th>11703</th>\n",
       "      <td>126129002</td>\n",
       "      <td>2017-08-19</td>\n",
       "      <td>1</td>\n",
       "      <td>96995</td>\n",
       "      <td>False</td>\n",
       "      <td>GROCERY I</td>\n",
       "      <td>1093</td>\n",
       "      <td>0</td>\n",
       "      <td>Quito</td>\n",
       "      <td>Pichincha</td>\n",
       "      <td>...</td>\n",
       "      <td>736560</td>\n",
       "      <td>Weekend</td>\n",
       "      <td>Normal</td>\n",
       "      <td>0</td>\n",
       "      <td>0</td>\n",
       "      <td>70</td>\n",
       "      <td>70</td>\n",
       "      <td>1_96995</td>\n",
       "      <td>0.2795</td>\n",
       "      <td>2017-08-19</td>\n",
       "    </tr>\n",
       "    <tr>\n",
       "      <th>11704</th>\n",
       "      <td>126129003</td>\n",
       "      <td>2017-08-19</td>\n",
       "      <td>1</td>\n",
       "      <td>99197</td>\n",
       "      <td>False</td>\n",
       "      <td>GROCERY I</td>\n",
       "      <td>1067</td>\n",
       "      <td>0</td>\n",
       "      <td>Quito</td>\n",
       "      <td>Pichincha</td>\n",
       "      <td>...</td>\n",
       "      <td>736560</td>\n",
       "      <td>Weekend</td>\n",
       "      <td>Normal</td>\n",
       "      <td>0</td>\n",
       "      <td>0</td>\n",
       "      <td>70</td>\n",
       "      <td>70</td>\n",
       "      <td>1_99197</td>\n",
       "      <td>0.5001</td>\n",
       "      <td>2017-08-19</td>\n",
       "    </tr>\n",
       "    <tr>\n",
       "      <th>11705</th>\n",
       "      <td>126129004</td>\n",
       "      <td>2017-08-19</td>\n",
       "      <td>1</td>\n",
       "      <td>103501</td>\n",
       "      <td>False</td>\n",
       "      <td>CLEANING</td>\n",
       "      <td>3008</td>\n",
       "      <td>0</td>\n",
       "      <td>Quito</td>\n",
       "      <td>Pichincha</td>\n",
       "      <td>...</td>\n",
       "      <td>736560</td>\n",
       "      <td>Weekend</td>\n",
       "      <td>Normal</td>\n",
       "      <td>0</td>\n",
       "      <td>0</td>\n",
       "      <td>70</td>\n",
       "      <td>70</td>\n",
       "      <td>1_103501</td>\n",
       "      <td>0.0000</td>\n",
       "      <td>2017-08-19</td>\n",
       "    </tr>\n",
       "    <tr>\n",
       "      <th>11706</th>\n",
       "      <td>126129005</td>\n",
       "      <td>2017-08-19</td>\n",
       "      <td>1</td>\n",
       "      <td>103520</td>\n",
       "      <td>False</td>\n",
       "      <td>GROCERY I</td>\n",
       "      <td>1028</td>\n",
       "      <td>0</td>\n",
       "      <td>Quito</td>\n",
       "      <td>Pichincha</td>\n",
       "      <td>...</td>\n",
       "      <td>736560</td>\n",
       "      <td>Weekend</td>\n",
       "      <td>Normal</td>\n",
       "      <td>0</td>\n",
       "      <td>0</td>\n",
       "      <td>70</td>\n",
       "      <td>70</td>\n",
       "      <td>1_103520</td>\n",
       "      <td>1.1034</td>\n",
       "      <td>2017-08-19</td>\n",
       "    </tr>\n",
       "    <tr>\n",
       "      <th>11707</th>\n",
       "      <td>126129006</td>\n",
       "      <td>2017-08-19</td>\n",
       "      <td>1</td>\n",
       "      <td>103665</td>\n",
       "      <td>False</td>\n",
       "      <td>BREAD/BAKERY</td>\n",
       "      <td>2712</td>\n",
       "      <td>1</td>\n",
       "      <td>Quito</td>\n",
       "      <td>Pichincha</td>\n",
       "      <td>...</td>\n",
       "      <td>736560</td>\n",
       "      <td>Weekend</td>\n",
       "      <td>Normal</td>\n",
       "      <td>0</td>\n",
       "      <td>0</td>\n",
       "      <td>70</td>\n",
       "      <td>70</td>\n",
       "      <td>1_103665</td>\n",
       "      <td>2.4947</td>\n",
       "      <td>2017-08-19</td>\n",
       "    </tr>\n",
       "    <tr>\n",
       "      <th>11708</th>\n",
       "      <td>126129007</td>\n",
       "      <td>2017-08-19</td>\n",
       "      <td>1</td>\n",
       "      <td>105574</td>\n",
       "      <td>False</td>\n",
       "      <td>GROCERY I</td>\n",
       "      <td>1045</td>\n",
       "      <td>0</td>\n",
       "      <td>Quito</td>\n",
       "      <td>Pichincha</td>\n",
       "      <td>...</td>\n",
       "      <td>736560</td>\n",
       "      <td>Weekend</td>\n",
       "      <td>Normal</td>\n",
       "      <td>0</td>\n",
       "      <td>0</td>\n",
       "      <td>70</td>\n",
       "      <td>70</td>\n",
       "      <td>1_105574</td>\n",
       "      <td>4.3018</td>\n",
       "      <td>2017-08-19</td>\n",
       "    </tr>\n",
       "    <tr>\n",
       "      <th>11709</th>\n",
       "      <td>126129008</td>\n",
       "      <td>2017-08-19</td>\n",
       "      <td>1</td>\n",
       "      <td>105575</td>\n",
       "      <td>False</td>\n",
       "      <td>GROCERY I</td>\n",
       "      <td>1045</td>\n",
       "      <td>0</td>\n",
       "      <td>Quito</td>\n",
       "      <td>Pichincha</td>\n",
       "      <td>...</td>\n",
       "      <td>736560</td>\n",
       "      <td>Weekend</td>\n",
       "      <td>Normal</td>\n",
       "      <td>0</td>\n",
       "      <td>0</td>\n",
       "      <td>70</td>\n",
       "      <td>70</td>\n",
       "      <td>1_105575</td>\n",
       "      <td>9.7603</td>\n",
       "      <td>2017-08-19</td>\n",
       "    </tr>\n",
       "    <tr>\n",
       "      <th>11710</th>\n",
       "      <td>126129009</td>\n",
       "      <td>2017-08-19</td>\n",
       "      <td>1</td>\n",
       "      <td>105576</td>\n",
       "      <td>False</td>\n",
       "      <td>GROCERY I</td>\n",
       "      <td>1045</td>\n",
       "      <td>0</td>\n",
       "      <td>Quito</td>\n",
       "      <td>Pichincha</td>\n",
       "      <td>...</td>\n",
       "      <td>736560</td>\n",
       "      <td>Weekend</td>\n",
       "      <td>Normal</td>\n",
       "      <td>0</td>\n",
       "      <td>0</td>\n",
       "      <td>70</td>\n",
       "      <td>70</td>\n",
       "      <td>1_105576</td>\n",
       "      <td>0.0000</td>\n",
       "      <td>2017-08-19</td>\n",
       "    </tr>\n",
       "    <tr>\n",
       "      <th>11711</th>\n",
       "      <td>126129010</td>\n",
       "      <td>2017-08-19</td>\n",
       "      <td>1</td>\n",
       "      <td>105577</td>\n",
       "      <td>False</td>\n",
       "      <td>GROCERY I</td>\n",
       "      <td>1045</td>\n",
       "      <td>0</td>\n",
       "      <td>Quito</td>\n",
       "      <td>Pichincha</td>\n",
       "      <td>...</td>\n",
       "      <td>736560</td>\n",
       "      <td>Weekend</td>\n",
       "      <td>Normal</td>\n",
       "      <td>0</td>\n",
       "      <td>0</td>\n",
       "      <td>70</td>\n",
       "      <td>70</td>\n",
       "      <td>1_105577</td>\n",
       "      <td>0.6093</td>\n",
       "      <td>2017-08-19</td>\n",
       "    </tr>\n",
       "    <tr>\n",
       "      <th>11712</th>\n",
       "      <td>126129011</td>\n",
       "      <td>2017-08-19</td>\n",
       "      <td>1</td>\n",
       "      <td>105693</td>\n",
       "      <td>False</td>\n",
       "      <td>GROCERY I</td>\n",
       "      <td>1034</td>\n",
       "      <td>0</td>\n",
       "      <td>Quito</td>\n",
       "      <td>Pichincha</td>\n",
       "      <td>...</td>\n",
       "      <td>736560</td>\n",
       "      <td>Weekend</td>\n",
       "      <td>Normal</td>\n",
       "      <td>0</td>\n",
       "      <td>0</td>\n",
       "      <td>70</td>\n",
       "      <td>70</td>\n",
       "      <td>1_105693</td>\n",
       "      <td>0.4281</td>\n",
       "      <td>2017-08-19</td>\n",
       "    </tr>\n",
       "    <tr>\n",
       "      <th>11713</th>\n",
       "      <td>126129012</td>\n",
       "      <td>2017-08-19</td>\n",
       "      <td>1</td>\n",
       "      <td>105737</td>\n",
       "      <td>False</td>\n",
       "      <td>GROCERY I</td>\n",
       "      <td>1044</td>\n",
       "      <td>0</td>\n",
       "      <td>Quito</td>\n",
       "      <td>Pichincha</td>\n",
       "      <td>...</td>\n",
       "      <td>736560</td>\n",
       "      <td>Weekend</td>\n",
       "      <td>Normal</td>\n",
       "      <td>0</td>\n",
       "      <td>0</td>\n",
       "      <td>70</td>\n",
       "      <td>70</td>\n",
       "      <td>1_105737</td>\n",
       "      <td>0.8305</td>\n",
       "      <td>2017-08-19</td>\n",
       "    </tr>\n",
       "    <tr>\n",
       "      <th>11714</th>\n",
       "      <td>126129013</td>\n",
       "      <td>2017-08-19</td>\n",
       "      <td>1</td>\n",
       "      <td>105857</td>\n",
       "      <td>False</td>\n",
       "      <td>GROCERY I</td>\n",
       "      <td>1092</td>\n",
       "      <td>0</td>\n",
       "      <td>Quito</td>\n",
       "      <td>Pichincha</td>\n",
       "      <td>...</td>\n",
       "      <td>736560</td>\n",
       "      <td>Weekend</td>\n",
       "      <td>Normal</td>\n",
       "      <td>0</td>\n",
       "      <td>0</td>\n",
       "      <td>70</td>\n",
       "      <td>70</td>\n",
       "      <td>1_105857</td>\n",
       "      <td>4.3046</td>\n",
       "      <td>2017-08-19</td>\n",
       "    </tr>\n",
       "    <tr>\n",
       "      <th>11715</th>\n",
       "      <td>126129014</td>\n",
       "      <td>2017-08-19</td>\n",
       "      <td>1</td>\n",
       "      <td>106716</td>\n",
       "      <td>False</td>\n",
       "      <td>GROCERY I</td>\n",
       "      <td>1032</td>\n",
       "      <td>0</td>\n",
       "      <td>Quito</td>\n",
       "      <td>Pichincha</td>\n",
       "      <td>...</td>\n",
       "      <td>736560</td>\n",
       "      <td>Weekend</td>\n",
       "      <td>Normal</td>\n",
       "      <td>0</td>\n",
       "      <td>0</td>\n",
       "      <td>70</td>\n",
       "      <td>70</td>\n",
       "      <td>1_106716</td>\n",
       "      <td>2.3409</td>\n",
       "      <td>2017-08-19</td>\n",
       "    </tr>\n",
       "    <tr>\n",
       "      <th>11716</th>\n",
       "      <td>126129015</td>\n",
       "      <td>2017-08-19</td>\n",
       "      <td>1</td>\n",
       "      <td>108079</td>\n",
       "      <td>False</td>\n",
       "      <td>GROCERY I</td>\n",
       "      <td>1030</td>\n",
       "      <td>0</td>\n",
       "      <td>Quito</td>\n",
       "      <td>Pichincha</td>\n",
       "      <td>...</td>\n",
       "      <td>736560</td>\n",
       "      <td>Weekend</td>\n",
       "      <td>Normal</td>\n",
       "      <td>0</td>\n",
       "      <td>0</td>\n",
       "      <td>70</td>\n",
       "      <td>70</td>\n",
       "      <td>1_108079</td>\n",
       "      <td>0.6071</td>\n",
       "      <td>2017-08-19</td>\n",
       "    </tr>\n",
       "    <tr>\n",
       "      <th>11717</th>\n",
       "      <td>126129016</td>\n",
       "      <td>2017-08-19</td>\n",
       "      <td>1</td>\n",
       "      <td>108634</td>\n",
       "      <td>False</td>\n",
       "      <td>GROCERY I</td>\n",
       "      <td>1075</td>\n",
       "      <td>0</td>\n",
       "      <td>Quito</td>\n",
       "      <td>Pichincha</td>\n",
       "      <td>...</td>\n",
       "      <td>736560</td>\n",
       "      <td>Weekend</td>\n",
       "      <td>Normal</td>\n",
       "      <td>0</td>\n",
       "      <td>0</td>\n",
       "      <td>70</td>\n",
       "      <td>70</td>\n",
       "      <td>1_108634</td>\n",
       "      <td>0.0408</td>\n",
       "      <td>2017-08-19</td>\n",
       "    </tr>\n",
       "    <tr>\n",
       "      <th>11718</th>\n",
       "      <td>126129017</td>\n",
       "      <td>2017-08-19</td>\n",
       "      <td>1</td>\n",
       "      <td>108696</td>\n",
       "      <td>False</td>\n",
       "      <td>DELI</td>\n",
       "      <td>2636</td>\n",
       "      <td>1</td>\n",
       "      <td>Quito</td>\n",
       "      <td>Pichincha</td>\n",
       "      <td>...</td>\n",
       "      <td>736560</td>\n",
       "      <td>Weekend</td>\n",
       "      <td>Normal</td>\n",
       "      <td>0</td>\n",
       "      <td>0</td>\n",
       "      <td>70</td>\n",
       "      <td>70</td>\n",
       "      <td>1_108696</td>\n",
       "      <td>1.1766</td>\n",
       "      <td>2017-08-19</td>\n",
       "    </tr>\n",
       "    <tr>\n",
       "      <th>11719</th>\n",
       "      <td>126129018</td>\n",
       "      <td>2017-08-19</td>\n",
       "      <td>1</td>\n",
       "      <td>108698</td>\n",
       "      <td>False</td>\n",
       "      <td>DELI</td>\n",
       "      <td>2644</td>\n",
       "      <td>1</td>\n",
       "      <td>Quito</td>\n",
       "      <td>Pichincha</td>\n",
       "      <td>...</td>\n",
       "      <td>736560</td>\n",
       "      <td>Weekend</td>\n",
       "      <td>Normal</td>\n",
       "      <td>0</td>\n",
       "      <td>0</td>\n",
       "      <td>70</td>\n",
       "      <td>70</td>\n",
       "      <td>1_108698</td>\n",
       "      <td>1.4881</td>\n",
       "      <td>2017-08-19</td>\n",
       "    </tr>\n",
       "    <tr>\n",
       "      <th>11720</th>\n",
       "      <td>126129019</td>\n",
       "      <td>2017-08-19</td>\n",
       "      <td>1</td>\n",
       "      <td>108701</td>\n",
       "      <td>False</td>\n",
       "      <td>DELI</td>\n",
       "      <td>2644</td>\n",
       "      <td>1</td>\n",
       "      <td>Quito</td>\n",
       "      <td>Pichincha</td>\n",
       "      <td>...</td>\n",
       "      <td>736560</td>\n",
       "      <td>Weekend</td>\n",
       "      <td>Normal</td>\n",
       "      <td>0</td>\n",
       "      <td>0</td>\n",
       "      <td>70</td>\n",
       "      <td>70</td>\n",
       "      <td>1_108701</td>\n",
       "      <td>0.6240</td>\n",
       "      <td>2017-08-19</td>\n",
       "    </tr>\n",
       "    <tr>\n",
       "      <th>11721</th>\n",
       "      <td>126129020</td>\n",
       "      <td>2017-08-19</td>\n",
       "      <td>1</td>\n",
       "      <td>108786</td>\n",
       "      <td>False</td>\n",
       "      <td>CLEANING</td>\n",
       "      <td>3044</td>\n",
       "      <td>0</td>\n",
       "      <td>Quito</td>\n",
       "      <td>Pichincha</td>\n",
       "      <td>...</td>\n",
       "      <td>736560</td>\n",
       "      <td>Weekend</td>\n",
       "      <td>Normal</td>\n",
       "      <td>0</td>\n",
       "      <td>0</td>\n",
       "      <td>70</td>\n",
       "      <td>70</td>\n",
       "      <td>1_108786</td>\n",
       "      <td>2.0977</td>\n",
       "      <td>2017-08-19</td>\n",
       "    </tr>\n",
       "    <tr>\n",
       "      <th>11722</th>\n",
       "      <td>126129021</td>\n",
       "      <td>2017-08-19</td>\n",
       "      <td>1</td>\n",
       "      <td>108797</td>\n",
       "      <td>True</td>\n",
       "      <td>GROCERY I</td>\n",
       "      <td>1004</td>\n",
       "      <td>0</td>\n",
       "      <td>Quito</td>\n",
       "      <td>Pichincha</td>\n",
       "      <td>...</td>\n",
       "      <td>736560</td>\n",
       "      <td>Weekend</td>\n",
       "      <td>Normal</td>\n",
       "      <td>0</td>\n",
       "      <td>0</td>\n",
       "      <td>70</td>\n",
       "      <td>70</td>\n",
       "      <td>1_108797</td>\n",
       "      <td>3.7387</td>\n",
       "      <td>2017-08-19</td>\n",
       "    </tr>\n",
       "    <tr>\n",
       "      <th>11723</th>\n",
       "      <td>126129022</td>\n",
       "      <td>2017-08-19</td>\n",
       "      <td>1</td>\n",
       "      <td>108831</td>\n",
       "      <td>False</td>\n",
       "      <td>POULTRY</td>\n",
       "      <td>2416</td>\n",
       "      <td>1</td>\n",
       "      <td>Quito</td>\n",
       "      <td>Pichincha</td>\n",
       "      <td>...</td>\n",
       "      <td>736560</td>\n",
       "      <td>Weekend</td>\n",
       "      <td>Normal</td>\n",
       "      <td>0</td>\n",
       "      <td>0</td>\n",
       "      <td>70</td>\n",
       "      <td>70</td>\n",
       "      <td>1_108831</td>\n",
       "      <td>0.0351</td>\n",
       "      <td>2017-08-19</td>\n",
       "    </tr>\n",
       "    <tr>\n",
       "      <th>11724</th>\n",
       "      <td>126129023</td>\n",
       "      <td>2017-08-19</td>\n",
       "      <td>1</td>\n",
       "      <td>108833</td>\n",
       "      <td>False</td>\n",
       "      <td>EGGS</td>\n",
       "      <td>2502</td>\n",
       "      <td>1</td>\n",
       "      <td>Quito</td>\n",
       "      <td>Pichincha</td>\n",
       "      <td>...</td>\n",
       "      <td>736560</td>\n",
       "      <td>Weekend</td>\n",
       "      <td>Normal</td>\n",
       "      <td>0</td>\n",
       "      <td>0</td>\n",
       "      <td>70</td>\n",
       "      <td>70</td>\n",
       "      <td>1_108833</td>\n",
       "      <td>0.0000</td>\n",
       "      <td>2017-08-19</td>\n",
       "    </tr>\n",
       "    <tr>\n",
       "      <th>11725</th>\n",
       "      <td>126129024</td>\n",
       "      <td>2017-08-19</td>\n",
       "      <td>1</td>\n",
       "      <td>108862</td>\n",
       "      <td>False</td>\n",
       "      <td>GROCERY I</td>\n",
       "      <td>1062</td>\n",
       "      <td>0</td>\n",
       "      <td>Quito</td>\n",
       "      <td>Pichincha</td>\n",
       "      <td>...</td>\n",
       "      <td>736560</td>\n",
       "      <td>Weekend</td>\n",
       "      <td>Normal</td>\n",
       "      <td>0</td>\n",
       "      <td>0</td>\n",
       "      <td>70</td>\n",
       "      <td>70</td>\n",
       "      <td>1_108862</td>\n",
       "      <td>0.6418</td>\n",
       "      <td>2017-08-19</td>\n",
       "    </tr>\n",
       "    <tr>\n",
       "      <th>11726</th>\n",
       "      <td>126129025</td>\n",
       "      <td>2017-08-19</td>\n",
       "      <td>1</td>\n",
       "      <td>108952</td>\n",
       "      <td>False</td>\n",
       "      <td>CLEANING</td>\n",
       "      <td>3024</td>\n",
       "      <td>0</td>\n",
       "      <td>Quito</td>\n",
       "      <td>Pichincha</td>\n",
       "      <td>...</td>\n",
       "      <td>736560</td>\n",
       "      <td>Weekend</td>\n",
       "      <td>Normal</td>\n",
       "      <td>0</td>\n",
       "      <td>0</td>\n",
       "      <td>70</td>\n",
       "      <td>70</td>\n",
       "      <td>1_108952</td>\n",
       "      <td>1.9212</td>\n",
       "      <td>2017-08-19</td>\n",
       "    </tr>\n",
       "    <tr>\n",
       "      <th>11727</th>\n",
       "      <td>126129026</td>\n",
       "      <td>2017-08-19</td>\n",
       "      <td>1</td>\n",
       "      <td>111223</td>\n",
       "      <td>False</td>\n",
       "      <td>GROCERY I</td>\n",
       "      <td>1034</td>\n",
       "      <td>0</td>\n",
       "      <td>Quito</td>\n",
       "      <td>Pichincha</td>\n",
       "      <td>...</td>\n",
       "      <td>736560</td>\n",
       "      <td>Weekend</td>\n",
       "      <td>Normal</td>\n",
       "      <td>0</td>\n",
       "      <td>0</td>\n",
       "      <td>70</td>\n",
       "      <td>70</td>\n",
       "      <td>1_111223</td>\n",
       "      <td>5.9957</td>\n",
       "      <td>2017-08-19</td>\n",
       "    </tr>\n",
       "    <tr>\n",
       "      <th>11728</th>\n",
       "      <td>126129027</td>\n",
       "      <td>2017-08-19</td>\n",
       "      <td>1</td>\n",
       "      <td>111397</td>\n",
       "      <td>False</td>\n",
       "      <td>GROCERY I</td>\n",
       "      <td>1072</td>\n",
       "      <td>0</td>\n",
       "      <td>Quito</td>\n",
       "      <td>Pichincha</td>\n",
       "      <td>...</td>\n",
       "      <td>736560</td>\n",
       "      <td>Weekend</td>\n",
       "      <td>Normal</td>\n",
       "      <td>0</td>\n",
       "      <td>0</td>\n",
       "      <td>70</td>\n",
       "      <td>70</td>\n",
       "      <td>1_111397</td>\n",
       "      <td>0.6688</td>\n",
       "      <td>2017-08-19</td>\n",
       "    </tr>\n",
       "    <tr>\n",
       "      <th>11729</th>\n",
       "      <td>126129028</td>\n",
       "      <td>2017-08-19</td>\n",
       "      <td>1</td>\n",
       "      <td>112830</td>\n",
       "      <td>False</td>\n",
       "      <td>GROCERY I</td>\n",
       "      <td>1044</td>\n",
       "      <td>0</td>\n",
       "      <td>Quito</td>\n",
       "      <td>Pichincha</td>\n",
       "      <td>...</td>\n",
       "      <td>736560</td>\n",
       "      <td>Weekend</td>\n",
       "      <td>Normal</td>\n",
       "      <td>0</td>\n",
       "      <td>0</td>\n",
       "      <td>70</td>\n",
       "      <td>70</td>\n",
       "      <td>1_112830</td>\n",
       "      <td>1.8803</td>\n",
       "      <td>2017-08-19</td>\n",
       "    </tr>\n",
       "    <tr>\n",
       "      <th>11730</th>\n",
       "      <td>126129029</td>\n",
       "      <td>2017-08-19</td>\n",
       "      <td>1</td>\n",
       "      <td>114778</td>\n",
       "      <td>False</td>\n",
       "      <td>GROCERY I</td>\n",
       "      <td>1016</td>\n",
       "      <td>0</td>\n",
       "      <td>Quito</td>\n",
       "      <td>Pichincha</td>\n",
       "      <td>...</td>\n",
       "      <td>736560</td>\n",
       "      <td>Weekend</td>\n",
       "      <td>Normal</td>\n",
       "      <td>0</td>\n",
       "      <td>0</td>\n",
       "      <td>70</td>\n",
       "      <td>70</td>\n",
       "      <td>1_114778</td>\n",
       "      <td>2.0687</td>\n",
       "      <td>2017-08-19</td>\n",
       "    </tr>\n",
       "    <tr>\n",
       "      <th>11731</th>\n",
       "      <td>126129030</td>\n",
       "      <td>2017-08-19</td>\n",
       "      <td>1</td>\n",
       "      <td>114790</td>\n",
       "      <td>False</td>\n",
       "      <td>GROCERY I</td>\n",
       "      <td>1004</td>\n",
       "      <td>0</td>\n",
       "      <td>Quito</td>\n",
       "      <td>Pichincha</td>\n",
       "      <td>...</td>\n",
       "      <td>736560</td>\n",
       "      <td>Weekend</td>\n",
       "      <td>Normal</td>\n",
       "      <td>0</td>\n",
       "      <td>0</td>\n",
       "      <td>70</td>\n",
       "      <td>70</td>\n",
       "      <td>1_114790</td>\n",
       "      <td>0.9472</td>\n",
       "      <td>2017-08-19</td>\n",
       "    </tr>\n",
       "    <tr>\n",
       "      <th>11732</th>\n",
       "      <td>126129031</td>\n",
       "      <td>2017-08-19</td>\n",
       "      <td>1</td>\n",
       "      <td>114799</td>\n",
       "      <td>False</td>\n",
       "      <td>PERSONAL CARE</td>\n",
       "      <td>4126</td>\n",
       "      <td>0</td>\n",
       "      <td>Quito</td>\n",
       "      <td>Pichincha</td>\n",
       "      <td>...</td>\n",
       "      <td>736560</td>\n",
       "      <td>Weekend</td>\n",
       "      <td>Normal</td>\n",
       "      <td>0</td>\n",
       "      <td>0</td>\n",
       "      <td>70</td>\n",
       "      <td>70</td>\n",
       "      <td>1_114799</td>\n",
       "      <td>0.7458</td>\n",
       "      <td>2017-08-19</td>\n",
       "    </tr>\n",
       "    <tr>\n",
       "      <th>...</th>\n",
       "      <td>...</td>\n",
       "      <td>...</td>\n",
       "      <td>...</td>\n",
       "      <td>...</td>\n",
       "      <td>...</td>\n",
       "      <td>...</td>\n",
       "      <td>...</td>\n",
       "      <td>...</td>\n",
       "      <td>...</td>\n",
       "      <td>...</td>\n",
       "      <td>...</td>\n",
       "      <td>...</td>\n",
       "      <td>...</td>\n",
       "      <td>...</td>\n",
       "      <td>...</td>\n",
       "      <td>...</td>\n",
       "      <td>...</td>\n",
       "      <td>...</td>\n",
       "      <td>...</td>\n",
       "      <td>...</td>\n",
       "      <td>...</td>\n",
       "    </tr>\n",
       "    <tr>\n",
       "      <th>62386</th>\n",
       "      <td>128660721</td>\n",
       "      <td>2017-08-31</td>\n",
       "      <td>1</td>\n",
       "      <td>2127921</td>\n",
       "      <td>False</td>\n",
       "      <td>GROCERY I</td>\n",
       "      <td>1028</td>\n",
       "      <td>0</td>\n",
       "      <td>Quito</td>\n",
       "      <td>Pichincha</td>\n",
       "      <td>...</td>\n",
       "      <td>736572</td>\n",
       "      <td>Work Day</td>\n",
       "      <td>Normal</td>\n",
       "      <td>1</td>\n",
       "      <td>0</td>\n",
       "      <td>72</td>\n",
       "      <td>72</td>\n",
       "      <td>1_2127921</td>\n",
       "      <td>0.0000</td>\n",
       "      <td>2017-08-31</td>\n",
       "    </tr>\n",
       "    <tr>\n",
       "      <th>62387</th>\n",
       "      <td>128660722</td>\n",
       "      <td>2017-08-31</td>\n",
       "      <td>1</td>\n",
       "      <td>2127992</td>\n",
       "      <td>False</td>\n",
       "      <td>GROCERY I</td>\n",
       "      <td>1028</td>\n",
       "      <td>0</td>\n",
       "      <td>Quito</td>\n",
       "      <td>Pichincha</td>\n",
       "      <td>...</td>\n",
       "      <td>736572</td>\n",
       "      <td>Work Day</td>\n",
       "      <td>Normal</td>\n",
       "      <td>1</td>\n",
       "      <td>0</td>\n",
       "      <td>72</td>\n",
       "      <td>72</td>\n",
       "      <td>1_2127992</td>\n",
       "      <td>0.0000</td>\n",
       "      <td>2017-08-31</td>\n",
       "    </tr>\n",
       "    <tr>\n",
       "      <th>62388</th>\n",
       "      <td>128660723</td>\n",
       "      <td>2017-08-31</td>\n",
       "      <td>1</td>\n",
       "      <td>2128628</td>\n",
       "      <td>False</td>\n",
       "      <td>BEVERAGES</td>\n",
       "      <td>1122</td>\n",
       "      <td>0</td>\n",
       "      <td>Quito</td>\n",
       "      <td>Pichincha</td>\n",
       "      <td>...</td>\n",
       "      <td>736572</td>\n",
       "      <td>Work Day</td>\n",
       "      <td>Normal</td>\n",
       "      <td>1</td>\n",
       "      <td>0</td>\n",
       "      <td>72</td>\n",
       "      <td>72</td>\n",
       "      <td>1_2128628</td>\n",
       "      <td>0.0000</td>\n",
       "      <td>2017-08-31</td>\n",
       "    </tr>\n",
       "    <tr>\n",
       "      <th>62389</th>\n",
       "      <td>128660724</td>\n",
       "      <td>2017-08-31</td>\n",
       "      <td>1</td>\n",
       "      <td>2128799</td>\n",
       "      <td>False</td>\n",
       "      <td>BEVERAGES</td>\n",
       "      <td>1148</td>\n",
       "      <td>0</td>\n",
       "      <td>Quito</td>\n",
       "      <td>Pichincha</td>\n",
       "      <td>...</td>\n",
       "      <td>736572</td>\n",
       "      <td>Work Day</td>\n",
       "      <td>Normal</td>\n",
       "      <td>1</td>\n",
       "      <td>0</td>\n",
       "      <td>72</td>\n",
       "      <td>72</td>\n",
       "      <td>1_2128799</td>\n",
       "      <td>0.0000</td>\n",
       "      <td>2017-08-31</td>\n",
       "    </tr>\n",
       "    <tr>\n",
       "      <th>62390</th>\n",
       "      <td>128660725</td>\n",
       "      <td>2017-08-31</td>\n",
       "      <td>1</td>\n",
       "      <td>2129334</td>\n",
       "      <td>False</td>\n",
       "      <td>GROCERY I</td>\n",
       "      <td>1086</td>\n",
       "      <td>0</td>\n",
       "      <td>Quito</td>\n",
       "      <td>Pichincha</td>\n",
       "      <td>...</td>\n",
       "      <td>736572</td>\n",
       "      <td>Work Day</td>\n",
       "      <td>Normal</td>\n",
       "      <td>1</td>\n",
       "      <td>0</td>\n",
       "      <td>72</td>\n",
       "      <td>72</td>\n",
       "      <td>1_2129334</td>\n",
       "      <td>0.0000</td>\n",
       "      <td>2017-08-31</td>\n",
       "    </tr>\n",
       "    <tr>\n",
       "      <th>62391</th>\n",
       "      <td>128660726</td>\n",
       "      <td>2017-08-31</td>\n",
       "      <td>1</td>\n",
       "      <td>2129350</td>\n",
       "      <td>False</td>\n",
       "      <td>GROCERY I</td>\n",
       "      <td>1086</td>\n",
       "      <td>0</td>\n",
       "      <td>Quito</td>\n",
       "      <td>Pichincha</td>\n",
       "      <td>...</td>\n",
       "      <td>736572</td>\n",
       "      <td>Work Day</td>\n",
       "      <td>Normal</td>\n",
       "      <td>1</td>\n",
       "      <td>0</td>\n",
       "      <td>72</td>\n",
       "      <td>72</td>\n",
       "      <td>1_2129350</td>\n",
       "      <td>0.0000</td>\n",
       "      <td>2017-08-31</td>\n",
       "    </tr>\n",
       "    <tr>\n",
       "      <th>62392</th>\n",
       "      <td>128660727</td>\n",
       "      <td>2017-08-31</td>\n",
       "      <td>1</td>\n",
       "      <td>2129387</td>\n",
       "      <td>False</td>\n",
       "      <td>GROCERY I</td>\n",
       "      <td>1068</td>\n",
       "      <td>0</td>\n",
       "      <td>Quito</td>\n",
       "      <td>Pichincha</td>\n",
       "      <td>...</td>\n",
       "      <td>736572</td>\n",
       "      <td>Work Day</td>\n",
       "      <td>Normal</td>\n",
       "      <td>1</td>\n",
       "      <td>0</td>\n",
       "      <td>72</td>\n",
       "      <td>72</td>\n",
       "      <td>1_2129387</td>\n",
       "      <td>0.0000</td>\n",
       "      <td>2017-08-31</td>\n",
       "    </tr>\n",
       "    <tr>\n",
       "      <th>62393</th>\n",
       "      <td>128660728</td>\n",
       "      <td>2017-08-31</td>\n",
       "      <td>1</td>\n",
       "      <td>2129515</td>\n",
       "      <td>False</td>\n",
       "      <td>GROCERY I</td>\n",
       "      <td>1042</td>\n",
       "      <td>0</td>\n",
       "      <td>Quito</td>\n",
       "      <td>Pichincha</td>\n",
       "      <td>...</td>\n",
       "      <td>736572</td>\n",
       "      <td>Work Day</td>\n",
       "      <td>Normal</td>\n",
       "      <td>1</td>\n",
       "      <td>0</td>\n",
       "      <td>72</td>\n",
       "      <td>72</td>\n",
       "      <td>1_2129515</td>\n",
       "      <td>0.0000</td>\n",
       "      <td>2017-08-31</td>\n",
       "    </tr>\n",
       "    <tr>\n",
       "      <th>62394</th>\n",
       "      <td>128660729</td>\n",
       "      <td>2017-08-31</td>\n",
       "      <td>1</td>\n",
       "      <td>2129616</td>\n",
       "      <td>False</td>\n",
       "      <td>BEVERAGES</td>\n",
       "      <td>1124</td>\n",
       "      <td>0</td>\n",
       "      <td>Quito</td>\n",
       "      <td>Pichincha</td>\n",
       "      <td>...</td>\n",
       "      <td>736572</td>\n",
       "      <td>Work Day</td>\n",
       "      <td>Normal</td>\n",
       "      <td>1</td>\n",
       "      <td>0</td>\n",
       "      <td>72</td>\n",
       "      <td>72</td>\n",
       "      <td>1_2129616</td>\n",
       "      <td>0.0000</td>\n",
       "      <td>2017-08-31</td>\n",
       "    </tr>\n",
       "    <tr>\n",
       "      <th>62395</th>\n",
       "      <td>128660730</td>\n",
       "      <td>2017-08-31</td>\n",
       "      <td>1</td>\n",
       "      <td>2129678</td>\n",
       "      <td>False</td>\n",
       "      <td>GROCERY I</td>\n",
       "      <td>1030</td>\n",
       "      <td>0</td>\n",
       "      <td>Quito</td>\n",
       "      <td>Pichincha</td>\n",
       "      <td>...</td>\n",
       "      <td>736572</td>\n",
       "      <td>Work Day</td>\n",
       "      <td>Normal</td>\n",
       "      <td>1</td>\n",
       "      <td>0</td>\n",
       "      <td>72</td>\n",
       "      <td>72</td>\n",
       "      <td>1_2129678</td>\n",
       "      <td>0.0000</td>\n",
       "      <td>2017-08-31</td>\n",
       "    </tr>\n",
       "    <tr>\n",
       "      <th>62396</th>\n",
       "      <td>128660731</td>\n",
       "      <td>2017-08-31</td>\n",
       "      <td>1</td>\n",
       "      <td>2129786</td>\n",
       "      <td>True</td>\n",
       "      <td>GROCERY I</td>\n",
       "      <td>1016</td>\n",
       "      <td>0</td>\n",
       "      <td>Quito</td>\n",
       "      <td>Pichincha</td>\n",
       "      <td>...</td>\n",
       "      <td>736572</td>\n",
       "      <td>Work Day</td>\n",
       "      <td>Normal</td>\n",
       "      <td>1</td>\n",
       "      <td>0</td>\n",
       "      <td>72</td>\n",
       "      <td>72</td>\n",
       "      <td>1_2129786</td>\n",
       "      <td>0.0000</td>\n",
       "      <td>2017-08-31</td>\n",
       "    </tr>\n",
       "    <tr>\n",
       "      <th>62397</th>\n",
       "      <td>128660732</td>\n",
       "      <td>2017-08-31</td>\n",
       "      <td>1</td>\n",
       "      <td>2129790</td>\n",
       "      <td>False</td>\n",
       "      <td>GROCERY I</td>\n",
       "      <td>1094</td>\n",
       "      <td>0</td>\n",
       "      <td>Quito</td>\n",
       "      <td>Pichincha</td>\n",
       "      <td>...</td>\n",
       "      <td>736572</td>\n",
       "      <td>Work Day</td>\n",
       "      <td>Normal</td>\n",
       "      <td>1</td>\n",
       "      <td>0</td>\n",
       "      <td>72</td>\n",
       "      <td>72</td>\n",
       "      <td>1_2129790</td>\n",
       "      <td>0.0000</td>\n",
       "      <td>2017-08-31</td>\n",
       "    </tr>\n",
       "    <tr>\n",
       "      <th>62398</th>\n",
       "      <td>128660733</td>\n",
       "      <td>2017-08-31</td>\n",
       "      <td>1</td>\n",
       "      <td>2129892</td>\n",
       "      <td>False</td>\n",
       "      <td>GROCERY I</td>\n",
       "      <td>1092</td>\n",
       "      <td>0</td>\n",
       "      <td>Quito</td>\n",
       "      <td>Pichincha</td>\n",
       "      <td>...</td>\n",
       "      <td>736572</td>\n",
       "      <td>Work Day</td>\n",
       "      <td>Normal</td>\n",
       "      <td>1</td>\n",
       "      <td>0</td>\n",
       "      <td>72</td>\n",
       "      <td>72</td>\n",
       "      <td>1_2129892</td>\n",
       "      <td>0.0000</td>\n",
       "      <td>2017-08-31</td>\n",
       "    </tr>\n",
       "    <tr>\n",
       "      <th>62399</th>\n",
       "      <td>128660734</td>\n",
       "      <td>2017-08-31</td>\n",
       "      <td>1</td>\n",
       "      <td>2129994</td>\n",
       "      <td>False</td>\n",
       "      <td>GROCERY I</td>\n",
       "      <td>1092</td>\n",
       "      <td>0</td>\n",
       "      <td>Quito</td>\n",
       "      <td>Pichincha</td>\n",
       "      <td>...</td>\n",
       "      <td>736572</td>\n",
       "      <td>Work Day</td>\n",
       "      <td>Normal</td>\n",
       "      <td>1</td>\n",
       "      <td>0</td>\n",
       "      <td>72</td>\n",
       "      <td>72</td>\n",
       "      <td>1_2129994</td>\n",
       "      <td>0.0000</td>\n",
       "      <td>2017-08-31</td>\n",
       "    </tr>\n",
       "    <tr>\n",
       "      <th>62400</th>\n",
       "      <td>128660735</td>\n",
       "      <td>2017-08-31</td>\n",
       "      <td>1</td>\n",
       "      <td>2130131</td>\n",
       "      <td>False</td>\n",
       "      <td>GROCERY I</td>\n",
       "      <td>1092</td>\n",
       "      <td>0</td>\n",
       "      <td>Quito</td>\n",
       "      <td>Pichincha</td>\n",
       "      <td>...</td>\n",
       "      <td>736572</td>\n",
       "      <td>Work Day</td>\n",
       "      <td>Normal</td>\n",
       "      <td>1</td>\n",
       "      <td>0</td>\n",
       "      <td>72</td>\n",
       "      <td>72</td>\n",
       "      <td>1_2130131</td>\n",
       "      <td>0.0000</td>\n",
       "      <td>2017-08-31</td>\n",
       "    </tr>\n",
       "    <tr>\n",
       "      <th>62401</th>\n",
       "      <td>128660736</td>\n",
       "      <td>2017-08-31</td>\n",
       "      <td>1</td>\n",
       "      <td>2130219</td>\n",
       "      <td>False</td>\n",
       "      <td>GROCERY I</td>\n",
       "      <td>1094</td>\n",
       "      <td>0</td>\n",
       "      <td>Quito</td>\n",
       "      <td>Pichincha</td>\n",
       "      <td>...</td>\n",
       "      <td>736572</td>\n",
       "      <td>Work Day</td>\n",
       "      <td>Normal</td>\n",
       "      <td>1</td>\n",
       "      <td>0</td>\n",
       "      <td>72</td>\n",
       "      <td>72</td>\n",
       "      <td>1_2130219</td>\n",
       "      <td>0.0000</td>\n",
       "      <td>2017-08-31</td>\n",
       "    </tr>\n",
       "    <tr>\n",
       "      <th>62402</th>\n",
       "      <td>128660737</td>\n",
       "      <td>2017-08-31</td>\n",
       "      <td>1</td>\n",
       "      <td>2130265</td>\n",
       "      <td>False</td>\n",
       "      <td>GROCERY I</td>\n",
       "      <td>1094</td>\n",
       "      <td>0</td>\n",
       "      <td>Quito</td>\n",
       "      <td>Pichincha</td>\n",
       "      <td>...</td>\n",
       "      <td>736572</td>\n",
       "      <td>Work Day</td>\n",
       "      <td>Normal</td>\n",
       "      <td>1</td>\n",
       "      <td>0</td>\n",
       "      <td>72</td>\n",
       "      <td>72</td>\n",
       "      <td>1_2130265</td>\n",
       "      <td>0.0000</td>\n",
       "      <td>2017-08-31</td>\n",
       "    </tr>\n",
       "    <tr>\n",
       "      <th>62403</th>\n",
       "      <td>128660738</td>\n",
       "      <td>2017-08-31</td>\n",
       "      <td>1</td>\n",
       "      <td>2130352</td>\n",
       "      <td>False</td>\n",
       "      <td>GROCERY I</td>\n",
       "      <td>1094</td>\n",
       "      <td>0</td>\n",
       "      <td>Quito</td>\n",
       "      <td>Pichincha</td>\n",
       "      <td>...</td>\n",
       "      <td>736572</td>\n",
       "      <td>Work Day</td>\n",
       "      <td>Normal</td>\n",
       "      <td>1</td>\n",
       "      <td>0</td>\n",
       "      <td>72</td>\n",
       "      <td>72</td>\n",
       "      <td>1_2130352</td>\n",
       "      <td>0.0000</td>\n",
       "      <td>2017-08-31</td>\n",
       "    </tr>\n",
       "    <tr>\n",
       "      <th>62404</th>\n",
       "      <td>128660739</td>\n",
       "      <td>2017-08-31</td>\n",
       "      <td>1</td>\n",
       "      <td>2130474</td>\n",
       "      <td>False</td>\n",
       "      <td>GROCERY I</td>\n",
       "      <td>1064</td>\n",
       "      <td>0</td>\n",
       "      <td>Quito</td>\n",
       "      <td>Pichincha</td>\n",
       "      <td>...</td>\n",
       "      <td>736572</td>\n",
       "      <td>Work Day</td>\n",
       "      <td>Normal</td>\n",
       "      <td>1</td>\n",
       "      <td>0</td>\n",
       "      <td>72</td>\n",
       "      <td>72</td>\n",
       "      <td>1_2130474</td>\n",
       "      <td>0.0000</td>\n",
       "      <td>2017-08-31</td>\n",
       "    </tr>\n",
       "    <tr>\n",
       "      <th>62405</th>\n",
       "      <td>128660740</td>\n",
       "      <td>2017-08-31</td>\n",
       "      <td>1</td>\n",
       "      <td>2130521</td>\n",
       "      <td>False</td>\n",
       "      <td>GROCERY I</td>\n",
       "      <td>1040</td>\n",
       "      <td>0</td>\n",
       "      <td>Quito</td>\n",
       "      <td>Pichincha</td>\n",
       "      <td>...</td>\n",
       "      <td>736572</td>\n",
       "      <td>Work Day</td>\n",
       "      <td>Normal</td>\n",
       "      <td>1</td>\n",
       "      <td>0</td>\n",
       "      <td>72</td>\n",
       "      <td>72</td>\n",
       "      <td>1_2130521</td>\n",
       "      <td>0.0000</td>\n",
       "      <td>2017-08-31</td>\n",
       "    </tr>\n",
       "    <tr>\n",
       "      <th>62406</th>\n",
       "      <td>128660741</td>\n",
       "      <td>2017-08-31</td>\n",
       "      <td>1</td>\n",
       "      <td>2130526</td>\n",
       "      <td>False</td>\n",
       "      <td>GROCERY I</td>\n",
       "      <td>1030</td>\n",
       "      <td>0</td>\n",
       "      <td>Quito</td>\n",
       "      <td>Pichincha</td>\n",
       "      <td>...</td>\n",
       "      <td>736572</td>\n",
       "      <td>Work Day</td>\n",
       "      <td>Normal</td>\n",
       "      <td>1</td>\n",
       "      <td>0</td>\n",
       "      <td>72</td>\n",
       "      <td>72</td>\n",
       "      <td>1_2130526</td>\n",
       "      <td>0.0000</td>\n",
       "      <td>2017-08-31</td>\n",
       "    </tr>\n",
       "    <tr>\n",
       "      <th>62407</th>\n",
       "      <td>128660742</td>\n",
       "      <td>2017-08-31</td>\n",
       "      <td>1</td>\n",
       "      <td>2130553</td>\n",
       "      <td>False</td>\n",
       "      <td>LIQUOR,WINE,BEER</td>\n",
       "      <td>1318</td>\n",
       "      <td>0</td>\n",
       "      <td>Quito</td>\n",
       "      <td>Pichincha</td>\n",
       "      <td>...</td>\n",
       "      <td>736572</td>\n",
       "      <td>Work Day</td>\n",
       "      <td>Normal</td>\n",
       "      <td>1</td>\n",
       "      <td>0</td>\n",
       "      <td>72</td>\n",
       "      <td>72</td>\n",
       "      <td>1_2130553</td>\n",
       "      <td>0.0000</td>\n",
       "      <td>2017-08-31</td>\n",
       "    </tr>\n",
       "    <tr>\n",
       "      <th>62408</th>\n",
       "      <td>128660743</td>\n",
       "      <td>2017-08-31</td>\n",
       "      <td>1</td>\n",
       "      <td>2131010</td>\n",
       "      <td>False</td>\n",
       "      <td>LIQUOR,WINE,BEER</td>\n",
       "      <td>1328</td>\n",
       "      <td>0</td>\n",
       "      <td>Quito</td>\n",
       "      <td>Pichincha</td>\n",
       "      <td>...</td>\n",
       "      <td>736572</td>\n",
       "      <td>Work Day</td>\n",
       "      <td>Normal</td>\n",
       "      <td>1</td>\n",
       "      <td>0</td>\n",
       "      <td>72</td>\n",
       "      <td>72</td>\n",
       "      <td>1_2131010</td>\n",
       "      <td>0.0000</td>\n",
       "      <td>2017-08-31</td>\n",
       "    </tr>\n",
       "    <tr>\n",
       "      <th>62409</th>\n",
       "      <td>128660744</td>\n",
       "      <td>2017-08-31</td>\n",
       "      <td>1</td>\n",
       "      <td>2131572</td>\n",
       "      <td>False</td>\n",
       "      <td>GROCERY I</td>\n",
       "      <td>1002</td>\n",
       "      <td>0</td>\n",
       "      <td>Quito</td>\n",
       "      <td>Pichincha</td>\n",
       "      <td>...</td>\n",
       "      <td>736572</td>\n",
       "      <td>Work Day</td>\n",
       "      <td>Normal</td>\n",
       "      <td>1</td>\n",
       "      <td>0</td>\n",
       "      <td>72</td>\n",
       "      <td>72</td>\n",
       "      <td>1_2131572</td>\n",
       "      <td>0.0000</td>\n",
       "      <td>2017-08-31</td>\n",
       "    </tr>\n",
       "    <tr>\n",
       "      <th>62410</th>\n",
       "      <td>128660745</td>\n",
       "      <td>2017-08-31</td>\n",
       "      <td>1</td>\n",
       "      <td>2131699</td>\n",
       "      <td>False</td>\n",
       "      <td>GROCERY I</td>\n",
       "      <td>1002</td>\n",
       "      <td>0</td>\n",
       "      <td>Quito</td>\n",
       "      <td>Pichincha</td>\n",
       "      <td>...</td>\n",
       "      <td>736572</td>\n",
       "      <td>Work Day</td>\n",
       "      <td>Normal</td>\n",
       "      <td>1</td>\n",
       "      <td>0</td>\n",
       "      <td>72</td>\n",
       "      <td>72</td>\n",
       "      <td>1_2131699</td>\n",
       "      <td>0.0000</td>\n",
       "      <td>2017-08-31</td>\n",
       "    </tr>\n",
       "    <tr>\n",
       "      <th>62411</th>\n",
       "      <td>128660746</td>\n",
       "      <td>2017-08-31</td>\n",
       "      <td>1</td>\n",
       "      <td>2132163</td>\n",
       "      <td>False</td>\n",
       "      <td>GROCERY I</td>\n",
       "      <td>1040</td>\n",
       "      <td>0</td>\n",
       "      <td>Quito</td>\n",
       "      <td>Pichincha</td>\n",
       "      <td>...</td>\n",
       "      <td>736572</td>\n",
       "      <td>Work Day</td>\n",
       "      <td>Normal</td>\n",
       "      <td>1</td>\n",
       "      <td>0</td>\n",
       "      <td>72</td>\n",
       "      <td>72</td>\n",
       "      <td>1_2132163</td>\n",
       "      <td>0.0000</td>\n",
       "      <td>2017-08-31</td>\n",
       "    </tr>\n",
       "    <tr>\n",
       "      <th>62412</th>\n",
       "      <td>128660747</td>\n",
       "      <td>2017-08-31</td>\n",
       "      <td>1</td>\n",
       "      <td>2132318</td>\n",
       "      <td>False</td>\n",
       "      <td>GROCERY I</td>\n",
       "      <td>1002</td>\n",
       "      <td>0</td>\n",
       "      <td>Quito</td>\n",
       "      <td>Pichincha</td>\n",
       "      <td>...</td>\n",
       "      <td>736572</td>\n",
       "      <td>Work Day</td>\n",
       "      <td>Normal</td>\n",
       "      <td>1</td>\n",
       "      <td>0</td>\n",
       "      <td>72</td>\n",
       "      <td>72</td>\n",
       "      <td>1_2132318</td>\n",
       "      <td>0.0000</td>\n",
       "      <td>2017-08-31</td>\n",
       "    </tr>\n",
       "    <tr>\n",
       "      <th>62413</th>\n",
       "      <td>128660748</td>\n",
       "      <td>2017-08-31</td>\n",
       "      <td>1</td>\n",
       "      <td>2132945</td>\n",
       "      <td>False</td>\n",
       "      <td>GROCERY I</td>\n",
       "      <td>1026</td>\n",
       "      <td>0</td>\n",
       "      <td>Quito</td>\n",
       "      <td>Pichincha</td>\n",
       "      <td>...</td>\n",
       "      <td>736572</td>\n",
       "      <td>Work Day</td>\n",
       "      <td>Normal</td>\n",
       "      <td>1</td>\n",
       "      <td>0</td>\n",
       "      <td>72</td>\n",
       "      <td>72</td>\n",
       "      <td>1_2132945</td>\n",
       "      <td>0.0000</td>\n",
       "      <td>2017-08-31</td>\n",
       "    </tr>\n",
       "    <tr>\n",
       "      <th>62414</th>\n",
       "      <td>128660749</td>\n",
       "      <td>2017-08-31</td>\n",
       "      <td>1</td>\n",
       "      <td>2132957</td>\n",
       "      <td>False</td>\n",
       "      <td>GROCERY I</td>\n",
       "      <td>1068</td>\n",
       "      <td>0</td>\n",
       "      <td>Quito</td>\n",
       "      <td>Pichincha</td>\n",
       "      <td>...</td>\n",
       "      <td>736572</td>\n",
       "      <td>Work Day</td>\n",
       "      <td>Normal</td>\n",
       "      <td>1</td>\n",
       "      <td>0</td>\n",
       "      <td>72</td>\n",
       "      <td>72</td>\n",
       "      <td>1_2132957</td>\n",
       "      <td>0.0000</td>\n",
       "      <td>2017-08-31</td>\n",
       "    </tr>\n",
       "    <tr>\n",
       "      <th>62415</th>\n",
       "      <td>128660750</td>\n",
       "      <td>2017-08-31</td>\n",
       "      <td>1</td>\n",
       "      <td>2134244</td>\n",
       "      <td>False</td>\n",
       "      <td>LIQUOR,WINE,BEER</td>\n",
       "      <td>1364</td>\n",
       "      <td>0</td>\n",
       "      <td>Quito</td>\n",
       "      <td>Pichincha</td>\n",
       "      <td>...</td>\n",
       "      <td>736572</td>\n",
       "      <td>Work Day</td>\n",
       "      <td>Normal</td>\n",
       "      <td>1</td>\n",
       "      <td>0</td>\n",
       "      <td>72</td>\n",
       "      <td>72</td>\n",
       "      <td>1_2134244</td>\n",
       "      <td>0.0000</td>\n",
       "      <td>2017-08-31</td>\n",
       "    </tr>\n",
       "  </tbody>\n",
       "</table>\n",
       "<p>50713 rows × 28 columns</p>\n",
       "</div>"
      ],
      "text/plain": [
       "              id        date  store_nbr  item_nbr  onpromotion  \\\n",
       "11703  126129002  2017-08-19          1     96995        False   \n",
       "11704  126129003  2017-08-19          1     99197        False   \n",
       "11705  126129004  2017-08-19          1    103501        False   \n",
       "11706  126129005  2017-08-19          1    103520        False   \n",
       "11707  126129006  2017-08-19          1    103665        False   \n",
       "11708  126129007  2017-08-19          1    105574        False   \n",
       "11709  126129008  2017-08-19          1    105575        False   \n",
       "11710  126129009  2017-08-19          1    105576        False   \n",
       "11711  126129010  2017-08-19          1    105577        False   \n",
       "11712  126129011  2017-08-19          1    105693        False   \n",
       "11713  126129012  2017-08-19          1    105737        False   \n",
       "11714  126129013  2017-08-19          1    105857        False   \n",
       "11715  126129014  2017-08-19          1    106716        False   \n",
       "11716  126129015  2017-08-19          1    108079        False   \n",
       "11717  126129016  2017-08-19          1    108634        False   \n",
       "11718  126129017  2017-08-19          1    108696        False   \n",
       "11719  126129018  2017-08-19          1    108698        False   \n",
       "11720  126129019  2017-08-19          1    108701        False   \n",
       "11721  126129020  2017-08-19          1    108786        False   \n",
       "11722  126129021  2017-08-19          1    108797         True   \n",
       "11723  126129022  2017-08-19          1    108831        False   \n",
       "11724  126129023  2017-08-19          1    108833        False   \n",
       "11725  126129024  2017-08-19          1    108862        False   \n",
       "11726  126129025  2017-08-19          1    108952        False   \n",
       "11727  126129026  2017-08-19          1    111223        False   \n",
       "11728  126129027  2017-08-19          1    111397        False   \n",
       "11729  126129028  2017-08-19          1    112830        False   \n",
       "11730  126129029  2017-08-19          1    114778        False   \n",
       "11731  126129030  2017-08-19          1    114790        False   \n",
       "11732  126129031  2017-08-19          1    114799        False   \n",
       "...          ...         ...        ...       ...          ...   \n",
       "62386  128660721  2017-08-31          1   2127921        False   \n",
       "62387  128660722  2017-08-31          1   2127992        False   \n",
       "62388  128660723  2017-08-31          1   2128628        False   \n",
       "62389  128660724  2017-08-31          1   2128799        False   \n",
       "62390  128660725  2017-08-31          1   2129334        False   \n",
       "62391  128660726  2017-08-31          1   2129350        False   \n",
       "62392  128660727  2017-08-31          1   2129387        False   \n",
       "62393  128660728  2017-08-31          1   2129515        False   \n",
       "62394  128660729  2017-08-31          1   2129616        False   \n",
       "62395  128660730  2017-08-31          1   2129678        False   \n",
       "62396  128660731  2017-08-31          1   2129786         True   \n",
       "62397  128660732  2017-08-31          1   2129790        False   \n",
       "62398  128660733  2017-08-31          1   2129892        False   \n",
       "62399  128660734  2017-08-31          1   2129994        False   \n",
       "62400  128660735  2017-08-31          1   2130131        False   \n",
       "62401  128660736  2017-08-31          1   2130219        False   \n",
       "62402  128660737  2017-08-31          1   2130265        False   \n",
       "62403  128660738  2017-08-31          1   2130352        False   \n",
       "62404  128660739  2017-08-31          1   2130474        False   \n",
       "62405  128660740  2017-08-31          1   2130521        False   \n",
       "62406  128660741  2017-08-31          1   2130526        False   \n",
       "62407  128660742  2017-08-31          1   2130553        False   \n",
       "62408  128660743  2017-08-31          1   2131010        False   \n",
       "62409  128660744  2017-08-31          1   2131572        False   \n",
       "62410  128660745  2017-08-31          1   2131699        False   \n",
       "62411  128660746  2017-08-31          1   2132163        False   \n",
       "62412  128660747  2017-08-31          1   2132318        False   \n",
       "62413  128660748  2017-08-31          1   2132945        False   \n",
       "62414  128660749  2017-08-31          1   2132957        False   \n",
       "62415  128660750  2017-08-31          1   2134244        False   \n",
       "\n",
       "            item_family  item_class  perishable   city      state    ...      \\\n",
       "11703         GROCERY I        1093           0  Quito  Pichincha    ...       \n",
       "11704         GROCERY I        1067           0  Quito  Pichincha    ...       \n",
       "11705          CLEANING        3008           0  Quito  Pichincha    ...       \n",
       "11706         GROCERY I        1028           0  Quito  Pichincha    ...       \n",
       "11707      BREAD/BAKERY        2712           1  Quito  Pichincha    ...       \n",
       "11708         GROCERY I        1045           0  Quito  Pichincha    ...       \n",
       "11709         GROCERY I        1045           0  Quito  Pichincha    ...       \n",
       "11710         GROCERY I        1045           0  Quito  Pichincha    ...       \n",
       "11711         GROCERY I        1045           0  Quito  Pichincha    ...       \n",
       "11712         GROCERY I        1034           0  Quito  Pichincha    ...       \n",
       "11713         GROCERY I        1044           0  Quito  Pichincha    ...       \n",
       "11714         GROCERY I        1092           0  Quito  Pichincha    ...       \n",
       "11715         GROCERY I        1032           0  Quito  Pichincha    ...       \n",
       "11716         GROCERY I        1030           0  Quito  Pichincha    ...       \n",
       "11717         GROCERY I        1075           0  Quito  Pichincha    ...       \n",
       "11718              DELI        2636           1  Quito  Pichincha    ...       \n",
       "11719              DELI        2644           1  Quito  Pichincha    ...       \n",
       "11720              DELI        2644           1  Quito  Pichincha    ...       \n",
       "11721          CLEANING        3044           0  Quito  Pichincha    ...       \n",
       "11722         GROCERY I        1004           0  Quito  Pichincha    ...       \n",
       "11723           POULTRY        2416           1  Quito  Pichincha    ...       \n",
       "11724              EGGS        2502           1  Quito  Pichincha    ...       \n",
       "11725         GROCERY I        1062           0  Quito  Pichincha    ...       \n",
       "11726          CLEANING        3024           0  Quito  Pichincha    ...       \n",
       "11727         GROCERY I        1034           0  Quito  Pichincha    ...       \n",
       "11728         GROCERY I        1072           0  Quito  Pichincha    ...       \n",
       "11729         GROCERY I        1044           0  Quito  Pichincha    ...       \n",
       "11730         GROCERY I        1016           0  Quito  Pichincha    ...       \n",
       "11731         GROCERY I        1004           0  Quito  Pichincha    ...       \n",
       "11732     PERSONAL CARE        4126           0  Quito  Pichincha    ...       \n",
       "...                 ...         ...         ...    ...        ...    ...       \n",
       "62386         GROCERY I        1028           0  Quito  Pichincha    ...       \n",
       "62387         GROCERY I        1028           0  Quito  Pichincha    ...       \n",
       "62388         BEVERAGES        1122           0  Quito  Pichincha    ...       \n",
       "62389         BEVERAGES        1148           0  Quito  Pichincha    ...       \n",
       "62390         GROCERY I        1086           0  Quito  Pichincha    ...       \n",
       "62391         GROCERY I        1086           0  Quito  Pichincha    ...       \n",
       "62392         GROCERY I        1068           0  Quito  Pichincha    ...       \n",
       "62393         GROCERY I        1042           0  Quito  Pichincha    ...       \n",
       "62394         BEVERAGES        1124           0  Quito  Pichincha    ...       \n",
       "62395         GROCERY I        1030           0  Quito  Pichincha    ...       \n",
       "62396         GROCERY I        1016           0  Quito  Pichincha    ...       \n",
       "62397         GROCERY I        1094           0  Quito  Pichincha    ...       \n",
       "62398         GROCERY I        1092           0  Quito  Pichincha    ...       \n",
       "62399         GROCERY I        1092           0  Quito  Pichincha    ...       \n",
       "62400         GROCERY I        1092           0  Quito  Pichincha    ...       \n",
       "62401         GROCERY I        1094           0  Quito  Pichincha    ...       \n",
       "62402         GROCERY I        1094           0  Quito  Pichincha    ...       \n",
       "62403         GROCERY I        1094           0  Quito  Pichincha    ...       \n",
       "62404         GROCERY I        1064           0  Quito  Pichincha    ...       \n",
       "62405         GROCERY I        1040           0  Quito  Pichincha    ...       \n",
       "62406         GROCERY I        1030           0  Quito  Pichincha    ...       \n",
       "62407  LIQUOR,WINE,BEER        1318           0  Quito  Pichincha    ...       \n",
       "62408  LIQUOR,WINE,BEER        1328           0  Quito  Pichincha    ...       \n",
       "62409         GROCERY I        1002           0  Quito  Pichincha    ...       \n",
       "62410         GROCERY I        1002           0  Quito  Pichincha    ...       \n",
       "62411         GROCERY I        1040           0  Quito  Pichincha    ...       \n",
       "62412         GROCERY I        1002           0  Quito  Pichincha    ...       \n",
       "62413         GROCERY I        1026           0  Quito  Pichincha    ...       \n",
       "62414         GROCERY I        1068           0  Quito  Pichincha    ...       \n",
       "62415  LIQUOR,WINE,BEER        1364           0  Quito  Pichincha    ...       \n",
       "\n",
       "       dcount    h_type  h_desc  pd  wbe  wae  wfe  store_item_nbr  \\\n",
       "11703  736560   Weekend  Normal   0    0   70   70         1_96995   \n",
       "11704  736560   Weekend  Normal   0    0   70   70         1_99197   \n",
       "11705  736560   Weekend  Normal   0    0   70   70        1_103501   \n",
       "11706  736560   Weekend  Normal   0    0   70   70        1_103520   \n",
       "11707  736560   Weekend  Normal   0    0   70   70        1_103665   \n",
       "11708  736560   Weekend  Normal   0    0   70   70        1_105574   \n",
       "11709  736560   Weekend  Normal   0    0   70   70        1_105575   \n",
       "11710  736560   Weekend  Normal   0    0   70   70        1_105576   \n",
       "11711  736560   Weekend  Normal   0    0   70   70        1_105577   \n",
       "11712  736560   Weekend  Normal   0    0   70   70        1_105693   \n",
       "11713  736560   Weekend  Normal   0    0   70   70        1_105737   \n",
       "11714  736560   Weekend  Normal   0    0   70   70        1_105857   \n",
       "11715  736560   Weekend  Normal   0    0   70   70        1_106716   \n",
       "11716  736560   Weekend  Normal   0    0   70   70        1_108079   \n",
       "11717  736560   Weekend  Normal   0    0   70   70        1_108634   \n",
       "11718  736560   Weekend  Normal   0    0   70   70        1_108696   \n",
       "11719  736560   Weekend  Normal   0    0   70   70        1_108698   \n",
       "11720  736560   Weekend  Normal   0    0   70   70        1_108701   \n",
       "11721  736560   Weekend  Normal   0    0   70   70        1_108786   \n",
       "11722  736560   Weekend  Normal   0    0   70   70        1_108797   \n",
       "11723  736560   Weekend  Normal   0    0   70   70        1_108831   \n",
       "11724  736560   Weekend  Normal   0    0   70   70        1_108833   \n",
       "11725  736560   Weekend  Normal   0    0   70   70        1_108862   \n",
       "11726  736560   Weekend  Normal   0    0   70   70        1_108952   \n",
       "11727  736560   Weekend  Normal   0    0   70   70        1_111223   \n",
       "11728  736560   Weekend  Normal   0    0   70   70        1_111397   \n",
       "11729  736560   Weekend  Normal   0    0   70   70        1_112830   \n",
       "11730  736560   Weekend  Normal   0    0   70   70        1_114778   \n",
       "11731  736560   Weekend  Normal   0    0   70   70        1_114790   \n",
       "11732  736560   Weekend  Normal   0    0   70   70        1_114799   \n",
       "...       ...       ...     ...  ..  ...  ...  ...             ...   \n",
       "62386  736572  Work Day  Normal   1    0   72   72       1_2127921   \n",
       "62387  736572  Work Day  Normal   1    0   72   72       1_2127992   \n",
       "62388  736572  Work Day  Normal   1    0   72   72       1_2128628   \n",
       "62389  736572  Work Day  Normal   1    0   72   72       1_2128799   \n",
       "62390  736572  Work Day  Normal   1    0   72   72       1_2129334   \n",
       "62391  736572  Work Day  Normal   1    0   72   72       1_2129350   \n",
       "62392  736572  Work Day  Normal   1    0   72   72       1_2129387   \n",
       "62393  736572  Work Day  Normal   1    0   72   72       1_2129515   \n",
       "62394  736572  Work Day  Normal   1    0   72   72       1_2129616   \n",
       "62395  736572  Work Day  Normal   1    0   72   72       1_2129678   \n",
       "62396  736572  Work Day  Normal   1    0   72   72       1_2129786   \n",
       "62397  736572  Work Day  Normal   1    0   72   72       1_2129790   \n",
       "62398  736572  Work Day  Normal   1    0   72   72       1_2129892   \n",
       "62399  736572  Work Day  Normal   1    0   72   72       1_2129994   \n",
       "62400  736572  Work Day  Normal   1    0   72   72       1_2130131   \n",
       "62401  736572  Work Day  Normal   1    0   72   72       1_2130219   \n",
       "62402  736572  Work Day  Normal   1    0   72   72       1_2130265   \n",
       "62403  736572  Work Day  Normal   1    0   72   72       1_2130352   \n",
       "62404  736572  Work Day  Normal   1    0   72   72       1_2130474   \n",
       "62405  736572  Work Day  Normal   1    0   72   72       1_2130521   \n",
       "62406  736572  Work Day  Normal   1    0   72   72       1_2130526   \n",
       "62407  736572  Work Day  Normal   1    0   72   72       1_2130553   \n",
       "62408  736572  Work Day  Normal   1    0   72   72       1_2131010   \n",
       "62409  736572  Work Day  Normal   1    0   72   72       1_2131572   \n",
       "62410  736572  Work Day  Normal   1    0   72   72       1_2131699   \n",
       "62411  736572  Work Day  Normal   1    0   72   72       1_2132163   \n",
       "62412  736572  Work Day  Normal   1    0   72   72       1_2132318   \n",
       "62413  736572  Work Day  Normal   1    0   72   72       1_2132945   \n",
       "62414  736572  Work Day  Normal   1    0   72   72       1_2132957   \n",
       "62415  736572  Work Day  Normal   1    0   72   72       1_2134244   \n",
       "\n",
       "       unit_sales        dts  \n",
       "11703      0.2795 2017-08-19  \n",
       "11704      0.5001 2017-08-19  \n",
       "11705      0.0000 2017-08-19  \n",
       "11706      1.1034 2017-08-19  \n",
       "11707      2.4947 2017-08-19  \n",
       "11708      4.3018 2017-08-19  \n",
       "11709      9.7603 2017-08-19  \n",
       "11710      0.0000 2017-08-19  \n",
       "11711      0.6093 2017-08-19  \n",
       "11712      0.4281 2017-08-19  \n",
       "11713      0.8305 2017-08-19  \n",
       "11714      4.3046 2017-08-19  \n",
       "11715      2.3409 2017-08-19  \n",
       "11716      0.6071 2017-08-19  \n",
       "11717      0.0408 2017-08-19  \n",
       "11718      1.1766 2017-08-19  \n",
       "11719      1.4881 2017-08-19  \n",
       "11720      0.6240 2017-08-19  \n",
       "11721      2.0977 2017-08-19  \n",
       "11722      3.7387 2017-08-19  \n",
       "11723      0.0351 2017-08-19  \n",
       "11724      0.0000 2017-08-19  \n",
       "11725      0.6418 2017-08-19  \n",
       "11726      1.9212 2017-08-19  \n",
       "11727      5.9957 2017-08-19  \n",
       "11728      0.6688 2017-08-19  \n",
       "11729      1.8803 2017-08-19  \n",
       "11730      2.0687 2017-08-19  \n",
       "11731      0.9472 2017-08-19  \n",
       "11732      0.7458 2017-08-19  \n",
       "...           ...        ...  \n",
       "62386      0.0000 2017-08-31  \n",
       "62387      0.0000 2017-08-31  \n",
       "62388      0.0000 2017-08-31  \n",
       "62389      0.0000 2017-08-31  \n",
       "62390      0.0000 2017-08-31  \n",
       "62391      0.0000 2017-08-31  \n",
       "62392      0.0000 2017-08-31  \n",
       "62393      0.0000 2017-08-31  \n",
       "62394      0.0000 2017-08-31  \n",
       "62395      0.0000 2017-08-31  \n",
       "62396      0.0000 2017-08-31  \n",
       "62397      0.0000 2017-08-31  \n",
       "62398      0.0000 2017-08-31  \n",
       "62399      0.0000 2017-08-31  \n",
       "62400      0.0000 2017-08-31  \n",
       "62401      0.0000 2017-08-31  \n",
       "62402      0.0000 2017-08-31  \n",
       "62403      0.0000 2017-08-31  \n",
       "62404      0.0000 2017-08-31  \n",
       "62405      0.0000 2017-08-31  \n",
       "62406      0.0000 2017-08-31  \n",
       "62407      0.0000 2017-08-31  \n",
       "62408      0.0000 2017-08-31  \n",
       "62409      0.0000 2017-08-31  \n",
       "62410      0.0000 2017-08-31  \n",
       "62411      0.0000 2017-08-31  \n",
       "62412      0.0000 2017-08-31  \n",
       "62413      0.0000 2017-08-31  \n",
       "62414      0.0000 2017-08-31  \n",
       "62415      0.0000 2017-08-31  \n",
       "\n",
       "[50713 rows x 28 columns]"
      ]
     },
     "execution_count": 53,
     "metadata": {},
     "output_type": "execute_result"
    }
   ],
   "source": [
    "df[(df.date.astype('str') >= str(past_date))]"
   ]
  },
  {
   "cell_type": "code",
   "execution_count": 34,
   "metadata": {
    "collapsed": false
   },
   "outputs": [
    {
     "ename": "ValueError",
     "evalue": "cannot set a Timestamp with a non-timestamp",
     "output_type": "error",
     "traceback": [
      "\u001b[0;31m---------------------------------------------------------------------------\u001b[0m",
      "\u001b[0;31mValueError\u001b[0m                                Traceback (most recent call last)",
      "\u001b[0;32m<ipython-input-34-b2f2bca38299>\u001b[0m in \u001b[0;36m<module>\u001b[0;34m()\u001b[0m\n\u001b[0;32m----> 1\u001b[0;31m df.unit_sales[(df.date.apply(np.datetime64) >= past_date) & \n\u001b[0m\u001b[1;32m      2\u001b[0m               (df.date.apply(np.datetime64) < np.datetime64('2016-01-01'))].mean()\n",
      "\u001b[0;32m~/anaconda2/envs/sdp35/lib/python3.5/site-packages/pandas/core/ops.py\u001b[0m in \u001b[0;36mwrapper\u001b[0;34m(self, other, axis)\u001b[0m\n\u001b[1;32m    877\u001b[0m \u001b[0;34m\u001b[0m\u001b[0m\n\u001b[1;32m    878\u001b[0m             \u001b[0;32mwith\u001b[0m \u001b[0mnp\u001b[0m\u001b[0;34m.\u001b[0m\u001b[0merrstate\u001b[0m\u001b[0;34m(\u001b[0m\u001b[0mall\u001b[0m\u001b[0;34m=\u001b[0m\u001b[0;34m'ignore'\u001b[0m\u001b[0;34m)\u001b[0m\u001b[0;34m:\u001b[0m\u001b[0;34m\u001b[0m\u001b[0m\n\u001b[0;32m--> 879\u001b[0;31m                 \u001b[0mres\u001b[0m \u001b[0;34m=\u001b[0m \u001b[0mna_op\u001b[0m\u001b[0;34m(\u001b[0m\u001b[0mvalues\u001b[0m\u001b[0;34m,\u001b[0m \u001b[0mother\u001b[0m\u001b[0;34m)\u001b[0m\u001b[0;34m\u001b[0m\u001b[0m\n\u001b[0m\u001b[1;32m    880\u001b[0m             \u001b[0;32mif\u001b[0m \u001b[0mis_scalar\u001b[0m\u001b[0;34m(\u001b[0m\u001b[0mres\u001b[0m\u001b[0;34m)\u001b[0m\u001b[0;34m:\u001b[0m\u001b[0;34m\u001b[0m\u001b[0m\n\u001b[1;32m    881\u001b[0m                 raise TypeError('Could not compare {typ} type with Series'\n",
      "\u001b[0;32m~/anaconda2/envs/sdp35/lib/python3.5/site-packages/pandas/core/ops.py\u001b[0m in \u001b[0;36mna_op\u001b[0;34m(x, y)\u001b[0m\n\u001b[1;32m    806\u001b[0m                 \u001b[0;32mif\u001b[0m \u001b[0mis_scalar\u001b[0m\u001b[0;34m(\u001b[0m\u001b[0my\u001b[0m\u001b[0;34m)\u001b[0m\u001b[0;34m:\u001b[0m\u001b[0;34m\u001b[0m\u001b[0m\n\u001b[1;32m    807\u001b[0m                     \u001b[0mmask\u001b[0m \u001b[0;34m=\u001b[0m \u001b[0misna\u001b[0m\u001b[0;34m(\u001b[0m\u001b[0mx\u001b[0m\u001b[0;34m)\u001b[0m\u001b[0;34m\u001b[0m\u001b[0m\n\u001b[0;32m--> 808\u001b[0;31m                     \u001b[0my\u001b[0m \u001b[0;34m=\u001b[0m \u001b[0mlibindex\u001b[0m\u001b[0;34m.\u001b[0m\u001b[0mconvert_scalar\u001b[0m\u001b[0;34m(\u001b[0m\u001b[0mx\u001b[0m\u001b[0;34m,\u001b[0m \u001b[0m_values_from_object\u001b[0m\u001b[0;34m(\u001b[0m\u001b[0my\u001b[0m\u001b[0;34m)\u001b[0m\u001b[0;34m)\u001b[0m\u001b[0;34m\u001b[0m\u001b[0m\n\u001b[0m\u001b[1;32m    809\u001b[0m                 \u001b[0;32melse\u001b[0m\u001b[0;34m:\u001b[0m\u001b[0;34m\u001b[0m\u001b[0m\n\u001b[1;32m    810\u001b[0m                     \u001b[0mmask\u001b[0m \u001b[0;34m=\u001b[0m \u001b[0misna\u001b[0m\u001b[0;34m(\u001b[0m\u001b[0mx\u001b[0m\u001b[0;34m)\u001b[0m \u001b[0;34m|\u001b[0m \u001b[0misna\u001b[0m\u001b[0;34m(\u001b[0m\u001b[0my\u001b[0m\u001b[0;34m)\u001b[0m\u001b[0;34m\u001b[0m\u001b[0m\n",
      "\u001b[0;32mpandas/_libs/index.pyx\u001b[0m in \u001b[0;36mpandas._libs.index.convert_scalar\u001b[0;34m()\u001b[0m\n",
      "\u001b[0;32mpandas/_libs/index.pyx\u001b[0m in \u001b[0;36mpandas._libs.index.convert_scalar\u001b[0;34m()\u001b[0m\n",
      "\u001b[0;31mValueError\u001b[0m: cannot set a Timestamp with a non-timestamp"
     ]
    }
   ],
   "source": [
    "df.unit_sales[(df.date.apply(np.datetime64) >= past_date) & \n",
    "              (df.date.apply(np.datetime64) < np.datetime64('2016-01-01'))].mean()"
   ]
  },
  {
   "cell_type": "code",
   "execution_count": 29,
   "metadata": {
    "collapsed": true
   },
   "outputs": [],
   "source": [
    "df1 = df.set_index('date')"
   ]
  },
  {
   "cell_type": "code",
   "execution_count": 30,
   "metadata": {
    "collapsed": true
   },
   "outputs": [],
   "source": [
    "s1 = df1.loc['2015-12-31', 'unit_sales']\n",
    "s2 = df1.loc['2015-12-30', 'unit_sales']"
   ]
  },
  {
   "cell_type": "code",
   "execution_count": 31,
   "metadata": {
    "collapsed": true
   },
   "outputs": [],
   "source": [
    "s = pd.concat([s1, s2], axis=0)"
   ]
  },
  {
   "cell_type": "code",
   "execution_count": 32,
   "metadata": {
    "collapsed": false
   },
   "outputs": [
    {
     "data": {
      "text/plain": [
       "6.5914254756871031"
      ]
     },
     "execution_count": 32,
     "metadata": {},
     "output_type": "execute_result"
    }
   ],
   "source": [
    "s.mean()"
   ]
  },
  {
   "cell_type": "code",
   "execution_count": 33,
   "metadata": {
    "collapsed": true
   },
   "outputs": [],
   "source": [
    "gc.enable()"
   ]
  },
  {
   "cell_type": "code",
   "execution_count": 34,
   "metadata": {
    "collapsed": true
   },
   "outputs": [],
   "source": [
    "# import os\n",
    "# x = {i for i in range(20)}\n",
    "# os.sched_setaffinity(0, x)"
   ]
  },
  {
   "cell_type": "code",
   "execution_count": 35,
   "metadata": {
    "collapsed": true
   },
   "outputs": [],
   "source": [
    "# chunks = []\n",
    "# for i in range(1, len(d), 1000):\n",
    "#    chunks.append(d[i:min(i + 1000, len(d))])\n",
    "\n",
    "# res = Parallel(n_jobs=-1) (delayed(hash) (d) for d in chunks)\n",
    "\n",
    "# def hash(d):\n",
    "#     return [hashlib.sha256(str(x).encode('utf-8')).hexdigest()[:30] for x in d.itertuples(index=False, name=None)]"
   ]
  },
  {
   "cell_type": "code",
   "execution_count": 36,
   "metadata": {
    "collapsed": true
   },
   "outputs": [],
   "source": [
    "# Parallel(n_jobs=20)(delayed(sqrt)(i ** 2) for i in range(10000000))"
   ]
  },
  {
   "cell_type": "code",
   "execution_count": 37,
   "metadata": {
    "collapsed": true
   },
   "outputs": [],
   "source": [
    "# df = pd.DataFrame()\n",
    "# df1 = pd.DataFrame()"
   ]
  },
  {
   "cell_type": "code",
   "execution_count": null,
   "metadata": {
    "collapsed": true
   },
   "outputs": [],
   "source": []
  },
  {
   "cell_type": "code",
   "execution_count": 38,
   "metadata": {
    "collapsed": true
   },
   "outputs": [],
   "source": [
    "# for i in range(1,55):\n",
    "#     print(i)\n",
    "#     fn = '../cache/train10_t_store{}.csv'.format(i)\n",
    "#     df2 = pd.read_csv(fn)\n",
    "#     df2.unit_sales[df2.unit_sales < 0] = 0\n",
    "#     df3 = df2.set_index('date')\n",
    "#     dates = np.unique(df2.date.values)\n",
    "# #     for j, date in tqdm(enumerate(dates)):\n",
    "#     df = df2.copy()\n",
    "#     df1 = df3.copy()\n",
    "#     df = df.iloc[::-1]\n",
    "#     Parallel(n_jobs=10)(delayed(calculate_recent_stats)(date) for date in tqdm(dates))\n",
    "# #         calculate_recent_stats(date, df, df1)\n",
    "#     for days in [30, 90, 180, 365, 730]:\n",
    "#         df = set_recent_df_stats(df ,df1, days)\n",
    "#     df = df.iloc[::-1]\n",
    "#     print(df.shape)\n",
    "#     print(sum(df.isnull().any()==True)) # print NA\n",
    "#     print(sum((df != 0).any(axis=0))) # print non-zero columns\n",
    "#     fn = '../cache/train10_t_store{}_recent_stats.csv'.format(i)\n",
    "#     print(fn)\n",
    "#     df.to_csv(fn, index=False)\n",
    "#     del df2\n",
    "#     del df3"
   ]
  },
  {
   "cell_type": "code",
   "execution_count": 39,
   "metadata": {
    "collapsed": true
   },
   "outputs": [],
   "source": [
    "# files_list = []\n",
    "# for i in range(1,55):\n",
    "#     fn = '../cache/train10_t_store{}.csv'.format(i)\n",
    "#     files_list.append(fn)"
   ]
  },
  {
   "cell_type": "code",
   "execution_count": 40,
   "metadata": {
    "collapsed": true
   },
   "outputs": [],
   "source": [
    "# print('creating pool..')\n",
    "# print(cpu_count())\n",
    "# thread_pool = Pool(10)\n",
    "# print('mapping pool..')\n",
    "# thread_pool.map (calculate_recent_stats2, arg_list)\n",
    "\n",
    "# print('joining pool..')"
   ]
  },
  {
   "cell_type": "code",
   "execution_count": 9,
   "metadata": {
    "collapsed": true
   },
   "outputs": [],
   "source": [
    "# from multiprocessing import Pool, cpu_count\n",
    "def process_csv_file2(i):\n",
    "    fn = '../cache/bkup/train10_t_store{}.csv'.format(i)\n",
    "    print(fn)\n",
    "    df = pd.read_csv(fn)\n",
    "    print(df.shape)\n",
    "    df.unit_sales[df.unit_sales < 0] = 0 \n",
    "    df = df.iloc[::-1]\n",
    "    df1 = df.set_index('date')\n",
    "\n",
    "    trend_dates = []\n",
    "    for date in np.unique(df.date.values):\n",
    "        curr = np.datetime64(date)\n",
    "        last_in_trend = np.datetime64('2015-01-01')\n",
    "        if curr < last_in_trend:\n",
    "            continue\n",
    "        trend_dates.append(date)\n",
    "    for date in tqdm(trend_dates):\n",
    "        calculate_recent_stats(date, df, df1)\n",
    "    for days in [30, 90, 180, 365, 730]:\n",
    "        df = set_recent_df_stats(df, df1, days)\n",
    "    df = df.iloc[::-1]\n",
    "    \n",
    "    df = df[(df.date.apply(np.datetime64) >= np.datetime64('2015-01-01')) & \n",
    "              (df.date.apply(np.datetime64) <= np.datetime64('2017-08-15'))]\n",
    "    \n",
    "    print(df.shape)\n",
    "    s = sum(df.isnull().any()==True) # print NA\n",
    "    print(s)\n",
    "    if s > 0:\n",
    "        print(df.isnull().sum())\n",
    "    print(sum((df != 0).any(axis=0))) # print non-zero columns\n",
    "    fn = '../cache/train10_t_store{}_recent_stats.csv'.format(i)\n",
    "    print(fn)\n",
    "    df.to_csv(fn, index=False)\n",
    "    del df\n",
    "    del df1"
   ]
  },
  {
   "cell_type": "code",
   "execution_count": 10,
   "metadata": {
    "collapsed": true
   },
   "outputs": [],
   "source": [
    "def delete_file_if_exists(filename):\n",
    "    if os.path.exists(filename):\n",
    "        os.remove(filename)"
   ]
  },
  {
   "cell_type": "code",
   "execution_count": 11,
   "metadata": {
    "collapsed": true
   },
   "outputs": [],
   "source": [
    "def process_csv_file1(i):\n",
    "    fn_org = '../cache/bkup/train10_t_store{}.csv'.format(i)\n",
    "    print(fn_org)\n",
    "    df = pd.read_csv(fn_org)\n",
    "    \n",
    "    df.unit_sales[df.unit_sales < 0] = 0 \n",
    "    df['dts'] = df.date.map(np.datetime64)\n",
    "\n",
    "    trend_dates = []\n",
    "    for date in np.unique(df.date.values):\n",
    "        curr = np.datetime64(date)\n",
    "        last_in_trend = np.datetime64('2015-01-01')\n",
    "        if curr < last_in_trend:\n",
    "            continue\n",
    "        trend_dates.append(date)\n",
    "    \n",
    "    fn_tmp = '../cache/train10_t_store{}_recent_stats_tmp.csv'.format(i)\n",
    "    delete_file_if_exists(fn_tmp)\n",
    "    for date in tqdm(trend_dates):\n",
    "        calculate_recent_stats(date, df, fn_tmp)\n",
    "\n",
    "    print(df.shape)\n",
    "    df = df[(df.dts >= np.datetime64('2015-01-01')) & (df.dts <= np.datetime64('2017-08-15'))]\n",
    "\n",
    "    print(df.shape)\n",
    "    nrows1 = df.shape[0]\n",
    "    df1 = pd.read_csv(fn_tmp)\n",
    "    print(df1.shape)\n",
    "    df = pd.merge(df, df1, how='left', on='date')\n",
    "    df = df.drop('dts', axis=1)\n",
    "    s = sum(df.isnull().any()==True) # print NA\n",
    "    print(s)\n",
    "    if s > 0:\n",
    "        print(df.isnull().sum())\n",
    "    print(sum((df != 0).any(axis=0))) # print non-zero columns\n",
    "    fn = '../cache/train10_t_store{}_recent_stats.csv'.format(i)\n",
    "    print(fn)\n",
    "    df.to_csv(fn, index=False)\n",
    "    print(df.shape)\n",
    "    nrows2 = df.shape[0]\n",
    "    assert(nrows1 == nrows2)\n",
    "    del df\n",
    "    del df1"
   ]
  },
  {
   "cell_type": "code",
   "execution_count": 12,
   "metadata": {
    "collapsed": true
   },
   "outputs": [],
   "source": [
    "def process_csv_file(i):\n",
    "    fn_org = '../cache/bkup/train10_t_store{}.csv'.format(i)\n",
    "    print(fn_org)\n",
    "    df = pd.read_csv(fn_org)\n",
    "    \n",
    "#     df.unit_sales[df.unit_sales < 0] = 0 \n",
    "    df['dts'] = df.date.map(np.datetime64)\n",
    "\n",
    "    trend_dates = []\n",
    "    for date in np.unique(df.date.values):\n",
    "        curr = np.datetime64(date)\n",
    "        last_in_trend = np.datetime64('2015-01-01')\n",
    "        if curr < last_in_trend:\n",
    "            continue\n",
    "        trend_dates.append(date)\n",
    "    \n",
    "    fn_tmp = '../cache/train10_t_store{}_recent_stats_tmp.csv'.format(i)\n",
    "    delete_file_if_exists(fn_tmp)\n",
    "    for date in tqdm(trend_dates):\n",
    "        calculate_recent_stats(date, df, fn_tmp)\n",
    "\n",
    "    print(df.shape)\n",
    "    df = df[(df.dts >= np.datetime64('2015-01-01')) & (df.dts <= np.datetime64('2017-08-15'))]\n",
    "\n",
    "    print(df.shape)\n",
    "    nrows1 = df.shape[0]\n",
    "    df1 = pd.read_csv(fn_tmp)\n",
    "    print(df1.shape)\n",
    "    df = pd.merge(df, df1, how='left', on='date')\n",
    "    df = df.drop('dts', axis=1)\n",
    "    s = sum(df.isnull().any()==True) # print NA\n",
    "    print(s)\n",
    "    if s > 0:\n",
    "        print(df.isnull().sum())\n",
    "    print(sum((df != 0).any(axis=0))) # print non-zero columns\n",
    "    fn = '../cache/train10_t_store{}_recent_stats_1.csv'.format(i)\n",
    "    print(fn)\n",
    "    df.to_csv(fn, float_format='%.5f', index=False)\n",
    "    print(df.shape)\n",
    "    nrows2 = df.shape[0]\n",
    "    assert(nrows1 == nrows2)\n",
    "    del df\n",
    "    del df1\n",
    "    delete_file_if_exists(fn_tmp)\n"
   ]
  },
  {
   "cell_type": "code",
   "execution_count": 9,
   "metadata": {
    "collapsed": true
   },
   "outputs": [],
   "source": [
    "def process_test_csv_file(i):\n",
    "    fn_org = '../cache/bkup/train10_t_store{}.csv'.format(i)\n",
    "    fn_org1 = '../cache/bkup2/test7_1_t_store{}.csv'.format(i)\n",
    "    print(fn_org1)\n",
    "    df = pd.read_csv(fn_org)\n",
    "    df1 = pd.read_csv(fn_org1)\n",
    "    df = pd.concat([df, df1], axis=0)\n",
    "    \n",
    "#     df.unit_sales[df.unit_sales < 0] = 0 \n",
    "    df['dts'] = df.date.map(np.datetime64)\n",
    "\n",
    "    trend_dates = []\n",
    "    for date in np.unique(df.date.values):\n",
    "        curr = np.datetime64(date)\n",
    "        last_in_trend = np.datetime64('2017-08-16')\n",
    "        if curr < last_in_trend:\n",
    "            continue\n",
    "        trend_dates.append(date)\n",
    "    \n",
    "    fn_tmp = '../cache/test7_1_t_store{}_recent_stats_tmp.csv'.format(i)\n",
    "    delete_file_if_exists(fn_tmp)\n",
    "    for date in tqdm(trend_dates):\n",
    "        calculate_recent_stats(date, df, fn_tmp)\n",
    "\n",
    "    print(df.shape)\n",
    "#     df = df[(df.dts >= np.datetime64('2017-08-16')) & (df.dts <= np.datetime64('2017-08-31'))]\n",
    "    \n",
    "    df = df[(df.date.astype('str') >= str('2017-08-16')) & (df.date.astype('str') <= str('2017-08-31'))]\n",
    "\n",
    "    print(df.shape)\n",
    "    nrows1 = df.shape[0]\n",
    "    df1 = pd.read_csv(fn_tmp)\n",
    "    print(df1.shape)\n",
    "    df = pd.merge(df, df1, how='left', on='date')\n",
    "    df = df.drop('dts', axis=1)\n",
    "    s = sum(df.isnull().any()==True) # print NA\n",
    "    print(s)\n",
    "    if s > 0:\n",
    "        print(df.isnull().sum())\n",
    "    print(sum((df != 0).any(axis=0))) # print non-zero columns\n",
    "    fn = '../cache/test7_1_t_store{}_recent_stats_1.csv'.format(i)\n",
    "    print(fn)\n",
    "    df.to_csv(fn, float_format='%.5f', index=False)\n",
    "    print(df.shape)\n",
    "    nrows2 = df.shape[0]\n",
    "    assert(nrows1 == nrows2)\n",
    "    del df\n",
    "    del df1\n",
    "    delete_file_if_exists(fn_tmp)\n"
   ]
  },
  {
   "cell_type": "code",
   "execution_count": 9,
   "metadata": {
    "collapsed": true
   },
   "outputs": [],
   "source": [
    "date_block = {}\n",
    "date_block['1_2013'] = 0\n",
    "date_block['2_2013'] = 1\n",
    "date_block['3_2013'] = 2\n",
    "date_block['4_2013'] = 3\n",
    "date_block['5_2013'] = 4\n",
    "date_block['6_2013'] = 5\n",
    "date_block['7_2013'] = 6\n",
    "date_block['8_2013'] = 7\n",
    "date_block['9_2013'] = 8\n",
    "date_block['10_2013'] = 9\n",
    "date_block['11_2013'] = 10\n",
    "date_block['12_2013'] = 11\n",
    "\n",
    "date_block['1_2014'] = 12\n",
    "date_block['2_2014'] = 13\n",
    "date_block['3_2014'] = 14\n",
    "date_block['4_2014'] = 15\n",
    "date_block['5_2014'] = 16\n",
    "date_block['6_2014'] = 17\n",
    "date_block['7_2014'] = 18\n",
    "date_block['8_2014'] = 19\n",
    "date_block['9_2014'] = 20\n",
    "date_block['10_2014'] = 21\n",
    "date_block['11_2014'] = 22\n",
    "date_block['12_2014'] = 23\n",
    "\n",
    "date_block['1_2015'] = 24\n",
    "date_block['2_2015'] = 25\n",
    "date_block['3_2015'] = 26\n",
    "date_block['4_2015'] = 27\n",
    "date_block['5_2015'] = 28\n",
    "date_block['6_2015'] = 29\n",
    "date_block['7_2015'] = 30\n",
    "date_block['8_2015'] = 31\n",
    "date_block['9_2015'] = 32\n",
    "date_block['10_2015'] = 33\n",
    "date_block['11_2015'] = 34\n",
    "date_block['12_2015'] = 35\n",
    "\n",
    "date_block['1_2016'] = 36\n",
    "date_block['2_2016'] = 37\n",
    "date_block['3_2016'] = 38\n",
    "date_block['4_2016'] = 39\n",
    "date_block['5_2016'] = 40\n",
    "date_block['6_2016'] = 41\n",
    "date_block['7_2016'] = 42\n",
    "date_block['8_2016'] = 43\n",
    "date_block['9_2016'] = 44\n",
    "date_block['10_2016'] = 45\n",
    "date_block['11_2016'] = 46\n",
    "date_block['12_2016'] = 47\n",
    "\n",
    "date_block['1_2017'] = 48\n",
    "date_block['2_2017'] = 49\n",
    "date_block['3_2017'] = 50\n",
    "date_block['4_2017'] = 51\n",
    "date_block['5_2017'] = 52\n",
    "date_block['6_2017'] = 53\n",
    "date_block['7_2017'] = 54\n",
    "date_block['8_2017'] = 55\n",
    "date_block['9_2017'] = 56\n",
    "date_block['10_2017'] = 57\n",
    "date_block['11_2017'] = 58\n",
    "date_block['12_2017'] = 59\n"
   ]
  },
  {
   "cell_type": "code",
   "execution_count": 10,
   "metadata": {
    "collapsed": true
   },
   "outputs": [],
   "source": [
    "def get_date_block_num(x):\n",
    "    year, month, day = x.split('-')\n",
    "    mon = int(month)\n",
    "    yr = int(year)\n",
    "    mon_year = str(mon) + '_' + str(yr)\n",
    "    \n",
    "    return date_block[mon_year]"
   ]
  },
  {
   "cell_type": "code",
   "execution_count": null,
   "metadata": {
    "collapsed": true
   },
   "outputs": [],
   "source": [
    "for shop_num in tqdm(range(1,55)):\n",
    "    fn_org = '../cache/bkup/train10_t_store{}.csv'.format(shop_num)\n",
    "    fn_org1 = '../cache/bkup2/test7_1_t_store{}.csv'.format(shop_num)\n",
    "    print(fn_org1)\n",
    "    df = pd.read_csv(fn_org)\n",
    "    df1 = pd.read_csv(fn_org1)\n",
    "    df = pd.concat([df, df1], axis=0)\n",
    "    \n",
    "    print(df.shape)\n",
    "    df['date_block_num']  = df.date.map(lambda x: get_date_block_num(x))\n",
    "#     df = df.drop_duplicates()\n",
    "    unit_sales_mean = df.groupby(['item_nbr', 'date_block_num'], as_index=False).agg({'unit_sales':{'unit_sales_mean':'mean'}, \n",
    "                                                         })\n",
    "    unit_sales_mean.columns = ['item_nbr', 'date_block_num', 'unit_sales_mean']\n",
    "    df = pd.merge(df, unit_sales_mean, how='left', on=['item_nbr', 'date_block_num']).fillna(0.0)\n",
    "    \n",
    "    shifted_df = df[['id', 'date', 'date_block_num','item_nbr','unit_sales', 'unit_sales_mean', 'unit_sales_median', 'unit_sales_std']].copy()\n",
    "    \n",
    "    fn = '../cache/shifted_rs_df_shop{}.csv'.format(shop_num)\n",
    "    delete_file_if_exists(fn)\n",
    "    \n",
    "    shifted_df.to_csv(fn, float_format='%.5f', index=False)\n",
    "    del shifted_df\n",
    "    del df1\n",
    "    del df\n",
    "    del unit_sales_mean"
   ]
  },
  {
   "cell_type": "code",
   "execution_count": 33,
   "metadata": {
    "collapsed": false
   },
   "outputs": [
    {
     "name": "stderr",
     "output_type": "stream",
     "text": [
      "\n",
      "  0%|          | 0/54 [00:00<?, ?it/s]\u001b[A"
     ]
    },
    {
     "name": "stdout",
     "output_type": "stream",
     "text": [
      "../cache/bkup2/test7_1_t_store1.csv\n"
     ]
    },
    {
     "name": "stderr",
     "output_type": "stream",
     "text": [
      "/home/watts/anaconda2/envs/sdp35/lib/python3.5/site-packages/IPython/core/interactiveshell.py:2728: DtypeWarning: Columns (5) have mixed types. Specify dtype option on import or set low_memory=False.\n",
      "  interactivity=interactivity, compiler=compiler, result=result)\n"
     ]
    },
    {
     "name": "stdout",
     "output_type": "stream",
     "text": [
      "(2624569, 27)\n"
     ]
    },
    {
     "name": "stderr",
     "output_type": "stream",
     "text": [
      "\n",
      "Exception in thread Thread-19:\n",
      "Traceback (most recent call last):\n",
      "  File \"/home/watts/anaconda2/envs/sdp35/lib/python3.5/threading.py\", line 914, in _bootstrap_inner\n",
      "    self.run()\n",
      "  File \"/home/watts/anaconda2/envs/sdp35/lib/python3.5/site-packages/tqdm/_tqdm.py\", line 144, in run\n",
      "    for instance in self.tqdm_cls._instances:\n",
      "  File \"/home/watts/anaconda2/envs/sdp35/lib/python3.5/_weakrefset.py\", line 60, in __iter__\n",
      "    for itemref in self.data:\n",
      "RuntimeError: Set changed size during iteration\n",
      "\n",
      "/home/watts/anaconda2/envs/sdp35/lib/python3.5/site-packages/pandas/core/groupby.py:4189: FutureWarning: using a dict with renaming is deprecated and will be removed in a future version\n",
      "  return super(DataFrameGroupBy, self).aggregate(arg, *args, **kwargs)\n",
      "  2%|▏         | 1/54 [00:36<31:48, 36.00s/it]"
     ]
    },
    {
     "name": "stdout",
     "output_type": "stream",
     "text": [
      "../cache/bkup2/test7_1_t_store2.csv\n",
      "(3050256, 27)\n"
     ]
    },
    {
     "name": "stderr",
     "output_type": "stream",
     "text": [
      "\r",
      "  4%|▎         | 2/54 [01:17<33:46, 38.97s/it]"
     ]
    },
    {
     "name": "stdout",
     "output_type": "stream",
     "text": [
      "../cache/bkup2/test7_1_t_store3.csv\n",
      "(3463680, 27)\n"
     ]
    },
    {
     "name": "stderr",
     "output_type": "stream",
     "text": [
      "\r",
      "  6%|▌         | 3/54 [02:05<35:33, 41.83s/it]"
     ]
    },
    {
     "name": "stdout",
     "output_type": "stream",
     "text": [
      "../cache/bkup2/test7_1_t_store4.csv\n",
      "(2892970, 27)\n"
     ]
    },
    {
     "name": "stderr",
     "output_type": "stream",
     "text": [
      "\r",
      "  7%|▋         | 4/54 [02:45<34:23, 41.28s/it]"
     ]
    },
    {
     "name": "stdout",
     "output_type": "stream",
     "text": [
      "../cache/bkup2/test7_1_t_store5.csv\n",
      "(2729107, 27)\n"
     ]
    },
    {
     "name": "stderr",
     "output_type": "stream",
     "text": [
      "\r",
      "  9%|▉         | 5/54 [03:22<33:09, 40.60s/it]"
     ]
    },
    {
     "name": "stdout",
     "output_type": "stream",
     "text": [
      "../cache/bkup2/test7_1_t_store6.csv\n",
      "(3152215, 27)\n"
     ]
    },
    {
     "name": "stderr",
     "output_type": "stream",
     "text": [
      "\r",
      " 11%|█         | 6/54 [04:06<32:50, 41.06s/it]"
     ]
    },
    {
     "name": "stdout",
     "output_type": "stream",
     "text": [
      "../cache/bkup2/test7_1_t_store7.csv\n",
      "(2983620, 27)\n"
     ]
    },
    {
     "name": "stderr",
     "output_type": "stream",
     "text": [
      "\r",
      " 13%|█▎        | 7/54 [04:47<32:10, 41.08s/it]"
     ]
    },
    {
     "name": "stdout",
     "output_type": "stream",
     "text": [
      "../cache/bkup2/test7_1_t_store8.csv\n",
      "(3323600, 27)\n"
     ]
    },
    {
     "name": "stderr",
     "output_type": "stream",
     "text": [
      "\r",
      " 15%|█▍        | 8/54 [05:33<31:56, 41.66s/it]"
     ]
    },
    {
     "name": "stdout",
     "output_type": "stream",
     "text": [
      "../cache/bkup2/test7_1_t_store9.csv\n",
      "(2836206, 27)\n"
     ]
    },
    {
     "name": "stderr",
     "output_type": "stream",
     "text": [
      "\r",
      " 17%|█▋        | 9/54 [06:12<31:02, 41.38s/it]"
     ]
    },
    {
     "name": "stdout",
     "output_type": "stream",
     "text": [
      "../cache/bkup2/test7_1_t_store10.csv\n",
      "(1802898, 27)\n"
     ]
    },
    {
     "name": "stderr",
     "output_type": "stream",
     "text": [
      "\r",
      " 19%|█▊        | 10/54 [06:37<29:07, 39.72s/it]"
     ]
    },
    {
     "name": "stdout",
     "output_type": "stream",
     "text": [
      "../cache/bkup2/test7_1_t_store11.csv\n",
      "(2630698, 27)\n"
     ]
    },
    {
     "name": "stderr",
     "output_type": "stream",
     "text": [
      "\r",
      " 20%|██        | 11/54 [07:13<28:13, 39.39s/it]"
     ]
    },
    {
     "name": "stdout",
     "output_type": "stream",
     "text": [
      "../cache/bkup2/test7_1_t_store12.csv\n",
      "(1898999, 27)\n"
     ]
    },
    {
     "name": "stderr",
     "output_type": "stream",
     "text": [
      "\r",
      " 22%|██▏       | 12/54 [07:39<26:48, 38.30s/it]"
     ]
    },
    {
     "name": "stdout",
     "output_type": "stream",
     "text": [
      "../cache/bkup2/test7_1_t_store13.csv\n",
      "(1799144, 27)\n"
     ]
    },
    {
     "name": "stderr",
     "output_type": "stream",
     "text": [
      "\r",
      " 24%|██▍       | 13/54 [08:04<25:27, 37.26s/it]"
     ]
    },
    {
     "name": "stdout",
     "output_type": "stream",
     "text": [
      "../cache/bkup2/test7_1_t_store14.csv\n",
      "(1868357, 27)\n"
     ]
    },
    {
     "name": "stderr",
     "output_type": "stream",
     "text": [
      "\r",
      " 26%|██▌       | 14/54 [08:30<24:18, 36.47s/it]"
     ]
    },
    {
     "name": "stdout",
     "output_type": "stream",
     "text": [
      "../cache/bkup2/test7_1_t_store15.csv\n",
      "(2001094, 27)\n"
     ]
    },
    {
     "name": "stderr",
     "output_type": "stream",
     "text": [
      "\r",
      " 28%|██▊       | 15/54 [08:58<23:20, 35.92s/it]"
     ]
    },
    {
     "name": "stdout",
     "output_type": "stream",
     "text": [
      "../cache/bkup2/test7_1_t_store16.csv\n",
      "(1882451, 27)\n"
     ]
    },
    {
     "name": "stderr",
     "output_type": "stream",
     "text": [
      "\r",
      " 30%|██▉       | 16/54 [09:25<22:22, 35.34s/it]"
     ]
    },
    {
     "name": "stdout",
     "output_type": "stream",
     "text": [
      "../cache/bkup2/test7_1_t_store17.csv\n",
      "(2226436, 27)\n"
     ]
    },
    {
     "name": "stderr",
     "output_type": "stream",
     "text": [
      "\r",
      " 31%|███▏      | 17/54 [09:56<21:37, 35.08s/it]"
     ]
    },
    {
     "name": "stdout",
     "output_type": "stream",
     "text": [
      "../cache/bkup2/test7_1_t_store18.csv\n",
      "(2259098, 27)\n"
     ]
    },
    {
     "name": "stderr",
     "output_type": "stream",
     "text": [
      "\r",
      " 33%|███▎      | 18/54 [10:27<20:54, 34.86s/it]"
     ]
    },
    {
     "name": "stdout",
     "output_type": "stream",
     "text": [
      "../cache/bkup2/test7_1_t_store19.csv\n",
      "(1941571, 27)\n"
     ]
    },
    {
     "name": "stderr",
     "output_type": "stream",
     "text": [
      "\r",
      " 35%|███▌      | 19/54 [10:54<20:05, 34.44s/it]"
     ]
    },
    {
     "name": "stdout",
     "output_type": "stream",
     "text": [
      "../cache/bkup2/test7_1_t_store20.csv\n",
      "(1728401, 27)\n"
     ]
    },
    {
     "name": "stderr",
     "output_type": "stream",
     "text": [
      "\r",
      " 37%|███▋      | 20/54 [11:17<19:12, 33.89s/it]"
     ]
    },
    {
     "name": "stdout",
     "output_type": "stream",
     "text": [
      "../cache/bkup2/test7_1_t_store21.csv\n",
      "(1435835, 27)\n"
     ]
    },
    {
     "name": "stderr",
     "output_type": "stream",
     "text": [
      "\r",
      " 39%|███▉      | 21/54 [11:37<18:16, 33.22s/it]"
     ]
    },
    {
     "name": "stdout",
     "output_type": "stream",
     "text": [
      "../cache/bkup2/test7_1_t_store22.csv\n",
      "(985899, 27)\n"
     ]
    },
    {
     "name": "stderr",
     "output_type": "stream",
     "text": [
      "\r",
      " 41%|████      | 22/54 [11:50<17:13, 32.31s/it]"
     ]
    },
    {
     "name": "stdout",
     "output_type": "stream",
     "text": [
      "../cache/bkup2/test7_1_t_store23.csv\n",
      "(2428113, 27)\n"
     ]
    },
    {
     "name": "stderr",
     "output_type": "stream",
     "text": [
      "\r",
      " 43%|████▎     | 23/54 [12:24<16:43, 32.36s/it]"
     ]
    },
    {
     "name": "stdout",
     "output_type": "stream",
     "text": [
      "../cache/bkup2/test7_1_t_store24.csv\n",
      "(2832305, 27)\n"
     ]
    },
    {
     "name": "stderr",
     "output_type": "stream",
     "text": [
      "\r",
      " 44%|████▍     | 24/54 [13:03<16:19, 32.63s/it]"
     ]
    },
    {
     "name": "stdout",
     "output_type": "stream",
     "text": [
      "../cache/bkup2/test7_1_t_store25.csv\n",
      "(2119436, 27)\n"
     ]
    },
    {
     "name": "stderr",
     "output_type": "stream",
     "text": [
      "\r",
      " 46%|████▋     | 25/54 [13:32<15:42, 32.50s/it]"
     ]
    },
    {
     "name": "stdout",
     "output_type": "stream",
     "text": [
      "../cache/bkup2/test7_1_t_store26.csv\n",
      "(1855498, 27)\n"
     ]
    },
    {
     "name": "stderr",
     "output_type": "stream",
     "text": [
      "\r",
      " 48%|████▊     | 26/54 [13:58<15:03, 32.26s/it]"
     ]
    },
    {
     "name": "stdout",
     "output_type": "stream",
     "text": [
      "../cache/bkup2/test7_1_t_store27.csv\n",
      "(2694130, 27)\n"
     ]
    },
    {
     "name": "stderr",
     "output_type": "stream",
     "text": [
      "\r",
      " 50%|█████     | 27/54 [14:35<14:35, 32.44s/it]"
     ]
    },
    {
     "name": "stdout",
     "output_type": "stream",
     "text": [
      "../cache/bkup2/test7_1_t_store28.csv\n",
      "(2481232, 27)\n"
     ]
    },
    {
     "name": "stderr",
     "output_type": "stream",
     "text": [
      "\r",
      " 52%|█████▏    | 28/54 [15:09<14:04, 32.50s/it]"
     ]
    },
    {
     "name": "stdout",
     "output_type": "stream",
     "text": [
      "../cache/bkup2/test7_1_t_store29.csv\n",
      "(1571375, 27)\n"
     ]
    },
    {
     "name": "stderr",
     "output_type": "stream",
     "text": [
      "\r",
      " 54%|█████▎    | 29/54 [15:31<13:22, 32.11s/it]"
     ]
    },
    {
     "name": "stdout",
     "output_type": "stream",
     "text": [
      "../cache/bkup2/test7_1_t_store30.csv\n",
      "(1660278, 27)\n"
     ]
    },
    {
     "name": "stderr",
     "output_type": "stream",
     "text": [
      "\r",
      " 56%|█████▌    | 30/54 [15:53<12:42, 31.79s/it]"
     ]
    },
    {
     "name": "stdout",
     "output_type": "stream",
     "text": [
      "../cache/bkup2/test7_1_t_store31.csv\n",
      "(2424140, 27)\n"
     ]
    },
    {
     "name": "stderr",
     "output_type": "stream",
     "text": [
      "\r",
      " 57%|█████▋    | 31/54 [16:27<12:12, 31.84s/it]"
     ]
    },
    {
     "name": "stdout",
     "output_type": "stream",
     "text": [
      "../cache/bkup2/test7_1_t_store32.csv\n",
      "(1425031, 27)\n"
     ]
    },
    {
     "name": "stderr",
     "output_type": "stream",
     "text": [
      "\r",
      " 59%|█████▉    | 32/54 [16:46<11:31, 31.45s/it]"
     ]
    },
    {
     "name": "stdout",
     "output_type": "stream",
     "text": [
      "../cache/bkup2/test7_1_t_store33.csv\n",
      "(2025901, 27)\n"
     ]
    },
    {
     "name": "stderr",
     "output_type": "stream",
     "text": [
      "\r",
      " 61%|██████    | 33/54 [17:14<10:58, 31.34s/it]"
     ]
    },
    {
     "name": "stdout",
     "output_type": "stream",
     "text": [
      "../cache/bkup2/test7_1_t_store34.csv\n",
      "(2361838, 27)\n"
     ]
    },
    {
     "name": "stderr",
     "output_type": "stream",
     "text": [
      "\r",
      " 63%|██████▎   | 34/54 [17:47<10:27, 31.40s/it]"
     ]
    },
    {
     "name": "stdout",
     "output_type": "stream",
     "text": [
      "../cache/bkup2/test7_1_t_store35.csv\n",
      "(1450520, 27)\n"
     ]
    },
    {
     "name": "stderr",
     "output_type": "stream",
     "text": [
      "\r",
      " 65%|██████▍   | 35/54 [18:07<09:50, 31.08s/it]"
     ]
    },
    {
     "name": "stdout",
     "output_type": "stream",
     "text": [
      "../cache/bkup2/test7_1_t_store36.csv\n",
      "(2273578, 27)\n"
     ]
    },
    {
     "name": "stderr",
     "output_type": "stream",
     "text": [
      "\r",
      " 67%|██████▋   | 36/54 [18:39<09:19, 31.10s/it]"
     ]
    },
    {
     "name": "stdout",
     "output_type": "stream",
     "text": [
      "../cache/bkup2/test7_1_t_store37.csv\n",
      "(2894107, 27)\n"
     ]
    },
    {
     "name": "stderr",
     "output_type": "stream",
     "text": [
      "\r",
      " 69%|██████▊   | 37/54 [19:19<08:52, 31.33s/it]"
     ]
    },
    {
     "name": "stdout",
     "output_type": "stream",
     "text": [
      "../cache/bkup2/test7_1_t_store38.csv\n",
      "(2790147, 27)\n"
     ]
    },
    {
     "name": "stderr",
     "output_type": "stream",
     "text": [
      "\r",
      " 70%|███████   | 38/54 [19:57<08:24, 31.51s/it]"
     ]
    },
    {
     "name": "stdout",
     "output_type": "stream",
     "text": [
      "../cache/bkup2/test7_1_t_store39.csv\n",
      "(2700452, 27)\n"
     ]
    },
    {
     "name": "stderr",
     "output_type": "stream",
     "text": [
      "\r",
      " 72%|███████▏  | 39/54 [20:34<07:54, 31.66s/it]"
     ]
    },
    {
     "name": "stdout",
     "output_type": "stream",
     "text": [
      "../cache/bkup2/test7_1_t_store40.csv\n",
      "(2165215, 27)\n"
     ]
    },
    {
     "name": "stderr",
     "output_type": "stream",
     "text": [
      "\r",
      " 74%|███████▍  | 40/54 [21:04<07:22, 31.61s/it]"
     ]
    },
    {
     "name": "stdout",
     "output_type": "stream",
     "text": [
      "../cache/bkup2/test7_1_t_store41.csv\n",
      "(2566335, 27)\n"
     ]
    },
    {
     "name": "stderr",
     "output_type": "stream",
     "text": [
      "\r",
      " 76%|███████▌  | 41/54 [21:39<06:52, 31.70s/it]"
     ]
    },
    {
     "name": "stdout",
     "output_type": "stream",
     "text": [
      "../cache/bkup2/test7_1_t_store42.csv\n",
      "(1524099, 27)\n"
     ]
    },
    {
     "name": "stderr",
     "output_type": "stream",
     "text": [
      "\r",
      " 78%|███████▊  | 42/54 [21:59<06:17, 31.43s/it]"
     ]
    },
    {
     "name": "stdout",
     "output_type": "stream",
     "text": [
      "../cache/bkup2/test7_1_t_store43.csv\n",
      "(2002110, 27)\n"
     ]
    },
    {
     "name": "stderr",
     "output_type": "stream",
     "text": [
      "\r",
      " 80%|███████▉  | 43/54 [22:27<05:44, 31.34s/it]"
     ]
    },
    {
     "name": "stdout",
     "output_type": "stream",
     "text": [
      "../cache/bkup2/test7_1_t_store44.csv\n",
      "(3575505, 27)\n"
     ]
    },
    {
     "name": "stderr",
     "output_type": "stream",
     "text": [
      "\r",
      " 81%|████████▏ | 44/54 [23:17<05:17, 31.76s/it]"
     ]
    },
    {
     "name": "stdout",
     "output_type": "stream",
     "text": [
      "../cache/bkup2/test7_1_t_store45.csv\n",
      "(3546660, 27)\n"
     ]
    },
    {
     "name": "stderr",
     "output_type": "stream",
     "text": [
      "\r",
      " 83%|████████▎ | 45/54 [24:07<04:49, 32.16s/it]"
     ]
    },
    {
     "name": "stdout",
     "output_type": "stream",
     "text": [
      "../cache/bkup2/test7_1_t_store46.csv\n",
      "(3416306, 27)\n"
     ]
    },
    {
     "name": "stderr",
     "output_type": "stream",
     "text": [
      "\r",
      " 85%|████████▌ | 46/54 [24:54<04:19, 32.49s/it]"
     ]
    },
    {
     "name": "stdout",
     "output_type": "stream",
     "text": [
      "../cache/bkup2/test7_1_t_store47.csv\n",
      "(3519823, 27)\n"
     ]
    },
    {
     "name": "stderr",
     "output_type": "stream",
     "text": [
      "\r",
      " 87%|████████▋ | 47/54 [25:43<03:49, 32.84s/it]"
     ]
    },
    {
     "name": "stdout",
     "output_type": "stream",
     "text": [
      "../cache/bkup2/test7_1_t_store48.csv\n",
      "(3298939, 27)\n"
     ]
    },
    {
     "name": "stderr",
     "output_type": "stream",
     "text": [
      "\r",
      " 89%|████████▉ | 48/54 [26:29<03:18, 33.11s/it]"
     ]
    },
    {
     "name": "stdout",
     "output_type": "stream",
     "text": [
      "../cache/bkup2/test7_1_t_store49.csv\n",
      "(3404947, 27)\n"
     ]
    },
    {
     "name": "stderr",
     "output_type": "stream",
     "text": [
      "\r",
      " 91%|█████████ | 49/54 [27:16<02:47, 33.41s/it]"
     ]
    },
    {
     "name": "stdout",
     "output_type": "stream",
     "text": [
      "../cache/bkup2/test7_1_t_store50.csv\n",
      "(3254982, 27)\n"
     ]
    },
    {
     "name": "stderr",
     "output_type": "stream",
     "text": [
      "\r",
      " 93%|█████████▎| 50/54 [28:02<02:14, 33.65s/it]"
     ]
    },
    {
     "name": "stdout",
     "output_type": "stream",
     "text": [
      "../cache/bkup2/test7_1_t_store51.csv\n",
      "(3022447, 27)\n"
     ]
    },
    {
     "name": "stderr",
     "output_type": "stream",
     "text": [
      "\r",
      " 94%|█████████▍| 51/54 [28:44<01:41, 33.82s/it]"
     ]
    },
    {
     "name": "stdout",
     "output_type": "stream",
     "text": [
      "../cache/bkup2/test7_1_t_store52.csv\n",
      "(352997, 27)\n"
     ]
    },
    {
     "name": "stderr",
     "output_type": "stream",
     "text": [
      "\r",
      " 96%|█████████▋| 52/54 [28:49<01:06, 33.26s/it]"
     ]
    },
    {
     "name": "stdout",
     "output_type": "stream",
     "text": [
      "../cache/bkup2/test7_1_t_store53.csv\n",
      "(2000671, 27)\n"
     ]
    },
    {
     "name": "stderr",
     "output_type": "stream",
     "text": [
      "\r",
      " 98%|█████████▊| 53/54 [29:16<00:33, 33.14s/it]"
     ]
    },
    {
     "name": "stdout",
     "output_type": "stream",
     "text": [
      "../cache/bkup2/test7_1_t_store54.csv\n",
      "(1711283, 27)\n"
     ]
    },
    {
     "name": "stderr",
     "output_type": "stream",
     "text": [
      "100%|██████████| 54/54 [29:39<00:00, 32.96s/it]\n"
     ]
    }
   ],
   "source": [
    "for shop_num in tqdm(range(1,55)):\n",
    "    fn_org = '../cache/bkup/train10_t_store{}.csv'.format(shop_num)\n",
    "    fn_org1 = '../cache/bkup2/test7_1_t_store{}.csv'.format(shop_num)\n",
    "    print(fn_org1)\n",
    "    df = pd.read_csv(fn_org)\n",
    "    df1 = pd.read_csv(fn_org1)\n",
    "    df = pd.concat([df, df1], axis=0)\n",
    "    \n",
    "    print(df.shape)\n",
    "    df['date_block_num']  = df.date.map(lambda x: get_date_block_num(x))\n",
    "#     df = df.drop_duplicates()\n",
    "    unit_sales_mean = df.groupby(['item_nbr', 'date_block_num'], as_index=False).agg({'unit_sales':{'unit_sales_mean':'mean'}, \n",
    "                                                         })\n",
    "    unit_sales_mean.columns = ['item_nbr', 'date_block_num', 'unit_sales_mean']\n",
    "    df = pd.merge(df, unit_sales_mean, how='left', on=['item_nbr', 'date_block_num']).fillna(0.0)\n",
    "\n",
    "    unit_sales_median = df.groupby(['item_nbr', 'date_block_num'], as_index=False).agg({'unit_sales':{'unit_sales_median':'median'}, \n",
    "                                                         })\n",
    "    unit_sales_median.columns = ['item_nbr', 'date_block_num', 'unit_sales_median']\n",
    "    df = pd.merge(df, unit_sales_median, how='left', on=['item_nbr', 'date_block_num']).fillna(0.0)\n",
    "    \n",
    "    unit_sales_std = df.groupby(['item_nbr', 'date_block_num'], as_index=False).agg({'unit_sales':{'unit_sales_std':'std'}, \n",
    "                                                         })\n",
    "    unit_sales_std.columns = ['item_nbr', 'date_block_num', 'unit_sales_std']\n",
    "    df = pd.merge(df, unit_sales_std, how='left', on=['item_nbr', 'date_block_num']).fillna(0.0)\n",
    "    \n",
    "    \n",
    "    shifted_df = df[['id', 'date', 'date_block_num','item_nbr','unit_sales_mean', 'unit_sales_median', 'unit_sales_std']].copy()\n",
    "    \n",
    "    fn = '../cache/shifted_rs_df_shop1{}.csv'.format(shop_num)\n",
    "    delete_file_if_exists(fn)\n",
    "    \n",
    "    shifted_df.to_csv(fn, float_format='%.5f', index=False)\n",
    "    del shifted_df\n",
    "    del df1\n",
    "    del df\n",
    "    del unit_sales_mean\n",
    "    del unit_sales_median\n",
    "    del unit_sales_std"
   ]
  },
  {
   "cell_type": "code",
   "execution_count": 26,
   "metadata": {
    "collapsed": false
   },
   "outputs": [
    {
     "name": "stderr",
     "output_type": "stream",
     "text": [
      "100%|██████████| 54/54 [19:07<00:00, 21.26s/it]\n"
     ]
    }
   ],
   "source": [
    "# from tqdm import tqdm\n",
    "for shop_num in tqdm(range(1,55)):\n",
    "    fn = '../cache/shifted_rs_df_shop{}.csv'.format(shop_num)\n",
    "    df1 = pd.read_csv(fn)\n",
    "\n",
    "#     print(df1.shape)\n",
    "#     print(set(df1.date_block_num))\n",
    "#     df1 = df1.drop('my_id', axis=1)\n",
    "    # forward\n",
    "    # 1 month\n",
    "    shifted_df = df1[['date_block_num','item_nbr','unit_sales_mean']].copy()\n",
    "#     print(shifted_df.shape)\n",
    "    org_date_blocks = shifted_df.date_block_num.values\n",
    "    shifted_df.date_block_num += 1\n",
    "    shifted_df.columns = ['date_block_num','item_nbr', 'unit_sales_mean_f_lag_1']\n",
    "#     print(shifted_df.date_block_num.nunique())\n",
    "    \n",
    "    df1 = df1.merge(shifted_df, on=['date_block_num','item_nbr'], how='left').fillna(0.0)\n",
    "    df1 = df1.drop_duplicates()\n",
    "    \n",
    "    assert(len(df1) == len(shifted_df))\n",
    "    \n",
    "    df = pd.DataFrame()\n",
    "    df['id'] = df1.id.values\n",
    "    df['unit_sales_mean_f_lag_1'] = df1.unit_sales_mean_f_lag_1.values\n",
    "    df = df.loc[:, (df != 0).any(axis=0)]\n",
    "    if len(df.columns) != 2:\n",
    "        print(shop_num)\n",
    "        print(df1.shape)\n",
    "        print(set(df1.date_block_num))\n",
    "        print(shifted_df.date_block_num.nunique())\n",
    "        print(set(shifted_df.date_block_num))\n",
    "        print(df.shape)\n",
    "        print('------')\n",
    "    fn = '../cache/lag1_sales_mean_rs_df_shop{}.csv'.format(shop_num)\n",
    "    delete_file_if_exists(fn)\n",
    "    df.to_csv(fn, float_format='%.5f', index=False)\n",
    "    del shifted_df\n",
    "    del df1\n",
    "    del df\n",
    "    \n",
    "    "
   ]
  },
  {
   "cell_type": "code",
   "execution_count": 27,
   "metadata": {
    "collapsed": false
   },
   "outputs": [],
   "source": [
    "# for shop_num in tqdm(range(1,55)):\n",
    "#     fn = '../cache/lag1_sales_mean_df_shop{}.csv'.format(shop_num)\n",
    "#     df1 = pd.read_csv(fn)\n",
    "#     fn1 = '../cache/lag1_sales_mean_rs_df_shop{}.csv'.format(shop_num)\n",
    "#     df1.to_csv(fn1, float_format='%.5f', index=False)\n",
    "#     delete_file_if_exists(fn)\n",
    "#     del df1"
   ]
  },
  {
   "cell_type": "code",
   "execution_count": 28,
   "metadata": {
    "collapsed": false
   },
   "outputs": [
    {
     "name": "stderr",
     "output_type": "stream",
     "text": [
      "100%|██████████| 54/54 [18:17<00:00, 20.33s/it]\n"
     ]
    }
   ],
   "source": [
    "# from tqdm import tqdm\n",
    "for shop_num in tqdm(range(1,55)):\n",
    "    fn = '../cache/shifted_rs_df_shop{}.csv'.format(shop_num)\n",
    "    df1 = pd.read_csv(fn)\n",
    "\n",
    "#     print(df1.shape)\n",
    "#     print(set(df1.date_block_num))\n",
    "#     df1 = df1.drop('my_id', axis=1)\n",
    "    # forward\n",
    "    # 1 month\n",
    "    shifted_df = df1[['date_block_num','item_nbr','unit_sales_mean']].copy()\n",
    "#     print(shifted_df.shape)\n",
    "    org_date_blocks = shifted_df.date_block_num.values\n",
    "    shifted_df.date_block_num += 3\n",
    "    shifted_df.columns = ['date_block_num','item_nbr', 'unit_sales_mean_f_lag_3']\n",
    "#     print(shifted_df.date_block_num.nunique())\n",
    "    \n",
    "    df1 = df1.merge(shifted_df, on=['date_block_num','item_nbr'], how='left').fillna(0.0)\n",
    "    df1 = df1.drop_duplicates()\n",
    "    \n",
    "    assert(len(df1) == len(shifted_df))\n",
    "    \n",
    "    df = pd.DataFrame()\n",
    "    df['id'] = df1.id.values\n",
    "    df['unit_sales_mean_f_lag_3'] = df1.unit_sales_mean_f_lag_3.values\n",
    "    df = df.loc[:, (df != 0).any(axis=0)]\n",
    "    if len(df.columns) != 2:\n",
    "        print(shop_num)\n",
    "        print(df1.shape)\n",
    "        print(set(df1.date_block_num))\n",
    "        print(shifted_df.date_block_num.nunique())\n",
    "        print(set(shifted_df.date_block_num))\n",
    "        print(df.shape)\n",
    "        print('------')\n",
    "    fn = '../cache/lag3_sales_mean_rs_df_shop{}.csv'.format(shop_num)\n",
    "    delete_file_if_exists(fn)\n",
    "    df.to_csv(fn, float_format='%.5f', index=False)\n",
    "    del shifted_df\n",
    "    del df1\n",
    "    del df\n",
    "    \n",
    "    "
   ]
  },
  {
   "cell_type": "code",
   "execution_count": 29,
   "metadata": {
    "collapsed": false
   },
   "outputs": [
    {
     "name": "stderr",
     "output_type": "stream",
     "text": [
      " 94%|█████████▍| 51/54 [16:52<00:59, 19.85s/it]"
     ]
    },
    {
     "name": "stdout",
     "output_type": "stream",
     "text": [
      "52\n",
      "(352997, 7)\n",
      "{51, 52, 53, 54, 55}\n",
      "5\n",
      "{57, 58, 59, 60, 61}\n",
      "(352997, 1)\n",
      "------\n"
     ]
    },
    {
     "name": "stderr",
     "output_type": "stream",
     "text": [
      "100%|██████████| 54/54 [17:21<00:00, 19.28s/it]\n"
     ]
    }
   ],
   "source": [
    "# from tqdm import tqdm\n",
    "for shop_num in tqdm(range(1,55)):\n",
    "    fn = '../cache/shifted_rs_df_shop{}.csv'.format(shop_num)\n",
    "    df1 = pd.read_csv(fn)\n",
    "\n",
    "#     print(df1.shape)\n",
    "#     print(set(df1.date_block_num))\n",
    "#     df1 = df1.drop('my_id', axis=1)\n",
    "    # forward\n",
    "    # 1 month\n",
    "    shifted_df = df1[['date_block_num','item_nbr','unit_sales_mean']].copy()\n",
    "#     print(shifted_df.shape)\n",
    "    org_date_blocks = shifted_df.date_block_num.values\n",
    "    shifted_df.date_block_num += 6\n",
    "    shifted_df.columns = ['date_block_num','item_nbr', 'unit_sales_mean_f_lag_6']\n",
    "#     print(shifted_df.date_block_num.nunique())\n",
    "    \n",
    "    df1 = df1.merge(shifted_df, on=['date_block_num','item_nbr'], how='left').fillna(0.0)\n",
    "    df1 = df1.drop_duplicates()\n",
    "    \n",
    "    assert(len(df1) == len(shifted_df))\n",
    "    \n",
    "    df = pd.DataFrame()\n",
    "    df['id'] = df1.id.values\n",
    "    df['unit_sales_mean_f_lag_6'] = df1.unit_sales_mean_f_lag_6.values\n",
    "    df = df.loc[:, (df != 0).any(axis=0)]\n",
    "    if len(df.columns) != 2:\n",
    "        print(shop_num)\n",
    "        print(df1.shape)\n",
    "        print(set(df1.date_block_num))\n",
    "        print(shifted_df.date_block_num.nunique())\n",
    "        print(set(shifted_df.date_block_num))\n",
    "        print(df.shape)\n",
    "        print('------')\n",
    "    fn = '../cache/lag6_sales_mean_rs_df_shop{}.csv'.format(shop_num)\n",
    "    delete_file_if_exists(fn)\n",
    "    df.to_csv(fn, float_format='%.5f', index=False)\n",
    "    del shifted_df\n",
    "    del df1\n",
    "    del df\n",
    "    "
   ]
  },
  {
   "cell_type": "code",
   "execution_count": 30,
   "metadata": {
    "collapsed": false
   },
   "outputs": [
    {
     "name": "stderr",
     "output_type": "stream",
     "text": [
      " 94%|█████████▍| 51/54 [15:18<00:54, 18.02s/it]"
     ]
    },
    {
     "name": "stdout",
     "output_type": "stream",
     "text": [
      "52\n",
      "(352997, 7)\n",
      "{51, 52, 53, 54, 55}\n",
      "5\n",
      "{64, 65, 66, 67, 63}\n",
      "(352997, 1)\n",
      "------\n"
     ]
    },
    {
     "name": "stderr",
     "output_type": "stream",
     "text": [
      "100%|██████████| 54/54 [15:44<00:00, 17.50s/it]\n"
     ]
    }
   ],
   "source": [
    "# from tqdm import tqdm\n",
    "for shop_num in tqdm(range(1,55)):\n",
    "    fn = '../cache/shifted_rs_df_shop{}.csv'.format(shop_num)\n",
    "    df1 = pd.read_csv(fn)\n",
    "\n",
    "#     print(df1.shape)\n",
    "#     print(set(df1.date_block_num))\n",
    "#     df1 = df1.drop('my_id', axis=1)\n",
    "    # forward\n",
    "    # 1 month\n",
    "    shifted_df = df1[['date_block_num','item_nbr','unit_sales_mean']].copy()\n",
    "#     print(shifted_df.shape)\n",
    "    org_date_blocks = shifted_df.date_block_num.values\n",
    "    shifted_df.date_block_num += 12\n",
    "    shifted_df.columns = ['date_block_num','item_nbr', 'unit_sales_mean_f_lag_12']\n",
    "#     print(shifted_df.date_block_num.nunique())\n",
    "    \n",
    "    df1 = df1.merge(shifted_df, on=['date_block_num','item_nbr'], how='left').fillna(0.0)\n",
    "    df1 = df1.drop_duplicates()\n",
    "    \n",
    "    assert(len(df1) == len(shifted_df))\n",
    "    \n",
    "    df = pd.DataFrame()\n",
    "    df['id'] = df1.id.values\n",
    "    df['unit_sales_mean_f_lag_12'] = df1.unit_sales_mean_f_lag_12.values\n",
    "    df = df.loc[:, (df != 0).any(axis=0)]\n",
    "    if len(df.columns) != 2:\n",
    "        print(shop_num)\n",
    "        print(df1.shape)\n",
    "        print(set(df1.date_block_num))\n",
    "        print(shifted_df.date_block_num.nunique())\n",
    "        print(set(shifted_df.date_block_num))\n",
    "        print(df.shape)\n",
    "        print('------')\n",
    "    fn = '../cache/lag12_sales_mean_rs_df_shop{}.csv'.format(shop_num)\n",
    "    delete_file_if_exists(fn)\n",
    "    df.to_csv(fn, float_format='%.5f', index=False)\n",
    "    del shifted_df\n",
    "    del df1\n",
    "    del df"
   ]
  },
  {
   "cell_type": "code",
   "execution_count": 31,
   "metadata": {
    "collapsed": false
   },
   "outputs": [
    {
     "name": "stderr",
     "output_type": "stream",
     "text": [
      " 39%|███▉      | 21/54 [04:59<07:49, 14.24s/it]"
     ]
    },
    {
     "name": "stdout",
     "output_type": "stream",
     "text": [
      "22\n",
      "(985899, 7)\n",
      "{33, 34, 35, 36, 37, 38, 39, 40, 41, 42, 43, 44, 45, 46, 47, 48, 49, 50, 51, 52, 53, 54, 55}\n",
      "23\n",
      "{57, 58, 59, 60, 61, 62, 63, 64, 65, 66, 67, 68, 69, 70, 71, 72, 73, 74, 75, 76, 77, 78, 79}\n",
      "(985899, 1)\n",
      "------\n"
     ]
    },
    {
     "name": "stderr",
     "output_type": "stream",
     "text": [
      " 94%|█████████▍| 51/54 [12:21<00:43, 14.54s/it]"
     ]
    },
    {
     "name": "stdout",
     "output_type": "stream",
     "text": [
      "52\n",
      "(352997, 7)\n",
      "{51, 52, 53, 54, 55}\n",
      "5\n",
      "{75, 76, 77, 78, 79}\n",
      "(352997, 1)\n",
      "------\n"
     ]
    },
    {
     "name": "stderr",
     "output_type": "stream",
     "text": [
      "100%|██████████| 54/54 [12:42<00:00, 14.12s/it]\n"
     ]
    }
   ],
   "source": [
    "# from tqdm import tqdm\n",
    "for shop_num in tqdm(range(1,55)):\n",
    "    fn = '../cache/shifted_rs_df_shop{}.csv'.format(shop_num)\n",
    "    df1 = pd.read_csv(fn)\n",
    "\n",
    "#     print(df1.shape)\n",
    "#     print(set(df1.date_block_num))\n",
    "#     df1 = df1.drop('my_id', axis=1)\n",
    "    # forward\n",
    "    # 1 month\n",
    "    shifted_df = df1[['date_block_num','item_nbr','unit_sales_mean']].copy()\n",
    "#     print(shifted_df.shape)\n",
    "    org_date_blocks = shifted_df.date_block_num.values\n",
    "    shifted_df.date_block_num += 24\n",
    "    shifted_df.columns = ['date_block_num','item_nbr', 'unit_sales_mean_f_lag_24']\n",
    "#     print(shifted_df.date_block_num.nunique())\n",
    "    \n",
    "    df1 = df1.merge(shifted_df, on=['date_block_num','item_nbr'], how='left').fillna(0.0)\n",
    "    df1 = df1.drop_duplicates()\n",
    "    \n",
    "    assert(len(df1) == len(shifted_df))\n",
    "    \n",
    "    df = pd.DataFrame()\n",
    "    df['id'] = df1.id.values\n",
    "    df['unit_sales_mean_f_lag_24'] = df1.unit_sales_mean_f_lag_24.values\n",
    "    df = df.loc[:, (df != 0).any(axis=0)]\n",
    "    if len(df.columns) != 2:\n",
    "        print(shop_num)\n",
    "        print(df1.shape)\n",
    "        print(set(df1.date_block_num))\n",
    "        print(shifted_df.date_block_num.nunique())\n",
    "        print(set(shifted_df.date_block_num))\n",
    "        print(df.shape)\n",
    "        print('------')\n",
    "    fn = '../cache/lag24_sales_mean_rs_df_shop{}.csv'.format(shop_num)\n",
    "    delete_file_if_exists(fn)\n",
    "    df.to_csv(fn, float_format='%.5f', index=False)\n",
    "    del shifted_df\n",
    "    del df1\n",
    "    del df"
   ]
  },
  {
   "cell_type": "code",
   "execution_count": 35,
   "metadata": {
    "collapsed": false
   },
   "outputs": [
    {
     "name": "stderr",
     "output_type": "stream",
     "text": [
      "\n",
      "  0%|          | 0/54 [00:00<?, ?it/s]\u001b[A\n",
      "Exception in thread Thread-20:\n",
      "Traceback (most recent call last):\n",
      "  File \"/home/watts/anaconda2/envs/sdp35/lib/python3.5/threading.py\", line 914, in _bootstrap_inner\n",
      "    self.run()\n",
      "  File \"/home/watts/anaconda2/envs/sdp35/lib/python3.5/site-packages/tqdm/_tqdm.py\", line 144, in run\n",
      "    for instance in self.tqdm_cls._instances:\n",
      "  File \"/home/watts/anaconda2/envs/sdp35/lib/python3.5/_weakrefset.py\", line 60, in __iter__\n",
      "    for itemref in self.data:\n",
      "RuntimeError: Set changed size during iteration\n",
      "\n",
      "100%|██████████| 54/54 [20:08<00:00, 22.38s/it]\n"
     ]
    }
   ],
   "source": [
    "for shop_num in tqdm(range(1,55)):\n",
    "    fn = '../cache/shifted_rs_df_shop1{}.csv'.format(shop_num)\n",
    "    df1 = pd.read_csv(fn)\n",
    "\n",
    "#     print(df1.shape)\n",
    "#     print(set(df1.date_block_num))\n",
    "#     df1 = df1.drop('my_id', axis=1)\n",
    "    # forward\n",
    "    # 1 month\n",
    "    shifted_df = df1[['date_block_num','item_nbr','unit_sales_median']].copy()\n",
    "#     print(shifted_df.shape)\n",
    "    org_date_blocks = shifted_df.date_block_num.values\n",
    "    shifted_df.date_block_num += 1\n",
    "    shifted_df.columns = ['date_block_num','item_nbr', 'unit_sales_median_f_lag_1']\n",
    "#     print(shifted_df.date_block_num.nunique())\n",
    "    \n",
    "    df1 = df1.merge(shifted_df, on=['date_block_num','item_nbr'], how='left').fillna(0.0)\n",
    "    df1 = df1.drop_duplicates()\n",
    "    \n",
    "    assert(len(df1) == len(shifted_df))\n",
    "    \n",
    "    df = pd.DataFrame()\n",
    "    df['id'] = df1.id.values\n",
    "    df['unit_sales_median_f_lag_1'] = df1.unit_sales_median_f_lag_1.values\n",
    "    df = df.loc[:, (df != 0).any(axis=0)]\n",
    "    if len(df.columns) != 2:\n",
    "        print(shop_num)\n",
    "        print(df1.shape)\n",
    "        print(set(df1.date_block_num))\n",
    "        print(shifted_df.date_block_num.nunique())\n",
    "        print(set(shifted_df.date_block_num))\n",
    "        print(df.shape)\n",
    "        print('------')\n",
    "    fn = '../cache/lag1_sales_median_rs_df_shop{}.csv'.format(shop_num)\n",
    "    delete_file_if_exists(fn)\n",
    "    df.to_csv(fn, float_format='%.5f', index=False)\n",
    "    del shifted_df\n",
    "    del df1\n",
    "    del df"
   ]
  },
  {
   "cell_type": "code",
   "execution_count": 36,
   "metadata": {
    "collapsed": false
   },
   "outputs": [
    {
     "name": "stderr",
     "output_type": "stream",
     "text": [
      "100%|██████████| 54/54 [19:13<00:00, 21.36s/it]\n"
     ]
    }
   ],
   "source": [
    "for shop_num in tqdm(range(1,55)):\n",
    "    fn = '../cache/shifted_rs_df_shop1{}.csv'.format(shop_num)\n",
    "    df1 = pd.read_csv(fn)\n",
    "\n",
    "#     print(df1.shape)\n",
    "#     print(set(df1.date_block_num))\n",
    "#     df1 = df1.drop('my_id', axis=1)\n",
    "    # forward\n",
    "    # 1 month\n",
    "    shifted_df = df1[['date_block_num','item_nbr','unit_sales_median']].copy()\n",
    "#     print(shifted_df.shape)\n",
    "    org_date_blocks = shifted_df.date_block_num.values\n",
    "    shifted_df.date_block_num += 3\n",
    "    shifted_df.columns = ['date_block_num','item_nbr', 'unit_sales_median_f_lag_3']\n",
    "#     print(shifted_df.date_block_num.nunique())\n",
    "    \n",
    "    df1 = df1.merge(shifted_df, on=['date_block_num','item_nbr'], how='left').fillna(0.0)\n",
    "    df1 = df1.drop_duplicates()\n",
    "    \n",
    "    assert(len(df1) == len(shifted_df))\n",
    "    \n",
    "    df = pd.DataFrame()\n",
    "    df['id'] = df1.id.values\n",
    "    df['unit_sales_median_f_lag_3'] = df1.unit_sales_median_f_lag_3.values\n",
    "    df = df.loc[:, (df != 0).any(axis=0)]\n",
    "    if len(df.columns) != 2:\n",
    "        print(shop_num)\n",
    "        print(df1.shape)\n",
    "        print(set(df1.date_block_num))\n",
    "        print(shifted_df.date_block_num.nunique())\n",
    "        print(set(shifted_df.date_block_num))\n",
    "        print(df.shape)\n",
    "        print('------')\n",
    "    fn = '../cache/lag3_sales_median_rs_df_shop{}.csv'.format(shop_num)\n",
    "    delete_file_if_exists(fn)\n",
    "    df.to_csv(fn, float_format='%.5f', index=False)\n",
    "    del shifted_df\n",
    "    del df1\n",
    "    del df"
   ]
  },
  {
   "cell_type": "code",
   "execution_count": 37,
   "metadata": {
    "collapsed": false
   },
   "outputs": [
    {
     "name": "stderr",
     "output_type": "stream",
     "text": [
      " 94%|█████████▍| 51/54 [17:41<01:02, 20.81s/it]"
     ]
    },
    {
     "name": "stdout",
     "output_type": "stream",
     "text": [
      "52\n",
      "(352997, 8)\n",
      "{51, 52, 53, 54, 55}\n",
      "5\n",
      "{57, 58, 59, 60, 61}\n",
      "(352997, 1)\n",
      "------\n"
     ]
    },
    {
     "name": "stderr",
     "output_type": "stream",
     "text": [
      "100%|██████████| 54/54 [18:11<00:00, 20.20s/it]\n"
     ]
    }
   ],
   "source": [
    "for shop_num in tqdm(range(1,55)):\n",
    "    fn = '../cache/shifted_rs_df_shop1{}.csv'.format(shop_num)\n",
    "    df1 = pd.read_csv(fn)\n",
    "\n",
    "#     print(df1.shape)\n",
    "#     print(set(df1.date_block_num))\n",
    "#     df1 = df1.drop('my_id', axis=1)\n",
    "    # forward\n",
    "    # 1 month\n",
    "    shifted_df = df1[['date_block_num','item_nbr','unit_sales_median']].copy()\n",
    "#     print(shifted_df.shape)\n",
    "    org_date_blocks = shifted_df.date_block_num.values\n",
    "    shifted_df.date_block_num += 6\n",
    "    shifted_df.columns = ['date_block_num','item_nbr', 'unit_sales_median_f_lag_6']\n",
    "#     print(shifted_df.date_block_num.nunique())\n",
    "    \n",
    "    df1 = df1.merge(shifted_df, on=['date_block_num','item_nbr'], how='left').fillna(0.0)\n",
    "    df1 = df1.drop_duplicates()\n",
    "    \n",
    "    assert(len(df1) == len(shifted_df))\n",
    "    \n",
    "    df = pd.DataFrame()\n",
    "    df['id'] = df1.id.values\n",
    "    df['unit_sales_median_f_lag_6'] = df1.unit_sales_median_f_lag_6.values\n",
    "    df = df.loc[:, (df != 0).any(axis=0)]\n",
    "    if len(df.columns) != 2:\n",
    "        print(shop_num)\n",
    "        print(df1.shape)\n",
    "        print(set(df1.date_block_num))\n",
    "        print(shifted_df.date_block_num.nunique())\n",
    "        print(set(shifted_df.date_block_num))\n",
    "        print(df.shape)\n",
    "        print('------')\n",
    "    fn = '../cache/lag6_sales_median_rs_df_shop{}.csv'.format(shop_num)\n",
    "    delete_file_if_exists(fn)\n",
    "    df.to_csv(fn, float_format='%.5f', index=False)\n",
    "    del shifted_df\n",
    "    del df1\n",
    "    del df"
   ]
  },
  {
   "cell_type": "code",
   "execution_count": 38,
   "metadata": {
    "collapsed": false
   },
   "outputs": [
    {
     "name": "stderr",
     "output_type": "stream",
     "text": [
      " 94%|█████████▍| 51/54 [16:01<00:56, 18.86s/it]"
     ]
    },
    {
     "name": "stdout",
     "output_type": "stream",
     "text": [
      "52\n",
      "(352997, 8)\n",
      "{51, 52, 53, 54, 55}\n",
      "5\n",
      "{64, 65, 66, 67, 63}\n",
      "(352997, 1)\n",
      "------\n"
     ]
    },
    {
     "name": "stderr",
     "output_type": "stream",
     "text": [
      "100%|██████████| 54/54 [16:28<00:00, 18.31s/it]\n"
     ]
    }
   ],
   "source": [
    "for shop_num in tqdm(range(1,55)):\n",
    "    fn = '../cache/shifted_rs_df_shop1{}.csv'.format(shop_num)\n",
    "    df1 = pd.read_csv(fn)\n",
    "\n",
    "#     print(df1.shape)\n",
    "#     print(set(df1.date_block_num))\n",
    "#     df1 = df1.drop('my_id', axis=1)\n",
    "    # forward\n",
    "    # 1 month\n",
    "    shifted_df = df1[['date_block_num','item_nbr','unit_sales_median']].copy()\n",
    "#     print(shifted_df.shape)\n",
    "    org_date_blocks = shifted_df.date_block_num.values\n",
    "    shifted_df.date_block_num += 12\n",
    "    shifted_df.columns = ['date_block_num','item_nbr', 'unit_sales_median_f_lag_12']\n",
    "#     print(shifted_df.date_block_num.nunique())\n",
    "    \n",
    "    df1 = df1.merge(shifted_df, on=['date_block_num','item_nbr'], how='left').fillna(0.0)\n",
    "    df1 = df1.drop_duplicates()\n",
    "    \n",
    "    assert(len(df1) == len(shifted_df))\n",
    "    \n",
    "    df = pd.DataFrame()\n",
    "    df['id'] = df1.id.values\n",
    "    df['unit_sales_median_f_lag_12'] = df1.unit_sales_median_f_lag_12.values\n",
    "    df = df.loc[:, (df != 0).any(axis=0)]\n",
    "    if len(df.columns) != 2:\n",
    "        print(shop_num)\n",
    "        print(df1.shape)\n",
    "        print(set(df1.date_block_num))\n",
    "        print(shifted_df.date_block_num.nunique())\n",
    "        print(set(shifted_df.date_block_num))\n",
    "        print(df.shape)\n",
    "        print('------')\n",
    "    fn = '../cache/lag12_sales_median_rs_df_shop{}.csv'.format(shop_num)\n",
    "    delete_file_if_exists(fn)\n",
    "    df.to_csv(fn, float_format='%.5f', index=False)\n",
    "    del shifted_df\n",
    "    del df1\n",
    "    del df"
   ]
  },
  {
   "cell_type": "code",
   "execution_count": 39,
   "metadata": {
    "collapsed": false
   },
   "outputs": [
    {
     "name": "stderr",
     "output_type": "stream",
     "text": [
      " 39%|███▉      | 21/54 [05:12<08:10, 14.87s/it]"
     ]
    },
    {
     "name": "stdout",
     "output_type": "stream",
     "text": [
      "22\n",
      "(985899, 8)\n",
      "{33, 34, 35, 36, 37, 38, 39, 40, 41, 42, 43, 44, 45, 46, 47, 48, 49, 50, 51, 52, 53, 54, 55}\n",
      "23\n",
      "{57, 58, 59, 60, 61, 62, 63, 64, 65, 66, 67, 68, 69, 70, 71, 72, 73, 74, 75, 76, 77, 78, 79}\n",
      "(985899, 1)\n",
      "------\n"
     ]
    },
    {
     "name": "stderr",
     "output_type": "stream",
     "text": [
      " 94%|█████████▍| 51/54 [12:54<00:45, 15.18s/it]"
     ]
    },
    {
     "name": "stdout",
     "output_type": "stream",
     "text": [
      "52\n",
      "(352997, 8)\n",
      "{51, 52, 53, 54, 55}\n",
      "5\n",
      "{75, 76, 77, 78, 79}\n",
      "(352997, 1)\n",
      "------\n"
     ]
    },
    {
     "name": "stderr",
     "output_type": "stream",
     "text": [
      "100%|██████████| 54/54 [13:15<00:00, 14.73s/it]\n"
     ]
    }
   ],
   "source": [
    "for shop_num in tqdm(range(1,55)):\n",
    "    fn = '../cache/shifted_rs_df_shop1{}.csv'.format(shop_num)\n",
    "    df1 = pd.read_csv(fn)\n",
    "\n",
    "#     print(df1.shape)\n",
    "#     print(set(df1.date_block_num))\n",
    "#     df1 = df1.drop('my_id', axis=1)\n",
    "    # forward\n",
    "    # 1 month\n",
    "    shifted_df = df1[['date_block_num','item_nbr','unit_sales_median']].copy()\n",
    "#     print(shifted_df.shape)\n",
    "    org_date_blocks = shifted_df.date_block_num.values\n",
    "    shifted_df.date_block_num += 24\n",
    "    shifted_df.columns = ['date_block_num','item_nbr', 'unit_sales_median_f_lag_24']\n",
    "#     print(shifted_df.date_block_num.nunique())\n",
    "    \n",
    "    df1 = df1.merge(shifted_df, on=['date_block_num','item_nbr'], how='left').fillna(0.0)\n",
    "    df1 = df1.drop_duplicates()\n",
    "    \n",
    "    assert(len(df1) == len(shifted_df))\n",
    "    \n",
    "    df = pd.DataFrame()\n",
    "    df['id'] = df1.id.values\n",
    "    df['unit_sales_median_f_lag_24'] = df1.unit_sales_median_f_lag_24.values\n",
    "    df = df.loc[:, (df != 0).any(axis=0)]\n",
    "    if len(df.columns) != 2:\n",
    "        print(shop_num)\n",
    "        print(df1.shape)\n",
    "        print(set(df1.date_block_num))\n",
    "        print(shifted_df.date_block_num.nunique())\n",
    "        print(set(shifted_df.date_block_num))\n",
    "        print(df.shape)\n",
    "        print('------')\n",
    "    fn = '../cache/lag24_sales_median_rs_df_shop{}.csv'.format(shop_num)\n",
    "    delete_file_if_exists(fn)\n",
    "    df.to_csv(fn, float_format='%.5f', index=False)\n",
    "    del shifted_df\n",
    "    del df1\n",
    "    del df"
   ]
  },
  {
   "cell_type": "code",
   "execution_count": 40,
   "metadata": {
    "collapsed": false
   },
   "outputs": [
    {
     "name": "stderr",
     "output_type": "stream",
     "text": [
      "100%|██████████| 54/54 [20:14<00:00, 22.50s/it]\n"
     ]
    }
   ],
   "source": [
    "for shop_num in tqdm(range(1,55)):\n",
    "    fn = '../cache/shifted_rs_df_shop1{}.csv'.format(shop_num)\n",
    "    df1 = pd.read_csv(fn)\n",
    "\n",
    "#     print(df1.shape)\n",
    "#     print(set(df1.date_block_num))\n",
    "#     df1 = df1.drop('my_id', axis=1)\n",
    "    # forward\n",
    "    # 1 month\n",
    "    shifted_df = df1[['date_block_num','item_nbr','unit_sales_std']].copy()\n",
    "#     print(shifted_df.shape)\n",
    "    org_date_blocks = shifted_df.date_block_num.values\n",
    "    shifted_df.date_block_num += 1\n",
    "    shifted_df.columns = ['date_block_num','item_nbr', 'unit_sales_std_f_lag_1']\n",
    "#     print(shifted_df.date_block_num.nunique())\n",
    "    \n",
    "    df1 = df1.merge(shifted_df, on=['date_block_num','item_nbr'], how='left').fillna(0.0)\n",
    "    df1 = df1.drop_duplicates()\n",
    "    \n",
    "    assert(len(df1) == len(shifted_df))\n",
    "    \n",
    "    df = pd.DataFrame()\n",
    "    df['id'] = df1.id.values\n",
    "    df['unit_sales_std_f_lag_1'] = df1.unit_sales_std_f_lag_1.values\n",
    "    df = df.loc[:, (df != 0).any(axis=0)]\n",
    "    if len(df.columns) != 2:\n",
    "        print(shop_num)\n",
    "        print(df1.shape)\n",
    "        print(set(df1.date_block_num))\n",
    "        print(shifted_df.date_block_num.nunique())\n",
    "        print(set(shifted_df.date_block_num))\n",
    "        print(df.shape)\n",
    "        print('------')\n",
    "    fn = '../cache/lag1_sales_std_rs_df_shop{}.csv'.format(shop_num)\n",
    "    delete_file_if_exists(fn)\n",
    "    df.to_csv(fn, float_format='%.5f', index=False)\n",
    "    del shifted_df\n",
    "    del df1\n",
    "    del df"
   ]
  },
  {
   "cell_type": "code",
   "execution_count": 41,
   "metadata": {
    "collapsed": false
   },
   "outputs": [
    {
     "name": "stderr",
     "output_type": "stream",
     "text": [
      "100%|██████████| 54/54 [19:21<00:00, 21.51s/it]\n"
     ]
    }
   ],
   "source": [
    "for shop_num in tqdm(range(1,55)):\n",
    "    fn = '../cache/shifted_rs_df_shop1{}.csv'.format(shop_num)\n",
    "    df1 = pd.read_csv(fn)\n",
    "\n",
    "#     print(df1.shape)\n",
    "#     print(set(df1.date_block_num))\n",
    "#     df1 = df1.drop('my_id', axis=1)\n",
    "    # forward\n",
    "    # 1 month\n",
    "    shifted_df = df1[['date_block_num','item_nbr','unit_sales_std']].copy()\n",
    "#     print(shifted_df.shape)\n",
    "    org_date_blocks = shifted_df.date_block_num.values\n",
    "    shifted_df.date_block_num += 3\n",
    "    shifted_df.columns = ['date_block_num','item_nbr', 'unit_sales_std_f_lag_3']\n",
    "#     print(shifted_df.date_block_num.nunique())\n",
    "    \n",
    "    df1 = df1.merge(shifted_df, on=['date_block_num','item_nbr'], how='left').fillna(0.0)\n",
    "    df1 = df1.drop_duplicates()\n",
    "    \n",
    "    assert(len(df1) == len(shifted_df))\n",
    "    \n",
    "    df = pd.DataFrame()\n",
    "    df['id'] = df1.id.values\n",
    "    df['unit_sales_std_f_lag_3'] = df1.unit_sales_std_f_lag_3.values\n",
    "    df = df.loc[:, (df != 0).any(axis=0)]\n",
    "    if len(df.columns) != 2:\n",
    "        print(shop_num)\n",
    "        print(df1.shape)\n",
    "        print(set(df1.date_block_num))\n",
    "        print(shifted_df.date_block_num.nunique())\n",
    "        print(set(shifted_df.date_block_num))\n",
    "        print(df.shape)\n",
    "        print('------')\n",
    "    fn = '../cache/lag3_sales_std_rs_df_shop{}.csv'.format(shop_num)\n",
    "    delete_file_if_exists(fn)\n",
    "    df.to_csv(fn, float_format='%.5f', index=False)\n",
    "    del shifted_df\n",
    "    del df1\n",
    "    del df"
   ]
  },
  {
   "cell_type": "code",
   "execution_count": 42,
   "metadata": {
    "collapsed": false
   },
   "outputs": [
    {
     "name": "stderr",
     "output_type": "stream",
     "text": [
      " 94%|█████████▍| 51/54 [17:50<01:02, 20.98s/it]"
     ]
    },
    {
     "name": "stdout",
     "output_type": "stream",
     "text": [
      "52\n",
      "(352997, 8)\n",
      "{51, 52, 53, 54, 55}\n",
      "5\n",
      "{57, 58, 59, 60, 61}\n",
      "(352997, 1)\n",
      "------\n"
     ]
    },
    {
     "name": "stderr",
     "output_type": "stream",
     "text": [
      "100%|██████████| 54/54 [18:20<00:00, 20.38s/it]\n"
     ]
    }
   ],
   "source": [
    "for shop_num in tqdm(range(1,55)):\n",
    "    fn = '../cache/shifted_rs_df_shop1{}.csv'.format(shop_num)\n",
    "    df1 = pd.read_csv(fn)\n",
    "\n",
    "#     print(df1.shape)\n",
    "#     print(set(df1.date_block_num))\n",
    "#     df1 = df1.drop('my_id', axis=1)\n",
    "    # forward\n",
    "    # 1 month\n",
    "    shifted_df = df1[['date_block_num','item_nbr','unit_sales_std']].copy()\n",
    "#     print(shifted_df.shape)\n",
    "    org_date_blocks = shifted_df.date_block_num.values\n",
    "    shifted_df.date_block_num += 6\n",
    "    shifted_df.columns = ['date_block_num','item_nbr', 'unit_sales_std_f_lag_6']\n",
    "#     print(shifted_df.date_block_num.nunique())\n",
    "    \n",
    "    df1 = df1.merge(shifted_df, on=['date_block_num','item_nbr'], how='left').fillna(0.0)\n",
    "    df1 = df1.drop_duplicates()\n",
    "    \n",
    "    assert(len(df1) == len(shifted_df))\n",
    "    \n",
    "    df = pd.DataFrame()\n",
    "    df['id'] = df1.id.values\n",
    "    df['unit_sales_std_f_lag_6'] = df1.unit_sales_std_f_lag_6.values\n",
    "    df = df.loc[:, (df != 0).any(axis=0)]\n",
    "    if len(df.columns) != 2:\n",
    "        print(shop_num)\n",
    "        print(df1.shape)\n",
    "        print(set(df1.date_block_num))\n",
    "        print(shifted_df.date_block_num.nunique())\n",
    "        print(set(shifted_df.date_block_num))\n",
    "        print(df.shape)\n",
    "        print('------')\n",
    "    fn = '../cache/lag6_sales_std_rs_df_shop{}.csv'.format(shop_num)\n",
    "    delete_file_if_exists(fn)\n",
    "    df.to_csv(fn, float_format='%.5f', index=False)\n",
    "    del shifted_df\n",
    "    del df1\n",
    "    del df"
   ]
  },
  {
   "cell_type": "code",
   "execution_count": 43,
   "metadata": {
    "collapsed": false
   },
   "outputs": [
    {
     "name": "stderr",
     "output_type": "stream",
     "text": [
      " 94%|█████████▍| 51/54 [16:08<00:56, 18.98s/it]"
     ]
    },
    {
     "name": "stdout",
     "output_type": "stream",
     "text": [
      "52\n",
      "(352997, 8)\n",
      "{51, 52, 53, 54, 55}\n",
      "5\n",
      "{64, 65, 66, 67, 63}\n",
      "(352997, 1)\n",
      "------\n"
     ]
    },
    {
     "name": "stderr",
     "output_type": "stream",
     "text": [
      "100%|██████████| 54/54 [16:35<00:00, 18.44s/it]\n"
     ]
    }
   ],
   "source": [
    "for shop_num in tqdm(range(1,55)):\n",
    "    fn = '../cache/shifted_rs_df_shop1{}.csv'.format(shop_num)\n",
    "    df1 = pd.read_csv(fn)\n",
    "\n",
    "#     print(df1.shape)\n",
    "#     print(set(df1.date_block_num))\n",
    "#     df1 = df1.drop('my_id', axis=1)\n",
    "    # forward\n",
    "    # 1 month\n",
    "    shifted_df = df1[['date_block_num','item_nbr','unit_sales_std']].copy()\n",
    "#     print(shifted_df.shape)\n",
    "    org_date_blocks = shifted_df.date_block_num.values\n",
    "    shifted_df.date_block_num += 12\n",
    "    shifted_df.columns = ['date_block_num','item_nbr', 'unit_sales_std_f_lag_12']\n",
    "#     print(shifted_df.date_block_num.nunique())\n",
    "    \n",
    "    df1 = df1.merge(shifted_df, on=['date_block_num','item_nbr'], how='left').fillna(0.0)\n",
    "    df1 = df1.drop_duplicates()\n",
    "    \n",
    "    assert(len(df1) == len(shifted_df))\n",
    "    \n",
    "    df = pd.DataFrame()\n",
    "    df['id'] = df1.id.values\n",
    "    df['unit_sales_std_f_lag_12'] = df1.unit_sales_std_f_lag_12.values\n",
    "    df = df.loc[:, (df != 0).any(axis=0)]\n",
    "    if len(df.columns) != 2:\n",
    "        print(shop_num)\n",
    "        print(df1.shape)\n",
    "        print(set(df1.date_block_num))\n",
    "        print(shifted_df.date_block_num.nunique())\n",
    "        print(set(shifted_df.date_block_num))\n",
    "        print(df.shape)\n",
    "        print('------')\n",
    "    fn = '../cache/lag12_sales_std_rs_df_shop{}.csv'.format(shop_num)\n",
    "    delete_file_if_exists(fn)\n",
    "    df.to_csv(fn, float_format='%.5f', index=False)\n",
    "    del shifted_df\n",
    "    del df1\n",
    "    del df"
   ]
  },
  {
   "cell_type": "code",
   "execution_count": 44,
   "metadata": {
    "collapsed": false
   },
   "outputs": [
    {
     "name": "stderr",
     "output_type": "stream",
     "text": [
      " 39%|███▉      | 21/54 [05:13<08:12, 14.91s/it]"
     ]
    },
    {
     "name": "stdout",
     "output_type": "stream",
     "text": [
      "22\n",
      "(985899, 8)\n",
      "{33, 34, 35, 36, 37, 38, 39, 40, 41, 42, 43, 44, 45, 46, 47, 48, 49, 50, 51, 52, 53, 54, 55}\n",
      "23\n",
      "{57, 58, 59, 60, 61, 62, 63, 64, 65, 66, 67, 68, 69, 70, 71, 72, 73, 74, 75, 76, 77, 78, 79}\n",
      "(985899, 1)\n",
      "------\n"
     ]
    },
    {
     "name": "stderr",
     "output_type": "stream",
     "text": [
      " 94%|█████████▍| 51/54 [12:55<00:45, 15.21s/it]"
     ]
    },
    {
     "name": "stdout",
     "output_type": "stream",
     "text": [
      "52\n",
      "(352997, 8)\n",
      "{51, 52, 53, 54, 55}\n",
      "5\n",
      "{75, 76, 77, 78, 79}\n",
      "(352997, 1)\n",
      "------\n"
     ]
    },
    {
     "name": "stderr",
     "output_type": "stream",
     "text": [
      "100%|██████████| 54/54 [13:17<00:00, 14.77s/it]\n"
     ]
    }
   ],
   "source": [
    "for shop_num in tqdm(range(1,55)):\n",
    "    fn = '../cache/shifted_rs_df_shop1{}.csv'.format(shop_num)\n",
    "    df1 = pd.read_csv(fn)\n",
    "\n",
    "#     print(df1.shape)\n",
    "#     print(set(df1.date_block_num))\n",
    "#     df1 = df1.drop('my_id', axis=1)\n",
    "    # forward\n",
    "    # 1 month\n",
    "    shifted_df = df1[['date_block_num','item_nbr','unit_sales_std']].copy()\n",
    "#     print(shifted_df.shape)\n",
    "    org_date_blocks = shifted_df.date_block_num.values\n",
    "    shifted_df.date_block_num += 24\n",
    "    shifted_df.columns = ['date_block_num','item_nbr', 'unit_sales_std_f_lag_24']\n",
    "#     print(shifted_df.date_block_num.nunique())\n",
    "    \n",
    "    df1 = df1.merge(shifted_df, on=['date_block_num','item_nbr'], how='left').fillna(0.0)\n",
    "    df1 = df1.drop_duplicates()\n",
    "    \n",
    "    assert(len(df1) == len(shifted_df))\n",
    "    \n",
    "    df = pd.DataFrame()\n",
    "    df['id'] = df1.id.values\n",
    "    df['unit_sales_std_f_lag_24'] = df1.unit_sales_std_f_lag_24.values\n",
    "    df = df.loc[:, (df != 0).any(axis=0)]\n",
    "    if len(df.columns) != 2:\n",
    "        print(shop_num)\n",
    "        print(df1.shape)\n",
    "        print(set(df1.date_block_num))\n",
    "        print(shifted_df.date_block_num.nunique())\n",
    "        print(set(shifted_df.date_block_num))\n",
    "        print(df.shape)\n",
    "        print('------')\n",
    "    fn = '../cache/lag24_sales_std_rs_df_shop{}.csv'.format(shop_num)\n",
    "    delete_file_if_exists(fn)\n",
    "    df.to_csv(fn, float_format='%.5f', index=False)\n",
    "    del shifted_df\n",
    "    del df1\n",
    "    del df"
   ]
  },
  {
   "cell_type": "code",
   "execution_count": 3,
   "metadata": {
    "collapsed": false
   },
   "outputs": [
    {
     "name": "stderr",
     "output_type": "stream",
     "text": [
      "\r",
      "  0%|          | 0/33 [00:00<?, ?it/s]"
     ]
    },
    {
     "name": "stdout",
     "output_type": "stream",
     "text": [
      "1..\n",
      "2..\n",
      "3..\n",
      "4..\n"
     ]
    },
    {
     "name": "stderr",
     "output_type": "stream",
     "text": [
      "\r",
      "  3%|▎         | 1/33 [00:20<11:05, 20.80s/it]"
     ]
    },
    {
     "name": "stdout",
     "output_type": "stream",
     "text": [
      "5..\n",
      "1..\n",
      "2..\n",
      "3..\n",
      "4..\n"
     ]
    },
    {
     "name": "stderr",
     "output_type": "stream",
     "text": [
      "\r",
      "  6%|▌         | 2/33 [01:21<21:06, 40.87s/it]"
     ]
    },
    {
     "name": "stdout",
     "output_type": "stream",
     "text": [
      "5..\n",
      "1..\n",
      "2..\n",
      "3..\n",
      "4..\n"
     ]
    },
    {
     "name": "stderr",
     "output_type": "stream",
     "text": [
      "\r",
      "  9%|▉         | 3/33 [02:34<25:47, 51.57s/it]"
     ]
    },
    {
     "name": "stdout",
     "output_type": "stream",
     "text": [
      "5..\n",
      "1..\n",
      "2..\n",
      "3..\n",
      "4..\n"
     ]
    },
    {
     "name": "stderr",
     "output_type": "stream",
     "text": [
      "\r",
      " 12%|█▏        | 4/33 [03:28<25:09, 52.06s/it]"
     ]
    },
    {
     "name": "stdout",
     "output_type": "stream",
     "text": [
      "5..\n",
      "1..\n",
      "2..\n",
      "3..\n",
      "4..\n"
     ]
    },
    {
     "name": "stderr",
     "output_type": "stream",
     "text": [
      "\r",
      " 15%|█▌        | 5/33 [04:15<23:48, 51.03s/it]"
     ]
    },
    {
     "name": "stdout",
     "output_type": "stream",
     "text": [
      "5..\n",
      "1..\n",
      "2..\n",
      "3..\n",
      "4..\n"
     ]
    },
    {
     "name": "stderr",
     "output_type": "stream",
     "text": [
      "\r",
      " 18%|█▊        | 6/33 [05:24<24:19, 54.04s/it]"
     ]
    },
    {
     "name": "stdout",
     "output_type": "stream",
     "text": [
      "5..\n",
      "1..\n",
      "2..\n",
      "3..\n",
      "4..\n"
     ]
    },
    {
     "name": "stderr",
     "output_type": "stream",
     "text": [
      "\r",
      " 21%|██        | 7/33 [06:29<24:05, 55.58s/it]"
     ]
    },
    {
     "name": "stdout",
     "output_type": "stream",
     "text": [
      "5..\n",
      "1..\n",
      "2..\n",
      "3..\n",
      "4..\n"
     ]
    },
    {
     "name": "stderr",
     "output_type": "stream",
     "text": [
      "\r",
      " 24%|██▍       | 8/33 [07:09<22:22, 53.71s/it]"
     ]
    },
    {
     "name": "stdout",
     "output_type": "stream",
     "text": [
      "5..\n",
      "1..\n",
      "2..\n",
      "3..\n",
      "4..\n"
     ]
    },
    {
     "name": "stderr",
     "output_type": "stream",
     "text": [
      "\r",
      " 27%|██▋       | 9/33 [07:52<21:01, 52.55s/it]"
     ]
    },
    {
     "name": "stdout",
     "output_type": "stream",
     "text": [
      "5..\n",
      "1..\n",
      "2..\n",
      "3..\n",
      "4..\n"
     ]
    },
    {
     "name": "stderr",
     "output_type": "stream",
     "text": [
      "\r",
      " 30%|███       | 10/33 [08:55<20:32, 53.59s/it]"
     ]
    },
    {
     "name": "stdout",
     "output_type": "stream",
     "text": [
      "5..\n",
      "1..\n",
      "2..\n",
      "3..\n",
      "4..\n"
     ]
    },
    {
     "name": "stderr",
     "output_type": "stream",
     "text": [
      "\r",
      " 33%|███▎      | 11/33 [09:31<19:03, 51.99s/it]"
     ]
    },
    {
     "name": "stdout",
     "output_type": "stream",
     "text": [
      "5..\n",
      "1..\n",
      "2..\n",
      "3..\n",
      "4..\n"
     ]
    },
    {
     "name": "stderr",
     "output_type": "stream",
     "text": [
      "\r",
      " 36%|███▋      | 12/33 [10:24<18:12, 52.01s/it]"
     ]
    },
    {
     "name": "stdout",
     "output_type": "stream",
     "text": [
      "5..\n",
      "1..\n",
      "2..\n",
      "3..\n",
      "4..\n"
     ]
    },
    {
     "name": "stderr",
     "output_type": "stream",
     "text": [
      "\r",
      " 39%|███▉      | 13/33 [11:24<17:33, 52.68s/it]"
     ]
    },
    {
     "name": "stdout",
     "output_type": "stream",
     "text": [
      "5..\n",
      "1..\n",
      "2..\n",
      "3..\n",
      "4..\n"
     ]
    },
    {
     "name": "stderr",
     "output_type": "stream",
     "text": [
      "\r",
      " 42%|████▏     | 14/33 [12:02<16:20, 51.59s/it]"
     ]
    },
    {
     "name": "stdout",
     "output_type": "stream",
     "text": [
      "5..\n",
      "1..\n",
      "2..\n",
      "3..\n",
      "4..\n"
     ]
    },
    {
     "name": "stderr",
     "output_type": "stream",
     "text": [
      "\r",
      " 45%|████▌     | 15/33 [13:01<15:37, 52.08s/it]"
     ]
    },
    {
     "name": "stdout",
     "output_type": "stream",
     "text": [
      "5..\n",
      "1..\n",
      "2..\n",
      "3..\n",
      "4..\n"
     ]
    },
    {
     "name": "stderr",
     "output_type": "stream",
     "text": [
      "\r",
      " 48%|████▊     | 16/33 [14:16<15:09, 53.50s/it]"
     ]
    },
    {
     "name": "stdout",
     "output_type": "stream",
     "text": [
      "5..\n",
      "1..\n",
      "2..\n",
      "3..\n",
      "4..\n"
     ]
    },
    {
     "name": "stderr",
     "output_type": "stream",
     "text": [
      "\r",
      " 52%|█████▏    | 17/33 [15:26<14:32, 54.53s/it]"
     ]
    },
    {
     "name": "stdout",
     "output_type": "stream",
     "text": [
      "5..\n",
      "1..\n",
      "2..\n",
      "3..\n",
      "4..\n"
     ]
    },
    {
     "name": "stderr",
     "output_type": "stream",
     "text": [
      "\r",
      " 55%|█████▍    | 18/33 [16:35<13:49, 55.33s/it]"
     ]
    },
    {
     "name": "stdout",
     "output_type": "stream",
     "text": [
      "5..\n",
      "1..\n",
      "2..\n",
      "3..\n",
      "4..\n"
     ]
    },
    {
     "name": "stderr",
     "output_type": "stream",
     "text": [
      "\r",
      " 58%|█████▊    | 19/33 [17:31<12:55, 55.36s/it]"
     ]
    },
    {
     "name": "stdout",
     "output_type": "stream",
     "text": [
      "5..\n",
      "1..\n",
      "2..\n",
      "3..\n",
      "4..\n"
     ]
    },
    {
     "name": "stderr",
     "output_type": "stream",
     "text": [
      "\r",
      " 61%|██████    | 20/33 [18:37<12:06, 55.89s/it]"
     ]
    },
    {
     "name": "stdout",
     "output_type": "stream",
     "text": [
      "5..\n",
      "1..\n",
      "2..\n",
      "3..\n",
      "4..\n"
     ]
    },
    {
     "name": "stderr",
     "output_type": "stream",
     "text": [
      "\r",
      " 64%|██████▎   | 21/33 [19:17<11:01, 55.12s/it]"
     ]
    },
    {
     "name": "stdout",
     "output_type": "stream",
     "text": [
      "5..\n",
      "1..\n",
      "2..\n",
      "3..\n",
      "4..\n"
     ]
    },
    {
     "name": "stderr",
     "output_type": "stream",
     "text": [
      "\r",
      " 67%|██████▋   | 22/33 [20:09<10:04, 54.97s/it]"
     ]
    },
    {
     "name": "stdout",
     "output_type": "stream",
     "text": [
      "5..\n",
      "1..\n",
      "2..\n",
      "3..\n",
      "4..\n"
     ]
    },
    {
     "name": "stderr",
     "output_type": "stream",
     "text": [
      "\r",
      " 70%|██████▉   | 23/33 [21:42<09:26, 56.63s/it]"
     ]
    },
    {
     "name": "stdout",
     "output_type": "stream",
     "text": [
      "5..\n",
      "1..\n",
      "2..\n",
      "3..\n",
      "4..\n"
     ]
    },
    {
     "name": "stderr",
     "output_type": "stream",
     "text": [
      "\r",
      " 73%|███████▎  | 24/33 [23:14<08:43, 58.12s/it]"
     ]
    },
    {
     "name": "stdout",
     "output_type": "stream",
     "text": [
      "5..\n",
      "1..\n",
      "2..\n",
      "3..\n",
      "4..\n"
     ]
    },
    {
     "name": "stderr",
     "output_type": "stream",
     "text": [
      "\r",
      " 76%|███████▌  | 25/33 [24:42<07:54, 59.31s/it]"
     ]
    },
    {
     "name": "stdout",
     "output_type": "stream",
     "text": [
      "5..\n",
      "1..\n",
      "2..\n",
      "3..\n",
      "4..\n"
     ]
    },
    {
     "name": "stderr",
     "output_type": "stream",
     "text": [
      "\r",
      " 79%|███████▉  | 26/33 [26:13<07:03, 60.53s/it]"
     ]
    },
    {
     "name": "stdout",
     "output_type": "stream",
     "text": [
      "5..\n",
      "1..\n",
      "2..\n",
      "3..\n",
      "4..\n"
     ]
    },
    {
     "name": "stderr",
     "output_type": "stream",
     "text": [
      "\r",
      " 82%|████████▏ | 27/33 [27:40<06:09, 61.51s/it]"
     ]
    },
    {
     "name": "stdout",
     "output_type": "stream",
     "text": [
      "5..\n",
      "1..\n",
      "2..\n",
      "3..\n",
      "4..\n"
     ]
    },
    {
     "name": "stderr",
     "output_type": "stream",
     "text": [
      "\r",
      " 85%|████████▍ | 28/33 [29:07<05:12, 62.42s/it]"
     ]
    },
    {
     "name": "stdout",
     "output_type": "stream",
     "text": [
      "5..\n",
      "1..\n",
      "2..\n",
      "3..\n",
      "4..\n"
     ]
    },
    {
     "name": "stderr",
     "output_type": "stream",
     "text": [
      "\r",
      " 88%|████████▊ | 29/33 [30:32<04:12, 63.20s/it]"
     ]
    },
    {
     "name": "stdout",
     "output_type": "stream",
     "text": [
      "5..\n",
      "1..\n",
      "2..\n",
      "3..\n",
      "4..\n"
     ]
    },
    {
     "name": "stderr",
     "output_type": "stream",
     "text": [
      "\r",
      " 91%|█████████ | 30/33 [31:52<03:11, 63.74s/it]"
     ]
    },
    {
     "name": "stdout",
     "output_type": "stream",
     "text": [
      "5..\n",
      "1..\n",
      "2..\n",
      "3..\n",
      "4..\n"
     ]
    },
    {
     "name": "stderr",
     "output_type": "stream",
     "text": [
      "\r",
      " 94%|█████████▍| 31/33 [31:56<02:03, 61.83s/it]"
     ]
    },
    {
     "name": "stdout",
     "output_type": "stream",
     "text": [
      "5..\n",
      "1..\n",
      "2..\n",
      "3..\n",
      "4..\n"
     ]
    },
    {
     "name": "stderr",
     "output_type": "stream",
     "text": [
      "\r",
      " 97%|█████████▋| 32/33 [32:47<01:01, 61.49s/it]"
     ]
    },
    {
     "name": "stdout",
     "output_type": "stream",
     "text": [
      "5..\n",
      "1..\n",
      "2..\n",
      "3..\n",
      "4..\n"
     ]
    },
    {
     "name": "stderr",
     "output_type": "stream",
     "text": [
      "\r",
      "100%|██████████| 33/33 [33:31<00:00, 60.96s/it]"
     ]
    },
    {
     "name": "stdout",
     "output_type": "stream",
     "text": [
      "5..\n"
     ]
    },
    {
     "name": "stderr",
     "output_type": "stream",
     "text": [
      "\n"
     ]
    }
   ],
   "source": [
    "for shop_num in tqdm(range(22,55)):\n",
    "    df1 = pd.DataFrame()\n",
    "    \n",
    "    df1['unit_sales_mean_f_lag_1'] =0\n",
    "    df1['unit_sales_mean_f_lag_3'] = 0\n",
    "    df1['unit_sales_mean_f_lag_6'] = 0\n",
    "    df1['unit_sales_mean_f_lag_12'] = 0\n",
    "    df1['unit_sales_mean_f_lag_24'] = 0\n",
    "    \n",
    "    df1['unit_sales_median_f_lag_1'] =0\n",
    "    df1['unit_sales_median_f_lag_3'] = 0\n",
    "    df1['unit_sales_median_f_lag_6'] = 0\n",
    "    df1['unit_sales_median_f_lag_12'] = 0\n",
    "    df1['unit_sales_median_f_lag_24'] = 0\n",
    "    \n",
    "    df1['unit_sales_std_f_lag_1'] =0\n",
    "    df1['unit_sales_std_f_lag_3'] = 0\n",
    "    df1['unit_sales_std_f_lag_6'] = 0\n",
    "    df1['unit_sales_std_f_lag_12'] = 0\n",
    "    df1['unit_sales_std_f_lag_24'] = 0\n",
    "    \n",
    "    fn = '../cache/lag1_sales_mean_rs_df_shop{}.csv'.format(shop_num)\n",
    "    df2 = pd.read_csv(fn)\n",
    "    \n",
    "    fn = '../cache/lag3_sales_mean_rs_df_shop{}.csv'.format(shop_num)\n",
    "    df3 = pd.read_csv(fn)\n",
    "    \n",
    "    fn = '../cache/lag6_sales_mean_rs_df_shop{}.csv'.format(shop_num)\n",
    "    df4 = pd.read_csv(fn)\n",
    "    \n",
    "    fn = '../cache/lag12_sales_mean_rs_df_shop{}.csv'.format(shop_num)\n",
    "    df5 = pd.read_csv(fn)\n",
    "    \n",
    "    fn = '../cache/lag24_sales_mean_rs_df_shop{}.csv'.format(shop_num)\n",
    "    df6 = pd.read_csv(fn)\n",
    "    print('1..')\n",
    "    df1['id'] = df2['id'].values\n",
    "    if len(df2.columns) > 1:\n",
    "        df1['unit_sales_mean_f_lag_1'] = df2.unit_sales_mean_f_lag_1.values\n",
    "        \n",
    "    if len(df3.columns) > 1:\n",
    "        df1['unit_sales_mean_f_lag_3'] = df3.unit_sales_mean_f_lag_3.values\n",
    "        \n",
    "        \n",
    "    if len(df4.columns) > 1:\n",
    "        df1['unit_sales_mean_f_lag_6'] = df4.unit_sales_mean_f_lag_6.values\n",
    "        \n",
    "    if len(df5.columns) > 1:\n",
    "        df1['unit_sales_mean_f_lag_12'] = df5.unit_sales_mean_f_lag_12.values\n",
    "        \n",
    "    if len(df6.columns) > 1:\n",
    "        df1['unit_sales_mean_f_lag_24'] = df6.unit_sales_mean_f_lag_24.values\n",
    "     \n",
    "    del df2, df3, df4, df5, df6\n",
    "    print('2..')\n",
    "    fn = '../cache/lag1_sales_median_rs_df_shop{}.csv'.format(shop_num)\n",
    "    df2 = pd.read_csv(fn)\n",
    "    \n",
    "    fn = '../cache/lag3_sales_median_rs_df_shop{}.csv'.format(shop_num)\n",
    "    df3 = pd.read_csv(fn)\n",
    "    \n",
    "    fn = '../cache/lag6_sales_median_rs_df_shop{}.csv'.format(shop_num)\n",
    "    df4 = pd.read_csv(fn)\n",
    "    \n",
    "    fn = '../cache/lag12_sales_median_rs_df_shop{}.csv'.format(shop_num)\n",
    "    df5 = pd.read_csv(fn)\n",
    "    \n",
    "    fn = '../cache/lag24_sales_median_rs_df_shop{}.csv'.format(shop_num)\n",
    "    df6 = pd.read_csv(fn)\n",
    "    print('3..')\n",
    "#     df1['id'] = df2['id'].values\n",
    "    if len(df2.columns) > 1:\n",
    "        df1['unit_sales_median_f_lag_1'] = df2.unit_sales_median_f_lag_1.values\n",
    "        \n",
    "    if len(df3.columns) > 1:\n",
    "        df1['unit_sales_median_f_lag_3'] = df3.unit_sales_median_f_lag_3.values\n",
    "        \n",
    "        \n",
    "    if len(df4.columns) > 1:\n",
    "        df1['unit_sales_median_f_lag_6'] = df4.unit_sales_median_f_lag_6.values\n",
    "        \n",
    "    if len(df5.columns) > 1:\n",
    "        df1['unit_sales_median_f_lag_12'] = df5.unit_sales_median_f_lag_12.values\n",
    "        \n",
    "    if len(df6.columns) > 1:\n",
    "        df1['unit_sales_median_f_lag_24'] = df6.unit_sales_median_f_lag_24.values\n",
    "     \n",
    "    del df2, df3, df4, df5, df6\n",
    "    print('4..')\n",
    "    fn = '../cache/lag1_sales_std_rs_df_shop{}.csv'.format(shop_num)\n",
    "    df2 = pd.read_csv(fn)\n",
    "    \n",
    "    fn = '../cache/lag3_sales_std_rs_df_shop{}.csv'.format(shop_num)\n",
    "    df3 = pd.read_csv(fn)\n",
    "    \n",
    "    fn = '../cache/lag6_sales_std_rs_df_shop{}.csv'.format(shop_num)\n",
    "    df4 = pd.read_csv(fn)\n",
    "    \n",
    "    fn = '../cache/lag12_sales_std_rs_df_shop{}.csv'.format(shop_num)\n",
    "    df5 = pd.read_csv(fn)\n",
    "    \n",
    "    fn = '../cache/lag24_sales_std_rs_df_shop{}.csv'.format(shop_num)\n",
    "    df6 = pd.read_csv(fn)\n",
    "    \n",
    "#     df1['id'] = df2['id'].values\n",
    "    if len(df2.columns) > 1:\n",
    "        df1['unit_sales_std_f_lag_1'] = df2.unit_sales_std_f_lag_1.values\n",
    "        \n",
    "    if len(df3.columns) > 1:\n",
    "        df1['unit_sales_std_f_lag_3'] = df3.unit_sales_std_f_lag_3.values\n",
    "        \n",
    "        \n",
    "    if len(df4.columns) > 1:\n",
    "        df1['unit_sales_std_f_lag_6'] = df4.unit_sales_std_f_lag_6.values\n",
    "        \n",
    "    if len(df5.columns) > 1:\n",
    "        df1['unit_sales_std_f_lag_12'] = df5.unit_sales_std_f_lag_12.values\n",
    "        \n",
    "    if len(df6.columns) > 1:\n",
    "        df1['unit_sales_std_f_lag_24'] = df6.unit_sales_std_f_lag_24.values\n",
    "        \n",
    "    fn = '../cache/df_all_lag_shop{}.csv'.format(shop_num)\n",
    "    delete_file_if_exists(fn)\n",
    "    \n",
    "#     const_col = []\n",
    "#     for col in df1.columns:\n",
    "#         c = len(set(df1[col].values))\n",
    "#         if c==1:\n",
    "#             const_col.append(col)\n",
    "#     if len(const_col) > 0:\n",
    "#         c = len(const_col)\n",
    "#         print(shop_num)\n",
    "#         print(c)\n",
    "#         print(df1.shape)\n",
    "#         print(const_col)\n",
    "    df1.to_csv(fn, float_format='%.5f', index=False)\n",
    "    del df1\n",
    "    del df2, df3, df4, df5, df6\n",
    "    print('5..')\n",
    "    gc.collect()"
   ]
  },
  {
   "cell_type": "code",
   "execution_count": 4,
   "metadata": {
    "collapsed": true
   },
   "outputs": [],
   "source": [
    "for shop_num in range(1,55):\n",
    "    fn = '../cache/df_all_lag_shop{}.csv'.format(shop_num)\n",
    "    df = pd.read_csv(fn)\n",
    "    fn1 = '../cache/df_all_rs_lag_shop{}.csv'.format(shop_num)\n",
    "    df.to_csv(fn1, float_format='%.5f', index=False)\n",
    "    delete_file_if_exists(fn)\n",
    "    del df"
   ]
  },
  {
   "cell_type": "code",
   "execution_count": 3,
   "metadata": {
    "collapsed": false
   },
   "outputs": [
    {
     "name": "stderr",
     "output_type": "stream",
     "text": [
      "\r",
      "  0%|          | 0/54 [00:00<?, ?it/s]"
     ]
    },
    {
     "name": "stdout",
     "output_type": "stream",
     "text": [
      "../cache/bkup2/test7_1_t_store1.csv\n"
     ]
    },
    {
     "name": "stderr",
     "output_type": "stream",
     "text": [
      "/home/watts/anaconda2/envs/sdp35/lib/python3.5/site-packages/IPython/core/interactiveshell.py:2728: DtypeWarning: Columns (5) have mixed types. Specify dtype option on import or set low_memory=False.\n",
      "  interactivity=interactivity, compiler=compiler, result=result)\n",
      "  2%|▏         | 1/54 [01:52<1:39:26, 112.57s/it]"
     ]
    },
    {
     "name": "stdout",
     "output_type": "stream",
     "text": [
      "../cache/bkup2/test7_1_t_store2.csv\n"
     ]
    },
    {
     "name": "stderr",
     "output_type": "stream",
     "text": [
      "\r",
      "  4%|▎         | 2/54 [03:59<1:43:55, 119.91s/it]"
     ]
    },
    {
     "name": "stdout",
     "output_type": "stream",
     "text": [
      "../cache/bkup2/test7_1_t_store3.csv\n"
     ]
    },
    {
     "name": "stderr",
     "output_type": "stream",
     "text": [
      "\r",
      "  6%|▌         | 3/54 [06:40<1:53:35, 133.63s/it]"
     ]
    },
    {
     "name": "stdout",
     "output_type": "stream",
     "text": [
      "../cache/bkup2/test7_1_t_store4.csv\n"
     ]
    },
    {
     "name": "stderr",
     "output_type": "stream",
     "text": [
      "\r",
      "  7%|▋         | 4/54 [08:50<1:50:30, 132.62s/it]"
     ]
    },
    {
     "name": "stdout",
     "output_type": "stream",
     "text": [
      "../cache/bkup2/test7_1_t_store5.csv\n"
     ]
    },
    {
     "name": "stderr",
     "output_type": "stream",
     "text": [
      "\r",
      "  9%|▉         | 5/54 [10:54<1:46:54, 130.91s/it]"
     ]
    },
    {
     "name": "stdout",
     "output_type": "stream",
     "text": [
      "../cache/bkup2/test7_1_t_store6.csv\n"
     ]
    },
    {
     "name": "stderr",
     "output_type": "stream",
     "text": [
      "\r",
      " 11%|█         | 6/54 [13:18<1:46:31, 133.17s/it]"
     ]
    },
    {
     "name": "stdout",
     "output_type": "stream",
     "text": [
      "../cache/bkup2/test7_1_t_store7.csv\n"
     ]
    },
    {
     "name": "stderr",
     "output_type": "stream",
     "text": [
      "\r",
      " 13%|█▎        | 7/54 [15:29<1:44:00, 132.77s/it]"
     ]
    },
    {
     "name": "stdout",
     "output_type": "stream",
     "text": [
      "../cache/bkup2/test7_1_t_store8.csv\n"
     ]
    },
    {
     "name": "stderr",
     "output_type": "stream",
     "text": [
      "\r",
      " 15%|█▍        | 8/54 [17:59<1:43:24, 134.88s/it]"
     ]
    },
    {
     "name": "stdout",
     "output_type": "stream",
     "text": [
      "../cache/bkup2/test7_1_t_store9.csv\n"
     ]
    },
    {
     "name": "stderr",
     "output_type": "stream",
     "text": [
      "\r",
      " 17%|█▋        | 9/54 [20:09<1:40:49, 134.44s/it]"
     ]
    },
    {
     "name": "stdout",
     "output_type": "stream",
     "text": [
      "../cache/bkup2/test7_1_t_store10.csv\n"
     ]
    },
    {
     "name": "stderr",
     "output_type": "stream",
     "text": [
      "\r",
      " 19%|█▊        | 10/54 [21:31<1:34:42, 129.16s/it]"
     ]
    },
    {
     "name": "stdout",
     "output_type": "stream",
     "text": [
      "../cache/bkup2/test7_1_t_store11.csv\n"
     ]
    },
    {
     "name": "stderr",
     "output_type": "stream",
     "text": [
      "\r",
      " 20%|██        | 11/54 [23:31<1:31:57, 128.30s/it]"
     ]
    },
    {
     "name": "stdout",
     "output_type": "stream",
     "text": [
      "../cache/bkup2/test7_1_t_store12.csv\n"
     ]
    },
    {
     "name": "stderr",
     "output_type": "stream",
     "text": [
      "\r",
      " 22%|██▏       | 12/54 [24:56<1:27:18, 124.73s/it]"
     ]
    },
    {
     "name": "stdout",
     "output_type": "stream",
     "text": [
      "../cache/bkup2/test7_1_t_store13.csv\n"
     ]
    },
    {
     "name": "stderr",
     "output_type": "stream",
     "text": [
      "\r",
      " 24%|██▍       | 13/54 [26:17<1:22:55, 121.37s/it]"
     ]
    },
    {
     "name": "stdout",
     "output_type": "stream",
     "text": [
      "../cache/bkup2/test7_1_t_store14.csv\n"
     ]
    },
    {
     "name": "stderr",
     "output_type": "stream",
     "text": [
      "\r",
      " 26%|██▌       | 14/54 [27:43<1:19:12, 118.81s/it]"
     ]
    },
    {
     "name": "stdout",
     "output_type": "stream",
     "text": [
      "../cache/bkup2/test7_1_t_store15.csv\n"
     ]
    },
    {
     "name": "stderr",
     "output_type": "stream",
     "text": [
      "\r",
      " 28%|██▊       | 15/54 [29:13<1:15:59, 116.90s/it]"
     ]
    },
    {
     "name": "stdout",
     "output_type": "stream",
     "text": [
      "../cache/bkup2/test7_1_t_store16.csv\n"
     ]
    },
    {
     "name": "stderr",
     "output_type": "stream",
     "text": [
      "\r",
      " 30%|██▉       | 16/54 [30:38<1:12:45, 114.88s/it]"
     ]
    },
    {
     "name": "stdout",
     "output_type": "stream",
     "text": [
      "../cache/bkup2/test7_1_t_store17.csv\n"
     ]
    },
    {
     "name": "stderr",
     "output_type": "stream",
     "text": [
      "\r",
      " 31%|███▏      | 17/54 [32:20<1:10:24, 114.17s/it]"
     ]
    },
    {
     "name": "stdout",
     "output_type": "stream",
     "text": [
      "../cache/bkup2/test7_1_t_store18.csv\n"
     ]
    },
    {
     "name": "stderr",
     "output_type": "stream",
     "text": [
      "\r",
      " 33%|███▎      | 18/54 [34:01<1:08:02, 113.41s/it]"
     ]
    },
    {
     "name": "stdout",
     "output_type": "stream",
     "text": [
      "../cache/bkup2/test7_1_t_store19.csv\n"
     ]
    },
    {
     "name": "stderr",
     "output_type": "stream",
     "text": [
      "\r",
      " 35%|███▌      | 19/54 [35:28<1:05:20, 112.01s/it]"
     ]
    },
    {
     "name": "stdout",
     "output_type": "stream",
     "text": [
      "../cache/bkup2/test7_1_t_store20.csv\n"
     ]
    },
    {
     "name": "stderr",
     "output_type": "stream",
     "text": [
      "\r",
      " 37%|███▋      | 20/54 [37:10<1:03:12, 111.54s/it]"
     ]
    },
    {
     "name": "stdout",
     "output_type": "stream",
     "text": [
      "../cache/bkup2/test7_1_t_store21.csv\n"
     ]
    },
    {
     "name": "stderr",
     "output_type": "stream",
     "text": [
      "\r",
      " 39%|███▉      | 21/54 [38:35<1:00:38, 110.26s/it]"
     ]
    },
    {
     "name": "stdout",
     "output_type": "stream",
     "text": [
      "../cache/bkup2/test7_1_t_store22.csv\n"
     ]
    },
    {
     "name": "stderr",
     "output_type": "stream",
     "text": [
      "\r",
      " 41%|████      | 22/54 [39:25<57:20, 107.52s/it]  "
     ]
    },
    {
     "name": "stdout",
     "output_type": "stream",
     "text": [
      "../cache/bkup2/test7_1_t_store23.csv\n"
     ]
    },
    {
     "name": "stderr",
     "output_type": "stream",
     "text": [
      "\r",
      " 43%|████▎     | 23/54 [41:15<55:37, 107.65s/it]"
     ]
    },
    {
     "name": "stdout",
     "output_type": "stream",
     "text": [
      "../cache/bkup2/test7_1_t_store24.csv\n"
     ]
    },
    {
     "name": "stderr",
     "output_type": "stream",
     "text": [
      "\r",
      " 44%|████▍     | 24/54 [43:26<54:18, 108.61s/it]"
     ]
    },
    {
     "name": "stdout",
     "output_type": "stream",
     "text": [
      "../cache/bkup2/test7_1_t_store25.csv\n"
     ]
    },
    {
     "name": "stderr",
     "output_type": "stream",
     "text": [
      "\r",
      " 46%|████▋     | 25/54 [44:59<52:11, 107.98s/it]"
     ]
    },
    {
     "name": "stdout",
     "output_type": "stream",
     "text": [
      "../cache/bkup2/test7_1_t_store26.csv\n"
     ]
    },
    {
     "name": "stderr",
     "output_type": "stream",
     "text": [
      "\r",
      " 48%|████▊     | 26/54 [46:19<49:53, 106.92s/it]"
     ]
    },
    {
     "name": "stdout",
     "output_type": "stream",
     "text": [
      "../cache/bkup2/test7_1_t_store27.csv\n"
     ]
    },
    {
     "name": "stderr",
     "output_type": "stream",
     "text": [
      "\r",
      " 50%|█████     | 27/54 [48:17<48:17, 107.31s/it]"
     ]
    },
    {
     "name": "stdout",
     "output_type": "stream",
     "text": [
      "../cache/bkup2/test7_1_t_store28.csv\n"
     ]
    },
    {
     "name": "stderr",
     "output_type": "stream",
     "text": [
      "\r",
      " 52%|█████▏    | 28/54 [50:07<46:32, 107.39s/it]"
     ]
    },
    {
     "name": "stdout",
     "output_type": "stream",
     "text": [
      "../cache/bkup2/test7_1_t_store29.csv\n"
     ]
    },
    {
     "name": "stderr",
     "output_type": "stream",
     "text": [
      "\r",
      " 54%|█████▎    | 29/54 [51:42<44:34, 106.97s/it]"
     ]
    },
    {
     "name": "stdout",
     "output_type": "stream",
     "text": [
      "../cache/bkup2/test7_1_t_store30.csv\n"
     ]
    },
    {
     "name": "stderr",
     "output_type": "stream",
     "text": [
      "\r",
      " 56%|█████▌    | 30/54 [52:56<42:21, 105.89s/it]"
     ]
    },
    {
     "name": "stdout",
     "output_type": "stream",
     "text": [
      "../cache/bkup2/test7_1_t_store31.csv\n"
     ]
    },
    {
     "name": "stderr",
     "output_type": "stream",
     "text": [
      "\r",
      " 57%|█████▋    | 31/54 [54:49<40:40, 106.11s/it]"
     ]
    },
    {
     "name": "stdout",
     "output_type": "stream",
     "text": [
      "../cache/bkup2/test7_1_t_store32.csv\n"
     ]
    },
    {
     "name": "stderr",
     "output_type": "stream",
     "text": [
      "\r",
      " 59%|█████▉    | 32/54 [55:55<38:26, 104.85s/it]"
     ]
    },
    {
     "name": "stdout",
     "output_type": "stream",
     "text": [
      "../cache/bkup2/test7_1_t_store33.csv\n"
     ]
    },
    {
     "name": "stderr",
     "output_type": "stream",
     "text": [
      "\r",
      " 61%|██████    | 33/54 [57:23<36:31, 104.36s/it]"
     ]
    },
    {
     "name": "stdout",
     "output_type": "stream",
     "text": [
      "../cache/bkup2/test7_1_t_store34.csv\n"
     ]
    },
    {
     "name": "stderr",
     "output_type": "stream",
     "text": [
      "\r",
      " 63%|██████▎   | 34/54 [59:11<34:49, 104.45s/it]"
     ]
    },
    {
     "name": "stdout",
     "output_type": "stream",
     "text": [
      "../cache/bkup2/test7_1_t_store35.csv\n"
     ]
    },
    {
     "name": "stderr",
     "output_type": "stream",
     "text": [
      "\r",
      " 65%|██████▍   | 35/54 [1:00:16<32:43, 103.33s/it]"
     ]
    },
    {
     "name": "stdout",
     "output_type": "stream",
     "text": [
      "../cache/bkup2/test7_1_t_store36.csv\n"
     ]
    },
    {
     "name": "stderr",
     "output_type": "stream",
     "text": [
      "\r",
      " 67%|██████▋   | 36/54 [1:02:01<31:00, 103.38s/it]"
     ]
    },
    {
     "name": "stdout",
     "output_type": "stream",
     "text": [
      "../cache/bkup2/test7_1_t_store37.csv\n"
     ]
    },
    {
     "name": "stderr",
     "output_type": "stream",
     "text": [
      "\r",
      " 69%|██████▊   | 37/54 [1:04:12<29:29, 104.12s/it]"
     ]
    },
    {
     "name": "stdout",
     "output_type": "stream",
     "text": [
      "../cache/bkup2/test7_1_t_store38.csv\n"
     ]
    },
    {
     "name": "stderr",
     "output_type": "stream",
     "text": [
      "\r",
      " 70%|███████   | 38/54 [1:06:17<27:54, 104.68s/it]"
     ]
    },
    {
     "name": "stdout",
     "output_type": "stream",
     "text": [
      "../cache/bkup2/test7_1_t_store39.csv\n"
     ]
    },
    {
     "name": "stderr",
     "output_type": "stream",
     "text": [
      "\r",
      " 72%|███████▏  | 39/54 [1:08:22<26:17, 105.20s/it]"
     ]
    },
    {
     "name": "stdout",
     "output_type": "stream",
     "text": [
      "../cache/bkup2/test7_1_t_store40.csv\n"
     ]
    },
    {
     "name": "stderr",
     "output_type": "stream",
     "text": [
      "\r",
      " 74%|███████▍  | 40/54 [1:10:02<24:30, 105.06s/it]"
     ]
    },
    {
     "name": "stdout",
     "output_type": "stream",
     "text": [
      "../cache/bkup2/test7_1_t_store41.csv\n"
     ]
    },
    {
     "name": "stderr",
     "output_type": "stream",
     "text": [
      "\r",
      " 76%|███████▌  | 41/54 [1:12:02<22:50, 105.42s/it]"
     ]
    },
    {
     "name": "stdout",
     "output_type": "stream",
     "text": [
      "../cache/bkup2/test7_1_t_store42.csv\n"
     ]
    },
    {
     "name": "stderr",
     "output_type": "stream",
     "text": [
      "\r",
      " 78%|███████▊  | 42/54 [1:13:30<21:00, 105.00s/it]"
     ]
    },
    {
     "name": "stdout",
     "output_type": "stream",
     "text": [
      "../cache/bkup2/test7_1_t_store43.csv\n"
     ]
    },
    {
     "name": "stderr",
     "output_type": "stream",
     "text": [
      "\r",
      " 80%|███████▉  | 43/54 [1:15:00<19:11, 104.66s/it]"
     ]
    },
    {
     "name": "stdout",
     "output_type": "stream",
     "text": [
      "../cache/bkup2/test7_1_t_store44.csv\n"
     ]
    },
    {
     "name": "stderr",
     "output_type": "stream",
     "text": [
      "\r",
      " 81%|████████▏ | 44/54 [1:17:48<17:41, 106.10s/it]"
     ]
    },
    {
     "name": "stdout",
     "output_type": "stream",
     "text": [
      "../cache/bkup2/test7_1_t_store45.csv\n"
     ]
    },
    {
     "name": "stderr",
     "output_type": "stream",
     "text": [
      "\r",
      " 83%|████████▎ | 45/54 [1:20:35<16:07, 107.46s/it]"
     ]
    },
    {
     "name": "stdout",
     "output_type": "stream",
     "text": [
      "../cache/bkup2/test7_1_t_store46.csv\n"
     ]
    },
    {
     "name": "stderr",
     "output_type": "stream",
     "text": [
      "\r",
      " 85%|████████▌ | 46/54 [1:23:12<14:28, 108.53s/it]"
     ]
    },
    {
     "name": "stdout",
     "output_type": "stream",
     "text": [
      "../cache/bkup2/test7_1_t_store47.csv\n"
     ]
    },
    {
     "name": "stderr",
     "output_type": "stream",
     "text": [
      "\r",
      " 87%|████████▋ | 47/54 [1:25:50<12:47, 109.59s/it]"
     ]
    },
    {
     "name": "stdout",
     "output_type": "stream",
     "text": [
      "../cache/bkup2/test7_1_t_store48.csv\n"
     ]
    },
    {
     "name": "stderr",
     "output_type": "stream",
     "text": [
      "\r",
      " 89%|████████▉ | 48/54 [1:28:22<11:02, 110.46s/it]"
     ]
    },
    {
     "name": "stdout",
     "output_type": "stream",
     "text": [
      "../cache/bkup2/test7_1_t_store49.csv\n"
     ]
    },
    {
     "name": "stderr",
     "output_type": "stream",
     "text": [
      "\r",
      " 91%|█████████ | 49/54 [1:30:57<09:16, 111.38s/it]"
     ]
    },
    {
     "name": "stdout",
     "output_type": "stream",
     "text": [
      "../cache/bkup2/test7_1_t_store50.csv\n"
     ]
    },
    {
     "name": "stderr",
     "output_type": "stream",
     "text": [
      "\r",
      " 93%|█████████▎| 50/54 [1:33:24<07:28, 112.08s/it]"
     ]
    },
    {
     "name": "stdout",
     "output_type": "stream",
     "text": [
      "../cache/bkup2/test7_1_t_store51.csv\n"
     ]
    },
    {
     "name": "stderr",
     "output_type": "stream",
     "text": [
      "\r",
      " 94%|█████████▍| 51/54 [1:35:42<05:37, 112.59s/it]"
     ]
    },
    {
     "name": "stdout",
     "output_type": "stream",
     "text": [
      "../cache/bkup2/test7_1_t_store52.csv\n"
     ]
    },
    {
     "name": "stderr",
     "output_type": "stream",
     "text": [
      "\r",
      " 96%|█████████▋| 52/54 [1:35:53<03:41, 110.64s/it]"
     ]
    },
    {
     "name": "stdout",
     "output_type": "stream",
     "text": [
      "../cache/bkup2/test7_1_t_store53.csv\n"
     ]
    },
    {
     "name": "stderr",
     "output_type": "stream",
     "text": [
      "\r",
      " 98%|█████████▊| 53/54 [1:37:41<01:50, 110.59s/it]"
     ]
    },
    {
     "name": "stdout",
     "output_type": "stream",
     "text": [
      "../cache/bkup2/test7_1_t_store54.csv\n"
     ]
    },
    {
     "name": "stderr",
     "output_type": "stream",
     "text": [
      "100%|██████████| 54/54 [1:38:58<00:00, 109.98s/it]\n"
     ]
    }
   ],
   "source": [
    "for shop_num in tqdm(range(1,55)):\n",
    "    fn_org = '../cache/bkup/train10_t_store{}.csv'.format(shop_num)\n",
    "    fn_org1 = '../cache/bkup2/test7_1_t_store{}.csv'.format(shop_num)\n",
    "    print(fn_org1)\n",
    "    train_org = pd.read_csv(fn_org)\n",
    "    test_org = pd.read_csv(fn_org1)\n",
    "    df_shop_all = pd.concat([train_org, test_org], axis=0)\n",
    "    \n",
    "#     fn_org = '../cache/bkup/train10_t_store{}.csv'.format(shop_num)\n",
    "#     train_org = pd.read_csv(fn_org)\n",
    "    \n",
    "    fn = '../cache/df_all_rs_lag_shop{}.csv'.format(shop_num)\n",
    "    df = pd.read_csv(fn)\n",
    "    df['date'] = df_shop_all.date.values\n",
    "    \n",
    "    df_train = df[:len(train_org)]\n",
    "    df_train = df_train[(df_train.date.astype('str') >= str('2015-01-01')) & \n",
    "                        (df_train.date.astype('str') <= str('2017-08-15'))]\n",
    "    df_train = df_train.drop('date', axis=1)\n",
    "    \n",
    "    df_test = df[len(train_org):]\n",
    "    df_test = df_test.drop('date', axis=1)\n",
    "    assert(len(test_org) == len(df_test))\n",
    "    \n",
    "    fn_tr = '../cache/df_train10_t_rs_lag_shop{}.csv'.format(shop_num)\n",
    "    fn_te = '../cache/df_test7_1_rs_lag_shop{}.csv'.format(shop_num)\n",
    "    delete_file_if_exists(fn_tr)\n",
    "    delete_file_if_exists(fn_te)\n",
    "    \n",
    "    df_train.to_csv(fn_tr, index=False, float_format='%.5f')\n",
    "    df_test.to_csv(fn_te, index=False, float_format='%.5f')\n",
    "    \n",
    "    del df_shop_all\n",
    "    del train_org, test_org\n",
    "    del df_train\n",
    "    del df_test"
   ]
  },
  {
   "cell_type": "code",
   "execution_count": 10,
   "metadata": {
    "collapsed": false
   },
   "outputs": [
    {
     "name": "stdout",
     "output_type": "stream",
     "text": [
      "../cache/bkup2/test7_1_t_store1.csv\n"
     ]
    },
    {
     "name": "stderr",
     "output_type": "stream",
     "text": [
      "/home/watts/anaconda2/envs/sdp35/lib/python3.5/site-packages/IPython/core/interactiveshell.py:2850: DtypeWarning: Columns (5) have mixed types. Specify dtype option on import or set low_memory=False.\n",
      "  if self.run_code(code, result):\n",
      "100%|██████████| 16/16 [01:38<00:00,  6.16s/it]\n"
     ]
    },
    {
     "name": "stdout",
     "output_type": "stream",
     "text": [
      "(2624569, 28)\n",
      "(62416, 28)\n",
      "(16, 31)\n",
      "0\n",
      "56\n",
      "../cache/test7_1_t_store1_recent_stats_1.csv\n",
      "(62416, 57)\n",
      "../cache/bkup2/test7_1_t_store2.csv\n"
     ]
    },
    {
     "name": "stderr",
     "output_type": "stream",
     "text": [
      "100%|██████████| 16/16 [01:54<00:00,  7.17s/it]\n"
     ]
    },
    {
     "name": "stdout",
     "output_type": "stream",
     "text": [
      "(3050256, 28)\n",
      "(62416, 28)\n",
      "(16, 31)\n",
      "0\n",
      "56\n",
      "../cache/test7_1_t_store2_recent_stats_1.csv\n",
      "(62416, 57)\n",
      "../cache/bkup2/test7_1_t_store3.csv\n"
     ]
    },
    {
     "name": "stderr",
     "output_type": "stream",
     "text": [
      "100%|██████████| 16/16 [02:09<00:00,  8.11s/it]\n"
     ]
    },
    {
     "name": "stdout",
     "output_type": "stream",
     "text": [
      "(3463680, 28)\n",
      "(62416, 28)\n",
      "(16, 31)\n",
      "0\n",
      "56\n",
      "../cache/test7_1_t_store3_recent_stats_1.csv\n",
      "(62416, 57)\n",
      "../cache/bkup2/test7_1_t_store4.csv\n"
     ]
    },
    {
     "name": "stderr",
     "output_type": "stream",
     "text": [
      "100%|██████████| 16/16 [01:48<00:00,  6.77s/it]\n"
     ]
    },
    {
     "name": "stdout",
     "output_type": "stream",
     "text": [
      "(2892970, 28)\n",
      "(62416, 28)\n",
      "(16, 31)\n",
      "0\n",
      "56\n",
      "../cache/test7_1_t_store4_recent_stats_1.csv\n",
      "(62416, 57)\n",
      "../cache/bkup2/test7_1_t_store5.csv\n"
     ]
    },
    {
     "name": "stderr",
     "output_type": "stream",
     "text": [
      "100%|██████████| 16/16 [01:42<00:00,  6.39s/it]\n"
     ]
    },
    {
     "name": "stdout",
     "output_type": "stream",
     "text": [
      "(2729107, 28)\n",
      "(62416, 28)\n",
      "(16, 31)\n",
      "0\n",
      "56\n",
      "../cache/test7_1_t_store5_recent_stats_1.csv\n",
      "(62416, 57)\n",
      "../cache/bkup2/test7_1_t_store6.csv\n"
     ]
    },
    {
     "name": "stderr",
     "output_type": "stream",
     "text": [
      "100%|██████████| 16/16 [01:58<00:00,  7.38s/it]\n"
     ]
    },
    {
     "name": "stdout",
     "output_type": "stream",
     "text": [
      "(3152215, 28)\n",
      "(62416, 28)\n",
      "(16, 31)\n",
      "0\n",
      "56\n",
      "../cache/test7_1_t_store6_recent_stats_1.csv\n",
      "(62416, 57)\n",
      "../cache/bkup2/test7_1_t_store7.csv\n"
     ]
    },
    {
     "name": "stderr",
     "output_type": "stream",
     "text": [
      "100%|██████████| 16/16 [01:52<00:00,  7.00s/it]\n"
     ]
    },
    {
     "name": "stdout",
     "output_type": "stream",
     "text": [
      "(2983620, 28)\n",
      "(62416, 28)\n",
      "(16, 31)\n",
      "0\n",
      "56\n",
      "../cache/test7_1_t_store7_recent_stats_1.csv\n",
      "(62416, 57)\n",
      "../cache/bkup2/test7_1_t_store8.csv\n"
     ]
    },
    {
     "name": "stderr",
     "output_type": "stream",
     "text": [
      "100%|██████████| 16/16 [02:04<00:00,  7.79s/it]\n"
     ]
    },
    {
     "name": "stdout",
     "output_type": "stream",
     "text": [
      "(3323600, 28)\n",
      "(62416, 28)\n",
      "(16, 31)\n",
      "0\n",
      "56\n",
      "../cache/test7_1_t_store8_recent_stats_1.csv\n",
      "(62416, 57)\n",
      "../cache/bkup2/test7_1_t_store9.csv\n"
     ]
    },
    {
     "name": "stderr",
     "output_type": "stream",
     "text": [
      "100%|██████████| 16/16 [01:46<00:00,  6.65s/it]\n"
     ]
    },
    {
     "name": "stdout",
     "output_type": "stream",
     "text": [
      "(2836206, 28)\n",
      "(62416, 28)\n",
      "(16, 31)\n",
      "0\n",
      "56\n",
      "../cache/test7_1_t_store9_recent_stats_1.csv\n",
      "(62416, 57)\n",
      "../cache/bkup2/test7_1_t_store10.csv\n"
     ]
    },
    {
     "name": "stderr",
     "output_type": "stream",
     "text": [
      "100%|██████████| 16/16 [01:07<00:00,  4.23s/it]\n"
     ]
    },
    {
     "name": "stdout",
     "output_type": "stream",
     "text": [
      "(1802898, 28)\n",
      "(62416, 28)\n",
      "(16, 31)\n",
      "0\n",
      "56\n",
      "../cache/test7_1_t_store10_recent_stats_1.csv\n",
      "(62416, 57)\n",
      "../cache/bkup2/test7_1_t_store11.csv\n"
     ]
    },
    {
     "name": "stderr",
     "output_type": "stream",
     "text": [
      "100%|██████████| 16/16 [01:39<00:00,  6.19s/it]\n"
     ]
    },
    {
     "name": "stdout",
     "output_type": "stream",
     "text": [
      "(2630698, 28)\n",
      "(62416, 28)\n",
      "(16, 31)\n",
      "0\n",
      "56\n",
      "../cache/test7_1_t_store11_recent_stats_1.csv\n",
      "(62416, 57)\n",
      "../cache/bkup2/test7_1_t_store12.csv\n"
     ]
    },
    {
     "name": "stderr",
     "output_type": "stream",
     "text": [
      "100%|██████████| 16/16 [01:11<00:00,  4.47s/it]\n"
     ]
    },
    {
     "name": "stdout",
     "output_type": "stream",
     "text": [
      "(1898999, 28)\n",
      "(62416, 28)\n",
      "(16, 31)\n",
      "0\n",
      "56\n",
      "../cache/test7_1_t_store12_recent_stats_1.csv\n",
      "(62416, 57)\n",
      "../cache/bkup2/test7_1_t_store13.csv\n"
     ]
    },
    {
     "name": "stderr",
     "output_type": "stream",
     "text": [
      "100%|██████████| 16/16 [01:07<00:00,  4.25s/it]\n"
     ]
    },
    {
     "name": "stdout",
     "output_type": "stream",
     "text": [
      "(1799144, 28)\n",
      "(62416, 28)\n",
      "(16, 31)\n",
      "0\n",
      "56\n",
      "../cache/test7_1_t_store13_recent_stats_1.csv\n",
      "(62416, 57)\n",
      "../cache/bkup2/test7_1_t_store14.csv\n"
     ]
    },
    {
     "name": "stderr",
     "output_type": "stream",
     "text": [
      "100%|██████████| 16/16 [01:10<00:00,  4.39s/it]\n"
     ]
    },
    {
     "name": "stdout",
     "output_type": "stream",
     "text": [
      "(1868357, 28)\n",
      "(62416, 28)\n",
      "(16, 31)\n",
      "0\n",
      "56\n",
      "../cache/test7_1_t_store14_recent_stats_1.csv\n",
      "(62416, 57)\n",
      "../cache/bkup2/test7_1_t_store15.csv\n"
     ]
    },
    {
     "name": "stderr",
     "output_type": "stream",
     "text": [
      "100%|██████████| 16/16 [01:15<00:00,  4.71s/it]\n"
     ]
    },
    {
     "name": "stdout",
     "output_type": "stream",
     "text": [
      "(2001094, 28)\n",
      "(62416, 28)\n",
      "(16, 31)\n",
      "0\n",
      "56\n",
      "../cache/test7_1_t_store15_recent_stats_1.csv\n",
      "(62416, 57)\n",
      "../cache/bkup2/test7_1_t_store16.csv\n"
     ]
    },
    {
     "name": "stderr",
     "output_type": "stream",
     "text": [
      "100%|██████████| 16/16 [01:10<00:00,  4.42s/it]\n"
     ]
    },
    {
     "name": "stdout",
     "output_type": "stream",
     "text": [
      "(1882451, 28)\n",
      "(62416, 28)\n",
      "(16, 31)\n",
      "0\n",
      "56\n",
      "../cache/test7_1_t_store16_recent_stats_1.csv\n",
      "(62416, 57)\n",
      "../cache/bkup2/test7_1_t_store17.csv\n"
     ]
    },
    {
     "name": "stderr",
     "output_type": "stream",
     "text": [
      "100%|██████████| 16/16 [01:23<00:00,  5.23s/it]\n"
     ]
    },
    {
     "name": "stdout",
     "output_type": "stream",
     "text": [
      "(2226436, 28)\n",
      "(62416, 28)\n",
      "(16, 31)\n",
      "0\n",
      "56\n",
      "../cache/test7_1_t_store17_recent_stats_1.csv\n",
      "(62416, 57)\n",
      "../cache/bkup2/test7_1_t_store18.csv\n"
     ]
    },
    {
     "name": "stderr",
     "output_type": "stream",
     "text": [
      "100%|██████████| 16/16 [01:24<00:00,  5.29s/it]\n"
     ]
    },
    {
     "name": "stdout",
     "output_type": "stream",
     "text": [
      "(2259098, 28)\n",
      "(62416, 28)\n",
      "(16, 31)\n",
      "0\n",
      "56\n",
      "../cache/test7_1_t_store18_recent_stats_1.csv\n",
      "(62416, 57)\n",
      "../cache/bkup2/test7_1_t_store19.csv\n"
     ]
    },
    {
     "name": "stderr",
     "output_type": "stream",
     "text": [
      "100%|██████████| 16/16 [01:12<00:00,  4.56s/it]\n"
     ]
    },
    {
     "name": "stdout",
     "output_type": "stream",
     "text": [
      "(1941571, 28)\n",
      "(62416, 28)\n",
      "(16, 31)\n",
      "0\n",
      "56\n",
      "../cache/test7_1_t_store19_recent_stats_1.csv\n",
      "(62416, 57)\n",
      "../cache/bkup2/test7_1_t_store20.csv\n"
     ]
    },
    {
     "name": "stderr",
     "output_type": "stream",
     "text": [
      "100%|██████████| 16/16 [01:06<00:00,  4.13s/it]\n"
     ]
    },
    {
     "name": "stdout",
     "output_type": "stream",
     "text": [
      "(1728401, 28)\n",
      "(62416, 28)\n",
      "(16, 31)\n",
      "0\n",
      "56\n",
      "../cache/test7_1_t_store20_recent_stats_1.csv\n",
      "(62416, 57)\n",
      "../cache/bkup2/test7_1_t_store21.csv\n"
     ]
    },
    {
     "name": "stderr",
     "output_type": "stream",
     "text": [
      "100%|██████████| 16/16 [00:55<00:00,  3.45s/it]\n"
     ]
    },
    {
     "name": "stdout",
     "output_type": "stream",
     "text": [
      "(1435835, 28)\n",
      "(62416, 28)\n",
      "(16, 31)\n",
      "0\n",
      "56\n",
      "../cache/test7_1_t_store21_recent_stats_1.csv\n",
      "(62416, 57)\n",
      "../cache/bkup2/test7_1_t_store22.csv\n"
     ]
    },
    {
     "name": "stderr",
     "output_type": "stream",
     "text": [
      "  6%|▋         | 1/16 [00:01<00:29,  1.98s/it]"
     ]
    },
    {
     "name": "stdout",
     "output_type": "stream",
     "text": [
      "date:2017-08-16, past_date:2015-08-17\n",
      "days:730, i: 1, days-i:729\n"
     ]
    },
    {
     "name": "stderr",
     "output_type": "stream",
     "text": [
      "\r",
      " 12%|█▎        | 2/16 [00:03<00:27,  1.96s/it]"
     ]
    },
    {
     "name": "stdout",
     "output_type": "stream",
     "text": [
      "date:2017-08-17, past_date:2015-08-18\n",
      "days:730, i: 1, days-i:729\n"
     ]
    },
    {
     "name": "stderr",
     "output_type": "stream",
     "text": [
      "\r",
      " 19%|█▉        | 3/16 [00:05<00:25,  1.96s/it]"
     ]
    },
    {
     "name": "stdout",
     "output_type": "stream",
     "text": [
      "date:2017-08-18, past_date:2015-08-19\n",
      "days:730, i: 1, days-i:729\n"
     ]
    },
    {
     "name": "stderr",
     "output_type": "stream",
     "text": [
      "\r",
      " 25%|██▌       | 4/16 [00:07<00:23,  1.96s/it]"
     ]
    },
    {
     "name": "stdout",
     "output_type": "stream",
     "text": [
      "date:2017-08-19, past_date:2015-08-20\n",
      "days:730, i: 1, days-i:729\n"
     ]
    },
    {
     "name": "stderr",
     "output_type": "stream",
     "text": [
      "\r",
      " 31%|███▏      | 5/16 [00:09<00:21,  1.97s/it]"
     ]
    },
    {
     "name": "stdout",
     "output_type": "stream",
     "text": [
      "date:2017-08-20, past_date:2015-08-21\n",
      "days:730, i: 1, days-i:729\n"
     ]
    },
    {
     "name": "stderr",
     "output_type": "stream",
     "text": [
      "\r",
      " 38%|███▊      | 6/16 [00:11<00:19,  1.97s/it]"
     ]
    },
    {
     "name": "stdout",
     "output_type": "stream",
     "text": [
      "date:2017-08-21, past_date:2015-08-22\n",
      "days:730, i: 1, days-i:729\n"
     ]
    },
    {
     "name": "stderr",
     "output_type": "stream",
     "text": [
      "\r",
      " 44%|████▍     | 7/16 [00:13<00:17,  1.96s/it]"
     ]
    },
    {
     "name": "stdout",
     "output_type": "stream",
     "text": [
      "date:2017-08-22, past_date:2015-08-23\n",
      "days:730, i: 1, days-i:729\n"
     ]
    },
    {
     "name": "stderr",
     "output_type": "stream",
     "text": [
      "\r",
      " 50%|█████     | 8/16 [00:15<00:15,  1.96s/it]"
     ]
    },
    {
     "name": "stdout",
     "output_type": "stream",
     "text": [
      "date:2017-08-23, past_date:2015-08-24\n",
      "days:730, i: 1, days-i:729\n"
     ]
    },
    {
     "name": "stderr",
     "output_type": "stream",
     "text": [
      "\r",
      " 56%|█████▋    | 9/16 [00:17<00:13,  1.96s/it]"
     ]
    },
    {
     "name": "stdout",
     "output_type": "stream",
     "text": [
      "date:2017-08-24, past_date:2015-08-25\n",
      "days:730, i: 1, days-i:729\n"
     ]
    },
    {
     "name": "stderr",
     "output_type": "stream",
     "text": [
      "\r",
      " 62%|██████▎   | 10/16 [00:19<00:11,  1.96s/it]"
     ]
    },
    {
     "name": "stdout",
     "output_type": "stream",
     "text": [
      "date:2017-08-25, past_date:2015-08-26\n",
      "days:730, i: 1, days-i:729\n"
     ]
    },
    {
     "name": "stderr",
     "output_type": "stream",
     "text": [
      "\r",
      " 69%|██████▉   | 11/16 [00:21<00:09,  1.96s/it]"
     ]
    },
    {
     "name": "stdout",
     "output_type": "stream",
     "text": [
      "date:2017-08-26, past_date:2015-08-27\n",
      "days:730, i: 1, days-i:729\n"
     ]
    },
    {
     "name": "stderr",
     "output_type": "stream",
     "text": [
      "\r",
      " 75%|███████▌  | 12/16 [00:23<00:07,  1.96s/it]"
     ]
    },
    {
     "name": "stdout",
     "output_type": "stream",
     "text": [
      "date:2017-08-27, past_date:2015-08-28\n",
      "days:730, i: 1, days-i:729\n"
     ]
    },
    {
     "name": "stderr",
     "output_type": "stream",
     "text": [
      "\r",
      " 81%|████████▏ | 13/16 [00:25<00:05,  1.96s/it]"
     ]
    },
    {
     "name": "stdout",
     "output_type": "stream",
     "text": [
      "date:2017-08-28, past_date:2015-08-29\n",
      "days:730, i: 1, days-i:729\n"
     ]
    },
    {
     "name": "stderr",
     "output_type": "stream",
     "text": [
      "\r",
      " 88%|████████▊ | 14/16 [00:27<00:03,  1.96s/it]"
     ]
    },
    {
     "name": "stdout",
     "output_type": "stream",
     "text": [
      "date:2017-08-29, past_date:2015-08-30\n",
      "days:730, i: 1, days-i:729\n"
     ]
    },
    {
     "name": "stderr",
     "output_type": "stream",
     "text": [
      "\r",
      " 94%|█████████▍| 15/16 [00:29<00:01,  1.96s/it]"
     ]
    },
    {
     "name": "stdout",
     "output_type": "stream",
     "text": [
      "date:2017-08-30, past_date:2015-08-31\n",
      "days:730, i: 1, days-i:729\n"
     ]
    },
    {
     "name": "stderr",
     "output_type": "stream",
     "text": [
      "\r",
      "100%|██████████| 16/16 [00:31<00:00,  1.96s/it]"
     ]
    },
    {
     "name": "stdout",
     "output_type": "stream",
     "text": [
      "date:2017-08-31, past_date:2015-09-01\n",
      "days:730, i: 1, days-i:729\n",
      "(985899, 28)\n"
     ]
    },
    {
     "name": "stderr",
     "output_type": "stream",
     "text": [
      "\n"
     ]
    },
    {
     "name": "stdout",
     "output_type": "stream",
     "text": [
      "(62416, 28)\n",
      "(16, 31)\n",
      "0\n",
      "50\n",
      "../cache/test7_1_t_store22_recent_stats_1.csv\n",
      "(62416, 57)\n",
      "../cache/bkup2/test7_1_t_store23.csv\n"
     ]
    },
    {
     "name": "stderr",
     "output_type": "stream",
     "text": [
      "100%|██████████| 16/16 [01:31<00:00,  5.69s/it]\n"
     ]
    },
    {
     "name": "stdout",
     "output_type": "stream",
     "text": [
      "(2428113, 28)\n",
      "(62416, 28)\n",
      "(16, 31)\n",
      "0\n",
      "56\n",
      "../cache/test7_1_t_store23_recent_stats_1.csv\n",
      "(62416, 57)\n",
      "../cache/bkup2/test7_1_t_store24.csv\n"
     ]
    },
    {
     "name": "stderr",
     "output_type": "stream",
     "text": [
      "100%|██████████| 16/16 [01:46<00:00,  6.65s/it]\n"
     ]
    },
    {
     "name": "stdout",
     "output_type": "stream",
     "text": [
      "(2832305, 28)\n",
      "(62416, 28)\n",
      "(16, 31)\n",
      "0\n",
      "56\n",
      "../cache/test7_1_t_store24_recent_stats_1.csv\n",
      "(62416, 57)\n",
      "../cache/bkup2/test7_1_t_store25.csv\n"
     ]
    },
    {
     "name": "stderr",
     "output_type": "stream",
     "text": [
      "100%|██████████| 16/16 [01:19<00:00,  4.97s/it]\n"
     ]
    },
    {
     "name": "stdout",
     "output_type": "stream",
     "text": [
      "(2119436, 28)\n",
      "(62416, 28)\n",
      "(16, 31)\n",
      "0\n",
      "56\n",
      "../cache/test7_1_t_store25_recent_stats_1.csv\n",
      "(62416, 57)\n",
      "../cache/bkup2/test7_1_t_store26.csv\n"
     ]
    },
    {
     "name": "stderr",
     "output_type": "stream",
     "text": [
      "100%|██████████| 16/16 [01:09<00:00,  4.35s/it]\n"
     ]
    },
    {
     "name": "stdout",
     "output_type": "stream",
     "text": [
      "(1855498, 28)\n",
      "(62416, 28)\n",
      "(16, 31)\n",
      "0\n",
      "56\n",
      "../cache/test7_1_t_store26_recent_stats_1.csv\n",
      "(62416, 57)\n",
      "../cache/bkup2/test7_1_t_store27.csv\n"
     ]
    },
    {
     "name": "stderr",
     "output_type": "stream",
     "text": [
      "100%|██████████| 16/16 [01:41<00:00,  6.33s/it]\n"
     ]
    },
    {
     "name": "stdout",
     "output_type": "stream",
     "text": [
      "(2694130, 28)\n",
      "(62416, 28)\n",
      "(16, 31)\n",
      "0\n",
      "56\n",
      "../cache/test7_1_t_store27_recent_stats_1.csv\n",
      "(62416, 57)\n",
      "../cache/bkup2/test7_1_t_store28.csv\n"
     ]
    },
    {
     "name": "stderr",
     "output_type": "stream",
     "text": [
      "100%|██████████| 16/16 [01:33<00:00,  5.82s/it]\n"
     ]
    },
    {
     "name": "stdout",
     "output_type": "stream",
     "text": [
      "(2481232, 28)\n",
      "(62416, 28)\n",
      "(16, 31)\n",
      "0\n",
      "56\n",
      "../cache/test7_1_t_store28_recent_stats_1.csv\n",
      "(62416, 57)\n",
      "../cache/bkup2/test7_1_t_store29.csv\n"
     ]
    },
    {
     "name": "stderr",
     "output_type": "stream",
     "text": [
      "100%|██████████| 16/16 [01:00<00:00,  3.77s/it]\n"
     ]
    },
    {
     "name": "stdout",
     "output_type": "stream",
     "text": [
      "(1571375, 28)\n",
      "(62416, 28)\n",
      "(16, 31)\n",
      "0\n",
      "56\n",
      "../cache/test7_1_t_store29_recent_stats_1.csv\n",
      "(62416, 57)\n",
      "../cache/bkup2/test7_1_t_store30.csv\n"
     ]
    },
    {
     "name": "stderr",
     "output_type": "stream",
     "text": [
      "100%|██████████| 16/16 [01:02<00:00,  3.91s/it]\n"
     ]
    },
    {
     "name": "stdout",
     "output_type": "stream",
     "text": [
      "(1660278, 28)\n",
      "(62416, 28)\n",
      "(16, 31)\n",
      "0\n",
      "56\n",
      "../cache/test7_1_t_store30_recent_stats_1.csv\n",
      "(62416, 57)\n",
      "../cache/bkup2/test7_1_t_store31.csv\n"
     ]
    },
    {
     "name": "stderr",
     "output_type": "stream",
     "text": [
      "100%|██████████| 16/16 [01:31<00:00,  5.69s/it]\n"
     ]
    },
    {
     "name": "stdout",
     "output_type": "stream",
     "text": [
      "(2424140, 28)\n",
      "(62416, 28)\n",
      "(16, 31)\n",
      "0\n",
      "56\n",
      "../cache/test7_1_t_store31_recent_stats_1.csv\n",
      "(62416, 57)\n",
      "../cache/bkup2/test7_1_t_store32.csv\n"
     ]
    },
    {
     "name": "stderr",
     "output_type": "stream",
     "text": [
      "100%|██████████| 16/16 [00:53<00:00,  3.36s/it]\n"
     ]
    },
    {
     "name": "stdout",
     "output_type": "stream",
     "text": [
      "(1425031, 28)\n",
      "(62416, 28)\n",
      "(16, 31)\n",
      "0\n",
      "56\n",
      "../cache/test7_1_t_store32_recent_stats_1.csv\n",
      "(62416, 57)\n",
      "../cache/bkup2/test7_1_t_store33.csv\n"
     ]
    },
    {
     "name": "stderr",
     "output_type": "stream",
     "text": [
      "100%|██████████| 16/16 [01:16<00:00,  4.76s/it]\n"
     ]
    },
    {
     "name": "stdout",
     "output_type": "stream",
     "text": [
      "(2025901, 28)\n",
      "(62416, 28)\n",
      "(16, 31)\n",
      "0\n",
      "56\n",
      "../cache/test7_1_t_store33_recent_stats_1.csv\n",
      "(62416, 57)\n",
      "../cache/bkup2/test7_1_t_store34.csv\n"
     ]
    },
    {
     "name": "stderr",
     "output_type": "stream",
     "text": [
      "100%|██████████| 16/16 [01:28<00:00,  5.54s/it]\n"
     ]
    },
    {
     "name": "stdout",
     "output_type": "stream",
     "text": [
      "(2361838, 28)\n",
      "(62416, 28)\n",
      "(16, 31)\n",
      "0\n",
      "56\n",
      "../cache/test7_1_t_store34_recent_stats_1.csv\n",
      "(62416, 57)\n",
      "../cache/bkup2/test7_1_t_store35.csv\n"
     ]
    },
    {
     "name": "stderr",
     "output_type": "stream",
     "text": [
      "100%|██████████| 16/16 [00:54<00:00,  3.42s/it]\n"
     ]
    },
    {
     "name": "stdout",
     "output_type": "stream",
     "text": [
      "(1450520, 28)\n",
      "(62416, 28)\n",
      "(16, 31)\n",
      "0\n",
      "56\n",
      "../cache/test7_1_t_store35_recent_stats_1.csv\n",
      "(62416, 57)\n",
      "../cache/bkup2/test7_1_t_store36.csv\n"
     ]
    },
    {
     "name": "stderr",
     "output_type": "stream",
     "text": [
      "100%|██████████| 16/16 [01:25<00:00,  5.35s/it]\n"
     ]
    },
    {
     "name": "stdout",
     "output_type": "stream",
     "text": [
      "(2273578, 28)\n",
      "(62416, 28)\n",
      "(16, 31)\n",
      "0\n",
      "56\n",
      "../cache/test7_1_t_store36_recent_stats_1.csv\n",
      "(62416, 57)\n",
      "../cache/bkup2/test7_1_t_store37.csv\n"
     ]
    },
    {
     "name": "stderr",
     "output_type": "stream",
     "text": [
      "100%|██████████| 16/16 [01:48<00:00,  6.78s/it]\n"
     ]
    },
    {
     "name": "stdout",
     "output_type": "stream",
     "text": [
      "(2894107, 28)\n",
      "(62416, 28)\n",
      "(16, 31)\n",
      "0\n",
      "56\n",
      "../cache/test7_1_t_store37_recent_stats_1.csv\n",
      "(62416, 57)\n",
      "../cache/bkup2/test7_1_t_store38.csv\n"
     ]
    },
    {
     "name": "stderr",
     "output_type": "stream",
     "text": [
      "100%|██████████| 16/16 [01:44<00:00,  6.55s/it]\n"
     ]
    },
    {
     "name": "stdout",
     "output_type": "stream",
     "text": [
      "(2790147, 28)\n",
      "(62416, 28)\n",
      "(16, 31)\n",
      "0\n",
      "56\n",
      "../cache/test7_1_t_store38_recent_stats_1.csv\n",
      "(62416, 57)\n",
      "../cache/bkup2/test7_1_t_store39.csv\n"
     ]
    },
    {
     "name": "stderr",
     "output_type": "stream",
     "text": [
      "100%|██████████| 16/16 [01:41<00:00,  6.34s/it]\n"
     ]
    },
    {
     "name": "stdout",
     "output_type": "stream",
     "text": [
      "(2700452, 28)\n",
      "(62416, 28)\n",
      "(16, 31)\n",
      "0\n",
      "56\n",
      "../cache/test7_1_t_store39_recent_stats_1.csv\n",
      "(62416, 57)\n",
      "../cache/bkup2/test7_1_t_store40.csv\n"
     ]
    },
    {
     "name": "stderr",
     "output_type": "stream",
     "text": [
      "100%|██████████| 16/16 [01:21<00:00,  5.08s/it]\n"
     ]
    },
    {
     "name": "stdout",
     "output_type": "stream",
     "text": [
      "(2165215, 28)\n",
      "(62416, 28)\n",
      "(16, 31)\n",
      "0\n",
      "56\n",
      "../cache/test7_1_t_store40_recent_stats_1.csv\n",
      "(62416, 57)\n",
      "../cache/bkup2/test7_1_t_store41.csv\n"
     ]
    },
    {
     "name": "stderr",
     "output_type": "stream",
     "text": [
      "100%|██████████| 16/16 [01:36<00:00,  6.06s/it]\n"
     ]
    },
    {
     "name": "stdout",
     "output_type": "stream",
     "text": [
      "(2566335, 28)\n",
      "(62416, 28)\n",
      "(16, 31)\n",
      "0\n",
      "56\n",
      "../cache/test7_1_t_store41_recent_stats_1.csv\n",
      "(62416, 57)\n",
      "../cache/bkup2/test7_1_t_store42.csv\n"
     ]
    },
    {
     "name": "stderr",
     "output_type": "stream",
     "text": [
      "  6%|▋         | 1/16 [00:03<00:45,  3.04s/it]"
     ]
    },
    {
     "name": "stdout",
     "output_type": "stream",
     "text": [
      "date:2017-08-16, past_date:2015-08-17\n",
      "days:730, i: 1, days-i:729\n"
     ]
    },
    {
     "name": "stderr",
     "output_type": "stream",
     "text": [
      "\r",
      " 12%|█▎        | 2/16 [00:06<00:42,  3.01s/it]"
     ]
    },
    {
     "name": "stdout",
     "output_type": "stream",
     "text": [
      "date:2017-08-17, past_date:2015-08-18\n",
      "days:730, i: 1, days-i:729\n"
     ]
    },
    {
     "name": "stderr",
     "output_type": "stream",
     "text": [
      "\r",
      " 19%|█▉        | 3/16 [00:09<00:39,  3.01s/it]"
     ]
    },
    {
     "name": "stdout",
     "output_type": "stream",
     "text": [
      "date:2017-08-18, past_date:2015-08-19\n",
      "days:730, i: 1, days-i:729\n"
     ]
    },
    {
     "name": "stderr",
     "output_type": "stream",
     "text": [
      "\r",
      " 25%|██▌       | 4/16 [00:12<00:36,  3.00s/it]"
     ]
    },
    {
     "name": "stdout",
     "output_type": "stream",
     "text": [
      "date:2017-08-19, past_date:2015-08-20\n",
      "days:730, i: 1, days-i:729\n"
     ]
    },
    {
     "name": "stderr",
     "output_type": "stream",
     "text": [
      "100%|██████████| 16/16 [00:55<00:00,  3.50s/it]\n"
     ]
    },
    {
     "name": "stdout",
     "output_type": "stream",
     "text": [
      "(1524099, 28)\n",
      "(62416, 28)\n",
      "(16, 31)\n",
      "0\n",
      "56\n",
      "../cache/test7_1_t_store42_recent_stats_1.csv\n",
      "(62416, 57)\n",
      "../cache/bkup2/test7_1_t_store43.csv\n"
     ]
    },
    {
     "name": "stderr",
     "output_type": "stream",
     "text": [
      "100%|██████████| 16/16 [01:15<00:00,  4.73s/it]\n"
     ]
    },
    {
     "name": "stdout",
     "output_type": "stream",
     "text": [
      "(2002110, 28)\n",
      "(62416, 28)\n",
      "(16, 31)\n",
      "0\n",
      "56\n",
      "../cache/test7_1_t_store43_recent_stats_1.csv\n",
      "(62416, 57)\n",
      "../cache/bkup2/test7_1_t_store44.csv\n"
     ]
    },
    {
     "name": "stderr",
     "output_type": "stream",
     "text": [
      "100%|██████████| 16/16 [02:14<00:00,  8.40s/it]\n"
     ]
    },
    {
     "name": "stdout",
     "output_type": "stream",
     "text": [
      "(3575505, 28)\n",
      "(62416, 28)\n",
      "(16, 31)\n",
      "0\n",
      "56\n",
      "../cache/test7_1_t_store44_recent_stats_1.csv\n",
      "(62416, 57)\n",
      "../cache/bkup2/test7_1_t_store45.csv\n"
     ]
    },
    {
     "name": "stderr",
     "output_type": "stream",
     "text": [
      "100%|██████████| 16/16 [02:13<00:00,  8.33s/it]\n"
     ]
    },
    {
     "name": "stdout",
     "output_type": "stream",
     "text": [
      "(3546660, 28)\n",
      "(62416, 28)\n",
      "(16, 31)\n",
      "0\n",
      "56\n",
      "../cache/test7_1_t_store45_recent_stats_1.csv\n",
      "(62416, 57)\n",
      "../cache/bkup2/test7_1_t_store46.csv\n"
     ]
    },
    {
     "name": "stderr",
     "output_type": "stream",
     "text": [
      "100%|██████████| 16/16 [02:08<00:00,  8.03s/it]\n"
     ]
    },
    {
     "name": "stdout",
     "output_type": "stream",
     "text": [
      "(3416306, 28)\n",
      "(62416, 28)\n",
      "(16, 31)\n",
      "0\n",
      "56\n",
      "../cache/test7_1_t_store46_recent_stats_1.csv\n",
      "(62416, 57)\n",
      "../cache/bkup2/test7_1_t_store47.csv\n"
     ]
    },
    {
     "name": "stderr",
     "output_type": "stream",
     "text": [
      "100%|██████████| 16/16 [02:12<00:00,  8.26s/it]\n"
     ]
    },
    {
     "name": "stdout",
     "output_type": "stream",
     "text": [
      "(3519823, 28)\n",
      "(62416, 28)\n",
      "(16, 31)\n",
      "0\n",
      "56\n",
      "../cache/test7_1_t_store47_recent_stats_1.csv\n",
      "(62416, 57)\n",
      "../cache/bkup2/test7_1_t_store48.csv\n"
     ]
    },
    {
     "name": "stderr",
     "output_type": "stream",
     "text": [
      "100%|██████████| 16/16 [02:03<00:00,  7.74s/it]\n"
     ]
    },
    {
     "name": "stdout",
     "output_type": "stream",
     "text": [
      "(3298939, 28)\n",
      "(62416, 28)\n",
      "(16, 31)\n",
      "0\n",
      "56\n",
      "../cache/test7_1_t_store48_recent_stats_1.csv\n",
      "(62416, 57)\n",
      "../cache/bkup2/test7_1_t_store49.csv\n"
     ]
    },
    {
     "name": "stderr",
     "output_type": "stream",
     "text": [
      "100%|██████████| 16/16 [02:08<00:00,  8.06s/it]\n"
     ]
    },
    {
     "name": "stdout",
     "output_type": "stream",
     "text": [
      "(3404947, 28)\n",
      "(62416, 28)\n",
      "(16, 31)\n",
      "0\n",
      "56\n",
      "../cache/test7_1_t_store49_recent_stats_1.csv\n",
      "(62416, 57)\n",
      "../cache/bkup2/test7_1_t_store50.csv\n"
     ]
    },
    {
     "name": "stderr",
     "output_type": "stream",
     "text": [
      "100%|██████████| 16/16 [02:02<00:00,  7.68s/it]\n"
     ]
    },
    {
     "name": "stdout",
     "output_type": "stream",
     "text": [
      "(3254982, 28)\n",
      "(62416, 28)\n",
      "(16, 31)\n",
      "0\n",
      "56\n",
      "../cache/test7_1_t_store50_recent_stats_1.csv\n",
      "(62416, 57)\n",
      "../cache/bkup2/test7_1_t_store51.csv\n"
     ]
    },
    {
     "name": "stderr",
     "output_type": "stream",
     "text": [
      "100%|██████████| 16/16 [01:53<00:00,  7.09s/it]\n"
     ]
    },
    {
     "name": "stdout",
     "output_type": "stream",
     "text": [
      "(3022447, 28)\n",
      "(62416, 28)\n",
      "(16, 31)\n",
      "0\n",
      "56\n",
      "../cache/test7_1_t_store51_recent_stats_1.csv\n",
      "(62416, 57)\n",
      "../cache/bkup2/test7_1_t_store52.csv\n"
     ]
    },
    {
     "name": "stderr",
     "output_type": "stream",
     "text": [
      "  6%|▋         | 1/16 [00:00<00:06,  2.14it/s]"
     ]
    },
    {
     "name": "stdout",
     "output_type": "stream",
     "text": [
      "date:2017-08-16, past_date:2017-02-17\n",
      "days:180, i: 1, days-i:179\n",
      "date:2017-08-16, past_date:2016-08-16\n",
      "days:365, i: 1, days-i:364\n",
      "date:2017-08-16, past_date:2015-08-17\n",
      "days:730, i: 1, days-i:729\n"
     ]
    },
    {
     "name": "stderr",
     "output_type": "stream",
     "text": [
      "\r",
      " 12%|█▎        | 2/16 [00:00<00:06,  2.19it/s]"
     ]
    },
    {
     "name": "stdout",
     "output_type": "stream",
     "text": [
      "date:2017-08-17, past_date:2017-02-18\n",
      "days:180, i: 1, days-i:179\n",
      "date:2017-08-17, past_date:2016-08-17\n",
      "days:365, i: 1, days-i:364\n",
      "date:2017-08-17, past_date:2015-08-18\n",
      "days:730, i: 1, days-i:729\n"
     ]
    },
    {
     "name": "stderr",
     "output_type": "stream",
     "text": [
      "\r",
      " 19%|█▉        | 3/16 [00:01<00:05,  2.19it/s]"
     ]
    },
    {
     "name": "stdout",
     "output_type": "stream",
     "text": [
      "date:2017-08-18, past_date:2017-02-19\n",
      "days:180, i: 1, days-i:179\n",
      "date:2017-08-18, past_date:2016-08-18\n",
      "days:365, i: 1, days-i:364\n",
      "date:2017-08-18, past_date:2015-08-19\n",
      "days:730, i: 1, days-i:729\n"
     ]
    },
    {
     "name": "stderr",
     "output_type": "stream",
     "text": [
      "\r",
      " 25%|██▌       | 4/16 [00:01<00:05,  2.20it/s]"
     ]
    },
    {
     "name": "stdout",
     "output_type": "stream",
     "text": [
      "date:2017-08-19, past_date:2017-02-20\n",
      "days:180, i: 1, days-i:179\n",
      "date:2017-08-19, past_date:2016-08-19\n",
      "days:365, i: 1, days-i:364\n",
      "date:2017-08-19, past_date:2015-08-20\n",
      "days:730, i: 1, days-i:729\n"
     ]
    },
    {
     "name": "stderr",
     "output_type": "stream",
     "text": [
      "\r",
      " 31%|███▏      | 5/16 [00:02<00:04,  2.20it/s]"
     ]
    },
    {
     "name": "stdout",
     "output_type": "stream",
     "text": [
      "date:2017-08-20, past_date:2017-02-21\n",
      "days:180, i: 1, days-i:179\n",
      "date:2017-08-20, past_date:2016-08-20\n",
      "days:365, i: 1, days-i:364\n",
      "date:2017-08-20, past_date:2015-08-21\n",
      "days:730, i: 1, days-i:729\n"
     ]
    },
    {
     "name": "stderr",
     "output_type": "stream",
     "text": [
      "\r",
      " 38%|███▊      | 6/16 [00:02<00:04,  2.21it/s]"
     ]
    },
    {
     "name": "stdout",
     "output_type": "stream",
     "text": [
      "date:2017-08-21, past_date:2017-02-22\n",
      "days:180, i: 1, days-i:179\n",
      "date:2017-08-21, past_date:2016-08-21\n",
      "days:365, i: 1, days-i:364\n",
      "date:2017-08-21, past_date:2015-08-22\n",
      "days:730, i: 1, days-i:729\n"
     ]
    },
    {
     "name": "stderr",
     "output_type": "stream",
     "text": [
      "\r",
      " 44%|████▍     | 7/16 [00:03<00:04,  2.21it/s]"
     ]
    },
    {
     "name": "stdout",
     "output_type": "stream",
     "text": [
      "date:2017-08-22, past_date:2017-02-23\n",
      "days:180, i: 1, days-i:179\n",
      "date:2017-08-22, past_date:2016-08-22\n",
      "days:365, i: 1, days-i:364\n",
      "date:2017-08-22, past_date:2015-08-23\n",
      "days:730, i: 1, days-i:729\n"
     ]
    },
    {
     "name": "stderr",
     "output_type": "stream",
     "text": [
      "\r",
      " 50%|█████     | 8/16 [00:03<00:03,  2.21it/s]"
     ]
    },
    {
     "name": "stdout",
     "output_type": "stream",
     "text": [
      "date:2017-08-23, past_date:2017-02-24\n",
      "days:180, i: 1, days-i:179\n",
      "date:2017-08-23, past_date:2016-08-23\n",
      "days:365, i: 1, days-i:364\n",
      "date:2017-08-23, past_date:2015-08-24\n",
      "days:730, i: 1, days-i:729\n"
     ]
    },
    {
     "name": "stderr",
     "output_type": "stream",
     "text": [
      "\r",
      " 56%|█████▋    | 9/16 [00:04<00:03,  2.21it/s]"
     ]
    },
    {
     "name": "stdout",
     "output_type": "stream",
     "text": [
      "date:2017-08-24, past_date:2017-02-25\n",
      "days:180, i: 1, days-i:179\n",
      "date:2017-08-24, past_date:2016-08-24\n",
      "days:365, i: 1, days-i:364\n",
      "date:2017-08-24, past_date:2015-08-25\n",
      "days:730, i: 1, days-i:729\n"
     ]
    },
    {
     "name": "stderr",
     "output_type": "stream",
     "text": [
      "\r",
      " 62%|██████▎   | 10/16 [00:04<00:02,  2.21it/s]"
     ]
    },
    {
     "name": "stdout",
     "output_type": "stream",
     "text": [
      "date:2017-08-25, past_date:2017-02-26\n",
      "days:180, i: 1, days-i:179\n",
      "date:2017-08-25, past_date:2016-08-25\n",
      "days:365, i: 1, days-i:364\n",
      "date:2017-08-25, past_date:2015-08-26\n",
      "days:730, i: 1, days-i:729\n"
     ]
    },
    {
     "name": "stderr",
     "output_type": "stream",
     "text": [
      "\r",
      " 69%|██████▉   | 11/16 [00:04<00:02,  2.21it/s]"
     ]
    },
    {
     "name": "stdout",
     "output_type": "stream",
     "text": [
      "date:2017-08-26, past_date:2017-02-27\n",
      "days:180, i: 1, days-i:179\n",
      "date:2017-08-26, past_date:2016-08-26\n",
      "days:365, i: 1, days-i:364\n",
      "date:2017-08-26, past_date:2015-08-27\n",
      "days:730, i: 1, days-i:729\n"
     ]
    },
    {
     "name": "stderr",
     "output_type": "stream",
     "text": [
      "\r",
      " 75%|███████▌  | 12/16 [00:05<00:01,  2.21it/s]"
     ]
    },
    {
     "name": "stdout",
     "output_type": "stream",
     "text": [
      "date:2017-08-27, past_date:2017-02-28\n",
      "days:180, i: 1, days-i:179\n",
      "date:2017-08-27, past_date:2016-08-27\n",
      "days:365, i: 1, days-i:364\n",
      "date:2017-08-27, past_date:2015-08-28\n",
      "days:730, i: 1, days-i:729\n"
     ]
    },
    {
     "name": "stderr",
     "output_type": "stream",
     "text": [
      "\r",
      " 81%|████████▏ | 13/16 [00:05<00:01,  2.21it/s]"
     ]
    },
    {
     "name": "stdout",
     "output_type": "stream",
     "text": [
      "date:2017-08-28, past_date:2017-03-01\n",
      "days:180, i: 1, days-i:179\n",
      "date:2017-08-28, past_date:2016-08-28\n",
      "days:365, i: 1, days-i:364\n",
      "date:2017-08-28, past_date:2015-08-29\n",
      "days:730, i: 1, days-i:729\n"
     ]
    },
    {
     "name": "stderr",
     "output_type": "stream",
     "text": [
      "\r",
      " 88%|████████▊ | 14/16 [00:06<00:00,  2.21it/s]"
     ]
    },
    {
     "name": "stdout",
     "output_type": "stream",
     "text": [
      "date:2017-08-29, past_date:2017-03-02\n",
      "days:180, i: 1, days-i:179\n",
      "date:2017-08-29, past_date:2016-08-29\n",
      "days:365, i: 1, days-i:364\n",
      "date:2017-08-29, past_date:2015-08-30\n",
      "days:730, i: 1, days-i:729\n"
     ]
    },
    {
     "name": "stderr",
     "output_type": "stream",
     "text": [
      "\r",
      " 94%|█████████▍| 15/16 [00:06<00:00,  2.21it/s]"
     ]
    },
    {
     "name": "stdout",
     "output_type": "stream",
     "text": [
      "date:2017-08-30, past_date:2017-03-03\n",
      "days:180, i: 1, days-i:179\n",
      "date:2017-08-30, past_date:2016-08-30\n",
      "days:365, i: 1, days-i:364\n",
      "date:2017-08-30, past_date:2015-08-31\n",
      "days:730, i: 1, days-i:729\n"
     ]
    },
    {
     "name": "stderr",
     "output_type": "stream",
     "text": [
      "\r",
      "100%|██████████| 16/16 [00:07<00:00,  2.21it/s]"
     ]
    },
    {
     "name": "stdout",
     "output_type": "stream",
     "text": [
      "date:2017-08-31, past_date:2017-03-04\n",
      "days:180, i: 1, days-i:179\n",
      "date:2017-08-31, past_date:2016-08-31\n",
      "days:365, i: 1, days-i:364\n",
      "date:2017-08-31, past_date:2015-09-01\n",
      "days:730, i: 1, days-i:729\n",
      "(352997, 28)\n"
     ]
    },
    {
     "name": "stderr",
     "output_type": "stream",
     "text": [
      "\n"
     ]
    },
    {
     "name": "stdout",
     "output_type": "stream",
     "text": [
      "(62416, 28)\n",
      "(16, 31)\n",
      "0\n",
      "38\n",
      "../cache/test7_1_t_store52_recent_stats_1.csv\n",
      "(62416, 57)\n",
      "../cache/bkup2/test7_1_t_store53.csv\n"
     ]
    },
    {
     "name": "stderr",
     "output_type": "stream",
     "text": [
      "100%|██████████| 16/16 [01:15<00:00,  4.74s/it]\n"
     ]
    },
    {
     "name": "stdout",
     "output_type": "stream",
     "text": [
      "(2000671, 28)\n",
      "(62416, 28)\n",
      "(16, 31)\n",
      "0\n",
      "56\n",
      "../cache/test7_1_t_store53_recent_stats_1.csv\n",
      "(62416, 57)\n",
      "../cache/bkup2/test7_1_t_store54.csv\n"
     ]
    },
    {
     "name": "stderr",
     "output_type": "stream",
     "text": [
      "100%|██████████| 16/16 [01:04<00:00,  4.02s/it]\n"
     ]
    },
    {
     "name": "stdout",
     "output_type": "stream",
     "text": [
      "(1711283, 28)\n",
      "(62416, 28)\n",
      "(16, 31)\n",
      "0\n",
      "56\n",
      "../cache/test7_1_t_store54_recent_stats_1.csv\n",
      "(62416, 57)\n"
     ]
    }
   ],
   "source": [
    "for i in range(1,55):\n",
    "    process_test_csv_file(i) "
   ]
  },
  {
   "cell_type": "code",
   "execution_count": 3,
   "metadata": {
    "collapsed": true
   },
   "outputs": [],
   "source": [
    "from scipy.sparse import save_npz, load_npz\n",
    "import sys\n",
    "\n",
    "sys.stdout = open('/dev/stdout', 'w')\n",
    "new_cols = []"
   ]
  },
  {
   "cell_type": "code",
   "execution_count": 4,
   "metadata": {
    "collapsed": false
   },
   "outputs": [
    {
     "name": "stderr",
     "output_type": "stream",
     "text": [
      "100%|██████████| 5/5 [00:00<00:00, 33500.83it/s]\n"
     ]
    }
   ],
   "source": [
    "recent_days = [30, 90, 180, 365, 730]\n",
    "for days in tqdm(recent_days):\n",
    "    new_cols.append('us_{}_mean'.format(days))\n",
    "    new_cols.append('us_{}_med'.format(days))\n",
    "    new_cols.append('us_{}_std'.format(days))\n",
    "    new_cols.append('us_{}_skew'.format(days))\n",
    "    new_cols.append('us_{}_kurt'.format(days))\n",
    "    new_cols.append('us_{}_tbn'.format(days))"
   ]
  },
  {
   "cell_type": "code",
   "execution_count": 5,
   "metadata": {
    "collapsed": false
   },
   "outputs": [
    {
     "name": "stderr",
     "output_type": "stream",
     "text": [
      "100%|██████████| 54/54 [01:05<00:00,  1.21s/it]\n"
     ]
    }
   ],
   "source": [
    "df_test_rs = pd.DataFrame()\n",
    "for store_num in tqdm(range(1,55)):\n",
    "    fn = '../cache/test7_1_t_store{}_recent_stats_1.csv'.format(store_num)\n",
    "    df = pd.read_csv(fn)\n",
    "    df_test_rs = pd.concat([df_test_rs, df], axis=0)\n",
    "    del df\n"
   ]
  },
  {
   "cell_type": "code",
   "execution_count": 6,
   "metadata": {
    "collapsed": true
   },
   "outputs": [],
   "source": [
    "df_test_rs = df_test_rs.sort_values('id')\n",
    "df_test_rs = df_test_rs[new_cols]"
   ]
  },
  {
   "cell_type": "code",
   "execution_count": 7,
   "metadata": {
    "collapsed": false
   },
   "outputs": [
    {
     "data": {
      "text/plain": [
       "(3370464, 30)"
      ]
     },
     "execution_count": 7,
     "metadata": {},
     "output_type": "execute_result"
    }
   ],
   "source": [
    "df_test_rs.shape"
   ]
  },
  {
   "cell_type": "code",
   "execution_count": 8,
   "metadata": {
    "collapsed": true
   },
   "outputs": [],
   "source": [
    "delete_file_if_exists('../cache/df_test_rs.csv')\n",
    "df_test_rs.to_csv('../cache/df_test_rs.csv', index=False, float_format='%.5f')"
   ]
  },
  {
   "cell_type": "code",
   "execution_count": 9,
   "metadata": {
    "collapsed": true
   },
   "outputs": [],
   "source": [
    "X_test_rs = df_test_rs.values\n",
    "np.save('../cache/X_test_rs', X_test_rs)"
   ]
  },
  {
   "cell_type": "code",
   "execution_count": null,
   "metadata": {
    "collapsed": true
   },
   "outputs": [],
   "source": [
    "# process_csv_file(1)"
   ]
  },
  {
   "cell_type": "code",
   "execution_count": null,
   "metadata": {
    "collapsed": true
   },
   "outputs": [],
   "source": [
    "# Multi-threaded processes to utilize all available CPUs for this task. Note that many threads will block on IO\n",
    "# so creating more than number of CPUs.    \n",
    "# thread_pool = Pool(32)\n",
    "# thread_pool.map (segment_pad_and_save_ct_scan_as_npz, dicom_folder_list)\n",
    "\n",
    "# # Cleanup\n",
    "# thread_pool.close()\n",
    "# thread_pool.join_thread()"
   ]
  },
  {
   "cell_type": "code",
   "execution_count": null,
   "metadata": {
    "collapsed": true
   },
   "outputs": [],
   "source": [
    "gc.collect()"
   ]
  },
  {
   "cell_type": "code",
   "execution_count": null,
   "metadata": {
    "collapsed": true
   },
   "outputs": [],
   "source": [
    "# i = 1\n",
    "# fn = '../cache/train10_t_store{}.csv'.format(i)\n",
    "# df = pd.read_csv(fn)\n",
    "# df.unit_sales[df.unit_sales < 0] = 0\n",
    "# df1 = df.set_index('date')\n",
    "# dates = np.unique(df.date.values)\n",
    "# for j, date in tqdm(enumerate(dates)):\n",
    "#     if j > 0:\n",
    "#         break\n",
    "#     print(j)\n",
    "#     calculate_recent_stats(date, df, df1)\n",
    "# for days in [15, 30, 60, 90, 180, 365, 730, 1095, 1460]:\n",
    "#     df = set_recent_df_stats(df ,df1, days)\n",
    "# print(df.shape)\n",
    "# print(sum(df.isnull().any()==True))\n",
    "# print(sum((df != 0).any(axis=0)))\n",
    "# fn = '../cache/train10_t_store{}_recent_stats.csv'.format(i)\n",
    "# print(fn)"
   ]
  },
  {
   "cell_type": "code",
   "execution_count": null,
   "metadata": {
    "collapsed": true
   },
   "outputs": [],
   "source": [
    "# df.isnull().sum()"
   ]
  },
  {
   "cell_type": "code",
   "execution_count": null,
   "metadata": {
    "collapsed": true
   },
   "outputs": [],
   "source": [
    "# for i in tqdm(range(1,55)):\n",
    "#     fn_tmp = '../cache/train10_t_store{}_recent_stats_tmp.csv'.format(i)\n",
    "#     delete_file_if_exists(fn_tmp)\n",
    "#     fn = '../cache/train10_t_store{}_recent_stats.csv'.format(i)\n",
    "#     df = pd.read_csv(fn)\n",
    "#     df.to_csv(fn, float_format='%.5f', index=False)\n",
    "#     del df"
   ]
  },
  {
   "cell_type": "code",
   "execution_count": null,
   "metadata": {
    "collapsed": true
   },
   "outputs": [],
   "source": []
  }
 ],
 "metadata": {
  "kernelspec": {
   "display_name": "sdp35",
   "language": "python",
   "name": "sdp35"
  },
  "language_info": {
   "codemirror_mode": {
    "name": "ipython",
    "version": 3
   },
   "file_extension": ".py",
   "mimetype": "text/x-python",
   "name": "python",
   "nbconvert_exporter": "python",
   "pygments_lexer": "ipython3",
   "version": "3.5.4"
  }
 },
 "nbformat": 4,
 "nbformat_minor": 2
}
