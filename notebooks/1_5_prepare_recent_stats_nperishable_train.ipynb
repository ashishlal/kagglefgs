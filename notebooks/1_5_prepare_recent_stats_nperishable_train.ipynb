{
 "cells": [
  {
   "cell_type": "code",
   "execution_count": 1,
   "metadata": {
    "collapsed": true
   },
   "outputs": [],
   "source": [
    "import os\n",
    "from tqdm import tqdm\n",
    "import feather\n",
    "import pandas as pd\n",
    "import numpy as np\n",
    "from scipy import stats\n",
    "import gc\n",
    "from joblib import Parallel, delayed"
   ]
  },
  {
   "cell_type": "code",
   "execution_count": 2,
   "metadata": {
    "collapsed": true
   },
   "outputs": [],
   "source": [
    "def append_to_csv(batch, csv_file):\n",
    "    props = dict(encoding='utf-8', index=False)\n",
    "    if not os.path.exists(csv_file):\n",
    "        batch.to_csv(csv_file, **props)\n",
    "    else:\n",
    "        batch.to_csv(csv_file, mode='a', header=False, **props)\n"
   ]
  },
  {
   "cell_type": "code",
   "execution_count": 3,
   "metadata": {
    "collapsed": false
   },
   "outputs": [
    {
     "name": "stderr",
     "output_type": "stream",
     "text": [
      "/home/watts/anaconda2/envs/sdp35/lib/python3.5/site-packages/IPython/core/interactiveshell.py:2728: DtypeWarning: Columns (5) have mixed types. Specify dtype option on import or set low_memory=False.\n",
      "  interactivity=interactivity, compiler=compiler, result=result)\n"
     ]
    }
   ],
   "source": [
    "fn = '../cache/bkup/train10_t_store{}.csv'.format(1)\n",
    "df =pd.read_csv(fn)"
   ]
  },
  {
   "cell_type": "code",
   "execution_count": 4,
   "metadata": {
    "collapsed": false
   },
   "outputs": [
    {
     "data": {
      "text/html": [
       "<div>\n",
       "<style scoped>\n",
       "    .dataframe tbody tr th:only-of-type {\n",
       "        vertical-align: middle;\n",
       "    }\n",
       "\n",
       "    .dataframe tbody tr th {\n",
       "        vertical-align: top;\n",
       "    }\n",
       "\n",
       "    .dataframe thead th {\n",
       "        text-align: right;\n",
       "    }\n",
       "</style>\n",
       "<table border=\"1\" class=\"dataframe\">\n",
       "  <thead>\n",
       "    <tr style=\"text-align: right;\">\n",
       "      <th></th>\n",
       "      <th>id</th>\n",
       "      <th>date</th>\n",
       "      <th>store_nbr</th>\n",
       "      <th>item_nbr</th>\n",
       "      <th>unit_sales</th>\n",
       "      <th>onpromotion</th>\n",
       "      <th>item_family</th>\n",
       "      <th>item_class</th>\n",
       "      <th>perishable</th>\n",
       "      <th>city</th>\n",
       "      <th>...</th>\n",
       "      <th>dow</th>\n",
       "      <th>doy</th>\n",
       "      <th>dcount</th>\n",
       "      <th>h_type</th>\n",
       "      <th>h_desc</th>\n",
       "      <th>pd</th>\n",
       "      <th>wbe</th>\n",
       "      <th>wae</th>\n",
       "      <th>wfe</th>\n",
       "      <th>store_item_nbr</th>\n",
       "    </tr>\n",
       "  </thead>\n",
       "  <tbody>\n",
       "    <tr>\n",
       "      <th>0</th>\n",
       "      <td>578</td>\n",
       "      <td>2013-01-02</td>\n",
       "      <td>1</td>\n",
       "      <td>103665</td>\n",
       "      <td>2.0</td>\n",
       "      <td>Unk</td>\n",
       "      <td>BREAD/BAKERY</td>\n",
       "      <td>2712</td>\n",
       "      <td>1</td>\n",
       "      <td>Quito</td>\n",
       "      <td>...</td>\n",
       "      <td>2</td>\n",
       "      <td>2</td>\n",
       "      <td>734870</td>\n",
       "      <td>Work Day</td>\n",
       "      <td>Normal</td>\n",
       "      <td>0</td>\n",
       "      <td>172</td>\n",
       "      <td>0</td>\n",
       "      <td>172</td>\n",
       "      <td>1_103665</td>\n",
       "    </tr>\n",
       "    <tr>\n",
       "      <th>1</th>\n",
       "      <td>579</td>\n",
       "      <td>2013-01-02</td>\n",
       "      <td>1</td>\n",
       "      <td>105574</td>\n",
       "      <td>8.0</td>\n",
       "      <td>Unk</td>\n",
       "      <td>GROCERY I</td>\n",
       "      <td>1045</td>\n",
       "      <td>0</td>\n",
       "      <td>Quito</td>\n",
       "      <td>...</td>\n",
       "      <td>2</td>\n",
       "      <td>2</td>\n",
       "      <td>734870</td>\n",
       "      <td>Work Day</td>\n",
       "      <td>Normal</td>\n",
       "      <td>0</td>\n",
       "      <td>172</td>\n",
       "      <td>0</td>\n",
       "      <td>172</td>\n",
       "      <td>1_105574</td>\n",
       "    </tr>\n",
       "    <tr>\n",
       "      <th>2</th>\n",
       "      <td>580</td>\n",
       "      <td>2013-01-02</td>\n",
       "      <td>1</td>\n",
       "      <td>105575</td>\n",
       "      <td>15.0</td>\n",
       "      <td>Unk</td>\n",
       "      <td>GROCERY I</td>\n",
       "      <td>1045</td>\n",
       "      <td>0</td>\n",
       "      <td>Quito</td>\n",
       "      <td>...</td>\n",
       "      <td>2</td>\n",
       "      <td>2</td>\n",
       "      <td>734870</td>\n",
       "      <td>Work Day</td>\n",
       "      <td>Normal</td>\n",
       "      <td>0</td>\n",
       "      <td>172</td>\n",
       "      <td>0</td>\n",
       "      <td>172</td>\n",
       "      <td>1_105575</td>\n",
       "    </tr>\n",
       "    <tr>\n",
       "      <th>3</th>\n",
       "      <td>581</td>\n",
       "      <td>2013-01-02</td>\n",
       "      <td>1</td>\n",
       "      <td>105577</td>\n",
       "      <td>2.0</td>\n",
       "      <td>Unk</td>\n",
       "      <td>GROCERY I</td>\n",
       "      <td>1045</td>\n",
       "      <td>0</td>\n",
       "      <td>Quito</td>\n",
       "      <td>...</td>\n",
       "      <td>2</td>\n",
       "      <td>2</td>\n",
       "      <td>734870</td>\n",
       "      <td>Work Day</td>\n",
       "      <td>Normal</td>\n",
       "      <td>0</td>\n",
       "      <td>172</td>\n",
       "      <td>0</td>\n",
       "      <td>172</td>\n",
       "      <td>1_105577</td>\n",
       "    </tr>\n",
       "    <tr>\n",
       "      <th>4</th>\n",
       "      <td>582</td>\n",
       "      <td>2013-01-02</td>\n",
       "      <td>1</td>\n",
       "      <td>105737</td>\n",
       "      <td>2.0</td>\n",
       "      <td>Unk</td>\n",
       "      <td>GROCERY I</td>\n",
       "      <td>1044</td>\n",
       "      <td>0</td>\n",
       "      <td>Quito</td>\n",
       "      <td>...</td>\n",
       "      <td>2</td>\n",
       "      <td>2</td>\n",
       "      <td>734870</td>\n",
       "      <td>Work Day</td>\n",
       "      <td>Normal</td>\n",
       "      <td>0</td>\n",
       "      <td>172</td>\n",
       "      <td>0</td>\n",
       "      <td>172</td>\n",
       "      <td>1_105737</td>\n",
       "    </tr>\n",
       "  </tbody>\n",
       "</table>\n",
       "<p>5 rows × 27 columns</p>\n",
       "</div>"
      ],
      "text/plain": [
       "    id        date  store_nbr  item_nbr  unit_sales onpromotion   item_family  \\\n",
       "0  578  2013-01-02          1    103665         2.0         Unk  BREAD/BAKERY   \n",
       "1  579  2013-01-02          1    105574         8.0         Unk     GROCERY I   \n",
       "2  580  2013-01-02          1    105575        15.0         Unk     GROCERY I   \n",
       "3  581  2013-01-02          1    105577         2.0         Unk     GROCERY I   \n",
       "4  582  2013-01-02          1    105737         2.0         Unk     GROCERY I   \n",
       "\n",
       "   item_class  perishable   city       ...       dow doy  dcount    h_type  \\\n",
       "0        2712           1  Quito       ...         2   2  734870  Work Day   \n",
       "1        1045           0  Quito       ...         2   2  734870  Work Day   \n",
       "2        1045           0  Quito       ...         2   2  734870  Work Day   \n",
       "3        1045           0  Quito       ...         2   2  734870  Work Day   \n",
       "4        1044           0  Quito       ...         2   2  734870  Work Day   \n",
       "\n",
       "   h_desc  pd  wbe  wae  wfe  store_item_nbr  \n",
       "0  Normal   0  172    0  172        1_103665  \n",
       "1  Normal   0  172    0  172        1_105574  \n",
       "2  Normal   0  172    0  172        1_105575  \n",
       "3  Normal   0  172    0  172        1_105577  \n",
       "4  Normal   0  172    0  172        1_105737  \n",
       "\n",
       "[5 rows x 27 columns]"
      ]
     },
     "execution_count": 4,
     "metadata": {},
     "output_type": "execute_result"
    }
   ],
   "source": [
    "df.head()"
   ]
  },
  {
   "cell_type": "code",
   "execution_count": 5,
   "metadata": {
    "collapsed": false
   },
   "outputs": [
    {
     "data": {
      "text/plain": [
       "(2562153, 27)"
      ]
     },
     "execution_count": 5,
     "metadata": {},
     "output_type": "execute_result"
    }
   ],
   "source": [
    "df.shape"
   ]
  },
  {
   "cell_type": "code",
   "execution_count": 6,
   "metadata": {
    "collapsed": false
   },
   "outputs": [
    {
     "data": {
      "text/plain": [
       "3567"
      ]
     },
     "execution_count": 6,
     "metadata": {},
     "output_type": "execute_result"
    }
   ],
   "source": [
    "len(set(df.item_nbr))"
   ]
  },
  {
   "cell_type": "code",
   "execution_count": 7,
   "metadata": {
    "collapsed": false
   },
   "outputs": [
    {
     "data": {
      "text/plain": [
       "'2013-01-02'"
      ]
     },
     "execution_count": 7,
     "metadata": {},
     "output_type": "execute_result"
    }
   ],
   "source": [
    "np.min(df.date)"
   ]
  },
  {
   "cell_type": "code",
   "execution_count": 8,
   "metadata": {
    "collapsed": false
   },
   "outputs": [
    {
     "data": {
      "text/plain": [
       "'2017-08-15'"
      ]
     },
     "execution_count": 8,
     "metadata": {},
     "output_type": "execute_result"
    }
   ],
   "source": [
    "np.max(df.date)"
   ]
  },
  {
   "cell_type": "code",
   "execution_count": 9,
   "metadata": {
    "collapsed": false
   },
   "outputs": [
    {
     "data": {
      "text/plain": [
       "numpy.timedelta64(1686,'D')"
      ]
     },
     "execution_count": 9,
     "metadata": {},
     "output_type": "execute_result"
    }
   ],
   "source": [
    "np.datetime64(np.max(df.date)) - np.datetime64(np.min(df.date))"
   ]
  },
  {
   "cell_type": "code",
   "execution_count": 10,
   "metadata": {
    "collapsed": false
   },
   "outputs": [
    {
     "data": {
      "text/plain": [
       "1460"
      ]
     },
     "execution_count": 10,
     "metadata": {},
     "output_type": "execute_result"
    }
   ],
   "source": [
    "365 * 4"
   ]
  },
  {
   "cell_type": "code",
   "execution_count": 11,
   "metadata": {
    "collapsed": true
   },
   "outputs": [],
   "source": [
    "def set_recent_stats(df2, date, days, mean, median, std, skew, kurtosis, ten_by_ninety):\n",
    "    df2.loc[0,'date'] = date\n",
    "    df2.loc[0,'us_{}_mean'.format(days)] = mean\n",
    "    df2.loc[0,'us_{}_med'.format(days)] = median\n",
    "    df2.loc[0,'us_{}_std'.format(days)] = std\n",
    "    df2.loc[0,'us_{}_skew'.format(days)] = skew\n",
    "    df2.loc[0,'us_{}_kurt'.format(days)] = kurtosis\n",
    "    df2.loc[0,'us_{}_tbn'.format(days)] = ten_by_ninety\n",
    "\n",
    "\n",
    "def set_recent_stats_promo(df2, date, days, mean, median, std, skew, kurtosis, ten_by_ninety):\n",
    "    df2.loc[0,'date'] = date\n",
    "    df2.loc[0,'us_{}_p_mean'.format(days)] = mean\n",
    "    df2.loc[0,'us_{}_p_med'.format(days)] = median\n",
    "    df2.loc[0,'us_{}_p_std'.format(days)] = std\n",
    "    df2.loc[0,'us_{}_p_skew'.format(days)] = skew\n",
    "    df2.loc[0,'us_{}_p_kurt'.format(days)] = kurtosis\n",
    "    df2.loc[0,'us_{}_p_tbn'.format(days)] = ten_by_ninety\n",
    "\n",
    "\n",
    "def set_recent_stats_promo2(df2, date, days, mean, median, std, skew, kurtosis, ten_by_ninety):\n",
    "    \n",
    "    df2.loc[0,'date'] = date\n",
    "    df2.loc[0,'us_{}_p_mean'.format(days)] = mean\n",
    "    df2.loc[0,'us_{}_p_med'.format(days)] = median\n",
    "    df2.loc[0,'us_{}_p_std'.format(days)] = std\n",
    "    df2.loc[0,'us_{}_p_skew'.format(days)] = skew\n",
    "    df2.loc[0,'us_{}_p_kurt'.format(days)] = kurtosis\n",
    "    df2.loc[0,'us_{}_p_tbn'.format(days)] = ten_by_ninety\n",
    "\n",
    "\n",
    "def set_recent_stats_promo3(df2, date, days, fn, mean, median, std, skew, kurtosis, ten_by_ninety):\n",
    "    df2.loc[0,'date'] = date\n",
    "    df2.loc[0,'us_{}_p_mean'.format(days)] = mean\n",
    "    df2.loc[0,'us_{}_p_med'.format(days)] = median\n",
    "    df2.loc[0,'us_{}_p_std'.format(days)] = std\n",
    "    df2.loc[0,'us_{}_p_skew'.format(days)] = skew\n",
    "    df2.loc[0,'us_{}_p_kurt'.format(days)] = kurtosis\n",
    "    df2.loc[0,'us_{}_p_tbn'.format(days)] = ten_by_ninety\n",
    "\n",
    "def set_recent_stats_hol(df2, date, days, mean, median, std, skew, kurtosis, ten_by_ninety):\n",
    "    df2.loc[0,'date'] = date\n",
    "    df2.loc[0,'us_{}_h_mean'.format(days)] = mean\n",
    "    df2.loc[0,'us_{}_h_med'.format(days)] = median\n",
    "    df2.loc[0,'us_{}_h_std'.format(days)] = std\n",
    "    df2.loc[0,'us_{}_h_skew'.format(days)] = skew\n",
    "    df2.loc[0,'us_{}_h_kurt'.format(days)] = kurtosis\n",
    "    df2.loc[0,'us_{}_h_tbn'.format(days)] = ten_by_ninety\n",
    "\n",
    "\n",
    "def set_recent_stats_per(df2, date, days, mean, median, std, skew, kurtosis, ten_by_ninety):\n",
    "    df2.loc[0,'date'] = date\n",
    "    df2.loc[0,'us_{}_per_mean'.format(days)] = mean\n",
    "    df2.loc[0,'us_{}_per_med'.format(days)] = median\n",
    "    df2.loc[0,'us_{}_per_std'.format(days)] = std\n",
    "    df2.loc[0,'us_{}_per_skew'.format(days)] = skew\n",
    "    df2.loc[0,'us_{}_per_kurt'.format(days)] = kurtosis\n",
    "    df2.loc[0,'us_{}_per_tbn'.format(days)] = ten_by_ninety\n",
    "\n",
    "\n",
    "def set_recent_stats_nper(df2, date, days, mean, median, std, skew, kurtosis, ten_by_ninety):\n",
    "    df2.loc[0,'date'] = date\n",
    "    df2.loc[0,'us_{}_nper_mean'.format(days)] = mean\n",
    "    df2.loc[0,'us_{}_nper_med'.format(days)] = median\n",
    "    df2.loc[0,'us_{}_nper_std'.format(days)] = std\n",
    "    df2.loc[0,'us_{}_nper_skew'.format(days)] = skew\n",
    "    df2.loc[0,'us_{}_nper_kurt'.format(days)] = kurtosis\n",
    "    df2.loc[0,'us_{}_nper_tbn'.format(days)] = ten_by_ninety\n",
    "\n",
    "\n",
    "def set_recent_stats_dow(df2, date, days, dow, mean, median, std, skew, kurtosis, ten_by_ninety):\n",
    "    df2.loc[0,'date'] = date\n",
    "    df2.loc[0, 'us_{}_dow{}_mean'.format(days, dow)] = mean\n",
    "    df2.loc[0, 'us_{}_dow{}_med'.format(days, dow)] = median\n",
    "    df2.loc[0, 'us_{}_dow{}_std'.format(days, dow)] = std\n",
    "    df2.loc[0, 'us_{}_dow{}_skew'.format(days, dow)] = skew\n",
    "    df2.loc[0, 'us_{}_dow{}_kurt'.format(days, dow)] = kurtosis\n",
    "    df2.loc[0, 'us_{}_dow{}_tbn'.format(days, dow)] = ten_by_ninety\n",
    "\n",
    "def set_recent_stats_promo_hol(df2, date, days, mean, median, std, skew, kurtosis, ten_by_ninety):\n",
    "    df2.loc[0,'date'] = date\n",
    "    df2.loc[0, 'us_{}_ph_mean'.format(days)] = mean\n",
    "    df2.loc[0, 'us_{}_ph_med'.format(days)] = median\n",
    "    df2.loc[0, 'us_{}_ph_std'.format(days)] = std\n",
    "    df2.loc[0, 'us_{}_ph_skew'.format(days)] = skew\n",
    "    df2.loc[0, 'us_{}_ph_kurt'.format(days)] = kurtosis\n",
    "    df2.loc[0, 'us_{}_ph_tbn'.format(days)] = ten_by_ninety\n",
    "\n",
    "\n",
    "def set_recent_stats_dow_promo_hol(df1, date, days, dow, mean, median, std, skew, kurtosis, ten_by_ninety):\n",
    "    df2.loc[0,'date'] = date\n",
    "    df2.loc[0, 'us_{}_dow{}_ph_mean'.format(days, dow)] = mean\n",
    "    df2.loc[0, 'us_{}_dow{}_ph_med'.format(days, dow)] = median\n",
    "    df2.loc[0, 'us_{}_dow{}_ph_std'.format(days, dow)] = std\n",
    "    df2.loc[0, 'us_{}_dow{}_ph_skew'.format(days, dow)] = skew\n",
    "    df2.loc[0, 'us_{}_dow{}_ph_kurt'.format(days, dow)] = kurtosis\n",
    "    df2.loc[0, 'us_{}_dow{}_ph_tbn'.format(days, dow)] = ten_by_ninety\n"
   ]
  },
  {
   "cell_type": "code",
   "execution_count": 12,
   "metadata": {
    "collapsed": true
   },
   "outputs": [],
   "source": [
    "# df_h = pd.read_csv('../data/holidays_events.csv')"
   ]
  },
  {
   "cell_type": "code",
   "execution_count": 13,
   "metadata": {
    "collapsed": false
   },
   "outputs": [],
   "source": [
    "# df_h.type.value_counts()"
   ]
  },
  {
   "cell_type": "code",
   "execution_count": 14,
   "metadata": {
    "collapsed": false
   },
   "outputs": [],
   "source": [
    "# df_h1 = df_h[(df.date.apply(np.datetime64)) > np.datetime64('2017-08-15')]"
   ]
  },
  {
   "cell_type": "code",
   "execution_count": 15,
   "metadata": {
    "collapsed": false
   },
   "outputs": [],
   "source": [
    "# df.onpromotion.value_counts()"
   ]
  },
  {
   "cell_type": "code",
   "execution_count": 16,
   "metadata": {
    "collapsed": false
   },
   "outputs": [],
   "source": [
    "# df.onpromotion[df.onpromotion==True].value_counts()"
   ]
  },
  {
   "cell_type": "code",
   "execution_count": 17,
   "metadata": {
    "collapsed": false
   },
   "outputs": [],
   "source": [
    "# df.h_type.value_counts()"
   ]
  },
  {
   "cell_type": "code",
   "execution_count": 18,
   "metadata": {
    "collapsed": false
   },
   "outputs": [],
   "source": [
    "# df.h_type[df.h_type=='Work Day'].value_counts()"
   ]
  },
  {
   "cell_type": "code",
   "execution_count": 19,
   "metadata": {
    "collapsed": false
   },
   "outputs": [],
   "source": [
    "# df.h_type[df.h_type != 'Work Day'].value_counts()"
   ]
  },
  {
   "cell_type": "code",
   "execution_count": 20,
   "metadata": {
    "collapsed": true
   },
   "outputs": [],
   "source": [
    "#df_h.h_type[df_h.type == 'Additional'] = 'Holiday'"
   ]
  },
  {
   "cell_type": "code",
   "execution_count": 21,
   "metadata": {
    "collapsed": true
   },
   "outputs": [],
   "source": [
    "recent_days = [30, 90, 180, 365, 730]"
   ]
  },
  {
   "cell_type": "code",
   "execution_count": 22,
   "metadata": {
    "collapsed": true
   },
   "outputs": [],
   "source": [
    "def calculate_recent_stats(date, df, fn):\n",
    "    df3 = pd.DataFrame()\n",
    "    for days in recent_days:\n",
    "        past_date = (np.datetime64(date) - np.timedelta64(days, 'D'))\n",
    "        i = 1\n",
    "        df_min_date = np.datetime64(np.min(df.date))\n",
    "        while (past_date < df_min_date) & (i <= 2):\n",
    "            past_date = (np.datetime64(date) - np.timedelta64(days-i, 'D'))\n",
    "            i +=1\n",
    "        \n",
    "        if past_date < df_min_date:\n",
    "            print('date:{}, past_date:{}'.format(date, past_date))\n",
    "            j = days-i\n",
    "            print('days:{}, i: {}, days-i:{}'.format(days, i, j))\n",
    "            set_recent_stats(df3, date,days,0, 0, 0, 0, 0, 0)\n",
    "            continue\n",
    "        data = df.unit_sales[(df.dts < np.datetime64(date)) & \n",
    "                             (df.dts >= past_date)]\n",
    "        if(data.shape[0] == 0):\n",
    "            print('date:{}, past_date:{}'.format(date, past_date))\n",
    "            j = days-i\n",
    "            print('days:{}, i: {}, days-i:{}'.format(days, i, j))\n",
    "            set_recent_stats(df3, date,days,0, 0, 0, 0, 0, 0)\n",
    "            continue\n",
    "        mean = data.mean()\n",
    "        median = data.median()\n",
    "        std = data.std()\n",
    "        skew = data.skew()\n",
    "        kurtosis = data.kurtosis()\n",
    "        tenp = data.quantile(0.1)\n",
    "        ninetyp = data.quantile(0.9)\n",
    "        ten_by_ninety = tenp/ninetyp\n",
    "        set_recent_stats(df3, date,days,mean, median, std, skew, kurtosis, ten_by_ninety)\n",
    "        del data\n",
    "    append_to_csv(df3, fn)\n",
    "    del df3\n",
    "        \n",
    "\n",
    "def calculate_recent_stats_promo(date, df, fn):\n",
    "    df3 = pd.DataFrame()\n",
    "    for days in recent_days:\n",
    "        past_date = (np.datetime64(date) - np.timedelta64(days, 'D'))\n",
    "        i = 1\n",
    "        df_min_date = np.datetime64(np.min(df.date))\n",
    "        while (past_date < df_min_date) & (i <= 2):\n",
    "            past_date = (np.datetime64(date) - np.timedelta64(days-i, 'D'))\n",
    "            i +=1\n",
    "        \n",
    "        if past_date < df_min_date:\n",
    "            print('date:{}, past_date:{}'.format(date, past_date))\n",
    "            j = days-i\n",
    "            print('days:{}, i: {}, days-i:{}'.format(days, i, j))\n",
    "            set_recent_stats(df3, date,days,0, 0, 0, 0, 0, 0)\n",
    "            continue\n",
    "        \n",
    "        data = df.unit_sales[(df.dts < np.datetime64(date)) & \n",
    "                             (df.dts >= past_date) & (df.onpromotion == True)]\n",
    "        if(data.shape[0] == 0):\n",
    "            print('date:{}, past_date:{}'.format(date, past_date))\n",
    "            j = days-i\n",
    "            print('days:{}, i: {}, days-i:{}'.format(days, i, j))\n",
    "            set_recent_stats(df3, date,days,0, 0, 0, 0, 0, 0)\n",
    "            continue\n",
    "        \n",
    "        mean = data.mean()\n",
    "        median = data.median()\n",
    "        std = data.std()\n",
    "        skew = data.skew()\n",
    "        kurtosis = data.kurtosis()\n",
    "        tenp = data.quantile(0.1)\n",
    "        ninetyp = data.quantile(0.9)\n",
    "        ten_by_ninety = tenp/ninetyp\n",
    "        set_recent_stats_promo3(df3, date,days,mean, median, std, skew, kurtosis, ten_by_ninety)\n",
    "        del data\n",
    "    append_to_csv(df3, fn)\n",
    "    del df3\n",
    "        \n",
    "        \n",
    "def calculate_recent_stats_hol(date, df, fn):\n",
    "    df3 = pd.DataFrame()\n",
    "    for days in recent_days:\n",
    "        past_date = (np.datetime64(date) - np.timedelta64(days, 'D'))\n",
    "        i = 1\n",
    "        df_min_date = np.datetime64(np.min(df.date))\n",
    "        while (past_date < df_min_date) & (i <= 2):\n",
    "            past_date = (np.datetime64(date) - np.timedelta64(days-i, 'D'))\n",
    "            i +=1\n",
    "        \n",
    "        if past_date < df_min_date:\n",
    "            print('date:{}, past_date:{}'.format(date, past_date))\n",
    "            j = days-i\n",
    "            print('days:{}, i: {}, days-i:{}'.format(days, i, j))\n",
    "            set_recent_stats(df3, date,days,0, 0, 0, 0, 0, 0)\n",
    "            continue\n",
    "        \n",
    "        data = df.unit_sales[(df.dts < np.datetime64(date)) & \n",
    "                             (df.dts >= past_date) & (df.h_type != 'Work Day')]\n",
    "        if(data.shape[0] == 0):\n",
    "            print('date:{}, past_date:{}'.format(date, past_date))\n",
    "            j = days-i\n",
    "            print('days:{}, i: {}, days-i:{}'.format(days, i, j))\n",
    "            set_recent_stats(df3, date,days,0, 0, 0, 0, 0, 0)\n",
    "            continue\n",
    "        \n",
    "        mean = data.mean()\n",
    "        median = data.median()\n",
    "        std = data.std()\n",
    "        skew = data.skew()\n",
    "        kurtosis = data.kurtosis()\n",
    "        tenp = data.quantile(0.1)\n",
    "        ninetyp = data.quantile(0.9)\n",
    "        ten_by_ninety = tenp/ninetyp\n",
    "        set_recent_stats_hol(df3, date,days,mean, median, std, skew, kurtosis, ten_by_ninety)\n",
    "        del data\n",
    "    append_to_csv(df3, fn)\n",
    "    del df3\n",
    "    \n",
    " \n",
    "def calculate_recent_stats_perishable(date, df, fn):\n",
    "    df3 = pd.DataFrame()\n",
    "    for days in recent_days:\n",
    "        past_date = (np.datetime64(date) - np.timedelta64(days, 'D'))\n",
    "        i = 1\n",
    "        df_min_date = np.datetime64(np.min(df.date))\n",
    "        while (past_date < df_min_date) & (i <= 2):\n",
    "            past_date = (np.datetime64(date) - np.timedelta64(days-i, 'D'))\n",
    "            i +=1\n",
    "        \n",
    "        if past_date < df_min_date:\n",
    "            print('date:{}, past_date:{}'.format(date, past_date))\n",
    "            j = days-i\n",
    "            print('days:{}, i: {}, days-i:{}'.format(days, i, j))\n",
    "            set_recent_stats(df3, date,days,0, 0, 0, 0, 0, 0)\n",
    "            continue\n",
    "        \n",
    "        data = df.unit_sales[(df.dts < np.datetime64(date)) & \n",
    "                             (df.dts >= past_date) & (df.perishable == 1)]\n",
    "        if(data.shape[0] == 0):\n",
    "            print('date:{}, past_date:{}'.format(date, past_date))\n",
    "            j = days-i\n",
    "            print('days:{}, i: {}, days-i:{}'.format(days, i, j))\n",
    "            set_recent_stats(df3, date,days,0, 0, 0, 0, 0, 0)\n",
    "            continue\n",
    "        \n",
    "        mean = data.mean()\n",
    "        median = data.median()\n",
    "        std = data.std()\n",
    "        skew = data.skew()\n",
    "        kurtosis = data.kurtosis()\n",
    "        tenp = data.quantile(0.1)\n",
    "        ninetyp = data.quantile(0.9)\n",
    "        ten_by_ninety = tenp/ninetyp\n",
    "        set_recent_stats_per(df3, date,days, mean, median, std, skew, kurtosis, ten_by_ninety)\n",
    "        del data\n",
    "    append_to_csv(df3, fn)\n",
    "    del df3\n",
    "        \n",
    "def calculate_recent_stats_not_perishable(date, df, fn):\n",
    "    df3 = pd.DataFrame()\n",
    "    for days in recent_days:\n",
    "        past_date = (np.datetime64(date) - np.timedelta64(days, 'D'))\n",
    "        i = 1\n",
    "        df_min_date = np.datetime64(np.min(df.date))\n",
    "        while (past_date < df_min_date) & (i <= 2):\n",
    "            past_date = (np.datetime64(date) - np.timedelta64(days-i, 'D'))\n",
    "            i +=1\n",
    "        \n",
    "        if past_date < df_min_date:\n",
    "            print('date:{}, past_date:{}'.format(date, past_date))\n",
    "            j = days-i\n",
    "            print('days:{}, i: {}, days-i:{}'.format(days, i, j))\n",
    "            set_recent_stats_nper(df3, date,days,0, 0, 0, 0, 0, 0)\n",
    "            continue\n",
    "        \n",
    "#         data = df.unit_sales[(df.dts < np.datetime64(date)) & \n",
    "#                              (df.dts >= past_date) & (df.perishable == 0)]\n",
    "        \n",
    "        data = df.unit_sales[(df.date.astype('str') < str(date)) & \n",
    "                             (df.date.astype('str') >= str(past_date)) & (df.perishable == 0) ]\n",
    "        if(data.shape[0] == 0):\n",
    "            print('date:{}, past_date:{}'.format(date, past_date))\n",
    "            j = days-i\n",
    "            print('days:{}, i: {}, days-i:{}'.format(days, i, j))\n",
    "            set_recent_stats_nper(df3, date,days,0, 0, 0, 0, 0, 0)\n",
    "            continue\n",
    "        mean = data.mean()\n",
    "        median = data.median()\n",
    "        std = data.std()\n",
    "        skew = data.skew()\n",
    "        kurtosis = data.kurtosis()\n",
    "        tenp = data.quantile(0.1)\n",
    "        ninetyp = data.quantile(0.9)\n",
    "        ten_by_ninety = tenp/ninetyp\n",
    "        set_recent_stats_nper(df3, date,days,mean, median, std, skew, kurtosis, ten_by_ninety)\n",
    "        del data\n",
    "    append_to_csv(df3, fn)\n",
    "    del df3\n",
    "        \n",
    "def calculate_recent_stats_dow(date, dow, df, fn):\n",
    "    df3 = pd.DataFrame()\n",
    "    for days in recent_days:\n",
    "        past_date = (np.datetime64(date) - np.timedelta64(days, 'D'))\n",
    "        i = 1\n",
    "        df_min_date = np.datetime64(np.min(df.date))\n",
    "        while (past_date < df_min_date) & (i <= 2):\n",
    "            past_date = (np.datetime64(date) - np.timedelta64(days-i, 'D'))\n",
    "            i +=1\n",
    "        \n",
    "        if past_date < df_min_date:\n",
    "            print('date:{}, past_date:{}'.format(date, past_date))\n",
    "            j = days-i\n",
    "            print('days:{}, i: {}, days-i:{}'.format(days, i, j))\n",
    "            set_recent_stats(df3, date,days,0, 0, 0, 0, 0, 0)\n",
    "            continue\n",
    "        \n",
    "        data = df.unit_sales[(df.dts < np.datetime64(date)) & \n",
    "                             (df.dts >= past_date) & (df.dow == dow)]\n",
    "        if(data.shape[0] == 0):\n",
    "            print('date:{}, past_date:{}'.format(date, past_date))\n",
    "            j = days-i\n",
    "            print('days:{}, i: {}, days-i:{}'.format(days, i, j))\n",
    "            set_recent_stats(df3, date,days,0, 0, 0, 0, 0, 0)\n",
    "            continue\n",
    "        mean = data.mean()\n",
    "        median = data.median()\n",
    "        std = data.std()\n",
    "        skew = data.skew()\n",
    "        kurtosis = data.kurtosis()\n",
    "        tenp = data.quantile(0.1)\n",
    "        ninetyp = data.quantile(0.9)\n",
    "        ten_by_ninety = tenp/ninetyp\n",
    "        set_recent_stats_dow(df3, date,days,mean, median, std, skew, kurtosis, ten_by_ninety)\n",
    "        del data\n",
    "    append_to_csv(df3, fn)\n",
    "    del df3\n",
    "    \n",
    "def calculate_recent_stats_promo_hol(date, df, fn):\n",
    "    df3 = pd.DataFrame()\n",
    "    for days in recent_days:\n",
    "        past_date = (np.datetime64(date) - np.timedelta64(days, 'D'))\n",
    "        i = 1\n",
    "        df_min_date = np.datetime64(np.min(df.date))\n",
    "        while (past_date < df_min_date) & (i <= 2):\n",
    "            past_date = (np.datetime64(date) - np.timedelta64(days-i, 'D'))\n",
    "            i +=1\n",
    "        \n",
    "        if past_date < df_min_date:\n",
    "            print('date:{}, past_date:{}'.format(date, past_date))\n",
    "            j = days-i\n",
    "            print('days:{}, i: {}, days-i:{}'.format(days, i, j))\n",
    "            set_recent_stats(df3, date,days,0, 0, 0, 0, 0, 0)\n",
    "            continue\n",
    "        \n",
    "        data = df.unit_sales[(df.dts < np.datetime64(date)) & \n",
    "                             (df.dts >= past_date) & \n",
    "                             (df.h_type != 'Work Day') & (df.onpromotion == True)]\n",
    "        if(data.shape[0] == 0):\n",
    "            print('date:{}, past_date:{}'.format(date, past_date))\n",
    "            j = days-i\n",
    "            print('days:{}, i: {}, days-i:{}'.format(days, i, j))\n",
    "            set_recent_stats(df3, date,days,0, 0, 0, 0, 0, 0)\n",
    "            continue\n",
    "        mean = data.mean()\n",
    "        median = data.median()\n",
    "        std = data.std()\n",
    "        skew = data.skew()\n",
    "        kurtosis = data.kurtosis()\n",
    "        tenp = data.quantile(0.1)\n",
    "        ninetyp = data.quantile(0.9)\n",
    "        ten_by_ninety = tenp/ninetyp\n",
    "        set_recent_stats_promo_hol(df3, date,days,mean, median, std, skew, kurtosis, ten_by_ninety)\n",
    "        del data\n",
    "    append_to_csv(df3, fn)\n",
    "    del df3\n",
    "    \n",
    "def calculate_recent_stats_dow_promo_hol(date, dow, df, fn):\n",
    "    df3 = pd.DataFrame()\n",
    "    for days in recent_days:\n",
    "        past_date = (np.datetime64(date) - np.timedelta64(days, 'D'))\n",
    "        i = 1\n",
    "        df_min_date = np.datetime64(np.min(df.date))\n",
    "        while (past_date < df_min_date) & (i <= 2):\n",
    "            past_date = (np.datetime64(date) - np.timedelta64(days-i, 'D'))\n",
    "            i +=1\n",
    "        \n",
    "        if past_date < df_min_date:\n",
    "            print('date:{}, past_date:{}'.format(date, past_date))\n",
    "            j = days-i\n",
    "            print('days:{}, i: {}, days-i:{}'.format(days, i, j))\n",
    "            set_recent_stats(df3, date,days,0, 0, 0, 0, 0, 0)\n",
    "            continue\n",
    "        \n",
    "        data = df.unit_sales[(df.dts < np.datetime64(date)) & \n",
    "                             (df.dts >= past_date) & \n",
    "                             (df.h_type != 'Work Day') & \n",
    "                             (df.onpromotion == True) & \n",
    "                             (df.dow == dow)]\n",
    "        if(data.shape[0] == 0):\n",
    "            print('date:{}, past_date:{}'.format(date, past_date))\n",
    "            j = days-i\n",
    "            print('days:{}, i: {}, days-i:{}'.format(days, i, j))\n",
    "            set_recent_stats(df3, date,days,dow,0, 0, 0, 0, 0, 0)\n",
    "            continue\n",
    "        mean = data.mean()\n",
    "        median = data.median()\n",
    "        std = data.std()\n",
    "        skew = data.skew()\n",
    "        kurtosis = data.kurtosis()\n",
    "        tenp = data.quantile(0.1)\n",
    "        ninetyp = data.quantile(0.9)\n",
    "        ten_by_ninety = tenp/ninetyp\n",
    "        set_recent_stats_dow_promo_hol(df3, date,days,dow,mean, median, std, skew, kurtosis, ten_by_ninety)\n",
    "        del data\n",
    "    append_to_csv(df3, fn)\n",
    "    del df3"
   ]
  },
  {
   "cell_type": "code",
   "execution_count": 23,
   "metadata": {
    "collapsed": false
   },
   "outputs": [
    {
     "name": "stdout",
     "output_type": "stream",
     "text": [
      "5.52075222249\n"
     ]
    }
   ],
   "source": [
    "print(df.unit_sales.mean())"
   ]
  },
  {
   "cell_type": "code",
   "execution_count": 24,
   "metadata": {
    "collapsed": true
   },
   "outputs": [],
   "source": [
    "past_date = (np.datetime64('2016-01-01') - np.timedelta64(2, 'D'))"
   ]
  },
  {
   "cell_type": "code",
   "execution_count": 25,
   "metadata": {
    "collapsed": false
   },
   "outputs": [],
   "source": [
    "# df.unit_sales[(df.date.apply(np.datetime64) >= past_date) & \n",
    "#               (df.date.apply(np.datetime64) < np.datetime64('2016-01-01'))].mean()"
   ]
  },
  {
   "cell_type": "code",
   "execution_count": 26,
   "metadata": {
    "collapsed": true
   },
   "outputs": [],
   "source": [
    "df1 = df.set_index('date')"
   ]
  },
  {
   "cell_type": "code",
   "execution_count": 27,
   "metadata": {
    "collapsed": true
   },
   "outputs": [],
   "source": [
    "s1 = df1.loc['2015-12-31', 'unit_sales']\n",
    "s2 = df1.loc['2015-12-30', 'unit_sales']"
   ]
  },
  {
   "cell_type": "code",
   "execution_count": 28,
   "metadata": {
    "collapsed": true
   },
   "outputs": [],
   "source": [
    "s = pd.concat([s1, s2], axis=0)"
   ]
  },
  {
   "cell_type": "code",
   "execution_count": 29,
   "metadata": {
    "collapsed": false
   },
   "outputs": [
    {
     "data": {
      "text/plain": [
       "6.5914254756871031"
      ]
     },
     "execution_count": 29,
     "metadata": {},
     "output_type": "execute_result"
    }
   ],
   "source": [
    "s.mean()"
   ]
  },
  {
   "cell_type": "code",
   "execution_count": 30,
   "metadata": {
    "collapsed": true
   },
   "outputs": [],
   "source": [
    "gc.enable()"
   ]
  },
  {
   "cell_type": "code",
   "execution_count": 31,
   "metadata": {
    "collapsed": true
   },
   "outputs": [],
   "source": [
    "# import os\n",
    "# x = {i for i in range(20)}\n",
    "# os.sched_setaffinity(0, x)"
   ]
  },
  {
   "cell_type": "code",
   "execution_count": 32,
   "metadata": {
    "collapsed": true
   },
   "outputs": [],
   "source": [
    "# chunks = []\n",
    "# for i in range(1, len(d), 1000):\n",
    "#    chunks.append(d[i:min(i + 1000, len(d))])\n",
    "\n",
    "# res = Parallel(n_jobs=-1) (delayed(hash) (d) for d in chunks)\n",
    "\n",
    "# def hash(d):\n",
    "#     return [hashlib.sha256(str(x).encode('utf-8')).hexdigest()[:30] for x in d.itertuples(index=False, name=None)]"
   ]
  },
  {
   "cell_type": "code",
   "execution_count": 33,
   "metadata": {
    "collapsed": true
   },
   "outputs": [],
   "source": [
    "# Parallel(n_jobs=20)(delayed(sqrt)(i ** 2) for i in range(10000000))"
   ]
  },
  {
   "cell_type": "code",
   "execution_count": 34,
   "metadata": {
    "collapsed": true
   },
   "outputs": [],
   "source": [
    "# df = pd.DataFrame()\n",
    "# df1 = pd.DataFrame()"
   ]
  },
  {
   "cell_type": "code",
   "execution_count": null,
   "metadata": {
    "collapsed": true
   },
   "outputs": [],
   "source": []
  },
  {
   "cell_type": "code",
   "execution_count": 35,
   "metadata": {
    "collapsed": true
   },
   "outputs": [],
   "source": [
    "# for i in range(1,55):\n",
    "#     print(i)\n",
    "#     fn = '../cache/train10_t_store{}.csv'.format(i)\n",
    "#     df2 = pd.read_csv(fn)\n",
    "#     df2.unit_sales[df2.unit_sales < 0] = 0\n",
    "#     df3 = df2.set_index('date')\n",
    "#     dates = np.unique(df2.date.values)\n",
    "# #     for j, date in tqdm(enumerate(dates)):\n",
    "#     df = df2.copy()\n",
    "#     df1 = df3.copy()\n",
    "#     df = df.iloc[::-1]\n",
    "#     Parallel(n_jobs=10)(delayed(calculate_recent_stats)(date) for date in tqdm(dates))\n",
    "# #         calculate_recent_stats(date, df, df1)\n",
    "#     for days in [30, 90, 180, 365, 730]:\n",
    "#         df = set_recent_df_stats(df ,df1, days)\n",
    "#     df = df.iloc[::-1]\n",
    "#     print(df.shape)\n",
    "#     print(sum(df.isnull().any()==True)) # print NA\n",
    "#     print(sum((df != 0).any(axis=0))) # print non-zero columns\n",
    "#     fn = '../cache/train10_t_store{}_recent_stats.csv'.format(i)\n",
    "#     print(fn)\n",
    "#     df.to_csv(fn, index=False)\n",
    "#     del df2\n",
    "#     del df3"
   ]
  },
  {
   "cell_type": "code",
   "execution_count": 36,
   "metadata": {
    "collapsed": true
   },
   "outputs": [],
   "source": [
    "# files_list = []\n",
    "# for i in range(1,55):\n",
    "#     fn = '../cache/train10_t_store{}.csv'.format(i)\n",
    "#     files_list.append(fn)"
   ]
  },
  {
   "cell_type": "code",
   "execution_count": 37,
   "metadata": {
    "collapsed": true
   },
   "outputs": [],
   "source": [
    "# print('creating pool..')\n",
    "# print(cpu_count())\n",
    "# thread_pool = Pool(10)\n",
    "# print('mapping pool..')\n",
    "# thread_pool.map (calculate_recent_stats2, arg_list)\n",
    "\n",
    "# print('joining pool..')"
   ]
  },
  {
   "cell_type": "code",
   "execution_count": 38,
   "metadata": {
    "collapsed": true
   },
   "outputs": [],
   "source": [
    "# from multiprocessing import Pool, cpu_count\n",
    "def process_csv_file2(i):\n",
    "    fn = '../cache/bkup/train10_t_store{}.csv'.format(i)\n",
    "    print(fn)\n",
    "    df = pd.read_csv(fn)\n",
    "    print(df.shape)\n",
    "    df.unit_sales[df.unit_sales < 0] = 0 \n",
    "    df = df.iloc[::-1]\n",
    "    df1 = df.set_index('date')\n",
    "\n",
    "    trend_dates = []\n",
    "    for date in np.unique(df.date.values):\n",
    "        curr = np.datetime64(date)\n",
    "        last_in_trend = np.datetime64('2015-01-01')\n",
    "        if curr < last_in_trend:\n",
    "            continue\n",
    "        trend_dates.append(date)\n",
    "    for date in tqdm(trend_dates):\n",
    "        calculate_recent_stats_not_perishable(date, df, df1)\n",
    "    for days in [30, 90, 180, 365, 730]:\n",
    "        df = set_recent_df_stats_nper(df, df1, days)\n",
    "    df = df.iloc[::-1]\n",
    "    \n",
    "    df = df[(df.date.apply(np.datetime64) >= np.datetime64('2015-01-01')) & \n",
    "              (df.date.apply(np.datetime64) <= np.datetime64('2017-08-15'))]\n",
    "    \n",
    "    print(df.shape)\n",
    "    s = sum(df.isnull().any()==True) # print NA\n",
    "    print(s)\n",
    "    if s > 0:\n",
    "        print(df.isnull().sum())\n",
    "    print(sum((df != 0).any(axis=0))) # print non-zero columns\n",
    "    fn = '../cache/train10_t_store{}_recent_stats_nper.csv'.format(i)\n",
    "    print(fn)\n",
    "    df.to_csv(fn, index=False)\n",
    "    del df\n",
    "    del df1"
   ]
  },
  {
   "cell_type": "code",
   "execution_count": 39,
   "metadata": {
    "collapsed": true
   },
   "outputs": [],
   "source": [
    "def delete_file_if_exists(filename):\n",
    "    if os.path.exists(filename):\n",
    "        os.remove(filename)"
   ]
  },
  {
   "cell_type": "code",
   "execution_count": 40,
   "metadata": {
    "collapsed": true
   },
   "outputs": [],
   "source": [
    "def process_csv_file1(i):\n",
    "    fn_org = '../cache/bkup/train10_t_store{}.csv'.format(i)\n",
    "    print(fn_org)\n",
    "    df = pd.read_csv(fn_org)\n",
    "    \n",
    "    df.unit_sales[df.unit_sales < 0] = 0 \n",
    "    df['dts'] = df.date.map(np.datetime64)\n",
    "\n",
    "    trend_dates = []\n",
    "    for date in np.unique(df.date.values):\n",
    "        curr = np.datetime64(date)\n",
    "        last_in_trend = np.datetime64('2015-01-01')\n",
    "        if curr < last_in_trend:\n",
    "            continue\n",
    "        trend_dates.append(date)\n",
    "    \n",
    "    fn_tmp = '../cache/train10_t_store{}_recent_stats_nper_tmp.csv'.format(i)\n",
    "    delete_file_if_exists(fn_tmp)\n",
    "    for date in tqdm(trend_dates):\n",
    "        calculate_recent_stats_not_perishable(date, df, fn_tmp)\n",
    "\n",
    "    print(df.shape)\n",
    "    df = df[(df.dts >= np.datetime64('2015-01-01')) & (df.dts <= np.datetime64('2017-08-15'))]\n",
    "\n",
    "    print(df.shape)\n",
    "    nrows1 = df.shape[0]\n",
    "    df1 = pd.read_csv(fn_tmp)\n",
    "    print(df1.shape)\n",
    "    df = pd.merge(df, df1, how='left', on='date')\n",
    "    df = df.drop('dts', axis=1)\n",
    "    s = sum(df.isnull().any()==True) # print NA\n",
    "    print(s)\n",
    "    if s > 0:\n",
    "        print(df.isnull().sum())\n",
    "    print(sum((df != 0).any(axis=0))) # print non-zero columns\n",
    "    fn = '../cache/train10_t_store{}_recent_stats_nper.csv'.format(i)\n",
    "    print(fn)\n",
    "    df.to_csv(fn, index=False)\n",
    "    print(df.shape)\n",
    "    nrows2 = df.shape[0]\n",
    "    assert(nrows1 == nrows2)\n",
    "    del df\n",
    "    del df1\n",
    "    delete_file_if_exists(fn_tmp)"
   ]
  },
  {
   "cell_type": "code",
   "execution_count": 41,
   "metadata": {
    "collapsed": true
   },
   "outputs": [],
   "source": [
    "def process_csv_file(i):\n",
    "    fn_org = '../cache/bkup/train10_t_store{}.csv'.format(i)\n",
    "    print(fn_org)\n",
    "    df = pd.read_csv(fn_org)\n",
    "    \n",
    "#     df.unit_sales[df.unit_sales < 0] = 0 \n",
    "    df['dts'] = df.date.map(np.datetime64)\n",
    "\n",
    "    trend_dates = []\n",
    "    for date in np.unique(df.date.values):\n",
    "        curr = np.datetime64(date)\n",
    "        last_in_trend = np.datetime64('2015-01-01')\n",
    "        if curr < last_in_trend:\n",
    "            continue\n",
    "        trend_dates.append(date)\n",
    "    \n",
    "    fn_tmp = '../cache/train10_t_store{}_recent_stats_nper_tmp.csv'.format(i)\n",
    "    delete_file_if_exists(fn_tmp)\n",
    "    for date in tqdm(trend_dates):\n",
    "        calculate_recent_stats_not_perishable(date, df, fn_tmp)\n",
    "\n",
    "    print(df.shape)\n",
    "    df = df[(df.dts >= np.datetime64('2015-01-01')) & (df.dts <= np.datetime64('2017-08-15'))]\n",
    "\n",
    "    print(df.shape)\n",
    "    nrows1 = df.shape[0]\n",
    "    df1 = pd.read_csv(fn_tmp)\n",
    "    print(df1.shape)\n",
    "    df = pd.merge(df, df1, how='left', on='date')\n",
    "    df = df.drop('dts', axis=1)\n",
    "    s = sum(df.isnull().any()==True) # print NA\n",
    "    print(s)\n",
    "    if s > 0:\n",
    "        print(df.isnull().sum())\n",
    "    print(sum((df != 0).any(axis=0))) # print non-zero columns\n",
    "    fn = '../cache/train10_t_store{}_recent_stats_nper_1.csv'.format(i)\n",
    "    print(fn)\n",
    "    df.to_csv(fn, float_format='%.5f', index=False)\n",
    "    print(df.shape)\n",
    "    nrows2 = df.shape[0]\n",
    "    assert(nrows1 == nrows2)\n",
    "    del df\n",
    "    del df1\n",
    "    delete_file_if_exists(fn_tmp)"
   ]
  },
  {
   "cell_type": "code",
   "execution_count": 42,
   "metadata": {
    "collapsed": true
   },
   "outputs": [],
   "source": [
    "def process_test_csv_file(i):\n",
    "    fn_org = '../cache/bkup/train10_t_store{}.csv'.format(i)\n",
    "    fn_org1 = '../cache/bkup2/test7_1_t_store{}.csv'.format(i)\n",
    "    print(fn_org1)\n",
    "    df = pd.read_csv(fn_org)\n",
    "    df1 = pd.read_csv(fn_org1)\n",
    "    df = pd.concat([df, df1], axis=0)\n",
    "    \n",
    "#     df.unit_sales[df.unit_sales < 0] = 0 \n",
    "    df['dts'] = df.date.map(np.datetime64)\n",
    "\n",
    "    trend_dates = []\n",
    "    for date in np.unique(df.date.values):\n",
    "        curr = np.datetime64(date)\n",
    "        last_in_trend = np.datetime64('2017-08-16')\n",
    "        if curr < last_in_trend:\n",
    "            continue\n",
    "        trend_dates.append(date)\n",
    "    \n",
    "    fn_tmp = '../cache/test7_1_t_store{}_recent_stats_nper_tmp.csv'.format(i)\n",
    "    delete_file_if_exists(fn_tmp)\n",
    "    for date in tqdm(trend_dates):\n",
    "        calculate_recent_stats_not_perishable(date, df, fn_tmp)\n",
    "\n",
    "    print(df.shape)\n",
    "#     df = df[(df.dts >= np.datetime64('2015-01-01')) & (df.dts <= np.datetime64('2017-08-15'))]\n",
    "    df = df[(df.date.astype('str') >= str('2017-08-16')) & (df.date.astype('str') <= str('2017-08-31'))]\n",
    "\n",
    "    print(df.shape)\n",
    "    nrows1 = df.shape[0]\n",
    "    df1 = pd.read_csv(fn_tmp)\n",
    "    print(df1.shape)\n",
    "    df = pd.merge(df, df1, how='left', on='date')\n",
    "    df = df.drop('dts', axis=1)\n",
    "    s = sum(df.isnull().any()==True) # print NA\n",
    "    print(s)\n",
    "    if s > 0:\n",
    "        print(df.isnull().sum())\n",
    "    print(sum((df != 0).any(axis=0))) # print non-zero columns\n",
    "    fn = '../cache/test7_1_t_store{}_recent_stats_nper_1.csv'.format(i)\n",
    "    print(fn)\n",
    "    df.to_csv(fn, float_format='%.5f', index=False)\n",
    "    print(df.shape)\n",
    "    nrows2 = df.shape[0]\n",
    "    assert(nrows1 == nrows2)\n",
    "    del df\n",
    "    del df1\n",
    "    delete_file_if_exists(fn_tmp)"
   ]
  },
  {
   "cell_type": "code",
   "execution_count": 43,
   "metadata": {
    "collapsed": false
   },
   "outputs": [
    {
     "name": "stdout",
     "output_type": "stream",
     "text": [
      "../cache/bkup2/test7_1_t_store1.csv\n"
     ]
    },
    {
     "name": "stderr",
     "output_type": "stream",
     "text": [
      "/home/watts/anaconda2/envs/sdp35/lib/python3.5/site-packages/IPython/core/interactiveshell.py:2850: DtypeWarning: Columns (5) have mixed types. Specify dtype option on import or set low_memory=False.\n",
      "  if self.run_code(code, result):\n",
      "100%|██████████| 16/16 [01:39<00:00,  6.20s/it]\n"
     ]
    },
    {
     "name": "stdout",
     "output_type": "stream",
     "text": [
      "(2624569, 28)\n",
      "(62416, 28)\n",
      "(16, 31)\n",
      "0\n",
      "56\n",
      "../cache/test7_1_t_store1_recent_stats_nper_1.csv\n",
      "(62416, 57)\n",
      "../cache/bkup2/test7_1_t_store2.csv\n"
     ]
    },
    {
     "name": "stderr",
     "output_type": "stream",
     "text": [
      "100%|██████████| 16/16 [01:55<00:00,  7.23s/it]\n"
     ]
    },
    {
     "name": "stdout",
     "output_type": "stream",
     "text": [
      "(3050256, 28)\n",
      "(62416, 28)\n",
      "(16, 31)\n",
      "0\n",
      "56\n",
      "../cache/test7_1_t_store2_recent_stats_nper_1.csv\n",
      "(62416, 57)\n",
      "../cache/bkup2/test7_1_t_store3.csv\n"
     ]
    },
    {
     "name": "stderr",
     "output_type": "stream",
     "text": [
      "100%|██████████| 16/16 [02:12<00:00,  8.28s/it]\n"
     ]
    },
    {
     "name": "stdout",
     "output_type": "stream",
     "text": [
      "(3463680, 28)\n",
      "(62416, 28)\n",
      "(16, 31)\n",
      "0\n",
      "56\n",
      "../cache/test7_1_t_store3_recent_stats_nper_1.csv\n",
      "(62416, 57)\n",
      "../cache/bkup2/test7_1_t_store4.csv\n"
     ]
    },
    {
     "name": "stderr",
     "output_type": "stream",
     "text": [
      "100%|██████████| 16/16 [01:49<00:00,  6.83s/it]\n"
     ]
    },
    {
     "name": "stdout",
     "output_type": "stream",
     "text": [
      "(2892970, 28)\n",
      "(62416, 28)\n",
      "(16, 31)\n",
      "0\n",
      "56\n",
      "../cache/test7_1_t_store4_recent_stats_nper_1.csv\n",
      "(62416, 57)\n",
      "../cache/bkup2/test7_1_t_store5.csv\n"
     ]
    },
    {
     "name": "stderr",
     "output_type": "stream",
     "text": [
      "100%|██████████| 16/16 [01:42<00:00,  6.41s/it]\n"
     ]
    },
    {
     "name": "stdout",
     "output_type": "stream",
     "text": [
      "(2729107, 28)\n",
      "(62416, 28)\n",
      "(16, 31)\n",
      "0\n",
      "56\n",
      "../cache/test7_1_t_store5_recent_stats_nper_1.csv\n",
      "(62416, 57)\n",
      "../cache/bkup2/test7_1_t_store6.csv\n"
     ]
    },
    {
     "name": "stderr",
     "output_type": "stream",
     "text": [
      "100%|██████████| 16/16 [01:59<00:00,  7.46s/it]\n"
     ]
    },
    {
     "name": "stdout",
     "output_type": "stream",
     "text": [
      "(3152215, 28)\n",
      "(62416, 28)\n",
      "(16, 31)\n",
      "0\n",
      "56\n",
      "../cache/test7_1_t_store6_recent_stats_nper_1.csv\n",
      "(62416, 57)\n",
      "../cache/bkup2/test7_1_t_store7.csv\n"
     ]
    },
    {
     "name": "stderr",
     "output_type": "stream",
     "text": [
      "100%|██████████| 16/16 [01:58<00:00,  7.43s/it]\n"
     ]
    },
    {
     "name": "stdout",
     "output_type": "stream",
     "text": [
      "(2983620, 28)\n",
      "(62416, 28)\n",
      "(16, 31)\n",
      "0\n",
      "56\n",
      "../cache/test7_1_t_store7_recent_stats_nper_1.csv\n",
      "(62416, 57)\n",
      "../cache/bkup2/test7_1_t_store8.csv\n"
     ]
    },
    {
     "name": "stderr",
     "output_type": "stream",
     "text": [
      "100%|██████████| 16/16 [02:12<00:00,  8.30s/it]\n"
     ]
    },
    {
     "name": "stdout",
     "output_type": "stream",
     "text": [
      "(3323600, 28)\n",
      "(62416, 28)\n",
      "(16, 31)\n",
      "0\n",
      "56\n",
      "../cache/test7_1_t_store8_recent_stats_nper_1.csv\n",
      "(62416, 57)\n",
      "../cache/bkup2/test7_1_t_store9.csv\n"
     ]
    },
    {
     "name": "stderr",
     "output_type": "stream",
     "text": [
      "100%|██████████| 16/16 [01:53<00:00,  7.09s/it]\n"
     ]
    },
    {
     "name": "stdout",
     "output_type": "stream",
     "text": [
      "(2836206, 28)\n",
      "(62416, 28)\n",
      "(16, 31)\n",
      "0\n",
      "56\n",
      "../cache/test7_1_t_store9_recent_stats_nper_1.csv\n",
      "(62416, 57)\n",
      "../cache/bkup2/test7_1_t_store10.csv\n"
     ]
    },
    {
     "name": "stderr",
     "output_type": "stream",
     "text": [
      "100%|██████████| 16/16 [01:08<00:00,  4.26s/it]\n"
     ]
    },
    {
     "name": "stdout",
     "output_type": "stream",
     "text": [
      "(1802898, 28)\n",
      "(62416, 28)\n",
      "(16, 31)\n",
      "0\n",
      "56\n",
      "../cache/test7_1_t_store10_recent_stats_nper_1.csv\n",
      "(62416, 57)\n",
      "../cache/bkup2/test7_1_t_store11.csv\n"
     ]
    },
    {
     "name": "stderr",
     "output_type": "stream",
     "text": [
      "100%|██████████| 16/16 [01:39<00:00,  6.25s/it]\n"
     ]
    },
    {
     "name": "stdout",
     "output_type": "stream",
     "text": [
      "(2630698, 28)\n",
      "(62416, 28)\n",
      "(16, 31)\n",
      "0\n",
      "56\n",
      "../cache/test7_1_t_store11_recent_stats_nper_1.csv\n",
      "(62416, 57)\n",
      "../cache/bkup2/test7_1_t_store12.csv\n"
     ]
    },
    {
     "name": "stderr",
     "output_type": "stream",
     "text": [
      "100%|██████████| 16/16 [01:49<00:00,  6.85s/it]\n"
     ]
    },
    {
     "name": "stdout",
     "output_type": "stream",
     "text": [
      "(1898999, 28)\n",
      "(62416, 28)\n",
      "(16, 31)\n",
      "0\n",
      "56\n",
      "../cache/test7_1_t_store12_recent_stats_nper_1.csv\n",
      "(62416, 57)\n",
      "../cache/bkup2/test7_1_t_store13.csv\n"
     ]
    },
    {
     "name": "stderr",
     "output_type": "stream",
     "text": [
      "100%|██████████| 16/16 [01:25<00:00,  5.34s/it]\n"
     ]
    },
    {
     "name": "stdout",
     "output_type": "stream",
     "text": [
      "(1799144, 28)\n",
      "(62416, 28)\n",
      "(16, 31)\n",
      "0\n",
      "56\n",
      "../cache/test7_1_t_store13_recent_stats_nper_1.csv\n",
      "(62416, 57)\n",
      "../cache/bkup2/test7_1_t_store14.csv\n"
     ]
    },
    {
     "name": "stderr",
     "output_type": "stream",
     "text": [
      "100%|██████████| 16/16 [01:10<00:00,  4.42s/it]\n"
     ]
    },
    {
     "name": "stdout",
     "output_type": "stream",
     "text": [
      "(1868357, 28)\n",
      "(62416, 28)\n",
      "(16, 31)\n",
      "0\n",
      "56\n",
      "../cache/test7_1_t_store14_recent_stats_nper_1.csv\n",
      "(62416, 57)\n",
      "../cache/bkup2/test7_1_t_store15.csv\n"
     ]
    },
    {
     "name": "stderr",
     "output_type": "stream",
     "text": [
      "100%|██████████| 16/16 [01:15<00:00,  4.72s/it]\n"
     ]
    },
    {
     "name": "stdout",
     "output_type": "stream",
     "text": [
      "(2001094, 28)\n",
      "(62416, 28)\n",
      "(16, 31)\n",
      "0\n",
      "56\n",
      "../cache/test7_1_t_store15_recent_stats_nper_1.csv\n",
      "(62416, 57)\n",
      "../cache/bkup2/test7_1_t_store16.csv\n"
     ]
    },
    {
     "name": "stderr",
     "output_type": "stream",
     "text": [
      "100%|██████████| 16/16 [01:10<00:00,  4.43s/it]\n"
     ]
    },
    {
     "name": "stdout",
     "output_type": "stream",
     "text": [
      "(1882451, 28)\n",
      "(62416, 28)\n",
      "(16, 31)\n",
      "0\n",
      "56\n",
      "../cache/test7_1_t_store16_recent_stats_nper_1.csv\n",
      "(62416, 57)\n",
      "../cache/bkup2/test7_1_t_store17.csv\n"
     ]
    },
    {
     "name": "stderr",
     "output_type": "stream",
     "text": [
      "100%|██████████| 16/16 [01:24<00:00,  5.25s/it]\n"
     ]
    },
    {
     "name": "stdout",
     "output_type": "stream",
     "text": [
      "(2226436, 28)\n",
      "(62416, 28)\n",
      "(16, 31)\n",
      "0\n",
      "56\n",
      "../cache/test7_1_t_store17_recent_stats_nper_1.csv\n",
      "(62416, 57)\n",
      "../cache/bkup2/test7_1_t_store18.csv\n"
     ]
    },
    {
     "name": "stderr",
     "output_type": "stream",
     "text": [
      "100%|██████████| 16/16 [01:24<00:00,  5.30s/it]\n"
     ]
    },
    {
     "name": "stdout",
     "output_type": "stream",
     "text": [
      "(2259098, 28)\n",
      "(62416, 28)\n",
      "(16, 31)\n",
      "0\n",
      "56\n",
      "../cache/test7_1_t_store18_recent_stats_nper_1.csv\n",
      "(62416, 57)\n",
      "../cache/bkup2/test7_1_t_store19.csv\n"
     ]
    },
    {
     "name": "stderr",
     "output_type": "stream",
     "text": [
      "100%|██████████| 16/16 [01:13<00:00,  4.57s/it]\n"
     ]
    },
    {
     "name": "stdout",
     "output_type": "stream",
     "text": [
      "(1941571, 28)\n",
      "(62416, 28)\n",
      "(16, 31)\n",
      "0\n",
      "56\n",
      "../cache/test7_1_t_store19_recent_stats_nper_1.csv\n",
      "(62416, 57)\n",
      "../cache/bkup2/test7_1_t_store20.csv\n"
     ]
    },
    {
     "name": "stderr",
     "output_type": "stream",
     "text": [
      "100%|██████████| 16/16 [01:05<00:00,  4.11s/it]\n"
     ]
    },
    {
     "name": "stdout",
     "output_type": "stream",
     "text": [
      "(1728401, 28)\n",
      "(62416, 28)\n",
      "(16, 31)\n",
      "0\n",
      "56\n",
      "../cache/test7_1_t_store20_recent_stats_nper_1.csv\n",
      "(62416, 57)\n",
      "../cache/bkup2/test7_1_t_store21.csv\n"
     ]
    },
    {
     "name": "stderr",
     "output_type": "stream",
     "text": [
      "100%|██████████| 16/16 [00:55<00:00,  3.46s/it]\n"
     ]
    },
    {
     "name": "stdout",
     "output_type": "stream",
     "text": [
      "(1435835, 28)\n",
      "(62416, 28)\n",
      "(16, 31)\n",
      "0\n",
      "56\n",
      "../cache/test7_1_t_store21_recent_stats_nper_1.csv\n",
      "(62416, 57)\n",
      "../cache/bkup2/test7_1_t_store22.csv\n"
     ]
    },
    {
     "name": "stderr",
     "output_type": "stream",
     "text": [
      "  6%|▋         | 1/16 [00:01<00:29,  1.99s/it]"
     ]
    },
    {
     "name": "stdout",
     "output_type": "stream",
     "text": [
      "date:2017-08-16, past_date:2015-08-19\n",
      "days:730, i: 3, days-i:727\n"
     ]
    },
    {
     "name": "stderr",
     "output_type": "stream",
     "text": [
      "\r",
      " 12%|█▎        | 2/16 [00:03<00:27,  1.97s/it]"
     ]
    },
    {
     "name": "stdout",
     "output_type": "stream",
     "text": [
      "date:2017-08-17, past_date:2015-08-20\n",
      "days:730, i: 3, days-i:727\n"
     ]
    },
    {
     "name": "stderr",
     "output_type": "stream",
     "text": [
      "\r",
      " 19%|█▉        | 3/16 [00:05<00:25,  1.96s/it]"
     ]
    },
    {
     "name": "stdout",
     "output_type": "stream",
     "text": [
      "date:2017-08-18, past_date:2015-08-21\n",
      "days:730, i: 3, days-i:727\n"
     ]
    },
    {
     "name": "stderr",
     "output_type": "stream",
     "text": [
      "\r",
      " 25%|██▌       | 4/16 [00:07<00:23,  1.96s/it]"
     ]
    },
    {
     "name": "stdout",
     "output_type": "stream",
     "text": [
      "date:2017-08-19, past_date:2015-08-22\n",
      "days:730, i: 3, days-i:727\n"
     ]
    },
    {
     "name": "stderr",
     "output_type": "stream",
     "text": [
      "\r",
      " 31%|███▏      | 5/16 [00:09<00:21,  1.96s/it]"
     ]
    },
    {
     "name": "stdout",
     "output_type": "stream",
     "text": [
      "date:2017-08-20, past_date:2015-08-23\n",
      "days:730, i: 3, days-i:727\n"
     ]
    },
    {
     "name": "stderr",
     "output_type": "stream",
     "text": [
      "\r",
      " 38%|███▊      | 6/16 [00:11<00:19,  1.96s/it]"
     ]
    },
    {
     "name": "stdout",
     "output_type": "stream",
     "text": [
      "date:2017-08-21, past_date:2015-08-24\n",
      "days:730, i: 3, days-i:727\n"
     ]
    },
    {
     "name": "stderr",
     "output_type": "stream",
     "text": [
      "\r",
      " 44%|████▍     | 7/16 [00:13<00:17,  1.95s/it]"
     ]
    },
    {
     "name": "stdout",
     "output_type": "stream",
     "text": [
      "date:2017-08-22, past_date:2015-08-25\n",
      "days:730, i: 3, days-i:727\n"
     ]
    },
    {
     "name": "stderr",
     "output_type": "stream",
     "text": [
      "\r",
      " 50%|█████     | 8/16 [00:15<00:15,  1.96s/it]"
     ]
    },
    {
     "name": "stdout",
     "output_type": "stream",
     "text": [
      "date:2017-08-23, past_date:2015-08-26\n",
      "days:730, i: 3, days-i:727\n"
     ]
    },
    {
     "name": "stderr",
     "output_type": "stream",
     "text": [
      "\r",
      " 56%|█████▋    | 9/16 [00:17<00:13,  1.97s/it]"
     ]
    },
    {
     "name": "stdout",
     "output_type": "stream",
     "text": [
      "date:2017-08-24, past_date:2015-08-27\n",
      "days:730, i: 3, days-i:727\n"
     ]
    },
    {
     "name": "stderr",
     "output_type": "stream",
     "text": [
      "\r",
      " 62%|██████▎   | 10/16 [00:19<00:11,  1.96s/it]"
     ]
    },
    {
     "name": "stdout",
     "output_type": "stream",
     "text": [
      "date:2017-08-25, past_date:2015-08-28\n",
      "days:730, i: 3, days-i:727\n"
     ]
    },
    {
     "name": "stderr",
     "output_type": "stream",
     "text": [
      "\r",
      " 69%|██████▉   | 11/16 [00:21<00:09,  1.96s/it]"
     ]
    },
    {
     "name": "stdout",
     "output_type": "stream",
     "text": [
      "date:2017-08-26, past_date:2015-08-29\n",
      "days:730, i: 3, days-i:727\n"
     ]
    },
    {
     "name": "stderr",
     "output_type": "stream",
     "text": [
      "\r",
      " 75%|███████▌  | 12/16 [00:23<00:07,  1.97s/it]"
     ]
    },
    {
     "name": "stdout",
     "output_type": "stream",
     "text": [
      "date:2017-08-27, past_date:2015-08-30\n",
      "days:730, i: 3, days-i:727\n"
     ]
    },
    {
     "name": "stderr",
     "output_type": "stream",
     "text": [
      "\r",
      " 81%|████████▏ | 13/16 [00:25<00:05,  1.97s/it]"
     ]
    },
    {
     "name": "stdout",
     "output_type": "stream",
     "text": [
      "date:2017-08-28, past_date:2015-08-31\n",
      "days:730, i: 3, days-i:727\n"
     ]
    },
    {
     "name": "stderr",
     "output_type": "stream",
     "text": [
      "\r",
      " 88%|████████▊ | 14/16 [00:27<00:03,  1.97s/it]"
     ]
    },
    {
     "name": "stdout",
     "output_type": "stream",
     "text": [
      "date:2017-08-29, past_date:2015-09-01\n",
      "days:730, i: 3, days-i:727\n"
     ]
    },
    {
     "name": "stderr",
     "output_type": "stream",
     "text": [
      "\r",
      " 94%|█████████▍| 15/16 [00:29<00:01,  1.97s/it]"
     ]
    },
    {
     "name": "stdout",
     "output_type": "stream",
     "text": [
      "date:2017-08-30, past_date:2015-09-02\n",
      "days:730, i: 3, days-i:727\n"
     ]
    },
    {
     "name": "stderr",
     "output_type": "stream",
     "text": [
      "\r",
      "100%|██████████| 16/16 [00:31<00:00,  1.97s/it]"
     ]
    },
    {
     "name": "stdout",
     "output_type": "stream",
     "text": [
      "date:2017-08-31, past_date:2015-09-03\n",
      "days:730, i: 3, days-i:727\n",
      "(985899, 28)\n"
     ]
    },
    {
     "name": "stderr",
     "output_type": "stream",
     "text": [
      "\n"
     ]
    },
    {
     "name": "stdout",
     "output_type": "stream",
     "text": [
      "(62416, 28)\n",
      "(16, 31)\n",
      "0\n",
      "50\n",
      "../cache/test7_1_t_store22_recent_stats_nper_1.csv\n",
      "(62416, 57)\n",
      "../cache/bkup2/test7_1_t_store23.csv\n"
     ]
    },
    {
     "name": "stderr",
     "output_type": "stream",
     "text": [
      "100%|██████████| 16/16 [01:31<00:00,  5.71s/it]\n"
     ]
    },
    {
     "name": "stdout",
     "output_type": "stream",
     "text": [
      "(2428113, 28)\n",
      "(62416, 28)\n",
      "(16, 31)\n",
      "0\n",
      "56\n",
      "../cache/test7_1_t_store23_recent_stats_nper_1.csv\n",
      "(62416, 57)\n",
      "../cache/bkup2/test7_1_t_store24.csv\n"
     ]
    },
    {
     "name": "stderr",
     "output_type": "stream",
     "text": [
      "100%|██████████| 16/16 [01:46<00:00,  6.68s/it]\n"
     ]
    },
    {
     "name": "stdout",
     "output_type": "stream",
     "text": [
      "(2832305, 28)\n",
      "(62416, 28)\n",
      "(16, 31)\n",
      "0\n",
      "56\n",
      "../cache/test7_1_t_store24_recent_stats_nper_1.csv\n",
      "(62416, 57)\n",
      "../cache/bkup2/test7_1_t_store25.csv\n"
     ]
    },
    {
     "name": "stderr",
     "output_type": "stream",
     "text": [
      "100%|██████████| 16/16 [01:19<00:00,  4.98s/it]\n"
     ]
    },
    {
     "name": "stdout",
     "output_type": "stream",
     "text": [
      "(2119436, 28)\n",
      "(62416, 28)\n",
      "(16, 31)\n",
      "0\n",
      "56\n",
      "../cache/test7_1_t_store25_recent_stats_nper_1.csv\n",
      "(62416, 57)\n",
      "../cache/bkup2/test7_1_t_store26.csv\n"
     ]
    },
    {
     "name": "stderr",
     "output_type": "stream",
     "text": [
      "100%|██████████| 16/16 [01:09<00:00,  4.35s/it]\n"
     ]
    },
    {
     "name": "stdout",
     "output_type": "stream",
     "text": [
      "(1855498, 28)\n",
      "(62416, 28)\n",
      "(16, 31)\n",
      "0\n",
      "56\n",
      "../cache/test7_1_t_store26_recent_stats_nper_1.csv\n",
      "(62416, 57)\n",
      "../cache/bkup2/test7_1_t_store27.csv\n"
     ]
    },
    {
     "name": "stderr",
     "output_type": "stream",
     "text": [
      "100%|██████████| 16/16 [01:40<00:00,  6.31s/it]\n"
     ]
    },
    {
     "name": "stdout",
     "output_type": "stream",
     "text": [
      "(2694130, 28)\n",
      "(62416, 28)\n",
      "(16, 31)\n",
      "0\n",
      "56\n",
      "../cache/test7_1_t_store27_recent_stats_nper_1.csv\n",
      "(62416, 57)\n",
      "../cache/bkup2/test7_1_t_store28.csv\n"
     ]
    },
    {
     "name": "stderr",
     "output_type": "stream",
     "text": [
      "100%|██████████| 16/16 [01:33<00:00,  5.85s/it]\n"
     ]
    },
    {
     "name": "stdout",
     "output_type": "stream",
     "text": [
      "(2481232, 28)\n",
      "(62416, 28)\n",
      "(16, 31)\n",
      "0\n",
      "56\n",
      "../cache/test7_1_t_store28_recent_stats_nper_1.csv\n",
      "(62416, 57)\n",
      "../cache/bkup2/test7_1_t_store29.csv\n"
     ]
    },
    {
     "name": "stderr",
     "output_type": "stream",
     "text": [
      "100%|██████████| 16/16 [00:59<00:00,  3.75s/it]\n"
     ]
    },
    {
     "name": "stdout",
     "output_type": "stream",
     "text": [
      "(1571375, 28)\n",
      "(62416, 28)\n",
      "(16, 31)\n",
      "0\n",
      "56\n",
      "../cache/test7_1_t_store29_recent_stats_nper_1.csv\n",
      "(62416, 57)\n",
      "../cache/bkup2/test7_1_t_store30.csv\n"
     ]
    },
    {
     "name": "stderr",
     "output_type": "stream",
     "text": [
      "100%|██████████| 16/16 [01:02<00:00,  3.90s/it]\n"
     ]
    },
    {
     "name": "stdout",
     "output_type": "stream",
     "text": [
      "(1660278, 28)\n",
      "(62416, 28)\n",
      "(16, 31)\n",
      "0\n",
      "56\n",
      "../cache/test7_1_t_store30_recent_stats_nper_1.csv\n",
      "(62416, 57)\n",
      "../cache/bkup2/test7_1_t_store31.csv\n"
     ]
    },
    {
     "name": "stderr",
     "output_type": "stream",
     "text": [
      "100%|██████████| 16/16 [01:30<00:00,  5.68s/it]\n"
     ]
    },
    {
     "name": "stdout",
     "output_type": "stream",
     "text": [
      "(2424140, 28)\n",
      "(62416, 28)\n",
      "(16, 31)\n",
      "0\n",
      "56\n",
      "../cache/test7_1_t_store31_recent_stats_nper_1.csv\n",
      "(62416, 57)\n",
      "../cache/bkup2/test7_1_t_store32.csv\n"
     ]
    },
    {
     "name": "stderr",
     "output_type": "stream",
     "text": [
      "100%|██████████| 16/16 [00:53<00:00,  3.36s/it]\n"
     ]
    },
    {
     "name": "stdout",
     "output_type": "stream",
     "text": [
      "(1425031, 28)\n",
      "(62416, 28)\n",
      "(16, 31)\n",
      "0\n",
      "56\n",
      "../cache/test7_1_t_store32_recent_stats_nper_1.csv\n",
      "(62416, 57)\n",
      "../cache/bkup2/test7_1_t_store33.csv\n"
     ]
    },
    {
     "name": "stderr",
     "output_type": "stream",
     "text": [
      "100%|██████████| 16/16 [01:15<00:00,  4.75s/it]\n"
     ]
    },
    {
     "name": "stdout",
     "output_type": "stream",
     "text": [
      "(2025901, 28)\n",
      "(62416, 28)\n",
      "(16, 31)\n",
      "0\n",
      "56\n",
      "../cache/test7_1_t_store33_recent_stats_nper_1.csv\n",
      "(62416, 57)\n",
      "../cache/bkup2/test7_1_t_store34.csv\n"
     ]
    },
    {
     "name": "stderr",
     "output_type": "stream",
     "text": [
      "100%|██████████| 16/16 [01:28<00:00,  5.53s/it]\n"
     ]
    },
    {
     "name": "stdout",
     "output_type": "stream",
     "text": [
      "(2361838, 28)\n",
      "(62416, 28)\n",
      "(16, 31)\n",
      "0\n",
      "56\n",
      "../cache/test7_1_t_store34_recent_stats_nper_1.csv\n",
      "(62416, 57)\n",
      "../cache/bkup2/test7_1_t_store35.csv\n"
     ]
    },
    {
     "name": "stderr",
     "output_type": "stream",
     "text": [
      "100%|██████████| 16/16 [00:54<00:00,  3.41s/it]\n"
     ]
    },
    {
     "name": "stdout",
     "output_type": "stream",
     "text": [
      "(1450520, 28)\n",
      "(62416, 28)\n",
      "(16, 31)\n",
      "0\n",
      "56\n",
      "../cache/test7_1_t_store35_recent_stats_nper_1.csv\n",
      "(62416, 57)\n",
      "../cache/bkup2/test7_1_t_store36.csv\n"
     ]
    },
    {
     "name": "stderr",
     "output_type": "stream",
     "text": [
      "100%|██████████| 16/16 [01:25<00:00,  5.32s/it]\n"
     ]
    },
    {
     "name": "stdout",
     "output_type": "stream",
     "text": [
      "(2273578, 28)\n",
      "(62416, 28)\n",
      "(16, 31)\n",
      "0\n",
      "56\n",
      "../cache/test7_1_t_store36_recent_stats_nper_1.csv\n",
      "(62416, 57)\n",
      "../cache/bkup2/test7_1_t_store37.csv\n"
     ]
    },
    {
     "name": "stderr",
     "output_type": "stream",
     "text": [
      "100%|██████████| 16/16 [01:48<00:00,  6.78s/it]\n"
     ]
    },
    {
     "name": "stdout",
     "output_type": "stream",
     "text": [
      "(2894107, 28)\n",
      "(62416, 28)\n",
      "(16, 31)\n",
      "0\n",
      "56\n",
      "../cache/test7_1_t_store37_recent_stats_nper_1.csv\n",
      "(62416, 57)\n",
      "../cache/bkup2/test7_1_t_store38.csv\n"
     ]
    },
    {
     "name": "stderr",
     "output_type": "stream",
     "text": [
      "100%|██████████| 16/16 [01:44<00:00,  6.54s/it]\n"
     ]
    },
    {
     "name": "stdout",
     "output_type": "stream",
     "text": [
      "(2790147, 28)\n",
      "(62416, 28)\n",
      "(16, 31)\n",
      "0\n",
      "56\n",
      "../cache/test7_1_t_store38_recent_stats_nper_1.csv\n",
      "(62416, 57)\n",
      "../cache/bkup2/test7_1_t_store39.csv\n"
     ]
    },
    {
     "name": "stderr",
     "output_type": "stream",
     "text": [
      "100%|██████████| 16/16 [01:41<00:00,  6.36s/it]\n"
     ]
    },
    {
     "name": "stdout",
     "output_type": "stream",
     "text": [
      "(2700452, 28)\n",
      "(62416, 28)\n",
      "(16, 31)\n",
      "0\n",
      "56\n",
      "../cache/test7_1_t_store39_recent_stats_nper_1.csv\n",
      "(62416, 57)\n",
      "../cache/bkup2/test7_1_t_store40.csv\n"
     ]
    },
    {
     "name": "stderr",
     "output_type": "stream",
     "text": [
      "100%|██████████| 16/16 [01:21<00:00,  5.09s/it]\n"
     ]
    },
    {
     "name": "stdout",
     "output_type": "stream",
     "text": [
      "(2165215, 28)\n",
      "(62416, 28)\n",
      "(16, 31)\n",
      "0\n",
      "56\n",
      "../cache/test7_1_t_store40_recent_stats_nper_1.csv\n",
      "(62416, 57)\n",
      "../cache/bkup2/test7_1_t_store41.csv\n"
     ]
    },
    {
     "name": "stderr",
     "output_type": "stream",
     "text": [
      "100%|██████████| 16/16 [01:36<00:00,  6.02s/it]\n"
     ]
    },
    {
     "name": "stdout",
     "output_type": "stream",
     "text": [
      "(2566335, 28)\n",
      "(62416, 28)\n",
      "(16, 31)\n",
      "0\n",
      "56\n",
      "../cache/test7_1_t_store41_recent_stats_nper_1.csv\n",
      "(62416, 57)\n",
      "../cache/bkup2/test7_1_t_store42.csv\n"
     ]
    },
    {
     "name": "stderr",
     "output_type": "stream",
     "text": [
      "  6%|▋         | 1/16 [00:03<00:47,  3.16s/it]"
     ]
    },
    {
     "name": "stdout",
     "output_type": "stream",
     "text": [
      "date:2017-08-16, past_date:2015-08-19\n",
      "days:730, i: 3, days-i:727\n"
     ]
    },
    {
     "name": "stderr",
     "output_type": "stream",
     "text": [
      "\r",
      " 12%|█▎        | 2/16 [00:06<00:43,  3.13s/it]"
     ]
    },
    {
     "name": "stdout",
     "output_type": "stream",
     "text": [
      "date:2017-08-17, past_date:2015-08-20\n",
      "days:730, i: 3, days-i:727\n"
     ]
    },
    {
     "name": "stderr",
     "output_type": "stream",
     "text": [
      "100%|██████████| 16/16 [00:57<00:00,  3.58s/it]\n"
     ]
    },
    {
     "name": "stdout",
     "output_type": "stream",
     "text": [
      "(1524099, 28)\n",
      "(62416, 28)\n",
      "(16, 31)\n",
      "0\n",
      "56\n",
      "../cache/test7_1_t_store42_recent_stats_nper_1.csv\n",
      "(62416, 57)\n",
      "../cache/bkup2/test7_1_t_store43.csv\n"
     ]
    },
    {
     "name": "stderr",
     "output_type": "stream",
     "text": [
      "100%|██████████| 16/16 [01:15<00:00,  4.73s/it]\n"
     ]
    },
    {
     "name": "stdout",
     "output_type": "stream",
     "text": [
      "(2002110, 28)\n",
      "(62416, 28)\n",
      "(16, 31)\n",
      "0\n",
      "56\n",
      "../cache/test7_1_t_store43_recent_stats_nper_1.csv\n",
      "(62416, 57)\n",
      "../cache/bkup2/test7_1_t_store44.csv\n"
     ]
    },
    {
     "name": "stderr",
     "output_type": "stream",
     "text": [
      "100%|██████████| 16/16 [02:13<00:00,  8.35s/it]\n"
     ]
    },
    {
     "name": "stdout",
     "output_type": "stream",
     "text": [
      "(3575505, 28)\n",
      "(62416, 28)\n",
      "(16, 31)\n",
      "0\n",
      "56\n",
      "../cache/test7_1_t_store44_recent_stats_nper_1.csv\n",
      "(62416, 57)\n",
      "../cache/bkup2/test7_1_t_store45.csv\n"
     ]
    },
    {
     "name": "stderr",
     "output_type": "stream",
     "text": [
      "100%|██████████| 16/16 [02:13<00:00,  8.33s/it]\n"
     ]
    },
    {
     "name": "stdout",
     "output_type": "stream",
     "text": [
      "(3546660, 28)\n",
      "(62416, 28)\n",
      "(16, 31)\n",
      "0\n",
      "56\n",
      "../cache/test7_1_t_store45_recent_stats_nper_1.csv\n",
      "(62416, 57)\n",
      "../cache/bkup2/test7_1_t_store46.csv\n"
     ]
    },
    {
     "name": "stderr",
     "output_type": "stream",
     "text": [
      "100%|██████████| 16/16 [02:07<00:00,  8.00s/it]\n"
     ]
    },
    {
     "name": "stdout",
     "output_type": "stream",
     "text": [
      "(3416306, 28)\n",
      "(62416, 28)\n",
      "(16, 31)\n",
      "0\n",
      "56\n",
      "../cache/test7_1_t_store46_recent_stats_nper_1.csv\n",
      "(62416, 57)\n",
      "../cache/bkup2/test7_1_t_store47.csv\n"
     ]
    },
    {
     "name": "stderr",
     "output_type": "stream",
     "text": [
      "100%|██████████| 16/16 [02:11<00:00,  8.25s/it]\n"
     ]
    },
    {
     "name": "stdout",
     "output_type": "stream",
     "text": [
      "(3519823, 28)\n",
      "(62416, 28)\n",
      "(16, 31)\n",
      "0\n",
      "56\n",
      "../cache/test7_1_t_store47_recent_stats_nper_1.csv\n",
      "(62416, 57)\n",
      "../cache/bkup2/test7_1_t_store48.csv\n"
     ]
    },
    {
     "name": "stderr",
     "output_type": "stream",
     "text": [
      "100%|██████████| 16/16 [02:03<00:00,  7.72s/it]\n"
     ]
    },
    {
     "name": "stdout",
     "output_type": "stream",
     "text": [
      "(3298939, 28)\n",
      "(62416, 28)\n",
      "(16, 31)\n",
      "0\n",
      "56\n",
      "../cache/test7_1_t_store48_recent_stats_nper_1.csv\n",
      "(62416, 57)\n",
      "../cache/bkup2/test7_1_t_store49.csv\n"
     ]
    },
    {
     "name": "stderr",
     "output_type": "stream",
     "text": [
      "100%|██████████| 16/16 [02:07<00:00,  7.96s/it]\n"
     ]
    },
    {
     "name": "stdout",
     "output_type": "stream",
     "text": [
      "(3404947, 28)\n",
      "(62416, 28)\n",
      "(16, 31)\n",
      "0\n",
      "56\n",
      "../cache/test7_1_t_store49_recent_stats_nper_1.csv\n",
      "(62416, 57)\n",
      "../cache/bkup2/test7_1_t_store50.csv\n"
     ]
    },
    {
     "name": "stderr",
     "output_type": "stream",
     "text": [
      "100%|██████████| 16/16 [02:02<00:00,  7.64s/it]\n"
     ]
    },
    {
     "name": "stdout",
     "output_type": "stream",
     "text": [
      "(3254982, 28)\n",
      "(62416, 28)\n",
      "(16, 31)\n",
      "0\n",
      "56\n",
      "../cache/test7_1_t_store50_recent_stats_nper_1.csv\n",
      "(62416, 57)\n",
      "../cache/bkup2/test7_1_t_store51.csv\n"
     ]
    },
    {
     "name": "stderr",
     "output_type": "stream",
     "text": [
      "100%|██████████| 16/16 [01:52<00:00,  7.06s/it]\n"
     ]
    },
    {
     "name": "stdout",
     "output_type": "stream",
     "text": [
      "(3022447, 28)\n",
      "(62416, 28)\n",
      "(16, 31)\n",
      "0\n",
      "56\n",
      "../cache/test7_1_t_store51_recent_stats_nper_1.csv\n",
      "(62416, 57)\n",
      "../cache/bkup2/test7_1_t_store52.csv\n"
     ]
    },
    {
     "name": "stderr",
     "output_type": "stream",
     "text": [
      "  6%|▋         | 1/16 [00:00<00:08,  1.78it/s]"
     ]
    },
    {
     "name": "stdout",
     "output_type": "stream",
     "text": [
      "date:2017-08-16, past_date:2017-02-19\n",
      "days:180, i: 3, days-i:177\n",
      "date:2017-08-16, past_date:2016-08-18\n",
      "days:365, i: 3, days-i:362\n",
      "date:2017-08-16, past_date:2015-08-19\n",
      "days:730, i: 3, days-i:727\n"
     ]
    },
    {
     "name": "stderr",
     "output_type": "stream",
     "text": [
      "\r",
      " 12%|█▎        | 2/16 [00:01<00:07,  1.96it/s]"
     ]
    },
    {
     "name": "stdout",
     "output_type": "stream",
     "text": [
      "date:2017-08-17, past_date:2017-02-20\n",
      "days:180, i: 3, days-i:177\n",
      "date:2017-08-17, past_date:2016-08-19\n",
      "days:365, i: 3, days-i:362\n",
      "date:2017-08-17, past_date:2015-08-20\n",
      "days:730, i: 3, days-i:727\n"
     ]
    },
    {
     "name": "stderr",
     "output_type": "stream",
     "text": [
      "\r",
      " 19%|█▉        | 3/16 [00:01<00:06,  2.05it/s]"
     ]
    },
    {
     "name": "stdout",
     "output_type": "stream",
     "text": [
      "date:2017-08-18, past_date:2017-02-21\n",
      "days:180, i: 3, days-i:177\n",
      "date:2017-08-18, past_date:2016-08-20\n",
      "days:365, i: 3, days-i:362\n",
      "date:2017-08-18, past_date:2015-08-21\n",
      "days:730, i: 3, days-i:727\n"
     ]
    },
    {
     "name": "stderr",
     "output_type": "stream",
     "text": [
      "\r",
      " 25%|██▌       | 4/16 [00:01<00:05,  2.09it/s]"
     ]
    },
    {
     "name": "stdout",
     "output_type": "stream",
     "text": [
      "date:2017-08-19, past_date:2017-02-22\n",
      "days:180, i: 3, days-i:177\n",
      "date:2017-08-19, past_date:2016-08-21\n",
      "days:365, i: 3, days-i:362\n",
      "date:2017-08-19, past_date:2015-08-22\n",
      "days:730, i: 3, days-i:727\n"
     ]
    },
    {
     "name": "stderr",
     "output_type": "stream",
     "text": [
      "\r",
      " 31%|███▏      | 5/16 [00:02<00:05,  2.12it/s]"
     ]
    },
    {
     "name": "stdout",
     "output_type": "stream",
     "text": [
      "date:2017-08-20, past_date:2017-02-23\n",
      "days:180, i: 3, days-i:177\n",
      "date:2017-08-20, past_date:2016-08-22\n",
      "days:365, i: 3, days-i:362\n",
      "date:2017-08-20, past_date:2015-08-23\n",
      "days:730, i: 3, days-i:727\n"
     ]
    },
    {
     "name": "stderr",
     "output_type": "stream",
     "text": [
      "\r",
      " 38%|███▊      | 6/16 [00:02<00:04,  2.14it/s]"
     ]
    },
    {
     "name": "stdout",
     "output_type": "stream",
     "text": [
      "date:2017-08-21, past_date:2017-02-24\n",
      "days:180, i: 3, days-i:177\n",
      "date:2017-08-21, past_date:2016-08-23\n",
      "days:365, i: 3, days-i:362\n",
      "date:2017-08-21, past_date:2015-08-24\n",
      "days:730, i: 3, days-i:727\n"
     ]
    },
    {
     "name": "stderr",
     "output_type": "stream",
     "text": [
      "\r",
      " 44%|████▍     | 7/16 [00:03<00:04,  2.16it/s]"
     ]
    },
    {
     "name": "stdout",
     "output_type": "stream",
     "text": [
      "date:2017-08-22, past_date:2017-02-25\n",
      "days:180, i: 3, days-i:177\n",
      "date:2017-08-22, past_date:2016-08-24\n",
      "days:365, i: 3, days-i:362\n",
      "date:2017-08-22, past_date:2015-08-25\n",
      "days:730, i: 3, days-i:727\n"
     ]
    },
    {
     "name": "stderr",
     "output_type": "stream",
     "text": [
      "\r",
      " 50%|█████     | 8/16 [00:03<00:03,  2.16it/s]"
     ]
    },
    {
     "name": "stdout",
     "output_type": "stream",
     "text": [
      "date:2017-08-23, past_date:2017-02-26\n",
      "days:180, i: 3, days-i:177\n",
      "date:2017-08-23, past_date:2016-08-25\n",
      "days:365, i: 3, days-i:362\n",
      "date:2017-08-23, past_date:2015-08-26\n",
      "days:730, i: 3, days-i:727\n"
     ]
    },
    {
     "name": "stderr",
     "output_type": "stream",
     "text": [
      "\r",
      " 56%|█████▋    | 9/16 [00:04<00:03,  2.14it/s]"
     ]
    },
    {
     "name": "stdout",
     "output_type": "stream",
     "text": [
      "date:2017-08-24, past_date:2017-02-27\n",
      "days:180, i: 3, days-i:177\n",
      "date:2017-08-24, past_date:2016-08-26\n",
      "days:365, i: 3, days-i:362\n",
      "date:2017-08-24, past_date:2015-08-27\n",
      "days:730, i: 3, days-i:727\n"
     ]
    },
    {
     "name": "stderr",
     "output_type": "stream",
     "text": [
      "\r",
      " 62%|██████▎   | 10/16 [00:04<00:02,  2.13it/s]"
     ]
    },
    {
     "name": "stdout",
     "output_type": "stream",
     "text": [
      "date:2017-08-25, past_date:2017-02-28\n",
      "days:180, i: 3, days-i:177\n",
      "date:2017-08-25, past_date:2016-08-27\n",
      "days:365, i: 3, days-i:362\n",
      "date:2017-08-25, past_date:2015-08-28\n",
      "days:730, i: 3, days-i:727\n"
     ]
    },
    {
     "name": "stderr",
     "output_type": "stream",
     "text": [
      "\r",
      " 69%|██████▉   | 11/16 [00:05<00:02,  2.14it/s]"
     ]
    },
    {
     "name": "stdout",
     "output_type": "stream",
     "text": [
      "date:2017-08-26, past_date:2017-03-01\n",
      "days:180, i: 3, days-i:177\n",
      "date:2017-08-26, past_date:2016-08-28\n",
      "days:365, i: 3, days-i:362\n",
      "date:2017-08-26, past_date:2015-08-29\n",
      "days:730, i: 3, days-i:727\n"
     ]
    },
    {
     "name": "stderr",
     "output_type": "stream",
     "text": [
      "\r",
      " 75%|███████▌  | 12/16 [00:05<00:01,  2.15it/s]"
     ]
    },
    {
     "name": "stdout",
     "output_type": "stream",
     "text": [
      "date:2017-08-27, past_date:2017-03-02\n",
      "days:180, i: 3, days-i:177\n",
      "date:2017-08-27, past_date:2016-08-29\n",
      "days:365, i: 3, days-i:362\n",
      "date:2017-08-27, past_date:2015-08-30\n",
      "days:730, i: 3, days-i:727\n"
     ]
    },
    {
     "name": "stderr",
     "output_type": "stream",
     "text": [
      "\r",
      " 81%|████████▏ | 13/16 [00:06<00:01,  2.15it/s]"
     ]
    },
    {
     "name": "stdout",
     "output_type": "stream",
     "text": [
      "date:2017-08-28, past_date:2017-03-03\n",
      "days:180, i: 3, days-i:177\n",
      "date:2017-08-28, past_date:2016-08-30\n",
      "days:365, i: 3, days-i:362\n",
      "date:2017-08-28, past_date:2015-08-31\n",
      "days:730, i: 3, days-i:727\n"
     ]
    },
    {
     "name": "stderr",
     "output_type": "stream",
     "text": [
      "\r",
      " 88%|████████▊ | 14/16 [00:06<00:00,  2.16it/s]"
     ]
    },
    {
     "name": "stdout",
     "output_type": "stream",
     "text": [
      "date:2017-08-29, past_date:2017-03-04\n",
      "days:180, i: 3, days-i:177\n",
      "date:2017-08-29, past_date:2016-08-31\n",
      "days:365, i: 3, days-i:362\n",
      "date:2017-08-29, past_date:2015-09-01\n",
      "days:730, i: 3, days-i:727\n"
     ]
    },
    {
     "name": "stderr",
     "output_type": "stream",
     "text": [
      "\r",
      " 94%|█████████▍| 15/16 [00:06<00:00,  2.16it/s]"
     ]
    },
    {
     "name": "stdout",
     "output_type": "stream",
     "text": [
      "date:2017-08-30, past_date:2017-03-05\n",
      "days:180, i: 3, days-i:177\n",
      "date:2017-08-30, past_date:2016-09-01\n",
      "days:365, i: 3, days-i:362\n",
      "date:2017-08-30, past_date:2015-09-02\n",
      "days:730, i: 3, days-i:727\n"
     ]
    },
    {
     "name": "stderr",
     "output_type": "stream",
     "text": [
      "\r",
      "100%|██████████| 16/16 [00:07<00:00,  2.17it/s]"
     ]
    },
    {
     "name": "stdout",
     "output_type": "stream",
     "text": [
      "date:2017-08-31, past_date:2017-03-06\n",
      "days:180, i: 3, days-i:177\n",
      "date:2017-08-31, past_date:2016-09-02\n",
      "days:365, i: 3, days-i:362\n",
      "date:2017-08-31, past_date:2015-09-03\n",
      "days:730, i: 3, days-i:727\n",
      "(352997, 28)\n"
     ]
    },
    {
     "name": "stderr",
     "output_type": "stream",
     "text": [
      "\n"
     ]
    },
    {
     "name": "stdout",
     "output_type": "stream",
     "text": [
      "(62416, 28)\n",
      "(16, 31)\n",
      "0\n",
      "38\n",
      "../cache/test7_1_t_store52_recent_stats_nper_1.csv\n",
      "(62416, 57)\n",
      "../cache/bkup2/test7_1_t_store53.csv\n"
     ]
    },
    {
     "name": "stderr",
     "output_type": "stream",
     "text": [
      "100%|██████████| 16/16 [01:15<00:00,  4.71s/it]\n"
     ]
    },
    {
     "name": "stdout",
     "output_type": "stream",
     "text": [
      "(2000671, 28)\n",
      "(62416, 28)\n",
      "(16, 31)\n",
      "0\n",
      "56\n",
      "../cache/test7_1_t_store53_recent_stats_nper_1.csv\n",
      "(62416, 57)\n",
      "../cache/bkup2/test7_1_t_store54.csv\n"
     ]
    },
    {
     "name": "stderr",
     "output_type": "stream",
     "text": [
      "100%|██████████| 16/16 [01:04<00:00,  4.01s/it]\n"
     ]
    },
    {
     "name": "stdout",
     "output_type": "stream",
     "text": [
      "(1711283, 28)\n",
      "(62416, 28)\n",
      "(16, 31)\n",
      "0\n",
      "56\n",
      "../cache/test7_1_t_store54_recent_stats_nper_1.csv\n",
      "(62416, 57)\n"
     ]
    }
   ],
   "source": [
    "for i in range(1,55):\n",
    "    process_test_csv_file(i) "
   ]
  },
  {
   "cell_type": "code",
   "execution_count": 44,
   "metadata": {
    "collapsed": true
   },
   "outputs": [],
   "source": [
    "# Multi-threaded processes to utilize all available CPUs for this task. Note that many threads will block on IO\n",
    "# so creating more than number of CPUs.    \n",
    "# thread_pool = Pool(32)\n",
    "# thread_pool.map (segment_pad_and_save_ct_scan_as_npz, dicom_folder_list)\n",
    "\n",
    "# # Cleanup\n",
    "# thread_pool.close()\n",
    "# thread_pool.join_thread()"
   ]
  },
  {
   "cell_type": "code",
   "execution_count": 45,
   "metadata": {
    "collapsed": false
   },
   "outputs": [
    {
     "data": {
      "text/plain": [
       "1918"
      ]
     },
     "execution_count": 45,
     "metadata": {},
     "output_type": "execute_result"
    }
   ],
   "source": [
    "gc.collect()"
   ]
  },
  {
   "cell_type": "code",
   "execution_count": 46,
   "metadata": {
    "collapsed": true
   },
   "outputs": [],
   "source": [
    "# i = 1\n",
    "# fn = '../cache/train10_t_store{}.csv'.format(i)\n",
    "# df = pd.read_csv(fn)\n",
    "# df.unit_sales[df.unit_sales < 0] = 0\n",
    "# df1 = df.set_index('date')\n",
    "# dates = np.unique(df.date.values)\n",
    "# for j, date in tqdm(enumerate(dates)):\n",
    "#     if j > 0:\n",
    "#         break\n",
    "#     print(j)\n",
    "#     calculate_recent_stats(date, df, df1)\n",
    "# for days in [15, 30, 60, 90, 180, 365, 730, 1095, 1460]:\n",
    "#     df = set_recent_df_stats(df ,df1, days)\n",
    "# print(df.shape)\n",
    "# print(sum(df.isnull().any()==True))\n",
    "# print(sum((df != 0).any(axis=0)))\n",
    "# fn = '../cache/train10_t_store{}_recent_stats.csv'.format(i)\n",
    "# print(fn)"
   ]
  },
  {
   "cell_type": "code",
   "execution_count": 47,
   "metadata": {
    "collapsed": true
   },
   "outputs": [],
   "source": [
    "# df.isnull().sum()"
   ]
  },
  {
   "cell_type": "code",
   "execution_count": 48,
   "metadata": {
    "collapsed": true
   },
   "outputs": [],
   "source": [
    "# for i in tqdm(range(1,55)):\n",
    "#     fn_tmp = '../cache/train10_t_store{}_recent_stats_nper_tmp.csv'.format(i)\n",
    "#     delete_file_if_exists(fn_tmp)\n",
    "#     fn = '../cache/train10_t_store{}_recent_stats_nper.csv'.format(i)\n",
    "#     df = pd.read_csv(fn)\n",
    "#     df.to_csv(fn, float_format='%.5f', index=False)\n",
    "#     del df"
   ]
  },
  {
   "cell_type": "code",
   "execution_count": null,
   "metadata": {
    "collapsed": true
   },
   "outputs": [],
   "source": []
  }
 ],
 "metadata": {
  "kernelspec": {
   "display_name": "sdp35",
   "language": "python",
   "name": "sdp35"
  },
  "language_info": {
   "codemirror_mode": {
    "name": "ipython",
    "version": 3
   },
   "file_extension": ".py",
   "mimetype": "text/x-python",
   "name": "python",
   "nbconvert_exporter": "python",
   "pygments_lexer": "ipython3",
   "version": "3.5.4"
  }
 },
 "nbformat": 4,
 "nbformat_minor": 2
}
