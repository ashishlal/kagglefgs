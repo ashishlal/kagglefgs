{
 "cells": [
  {
   "cell_type": "code",
   "execution_count": 19,
   "metadata": {},
   "outputs": [
    {
     "name": "stderr",
     "output_type": "stream",
     "text": [
      "\n",
      "Attaching package: ‘zoo’\n",
      "\n",
      "The following objects are masked from ‘package:base’:\n",
      "\n",
      "    as.Date, as.Date.numeric\n",
      "\n",
      "\n",
      "Attaching package: ‘lubridate’\n",
      "\n",
      "The following objects are masked from ‘package:data.table’:\n",
      "\n",
      "    hour, isoweek, mday, minute, month, quarter, second, wday, week,\n",
      "    yday, year\n",
      "\n",
      "The following object is masked from ‘package:base’:\n",
      "\n",
      "    date\n",
      "\n"
     ]
    }
   ],
   "source": [
    "library(zoo)\n",
    "library(data.table)\n",
    "library(lubridate)\n",
    "library(forecast)"
   ]
  },
  {
   "cell_type": "code",
   "execution_count": 20,
   "metadata": {},
   "outputs": [],
   "source": [
    "# install.packages('forecast')"
   ]
  },
  {
   "cell_type": "code",
   "execution_count": 21,
   "metadata": {},
   "outputs": [
    {
     "name": "stdout",
     "output_type": "stream",
     "text": [
      "               _                           \n",
      "platform       x86_64-pc-linux-gnu         \n",
      "arch           x86_64                      \n",
      "os             linux-gnu                   \n",
      "system         x86_64, linux-gnu           \n",
      "status                                     \n",
      "major          3                           \n",
      "minor          4.1                         \n",
      "year           2017                        \n",
      "month          06                          \n",
      "day            30                          \n",
      "svn rev        72865                       \n",
      "language       R                           \n",
      "version.string R version 3.4.1 (2017-06-30)\n",
      "nickname       Single Candle               \n"
     ]
    }
   ],
   "source": [
    "print(version)"
   ]
  },
  {
   "cell_type": "code",
   "execution_count": 22,
   "metadata": {},
   "outputs": [
    {
     "name": "stdout",
     "output_type": "stream",
     "text": [
      "[1] \"/home/watts/anaconda3/envs/aind-dog/lib/R\"\n"
     ]
    }
   ],
   "source": [
    "print(R.home())"
   ]
  },
  {
   "cell_type": "code",
   "execution_count": 19,
   "metadata": {},
   "outputs": [],
   "source": [
    "train_data <- as.data.table(read.csv(\"../cache/transactions/tr_25_20160101.csv\"))\n"
   ]
  },
  {
   "cell_type": "code",
   "execution_count": 53,
   "metadata": {
    "collapsed": true
   },
   "outputs": [],
   "source": [
    "test_data <- as.data.table(read.csv(\"../cache/transactions/te_25_20160101.csv\"))"
   ]
  },
  {
   "cell_type": "code",
   "execution_count": 20,
   "metadata": {},
   "outputs": [],
   "source": [
    "train_data$date <- ymd(train_data$date)"
   ]
  },
  {
   "cell_type": "code",
   "execution_count": 21,
   "metadata": {},
   "outputs": [
    {
     "data": {
      "text/html": [
       "<table>\n",
       "<thead><tr><th scope=col>date</th><th scope=col>store_nbr</th><th scope=col>transactions</th></tr></thead>\n",
       "<tbody>\n",
       "\t<tr><td>2013-01-01</td><td>25        </td><td> 770      </td></tr>\n",
       "\t<tr><td>2013-01-02</td><td>25        </td><td>1038      </td></tr>\n",
       "\t<tr><td>2013-01-03</td><td>25        </td><td> 887      </td></tr>\n",
       "\t<tr><td>2013-01-04</td><td>25        </td><td>1054      </td></tr>\n",
       "\t<tr><td>2013-01-05</td><td>25        </td><td>1355      </td></tr>\n",
       "\t<tr><td>2013-01-06</td><td>25        </td><td> 716      </td></tr>\n",
       "</tbody>\n",
       "</table>\n"
      ],
      "text/latex": [
       "\\begin{tabular}{r|lll}\n",
       " date & store\\_nbr & transactions\\\\\n",
       "\\hline\n",
       "\t 2013-01-01 & 25         &  770      \\\\\n",
       "\t 2013-01-02 & 25         & 1038      \\\\\n",
       "\t 2013-01-03 & 25         &  887      \\\\\n",
       "\t 2013-01-04 & 25         & 1054      \\\\\n",
       "\t 2013-01-05 & 25         & 1355      \\\\\n",
       "\t 2013-01-06 & 25         &  716      \\\\\n",
       "\\end{tabular}\n"
      ],
      "text/markdown": [
       "\n",
       "date | store_nbr | transactions | \n",
       "|---|---|---|---|---|---|\n",
       "| 2013-01-01 | 25         |  770       | \n",
       "| 2013-01-02 | 25         | 1038       | \n",
       "| 2013-01-03 | 25         |  887       | \n",
       "| 2013-01-04 | 25         | 1054       | \n",
       "| 2013-01-05 | 25         | 1355       | \n",
       "| 2013-01-06 | 25         |  716       | \n",
       "\n",
       "\n"
      ],
      "text/plain": [
       "  date       store_nbr transactions\n",
       "1 2013-01-01 25         770        \n",
       "2 2013-01-02 25        1038        \n",
       "3 2013-01-03 25         887        \n",
       "4 2013-01-04 25        1054        \n",
       "5 2013-01-05 25        1355        \n",
       "6 2013-01-06 25         716        "
      ]
     },
     "metadata": {},
     "output_type": "display_data"
    }
   ],
   "source": [
    "head(train_data)"
   ]
  },
  {
   "cell_type": "code",
   "execution_count": 23,
   "metadata": {},
   "outputs": [
    {
     "data": {
      "text/html": [
       "<table>\n",
       "<thead><tr><th scope=col>date</th><th scope=col>store_nbr</th><th scope=col>transactions</th></tr></thead>\n",
       "<tbody>\n",
       "\t<tr><td>2015-12-26</td><td>25        </td><td>1889      </td></tr>\n",
       "\t<tr><td>2015-12-27</td><td>25        </td><td>1384      </td></tr>\n",
       "\t<tr><td>2015-12-28</td><td>25        </td><td>1546      </td></tr>\n",
       "\t<tr><td>2015-12-29</td><td>25        </td><td>1887      </td></tr>\n",
       "\t<tr><td>2015-12-30</td><td>25        </td><td>2489      </td></tr>\n",
       "\t<tr><td>2015-12-31</td><td>25        </td><td>3178      </td></tr>\n",
       "</tbody>\n",
       "</table>\n"
      ],
      "text/latex": [
       "\\begin{tabular}{r|lll}\n",
       " date & store\\_nbr & transactions\\\\\n",
       "\\hline\n",
       "\t 2015-12-26 & 25         & 1889      \\\\\n",
       "\t 2015-12-27 & 25         & 1384      \\\\\n",
       "\t 2015-12-28 & 25         & 1546      \\\\\n",
       "\t 2015-12-29 & 25         & 1887      \\\\\n",
       "\t 2015-12-30 & 25         & 2489      \\\\\n",
       "\t 2015-12-31 & 25         & 3178      \\\\\n",
       "\\end{tabular}\n"
      ],
      "text/markdown": [
       "\n",
       "date | store_nbr | transactions | \n",
       "|---|---|---|---|---|---|\n",
       "| 2015-12-26 | 25         | 1889       | \n",
       "| 2015-12-27 | 25         | 1384       | \n",
       "| 2015-12-28 | 25         | 1546       | \n",
       "| 2015-12-29 | 25         | 1887       | \n",
       "| 2015-12-30 | 25         | 2489       | \n",
       "| 2015-12-31 | 25         | 3178       | \n",
       "\n",
       "\n"
      ],
      "text/plain": [
       "  date       store_nbr transactions\n",
       "1 2015-12-26 25        1889        \n",
       "2 2015-12-27 25        1384        \n",
       "3 2015-12-28 25        1546        \n",
       "4 2015-12-29 25        1887        \n",
       "5 2015-12-30 25        2489        \n",
       "6 2015-12-31 25        3178        "
      ]
     },
     "metadata": {},
     "output_type": "display_data"
    }
   ],
   "source": [
    "tail(train_data)"
   ]
  },
  {
   "cell_type": "code",
   "execution_count": 22,
   "metadata": {
    "collapsed": true
   },
   "outputs": [],
   "source": [
    "train_data$date <- as.Date(train_data$date)"
   ]
  },
  {
   "cell_type": "code",
   "execution_count": 27,
   "metadata": {
    "collapsed": true
   },
   "outputs": [],
   "source": [
    "date <- as.Date(seq(as.Date(\"2013-01-01\"), as.Date(\"2015-12-31\"), by=\"days\"))"
   ]
  },
  {
   "cell_type": "code",
   "execution_count": 28,
   "metadata": {
    "collapsed": true
   },
   "outputs": [],
   "source": [
    "new_train <- as.data.frame(date)"
   ]
  },
  {
   "cell_type": "code",
   "execution_count": 29,
   "metadata": {},
   "outputs": [
    {
     "data": {
      "text/html": [
       "<table>\n",
       "<thead><tr><th scope=col>date</th></tr></thead>\n",
       "<tbody>\n",
       "\t<tr><td>2013-01-01</td></tr>\n",
       "\t<tr><td>2013-01-02</td></tr>\n",
       "\t<tr><td>2013-01-03</td></tr>\n",
       "\t<tr><td>2013-01-04</td></tr>\n",
       "\t<tr><td>2013-01-05</td></tr>\n",
       "\t<tr><td>2013-01-06</td></tr>\n",
       "</tbody>\n",
       "</table>\n"
      ],
      "text/latex": [
       "\\begin{tabular}{r|l}\n",
       " date\\\\\n",
       "\\hline\n",
       "\t 2013-01-01\\\\\n",
       "\t 2013-01-02\\\\\n",
       "\t 2013-01-03\\\\\n",
       "\t 2013-01-04\\\\\n",
       "\t 2013-01-05\\\\\n",
       "\t 2013-01-06\\\\\n",
       "\\end{tabular}\n"
      ],
      "text/markdown": [
       "\n",
       "date | \n",
       "|---|---|---|---|---|---|\n",
       "| 2013-01-01 | \n",
       "| 2013-01-02 | \n",
       "| 2013-01-03 | \n",
       "| 2013-01-04 | \n",
       "| 2013-01-05 | \n",
       "| 2013-01-06 | \n",
       "\n",
       "\n"
      ],
      "text/plain": [
       "  date      \n",
       "1 2013-01-01\n",
       "2 2013-01-02\n",
       "3 2013-01-03\n",
       "4 2013-01-04\n",
       "5 2013-01-05\n",
       "6 2013-01-06"
      ]
     },
     "metadata": {},
     "output_type": "display_data"
    }
   ],
   "source": [
    "head(new_train)"
   ]
  },
  {
   "cell_type": "code",
   "execution_count": 30,
   "metadata": {
    "collapsed": true
   },
   "outputs": [],
   "source": [
    "new_train <- merge(new_train,train_data,by=\"date\",all.x=T)"
   ]
  },
  {
   "cell_type": "code",
   "execution_count": 32,
   "metadata": {},
   "outputs": [
    {
     "data": {
      "text/plain": [
       "\n",
       "FALSE  TRUE \n",
       " 3277     8 "
      ]
     },
     "metadata": {},
     "output_type": "display_data"
    }
   ],
   "source": [
    "table(is.na(new_train))"
   ]
  },
  {
   "cell_type": "code",
   "execution_count": 33,
   "metadata": {
    "collapsed": true
   },
   "outputs": [],
   "source": [
    "new_train[is.na(new_train)] <- 0"
   ]
  },
  {
   "cell_type": "code",
   "execution_count": 34,
   "metadata": {},
   "outputs": [
    {
     "data": {
      "text/html": [
       "<table>\n",
       "<thead><tr><th scope=col>date</th><th scope=col>store_nbr</th><th scope=col>transactions</th></tr></thead>\n",
       "<tbody>\n",
       "\t<tr><td>2013-01-01</td><td>25        </td><td> 770      </td></tr>\n",
       "\t<tr><td>2013-01-02</td><td>25        </td><td>1038      </td></tr>\n",
       "\t<tr><td>2013-01-03</td><td>25        </td><td> 887      </td></tr>\n",
       "\t<tr><td>2013-01-04</td><td>25        </td><td>1054      </td></tr>\n",
       "\t<tr><td>2013-01-05</td><td>25        </td><td>1355      </td></tr>\n",
       "\t<tr><td>2013-01-06</td><td>25        </td><td> 716      </td></tr>\n",
       "</tbody>\n",
       "</table>\n"
      ],
      "text/latex": [
       "\\begin{tabular}{r|lll}\n",
       " date & store\\_nbr & transactions\\\\\n",
       "\\hline\n",
       "\t 2013-01-01 & 25         &  770      \\\\\n",
       "\t 2013-01-02 & 25         & 1038      \\\\\n",
       "\t 2013-01-03 & 25         &  887      \\\\\n",
       "\t 2013-01-04 & 25         & 1054      \\\\\n",
       "\t 2013-01-05 & 25         & 1355      \\\\\n",
       "\t 2013-01-06 & 25         &  716      \\\\\n",
       "\\end{tabular}\n"
      ],
      "text/markdown": [
       "\n",
       "date | store_nbr | transactions | \n",
       "|---|---|---|---|---|---|\n",
       "| 2013-01-01 | 25         |  770       | \n",
       "| 2013-01-02 | 25         | 1038       | \n",
       "| 2013-01-03 | 25         |  887       | \n",
       "| 2013-01-04 | 25         | 1054       | \n",
       "| 2013-01-05 | 25         | 1355       | \n",
       "| 2013-01-06 | 25         |  716       | \n",
       "\n",
       "\n"
      ],
      "text/plain": [
       "  date       store_nbr transactions\n",
       "1 2013-01-01 25         770        \n",
       "2 2013-01-02 25        1038        \n",
       "3 2013-01-03 25         887        \n",
       "4 2013-01-04 25        1054        \n",
       "5 2013-01-05 25        1355        \n",
       "6 2013-01-06 25         716        "
      ]
     },
     "metadata": {},
     "output_type": "display_data"
    }
   ],
   "source": [
    "head(new_train)"
   ]
  },
  {
   "cell_type": "code",
   "execution_count": 35,
   "metadata": {
    "collapsed": true
   },
   "outputs": [],
   "source": [
    "x.ts = ts(new_train$transactions, freq=365, start=c(2013))"
   ]
  },
  {
   "cell_type": "code",
   "execution_count": 37,
   "metadata": {
    "collapsed": true
   },
   "outputs": [],
   "source": [
    "hw1 <- HoltWinters(x.ts,seasonal = \"additive\",beta = FALSE)"
   ]
  },
  {
   "cell_type": "code",
   "execution_count": 55,
   "metadata": {},
   "outputs": [
    {
     "data": {
      "text/html": [
       "<table>\n",
       "<thead><tr><th scope=col>date</th><th scope=col>transactions</th></tr></thead>\n",
       "<tbody>\n",
       "\t<tr><td>2016-01-01</td><td>0         </td></tr>\n",
       "</tbody>\n",
       "</table>\n"
      ],
      "text/latex": [
       "\\begin{tabular}{r|ll}\n",
       " date & transactions\\\\\n",
       "\\hline\n",
       "\t 2016-01-01 & 0         \\\\\n",
       "\\end{tabular}\n"
      ],
      "text/markdown": [
       "\n",
       "date | transactions | \n",
       "|---|\n",
       "| 2016-01-01 | 0          | \n",
       "\n",
       "\n"
      ],
      "text/plain": [
       "  date       transactions\n",
       "1 2016-01-01 0           "
      ]
     },
     "metadata": {},
     "output_type": "display_data"
    }
   ],
   "source": [
    "head(test_data)"
   ]
  },
  {
   "cell_type": "code",
   "execution_count": 56,
   "metadata": {},
   "outputs": [
    {
     "data": {
      "text/html": [
       "1"
      ],
      "text/latex": [
       "1"
      ],
      "text/markdown": [
       "1"
      ],
      "text/plain": [
       "[1] 1"
      ]
     },
     "metadata": {},
     "output_type": "display_data"
    }
   ],
   "source": [
    "nrow(test_data)"
   ]
  },
  {
   "cell_type": "code",
   "execution_count": 57,
   "metadata": {},
   "outputs": [
    {
     "data": {
      "text/html": [
       "1095"
      ],
      "text/latex": [
       "1095"
      ],
      "text/markdown": [
       "1095"
      ],
      "text/plain": [
       "[1] 1095"
      ]
     },
     "metadata": {},
     "output_type": "display_data"
    }
   ],
   "source": [
    "nrow(new_train)"
   ]
  },
  {
   "cell_type": "code",
   "execution_count": 64,
   "metadata": {},
   "outputs": [],
   "source": [
    "test_data$transactions <- predict(hw1,n.ahead = 1)"
   ]
  },
  {
   "cell_type": "code",
   "execution_count": 65,
   "metadata": {},
   "outputs": [
    {
     "data": {
      "text/plain": [
       "\n",
       "FALSE \n",
       "    2 "
      ]
     },
     "metadata": {},
     "output_type": "display_data"
    }
   ],
   "source": [
    "table(is.na(test_data))"
   ]
  },
  {
   "cell_type": "code",
   "execution_count": 66,
   "metadata": {},
   "outputs": [
    {
     "data": {
      "text/html": [
       "1"
      ],
      "text/latex": [
       "1"
      ],
      "text/markdown": [
       "1"
      ],
      "text/plain": [
       "[1] 1"
      ]
     },
     "metadata": {},
     "output_type": "display_data"
    }
   ],
   "source": [
    "nrow(test_data)"
   ]
  },
  {
   "cell_type": "code",
   "execution_count": 67,
   "metadata": {},
   "outputs": [
    {
     "data": {
      "text/html": [
       "<table>\n",
       "<thead><tr><th scope=col>date</th><th scope=col>transactions</th></tr></thead>\n",
       "<tbody>\n",
       "\t<tr><td>2016-01-01</td><td>1776.064  </td></tr>\n",
       "</tbody>\n",
       "</table>\n"
      ],
      "text/latex": [
       "\\begin{tabular}{r|ll}\n",
       " date & transactions\\\\\n",
       "\\hline\n",
       "\t 2016-01-01 & 1776.064  \\\\\n",
       "\\end{tabular}\n"
      ],
      "text/markdown": [
       "\n",
       "date | transactions | \n",
       "|---|\n",
       "| 2016-01-01 | 1776.064   | \n",
       "\n",
       "\n"
      ],
      "text/plain": [
       "  date       transactions\n",
       "1 2016-01-01 1776.064    "
      ]
     },
     "metadata": {},
     "output_type": "display_data"
    }
   ],
   "source": [
    "head(test_data)"
   ]
  },
  {
   "cell_type": "code",
   "execution_count": 70,
   "metadata": {},
   "outputs": [],
   "source": [
    "test_data$transactions = as.integer(test_data$transactions)"
   ]
  },
  {
   "cell_type": "code",
   "execution_count": 105,
   "metadata": {
    "collapsed": true
   },
   "outputs": [],
   "source": [
    "pred = test_data$transactions"
   ]
  },
  {
   "cell_type": "code",
   "execution_count": 106,
   "metadata": {},
   "outputs": [
    {
     "data": {
      "text/html": [
       "1776"
      ],
      "text/latex": [
       "1776"
      ],
      "text/markdown": [
       "1776"
      ],
      "text/plain": [
       "[1] 1776"
      ]
     },
     "metadata": {},
     "output_type": "display_data"
    }
   ],
   "source": [
    "pred"
   ]
  },
  {
   "cell_type": "code",
   "execution_count": 71,
   "metadata": {},
   "outputs": [
    {
     "data": {
      "text/html": [
       "<table>\n",
       "<thead><tr><th scope=col>date</th><th scope=col>transactions</th></tr></thead>\n",
       "<tbody>\n",
       "\t<tr><td>2016-01-01</td><td>1776      </td></tr>\n",
       "</tbody>\n",
       "</table>\n"
      ],
      "text/latex": [
       "\\begin{tabular}{r|ll}\n",
       " date & transactions\\\\\n",
       "\\hline\n",
       "\t 2016-01-01 & 1776      \\\\\n",
       "\\end{tabular}\n"
      ],
      "text/markdown": [
       "\n",
       "date | transactions | \n",
       "|---|\n",
       "| 2016-01-01 | 1776       | \n",
       "\n",
       "\n"
      ],
      "text/plain": [
       "  date       transactions\n",
       "1 2016-01-01 1776        "
      ]
     },
     "metadata": {},
     "output_type": "display_data"
    }
   ],
   "source": [
    "head(test_data)"
   ]
  },
  {
   "cell_type": "code",
   "execution_count": 97,
   "metadata": {
    "collapsed": true
   },
   "outputs": [],
   "source": [
    "trans = data.frame()"
   ]
  },
  {
   "cell_type": "code",
   "execution_count": 98,
   "metadata": {},
   "outputs": [],
   "source": [
    "trans1 = data.frame('2016-01-03', 52, 0)"
   ]
  },
  {
   "cell_type": "code",
   "execution_count": 99,
   "metadata": {
    "collapsed": true
   },
   "outputs": [],
   "source": [
    "trans = rbind(trans, trans1)"
   ]
  },
  {
   "cell_type": "code",
   "execution_count": 100,
   "metadata": {},
   "outputs": [],
   "source": [
    "names(trans) = c('date', 'store_nbr', 'transactions')"
   ]
  },
  {
   "cell_type": "code",
   "execution_count": 103,
   "metadata": {},
   "outputs": [
    {
     "data": {
      "text/html": [],
      "text/latex": [],
      "text/markdown": [],
      "text/plain": [
       "<0 x 0 matrix>"
      ]
     },
     "metadata": {},
     "output_type": "display_data"
    }
   ],
   "source": [
    "trans"
   ]
  },
  {
   "cell_type": "code",
   "execution_count": 140,
   "metadata": {
    "collapsed": true
   },
   "outputs": [],
   "source": [
    "trans = data.frame()"
   ]
  },
  {
   "cell_type": "code",
   "execution_count": 72,
   "metadata": {
    "collapsed": true
   },
   "outputs": [],
   "source": [
    "write.csv(test_data,file =\"../cache/transactions_25_20160101.csv\",row.names = FALSE)"
   ]
  },
  {
   "cell_type": "code",
   "execution_count": 122,
   "metadata": {},
   "outputs": [
    {
     "data": {
      "text/html": [
       "'../cache/transactions/tr_10_20160103.csv'"
      ],
      "text/latex": [
       "'../cache/transactions/tr\\_10\\_20160103.csv'"
      ],
      "text/markdown": [
       "'../cache/transactions/tr_10_20160103.csv'"
      ],
      "text/plain": [
       "[1] \"../cache/transactions/tr_10_20160103.csv\""
      ]
     },
     "metadata": {},
     "output_type": "display_data"
    }
   ],
   "source": [
    "paste('../cache/transactions/tr_',toString(10),'_20160103.csv', sep='')"
   ]
  },
  {
   "cell_type": "code",
   "execution_count": 141,
   "metadata": {},
   "outputs": [
    {
     "name": "stderr",
     "output_type": "stream",
     "text": [
      "Warning message in HoltWinters(x.ts, seasonal = \"additive\", beta = FALSE):\n",
      "“optimization difficulties: ERROR: ABNORMAL_TERMINATION_IN_LNSRCH”Warning message in HoltWinters(x.ts, seasonal = \"additive\", beta = FALSE):\n",
      "“optimization difficulties: ERROR: ABNORMAL_TERMINATION_IN_LNSRCH”Warning message in HoltWinters(x.ts, seasonal = \"additive\", beta = FALSE):\n",
      "“optimization difficulties: ERROR: ABNORMAL_TERMINATION_IN_LNSRCH”Warning message in HoltWinters(x.ts, seasonal = \"additive\", beta = FALSE):\n",
      "“optimization difficulties: ERROR: ABNORMAL_TERMINATION_IN_LNSRCH”"
     ]
    }
   ],
   "source": [
    "for (i in 1:54) {\n",
    "    if (i == 52) {\n",
    "        next\n",
    "    }\n",
    "    fn_tr = paste('../cache/transactions/tr_',toString(i),'_20160103.csv', sep='')\n",
    "    fn_te = paste('../cache/transactions/te_',toString(i),'_20160103.csv', sep='')\n",
    "    \n",
    "    train_data <- as.data.table(read.csv(fn_tr))\n",
    "    test_data <- as.data.table(read.csv(fn_te))\n",
    "    train_data$date <- ymd(train_data$date)\n",
    "    train_data$date <- as.Date(train_data$date)\n",
    "    date <- as.Date(seq(as.Date(\"2013-01-01\"), as.Date(\"2016-01-02\"), by=\"days\"))\n",
    "    new_train <- as.data.frame(date)\n",
    "    new_train <- merge(new_train,train_data,by=\"date\",all.x=T)\n",
    "    new_train[is.na(new_train)] <- 0\n",
    "    x.ts = ts(new_train$transactions, freq=365, start=c(2013))\n",
    "    hw1 <- HoltWinters(x.ts,seasonal = \"additive\",beta = FALSE)\n",
    "    test_data$transactions <- predict(hw1,n.ahead = 1)\n",
    "    test_data$transactions = as.integer(test_data$transactions)\n",
    "    pred  = test_data$transactions\n",
    "    new_test = data.frame('2016-01-03', i, pred)\n",
    "    trans = rbind(trans, new_test)\n",
    "}"
   ]
  },
  {
   "cell_type": "code",
   "execution_count": 142,
   "metadata": {},
   "outputs": [
    {
     "data": {
      "text/html": [
       "<table>\n",
       "<thead><tr><th scope=col>X.2016.01.03.</th><th scope=col>i</th><th scope=col>pred</th></tr></thead>\n",
       "<tbody>\n",
       "\t<tr><td>2016-01-03</td><td>1         </td><td>1216      </td></tr>\n",
       "\t<tr><td>2016-01-03</td><td>2         </td><td>1841      </td></tr>\n",
       "\t<tr><td>2016-01-03</td><td>3         </td><td>3378      </td></tr>\n",
       "\t<tr><td>2016-01-03</td><td>4         </td><td>1538      </td></tr>\n",
       "\t<tr><td>2016-01-03</td><td>5         </td><td>1374      </td></tr>\n",
       "\t<tr><td>2016-01-03</td><td>6         </td><td>2005      </td></tr>\n",
       "</tbody>\n",
       "</table>\n"
      ],
      "text/latex": [
       "\\begin{tabular}{r|lll}\n",
       " X.2016.01.03. & i & pred\\\\\n",
       "\\hline\n",
       "\t 2016-01-03 & 1          & 1216      \\\\\n",
       "\t 2016-01-03 & 2          & 1841      \\\\\n",
       "\t 2016-01-03 & 3          & 3378      \\\\\n",
       "\t 2016-01-03 & 4          & 1538      \\\\\n",
       "\t 2016-01-03 & 5          & 1374      \\\\\n",
       "\t 2016-01-03 & 6          & 2005      \\\\\n",
       "\\end{tabular}\n"
      ],
      "text/markdown": [
       "\n",
       "X.2016.01.03. | i | pred | \n",
       "|---|---|---|---|---|---|\n",
       "| 2016-01-03 | 1          | 1216       | \n",
       "| 2016-01-03 | 2          | 1841       | \n",
       "| 2016-01-03 | 3          | 3378       | \n",
       "| 2016-01-03 | 4          | 1538       | \n",
       "| 2016-01-03 | 5          | 1374       | \n",
       "| 2016-01-03 | 6          | 2005       | \n",
       "\n",
       "\n"
      ],
      "text/plain": [
       "  X.2016.01.03. i pred\n",
       "1 2016-01-03    1 1216\n",
       "2 2016-01-03    2 1841\n",
       "3 2016-01-03    3 3378\n",
       "4 2016-01-03    4 1538\n",
       "5 2016-01-03    5 1374\n",
       "6 2016-01-03    6 2005"
      ]
     },
     "metadata": {},
     "output_type": "display_data"
    }
   ],
   "source": [
    "head(trans)"
   ]
  },
  {
   "cell_type": "code",
   "execution_count": 143,
   "metadata": {
    "collapsed": true
   },
   "outputs": [],
   "source": [
    "names(trans) = c('date', 'store_nbr', 'transactions')"
   ]
  },
  {
   "cell_type": "code",
   "execution_count": 144,
   "metadata": {},
   "outputs": [
    {
     "data": {
      "text/html": [
       "<table>\n",
       "<thead><tr><th></th><th scope=col>date</th><th scope=col>store_nbr</th><th scope=col>transactions</th></tr></thead>\n",
       "<tbody>\n",
       "\t<tr><th scope=row>48</th><td>2016-01-03</td><td>48        </td><td>4206      </td></tr>\n",
       "\t<tr><th scope=row>49</th><td>2016-01-03</td><td>49        </td><td>3294      </td></tr>\n",
       "\t<tr><th scope=row>50</th><td>2016-01-03</td><td>50        </td><td>3373      </td></tr>\n",
       "\t<tr><th scope=row>51</th><td>2016-01-03</td><td>51        </td><td>1509      </td></tr>\n",
       "\t<tr><th scope=row>52</th><td>2016-01-03</td><td>53        </td><td>1183      </td></tr>\n",
       "\t<tr><th scope=row>53</th><td>2016-01-03</td><td>54        </td><td> 900      </td></tr>\n",
       "</tbody>\n",
       "</table>\n"
      ],
      "text/latex": [
       "\\begin{tabular}{r|lll}\n",
       "  & date & store\\_nbr & transactions\\\\\n",
       "\\hline\n",
       "\t48 & 2016-01-03 & 48         & 4206      \\\\\n",
       "\t49 & 2016-01-03 & 49         & 3294      \\\\\n",
       "\t50 & 2016-01-03 & 50         & 3373      \\\\\n",
       "\t51 & 2016-01-03 & 51         & 1509      \\\\\n",
       "\t52 & 2016-01-03 & 53         & 1183      \\\\\n",
       "\t53 & 2016-01-03 & 54         &  900      \\\\\n",
       "\\end{tabular}\n"
      ],
      "text/markdown": [
       "\n",
       "| <!--/--> | date | store_nbr | transactions | \n",
       "|---|---|---|---|---|---|\n",
       "| 48 | 2016-01-03 | 48         | 4206       | \n",
       "| 49 | 2016-01-03 | 49         | 3294       | \n",
       "| 50 | 2016-01-03 | 50         | 3373       | \n",
       "| 51 | 2016-01-03 | 51         | 1509       | \n",
       "| 52 | 2016-01-03 | 53         | 1183       | \n",
       "| 53 | 2016-01-03 | 54         |  900       | \n",
       "\n",
       "\n"
      ],
      "text/plain": [
       "   date       store_nbr transactions\n",
       "48 2016-01-03 48        4206        \n",
       "49 2016-01-03 49        3294        \n",
       "50 2016-01-03 50        3373        \n",
       "51 2016-01-03 51        1509        \n",
       "52 2016-01-03 53        1183        \n",
       "53 2016-01-03 54         900        "
      ]
     },
     "metadata": {},
     "output_type": "display_data"
    }
   ],
   "source": [
    "tail(trans)"
   ]
  },
  {
   "cell_type": "code",
   "execution_count": 145,
   "metadata": {},
   "outputs": [
    {
     "data": {
      "text/html": [
       "<table>\n",
       "<thead><tr><th scope=col>date</th><th scope=col>store_nbr</th><th scope=col>transactions</th></tr></thead>\n",
       "<tbody>\n",
       "\t<tr><td>2016-01-03</td><td>1         </td><td>1216      </td></tr>\n",
       "\t<tr><td>2016-01-03</td><td>2         </td><td>1841      </td></tr>\n",
       "\t<tr><td>2016-01-03</td><td>3         </td><td>3378      </td></tr>\n",
       "\t<tr><td>2016-01-03</td><td>4         </td><td>1538      </td></tr>\n",
       "\t<tr><td>2016-01-03</td><td>5         </td><td>1374      </td></tr>\n",
       "\t<tr><td>2016-01-03</td><td>6         </td><td>2005      </td></tr>\n",
       "</tbody>\n",
       "</table>\n"
      ],
      "text/latex": [
       "\\begin{tabular}{r|lll}\n",
       " date & store\\_nbr & transactions\\\\\n",
       "\\hline\n",
       "\t 2016-01-03 & 1          & 1216      \\\\\n",
       "\t 2016-01-03 & 2          & 1841      \\\\\n",
       "\t 2016-01-03 & 3          & 3378      \\\\\n",
       "\t 2016-01-03 & 4          & 1538      \\\\\n",
       "\t 2016-01-03 & 5          & 1374      \\\\\n",
       "\t 2016-01-03 & 6          & 2005      \\\\\n",
       "\\end{tabular}\n"
      ],
      "text/markdown": [
       "\n",
       "date | store_nbr | transactions | \n",
       "|---|---|---|---|---|---|\n",
       "| 2016-01-03 | 1          | 1216       | \n",
       "| 2016-01-03 | 2          | 1841       | \n",
       "| 2016-01-03 | 3          | 3378       | \n",
       "| 2016-01-03 | 4          | 1538       | \n",
       "| 2016-01-03 | 5          | 1374       | \n",
       "| 2016-01-03 | 6          | 2005       | \n",
       "\n",
       "\n"
      ],
      "text/plain": [
       "  date       store_nbr transactions\n",
       "1 2016-01-03 1         1216        \n",
       "2 2016-01-03 2         1841        \n",
       "3 2016-01-03 3         3378        \n",
       "4 2016-01-03 4         1538        \n",
       "5 2016-01-03 5         1374        \n",
       "6 2016-01-03 6         2005        "
      ]
     },
     "metadata": {},
     "output_type": "display_data"
    }
   ],
   "source": [
    "head(trans)"
   ]
  },
  {
   "cell_type": "code",
   "execution_count": 146,
   "metadata": {},
   "outputs": [
    {
     "data": {
      "text/plain": [
       "\n",
       "FALSE \n",
       "  159 "
      ]
     },
     "metadata": {},
     "output_type": "display_data"
    }
   ],
   "source": [
    "table(is.na(trans))"
   ]
  },
  {
   "cell_type": "code",
   "execution_count": 147,
   "metadata": {
    "collapsed": true
   },
   "outputs": [],
   "source": [
    "write.csv(trans,file =\"../cache/transactions_20160103.csv\",row.names = FALSE)"
   ]
  },
  {
   "cell_type": "code",
   "execution_count": null,
   "metadata": {
    "collapsed": true
   },
   "outputs": [],
   "source": [
    "# now other missing data"
   ]
  },
  {
   "cell_type": "code",
   "execution_count": 23,
   "metadata": {
    "collapsed": true
   },
   "outputs": [],
   "source": [
    "l = c('2013-06-19_10',\n",
    " '2013-06-19_35',\n",
    " '2013-06-19_43',\n",
    " '2013-06-19_54',\n",
    " '2014-01-02_32',\n",
    " '2014-03-24_25',\n",
    " '2016-01-02_1',\n",
    " '2016-01-02_10',\n",
    " '2016-01-02_11',\n",
    " '2016-01-02_12',\n",
    " '2016-01-02_13',\n",
    " '2016-01-02_14',\n",
    " '2016-01-02_15',\n",
    " '2016-01-02_17',\n",
    " '2016-01-02_18',\n",
    " '2016-01-02_19',\n",
    " '2016-01-02_3',\n",
    " '2016-01-02_4',\n",
    " '2016-01-02_5',\n",
    " '2016-01-02_6',\n",
    " '2016-01-02_7',\n",
    " '2016-01-02_8',\n",
    " '2016-01-02_9',\n",
    " '2016-01-04_10',\n",
    " '2016-01-04_11',\n",
    " '2016-01-04_12',\n",
    " '2016-01-04_13',\n",
    " '2016-01-04_14',\n",
    " '2016-01-04_15',\n",
    " '2016-01-04_16',\n",
    " '2016-01-04_17',\n",
    " '2016-01-04_18',\n",
    " '2016-01-04_19',\n",
    " '2016-01-04_2',\n",
    " '2016-01-04_20',\n",
    " '2016-01-04_21',\n",
    " '2016-01-04_22',\n",
    " '2016-01-04_27',\n",
    " '2016-01-04_28',\n",
    " '2016-01-04_29',\n",
    " '2016-01-04_3',\n",
    " '2016-01-04_35',\n",
    " '2016-01-04_36',\n",
    " '2016-01-04_4',\n",
    " '2016-01-04_40',\n",
    " '2016-01-04_41',\n",
    " '2016-01-04_42',\n",
    " '2016-01-04_43',\n",
    " '2016-01-04_44',\n",
    " '2016-01-04_45',\n",
    " '2016-01-04_46',\n",
    " '2016-01-04_47',\n",
    " '2016-01-04_48',\n",
    " '2016-01-04_49',\n",
    " '2016-01-04_50',\n",
    " '2016-01-04_51',\n",
    " '2016-01-04_53',\n",
    " '2016-01-04_54',\n",
    " '2016-01-04_6',\n",
    " '2016-01-04_7',\n",
    " '2016-01-04_8',\n",
    " '2016-01-04_9',\n",
    " '2016-09-27_23',\n",
    " '2016-09-27_7')"
   ]
  },
  {
   "cell_type": "code",
   "execution_count": 46,
   "metadata": {},
   "outputs": [
    {
     "data": {
      "text/html": [
       "64"
      ],
      "text/latex": [
       "64"
      ],
      "text/markdown": [
       "64"
      ],
      "text/plain": [
       "[1] 64"
      ]
     },
     "metadata": {},
     "output_type": "display_data"
    }
   ],
   "source": [
    "length(l)"
   ]
  },
  {
   "cell_type": "code",
   "execution_count": 24,
   "metadata": {},
   "outputs": [],
   "source": [
    "date_and_store= strsplit('2016-09-27_7', '_')[[1]]"
   ]
  },
  {
   "cell_type": "code",
   "execution_count": 25,
   "metadata": {},
   "outputs": [
    {
     "data": {
      "text/html": [
       "'7'"
      ],
      "text/latex": [
       "'7'"
      ],
      "text/markdown": [
       "'7'"
      ],
      "text/plain": [
       "[1] \"7\""
      ]
     },
     "metadata": {},
     "output_type": "display_data"
    }
   ],
   "source": [
    "date_and_store[2]"
   ]
  },
  {
   "cell_type": "code",
   "execution_count": 26,
   "metadata": {},
   "outputs": [
    {
     "name": "stdout",
     "output_type": "stream",
     "text": [
      "[1] \"2016-09-26\"\n"
     ]
    }
   ],
   "source": [
    "date <- date_and_store[1]\n",
    "date <- as.Date(date) -1\n",
    "print(date)"
   ]
  },
  {
   "cell_type": "code",
   "execution_count": 27,
   "metadata": {},
   "outputs": [
    {
     "data": {
      "text/html": [
       "'../cache/transactions/tr_7_20160927.csv'"
      ],
      "text/latex": [
       "'../cache/transactions/tr\\_7\\_20160927.csv'"
      ],
      "text/markdown": [
       "'../cache/transactions/tr_7_20160927.csv'"
      ],
      "text/plain": [
       "[1] \"../cache/transactions/tr_7_20160927.csv\""
      ]
     },
     "metadata": {},
     "output_type": "display_data"
    }
   ],
   "source": [
    "date <- date_and_store[1]\n",
    "date <- gsub('-','',date)\n",
    "i <- date_and_store[2]\n",
    "paste('../cache/transactions/tr_',toString(i),'_', toString(date), '.csv', sep='')"
   ]
  },
  {
   "cell_type": "code",
   "execution_count": 33,
   "metadata": {
    "collapsed": true
   },
   "outputs": [],
   "source": [
    "trans = data.frame()"
   ]
  },
  {
   "cell_type": "code",
   "execution_count": 43,
   "metadata": {},
   "outputs": [
    {
     "name": "stdout",
     "output_type": "stream",
     "text": [
      "[1] \"2013-06-19_10\"\n",
      "[1] \"../cache/transactions/tr_10_20130619.csv\"\n",
      "[1] 168\n",
      "[1] \"2013-06-19_35\"\n",
      "[1] \"../cache/transactions/tr_35_20130619.csv\"\n",
      "[1] 168\n",
      "[1] \"2013-06-19_43\"\n",
      "[1] \"../cache/transactions/tr_43_20130619.csv\"\n",
      "[1] 168\n",
      "[1] \"2013-06-19_54\"\n",
      "[1] \"../cache/transactions/tr_54_20130619.csv\"\n",
      "[1] 168\n",
      "[1] \"2014-01-02_32\"\n",
      "[1] \"../cache/transactions/tr_32_20140102.csv\"\n",
      "[1] 363\n",
      "[1] \"2014-03-24_25\"\n",
      "[1] \"../cache/transactions/tr_25_20140324.csv\"\n",
      "[1] 446\n",
      "[1] \"2016-01-02_1\"\n",
      "[1] \"../cache/transactions/tr_1_20160102.csv\"\n",
      "[1] 1088\n",
      "[1] \"2016-01-02_10\"\n",
      "[1] \"../cache/transactions/tr_10_20160102.csv\"\n",
      "[1] 1088\n",
      "[1] \"2016-01-02_11\"\n",
      "[1] \"../cache/transactions/tr_11_20160102.csv\"\n",
      "[1] 1089\n",
      "[1] \"2016-01-02_12\"\n",
      "[1] \"../cache/transactions/tr_12_20160102.csv\"\n",
      "[1] 1029\n",
      "[1] \"2016-01-02_13\"\n",
      "[1] \"../cache/transactions/tr_13_20160102.csv\"\n",
      "[1] 1089\n",
      "[1] \"2016-01-02_14\"\n",
      "[1] \"../cache/transactions/tr_14_20160102.csv\"\n",
      "[1] 1051\n",
      "[1] \"2016-01-02_15\"\n",
      "[1] \"../cache/transactions/tr_15_20160102.csv\"\n",
      "[1] 1089\n",
      "[1] \"2016-01-02_17\"\n",
      "[1] \"../cache/transactions/tr_17_20160102.csv\"\n",
      "[1] 1089\n",
      "[1] \"2016-01-02_18\"\n",
      "[1] \"../cache/transactions/tr_18_20160102.csv\"\n",
      "[1] 1089\n",
      "[1] \"2016-01-02_19\"\n",
      "[1] \"../cache/transactions/tr_19_20160102.csv\"\n",
      "[1] 1089\n",
      "[1] \"2016-01-02_3\"\n",
      "[1] \"../cache/transactions/tr_3_20160102.csv\"\n",
      "[1] 1089\n",
      "[1] \"2016-01-02_4\"\n",
      "[1] \"../cache/transactions/tr_4_20160102.csv\"\n",
      "[1] 1089\n",
      "[1] \"2016-01-02_5\"\n",
      "[1] \"../cache/transactions/tr_5_20160102.csv\"\n",
      "[1] 1089\n"
     ]
    },
    {
     "name": "stderr",
     "output_type": "stream",
     "text": [
      "Warning message in HoltWinters(x.ts, seasonal = \"additive\", beta = FALSE):\n",
      "“optimization difficulties: ERROR: ABNORMAL_TERMINATION_IN_LNSRCH”"
     ]
    },
    {
     "name": "stdout",
     "output_type": "stream",
     "text": [
      "[1] \"2016-01-02_6\"\n",
      "[1] \"../cache/transactions/tr_6_20160102.csv\"\n",
      "[1] 1089\n",
      "[1] \"2016-01-02_7\"\n",
      "[1] \"../cache/transactions/tr_7_20160102.csv\"\n",
      "[1] 1089\n",
      "[1] \"2016-01-02_8\"\n",
      "[1] \"../cache/transactions/tr_8_20160102.csv\"\n",
      "[1] 1089\n",
      "[1] \"2016-01-02_9\"\n",
      "[1] \"../cache/transactions/tr_9_20160102.csv\"\n",
      "[1] 1089\n",
      "[1] \"2016-01-04_10\"\n",
      "[1] \"../cache/transactions/tr_10_20160104.csv\"\n",
      "[1] 1088\n",
      "[1] \"2016-01-04_11\"\n",
      "[1] \"../cache/transactions/tr_11_20160104.csv\"\n",
      "[1] 1089\n"
     ]
    },
    {
     "name": "stderr",
     "output_type": "stream",
     "text": [
      "Warning message in HoltWinters(x.ts, seasonal = \"additive\", beta = FALSE):\n",
      "“optimization difficulties: ERROR: ABNORMAL_TERMINATION_IN_LNSRCH”"
     ]
    },
    {
     "name": "stdout",
     "output_type": "stream",
     "text": [
      "[1] \"2016-01-04_12\"\n",
      "[1] \"../cache/transactions/tr_12_20160104.csv\"\n",
      "[1] 1029\n",
      "[1] \"2016-01-04_13\"\n",
      "[1] \"../cache/transactions/tr_13_20160104.csv\"\n",
      "[1] 1089\n",
      "[1] \"2016-01-04_14\"\n",
      "[1] \"../cache/transactions/tr_14_20160104.csv\"\n",
      "[1] 1051\n",
      "[1] \"2016-01-04_15\"\n",
      "[1] \"../cache/transactions/tr_15_20160104.csv\"\n",
      "[1] 1089\n",
      "[1] \"2016-01-04_16\"\n",
      "[1] \"../cache/transactions/tr_16_20160104.csv\"\n",
      "[1] 1090\n",
      "[1] \"2016-01-04_17\"\n",
      "[1] \"../cache/transactions/tr_17_20160104.csv\"\n",
      "[1] 1089\n",
      "[1] \"2016-01-04_18\"\n",
      "[1] \"../cache/transactions/tr_18_20160104.csv\"\n",
      "[1] 1089\n",
      "[1] \"2016-01-04_19\"\n",
      "[1] \"../cache/transactions/tr_19_20160104.csv\"\n",
      "[1] 1089\n"
     ]
    },
    {
     "name": "stderr",
     "output_type": "stream",
     "text": [
      "Warning message in HoltWinters(x.ts, seasonal = \"additive\", beta = FALSE):\n",
      "“optimization difficulties: ERROR: ABNORMAL_TERMINATION_IN_LNSRCH”"
     ]
    },
    {
     "name": "stdout",
     "output_type": "stream",
     "text": [
      "[1] \"2016-01-04_2\"\n",
      "[1] \"../cache/transactions/tr_2_20160104.csv\"\n",
      "[1] 1090\n",
      "[1] \"2016-01-04_20\"\n",
      "[1] \"../cache/transactions/tr_20_20160104.csv\"\n",
      "[1] 322\n",
      "[1] \"2016-01-04_21\"\n",
      "[1] \"../cache/transactions/tr_21_20160104.csv\"\n",
      "[1] 161\n",
      "[1] \"2016-01-04_22\"\n",
      "[1] \"../cache/transactions/tr_22_20160104.csv\"\n",
      "[1] 84\n",
      "[1] \"2016-01-04_27\"\n",
      "[1] \"../cache/transactions/tr_27_20160104.csv\"\n",
      "[1] 1090\n",
      "[1] \"2016-01-04_28\"\n",
      "[1] \"../cache/transactions/tr_28_20160104.csv\"\n",
      "[1] 1090\n",
      "[1] \"2016-01-04_29\"\n",
      "[1] \"../cache/transactions/tr_29_20160104.csv\"\n",
      "[1] 287\n",
      "[1] \"2016-01-04_3\"\n",
      "[1] \"../cache/transactions/tr_3_20160104.csv\"\n",
      "[1] 1089\n",
      "[1] \"2016-01-04_35\"\n",
      "[1] \"../cache/transactions/tr_35_20160104.csv\"\n",
      "[1] 1089\n",
      "[1] \"2016-01-04_36\"\n",
      "[1] \"../cache/transactions/tr_36_20160104.csv\"\n",
      "[1] 964\n",
      "[1] \"2016-01-04_4\"\n",
      "[1] \"../cache/transactions/tr_4_20160104.csv\"\n",
      "[1] 1089\n",
      "[1] \"2016-01-04_40\"\n",
      "[1] \"../cache/transactions/tr_40_20160104.csv\"\n",
      "[1] 1090\n",
      "[1] \"2016-01-04_41\"\n",
      "[1] \"../cache/transactions/tr_41_20160104.csv\"\n",
      "[1] 1090\n",
      "[1] \"2016-01-04_42\"\n",
      "[1] \"../cache/transactions/tr_42_20160104.csv\"\n",
      "[1] 133\n",
      "[1] \"2016-01-04_43\"\n",
      "[1] \"../cache/transactions/tr_43_20160104.csv\"\n",
      "[1] 1089\n",
      "[1] \"2016-01-04_44\"\n",
      "[1] \"../cache/transactions/tr_44_20160104.csv\"\n",
      "[1] 1090\n",
      "[1] \"2016-01-04_45\"\n",
      "[1] \"../cache/transactions/tr_45_20160104.csv\"\n",
      "[1] 1090\n",
      "[1] \"2016-01-04_46\"\n",
      "[1] \"../cache/transactions/tr_46_20160104.csv\"\n",
      "[1] 1090\n",
      "[1] \"2016-01-04_47\"\n",
      "[1] \"../cache/transactions/tr_47_20160104.csv\"\n",
      "[1] 1090\n",
      "[1] \"2016-01-04_48\"\n",
      "[1] \"../cache/transactions/tr_48_20160104.csv\"\n",
      "[1] 1090\n",
      "[1] \"2016-01-04_49\"\n",
      "[1] \"../cache/transactions/tr_49_20160104.csv\"\n",
      "[1] 1090\n",
      "[1] \"2016-01-04_50\"\n",
      "[1] \"../cache/transactions/tr_50_20160104.csv\"\n",
      "[1] 1090\n",
      "[1] \"2016-01-04_51\"\n",
      "[1] \"../cache/transactions/tr_51_20160104.csv\"\n",
      "[1] 1090\n",
      "[1] \"2016-01-04_53\"\n",
      "[1] \"../cache/transactions/tr_53_20160104.csv\"\n",
      "[1] 580\n",
      "[1] \"2016-01-04_54\"\n",
      "[1] \"../cache/transactions/tr_54_20160104.csv\"\n",
      "[1] 1089\n",
      "[1] \"2016-01-04_6\"\n",
      "[1] \"../cache/transactions/tr_6_20160104.csv\"\n",
      "[1] 1089\n",
      "[1] \"2016-01-04_7\"\n",
      "[1] \"../cache/transactions/tr_7_20160104.csv\"\n",
      "[1] 1089\n",
      "[1] \"2016-01-04_8\"\n",
      "[1] \"../cache/transactions/tr_8_20160104.csv\"\n",
      "[1] 1089\n",
      "[1] \"2016-01-04_9\"\n",
      "[1] \"../cache/transactions/tr_9_20160104.csv\"\n",
      "[1] 1089\n",
      "[1] \"2016-09-27_23\"\n",
      "[1] \"../cache/transactions/tr_23_20160927.csv\"\n",
      "[1] 1357\n",
      "[1] \"2016-09-27_7\"\n",
      "[1] \"../cache/transactions/tr_7_20160927.csv\"\n",
      "[1] 1355\n"
     ]
    }
   ],
   "source": [
    "for (el in l) {\n",
    "    print(el)\n",
    "    date_and_store = strsplit(el, '_')[[1]]\n",
    "    date1 <- date_and_store[1]\n",
    "    date2 <- gsub('-','',date1)\n",
    "    i <- date_and_store[2]\n",
    "    fn_tr = paste('../cache/transactions/tr_',toString(i),'_', toString(date2), '.csv', sep='')\n",
    "    fn_te = paste('../cache/transactions/te_',toString(i),'_', toString(date2), '.csv', sep='')\n",
    "    print(fn_tr)\n",
    "    train_data <- as.data.table(read.csv(fn_tr))\n",
    "    print(nrow(train_data))\n",
    "    test_data <- as.data.table(read.csv(fn_te))\n",
    "    train_data$date <- ymd(train_data$date)\n",
    "    train_data$date <- as.Date(train_data$date)\n",
    "    date <- as.Date(seq(as.Date(\"2013-01-01\"), as.Date(date1)-1, by=\"days\"))\n",
    "    new_train <- as.data.frame(date)\n",
    "    new_train <- merge(new_train,train_data,by=\"date\",all.x=T)\n",
    "    new_train[is.na(new_train)] <- 0\n",
    "    x.ts = ts(new_train$transactions, freq=30, start=c(2013))\n",
    "    hw1 <- HoltWinters(x.ts,seasonal = \"additive\",beta = FALSE)\n",
    "    test_data$transactions <- predict(hw1,n.ahead = 1)\n",
    "    test_data$transactions = as.integer(test_data$transactions)\n",
    "    pred  = test_data$transactions\n",
    "    new_test = data.frame(date1, i, pred)\n",
    "    trans = rbind(trans, new_test)\n",
    "}"
   ]
  },
  {
   "cell_type": "code",
   "execution_count": 44,
   "metadata": {},
   "outputs": [
    {
     "data": {
      "text/html": [
       "64"
      ],
      "text/latex": [
       "64"
      ],
      "text/markdown": [
       "64"
      ],
      "text/plain": [
       "[1] 64"
      ]
     },
     "metadata": {},
     "output_type": "display_data"
    }
   ],
   "source": [
    "nrow(trans)"
   ]
  },
  {
   "cell_type": "code",
   "execution_count": 48,
   "metadata": {},
   "outputs": [],
   "source": [
    "names(trans) = c('date', 'store_nbr', 'transactions')"
   ]
  },
  {
   "cell_type": "code",
   "execution_count": 49,
   "metadata": {
    "collapsed": true
   },
   "outputs": [],
   "source": [
    "write.csv(trans,file =\"../cache/transactions_missing.csv\",row.names = FALSE)"
   ]
  },
  {
   "cell_type": "code",
   "execution_count": null,
   "metadata": {
    "collapsed": true
   },
   "outputs": [],
   "source": [
    "# now for test data"
   ]
  },
  {
   "cell_type": "code",
   "execution_count": 164,
   "metadata": {
    "collapsed": true
   },
   "outputs": [],
   "source": [
    "trans = data.frame()"
   ]
  },
  {
   "cell_type": "code",
   "execution_count": 165,
   "metadata": {},
   "outputs": [
    {
     "name": "stderr",
     "output_type": "stream",
     "text": [
      "Warning message in HoltWinters(x.ts, seasonal = \"additive\", beta = FALSE):\n",
      "“optimization difficulties: ERROR: ABNORMAL_TERMINATION_IN_LNSRCH”Warning message in HoltWinters(x.ts, seasonal = \"additive\", beta = FALSE):\n",
      "“optimization difficulties: ERROR: ABNORMAL_TERMINATION_IN_LNSRCH”"
     ]
    }
   ],
   "source": [
    "for (i in 1:54) {\n",
    "    \n",
    "    fn_tr = paste('../cache/transactions/tr_all_',toString(i),'.csv', sep='')\n",
    "    fn_te = paste('../cache/transactions/te_all_',toString(i),'.csv', sep='')\n",
    "    \n",
    "    train_data <- as.data.table(read.csv(fn_tr))\n",
    "    test_data <- as.data.table(read.csv(fn_te))\n",
    "    train_data$date <- ymd(train_data$date)\n",
    "    train_data$date <- as.Date(train_data$date)\n",
    "    date <- as.Date(seq(as.Date(\"2013-01-01\"), as.Date(\"2017-08-15\"), by=\"days\"))\n",
    "    new_train <- as.data.frame(date)\n",
    "    new_train <- merge(new_train,train_data,by=\"date\",all.x=T)\n",
    "    new_train[is.na(new_train)] <- 0\n",
    "    x.ts = ts(new_train$transactions, freq=365, start=c(2013))\n",
    "    hw1 <- HoltWinters(x.ts,seasonal = \"additive\",beta = FALSE)\n",
    "    test_data$transactions <- predict(hw1,n.ahead = 16)\n",
    "    test_data$transactions = as.integer(test_data$transactions)\n",
    "    \n",
    "    test_data$store_nbr = toString(i)\n",
    "    trans = rbind(trans, as.data.frame(test_data))\n",
    "}"
   ]
  },
  {
   "cell_type": "code",
   "execution_count": 169,
   "metadata": {
    "collapsed": true
   },
   "outputs": [],
   "source": [
    "names(trans) = c('date', 'transactions', 'store_nbr')"
   ]
  },
  {
   "cell_type": "code",
   "execution_count": 170,
   "metadata": {},
   "outputs": [
    {
     "data": {
      "text/html": [
       "864"
      ],
      "text/latex": [
       "864"
      ],
      "text/markdown": [
       "864"
      ],
      "text/plain": [
       "[1] 864"
      ]
     },
     "metadata": {},
     "output_type": "display_data"
    }
   ],
   "source": [
    "nrow(trans)"
   ]
  },
  {
   "cell_type": "code",
   "execution_count": 171,
   "metadata": {},
   "outputs": [
    {
     "data": {
      "text/html": [
       "<table>\n",
       "<thead><tr><th scope=col>date</th><th scope=col>transactions</th><th scope=col>store_nbr</th></tr></thead>\n",
       "<tbody>\n",
       "\t<tr><td>2017-08-16</td><td>1538      </td><td>1         </td></tr>\n",
       "\t<tr><td>2017-08-17</td><td>1745      </td><td>1         </td></tr>\n",
       "\t<tr><td>2017-08-18</td><td>1653      </td><td>1         </td></tr>\n",
       "\t<tr><td>2017-08-19</td><td>1687      </td><td>1         </td></tr>\n",
       "\t<tr><td>2017-08-20</td><td>1397      </td><td>1         </td></tr>\n",
       "\t<tr><td>2017-08-21</td><td> 804      </td><td>1         </td></tr>\n",
       "</tbody>\n",
       "</table>\n"
      ],
      "text/latex": [
       "\\begin{tabular}{r|lll}\n",
       " date & transactions & store\\_nbr\\\\\n",
       "\\hline\n",
       "\t 2017-08-16 & 1538       & 1         \\\\\n",
       "\t 2017-08-17 & 1745       & 1         \\\\\n",
       "\t 2017-08-18 & 1653       & 1         \\\\\n",
       "\t 2017-08-19 & 1687       & 1         \\\\\n",
       "\t 2017-08-20 & 1397       & 1         \\\\\n",
       "\t 2017-08-21 &  804       & 1         \\\\\n",
       "\\end{tabular}\n"
      ],
      "text/markdown": [
       "\n",
       "date | transactions | store_nbr | \n",
       "|---|---|---|---|---|---|\n",
       "| 2017-08-16 | 1538       | 1          | \n",
       "| 2017-08-17 | 1745       | 1          | \n",
       "| 2017-08-18 | 1653       | 1          | \n",
       "| 2017-08-19 | 1687       | 1          | \n",
       "| 2017-08-20 | 1397       | 1          | \n",
       "| 2017-08-21 |  804       | 1          | \n",
       "\n",
       "\n"
      ],
      "text/plain": [
       "  date       transactions store_nbr\n",
       "1 2017-08-16 1538         1        \n",
       "2 2017-08-17 1745         1        \n",
       "3 2017-08-18 1653         1        \n",
       "4 2017-08-19 1687         1        \n",
       "5 2017-08-20 1397         1        \n",
       "6 2017-08-21  804         1        "
      ]
     },
     "metadata": {},
     "output_type": "display_data"
    }
   ],
   "source": [
    "head(trans)"
   ]
  },
  {
   "cell_type": "code",
   "execution_count": 172,
   "metadata": {},
   "outputs": [
    {
     "data": {
      "text/html": [
       "864"
      ],
      "text/latex": [
       "864"
      ],
      "text/markdown": [
       "864"
      ],
      "text/plain": [
       "[1] 864"
      ]
     },
     "metadata": {},
     "output_type": "display_data"
    }
   ],
   "source": [
    "16 * 54"
   ]
  },
  {
   "cell_type": "code",
   "execution_count": 173,
   "metadata": {
    "collapsed": true
   },
   "outputs": [],
   "source": [
    "write.csv(trans,file =\"../cache/test_transactions.csv\",row.names = FALSE)"
   ]
  },
  {
   "cell_type": "code",
   "execution_count": null,
   "metadata": {
    "collapsed": true
   },
   "outputs": [],
   "source": []
  }
 ],
 "metadata": {
  "kernelspec": {
   "display_name": "R",
   "language": "R",
   "name": "ir"
  },
  "language_info": {
   "codemirror_mode": "r",
   "file_extension": ".r",
   "mimetype": "text/x-r-source",
   "name": "R",
   "pygments_lexer": "r",
   "version": "3.4.1"
  }
 },
 "nbformat": 4,
 "nbformat_minor": 2
}
