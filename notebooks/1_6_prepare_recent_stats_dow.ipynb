{
 "cells": [
  {
   "cell_type": "code",
   "execution_count": 1,
   "metadata": {
    "collapsed": true
   },
   "outputs": [],
   "source": [
    "import os\n",
    "from tqdm import tqdm\n",
    "import feather\n",
    "import pandas as pd\n",
    "import numpy as np\n",
    "from scipy import stats\n",
    "import gc\n",
    "from joblib import Parallel, delayed"
   ]
  },
  {
   "cell_type": "code",
   "execution_count": 2,
   "metadata": {
    "collapsed": true
   },
   "outputs": [],
   "source": [
    "def append_to_csv(batch, csv_file):\n",
    "    props = dict(encoding='utf-8', index=False)\n",
    "    if not os.path.exists(csv_file):\n",
    "        batch.to_csv(csv_file, **props)\n",
    "    else:\n",
    "        batch.to_csv(csv_file, mode='a', header=False, **props)\n",
    "        \n",
    "def delete_file_if_exists(filename):\n",
    "    if os.path.exists(filename):\n",
    "        os.remove(filename)"
   ]
  },
  {
   "cell_type": "code",
   "execution_count": 3,
   "metadata": {
    "collapsed": false
   },
   "outputs": [
    {
     "name": "stderr",
     "output_type": "stream",
     "text": [
      "/home/watts/anaconda2/envs/sdp35/lib/python3.5/site-packages/IPython/core/interactiveshell.py:2728: DtypeWarning: Columns (5) have mixed types. Specify dtype option on import or set low_memory=False.\n",
      "  interactivity=interactivity, compiler=compiler, result=result)\n"
     ]
    }
   ],
   "source": [
    "fn = '../cache/bkup/train10_t_store{}.csv'.format(1)\n",
    "df =pd.read_csv(fn)"
   ]
  },
  {
   "cell_type": "code",
   "execution_count": 4,
   "metadata": {
    "collapsed": false
   },
   "outputs": [
    {
     "data": {
      "text/html": [
       "<div>\n",
       "<style scoped>\n",
       "    .dataframe tbody tr th:only-of-type {\n",
       "        vertical-align: middle;\n",
       "    }\n",
       "\n",
       "    .dataframe tbody tr th {\n",
       "        vertical-align: top;\n",
       "    }\n",
       "\n",
       "    .dataframe thead th {\n",
       "        text-align: right;\n",
       "    }\n",
       "</style>\n",
       "<table border=\"1\" class=\"dataframe\">\n",
       "  <thead>\n",
       "    <tr style=\"text-align: right;\">\n",
       "      <th></th>\n",
       "      <th>id</th>\n",
       "      <th>date</th>\n",
       "      <th>store_nbr</th>\n",
       "      <th>item_nbr</th>\n",
       "      <th>unit_sales</th>\n",
       "      <th>onpromotion</th>\n",
       "      <th>item_family</th>\n",
       "      <th>item_class</th>\n",
       "      <th>perishable</th>\n",
       "      <th>city</th>\n",
       "      <th>...</th>\n",
       "      <th>dow</th>\n",
       "      <th>doy</th>\n",
       "      <th>dcount</th>\n",
       "      <th>h_type</th>\n",
       "      <th>h_desc</th>\n",
       "      <th>pd</th>\n",
       "      <th>wbe</th>\n",
       "      <th>wae</th>\n",
       "      <th>wfe</th>\n",
       "      <th>store_item_nbr</th>\n",
       "    </tr>\n",
       "  </thead>\n",
       "  <tbody>\n",
       "    <tr>\n",
       "      <th>0</th>\n",
       "      <td>578</td>\n",
       "      <td>2013-01-02</td>\n",
       "      <td>1</td>\n",
       "      <td>103665</td>\n",
       "      <td>2.0</td>\n",
       "      <td>Unk</td>\n",
       "      <td>BREAD/BAKERY</td>\n",
       "      <td>2712</td>\n",
       "      <td>1</td>\n",
       "      <td>Quito</td>\n",
       "      <td>...</td>\n",
       "      <td>2</td>\n",
       "      <td>2</td>\n",
       "      <td>734870</td>\n",
       "      <td>Work Day</td>\n",
       "      <td>Normal</td>\n",
       "      <td>0</td>\n",
       "      <td>172</td>\n",
       "      <td>0</td>\n",
       "      <td>172</td>\n",
       "      <td>1_103665</td>\n",
       "    </tr>\n",
       "    <tr>\n",
       "      <th>1</th>\n",
       "      <td>579</td>\n",
       "      <td>2013-01-02</td>\n",
       "      <td>1</td>\n",
       "      <td>105574</td>\n",
       "      <td>8.0</td>\n",
       "      <td>Unk</td>\n",
       "      <td>GROCERY I</td>\n",
       "      <td>1045</td>\n",
       "      <td>0</td>\n",
       "      <td>Quito</td>\n",
       "      <td>...</td>\n",
       "      <td>2</td>\n",
       "      <td>2</td>\n",
       "      <td>734870</td>\n",
       "      <td>Work Day</td>\n",
       "      <td>Normal</td>\n",
       "      <td>0</td>\n",
       "      <td>172</td>\n",
       "      <td>0</td>\n",
       "      <td>172</td>\n",
       "      <td>1_105574</td>\n",
       "    </tr>\n",
       "    <tr>\n",
       "      <th>2</th>\n",
       "      <td>580</td>\n",
       "      <td>2013-01-02</td>\n",
       "      <td>1</td>\n",
       "      <td>105575</td>\n",
       "      <td>15.0</td>\n",
       "      <td>Unk</td>\n",
       "      <td>GROCERY I</td>\n",
       "      <td>1045</td>\n",
       "      <td>0</td>\n",
       "      <td>Quito</td>\n",
       "      <td>...</td>\n",
       "      <td>2</td>\n",
       "      <td>2</td>\n",
       "      <td>734870</td>\n",
       "      <td>Work Day</td>\n",
       "      <td>Normal</td>\n",
       "      <td>0</td>\n",
       "      <td>172</td>\n",
       "      <td>0</td>\n",
       "      <td>172</td>\n",
       "      <td>1_105575</td>\n",
       "    </tr>\n",
       "    <tr>\n",
       "      <th>3</th>\n",
       "      <td>581</td>\n",
       "      <td>2013-01-02</td>\n",
       "      <td>1</td>\n",
       "      <td>105577</td>\n",
       "      <td>2.0</td>\n",
       "      <td>Unk</td>\n",
       "      <td>GROCERY I</td>\n",
       "      <td>1045</td>\n",
       "      <td>0</td>\n",
       "      <td>Quito</td>\n",
       "      <td>...</td>\n",
       "      <td>2</td>\n",
       "      <td>2</td>\n",
       "      <td>734870</td>\n",
       "      <td>Work Day</td>\n",
       "      <td>Normal</td>\n",
       "      <td>0</td>\n",
       "      <td>172</td>\n",
       "      <td>0</td>\n",
       "      <td>172</td>\n",
       "      <td>1_105577</td>\n",
       "    </tr>\n",
       "    <tr>\n",
       "      <th>4</th>\n",
       "      <td>582</td>\n",
       "      <td>2013-01-02</td>\n",
       "      <td>1</td>\n",
       "      <td>105737</td>\n",
       "      <td>2.0</td>\n",
       "      <td>Unk</td>\n",
       "      <td>GROCERY I</td>\n",
       "      <td>1044</td>\n",
       "      <td>0</td>\n",
       "      <td>Quito</td>\n",
       "      <td>...</td>\n",
       "      <td>2</td>\n",
       "      <td>2</td>\n",
       "      <td>734870</td>\n",
       "      <td>Work Day</td>\n",
       "      <td>Normal</td>\n",
       "      <td>0</td>\n",
       "      <td>172</td>\n",
       "      <td>0</td>\n",
       "      <td>172</td>\n",
       "      <td>1_105737</td>\n",
       "    </tr>\n",
       "  </tbody>\n",
       "</table>\n",
       "<p>5 rows × 27 columns</p>\n",
       "</div>"
      ],
      "text/plain": [
       "    id        date  store_nbr  item_nbr  unit_sales onpromotion   item_family  \\\n",
       "0  578  2013-01-02          1    103665         2.0         Unk  BREAD/BAKERY   \n",
       "1  579  2013-01-02          1    105574         8.0         Unk     GROCERY I   \n",
       "2  580  2013-01-02          1    105575        15.0         Unk     GROCERY I   \n",
       "3  581  2013-01-02          1    105577         2.0         Unk     GROCERY I   \n",
       "4  582  2013-01-02          1    105737         2.0         Unk     GROCERY I   \n",
       "\n",
       "   item_class  perishable   city       ...       dow doy  dcount    h_type  \\\n",
       "0        2712           1  Quito       ...         2   2  734870  Work Day   \n",
       "1        1045           0  Quito       ...         2   2  734870  Work Day   \n",
       "2        1045           0  Quito       ...         2   2  734870  Work Day   \n",
       "3        1045           0  Quito       ...         2   2  734870  Work Day   \n",
       "4        1044           0  Quito       ...         2   2  734870  Work Day   \n",
       "\n",
       "   h_desc  pd  wbe  wae  wfe  store_item_nbr  \n",
       "0  Normal   0  172    0  172        1_103665  \n",
       "1  Normal   0  172    0  172        1_105574  \n",
       "2  Normal   0  172    0  172        1_105575  \n",
       "3  Normal   0  172    0  172        1_105577  \n",
       "4  Normal   0  172    0  172        1_105737  \n",
       "\n",
       "[5 rows x 27 columns]"
      ]
     },
     "execution_count": 4,
     "metadata": {},
     "output_type": "execute_result"
    }
   ],
   "source": [
    "df.head()"
   ]
  },
  {
   "cell_type": "code",
   "execution_count": 5,
   "metadata": {
    "collapsed": false
   },
   "outputs": [
    {
     "data": {
      "text/plain": [
       "(2562153, 27)"
      ]
     },
     "execution_count": 5,
     "metadata": {},
     "output_type": "execute_result"
    }
   ],
   "source": [
    "df.shape"
   ]
  },
  {
   "cell_type": "code",
   "execution_count": 6,
   "metadata": {
    "collapsed": false
   },
   "outputs": [
    {
     "data": {
      "text/plain": [
       "3567"
      ]
     },
     "execution_count": 6,
     "metadata": {},
     "output_type": "execute_result"
    }
   ],
   "source": [
    "len(set(df.item_nbr))"
   ]
  },
  {
   "cell_type": "code",
   "execution_count": 7,
   "metadata": {
    "collapsed": false
   },
   "outputs": [
    {
     "data": {
      "text/plain": [
       "'2013-01-02'"
      ]
     },
     "execution_count": 7,
     "metadata": {},
     "output_type": "execute_result"
    }
   ],
   "source": [
    "np.min(df.date)"
   ]
  },
  {
   "cell_type": "code",
   "execution_count": 8,
   "metadata": {
    "collapsed": false
   },
   "outputs": [
    {
     "data": {
      "text/plain": [
       "'2017-08-15'"
      ]
     },
     "execution_count": 8,
     "metadata": {},
     "output_type": "execute_result"
    }
   ],
   "source": [
    "np.max(df.date)"
   ]
  },
  {
   "cell_type": "code",
   "execution_count": 9,
   "metadata": {
    "collapsed": false
   },
   "outputs": [
    {
     "data": {
      "text/plain": [
       "numpy.timedelta64(1686,'D')"
      ]
     },
     "execution_count": 9,
     "metadata": {},
     "output_type": "execute_result"
    }
   ],
   "source": [
    "np.datetime64(np.max(df.date)) - np.datetime64(np.min(df.date))"
   ]
  },
  {
   "cell_type": "code",
   "execution_count": 10,
   "metadata": {
    "collapsed": false
   },
   "outputs": [
    {
     "data": {
      "text/plain": [
       "1460"
      ]
     },
     "execution_count": 10,
     "metadata": {},
     "output_type": "execute_result"
    }
   ],
   "source": [
    "365 * 4"
   ]
  },
  {
   "cell_type": "code",
   "execution_count": 11,
   "metadata": {
    "collapsed": true
   },
   "outputs": [],
   "source": [
    "def set_recent_stats(df2, date, days, mean, median, std, skew, kurtosis, ten_by_ninety):\n",
    "    df2.loc[0,'date'] = date\n",
    "    df2.loc[0,'us_{}_mean'.format(days)] = mean\n",
    "    df2.loc[0,'us_{}_med'.format(days)] = median\n",
    "    df2.loc[0,'us_{}_std'.format(days)] = std\n",
    "    df2.loc[0,'us_{}_skew'.format(days)] = skew\n",
    "    df2.loc[0,'us_{}_kurt'.format(days)] = kurtosis\n",
    "    df2.loc[0,'us_{}_tbn'.format(days)] = ten_by_ninety\n",
    "\n",
    "\n",
    "def set_recent_stats_promo(df2, date, days, mean, median, std, skew, kurtosis, ten_by_ninety):\n",
    "    df2.loc[0,'date'] = date\n",
    "    df2.loc[0,'us_{}_p_mean'.format(days)] = mean\n",
    "    df2.loc[0,'us_{}_p_med'.format(days)] = median\n",
    "    df2.loc[0,'us_{}_p_std'.format(days)] = std\n",
    "    df2.loc[0,'us_{}_p_skew'.format(days)] = skew\n",
    "    df2.loc[0,'us_{}_p_kurt'.format(days)] = kurtosis\n",
    "    df2.loc[0,'us_{}_p_tbn'.format(days)] = ten_by_ninety\n",
    "\n",
    "\n",
    "def set_recent_stats_promo2(df2, date, days, mean, median, std, skew, kurtosis, ten_by_ninety):\n",
    "    \n",
    "    df2.loc[0,'date'] = date\n",
    "    df2.loc[0,'us_{}_p_mean'.format(days)] = mean\n",
    "    df2.loc[0,'us_{}_p_med'.format(days)] = median\n",
    "    df2.loc[0,'us_{}_p_std'.format(days)] = std\n",
    "    df2.loc[0,'us_{}_p_skew'.format(days)] = skew\n",
    "    df2.loc[0,'us_{}_p_kurt'.format(days)] = kurtosis\n",
    "    df2.loc[0,'us_{}_p_tbn'.format(days)] = ten_by_ninety\n",
    "\n",
    "\n",
    "def set_recent_stats_promo3(df2, date, days, fn, mean, median, std, skew, kurtosis, ten_by_ninety):\n",
    "    df2.loc[0,'date'] = date\n",
    "    df2.loc[0,'us_{}_p_mean'.format(days)] = mean\n",
    "    df2.loc[0,'us_{}_p_med'.format(days)] = median\n",
    "    df2.loc[0,'us_{}_p_std'.format(days)] = std\n",
    "    df2.loc[0,'us_{}_p_skew'.format(days)] = skew\n",
    "    df2.loc[0,'us_{}_p_kurt'.format(days)] = kurtosis\n",
    "    df2.loc[0,'us_{}_p_tbn'.format(days)] = ten_by_ninety\n",
    "\n",
    "def set_recent_stats_hol(df2, date, days, mean, median, std, skew, kurtosis, ten_by_ninety):\n",
    "    df2.loc[0,'date'] = date\n",
    "    df2.loc[0,'us_{}_h_mean'.format(days)] = mean\n",
    "    df2.loc[0,'us_{}_h_med'.format(days)] = median\n",
    "    df2.loc[0,'us_{}_h_std'.format(days)] = std\n",
    "    df2.loc[0,'us_{}_h_skew'.format(days)] = skew\n",
    "    df2.loc[0,'us_{}_h_kurt'.format(days)] = kurtosis\n",
    "    df2.loc[0,'us_{}_h_tbn'.format(days)] = ten_by_ninety\n",
    "\n",
    "\n",
    "def set_recent_stats_per(df2, date, days, mean, median, std, skew, kurtosis, ten_by_ninety):\n",
    "    df2.loc[0,'date'] = date\n",
    "    df2.loc[0,'us_{}_per_mean'.format(days)] = mean\n",
    "    df2.loc[0,'us_{}_per_med'.format(days)] = median\n",
    "    df2.loc[0,'us_{}_per_std'.format(days)] = std\n",
    "    df2.loc[0,'us_{}_per_skew'.format(days)] = skew\n",
    "    df2.loc[0,'us_{}_per_kurt'.format(days)] = kurtosis\n",
    "    df2.loc[0,'us_{}_per_tbn'.format(days)] = ten_by_ninety\n",
    "\n",
    "\n",
    "def set_recent_stats_nper(df2, date, days, mean, median, std, skew, kurtosis, ten_by_ninety):\n",
    "    df2.loc[0,'date'] = date\n",
    "    df2.loc[0,'us_{}_nper_mean'.format(days)] = mean\n",
    "    df2.loc[0,'us_{}_nper_med'.format(days)] = median\n",
    "    df2.loc[0,'us_{}_nper_std'.format(days)] = std\n",
    "    df2.loc[0,'us_{}_nper_skew'.format(days)] = skew\n",
    "    df2.loc[0,'us_{}_nper_kurt'.format(days)] = kurtosis\n",
    "    df2.loc[0,'us_{}_nper_tbn'.format(days)] = ten_by_ninety\n",
    "\n",
    "\n",
    "def set_recent_stats_dow(df2, date, days, dow, mean, median, std, skew, kurtosis, ten_by_ninety):\n",
    "    df2.loc[0,'date'] = date\n",
    "    df2.loc[0, 'us_{}_dow{}_mean'.format(days, dow)] = mean\n",
    "    df2.loc[0, 'us_{}_dow{}_med'.format(days, dow)] = median\n",
    "    df2.loc[0, 'us_{}_dow{}_std'.format(days, dow)] = std\n",
    "    df2.loc[0, 'us_{}_dow{}_skew'.format(days, dow)] = skew\n",
    "    df2.loc[0, 'us_{}_dow{}_kurt'.format(days, dow)] = kurtosis\n",
    "    df2.loc[0, 'us_{}_dow{}_tbn'.format(days, dow)] = ten_by_ninety\n",
    "\n",
    "def set_recent_stats_promo_hol(df2, date, days, mean, median, std, skew, kurtosis, ten_by_ninety):\n",
    "    df2.loc[0,'date'] = date\n",
    "    df2.loc[0, 'us_{}_ph_mean'.format(days)] = mean\n",
    "    df2.loc[0, 'us_{}_ph_med'.format(days)] = median\n",
    "    df2.loc[0, 'us_{}_ph_std'.format(days)] = std\n",
    "    df2.loc[0, 'us_{}_ph_skew'.format(days)] = skew\n",
    "    df2.loc[0, 'us_{}_ph_kurt'.format(days)] = kurtosis\n",
    "    df2.loc[0, 'us_{}_ph_tbn'.format(days)] = ten_by_ninety\n",
    "\n",
    "\n",
    "def set_recent_stats_dow_promo_hol(df1, date, days, dow, mean, median, std, skew, kurtosis, ten_by_ninety):\n",
    "    df2.loc[0,'date'] = date\n",
    "    df2.loc[0, 'us_{}_dow{}_ph_mean'.format(days, dow)] = mean\n",
    "    df2.loc[0, 'us_{}_dow{}_ph_med'.format(days, dow)] = median\n",
    "    df2.loc[0, 'us_{}_dow{}_ph_std'.format(days, dow)] = std\n",
    "    df2.loc[0, 'us_{}_dow{}_ph_skew'.format(days, dow)] = skew\n",
    "    df2.loc[0, 'us_{}_dow{}_ph_kurt'.format(days, dow)] = kurtosis\n",
    "    df2.loc[0, 'us_{}_dow{}_ph_tbn'.format(days, dow)] = ten_by_ninety\n"
   ]
  },
  {
   "cell_type": "code",
   "execution_count": 14,
   "metadata": {
    "collapsed": true
   },
   "outputs": [],
   "source": [
    "# df_h = pd.read_csv('../data/holidays_events.csv')"
   ]
  },
  {
   "cell_type": "code",
   "execution_count": 15,
   "metadata": {
    "collapsed": false
   },
   "outputs": [],
   "source": [
    "# df_h.type.value_counts()"
   ]
  },
  {
   "cell_type": "code",
   "execution_count": 16,
   "metadata": {
    "collapsed": false
   },
   "outputs": [],
   "source": [
    "# df_h1 = df_h[(df.date.apply(np.datetime64)) > np.datetime64('2017-08-15')]"
   ]
  },
  {
   "cell_type": "code",
   "execution_count": 17,
   "metadata": {
    "collapsed": false
   },
   "outputs": [
    {
     "data": {
      "text/plain": [
       "False    1932613\n",
       "Unk       484853\n",
       "True      138020\n",
       "False       6667\n",
       "Name: onpromotion, dtype: int64"
      ]
     },
     "execution_count": 17,
     "metadata": {},
     "output_type": "execute_result"
    }
   ],
   "source": [
    "df.onpromotion.value_counts()"
   ]
  },
  {
   "cell_type": "code",
   "execution_count": 18,
   "metadata": {
    "collapsed": false
   },
   "outputs": [
    {
     "data": {
      "text/plain": [
       "True    138020\n",
       "Name: onpromotion, dtype: int64"
      ]
     },
     "execution_count": 18,
     "metadata": {},
     "output_type": "execute_result"
    }
   ],
   "source": [
    "df.onpromotion[df.onpromotion==True].value_counts()"
   ]
  },
  {
   "cell_type": "code",
   "execution_count": 19,
   "metadata": {
    "collapsed": false
   },
   "outputs": [],
   "source": [
    "# df.h_type.value_counts()"
   ]
  },
  {
   "cell_type": "code",
   "execution_count": 20,
   "metadata": {
    "collapsed": false
   },
   "outputs": [],
   "source": [
    "# df.h_type[df.h_type=='Work Day'].value_counts()"
   ]
  },
  {
   "cell_type": "code",
   "execution_count": 21,
   "metadata": {
    "collapsed": false
   },
   "outputs": [],
   "source": [
    "# df.h_type[df.h_type != 'Work Day'].value_counts()"
   ]
  },
  {
   "cell_type": "code",
   "execution_count": 22,
   "metadata": {
    "collapsed": true
   },
   "outputs": [],
   "source": [
    "#df_h.h_type[df_h.type == 'Additional'] = 'Holiday'"
   ]
  },
  {
   "cell_type": "code",
   "execution_count": 23,
   "metadata": {
    "collapsed": true
   },
   "outputs": [],
   "source": [
    "recent_days = [30, 90, 180, 365, 730]"
   ]
  },
  {
   "cell_type": "code",
   "execution_count": 24,
   "metadata": {
    "collapsed": true
   },
   "outputs": [],
   "source": [
    "def calculate_recent_stats(date, df, fn):\n",
    "    df3 = pd.DataFrame()\n",
    "    for days in recent_days:\n",
    "        past_date = (np.datetime64(date) - np.timedelta64(days, 'D'))\n",
    "        i = 1\n",
    "        df_min_date = np.datetime64(np.min(df.date))\n",
    "        while (past_date < df_min_date) & (i <= 2):\n",
    "            past_date = (np.datetime64(date) - np.timedelta64(days-i, 'D'))\n",
    "            i +=1\n",
    "        \n",
    "        if past_date < df_min_date:\n",
    "            print('date:{}, past_date:{}'.format(date, past_date))\n",
    "            j = days-i\n",
    "            print('days:{}, i: {}, days-i:{}'.format(days, i, j))\n",
    "            set_recent_stats(df3, date,days,0, 0, 0, 0, 0, 0)\n",
    "            continue\n",
    "        data = df.unit_sales[(df.dts < np.datetime64(date)) & \n",
    "                             (df.dts >= past_date)]\n",
    "        if(data.shape[0] == 0):\n",
    "            print('date:{}, past_date:{}'.format(date, past_date))\n",
    "            j = days-i\n",
    "            print('days:{}, i: {}, days-i:{}'.format(days, i, j))\n",
    "            set_recent_stats(df3, date,days,0, 0, 0, 0, 0, 0)\n",
    "            continue\n",
    "        mean = data.mean()\n",
    "        median = data.median()\n",
    "        std = data.std()\n",
    "        skew = data.skew()\n",
    "        kurtosis = data.kurtosis()\n",
    "        tenp = data.quantile(0.1)\n",
    "        ninetyp = data.quantile(0.9)\n",
    "        ten_by_ninety = tenp/ninetyp\n",
    "        set_recent_stats(df3, date,days,mean, median, std, skew, kurtosis, ten_by_ninety)\n",
    "        del data\n",
    "    append_to_csv(df3, fn)\n",
    "    del df3\n",
    "        \n",
    "\n",
    "def calculate_recent_stats_promo(date, df, fn):\n",
    "    df3 = pd.DataFrame()\n",
    "    for days in recent_days:\n",
    "        past_date = (np.datetime64(date) - np.timedelta64(days, 'D'))\n",
    "        i = 1\n",
    "        df_min_date = np.datetime64(np.min(df.date))\n",
    "        while (past_date < df_min_date) & (i <= 2):\n",
    "            past_date = (np.datetime64(date) - np.timedelta64(days-i, 'D'))\n",
    "            i +=1\n",
    "        \n",
    "        if past_date < df_min_date:\n",
    "            print('date:{}, past_date:{}'.format(date, past_date))\n",
    "            j = days-i\n",
    "            print('days:{}, i: {}, days-i:{}'.format(days, i, j))\n",
    "            set_recent_stats(df3, date,days,0, 0, 0, 0, 0, 0)\n",
    "            continue\n",
    "        \n",
    "        data = df.unit_sales[(df.dts < np.datetime64(date)) & \n",
    "                             (df.dts >= past_date) & (df.onpromotion == True)]\n",
    "        if(data.shape[0] == 0):\n",
    "            print('date:{}, past_date:{}'.format(date, past_date))\n",
    "            j = days-i\n",
    "            print('days:{}, i: {}, days-i:{}'.format(days, i, j))\n",
    "            set_recent_stats(df3, date,days,0, 0, 0, 0, 0, 0)\n",
    "            continue\n",
    "        \n",
    "        mean = data.mean()\n",
    "        median = data.median()\n",
    "        std = data.std()\n",
    "        skew = data.skew()\n",
    "        kurtosis = data.kurtosis()\n",
    "        tenp = data.quantile(0.1)\n",
    "        ninetyp = data.quantile(0.9)\n",
    "        ten_by_ninety = tenp/ninetyp\n",
    "        set_recent_stats_promo3(df3, date,days,mean, median, std, skew, kurtosis, ten_by_ninety)\n",
    "        del data\n",
    "    append_to_csv(df3, fn)\n",
    "    del df3\n",
    "        \n",
    "        \n",
    "def calculate_recent_stats_hol(date, df, fn):\n",
    "    df3 = pd.DataFrame()\n",
    "    for days in recent_days:\n",
    "        past_date = (np.datetime64(date) - np.timedelta64(days, 'D'))\n",
    "        i = 1\n",
    "        df_min_date = np.datetime64(np.min(df.date))\n",
    "        while (past_date < df_min_date) & (i <= 2):\n",
    "            past_date = (np.datetime64(date) - np.timedelta64(days-i, 'D'))\n",
    "            i +=1\n",
    "        \n",
    "        if past_date < df_min_date:\n",
    "            print('date:{}, past_date:{}'.format(date, past_date))\n",
    "            j = days-i\n",
    "            print('days:{}, i: {}, days-i:{}'.format(days, i, j))\n",
    "            set_recent_stats(df3, date,days,0, 0, 0, 0, 0, 0)\n",
    "            continue\n",
    "        \n",
    "        data = df.unit_sales[(df.dts < np.datetime64(date)) & \n",
    "                             (df.dts >= past_date) & (df.h_type != 'Work Day')]\n",
    "        if(data.shape[0] == 0):\n",
    "            print('date:{}, past_date:{}'.format(date, past_date))\n",
    "            j = days-i\n",
    "            print('days:{}, i: {}, days-i:{}'.format(days, i, j))\n",
    "            set_recent_stats(df3, date,days,0, 0, 0, 0, 0, 0)\n",
    "            continue\n",
    "        \n",
    "        mean = data.mean()\n",
    "        median = data.median()\n",
    "        std = data.std()\n",
    "        skew = data.skew()\n",
    "        kurtosis = data.kurtosis()\n",
    "        tenp = data.quantile(0.1)\n",
    "        ninetyp = data.quantile(0.9)\n",
    "        ten_by_ninety = tenp/ninetyp\n",
    "        set_recent_stats_hol(df3, date,days,mean, median, std, skew, kurtosis, ten_by_ninety)\n",
    "        del data\n",
    "    append_to_csv(df3, fn)\n",
    "    del df3\n",
    "    \n",
    " \n",
    "def calculate_recent_stats_perishable(date, df, fn):\n",
    "    df3 = pd.DataFrame()\n",
    "    for days in recent_days:\n",
    "        past_date = (np.datetime64(date) - np.timedelta64(days, 'D'))\n",
    "        i = 1\n",
    "        df_min_date = np.datetime64(np.min(df.date))\n",
    "        while (past_date < df_min_date) & (i <= 2):\n",
    "            past_date = (np.datetime64(date) - np.timedelta64(days-i, 'D'))\n",
    "            i +=1\n",
    "        \n",
    "        if past_date < df_min_date:\n",
    "            print('date:{}, past_date:{}'.format(date, past_date))\n",
    "            j = days-i\n",
    "            print('days:{}, i: {}, days-i:{}'.format(days, i, j))\n",
    "            set_recent_stats(df3, date,days,0, 0, 0, 0, 0, 0)\n",
    "            continue\n",
    "        \n",
    "        data = df.unit_sales[(df.dts < np.datetime64(date)) & \n",
    "                             (df.dts >= past_date) & (df.perishable == 1)]\n",
    "        if(data.shape[0] == 0):\n",
    "            print('date:{}, past_date:{}'.format(date, past_date))\n",
    "            j = days-i\n",
    "            print('days:{}, i: {}, days-i:{}'.format(days, i, j))\n",
    "            set_recent_stats(df3, date,days,0, 0, 0, 0, 0, 0)\n",
    "            continue\n",
    "        \n",
    "        mean = data.mean()\n",
    "        median = data.median()\n",
    "        std = data.std()\n",
    "        skew = data.skew()\n",
    "        kurtosis = data.kurtosis()\n",
    "        tenp = data.quantile(0.1)\n",
    "        ninetyp = data.quantile(0.9)\n",
    "        ten_by_ninety = tenp/ninetyp\n",
    "        set_recent_stats_per(df3, date,days, mean, median, std, skew, kurtosis, ten_by_ninety)\n",
    "        del data\n",
    "    append_to_csv(df3, fn)\n",
    "    del df3\n",
    "        \n",
    "def calculate_recent_stats_not_perishable(date, df, fn):\n",
    "    df3 = pd.DataFrame()\n",
    "    for days in recent_days:\n",
    "        past_date = (np.datetime64(date) - np.timedelta64(days, 'D'))\n",
    "        i = 1\n",
    "        df_min_date = np.datetime64(np.min(df.date))\n",
    "        while (past_date < df_min_date) & (i <= 2):\n",
    "            past_date = (np.datetime64(date) - np.timedelta64(days-i, 'D'))\n",
    "            i +=1\n",
    "        \n",
    "        if past_date < df_min_date:\n",
    "            print('date:{}, past_date:{}'.format(date, past_date))\n",
    "            j = days-i\n",
    "            print('days:{}, i: {}, days-i:{}'.format(days, i, j))\n",
    "            set_recent_stats(df3, date,days,0, 0, 0, 0, 0, 0)\n",
    "            continue\n",
    "        \n",
    "        data = df.unit_sales[(df.dts < np.datetime64(date)) & \n",
    "                             (df.dts >= past_date) & (df.perishable == 0)]\n",
    "        if(data.shape[0] == 0):\n",
    "            print('date:{}, past_date:{}'.format(date, past_date))\n",
    "            j = days-i\n",
    "            print('days:{}, i: {}, days-i:{}'.format(days, i, j))\n",
    "            set_recent_stats(df3, date,days,0, 0, 0, 0, 0, 0)\n",
    "            continue\n",
    "        mean = data.mean()\n",
    "        median = data.median()\n",
    "        std = data.std()\n",
    "        skew = data.skew()\n",
    "        kurtosis = data.kurtosis()\n",
    "        tenp = data.quantile(0.1)\n",
    "        ninetyp = data.quantile(0.9)\n",
    "        ten_by_ninety = tenp/ninetyp\n",
    "        set_recent_stats_nper(df3, date,days,mean, median, std, skew, kurtosis, ten_by_ninety)\n",
    "        del data\n",
    "    append_to_csv(df3, fn)\n",
    "    del df3\n",
    "        \n",
    "def calculate_recent_stats_dow(date, dow, df, fn):\n",
    "    df3 = pd.DataFrame()\n",
    "    for days in recent_days:\n",
    "        past_date = (np.datetime64(date) - np.timedelta64(days, 'D'))\n",
    "        i = 1\n",
    "        df_min_date = np.datetime64(np.min(df.date))\n",
    "        while (past_date < df_min_date) & (i <= 2):\n",
    "            past_date = (np.datetime64(date) - np.timedelta64(days-i, 'D'))\n",
    "            i +=1\n",
    "        \n",
    "        if past_date < df_min_date:\n",
    "            print('date:{}, past_date:{}'.format(date, past_date))\n",
    "            j = days-i\n",
    "            print('days:{}, i: {}, days-i:{}'.format(days, i, j))\n",
    "            set_recent_stats_dow(df3, date,days, dow, 0, 0, 0, 0, 0, 0)\n",
    "            continue\n",
    "        \n",
    "#         data = df.unit_sales[(df.dts < np.datetime64(date)) & \n",
    "#                              (df.dts >= past_date) & (df.dow == dow)]\n",
    "        \n",
    "        data = df.unit_sales[(df.date.astype('str') < str(date)) & \n",
    "                             (df.date.astype('str') >= str(past_date)) & (df.dow == dow) ]\n",
    "        \n",
    "        if(data.shape[0] == 0):\n",
    "            print('date:{}, past_date:{}'.format(date, past_date))\n",
    "            j = days-i\n",
    "            print('days:{}, i: {}, days-i:{}'.format(days, i, j))\n",
    "            set_recent_stats_dow(df3, date,days,dow, 0, 0, 0, 0, 0, 0)\n",
    "            continue\n",
    "        mean = data.mean()\n",
    "        median = data.median()\n",
    "        std = data.std()\n",
    "        skew = data.skew()\n",
    "        kurtosis = data.kurtosis()\n",
    "        tenp = data.quantile(0.1)\n",
    "        ninetyp = data.quantile(0.9)\n",
    "        ten_by_ninety = tenp/ninetyp\n",
    "        set_recent_stats_dow(df3, date,days, dow, mean, median, std, skew, kurtosis, ten_by_ninety)\n",
    "        del data\n",
    "    append_to_csv(df3, fn)\n",
    "    del df3\n",
    "    \n",
    "def calculate_recent_stats_promo_hol(date, df, fn):\n",
    "    df3 = pd.DataFrame()\n",
    "    for days in recent_days:\n",
    "        past_date = (np.datetime64(date) - np.timedelta64(days, 'D'))\n",
    "        i = 1\n",
    "        df_min_date = np.datetime64(np.min(df.date))\n",
    "        while (past_date < df_min_date) & (i <= 2):\n",
    "            past_date = (np.datetime64(date) - np.timedelta64(days-i, 'D'))\n",
    "            i +=1\n",
    "        \n",
    "        if past_date < df_min_date:\n",
    "            print('date:{}, past_date:{}'.format(date, past_date))\n",
    "            j = days-i\n",
    "            print('days:{}, i: {}, days-i:{}'.format(days, i, j))\n",
    "            set_recent_stats(df3, date,days,0, 0, 0, 0, 0, 0)\n",
    "            continue\n",
    "        \n",
    "        data = df.unit_sales[(df.dts < np.datetime64(date)) & \n",
    "                             (df.dts >= past_date) & \n",
    "                             (df.h_type != 'Work Day') & (df.onpromotion == True)]\n",
    "        if(data.shape[0] == 0):\n",
    "            print('date:{}, past_date:{}'.format(date, past_date))\n",
    "            j = days-i\n",
    "            print('days:{}, i: {}, days-i:{}'.format(days, i, j))\n",
    "            set_recent_stats(df3, date,days,0, 0, 0, 0, 0, 0)\n",
    "            continue\n",
    "        mean = data.mean()\n",
    "        median = data.median()\n",
    "        std = data.std()\n",
    "        skew = data.skew()\n",
    "        kurtosis = data.kurtosis()\n",
    "        tenp = data.quantile(0.1)\n",
    "        ninetyp = data.quantile(0.9)\n",
    "        ten_by_ninety = tenp/ninetyp\n",
    "        set_recent_stats_promo_hol(df3, date,days,mean, median, std, skew, kurtosis, ten_by_ninety)\n",
    "        del data\n",
    "    append_to_csv(df3, fn)\n",
    "    del df3\n",
    "    \n",
    "def calculate_recent_stats_dow_promo_hol(date, dow, df, fn):\n",
    "    df3 = pd.DataFrame()\n",
    "    for days in recent_days:\n",
    "        past_date = (np.datetime64(date) - np.timedelta64(days, 'D'))\n",
    "        i = 1\n",
    "        df_min_date = np.datetime64(np.min(df.date))\n",
    "        while (past_date < df_min_date) & (i <= 2):\n",
    "            past_date = (np.datetime64(date) - np.timedelta64(days-i, 'D'))\n",
    "            i +=1\n",
    "        \n",
    "        if past_date < df_min_date:\n",
    "            print('date:{}, past_date:{}'.format(date, past_date))\n",
    "            j = days-i\n",
    "            print('days:{}, i: {}, days-i:{}'.format(days, i, j))\n",
    "            set_recent_stats(df3, date,days,0, 0, 0, 0, 0, 0)\n",
    "            continue\n",
    "        \n",
    "        data = df.unit_sales[(df.dts < np.datetime64(date)) & \n",
    "                             (df.dts >= past_date) & \n",
    "                             (df.h_type != 'Work Day') & \n",
    "                             (df.onpromotion == True) & \n",
    "                             (df.dow == dow)]\n",
    "        if(data.shape[0] == 0):\n",
    "            print('date:{}, past_date:{}'.format(date, past_date))\n",
    "            j = days-i\n",
    "            print('days:{}, i: {}, days-i:{}'.format(days, i, j))\n",
    "            set_recent_stats(df3, date,days,dow,0, 0, 0, 0, 0, 0)\n",
    "            continue\n",
    "        mean = data.mean()\n",
    "        median = data.median()\n",
    "        std = data.std()\n",
    "        skew = data.skew()\n",
    "        kurtosis = data.kurtosis()\n",
    "        tenp = data.quantile(0.1)\n",
    "        ninetyp = data.quantile(0.9)\n",
    "        ten_by_ninety = tenp/ninetyp\n",
    "        set_recent_stats_dow_promo_hol(df3, date,days,dow,mean, median, std, skew, kurtosis, ten_by_ninety)\n",
    "        del data\n",
    "    append_to_csv(df3, fn)\n",
    "    del df3"
   ]
  },
  {
   "cell_type": "code",
   "execution_count": 25,
   "metadata": {
    "collapsed": false
   },
   "outputs": [
    {
     "name": "stdout",
     "output_type": "stream",
     "text": [
      "5.52075222249\n"
     ]
    }
   ],
   "source": [
    "print(df.unit_sales.mean())"
   ]
  },
  {
   "cell_type": "code",
   "execution_count": 26,
   "metadata": {
    "collapsed": true
   },
   "outputs": [],
   "source": [
    "past_date = (np.datetime64('2016-01-01') - np.timedelta64(2, 'D'))"
   ]
  },
  {
   "cell_type": "code",
   "execution_count": 27,
   "metadata": {
    "collapsed": false
   },
   "outputs": [],
   "source": [
    "# df.unit_sales[(df.date.apply(np.datetime64) >= past_date) & \n",
    "#               (df.date.apply(np.datetime64) < np.datetime64('2016-01-01'))].mean()"
   ]
  },
  {
   "cell_type": "code",
   "execution_count": 28,
   "metadata": {
    "collapsed": true
   },
   "outputs": [],
   "source": [
    "df1 = df.set_index('date')"
   ]
  },
  {
   "cell_type": "code",
   "execution_count": 29,
   "metadata": {
    "collapsed": true
   },
   "outputs": [],
   "source": [
    "s1 = df1.loc['2015-12-31', 'unit_sales']\n",
    "s2 = df1.loc['2015-12-30', 'unit_sales']"
   ]
  },
  {
   "cell_type": "code",
   "execution_count": 30,
   "metadata": {
    "collapsed": true
   },
   "outputs": [],
   "source": [
    "s = pd.concat([s1, s2], axis=0)"
   ]
  },
  {
   "cell_type": "code",
   "execution_count": 31,
   "metadata": {
    "collapsed": false
   },
   "outputs": [
    {
     "data": {
      "text/plain": [
       "6.5914254756871031"
      ]
     },
     "execution_count": 31,
     "metadata": {},
     "output_type": "execute_result"
    }
   ],
   "source": [
    "s.mean()"
   ]
  },
  {
   "cell_type": "code",
   "execution_count": 32,
   "metadata": {
    "collapsed": true
   },
   "outputs": [],
   "source": [
    "gc.enable()"
   ]
  },
  {
   "cell_type": "code",
   "execution_count": 33,
   "metadata": {
    "collapsed": true
   },
   "outputs": [],
   "source": [
    "# import os\n",
    "# x = {i for i in range(20)}\n",
    "# os.sched_setaffinity(0, x)"
   ]
  },
  {
   "cell_type": "code",
   "execution_count": 34,
   "metadata": {
    "collapsed": true
   },
   "outputs": [],
   "source": [
    "# chunks = []\n",
    "# for i in range(1, len(d), 1000):\n",
    "#    chunks.append(d[i:min(i + 1000, len(d))])\n",
    "\n",
    "# res = Parallel(n_jobs=-1) (delayed(hash) (d) for d in chunks)\n",
    "\n",
    "# def hash(d):\n",
    "#     return [hashlib.sha256(str(x).encode('utf-8')).hexdigest()[:30] for x in d.itertuples(index=False, name=None)]"
   ]
  },
  {
   "cell_type": "code",
   "execution_count": 35,
   "metadata": {
    "collapsed": true
   },
   "outputs": [],
   "source": [
    "# Parallel(n_jobs=20)(delayed(sqrt)(i ** 2) for i in range(10000000))"
   ]
  },
  {
   "cell_type": "code",
   "execution_count": 36,
   "metadata": {
    "collapsed": true
   },
   "outputs": [],
   "source": [
    "# df = pd.DataFrame()\n",
    "# df1 = pd.DataFrame()"
   ]
  },
  {
   "cell_type": "code",
   "execution_count": null,
   "metadata": {
    "collapsed": true
   },
   "outputs": [],
   "source": []
  },
  {
   "cell_type": "code",
   "execution_count": 37,
   "metadata": {
    "collapsed": true
   },
   "outputs": [],
   "source": [
    "# for i in range(1,55):\n",
    "#     print(i)\n",
    "#     fn = '../cache/train10_t_store{}.csv'.format(i)\n",
    "#     df2 = pd.read_csv(fn)\n",
    "#     df2.unit_sales[df2.unit_sales < 0] = 0\n",
    "#     df3 = df2.set_index('date')\n",
    "#     dates = np.unique(df2.date.values)\n",
    "# #     for j, date in tqdm(enumerate(dates)):\n",
    "#     df = df2.copy()\n",
    "#     df1 = df3.copy()\n",
    "#     df = df.iloc[::-1]\n",
    "#     Parallel(n_jobs=10)(delayed(calculate_recent_stats)(date) for date in tqdm(dates))\n",
    "# #         calculate_recent_stats(date, df, df1)\n",
    "#     for days in [30, 90, 180, 365, 730]:\n",
    "#         df = set_recent_df_stats(df ,df1, days)\n",
    "#     df = df.iloc[::-1]\n",
    "#     print(df.shape)\n",
    "#     print(sum(df.isnull().any()==True)) # print NA\n",
    "#     print(sum((df != 0).any(axis=0))) # print non-zero columns\n",
    "#     fn = '../cache/train10_t_store{}_recent_stats.csv'.format(i)\n",
    "#     print(fn)\n",
    "#     df.to_csv(fn, index=False)\n",
    "#     del df2\n",
    "#     del df3"
   ]
  },
  {
   "cell_type": "code",
   "execution_count": 38,
   "metadata": {
    "collapsed": true
   },
   "outputs": [],
   "source": [
    "# files_list = []\n",
    "# for i in range(1,55):\n",
    "#     fn = '../cache/train10_t_store{}.csv'.format(i)\n",
    "#     files_list.append(fn)"
   ]
  },
  {
   "cell_type": "code",
   "execution_count": 39,
   "metadata": {
    "collapsed": true
   },
   "outputs": [],
   "source": [
    "# print('creating pool..')\n",
    "# print(cpu_count())\n",
    "# thread_pool = Pool(10)\n",
    "# print('mapping pool..')\n",
    "# thread_pool.map (calculate_recent_stats2, arg_list)\n",
    "\n",
    "# print('joining pool..')"
   ]
  },
  {
   "cell_type": "code",
   "execution_count": 40,
   "metadata": {
    "collapsed": true
   },
   "outputs": [],
   "source": [
    "# from multiprocessing import Pool, cpu_count\n",
    "def process_csv_file2(i):\n",
    "    fn = '../cache/bkup/train10_t_store{}.csv'.format(i)\n",
    "    print(fn)\n",
    "    df = pd.read_csv(fn)\n",
    "    print(df.shape)\n",
    "    df.unit_sales[df.unit_sales < 0] = 0 \n",
    "    df = df.iloc[::-1]\n",
    "    df1 = df.set_index('date')\n",
    "\n",
    "    trend_dates = []\n",
    "    for date in np.unique(df.date.values):\n",
    "        curr = np.datetime64(date)\n",
    "        last_in_trend = np.datetime64('2015-01-01')\n",
    "        if curr < last_in_trend:\n",
    "            continue\n",
    "        trend_dates.append(date)\n",
    "    for date in tqdm(trend_dates):\n",
    "        calculate_recent_stats_not_perishable(date, df, df1)\n",
    "    for days in [30, 90, 180, 365, 730]:\n",
    "        df = set_recent_df_stats_nper(df, df1, days)\n",
    "    df = df.iloc[::-1]\n",
    "    \n",
    "    df = df[(df.date.apply(np.datetime64) >= np.datetime64('2015-01-01')) & \n",
    "              (df.date.apply(np.datetime64) <= np.datetime64('2017-08-15'))]\n",
    "    \n",
    "    print(df.shape)\n",
    "    s = sum(df.isnull().any()==True) # print NA\n",
    "    print(s)\n",
    "    if s > 0:\n",
    "        print(df.isnull().sum())\n",
    "    print(sum((df != 0).any(axis=0))) # print non-zero columns\n",
    "    fn = '../cache/train10_t_store{}_recent_stats_nper.csv'.format(i)\n",
    "    print(fn)\n",
    "    df.to_csv(fn, index=False)\n",
    "    del df\n",
    "    del df1"
   ]
  },
  {
   "cell_type": "code",
   "execution_count": 41,
   "metadata": {
    "collapsed": true
   },
   "outputs": [],
   "source": [
    "def delete_file_if_exists(filename):\n",
    "    if os.path.exists(filename):\n",
    "        os.remove(filename)"
   ]
  },
  {
   "cell_type": "code",
   "execution_count": 43,
   "metadata": {
    "collapsed": false
   },
   "outputs": [],
   "source": [
    "# x = {i for i in range(20)}\n",
    "# os.sched_setaffinity(0, x)"
   ]
  },
  {
   "cell_type": "code",
   "execution_count": 44,
   "metadata": {
    "collapsed": true
   },
   "outputs": [],
   "source": [
    "def process_csv_file1(i):\n",
    "    fn_org = '../cache/bkup/train10_t_store{}.csv'.format(i)\n",
    "    print(fn_org)\n",
    "    df = pd.read_csv(fn_org)\n",
    "    \n",
    "    df.unit_sales[df.unit_sales < 0] = 0 \n",
    "    df['dts'] = df.date.map(np.datetime64)\n",
    "\n",
    "    trend_dates = []\n",
    "    for date in np.unique(df.date.values):\n",
    "        curr = np.datetime64(date)\n",
    "        last_in_trend = np.datetime64('2015-01-01')\n",
    "        if curr < last_in_trend:\n",
    "            continue\n",
    "        trend_dates.append(date)\n",
    "    \n",
    "    for dow in range(7):\n",
    "        fn_tmp = '../cache/train10_t_store{}_recent_stats_dow{}_tmp.csv'.format(i, dow)\n",
    "        delete_file_if_exists(fn_tmp)\n",
    "        for date in tqdm(trend_dates):\n",
    "            calculate_recent_stats_dow(date, dow, df, fn_tmp)\n",
    "\n",
    "    print(df.shape)\n",
    "    df = df[(df.dts >= np.datetime64('2015-01-01')) & (df.dts <= np.datetime64('2017-08-15'))]\n",
    "\n",
    "    print(df.shape)\n",
    "    nrows1 = df.shape[0]\n",
    "    for dow in range(7):\n",
    "        fn_tmp = '../cache/train10_t_store{}_recent_stats_dow{}_tmp.csv'.format(i, dow)\n",
    "        df1 = pd.read_csv(fn_tmp)\n",
    "        print(df1.shape)\n",
    "        df = pd.merge(df, df1, how='left', on='date')\n",
    "    df = df.drop('dts', axis=1)\n",
    "    s = sum(df.isnull().any()==True) # print NA\n",
    "    print(s)\n",
    "    if s > 0:\n",
    "        print(df.isnull().sum())\n",
    "    print(sum((df != 0).any(axis=0))) # print non-zero columns\n",
    "    fn = '../cache/train10_t_store{}_recent_stats_dow.csv'.format(i)\n",
    "    print(fn)\n",
    "    df.to_csv(fn, index=False)\n",
    "    print(df.shape)\n",
    "    nrows2 = df.shape[0]\n",
    "    assert(nrows1 == nrows2)\n",
    "    del df\n",
    "    del df1"
   ]
  },
  {
   "cell_type": "code",
   "execution_count": 45,
   "metadata": {
    "collapsed": true
   },
   "outputs": [],
   "source": [
    "def process_csv_file(i):\n",
    "    fn_org = '../cache/bkup/train10_t_store{}.csv'.format(i)\n",
    "    print(fn_org)\n",
    "    df = pd.read_csv(fn_org)\n",
    "    \n",
    "#     df.unit_sales[df.unit_sales < 0] = 0 \n",
    "    df['dts'] = df.date.map(np.datetime64)\n",
    "\n",
    "    trend_dates = []\n",
    "    for date in np.unique(df.date.values):\n",
    "        curr = np.datetime64(date)\n",
    "        last_in_trend = np.datetime64('2015-01-01')\n",
    "        if curr < last_in_trend:\n",
    "            continue\n",
    "        trend_dates.append(date)\n",
    "    \n",
    "    for dow in range(7):\n",
    "        fn_tmp = '../cache/train10_t_store{}_recent_stats_dow{}_tmp.csv'.format(i, dow)\n",
    "        delete_file_if_exists(fn_tmp)\n",
    "        for date in tqdm(trend_dates):\n",
    "            calculate_recent_stats_dow(date, dow, df, fn_tmp)\n",
    "\n",
    "    print(df.shape)\n",
    "    df = df[(df.dts >= np.datetime64('2015-01-01')) & (df.dts <= np.datetime64('2017-08-15'))]\n",
    "\n",
    "    print(df.shape)\n",
    "    nrows1 = df.shape[0]\n",
    "    for dow in range(7):\n",
    "        fn_tmp = '../cache/train10_t_store{}_recent_stats_dow{}_tmp.csv'.format(i, dow)\n",
    "        df1 = pd.read_csv(fn_tmp)\n",
    "        print(df1.shape)\n",
    "        df = pd.merge(df, df1, how='left', on='date')\n",
    "    df = df.drop('dts', axis=1)\n",
    "    s = sum(df.isnull().any()==True) # print NA\n",
    "    print(s)\n",
    "    if s > 0:\n",
    "        print(df.isnull().sum())\n",
    "    print(sum((df != 0).any(axis=0))) # print non-zero columns\n",
    "    fn = '../cache/train10_t_store{}_recent_stats_dow_1.csv'.format(i)\n",
    "    print(fn)\n",
    "    df.to_csv(fn, float_format='%.5f',index=False)\n",
    "    print(df.shape)\n",
    "    nrows2 = df.shape[0]\n",
    "    assert(nrows1 == nrows2)\n",
    "    del df\n",
    "    del df1\n",
    "    for dow in range(7):\n",
    "        fn_tmp = '../cache/train10_t_store{}_recent_stats_dow{}_tmp.csv'.format(i, dow)\n",
    "        delete_file_if_exists(fn_tmp)"
   ]
  },
  {
   "cell_type": "code",
   "execution_count": 48,
   "metadata": {
    "collapsed": true
   },
   "outputs": [],
   "source": [
    "def process_test_csv_file(i):\n",
    "    fn_org = '../cache/bkup/train10_t_store{}.csv'.format(i)\n",
    "    fn_org1 = '../cache/bkup2/test7_1_t_store{}.csv'.format(i)\n",
    "    print(fn_org1)\n",
    "    df = pd.read_csv(fn_org)\n",
    "    df1 = pd.read_csv(fn_org1)\n",
    "    df = pd.concat([df, df1], axis=0)\n",
    "    \n",
    "#     df.unit_sales[df.unit_sales < 0] = 0 \n",
    "    df['dts'] = df.date.map(np.datetime64)\n",
    "\n",
    "    trend_dates = []\n",
    "    for date in np.unique(df.date.values):\n",
    "        curr = np.datetime64(date)\n",
    "        last_in_trend = np.datetime64('2017-08-16')\n",
    "        if curr < last_in_trend:\n",
    "            continue\n",
    "        trend_dates.append(date)\n",
    "    \n",
    "    for dow in range(7):\n",
    "        fn_tmp = '../cache/test7_1_t_store{}_recent_stats_dow{}_tmp.csv'.format(i, dow)\n",
    "        delete_file_if_exists(fn_tmp)\n",
    "        for date in tqdm(trend_dates):\n",
    "            calculate_recent_stats_dow(date, dow, df, fn_tmp)\n",
    "\n",
    "    print(df.shape)\n",
    "#     df = df[(df.dts >= np.datetime64('2017-08-16')) & (df.dts <= np.datetime64('2017-08-31'))]\n",
    "    df = df[(df.date.astype('str') >= str('2017-08-16')) & (df.date.astype('str') <= str('2017-08-31'))]\n",
    "\n",
    "    print(df.shape)\n",
    "    nrows1 = df.shape[0]\n",
    "    for dow in range(7):\n",
    "        fn_tmp = '../cache/test7_1_t_store{}_recent_stats_dow{}_tmp.csv'.format(i, dow)\n",
    "        df1 = pd.read_csv(fn_tmp)\n",
    "        print(df1.shape)\n",
    "        df = pd.merge(df, df1, how='left', on='date')\n",
    "    df = df.drop('dts', axis=1)\n",
    "    s = sum(df.isnull().any()==True) # print NA\n",
    "    print(s)\n",
    "    if s > 0:\n",
    "        print(df.isnull().sum())\n",
    "    print(sum((df != 0).any(axis=0))) # print non-zero columns\n",
    "    fn = '../cache/test7_1_t_store{}_recent_stats_dow_1.csv'.format(i)\n",
    "    print(fn)\n",
    "    df.to_csv(fn, float_format='%.5f',index=False)\n",
    "    print(df.shape)\n",
    "    nrows2 = df.shape[0]\n",
    "    assert(nrows1 == nrows2)\n",
    "    del df\n",
    "    del df1\n",
    "    for dow in range(7):\n",
    "        fn_tmp = '../cache/test7_1_t_store{}_recent_stats_dow{}_tmp.csv'.format(i, dow)\n",
    "        delete_file_if_exists(fn_tmp)"
   ]
  },
  {
   "cell_type": "code",
   "execution_count": 49,
   "metadata": {
    "collapsed": false
   },
   "outputs": [
    {
     "name": "stdout",
     "output_type": "stream",
     "text": [
      "../cache/bkup2/test7_1_t_store1.csv\n"
     ]
    },
    {
     "name": "stderr",
     "output_type": "stream",
     "text": [
      "/home/watts/anaconda2/envs/sdp35/lib/python3.5/site-packages/IPython/core/interactiveshell.py:2850: DtypeWarning: Columns (5) have mixed types. Specify dtype option on import or set low_memory=False.\n",
      "  if self.run_code(code, result):\n",
      "100%|██████████| 16/16 [01:36<00:00,  6.04s/it]\n",
      "100%|██████████| 16/16 [01:36<00:00,  6.04s/it]\n",
      "100%|██████████| 16/16 [01:36<00:00,  6.04s/it]\n",
      "100%|██████████| 16/16 [01:36<00:00,  6.03s/it]\n",
      "100%|██████████| 16/16 [01:36<00:00,  6.04s/it]\n",
      "100%|██████████| 16/16 [01:36<00:00,  6.06s/it]\n",
      "100%|██████████| 16/16 [01:36<00:00,  6.05s/it]\n"
     ]
    },
    {
     "name": "stdout",
     "output_type": "stream",
     "text": [
      "(2624569, 28)\n",
      "(62416, 28)\n",
      "(16, 31)\n",
      "(16, 31)\n",
      "(16, 31)\n",
      "(16, 31)\n",
      "(16, 31)\n",
      "(16, 31)\n",
      "(16, 31)\n",
      "0\n",
      "236\n",
      "../cache/test7_1_t_store1_recent_stats_dow_1.csv\n",
      "(62416, 237)\n",
      "../cache/bkup2/test7_1_t_store2.csv\n"
     ]
    },
    {
     "name": "stderr",
     "output_type": "stream",
     "text": [
      "100%|██████████| 16/16 [01:52<00:00,  7.02s/it]\n",
      "100%|██████████| 16/16 [01:51<00:00,  6.99s/it]\n",
      "100%|██████████| 16/16 [01:52<00:00,  7.02s/it]\n",
      "100%|██████████| 16/16 [01:51<00:00,  7.00s/it]\n",
      "100%|██████████| 16/16 [01:52<00:00,  7.02s/it]\n",
      "100%|██████████| 16/16 [01:52<00:00,  7.03s/it]\n",
      "100%|██████████| 16/16 [01:52<00:00,  7.01s/it]\n"
     ]
    },
    {
     "name": "stdout",
     "output_type": "stream",
     "text": [
      "(3050256, 28)\n",
      "(62416, 28)\n",
      "(16, 31)\n",
      "(16, 31)\n",
      "(16, 31)\n",
      "(16, 31)\n",
      "(16, 31)\n",
      "(16, 31)\n",
      "(16, 31)\n",
      "0\n",
      "236\n",
      "../cache/test7_1_t_store2_recent_stats_dow_1.csv\n",
      "(62416, 237)\n",
      "../cache/bkup2/test7_1_t_store3.csv\n"
     ]
    },
    {
     "name": "stderr",
     "output_type": "stream",
     "text": [
      "100%|██████████| 16/16 [02:08<00:00,  8.02s/it]\n",
      "100%|██████████| 16/16 [02:08<00:00,  8.00s/it]\n",
      "100%|██████████| 16/16 [02:11<00:00,  8.21s/it]\n",
      "100%|██████████| 16/16 [02:10<00:00,  8.17s/it]\n",
      "100%|██████████| 16/16 [02:12<00:00,  8.26s/it]\n",
      "100%|██████████| 16/16 [02:09<00:00,  8.11s/it]\n",
      "100%|██████████| 16/16 [02:18<00:00,  8.69s/it]\n"
     ]
    },
    {
     "name": "stdout",
     "output_type": "stream",
     "text": [
      "(3463680, 28)\n",
      "(62416, 28)\n",
      "(16, 31)\n",
      "(16, 31)\n",
      "(16, 31)\n",
      "(16, 31)\n",
      "(16, 31)\n",
      "(16, 31)\n",
      "(16, 31)\n",
      "0\n",
      "236\n",
      "../cache/test7_1_t_store3_recent_stats_dow_1.csv\n",
      "(62416, 237)\n",
      "../cache/bkup2/test7_1_t_store4.csv\n"
     ]
    },
    {
     "name": "stderr",
     "output_type": "stream",
     "text": [
      "100%|██████████| 16/16 [01:56<00:00,  7.27s/it]\n",
      "100%|██████████| 16/16 [02:00<00:00,  7.53s/it]\n",
      "100%|██████████| 16/16 [01:46<00:00,  6.64s/it]\n",
      "100%|██████████| 16/16 [01:46<00:00,  6.65s/it]\n",
      "100%|██████████| 16/16 [01:46<00:00,  6.65s/it]\n",
      "100%|██████████| 16/16 [01:46<00:00,  6.68s/it]\n",
      "100%|██████████| 16/16 [01:50<00:00,  6.89s/it]\n"
     ]
    },
    {
     "name": "stdout",
     "output_type": "stream",
     "text": [
      "(2892970, 28)\n",
      "(62416, 28)\n",
      "(16, 31)\n",
      "(16, 31)\n",
      "(16, 31)\n",
      "(16, 31)\n",
      "(16, 31)\n",
      "(16, 31)\n",
      "(16, 31)\n",
      "0\n",
      "236\n",
      "../cache/test7_1_t_store4_recent_stats_dow_1.csv\n",
      "(62416, 237)\n",
      "../cache/bkup2/test7_1_t_store5.csv\n"
     ]
    },
    {
     "name": "stderr",
     "output_type": "stream",
     "text": [
      "100%|██████████| 16/16 [01:42<00:00,  6.43s/it]\n",
      "100%|██████████| 16/16 [01:43<00:00,  6.49s/it]\n",
      "100%|██████████| 16/16 [01:45<00:00,  6.58s/it]\n",
      "100%|██████████| 16/16 [01:50<00:00,  6.91s/it]\n",
      "100%|██████████| 16/16 [02:08<00:00,  8.03s/it]\n",
      "100%|██████████| 16/16 [01:42<00:00,  6.41s/it]\n",
      "100%|██████████| 16/16 [01:41<00:00,  6.32s/it]\n"
     ]
    },
    {
     "name": "stdout",
     "output_type": "stream",
     "text": [
      "(2729107, 28)\n",
      "(62416, 28)\n",
      "(16, 31)\n",
      "(16, 31)\n",
      "(16, 31)\n",
      "(16, 31)\n",
      "(16, 31)\n",
      "(16, 31)\n",
      "(16, 31)\n",
      "0\n",
      "236\n",
      "../cache/test7_1_t_store5_recent_stats_dow_1.csv\n",
      "(62416, 237)\n",
      "../cache/bkup2/test7_1_t_store6.csv\n"
     ]
    },
    {
     "name": "stderr",
     "output_type": "stream",
     "text": [
      "100%|██████████| 16/16 [01:56<00:00,  7.27s/it]\n",
      "100%|██████████| 16/16 [01:56<00:00,  7.26s/it]\n",
      "100%|██████████| 16/16 [01:58<00:00,  7.41s/it]\n",
      "100%|██████████| 16/16 [01:55<00:00,  7.24s/it]\n",
      "100%|██████████| 16/16 [01:55<00:00,  7.23s/it]\n",
      "100%|██████████| 16/16 [01:56<00:00,  7.26s/it]\n",
      "100%|██████████| 16/16 [01:56<00:00,  7.26s/it]\n"
     ]
    },
    {
     "name": "stdout",
     "output_type": "stream",
     "text": [
      "(3152215, 28)\n",
      "(62416, 28)\n",
      "(16, 31)\n",
      "(16, 31)\n",
      "(16, 31)\n",
      "(16, 31)\n",
      "(16, 31)\n",
      "(16, 31)\n",
      "(16, 31)\n",
      "0\n",
      "236\n",
      "../cache/test7_1_t_store6_recent_stats_dow_1.csv\n",
      "(62416, 237)\n",
      "../cache/bkup2/test7_1_t_store7.csv\n"
     ]
    },
    {
     "name": "stderr",
     "output_type": "stream",
     "text": [
      "100%|██████████| 16/16 [01:50<00:00,  6.92s/it]\n",
      "100%|██████████| 16/16 [01:49<00:00,  6.86s/it]\n",
      "100%|██████████| 16/16 [01:49<00:00,  6.86s/it]\n",
      "100%|██████████| 16/16 [01:49<00:00,  6.86s/it]\n",
      "100%|██████████| 16/16 [01:49<00:00,  6.84s/it]\n",
      "100%|██████████| 16/16 [01:49<00:00,  6.87s/it]\n",
      "100%|██████████| 16/16 [01:49<00:00,  6.85s/it]\n"
     ]
    },
    {
     "name": "stdout",
     "output_type": "stream",
     "text": [
      "(2983620, 28)\n",
      "(62416, 28)\n",
      "(16, 31)\n",
      "(16, 31)\n",
      "(16, 31)\n",
      "(16, 31)\n",
      "(16, 31)\n",
      "(16, 31)\n",
      "(16, 31)\n",
      "0\n",
      "236\n",
      "../cache/test7_1_t_store7_recent_stats_dow_1.csv\n",
      "(62416, 237)\n",
      "../cache/bkup2/test7_1_t_store8.csv\n"
     ]
    },
    {
     "name": "stderr",
     "output_type": "stream",
     "text": [
      "100%|██████████| 16/16 [02:02<00:00,  7.66s/it]\n",
      "100%|██████████| 16/16 [02:01<00:00,  7.61s/it]\n",
      "100%|██████████| 16/16 [02:02<00:00,  7.65s/it]\n",
      "100%|██████████| 16/16 [02:02<00:00,  7.64s/it]\n",
      "100%|██████████| 16/16 [02:03<00:00,  7.69s/it]\n",
      "100%|██████████| 16/16 [02:04<00:00,  7.76s/it]\n",
      "100%|██████████| 16/16 [02:01<00:00,  7.62s/it]\n"
     ]
    },
    {
     "name": "stdout",
     "output_type": "stream",
     "text": [
      "(3323600, 28)\n",
      "(62416, 28)\n",
      "(16, 31)\n",
      "(16, 31)\n",
      "(16, 31)\n",
      "(16, 31)\n",
      "(16, 31)\n",
      "(16, 31)\n",
      "(16, 31)\n",
      "0\n",
      "236\n",
      "../cache/test7_1_t_store8_recent_stats_dow_1.csv\n",
      "(62416, 237)\n",
      "../cache/bkup2/test7_1_t_store9.csv\n"
     ]
    },
    {
     "name": "stderr",
     "output_type": "stream",
     "text": [
      "100%|██████████| 16/16 [01:44<00:00,  6.55s/it]\n",
      "100%|██████████| 16/16 [01:44<00:00,  6.54s/it]\n",
      "100%|██████████| 16/16 [01:44<00:00,  6.50s/it]\n",
      "100%|██████████| 16/16 [01:44<00:00,  6.52s/it]\n",
      "100%|██████████| 16/16 [01:45<00:00,  6.59s/it]\n",
      "100%|██████████| 16/16 [01:44<00:00,  6.52s/it]\n",
      "100%|██████████| 16/16 [01:45<00:00,  6.57s/it]\n"
     ]
    },
    {
     "name": "stdout",
     "output_type": "stream",
     "text": [
      "(2836206, 28)\n",
      "(62416, 28)\n",
      "(16, 31)\n",
      "(16, 31)\n",
      "(16, 31)\n",
      "(16, 31)\n",
      "(16, 31)\n",
      "(16, 31)\n",
      "(16, 31)\n",
      "0\n",
      "236\n",
      "../cache/test7_1_t_store9_recent_stats_dow_1.csv\n",
      "(62416, 237)\n",
      "../cache/bkup2/test7_1_t_store10.csv\n"
     ]
    },
    {
     "name": "stderr",
     "output_type": "stream",
     "text": [
      "100%|██████████| 16/16 [01:06<00:00,  4.15s/it]\n",
      "100%|██████████| 16/16 [01:06<00:00,  4.15s/it]\n",
      "100%|██████████| 16/16 [01:06<00:00,  4.17s/it]\n",
      "100%|██████████| 16/16 [01:06<00:00,  4.17s/it]\n",
      "100%|██████████| 16/16 [01:06<00:00,  4.15s/it]\n",
      "100%|██████████| 16/16 [01:06<00:00,  4.14s/it]\n",
      "100%|██████████| 16/16 [01:08<00:00,  4.29s/it]\n"
     ]
    },
    {
     "name": "stdout",
     "output_type": "stream",
     "text": [
      "(1802898, 28)\n",
      "(62416, 28)\n",
      "(16, 31)\n",
      "(16, 31)\n",
      "(16, 31)\n",
      "(16, 31)\n",
      "(16, 31)\n",
      "(16, 31)\n",
      "(16, 31)\n",
      "0\n",
      "236\n",
      "../cache/test7_1_t_store10_recent_stats_dow_1.csv\n",
      "(62416, 237)\n",
      "../cache/bkup2/test7_1_t_store11.csv\n"
     ]
    },
    {
     "name": "stderr",
     "output_type": "stream",
     "text": [
      "100%|██████████| 16/16 [01:36<00:00,  6.06s/it]\n",
      "100%|██████████| 16/16 [01:36<00:00,  6.06s/it]\n",
      "100%|██████████| 16/16 [01:36<00:00,  6.05s/it]\n",
      "100%|██████████| 16/16 [01:36<00:00,  6.04s/it]\n",
      "100%|██████████| 16/16 [01:36<00:00,  6.06s/it]\n",
      "100%|██████████| 16/16 [01:37<00:00,  6.08s/it]\n",
      "100%|██████████| 16/16 [01:36<00:00,  6.05s/it]\n"
     ]
    },
    {
     "name": "stdout",
     "output_type": "stream",
     "text": [
      "(2630698, 28)\n",
      "(62416, 28)\n",
      "(16, 31)\n",
      "(16, 31)\n",
      "(16, 31)\n",
      "(16, 31)\n",
      "(16, 31)\n",
      "(16, 31)\n",
      "(16, 31)\n",
      "0\n",
      "236\n",
      "../cache/test7_1_t_store11_recent_stats_dow_1.csv\n",
      "(62416, 237)\n",
      "../cache/bkup2/test7_1_t_store12.csv\n"
     ]
    },
    {
     "name": "stderr",
     "output_type": "stream",
     "text": [
      "100%|██████████| 16/16 [01:10<00:00,  4.42s/it]\n",
      "100%|██████████| 16/16 [01:10<00:00,  4.39s/it]\n",
      "100%|██████████| 16/16 [01:09<00:00,  4.37s/it]\n",
      "100%|██████████| 16/16 [01:09<00:00,  4.37s/it]\n",
      "100%|██████████| 16/16 [01:09<00:00,  4.36s/it]\n",
      "100%|██████████| 16/16 [01:10<00:00,  4.39s/it]\n",
      "100%|██████████| 16/16 [01:10<00:00,  4.39s/it]\n"
     ]
    },
    {
     "name": "stdout",
     "output_type": "stream",
     "text": [
      "(1898999, 28)\n",
      "(62416, 28)\n",
      "(16, 31)\n",
      "(16, 31)\n",
      "(16, 31)\n",
      "(16, 31)\n",
      "(16, 31)\n",
      "(16, 31)\n",
      "(16, 31)\n",
      "0\n",
      "236\n",
      "../cache/test7_1_t_store12_recent_stats_dow_1.csv\n",
      "(62416, 237)\n",
      "../cache/bkup2/test7_1_t_store13.csv\n"
     ]
    },
    {
     "name": "stderr",
     "output_type": "stream",
     "text": [
      "100%|██████████| 16/16 [01:06<00:00,  4.18s/it]\n",
      "100%|██████████| 16/16 [01:06<00:00,  4.17s/it]\n",
      "100%|██████████| 16/16 [01:06<00:00,  4.14s/it]\n",
      "100%|██████████| 16/16 [01:06<00:00,  4.15s/it]\n",
      "100%|██████████| 16/16 [01:06<00:00,  4.15s/it]\n",
      "100%|██████████| 16/16 [01:06<00:00,  4.14s/it]\n",
      "100%|██████████| 16/16 [01:06<00:00,  4.18s/it]\n"
     ]
    },
    {
     "name": "stdout",
     "output_type": "stream",
     "text": [
      "(1799144, 28)\n",
      "(62416, 28)\n",
      "(16, 31)\n",
      "(16, 31)\n",
      "(16, 31)\n",
      "(16, 31)\n",
      "(16, 31)\n",
      "(16, 31)\n",
      "(16, 31)\n",
      "0\n",
      "236\n",
      "../cache/test7_1_t_store13_recent_stats_dow_1.csv\n",
      "(62416, 237)\n",
      "../cache/bkup2/test7_1_t_store14.csv\n"
     ]
    },
    {
     "name": "stderr",
     "output_type": "stream",
     "text": [
      "100%|██████████| 16/16 [01:09<00:00,  4.36s/it]\n",
      "100%|██████████| 16/16 [01:09<00:00,  4.31s/it]\n",
      "100%|██████████| 16/16 [01:09<00:00,  4.31s/it]\n",
      "100%|██████████| 16/16 [01:09<00:00,  4.32s/it]\n",
      "100%|██████████| 16/16 [01:09<00:00,  4.32s/it]\n",
      "100%|██████████| 16/16 [01:09<00:00,  4.32s/it]\n",
      "100%|██████████| 16/16 [01:08<00:00,  4.29s/it]\n"
     ]
    },
    {
     "name": "stdout",
     "output_type": "stream",
     "text": [
      "(1868357, 28)\n",
      "(62416, 28)\n",
      "(16, 31)\n",
      "(16, 31)\n",
      "(16, 31)\n",
      "(16, 31)\n",
      "(16, 31)\n",
      "(16, 31)\n",
      "(16, 31)\n",
      "0\n",
      "236\n",
      "../cache/test7_1_t_store14_recent_stats_dow_1.csv\n",
      "(62416, 237)\n",
      "../cache/bkup2/test7_1_t_store15.csv\n"
     ]
    },
    {
     "name": "stderr",
     "output_type": "stream",
     "text": [
      "100%|██████████| 16/16 [01:13<00:00,  4.62s/it]\n",
      "100%|██████████| 16/16 [01:13<00:00,  4.60s/it]\n",
      "100%|██████████| 16/16 [01:13<00:00,  4.61s/it]\n",
      "100%|██████████| 16/16 [01:13<00:00,  4.61s/it]\n",
      "100%|██████████| 16/16 [01:14<00:00,  4.63s/it]\n",
      "100%|██████████| 16/16 [01:13<00:00,  4.62s/it]\n",
      "100%|██████████| 16/16 [01:14<00:00,  4.63s/it]\n"
     ]
    },
    {
     "name": "stdout",
     "output_type": "stream",
     "text": [
      "(2001094, 28)\n",
      "(62416, 28)\n",
      "(16, 31)\n",
      "(16, 31)\n",
      "(16, 31)\n",
      "(16, 31)\n",
      "(16, 31)\n",
      "(16, 31)\n",
      "(16, 31)\n",
      "0\n",
      "236\n",
      "../cache/test7_1_t_store15_recent_stats_dow_1.csv\n",
      "(62416, 237)\n",
      "../cache/bkup2/test7_1_t_store16.csv\n"
     ]
    },
    {
     "name": "stderr",
     "output_type": "stream",
     "text": [
      "100%|██████████| 16/16 [01:09<00:00,  4.37s/it]\n",
      "100%|██████████| 16/16 [01:09<00:00,  4.35s/it]\n",
      "100%|██████████| 16/16 [01:09<00:00,  4.33s/it]\n",
      "100%|██████████| 16/16 [01:09<00:00,  4.33s/it]\n",
      "100%|██████████| 16/16 [01:09<00:00,  4.35s/it]\n",
      "100%|██████████| 16/16 [01:09<00:00,  4.34s/it]\n",
      "100%|██████████| 16/16 [01:09<00:00,  4.37s/it]\n"
     ]
    },
    {
     "name": "stdout",
     "output_type": "stream",
     "text": [
      "(1882451, 28)\n",
      "(62416, 28)\n",
      "(16, 31)\n",
      "(16, 31)\n",
      "(16, 31)\n",
      "(16, 31)\n",
      "(16, 31)\n",
      "(16, 31)\n",
      "(16, 31)\n",
      "0\n",
      "236\n",
      "../cache/test7_1_t_store16_recent_stats_dow_1.csv\n",
      "(62416, 237)\n",
      "../cache/bkup2/test7_1_t_store17.csv\n"
     ]
    },
    {
     "name": "stderr",
     "output_type": "stream",
     "text": [
      "100%|██████████| 16/16 [01:22<00:00,  5.14s/it]\n",
      "100%|██████████| 16/16 [01:22<00:00,  5.13s/it]\n",
      "100%|██████████| 16/16 [01:22<00:00,  5.13s/it]\n",
      "100%|██████████| 16/16 [01:22<00:00,  5.13s/it]\n",
      "100%|██████████| 16/16 [01:22<00:00,  5.13s/it]\n",
      "100%|██████████| 16/16 [01:22<00:00,  5.16s/it]\n",
      "100%|██████████| 16/16 [01:22<00:00,  5.15s/it]\n"
     ]
    },
    {
     "name": "stdout",
     "output_type": "stream",
     "text": [
      "(2226436, 28)\n",
      "(62416, 28)\n",
      "(16, 31)\n",
      "(16, 31)\n",
      "(16, 31)\n",
      "(16, 31)\n",
      "(16, 31)\n",
      "(16, 31)\n",
      "(16, 31)\n",
      "0\n",
      "236\n",
      "../cache/test7_1_t_store17_recent_stats_dow_1.csv\n",
      "(62416, 237)\n",
      "../cache/bkup2/test7_1_t_store18.csv\n"
     ]
    },
    {
     "name": "stderr",
     "output_type": "stream",
     "text": [
      "100%|██████████| 16/16 [01:23<00:00,  5.22s/it]\n",
      "100%|██████████| 16/16 [01:23<00:00,  5.22s/it]\n",
      "100%|██████████| 16/16 [01:23<00:00,  5.22s/it]\n",
      "100%|██████████| 16/16 [01:23<00:00,  5.21s/it]\n",
      "100%|██████████| 16/16 [01:23<00:00,  5.22s/it]\n",
      "100%|██████████| 16/16 [01:23<00:00,  5.21s/it]\n",
      "100%|██████████| 16/16 [01:23<00:00,  5.22s/it]\n"
     ]
    },
    {
     "name": "stdout",
     "output_type": "stream",
     "text": [
      "(2259098, 28)\n",
      "(62416, 28)\n",
      "(16, 31)\n",
      "(16, 31)\n",
      "(16, 31)\n",
      "(16, 31)\n",
      "(16, 31)\n",
      "(16, 31)\n",
      "(16, 31)\n",
      "0\n",
      "236\n",
      "../cache/test7_1_t_store18_recent_stats_dow_1.csv\n",
      "(62416, 237)\n",
      "../cache/bkup2/test7_1_t_store19.csv\n"
     ]
    },
    {
     "name": "stderr",
     "output_type": "stream",
     "text": [
      "100%|██████████| 16/16 [01:11<00:00,  4.48s/it]\n",
      "100%|██████████| 16/16 [01:12<00:00,  4.51s/it]\n",
      "100%|██████████| 16/16 [01:11<00:00,  4.48s/it]\n",
      "100%|██████████| 16/16 [01:11<00:00,  4.48s/it]\n",
      "100%|██████████| 16/16 [01:11<00:00,  4.48s/it]\n",
      "100%|██████████| 16/16 [01:11<00:00,  4.49s/it]\n",
      "100%|██████████| 16/16 [01:11<00:00,  4.49s/it]\n"
     ]
    },
    {
     "name": "stdout",
     "output_type": "stream",
     "text": [
      "(1941571, 28)\n",
      "(62416, 28)\n",
      "(16, 31)\n",
      "(16, 31)\n",
      "(16, 31)\n",
      "(16, 31)\n",
      "(16, 31)\n",
      "(16, 31)\n",
      "(16, 31)\n",
      "0\n",
      "236\n",
      "../cache/test7_1_t_store19_recent_stats_dow_1.csv\n",
      "(62416, 237)\n",
      "../cache/bkup2/test7_1_t_store20.csv\n"
     ]
    },
    {
     "name": "stderr",
     "output_type": "stream",
     "text": [
      "100%|██████████| 16/16 [01:04<00:00,  4.01s/it]\n",
      "100%|██████████| 16/16 [01:03<00:00,  4.00s/it]\n",
      "100%|██████████| 16/16 [01:04<00:00,  4.00s/it]\n",
      "100%|██████████| 16/16 [01:03<00:00,  3.99s/it]\n",
      "100%|██████████| 16/16 [01:04<00:00,  4.03s/it]\n",
      "100%|██████████| 16/16 [01:04<00:00,  4.00s/it]\n",
      "100%|██████████| 16/16 [01:04<00:00,  4.03s/it]\n"
     ]
    },
    {
     "name": "stdout",
     "output_type": "stream",
     "text": [
      "(1728401, 28)\n",
      "(62416, 28)\n",
      "(16, 31)\n",
      "(16, 31)\n",
      "(16, 31)\n",
      "(16, 31)\n",
      "(16, 31)\n",
      "(16, 31)\n",
      "(16, 31)\n",
      "0\n",
      "236\n",
      "../cache/test7_1_t_store20_recent_stats_dow_1.csv\n",
      "(62416, 237)\n",
      "../cache/bkup2/test7_1_t_store21.csv\n"
     ]
    },
    {
     "name": "stderr",
     "output_type": "stream",
     "text": [
      "100%|██████████| 16/16 [00:53<00:00,  3.35s/it]\n",
      "100%|██████████| 16/16 [00:53<00:00,  3.33s/it]\n",
      "100%|██████████| 16/16 [00:53<00:00,  3.33s/it]\n",
      "100%|██████████| 16/16 [00:53<00:00,  3.33s/it]\n",
      "100%|██████████| 16/16 [00:53<00:00,  3.35s/it]\n",
      "100%|██████████| 16/16 [00:53<00:00,  3.33s/it]\n",
      "100%|██████████| 16/16 [00:53<00:00,  3.33s/it]\n"
     ]
    },
    {
     "name": "stdout",
     "output_type": "stream",
     "text": [
      "(1435835, 28)\n",
      "(62416, 28)\n",
      "(16, 31)\n",
      "(16, 31)\n",
      "(16, 31)\n",
      "(16, 31)\n",
      "(16, 31)\n",
      "(16, 31)\n",
      "(16, 31)\n",
      "0\n",
      "236\n",
      "../cache/test7_1_t_store21_recent_stats_dow_1.csv\n",
      "(62416, 237)\n",
      "../cache/bkup2/test7_1_t_store22.csv\n"
     ]
    },
    {
     "name": "stderr",
     "output_type": "stream",
     "text": [
      "  6%|▋         | 1/16 [00:01<00:29,  1.96s/it]"
     ]
    },
    {
     "name": "stdout",
     "output_type": "stream",
     "text": [
      "date:2017-08-16, past_date:2015-08-19\n",
      "days:730, i: 3, days-i:727\n"
     ]
    },
    {
     "name": "stderr",
     "output_type": "stream",
     "text": [
      "\r",
      " 12%|█▎        | 2/16 [00:03<00:27,  1.94s/it]"
     ]
    },
    {
     "name": "stdout",
     "output_type": "stream",
     "text": [
      "date:2017-08-17, past_date:2015-08-20\n",
      "days:730, i: 3, days-i:727\n"
     ]
    },
    {
     "name": "stderr",
     "output_type": "stream",
     "text": [
      "\r",
      " 19%|█▉        | 3/16 [00:05<00:25,  1.93s/it]"
     ]
    },
    {
     "name": "stdout",
     "output_type": "stream",
     "text": [
      "date:2017-08-18, past_date:2015-08-21\n",
      "days:730, i: 3, days-i:727\n"
     ]
    },
    {
     "name": "stderr",
     "output_type": "stream",
     "text": [
      "\r",
      " 25%|██▌       | 4/16 [00:07<00:23,  1.92s/it]"
     ]
    },
    {
     "name": "stdout",
     "output_type": "stream",
     "text": [
      "date:2017-08-19, past_date:2015-08-22\n",
      "days:730, i: 3, days-i:727\n"
     ]
    },
    {
     "name": "stderr",
     "output_type": "stream",
     "text": [
      "\r",
      " 31%|███▏      | 5/16 [00:09<00:21,  1.92s/it]"
     ]
    },
    {
     "name": "stdout",
     "output_type": "stream",
     "text": [
      "date:2017-08-20, past_date:2015-08-23\n",
      "days:730, i: 3, days-i:727\n"
     ]
    },
    {
     "name": "stderr",
     "output_type": "stream",
     "text": [
      "\r",
      " 38%|███▊      | 6/16 [00:11<00:19,  1.92s/it]"
     ]
    },
    {
     "name": "stdout",
     "output_type": "stream",
     "text": [
      "date:2017-08-21, past_date:2015-08-24\n",
      "days:730, i: 3, days-i:727\n"
     ]
    },
    {
     "name": "stderr",
     "output_type": "stream",
     "text": [
      "\r",
      " 44%|████▍     | 7/16 [00:13<00:17,  1.92s/it]"
     ]
    },
    {
     "name": "stdout",
     "output_type": "stream",
     "text": [
      "date:2017-08-22, past_date:2015-08-25\n",
      "days:730, i: 3, days-i:727\n"
     ]
    },
    {
     "name": "stderr",
     "output_type": "stream",
     "text": [
      "\r",
      " 50%|█████     | 8/16 [00:15<00:15,  1.92s/it]"
     ]
    },
    {
     "name": "stdout",
     "output_type": "stream",
     "text": [
      "date:2017-08-23, past_date:2015-08-26\n",
      "days:730, i: 3, days-i:727\n"
     ]
    },
    {
     "name": "stderr",
     "output_type": "stream",
     "text": [
      "\r",
      " 56%|█████▋    | 9/16 [00:17<00:13,  1.92s/it]"
     ]
    },
    {
     "name": "stdout",
     "output_type": "stream",
     "text": [
      "date:2017-08-24, past_date:2015-08-27\n",
      "days:730, i: 3, days-i:727\n"
     ]
    },
    {
     "name": "stderr",
     "output_type": "stream",
     "text": [
      "\r",
      " 62%|██████▎   | 10/16 [00:19<00:11,  1.91s/it]"
     ]
    },
    {
     "name": "stdout",
     "output_type": "stream",
     "text": [
      "date:2017-08-25, past_date:2015-08-28\n",
      "days:730, i: 3, days-i:727\n"
     ]
    },
    {
     "name": "stderr",
     "output_type": "stream",
     "text": [
      "\r",
      " 69%|██████▉   | 11/16 [00:21<00:09,  1.91s/it]"
     ]
    },
    {
     "name": "stdout",
     "output_type": "stream",
     "text": [
      "date:2017-08-26, past_date:2015-08-29\n",
      "days:730, i: 3, days-i:727\n"
     ]
    },
    {
     "name": "stderr",
     "output_type": "stream",
     "text": [
      "\r",
      " 75%|███████▌  | 12/16 [00:22<00:07,  1.91s/it]"
     ]
    },
    {
     "name": "stdout",
     "output_type": "stream",
     "text": [
      "date:2017-08-27, past_date:2015-08-30\n",
      "days:730, i: 3, days-i:727\n"
     ]
    },
    {
     "name": "stderr",
     "output_type": "stream",
     "text": [
      "\r",
      " 81%|████████▏ | 13/16 [00:24<00:05,  1.91s/it]"
     ]
    },
    {
     "name": "stdout",
     "output_type": "stream",
     "text": [
      "date:2017-08-28, past_date:2015-08-31\n",
      "days:730, i: 3, days-i:727\n"
     ]
    },
    {
     "name": "stderr",
     "output_type": "stream",
     "text": [
      "\r",
      " 88%|████████▊ | 14/16 [00:26<00:03,  1.91s/it]"
     ]
    },
    {
     "name": "stdout",
     "output_type": "stream",
     "text": [
      "date:2017-08-29, past_date:2015-09-01\n",
      "days:730, i: 3, days-i:727\n"
     ]
    },
    {
     "name": "stderr",
     "output_type": "stream",
     "text": [
      "\r",
      " 94%|█████████▍| 15/16 [00:28<00:01,  1.91s/it]"
     ]
    },
    {
     "name": "stdout",
     "output_type": "stream",
     "text": [
      "date:2017-08-30, past_date:2015-09-02\n",
      "days:730, i: 3, days-i:727\n"
     ]
    },
    {
     "name": "stderr",
     "output_type": "stream",
     "text": [
      "100%|██████████| 16/16 [00:30<00:00,  1.91s/it]\n",
      "  0%|          | 0/16 [00:00<?, ?it/s]"
     ]
    },
    {
     "name": "stdout",
     "output_type": "stream",
     "text": [
      "date:2017-08-31, past_date:2015-09-03\n",
      "days:730, i: 3, days-i:727\n"
     ]
    },
    {
     "name": "stderr",
     "output_type": "stream",
     "text": [
      "\r",
      "  6%|▋         | 1/16 [00:01<00:28,  1.92s/it]"
     ]
    },
    {
     "name": "stdout",
     "output_type": "stream",
     "text": [
      "date:2017-08-16, past_date:2015-08-19\n",
      "days:730, i: 3, days-i:727\n"
     ]
    },
    {
     "name": "stderr",
     "output_type": "stream",
     "text": [
      "\r",
      " 12%|█▎        | 2/16 [00:03<00:26,  1.91s/it]"
     ]
    },
    {
     "name": "stdout",
     "output_type": "stream",
     "text": [
      "date:2017-08-17, past_date:2015-08-20\n",
      "days:730, i: 3, days-i:727\n"
     ]
    },
    {
     "name": "stderr",
     "output_type": "stream",
     "text": [
      "\r",
      " 19%|█▉        | 3/16 [00:05<00:24,  1.91s/it]"
     ]
    },
    {
     "name": "stdout",
     "output_type": "stream",
     "text": [
      "date:2017-08-18, past_date:2015-08-21\n",
      "days:730, i: 3, days-i:727\n"
     ]
    },
    {
     "name": "stderr",
     "output_type": "stream",
     "text": [
      "\r",
      " 25%|██▌       | 4/16 [00:07<00:22,  1.91s/it]"
     ]
    },
    {
     "name": "stdout",
     "output_type": "stream",
     "text": [
      "date:2017-08-19, past_date:2015-08-22\n",
      "days:730, i: 3, days-i:727\n"
     ]
    },
    {
     "name": "stderr",
     "output_type": "stream",
     "text": [
      "\r",
      " 31%|███▏      | 5/16 [00:09<00:21,  1.91s/it]"
     ]
    },
    {
     "name": "stdout",
     "output_type": "stream",
     "text": [
      "date:2017-08-20, past_date:2015-08-23\n",
      "days:730, i: 3, days-i:727\n"
     ]
    },
    {
     "name": "stderr",
     "output_type": "stream",
     "text": [
      "\r",
      " 38%|███▊      | 6/16 [00:11<00:19,  1.91s/it]"
     ]
    },
    {
     "name": "stdout",
     "output_type": "stream",
     "text": [
      "date:2017-08-21, past_date:2015-08-24\n",
      "days:730, i: 3, days-i:727\n"
     ]
    },
    {
     "name": "stderr",
     "output_type": "stream",
     "text": [
      "\r",
      " 44%|████▍     | 7/16 [00:13<00:17,  1.91s/it]"
     ]
    },
    {
     "name": "stdout",
     "output_type": "stream",
     "text": [
      "date:2017-08-22, past_date:2015-08-25\n",
      "days:730, i: 3, days-i:727\n"
     ]
    },
    {
     "name": "stderr",
     "output_type": "stream",
     "text": [
      "\r",
      " 50%|█████     | 8/16 [00:15<00:15,  1.92s/it]"
     ]
    },
    {
     "name": "stdout",
     "output_type": "stream",
     "text": [
      "date:2017-08-23, past_date:2015-08-26\n",
      "days:730, i: 3, days-i:727\n"
     ]
    },
    {
     "name": "stderr",
     "output_type": "stream",
     "text": [
      "\r",
      " 56%|█████▋    | 9/16 [00:17<00:13,  1.92s/it]"
     ]
    },
    {
     "name": "stdout",
     "output_type": "stream",
     "text": [
      "date:2017-08-24, past_date:2015-08-27\n",
      "days:730, i: 3, days-i:727\n"
     ]
    },
    {
     "name": "stderr",
     "output_type": "stream",
     "text": [
      "\r",
      " 62%|██████▎   | 10/16 [00:19<00:11,  1.92s/it]"
     ]
    },
    {
     "name": "stdout",
     "output_type": "stream",
     "text": [
      "date:2017-08-25, past_date:2015-08-28\n",
      "days:730, i: 3, days-i:727\n"
     ]
    },
    {
     "name": "stderr",
     "output_type": "stream",
     "text": [
      "\r",
      " 69%|██████▉   | 11/16 [00:21<00:09,  1.92s/it]"
     ]
    },
    {
     "name": "stdout",
     "output_type": "stream",
     "text": [
      "date:2017-08-26, past_date:2015-08-29\n",
      "days:730, i: 3, days-i:727\n"
     ]
    },
    {
     "name": "stderr",
     "output_type": "stream",
     "text": [
      "\r",
      " 75%|███████▌  | 12/16 [00:23<00:07,  1.92s/it]"
     ]
    },
    {
     "name": "stdout",
     "output_type": "stream",
     "text": [
      "date:2017-08-27, past_date:2015-08-30\n",
      "days:730, i: 3, days-i:727\n"
     ]
    },
    {
     "name": "stderr",
     "output_type": "stream",
     "text": [
      "\r",
      " 81%|████████▏ | 13/16 [00:25<00:05,  1.92s/it]"
     ]
    },
    {
     "name": "stdout",
     "output_type": "stream",
     "text": [
      "date:2017-08-28, past_date:2015-08-31\n",
      "days:730, i: 3, days-i:727\n"
     ]
    },
    {
     "name": "stderr",
     "output_type": "stream",
     "text": [
      "\r",
      " 88%|████████▊ | 14/16 [00:26<00:03,  1.92s/it]"
     ]
    },
    {
     "name": "stdout",
     "output_type": "stream",
     "text": [
      "date:2017-08-29, past_date:2015-09-01\n",
      "days:730, i: 3, days-i:727\n"
     ]
    },
    {
     "name": "stderr",
     "output_type": "stream",
     "text": [
      "\r",
      " 94%|█████████▍| 15/16 [00:28<00:01,  1.92s/it]"
     ]
    },
    {
     "name": "stdout",
     "output_type": "stream",
     "text": [
      "date:2017-08-30, past_date:2015-09-02\n",
      "days:730, i: 3, days-i:727\n"
     ]
    },
    {
     "name": "stderr",
     "output_type": "stream",
     "text": [
      "100%|██████████| 16/16 [00:30<00:00,  1.92s/it]\n",
      "  0%|          | 0/16 [00:00<?, ?it/s]"
     ]
    },
    {
     "name": "stdout",
     "output_type": "stream",
     "text": [
      "date:2017-08-31, past_date:2015-09-03\n",
      "days:730, i: 3, days-i:727\n"
     ]
    },
    {
     "name": "stderr",
     "output_type": "stream",
     "text": [
      "\r",
      "  6%|▋         | 1/16 [00:02<00:30,  2.02s/it]"
     ]
    },
    {
     "name": "stdout",
     "output_type": "stream",
     "text": [
      "date:2017-08-16, past_date:2015-08-19\n",
      "days:730, i: 3, days-i:727\n"
     ]
    },
    {
     "name": "stderr",
     "output_type": "stream",
     "text": [
      "\r",
      " 12%|█▎        | 2/16 [00:03<00:27,  1.96s/it]"
     ]
    },
    {
     "name": "stdout",
     "output_type": "stream",
     "text": [
      "date:2017-08-17, past_date:2015-08-20\n",
      "days:730, i: 3, days-i:727\n"
     ]
    },
    {
     "name": "stderr",
     "output_type": "stream",
     "text": [
      "\r",
      " 19%|█▉        | 3/16 [00:05<00:25,  1.95s/it]"
     ]
    },
    {
     "name": "stdout",
     "output_type": "stream",
     "text": [
      "date:2017-08-18, past_date:2015-08-21\n",
      "days:730, i: 3, days-i:727\n"
     ]
    },
    {
     "name": "stderr",
     "output_type": "stream",
     "text": [
      "\r",
      " 25%|██▌       | 4/16 [00:07<00:23,  1.94s/it]"
     ]
    },
    {
     "name": "stdout",
     "output_type": "stream",
     "text": [
      "date:2017-08-19, past_date:2015-08-22\n",
      "days:730, i: 3, days-i:727\n"
     ]
    },
    {
     "name": "stderr",
     "output_type": "stream",
     "text": [
      "\r",
      " 31%|███▏      | 5/16 [00:09<00:21,  1.93s/it]"
     ]
    },
    {
     "name": "stdout",
     "output_type": "stream",
     "text": [
      "date:2017-08-20, past_date:2015-08-23\n",
      "days:730, i: 3, days-i:727\n"
     ]
    },
    {
     "name": "stderr",
     "output_type": "stream",
     "text": [
      "\r",
      " 38%|███▊      | 6/16 [00:11<00:19,  1.93s/it]"
     ]
    },
    {
     "name": "stdout",
     "output_type": "stream",
     "text": [
      "date:2017-08-21, past_date:2015-08-24\n",
      "days:730, i: 3, days-i:727\n"
     ]
    },
    {
     "name": "stderr",
     "output_type": "stream",
     "text": [
      "\r",
      " 44%|████▍     | 7/16 [00:13<00:17,  1.93s/it]"
     ]
    },
    {
     "name": "stdout",
     "output_type": "stream",
     "text": [
      "date:2017-08-22, past_date:2015-08-25\n",
      "days:730, i: 3, days-i:727\n"
     ]
    },
    {
     "name": "stderr",
     "output_type": "stream",
     "text": [
      "\r",
      " 50%|█████     | 8/16 [00:15<00:15,  1.92s/it]"
     ]
    },
    {
     "name": "stdout",
     "output_type": "stream",
     "text": [
      "date:2017-08-23, past_date:2015-08-26\n",
      "days:730, i: 3, days-i:727\n"
     ]
    },
    {
     "name": "stderr",
     "output_type": "stream",
     "text": [
      "\r",
      " 56%|█████▋    | 9/16 [00:17<00:13,  1.92s/it]"
     ]
    },
    {
     "name": "stdout",
     "output_type": "stream",
     "text": [
      "date:2017-08-24, past_date:2015-08-27\n",
      "days:730, i: 3, days-i:727\n"
     ]
    },
    {
     "name": "stderr",
     "output_type": "stream",
     "text": [
      "\r",
      " 62%|██████▎   | 10/16 [00:19<00:11,  1.92s/it]"
     ]
    },
    {
     "name": "stdout",
     "output_type": "stream",
     "text": [
      "date:2017-08-25, past_date:2015-08-28\n",
      "days:730, i: 3, days-i:727\n"
     ]
    },
    {
     "name": "stderr",
     "output_type": "stream",
     "text": [
      "\r",
      " 69%|██████▉   | 11/16 [00:21<00:09,  1.92s/it]"
     ]
    },
    {
     "name": "stdout",
     "output_type": "stream",
     "text": [
      "date:2017-08-26, past_date:2015-08-29\n",
      "days:730, i: 3, days-i:727\n"
     ]
    },
    {
     "name": "stderr",
     "output_type": "stream",
     "text": [
      "\r",
      " 75%|███████▌  | 12/16 [00:23<00:07,  1.92s/it]"
     ]
    },
    {
     "name": "stdout",
     "output_type": "stream",
     "text": [
      "date:2017-08-27, past_date:2015-08-30\n",
      "days:730, i: 3, days-i:727\n"
     ]
    },
    {
     "name": "stderr",
     "output_type": "stream",
     "text": [
      "\r",
      " 81%|████████▏ | 13/16 [00:24<00:05,  1.92s/it]"
     ]
    },
    {
     "name": "stdout",
     "output_type": "stream",
     "text": [
      "date:2017-08-28, past_date:2015-08-31\n",
      "days:730, i: 3, days-i:727\n"
     ]
    },
    {
     "name": "stderr",
     "output_type": "stream",
     "text": [
      "\r",
      " 88%|████████▊ | 14/16 [00:26<00:03,  1.92s/it]"
     ]
    },
    {
     "name": "stdout",
     "output_type": "stream",
     "text": [
      "date:2017-08-29, past_date:2015-09-01\n",
      "days:730, i: 3, days-i:727\n"
     ]
    },
    {
     "name": "stderr",
     "output_type": "stream",
     "text": [
      "\r",
      " 94%|█████████▍| 15/16 [00:28<00:01,  1.92s/it]"
     ]
    },
    {
     "name": "stdout",
     "output_type": "stream",
     "text": [
      "date:2017-08-30, past_date:2015-09-02\n",
      "days:730, i: 3, days-i:727\n"
     ]
    },
    {
     "name": "stderr",
     "output_type": "stream",
     "text": [
      "100%|██████████| 16/16 [00:30<00:00,  1.92s/it]\n",
      "  0%|          | 0/16 [00:00<?, ?it/s]"
     ]
    },
    {
     "name": "stdout",
     "output_type": "stream",
     "text": [
      "date:2017-08-31, past_date:2015-09-03\n",
      "days:730, i: 3, days-i:727\n"
     ]
    },
    {
     "name": "stderr",
     "output_type": "stream",
     "text": [
      "\r",
      "  6%|▋         | 1/16 [00:01<00:28,  1.91s/it]"
     ]
    },
    {
     "name": "stdout",
     "output_type": "stream",
     "text": [
      "date:2017-08-16, past_date:2015-08-19\n",
      "days:730, i: 3, days-i:727\n"
     ]
    },
    {
     "name": "stderr",
     "output_type": "stream",
     "text": [
      "\r",
      " 12%|█▎        | 2/16 [00:03<00:26,  1.91s/it]"
     ]
    },
    {
     "name": "stdout",
     "output_type": "stream",
     "text": [
      "date:2017-08-17, past_date:2015-08-20\n",
      "days:730, i: 3, days-i:727\n"
     ]
    },
    {
     "name": "stderr",
     "output_type": "stream",
     "text": [
      "\r",
      " 19%|█▉        | 3/16 [00:05<00:24,  1.91s/it]"
     ]
    },
    {
     "name": "stdout",
     "output_type": "stream",
     "text": [
      "date:2017-08-18, past_date:2015-08-21\n",
      "days:730, i: 3, days-i:727\n"
     ]
    },
    {
     "name": "stderr",
     "output_type": "stream",
     "text": [
      "\r",
      " 25%|██▌       | 4/16 [00:07<00:22,  1.91s/it]"
     ]
    },
    {
     "name": "stdout",
     "output_type": "stream",
     "text": [
      "date:2017-08-19, past_date:2015-08-22\n",
      "days:730, i: 3, days-i:727\n"
     ]
    },
    {
     "name": "stderr",
     "output_type": "stream",
     "text": [
      "\r",
      " 31%|███▏      | 5/16 [00:09<00:20,  1.91s/it]"
     ]
    },
    {
     "name": "stdout",
     "output_type": "stream",
     "text": [
      "date:2017-08-20, past_date:2015-08-23\n",
      "days:730, i: 3, days-i:727\n"
     ]
    },
    {
     "name": "stderr",
     "output_type": "stream",
     "text": [
      "\r",
      " 38%|███▊      | 6/16 [00:11<00:19,  1.91s/it]"
     ]
    },
    {
     "name": "stdout",
     "output_type": "stream",
     "text": [
      "date:2017-08-21, past_date:2015-08-24\n",
      "days:730, i: 3, days-i:727\n"
     ]
    },
    {
     "name": "stderr",
     "output_type": "stream",
     "text": [
      "\r",
      " 44%|████▍     | 7/16 [00:13<00:17,  1.91s/it]"
     ]
    },
    {
     "name": "stdout",
     "output_type": "stream",
     "text": [
      "date:2017-08-22, past_date:2015-08-25\n",
      "days:730, i: 3, days-i:727\n"
     ]
    },
    {
     "name": "stderr",
     "output_type": "stream",
     "text": [
      "\r",
      " 50%|█████     | 8/16 [00:15<00:15,  1.91s/it]"
     ]
    },
    {
     "name": "stdout",
     "output_type": "stream",
     "text": [
      "date:2017-08-23, past_date:2015-08-26\n",
      "days:730, i: 3, days-i:727\n"
     ]
    },
    {
     "name": "stderr",
     "output_type": "stream",
     "text": [
      "\r",
      " 56%|█████▋    | 9/16 [00:17<00:13,  1.91s/it]"
     ]
    },
    {
     "name": "stdout",
     "output_type": "stream",
     "text": [
      "date:2017-08-24, past_date:2015-08-27\n",
      "days:730, i: 3, days-i:727\n"
     ]
    },
    {
     "name": "stderr",
     "output_type": "stream",
     "text": [
      "\r",
      " 62%|██████▎   | 10/16 [00:19<00:11,  1.91s/it]"
     ]
    },
    {
     "name": "stdout",
     "output_type": "stream",
     "text": [
      "date:2017-08-25, past_date:2015-08-28\n",
      "days:730, i: 3, days-i:727\n"
     ]
    },
    {
     "name": "stderr",
     "output_type": "stream",
     "text": [
      "\r",
      " 69%|██████▉   | 11/16 [00:20<00:09,  1.91s/it]"
     ]
    },
    {
     "name": "stdout",
     "output_type": "stream",
     "text": [
      "date:2017-08-26, past_date:2015-08-29\n",
      "days:730, i: 3, days-i:727\n"
     ]
    },
    {
     "name": "stderr",
     "output_type": "stream",
     "text": [
      "\r",
      " 75%|███████▌  | 12/16 [00:22<00:07,  1.91s/it]"
     ]
    },
    {
     "name": "stdout",
     "output_type": "stream",
     "text": [
      "date:2017-08-27, past_date:2015-08-30\n",
      "days:730, i: 3, days-i:727\n"
     ]
    },
    {
     "name": "stderr",
     "output_type": "stream",
     "text": [
      "\r",
      " 81%|████████▏ | 13/16 [00:24<00:05,  1.91s/it]"
     ]
    },
    {
     "name": "stdout",
     "output_type": "stream",
     "text": [
      "date:2017-08-28, past_date:2015-08-31\n",
      "days:730, i: 3, days-i:727\n"
     ]
    },
    {
     "name": "stderr",
     "output_type": "stream",
     "text": [
      "\r",
      " 88%|████████▊ | 14/16 [00:26<00:03,  1.91s/it]"
     ]
    },
    {
     "name": "stdout",
     "output_type": "stream",
     "text": [
      "date:2017-08-29, past_date:2015-09-01\n",
      "days:730, i: 3, days-i:727\n"
     ]
    },
    {
     "name": "stderr",
     "output_type": "stream",
     "text": [
      "\r",
      " 94%|█████████▍| 15/16 [00:28<00:01,  1.91s/it]"
     ]
    },
    {
     "name": "stdout",
     "output_type": "stream",
     "text": [
      "date:2017-08-30, past_date:2015-09-02\n",
      "days:730, i: 3, days-i:727\n"
     ]
    },
    {
     "name": "stderr",
     "output_type": "stream",
     "text": [
      "100%|██████████| 16/16 [00:30<00:00,  1.91s/it]\n",
      "  0%|          | 0/16 [00:00<?, ?it/s]"
     ]
    },
    {
     "name": "stdout",
     "output_type": "stream",
     "text": [
      "date:2017-08-31, past_date:2015-09-03\n",
      "days:730, i: 3, days-i:727\n"
     ]
    },
    {
     "name": "stderr",
     "output_type": "stream",
     "text": [
      "\r",
      "  6%|▋         | 1/16 [00:02<00:30,  2.03s/it]"
     ]
    },
    {
     "name": "stdout",
     "output_type": "stream",
     "text": [
      "date:2017-08-16, past_date:2015-08-19\n",
      "days:730, i: 3, days-i:727\n"
     ]
    },
    {
     "name": "stderr",
     "output_type": "stream",
     "text": [
      "\r",
      " 12%|█▎        | 2/16 [00:03<00:27,  1.99s/it]"
     ]
    },
    {
     "name": "stdout",
     "output_type": "stream",
     "text": [
      "date:2017-08-17, past_date:2015-08-20\n",
      "days:730, i: 3, days-i:727\n"
     ]
    },
    {
     "name": "stderr",
     "output_type": "stream",
     "text": [
      "\r",
      " 19%|█▉        | 3/16 [00:05<00:25,  1.96s/it]"
     ]
    },
    {
     "name": "stdout",
     "output_type": "stream",
     "text": [
      "date:2017-08-18, past_date:2015-08-21\n",
      "days:730, i: 3, days-i:727\n"
     ]
    },
    {
     "name": "stderr",
     "output_type": "stream",
     "text": [
      "\r",
      " 25%|██▌       | 4/16 [00:07<00:23,  1.95s/it]"
     ]
    },
    {
     "name": "stdout",
     "output_type": "stream",
     "text": [
      "date:2017-08-19, past_date:2015-08-22\n",
      "days:730, i: 3, days-i:727\n"
     ]
    },
    {
     "name": "stderr",
     "output_type": "stream",
     "text": [
      "\r",
      " 31%|███▏      | 5/16 [00:09<00:21,  1.94s/it]"
     ]
    },
    {
     "name": "stdout",
     "output_type": "stream",
     "text": [
      "date:2017-08-20, past_date:2015-08-23\n",
      "days:730, i: 3, days-i:727\n"
     ]
    },
    {
     "name": "stderr",
     "output_type": "stream",
     "text": [
      "\r",
      " 38%|███▊      | 6/16 [00:11<00:19,  1.94s/it]"
     ]
    },
    {
     "name": "stdout",
     "output_type": "stream",
     "text": [
      "date:2017-08-21, past_date:2015-08-24\n",
      "days:730, i: 3, days-i:727\n"
     ]
    },
    {
     "name": "stderr",
     "output_type": "stream",
     "text": [
      "\r",
      " 44%|████▍     | 7/16 [00:13<00:17,  1.93s/it]"
     ]
    },
    {
     "name": "stdout",
     "output_type": "stream",
     "text": [
      "date:2017-08-22, past_date:2015-08-25\n",
      "days:730, i: 3, days-i:727\n"
     ]
    },
    {
     "name": "stderr",
     "output_type": "stream",
     "text": [
      "\r",
      " 50%|█████     | 8/16 [00:15<00:15,  1.93s/it]"
     ]
    },
    {
     "name": "stdout",
     "output_type": "stream",
     "text": [
      "date:2017-08-23, past_date:2015-08-26\n",
      "days:730, i: 3, days-i:727\n"
     ]
    },
    {
     "name": "stderr",
     "output_type": "stream",
     "text": [
      "\r",
      " 56%|█████▋    | 9/16 [00:17<00:13,  1.93s/it]"
     ]
    },
    {
     "name": "stdout",
     "output_type": "stream",
     "text": [
      "date:2017-08-24, past_date:2015-08-27\n",
      "days:730, i: 3, days-i:727\n"
     ]
    },
    {
     "name": "stderr",
     "output_type": "stream",
     "text": [
      "\r",
      " 62%|██████▎   | 10/16 [00:19<00:11,  1.92s/it]"
     ]
    },
    {
     "name": "stdout",
     "output_type": "stream",
     "text": [
      "date:2017-08-25, past_date:2015-08-28\n",
      "days:730, i: 3, days-i:727\n"
     ]
    },
    {
     "name": "stderr",
     "output_type": "stream",
     "text": [
      "\r",
      " 69%|██████▉   | 11/16 [00:21<00:09,  1.92s/it]"
     ]
    },
    {
     "name": "stdout",
     "output_type": "stream",
     "text": [
      "date:2017-08-26, past_date:2015-08-29\n",
      "days:730, i: 3, days-i:727\n"
     ]
    },
    {
     "name": "stderr",
     "output_type": "stream",
     "text": [
      "\r",
      " 75%|███████▌  | 12/16 [00:23<00:07,  1.92s/it]"
     ]
    },
    {
     "name": "stdout",
     "output_type": "stream",
     "text": [
      "date:2017-08-27, past_date:2015-08-30\n",
      "days:730, i: 3, days-i:727\n"
     ]
    },
    {
     "name": "stderr",
     "output_type": "stream",
     "text": [
      "\r",
      " 81%|████████▏ | 13/16 [00:24<00:05,  1.92s/it]"
     ]
    },
    {
     "name": "stdout",
     "output_type": "stream",
     "text": [
      "date:2017-08-28, past_date:2015-08-31\n",
      "days:730, i: 3, days-i:727\n"
     ]
    },
    {
     "name": "stderr",
     "output_type": "stream",
     "text": [
      "\r",
      " 88%|████████▊ | 14/16 [00:26<00:03,  1.92s/it]"
     ]
    },
    {
     "name": "stdout",
     "output_type": "stream",
     "text": [
      "date:2017-08-29, past_date:2015-09-01\n",
      "days:730, i: 3, days-i:727\n"
     ]
    },
    {
     "name": "stderr",
     "output_type": "stream",
     "text": [
      "\r",
      " 94%|█████████▍| 15/16 [00:28<00:01,  1.92s/it]"
     ]
    },
    {
     "name": "stdout",
     "output_type": "stream",
     "text": [
      "date:2017-08-30, past_date:2015-09-02\n",
      "days:730, i: 3, days-i:727\n"
     ]
    },
    {
     "name": "stderr",
     "output_type": "stream",
     "text": [
      "100%|██████████| 16/16 [00:30<00:00,  1.92s/it]\n",
      "  0%|          | 0/16 [00:00<?, ?it/s]"
     ]
    },
    {
     "name": "stdout",
     "output_type": "stream",
     "text": [
      "date:2017-08-31, past_date:2015-09-03\n",
      "days:730, i: 3, days-i:727\n"
     ]
    },
    {
     "name": "stderr",
     "output_type": "stream",
     "text": [
      "\r",
      "  6%|▋         | 1/16 [00:01<00:28,  1.92s/it]"
     ]
    },
    {
     "name": "stdout",
     "output_type": "stream",
     "text": [
      "date:2017-08-16, past_date:2015-08-19\n",
      "days:730, i: 3, days-i:727\n"
     ]
    },
    {
     "name": "stderr",
     "output_type": "stream",
     "text": [
      "\r",
      " 12%|█▎        | 2/16 [00:03<00:27,  1.93s/it]"
     ]
    },
    {
     "name": "stdout",
     "output_type": "stream",
     "text": [
      "date:2017-08-17, past_date:2015-08-20\n",
      "days:730, i: 3, days-i:727\n"
     ]
    },
    {
     "name": "stderr",
     "output_type": "stream",
     "text": [
      "\r",
      " 19%|█▉        | 3/16 [00:05<00:25,  1.94s/it]"
     ]
    },
    {
     "name": "stdout",
     "output_type": "stream",
     "text": [
      "date:2017-08-18, past_date:2015-08-21\n",
      "days:730, i: 3, days-i:727\n"
     ]
    },
    {
     "name": "stderr",
     "output_type": "stream",
     "text": [
      "\r",
      " 25%|██▌       | 4/16 [00:07<00:23,  1.94s/it]"
     ]
    },
    {
     "name": "stdout",
     "output_type": "stream",
     "text": [
      "date:2017-08-19, past_date:2015-08-22\n",
      "days:730, i: 3, days-i:727\n"
     ]
    },
    {
     "name": "stderr",
     "output_type": "stream",
     "text": [
      "\r",
      " 31%|███▏      | 5/16 [00:09<00:21,  1.94s/it]"
     ]
    },
    {
     "name": "stdout",
     "output_type": "stream",
     "text": [
      "date:2017-08-20, past_date:2015-08-23\n",
      "days:730, i: 3, days-i:727\n"
     ]
    },
    {
     "name": "stderr",
     "output_type": "stream",
     "text": [
      "\r",
      " 38%|███▊      | 6/16 [00:11<00:19,  1.94s/it]"
     ]
    },
    {
     "name": "stdout",
     "output_type": "stream",
     "text": [
      "date:2017-08-21, past_date:2015-08-24\n",
      "days:730, i: 3, days-i:727\n"
     ]
    },
    {
     "name": "stderr",
     "output_type": "stream",
     "text": [
      "\r",
      " 44%|████▍     | 7/16 [00:13<00:17,  1.93s/it]"
     ]
    },
    {
     "name": "stdout",
     "output_type": "stream",
     "text": [
      "date:2017-08-22, past_date:2015-08-25\n",
      "days:730, i: 3, days-i:727\n"
     ]
    },
    {
     "name": "stderr",
     "output_type": "stream",
     "text": [
      "\r",
      " 50%|█████     | 8/16 [00:15<00:15,  1.93s/it]"
     ]
    },
    {
     "name": "stdout",
     "output_type": "stream",
     "text": [
      "date:2017-08-23, past_date:2015-08-26\n",
      "days:730, i: 3, days-i:727\n"
     ]
    },
    {
     "name": "stderr",
     "output_type": "stream",
     "text": [
      "\r",
      " 56%|█████▋    | 9/16 [00:17<00:13,  1.93s/it]"
     ]
    },
    {
     "name": "stdout",
     "output_type": "stream",
     "text": [
      "date:2017-08-24, past_date:2015-08-27\n",
      "days:730, i: 3, days-i:727\n"
     ]
    },
    {
     "name": "stderr",
     "output_type": "stream",
     "text": [
      "\r",
      " 62%|██████▎   | 10/16 [00:19<00:11,  1.93s/it]"
     ]
    },
    {
     "name": "stdout",
     "output_type": "stream",
     "text": [
      "date:2017-08-25, past_date:2015-08-28\n",
      "days:730, i: 3, days-i:727\n"
     ]
    },
    {
     "name": "stderr",
     "output_type": "stream",
     "text": [
      "\r",
      " 69%|██████▉   | 11/16 [00:21<00:09,  1.93s/it]"
     ]
    },
    {
     "name": "stdout",
     "output_type": "stream",
     "text": [
      "date:2017-08-26, past_date:2015-08-29\n",
      "days:730, i: 3, days-i:727\n"
     ]
    },
    {
     "name": "stderr",
     "output_type": "stream",
     "text": [
      "\r",
      " 75%|███████▌  | 12/16 [00:23<00:07,  1.92s/it]"
     ]
    },
    {
     "name": "stdout",
     "output_type": "stream",
     "text": [
      "date:2017-08-27, past_date:2015-08-30\n",
      "days:730, i: 3, days-i:727\n"
     ]
    },
    {
     "name": "stderr",
     "output_type": "stream",
     "text": [
      "\r",
      " 81%|████████▏ | 13/16 [00:25<00:05,  1.92s/it]"
     ]
    },
    {
     "name": "stdout",
     "output_type": "stream",
     "text": [
      "date:2017-08-28, past_date:2015-08-31\n",
      "days:730, i: 3, days-i:727\n"
     ]
    },
    {
     "name": "stderr",
     "output_type": "stream",
     "text": [
      "\r",
      " 88%|████████▊ | 14/16 [00:26<00:03,  1.92s/it]"
     ]
    },
    {
     "name": "stdout",
     "output_type": "stream",
     "text": [
      "date:2017-08-29, past_date:2015-09-01\n",
      "days:730, i: 3, days-i:727\n"
     ]
    },
    {
     "name": "stderr",
     "output_type": "stream",
     "text": [
      "\r",
      " 94%|█████████▍| 15/16 [00:28<00:01,  1.92s/it]"
     ]
    },
    {
     "name": "stdout",
     "output_type": "stream",
     "text": [
      "date:2017-08-30, past_date:2015-09-02\n",
      "days:730, i: 3, days-i:727\n"
     ]
    },
    {
     "name": "stderr",
     "output_type": "stream",
     "text": [
      "100%|██████████| 16/16 [00:30<00:00,  1.92s/it]\n",
      "  0%|          | 0/16 [00:00<?, ?it/s]"
     ]
    },
    {
     "name": "stdout",
     "output_type": "stream",
     "text": [
      "date:2017-08-31, past_date:2015-09-03\n",
      "days:730, i: 3, days-i:727\n"
     ]
    },
    {
     "name": "stderr",
     "output_type": "stream",
     "text": [
      "\r",
      "  6%|▋         | 1/16 [00:01<00:28,  1.90s/it]"
     ]
    },
    {
     "name": "stdout",
     "output_type": "stream",
     "text": [
      "date:2017-08-16, past_date:2015-08-19\n",
      "days:730, i: 3, days-i:727\n"
     ]
    },
    {
     "name": "stderr",
     "output_type": "stream",
     "text": [
      "\r",
      " 12%|█▎        | 2/16 [00:03<00:26,  1.91s/it]"
     ]
    },
    {
     "name": "stdout",
     "output_type": "stream",
     "text": [
      "date:2017-08-17, past_date:2015-08-20\n",
      "days:730, i: 3, days-i:727\n"
     ]
    },
    {
     "name": "stderr",
     "output_type": "stream",
     "text": [
      "\r",
      " 19%|█▉        | 3/16 [00:05<00:24,  1.91s/it]"
     ]
    },
    {
     "name": "stdout",
     "output_type": "stream",
     "text": [
      "date:2017-08-18, past_date:2015-08-21\n",
      "days:730, i: 3, days-i:727\n"
     ]
    },
    {
     "name": "stderr",
     "output_type": "stream",
     "text": [
      "\r",
      " 25%|██▌       | 4/16 [00:07<00:22,  1.91s/it]"
     ]
    },
    {
     "name": "stdout",
     "output_type": "stream",
     "text": [
      "date:2017-08-19, past_date:2015-08-22\n",
      "days:730, i: 3, days-i:727\n"
     ]
    },
    {
     "name": "stderr",
     "output_type": "stream",
     "text": [
      "\r",
      " 31%|███▏      | 5/16 [00:09<00:20,  1.91s/it]"
     ]
    },
    {
     "name": "stdout",
     "output_type": "stream",
     "text": [
      "date:2017-08-20, past_date:2015-08-23\n",
      "days:730, i: 3, days-i:727\n"
     ]
    },
    {
     "name": "stderr",
     "output_type": "stream",
     "text": [
      "\r",
      " 38%|███▊      | 6/16 [00:11<00:19,  1.91s/it]"
     ]
    },
    {
     "name": "stdout",
     "output_type": "stream",
     "text": [
      "date:2017-08-21, past_date:2015-08-24\n",
      "days:730, i: 3, days-i:727\n"
     ]
    },
    {
     "name": "stderr",
     "output_type": "stream",
     "text": [
      "\r",
      " 44%|████▍     | 7/16 [00:13<00:17,  1.91s/it]"
     ]
    },
    {
     "name": "stdout",
     "output_type": "stream",
     "text": [
      "date:2017-08-22, past_date:2015-08-25\n",
      "days:730, i: 3, days-i:727\n"
     ]
    },
    {
     "name": "stderr",
     "output_type": "stream",
     "text": [
      "\r",
      " 50%|█████     | 8/16 [00:15<00:15,  1.91s/it]"
     ]
    },
    {
     "name": "stdout",
     "output_type": "stream",
     "text": [
      "date:2017-08-23, past_date:2015-08-26\n",
      "days:730, i: 3, days-i:727\n"
     ]
    },
    {
     "name": "stderr",
     "output_type": "stream",
     "text": [
      "\r",
      " 56%|█████▋    | 9/16 [00:17<00:13,  1.91s/it]"
     ]
    },
    {
     "name": "stdout",
     "output_type": "stream",
     "text": [
      "date:2017-08-24, past_date:2015-08-27\n",
      "days:730, i: 3, days-i:727\n"
     ]
    },
    {
     "name": "stderr",
     "output_type": "stream",
     "text": [
      "\r",
      " 62%|██████▎   | 10/16 [00:19<00:11,  1.91s/it]"
     ]
    },
    {
     "name": "stdout",
     "output_type": "stream",
     "text": [
      "date:2017-08-25, past_date:2015-08-28\n",
      "days:730, i: 3, days-i:727\n"
     ]
    },
    {
     "name": "stderr",
     "output_type": "stream",
     "text": [
      "\r",
      " 69%|██████▉   | 11/16 [00:20<00:09,  1.91s/it]"
     ]
    },
    {
     "name": "stdout",
     "output_type": "stream",
     "text": [
      "date:2017-08-26, past_date:2015-08-29\n",
      "days:730, i: 3, days-i:727\n"
     ]
    },
    {
     "name": "stderr",
     "output_type": "stream",
     "text": [
      "\r",
      " 75%|███████▌  | 12/16 [00:22<00:07,  1.91s/it]"
     ]
    },
    {
     "name": "stdout",
     "output_type": "stream",
     "text": [
      "date:2017-08-27, past_date:2015-08-30\n",
      "days:730, i: 3, days-i:727\n"
     ]
    },
    {
     "name": "stderr",
     "output_type": "stream",
     "text": [
      "\r",
      " 81%|████████▏ | 13/16 [00:24<00:05,  1.91s/it]"
     ]
    },
    {
     "name": "stdout",
     "output_type": "stream",
     "text": [
      "date:2017-08-28, past_date:2015-08-31\n",
      "days:730, i: 3, days-i:727\n"
     ]
    },
    {
     "name": "stderr",
     "output_type": "stream",
     "text": [
      "\r",
      " 88%|████████▊ | 14/16 [00:26<00:03,  1.91s/it]"
     ]
    },
    {
     "name": "stdout",
     "output_type": "stream",
     "text": [
      "date:2017-08-29, past_date:2015-09-01\n",
      "days:730, i: 3, days-i:727\n"
     ]
    },
    {
     "name": "stderr",
     "output_type": "stream",
     "text": [
      "\r",
      " 94%|█████████▍| 15/16 [00:28<00:01,  1.92s/it]"
     ]
    },
    {
     "name": "stdout",
     "output_type": "stream",
     "text": [
      "date:2017-08-30, past_date:2015-09-02\n",
      "days:730, i: 3, days-i:727\n"
     ]
    },
    {
     "name": "stderr",
     "output_type": "stream",
     "text": [
      "\r",
      "100%|██████████| 16/16 [00:30<00:00,  1.92s/it]"
     ]
    },
    {
     "name": "stdout",
     "output_type": "stream",
     "text": [
      "date:2017-08-31, past_date:2015-09-03\n",
      "days:730, i: 3, days-i:727\n",
      "(985899, 28)\n"
     ]
    },
    {
     "name": "stderr",
     "output_type": "stream",
     "text": [
      "\n"
     ]
    },
    {
     "name": "stdout",
     "output_type": "stream",
     "text": [
      "(62416, 28)\n",
      "(16, 31)\n",
      "(16, 31)\n",
      "(16, 31)\n",
      "(16, 31)\n",
      "(16, 31)\n",
      "(16, 31)\n",
      "(16, 31)\n",
      "0\n",
      "194\n",
      "../cache/test7_1_t_store22_recent_stats_dow_1.csv\n",
      "(62416, 237)\n",
      "../cache/bkup2/test7_1_t_store23.csv\n"
     ]
    },
    {
     "name": "stderr",
     "output_type": "stream",
     "text": [
      "100%|██████████| 16/16 [01:29<00:00,  5.59s/it]\n",
      "100%|██████████| 16/16 [01:29<00:00,  5.58s/it]\n",
      "100%|██████████| 16/16 [01:29<00:00,  5.60s/it]\n",
      "100%|██████████| 16/16 [01:29<00:00,  5.59s/it]\n",
      "100%|██████████| 16/16 [01:29<00:00,  5.59s/it]\n",
      "100%|██████████| 16/16 [01:29<00:00,  5.59s/it]\n",
      "100%|██████████| 16/16 [01:29<00:00,  5.60s/it]\n"
     ]
    },
    {
     "name": "stdout",
     "output_type": "stream",
     "text": [
      "(2428113, 28)\n",
      "(62416, 28)\n",
      "(16, 31)\n",
      "(16, 31)\n",
      "(16, 31)\n",
      "(16, 31)\n",
      "(16, 31)\n",
      "(16, 31)\n",
      "(16, 31)\n",
      "0\n",
      "236\n",
      "../cache/test7_1_t_store23_recent_stats_dow_1.csv\n",
      "(62416, 237)\n",
      "../cache/bkup2/test7_1_t_store24.csv\n"
     ]
    },
    {
     "name": "stderr",
     "output_type": "stream",
     "text": [
      "100%|██████████| 16/16 [01:44<00:00,  6.52s/it]\n",
      "100%|██████████| 16/16 [01:44<00:00,  6.52s/it]\n",
      "100%|██████████| 16/16 [01:43<00:00,  6.50s/it]\n",
      "100%|██████████| 16/16 [01:44<00:00,  6.51s/it]\n",
      "100%|██████████| 16/16 [01:44<00:00,  6.53s/it]\n",
      "100%|██████████| 16/16 [01:44<00:00,  6.51s/it]\n",
      "100%|██████████| 16/16 [01:44<00:00,  6.51s/it]\n"
     ]
    },
    {
     "name": "stdout",
     "output_type": "stream",
     "text": [
      "(2832305, 28)\n",
      "(62416, 28)\n",
      "(16, 31)\n",
      "(16, 31)\n",
      "(16, 31)\n",
      "(16, 31)\n",
      "(16, 31)\n",
      "(16, 31)\n",
      "(16, 31)\n",
      "0\n",
      "236\n",
      "../cache/test7_1_t_store24_recent_stats_dow_1.csv\n",
      "(62416, 237)\n",
      "../cache/bkup2/test7_1_t_store25.csv\n"
     ]
    },
    {
     "name": "stderr",
     "output_type": "stream",
     "text": [
      "100%|██████████| 16/16 [01:18<00:00,  4.89s/it]\n",
      "100%|██████████| 16/16 [01:18<00:00,  4.89s/it]\n",
      "100%|██████████| 16/16 [01:18<00:00,  4.89s/it]\n",
      "100%|██████████| 16/16 [01:18<00:00,  4.88s/it]\n",
      "100%|██████████| 16/16 [01:18<00:00,  4.90s/it]\n",
      "100%|██████████| 16/16 [01:18<00:00,  4.89s/it]\n",
      "100%|██████████| 16/16 [01:18<00:00,  4.88s/it]\n"
     ]
    },
    {
     "name": "stdout",
     "output_type": "stream",
     "text": [
      "(2119436, 28)\n",
      "(62416, 28)\n",
      "(16, 31)\n",
      "(16, 31)\n",
      "(16, 31)\n",
      "(16, 31)\n",
      "(16, 31)\n",
      "(16, 31)\n",
      "(16, 31)\n",
      "0\n",
      "236\n",
      "../cache/test7_1_t_store25_recent_stats_dow_1.csv\n",
      "(62416, 237)\n",
      "../cache/bkup2/test7_1_t_store26.csv\n"
     ]
    },
    {
     "name": "stderr",
     "output_type": "stream",
     "text": [
      "100%|██████████| 16/16 [01:08<00:00,  4.28s/it]\n",
      "100%|██████████| 16/16 [01:08<00:00,  4.29s/it]\n",
      "100%|██████████| 16/16 [01:08<00:00,  4.31s/it]\n",
      "100%|██████████| 16/16 [01:08<00:00,  4.27s/it]\n",
      "100%|██████████| 16/16 [01:08<00:00,  4.27s/it]\n",
      "100%|██████████| 16/16 [01:08<00:00,  4.27s/it]\n",
      "100%|██████████| 16/16 [01:08<00:00,  4.27s/it]\n"
     ]
    },
    {
     "name": "stdout",
     "output_type": "stream",
     "text": [
      "(1855498, 28)\n",
      "(62416, 28)\n",
      "(16, 31)\n",
      "(16, 31)\n",
      "(16, 31)\n",
      "(16, 31)\n",
      "(16, 31)\n",
      "(16, 31)\n",
      "(16, 31)\n",
      "0\n",
      "236\n",
      "../cache/test7_1_t_store26_recent_stats_dow_1.csv\n",
      "(62416, 237)\n",
      "../cache/bkup2/test7_1_t_store27.csv\n"
     ]
    },
    {
     "name": "stderr",
     "output_type": "stream",
     "text": [
      "100%|██████████| 16/16 [01:39<00:00,  6.20s/it]\n",
      "100%|██████████| 16/16 [01:39<00:00,  6.19s/it]\n",
      "100%|██████████| 16/16 [01:39<00:00,  6.19s/it]\n",
      "100%|██████████| 16/16 [01:39<00:00,  6.19s/it]\n",
      "100%|██████████| 16/16 [01:39<00:00,  6.21s/it]\n",
      "100%|██████████| 16/16 [01:39<00:00,  6.20s/it]\n",
      "100%|██████████| 16/16 [01:39<00:00,  6.20s/it]\n"
     ]
    },
    {
     "name": "stdout",
     "output_type": "stream",
     "text": [
      "(2694130, 28)\n",
      "(62416, 28)\n",
      "(16, 31)\n",
      "(16, 31)\n",
      "(16, 31)\n",
      "(16, 31)\n",
      "(16, 31)\n",
      "(16, 31)\n",
      "(16, 31)\n",
      "0\n",
      "236\n",
      "../cache/test7_1_t_store27_recent_stats_dow_1.csv\n",
      "(62416, 237)\n",
      "../cache/bkup2/test7_1_t_store28.csv\n"
     ]
    },
    {
     "name": "stderr",
     "output_type": "stream",
     "text": [
      "100%|██████████| 16/16 [01:31<00:00,  5.70s/it]\n",
      "100%|██████████| 16/16 [01:31<00:00,  5.71s/it]\n",
      "100%|██████████| 16/16 [01:31<00:00,  5.70s/it]\n",
      "100%|██████████| 16/16 [01:31<00:00,  5.69s/it]\n",
      "100%|██████████| 16/16 [01:31<00:00,  5.71s/it]\n",
      "100%|██████████| 16/16 [01:31<00:00,  5.71s/it]\n",
      "100%|██████████| 16/16 [01:31<00:00,  5.74s/it]\n"
     ]
    },
    {
     "name": "stdout",
     "output_type": "stream",
     "text": [
      "(2481232, 28)\n",
      "(62416, 28)\n",
      "(16, 31)\n",
      "(16, 31)\n",
      "(16, 31)\n",
      "(16, 31)\n",
      "(16, 31)\n",
      "(16, 31)\n",
      "(16, 31)\n",
      "0\n",
      "236\n",
      "../cache/test7_1_t_store28_recent_stats_dow_1.csv\n",
      "(62416, 237)\n",
      "../cache/bkup2/test7_1_t_store29.csv\n"
     ]
    },
    {
     "name": "stderr",
     "output_type": "stream",
     "text": [
      "100%|██████████| 16/16 [00:58<00:00,  3.64s/it]\n",
      "100%|██████████| 16/16 [00:58<00:00,  3.64s/it]\n",
      "100%|██████████| 16/16 [00:58<00:00,  3.64s/it]\n",
      "100%|██████████| 16/16 [00:58<00:00,  3.63s/it]\n",
      "100%|██████████| 16/16 [00:58<00:00,  3.64s/it]\n",
      "100%|██████████| 16/16 [00:58<00:00,  3.64s/it]\n",
      "100%|██████████| 16/16 [00:58<00:00,  3.63s/it]\n"
     ]
    },
    {
     "name": "stdout",
     "output_type": "stream",
     "text": [
      "(1571375, 28)\n",
      "(62416, 28)\n",
      "(16, 31)\n",
      "(16, 31)\n",
      "(16, 31)\n",
      "(16, 31)\n",
      "(16, 31)\n",
      "(16, 31)\n",
      "(16, 31)\n",
      "0\n",
      "236\n",
      "../cache/test7_1_t_store29_recent_stats_dow_1.csv\n",
      "(62416, 237)\n",
      "../cache/bkup2/test7_1_t_store30.csv\n"
     ]
    },
    {
     "name": "stderr",
     "output_type": "stream",
     "text": [
      "100%|██████████| 16/16 [01:01<00:00,  3.84s/it]\n",
      "100%|██████████| 16/16 [01:01<00:00,  3.84s/it]\n",
      "100%|██████████| 16/16 [01:01<00:00,  3.83s/it]\n",
      "100%|██████████| 16/16 [01:01<00:00,  3.82s/it]\n",
      "100%|██████████| 16/16 [01:01<00:00,  3.82s/it]\n",
      "100%|██████████| 16/16 [01:01<00:00,  3.85s/it]\n",
      "100%|██████████| 16/16 [01:01<00:00,  3.84s/it]\n"
     ]
    },
    {
     "name": "stdout",
     "output_type": "stream",
     "text": [
      "(1660278, 28)\n",
      "(62416, 28)\n",
      "(16, 31)\n",
      "(16, 31)\n",
      "(16, 31)\n",
      "(16, 31)\n",
      "(16, 31)\n",
      "(16, 31)\n",
      "(16, 31)\n",
      "0\n",
      "236\n",
      "../cache/test7_1_t_store30_recent_stats_dow_1.csv\n",
      "(62416, 237)\n",
      "../cache/bkup2/test7_1_t_store31.csv\n"
     ]
    },
    {
     "name": "stderr",
     "output_type": "stream",
     "text": [
      "100%|██████████| 16/16 [01:29<00:00,  5.59s/it]\n",
      "100%|██████████| 16/16 [01:29<00:00,  5.59s/it]\n",
      "100%|██████████| 16/16 [01:29<00:00,  5.57s/it]\n",
      "100%|██████████| 16/16 [01:29<00:00,  5.56s/it]\n",
      "100%|██████████| 16/16 [01:29<00:00,  5.60s/it]\n",
      "100%|██████████| 16/16 [01:29<00:00,  5.57s/it]\n",
      "100%|██████████| 16/16 [01:29<00:00,  5.57s/it]\n"
     ]
    },
    {
     "name": "stdout",
     "output_type": "stream",
     "text": [
      "(2424140, 28)\n",
      "(62416, 28)\n",
      "(16, 31)\n",
      "(16, 31)\n",
      "(16, 31)\n",
      "(16, 31)\n",
      "(16, 31)\n",
      "(16, 31)\n",
      "(16, 31)\n",
      "0\n",
      "236\n",
      "../cache/test7_1_t_store31_recent_stats_dow_1.csv\n",
      "(62416, 237)\n",
      "../cache/bkup2/test7_1_t_store32.csv\n"
     ]
    },
    {
     "name": "stderr",
     "output_type": "stream",
     "text": [
      "100%|██████████| 16/16 [00:52<00:00,  3.29s/it]\n",
      "100%|██████████| 16/16 [00:52<00:00,  3.30s/it]\n",
      "100%|██████████| 16/16 [00:53<00:00,  3.32s/it]\n",
      "100%|██████████| 16/16 [00:52<00:00,  3.29s/it]\n",
      "100%|██████████| 16/16 [00:52<00:00,  3.28s/it]\n",
      "100%|██████████| 16/16 [00:52<00:00,  3.29s/it]\n",
      "100%|██████████| 16/16 [00:52<00:00,  3.30s/it]\n"
     ]
    },
    {
     "name": "stdout",
     "output_type": "stream",
     "text": [
      "(1425031, 28)\n",
      "(62416, 28)\n",
      "(16, 31)\n",
      "(16, 31)\n",
      "(16, 31)\n",
      "(16, 31)\n",
      "(16, 31)\n",
      "(16, 31)\n",
      "(16, 31)\n",
      "0\n",
      "236\n",
      "../cache/test7_1_t_store32_recent_stats_dow_1.csv\n",
      "(62416, 237)\n",
      "../cache/bkup2/test7_1_t_store33.csv\n"
     ]
    },
    {
     "name": "stderr",
     "output_type": "stream",
     "text": [
      "100%|██████████| 16/16 [01:14<00:00,  4.66s/it]\n",
      "100%|██████████| 16/16 [01:14<00:00,  4.67s/it]\n",
      "100%|██████████| 16/16 [01:14<00:00,  4.66s/it]\n",
      "100%|██████████| 16/16 [01:14<00:00,  4.66s/it]\n",
      "100%|██████████| 16/16 [01:14<00:00,  4.66s/it]\n",
      "100%|██████████| 16/16 [01:14<00:00,  4.68s/it]\n",
      "100%|██████████| 16/16 [01:14<00:00,  4.66s/it]\n"
     ]
    },
    {
     "name": "stdout",
     "output_type": "stream",
     "text": [
      "(2025901, 28)\n",
      "(62416, 28)\n",
      "(16, 31)\n",
      "(16, 31)\n",
      "(16, 31)\n",
      "(16, 31)\n",
      "(16, 31)\n",
      "(16, 31)\n",
      "(16, 31)\n",
      "0\n",
      "236\n",
      "../cache/test7_1_t_store33_recent_stats_dow_1.csv\n",
      "(62416, 237)\n",
      "../cache/bkup2/test7_1_t_store34.csv\n"
     ]
    },
    {
     "name": "stderr",
     "output_type": "stream",
     "text": [
      "100%|██████████| 16/16 [01:27<00:00,  5.45s/it]\n",
      "100%|██████████| 16/16 [01:27<00:00,  5.44s/it]\n",
      "100%|██████████| 16/16 [01:26<00:00,  5.43s/it]\n",
      "100%|██████████| 16/16 [01:27<00:00,  5.46s/it]\n",
      "100%|██████████| 16/16 [01:26<00:00,  5.43s/it]\n",
      "100%|██████████| 16/16 [01:27<00:00,  5.44s/it]\n",
      "100%|██████████| 16/16 [01:27<00:00,  5.46s/it]\n"
     ]
    },
    {
     "name": "stdout",
     "output_type": "stream",
     "text": [
      "(2361838, 28)\n",
      "(62416, 28)\n",
      "(16, 31)\n",
      "(16, 31)\n",
      "(16, 31)\n",
      "(16, 31)\n",
      "(16, 31)\n",
      "(16, 31)\n",
      "(16, 31)\n",
      "0\n",
      "236\n",
      "../cache/test7_1_t_store34_recent_stats_dow_1.csv\n",
      "(62416, 237)\n",
      "../cache/bkup2/test7_1_t_store35.csv\n"
     ]
    },
    {
     "name": "stderr",
     "output_type": "stream",
     "text": [
      "100%|██████████| 16/16 [00:53<00:00,  3.36s/it]\n",
      "100%|██████████| 16/16 [00:53<00:00,  3.36s/it]\n",
      "100%|██████████| 16/16 [00:53<00:00,  3.35s/it]\n",
      "100%|██████████| 16/16 [00:53<00:00,  3.37s/it]\n",
      "100%|██████████| 16/16 [00:53<00:00,  3.35s/it]\n",
      "100%|██████████| 16/16 [00:53<00:00,  3.37s/it]\n",
      "100%|██████████| 16/16 [00:53<00:00,  3.36s/it]\n"
     ]
    },
    {
     "name": "stdout",
     "output_type": "stream",
     "text": [
      "(1450520, 28)\n",
      "(62416, 28)\n",
      "(16, 31)\n",
      "(16, 31)\n",
      "(16, 31)\n",
      "(16, 31)\n",
      "(16, 31)\n",
      "(16, 31)\n",
      "(16, 31)\n",
      "0\n",
      "236\n",
      "../cache/test7_1_t_store35_recent_stats_dow_1.csv\n",
      "(62416, 237)\n",
      "../cache/bkup2/test7_1_t_store36.csv\n"
     ]
    },
    {
     "name": "stderr",
     "output_type": "stream",
     "text": [
      "100%|██████████| 16/16 [01:24<00:00,  5.25s/it]\n",
      "100%|██████████| 16/16 [01:23<00:00,  5.23s/it]\n",
      "100%|██████████| 16/16 [01:23<00:00,  5.24s/it]\n",
      "100%|██████████| 16/16 [01:23<00:00,  5.23s/it]\n",
      "100%|██████████| 16/16 [01:23<00:00,  5.23s/it]\n",
      "100%|██████████| 16/16 [01:23<00:00,  5.23s/it]\n",
      "100%|██████████| 16/16 [01:23<00:00,  5.24s/it]\n"
     ]
    },
    {
     "name": "stdout",
     "output_type": "stream",
     "text": [
      "(2273578, 28)\n",
      "(62416, 28)\n",
      "(16, 31)\n",
      "(16, 31)\n",
      "(16, 31)\n",
      "(16, 31)\n",
      "(16, 31)\n",
      "(16, 31)\n",
      "(16, 31)\n",
      "0\n",
      "236\n",
      "../cache/test7_1_t_store36_recent_stats_dow_1.csv\n",
      "(62416, 237)\n",
      "../cache/bkup2/test7_1_t_store37.csv\n"
     ]
    },
    {
     "name": "stderr",
     "output_type": "stream",
     "text": [
      "100%|██████████| 16/16 [01:46<00:00,  6.66s/it]\n",
      "100%|██████████| 16/16 [01:46<00:00,  6.66s/it]\n",
      "100%|██████████| 16/16 [01:46<00:00,  6.65s/it]\n",
      "100%|██████████| 16/16 [01:46<00:00,  6.66s/it]\n",
      "100%|██████████| 16/16 [01:46<00:00,  6.66s/it]\n",
      "100%|██████████| 16/16 [01:46<00:00,  6.65s/it]\n",
      "100%|██████████| 16/16 [01:46<00:00,  6.66s/it]\n"
     ]
    },
    {
     "name": "stdout",
     "output_type": "stream",
     "text": [
      "(2894107, 28)\n",
      "(62416, 28)\n",
      "(16, 31)\n",
      "(16, 31)\n",
      "(16, 31)\n",
      "(16, 31)\n",
      "(16, 31)\n",
      "(16, 31)\n",
      "(16, 31)\n",
      "0\n",
      "236\n",
      "../cache/test7_1_t_store37_recent_stats_dow_1.csv\n",
      "(62416, 237)\n",
      "../cache/bkup2/test7_1_t_store38.csv\n"
     ]
    },
    {
     "name": "stderr",
     "output_type": "stream",
     "text": [
      "100%|██████████| 16/16 [01:42<00:00,  6.42s/it]\n",
      "100%|██████████| 16/16 [01:42<00:00,  6.40s/it]\n",
      "100%|██████████| 16/16 [01:42<00:00,  6.41s/it]\n",
      "100%|██████████| 16/16 [01:42<00:00,  6.41s/it]\n",
      "100%|██████████| 16/16 [01:43<00:00,  6.44s/it]\n",
      "100%|██████████| 16/16 [01:43<00:00,  6.47s/it]\n",
      "100%|██████████| 16/16 [01:43<00:00,  6.46s/it]\n"
     ]
    },
    {
     "name": "stdout",
     "output_type": "stream",
     "text": [
      "(2790147, 28)\n",
      "(62416, 28)\n",
      "(16, 31)\n",
      "(16, 31)\n",
      "(16, 31)\n",
      "(16, 31)\n",
      "(16, 31)\n",
      "(16, 31)\n",
      "(16, 31)\n",
      "0\n",
      "236\n",
      "../cache/test7_1_t_store38_recent_stats_dow_1.csv\n",
      "(62416, 237)\n",
      "../cache/bkup2/test7_1_t_store39.csv\n"
     ]
    },
    {
     "name": "stderr",
     "output_type": "stream",
     "text": [
      "100%|██████████| 16/16 [01:39<00:00,  6.24s/it]\n",
      "100%|██████████| 16/16 [01:39<00:00,  6.24s/it]\n",
      "100%|██████████| 16/16 [01:39<00:00,  6.22s/it]\n",
      "100%|██████████| 16/16 [01:39<00:00,  6.23s/it]\n",
      "100%|██████████| 16/16 [01:39<00:00,  6.22s/it]\n",
      "100%|██████████| 16/16 [01:40<00:00,  6.26s/it]\n",
      "100%|██████████| 16/16 [01:39<00:00,  6.23s/it]\n"
     ]
    },
    {
     "name": "stdout",
     "output_type": "stream",
     "text": [
      "(2700452, 28)\n",
      "(62416, 28)\n",
      "(16, 31)\n",
      "(16, 31)\n",
      "(16, 31)\n",
      "(16, 31)\n",
      "(16, 31)\n",
      "(16, 31)\n",
      "(16, 31)\n",
      "0\n",
      "236\n",
      "../cache/test7_1_t_store39_recent_stats_dow_1.csv\n",
      "(62416, 237)\n",
      "../cache/bkup2/test7_1_t_store40.csv\n"
     ]
    },
    {
     "name": "stderr",
     "output_type": "stream",
     "text": [
      "100%|██████████| 16/16 [01:20<00:00,  5.00s/it]\n",
      "100%|██████████| 16/16 [01:19<00:00,  5.00s/it]\n",
      "100%|██████████| 16/16 [01:19<00:00,  4.99s/it]\n",
      "100%|██████████| 16/16 [01:19<00:00,  4.98s/it]\n",
      "100%|██████████| 16/16 [01:19<00:00,  4.98s/it]\n",
      "100%|██████████| 16/16 [01:19<00:00,  4.98s/it]\n",
      "100%|██████████| 16/16 [01:20<00:00,  5.02s/it]\n"
     ]
    },
    {
     "name": "stdout",
     "output_type": "stream",
     "text": [
      "(2165215, 28)\n",
      "(62416, 28)\n",
      "(16, 31)\n",
      "(16, 31)\n",
      "(16, 31)\n",
      "(16, 31)\n",
      "(16, 31)\n",
      "(16, 31)\n",
      "(16, 31)\n",
      "0\n",
      "236\n",
      "../cache/test7_1_t_store40_recent_stats_dow_1.csv\n",
      "(62416, 237)\n",
      "../cache/bkup2/test7_1_t_store41.csv\n"
     ]
    },
    {
     "name": "stderr",
     "output_type": "stream",
     "text": [
      "100%|██████████| 16/16 [01:34<00:00,  5.93s/it]\n",
      "100%|██████████| 16/16 [01:34<00:00,  5.91s/it]\n",
      "100%|██████████| 16/16 [01:35<00:00,  5.94s/it]\n",
      "100%|██████████| 16/16 [01:34<00:00,  5.89s/it]\n",
      "100%|██████████| 16/16 [01:34<00:00,  5.90s/it]\n",
      "100%|██████████| 16/16 [01:34<00:00,  5.91s/it]\n",
      "100%|██████████| 16/16 [01:34<00:00,  5.89s/it]\n"
     ]
    },
    {
     "name": "stdout",
     "output_type": "stream",
     "text": [
      "(2566335, 28)\n",
      "(62416, 28)\n",
      "(16, 31)\n",
      "(16, 31)\n",
      "(16, 31)\n",
      "(16, 31)\n",
      "(16, 31)\n",
      "(16, 31)\n",
      "(16, 31)\n",
      "0\n",
      "236\n",
      "../cache/test7_1_t_store41_recent_stats_dow_1.csv\n",
      "(62416, 237)\n",
      "../cache/bkup2/test7_1_t_store42.csv\n"
     ]
    },
    {
     "name": "stderr",
     "output_type": "stream",
     "text": [
      "  6%|▋         | 1/16 [00:03<00:45,  3.02s/it]"
     ]
    },
    {
     "name": "stdout",
     "output_type": "stream",
     "text": [
      "date:2017-08-16, past_date:2015-08-19\n",
      "days:730, i: 3, days-i:727\n"
     ]
    },
    {
     "name": "stderr",
     "output_type": "stream",
     "text": [
      "\r",
      " 12%|█▎        | 2/16 [00:06<00:42,  3.07s/it]"
     ]
    },
    {
     "name": "stdout",
     "output_type": "stream",
     "text": [
      "date:2017-08-17, past_date:2015-08-20\n",
      "days:730, i: 3, days-i:727\n"
     ]
    },
    {
     "name": "stderr",
     "output_type": "stream",
     "text": [
      "100%|██████████| 16/16 [00:55<00:00,  3.50s/it]\n",
      "  6%|▋         | 1/16 [00:02<00:43,  2.92s/it]"
     ]
    },
    {
     "name": "stdout",
     "output_type": "stream",
     "text": [
      "date:2017-08-16, past_date:2015-08-19\n",
      "days:730, i: 3, days-i:727\n"
     ]
    },
    {
     "name": "stderr",
     "output_type": "stream",
     "text": [
      "\r",
      " 12%|█▎        | 2/16 [00:05<00:40,  2.92s/it]"
     ]
    },
    {
     "name": "stdout",
     "output_type": "stream",
     "text": [
      "date:2017-08-17, past_date:2015-08-20\n",
      "days:730, i: 3, days-i:727\n"
     ]
    },
    {
     "name": "stderr",
     "output_type": "stream",
     "text": [
      "100%|██████████| 16/16 [00:55<00:00,  3.45s/it]\n",
      "  6%|▋         | 1/16 [00:02<00:43,  2.92s/it]"
     ]
    },
    {
     "name": "stdout",
     "output_type": "stream",
     "text": [
      "date:2017-08-16, past_date:2015-08-19\n",
      "days:730, i: 3, days-i:727\n"
     ]
    },
    {
     "name": "stderr",
     "output_type": "stream",
     "text": [
      "\r",
      " 12%|█▎        | 2/16 [00:05<00:40,  2.92s/it]"
     ]
    },
    {
     "name": "stdout",
     "output_type": "stream",
     "text": [
      "date:2017-08-17, past_date:2015-08-20\n",
      "days:730, i: 3, days-i:727\n"
     ]
    },
    {
     "name": "stderr",
     "output_type": "stream",
     "text": [
      "100%|██████████| 16/16 [00:55<00:00,  3.45s/it]\n",
      "  6%|▋         | 1/16 [00:03<00:45,  3.04s/it]"
     ]
    },
    {
     "name": "stdout",
     "output_type": "stream",
     "text": [
      "date:2017-08-16, past_date:2015-08-19\n",
      "days:730, i: 3, days-i:727\n"
     ]
    },
    {
     "name": "stderr",
     "output_type": "stream",
     "text": [
      "\r",
      " 12%|█▎        | 2/16 [00:05<00:41,  2.98s/it]"
     ]
    },
    {
     "name": "stdout",
     "output_type": "stream",
     "text": [
      "date:2017-08-17, past_date:2015-08-20\n",
      "days:730, i: 3, days-i:727\n"
     ]
    },
    {
     "name": "stderr",
     "output_type": "stream",
     "text": [
      "100%|██████████| 16/16 [00:55<00:00,  3.47s/it]\n",
      "  6%|▋         | 1/16 [00:02<00:43,  2.93s/it]"
     ]
    },
    {
     "name": "stdout",
     "output_type": "stream",
     "text": [
      "date:2017-08-16, past_date:2015-08-19\n",
      "days:730, i: 3, days-i:727\n"
     ]
    },
    {
     "name": "stderr",
     "output_type": "stream",
     "text": [
      "\r",
      " 12%|█▎        | 2/16 [00:05<00:41,  2.93s/it]"
     ]
    },
    {
     "name": "stdout",
     "output_type": "stream",
     "text": [
      "date:2017-08-17, past_date:2015-08-20\n",
      "days:730, i: 3, days-i:727\n"
     ]
    },
    {
     "name": "stderr",
     "output_type": "stream",
     "text": [
      "100%|██████████| 16/16 [00:55<00:00,  3.45s/it]\n",
      "  6%|▋         | 1/16 [00:02<00:43,  2.93s/it]"
     ]
    },
    {
     "name": "stdout",
     "output_type": "stream",
     "text": [
      "date:2017-08-16, past_date:2015-08-19\n",
      "days:730, i: 3, days-i:727\n"
     ]
    },
    {
     "name": "stderr",
     "output_type": "stream",
     "text": [
      "\r",
      " 12%|█▎        | 2/16 [00:05<00:40,  2.93s/it]"
     ]
    },
    {
     "name": "stdout",
     "output_type": "stream",
     "text": [
      "date:2017-08-17, past_date:2015-08-20\n",
      "days:730, i: 3, days-i:727\n"
     ]
    },
    {
     "name": "stderr",
     "output_type": "stream",
     "text": [
      "100%|██████████| 16/16 [00:55<00:00,  3.45s/it]\n",
      "  6%|▋         | 1/16 [00:02<00:43,  2.93s/it]"
     ]
    },
    {
     "name": "stdout",
     "output_type": "stream",
     "text": [
      "date:2017-08-16, past_date:2015-08-19\n",
      "days:730, i: 3, days-i:727\n"
     ]
    },
    {
     "name": "stderr",
     "output_type": "stream",
     "text": [
      "\r",
      " 12%|█▎        | 2/16 [00:05<00:41,  2.93s/it]"
     ]
    },
    {
     "name": "stdout",
     "output_type": "stream",
     "text": [
      "date:2017-08-17, past_date:2015-08-20\n",
      "days:730, i: 3, days-i:727\n"
     ]
    },
    {
     "name": "stderr",
     "output_type": "stream",
     "text": [
      "100%|██████████| 16/16 [00:55<00:00,  3.45s/it]\n"
     ]
    },
    {
     "name": "stdout",
     "output_type": "stream",
     "text": [
      "(1524099, 28)\n",
      "(62416, 28)\n",
      "(16, 31)\n",
      "(16, 31)\n",
      "(16, 31)\n",
      "(16, 31)\n",
      "(16, 31)\n",
      "(16, 31)\n",
      "(16, 31)\n",
      "0\n",
      "236\n",
      "../cache/test7_1_t_store42_recent_stats_dow_1.csv\n",
      "(62416, 237)\n",
      "../cache/bkup2/test7_1_t_store43.csv\n"
     ]
    },
    {
     "name": "stderr",
     "output_type": "stream",
     "text": [
      "100%|██████████| 16/16 [01:13<00:00,  4.62s/it]\n",
      "100%|██████████| 16/16 [01:14<00:00,  4.64s/it]\n",
      "100%|██████████| 16/16 [01:13<00:00,  4.61s/it]\n",
      "100%|██████████| 16/16 [01:13<00:00,  4.61s/it]\n",
      "100%|██████████| 16/16 [01:13<00:00,  4.62s/it]\n",
      "100%|██████████| 16/16 [01:14<00:00,  4.63s/it]\n",
      "100%|██████████| 16/16 [01:13<00:00,  4.62s/it]\n"
     ]
    },
    {
     "name": "stdout",
     "output_type": "stream",
     "text": [
      "(2002110, 28)\n",
      "(62416, 28)\n",
      "(16, 31)\n",
      "(16, 31)\n",
      "(16, 31)\n",
      "(16, 31)\n",
      "(16, 31)\n",
      "(16, 31)\n",
      "(16, 31)\n",
      "0\n",
      "236\n",
      "../cache/test7_1_t_store43_recent_stats_dow_1.csv\n",
      "(62416, 237)\n",
      "../cache/bkup2/test7_1_t_store44.csv\n"
     ]
    },
    {
     "name": "stderr",
     "output_type": "stream",
     "text": [
      "100%|██████████| 16/16 [02:11<00:00,  8.21s/it]\n",
      "100%|██████████| 16/16 [02:11<00:00,  8.20s/it]\n",
      "100%|██████████| 16/16 [02:11<00:00,  8.21s/it]\n",
      "100%|██████████| 16/16 [02:10<00:00,  8.19s/it]\n",
      "100%|██████████| 16/16 [02:11<00:00,  8.20s/it]\n",
      "100%|██████████| 16/16 [02:11<00:00,  8.19s/it]\n",
      "100%|██████████| 16/16 [02:11<00:00,  8.22s/it]\n"
     ]
    },
    {
     "name": "stdout",
     "output_type": "stream",
     "text": [
      "(3575505, 28)\n",
      "(62416, 28)\n",
      "(16, 31)\n",
      "(16, 31)\n",
      "(16, 31)\n",
      "(16, 31)\n",
      "(16, 31)\n",
      "(16, 31)\n",
      "(16, 31)\n",
      "0\n",
      "236\n",
      "../cache/test7_1_t_store44_recent_stats_dow_1.csv\n",
      "(62416, 237)\n",
      "../cache/bkup2/test7_1_t_store45.csv\n"
     ]
    },
    {
     "name": "stderr",
     "output_type": "stream",
     "text": [
      "100%|██████████| 16/16 [02:10<00:00,  8.14s/it]\n",
      "100%|██████████| 16/16 [02:10<00:00,  8.13s/it]\n",
      "100%|██████████| 16/16 [02:10<00:00,  8.13s/it]\n",
      "100%|██████████| 16/16 [02:10<00:00,  8.13s/it]\n",
      "100%|██████████| 16/16 [02:10<00:00,  8.13s/it]\n",
      "100%|██████████| 16/16 [02:10<00:00,  8.13s/it]\n",
      "100%|██████████| 16/16 [02:10<00:00,  8.14s/it]\n"
     ]
    },
    {
     "name": "stdout",
     "output_type": "stream",
     "text": [
      "(3546660, 28)\n",
      "(62416, 28)\n",
      "(16, 31)\n",
      "(16, 31)\n",
      "(16, 31)\n",
      "(16, 31)\n",
      "(16, 31)\n",
      "(16, 31)\n",
      "(16, 31)\n",
      "0\n",
      "236\n",
      "../cache/test7_1_t_store45_recent_stats_dow_1.csv\n",
      "(62416, 237)\n",
      "../cache/bkup2/test7_1_t_store46.csv\n"
     ]
    },
    {
     "name": "stderr",
     "output_type": "stream",
     "text": [
      "100%|██████████| 16/16 [02:05<00:00,  7.86s/it]\n",
      "100%|██████████| 16/16 [02:05<00:00,  7.84s/it]\n",
      "100%|██████████| 16/16 [02:05<00:00,  7.83s/it]\n",
      "100%|██████████| 16/16 [02:05<00:00,  7.83s/it]\n",
      "100%|██████████| 16/16 [02:05<00:00,  7.84s/it]\n",
      "100%|██████████| 16/16 [02:06<00:00,  7.88s/it]\n",
      "100%|██████████| 16/16 [02:05<00:00,  7.83s/it]\n"
     ]
    },
    {
     "name": "stdout",
     "output_type": "stream",
     "text": [
      "(3416306, 28)\n",
      "(62416, 28)\n",
      "(16, 31)\n",
      "(16, 31)\n",
      "(16, 31)\n",
      "(16, 31)\n",
      "(16, 31)\n",
      "(16, 31)\n",
      "(16, 31)\n",
      "0\n",
      "236\n",
      "../cache/test7_1_t_store46_recent_stats_dow_1.csv\n",
      "(62416, 237)\n",
      "../cache/bkup2/test7_1_t_store47.csv\n"
     ]
    },
    {
     "name": "stderr",
     "output_type": "stream",
     "text": [
      "100%|██████████| 16/16 [02:09<00:00,  8.11s/it]\n",
      "100%|██████████| 16/16 [02:09<00:00,  8.10s/it]\n",
      "100%|██████████| 16/16 [02:09<00:00,  8.10s/it]\n",
      "100%|██████████| 16/16 [02:09<00:00,  8.10s/it]\n",
      "100%|██████████| 16/16 [02:09<00:00,  8.10s/it]\n",
      "100%|██████████| 16/16 [02:09<00:00,  8.10s/it]\n",
      "100%|██████████| 16/16 [02:09<00:00,  8.10s/it]\n"
     ]
    },
    {
     "name": "stdout",
     "output_type": "stream",
     "text": [
      "(3519823, 28)\n",
      "(62416, 28)\n",
      "(16, 31)\n",
      "(16, 31)\n",
      "(16, 31)\n",
      "(16, 31)\n",
      "(16, 31)\n",
      "(16, 31)\n",
      "(16, 31)\n",
      "0\n",
      "236\n",
      "../cache/test7_1_t_store47_recent_stats_dow_1.csv\n",
      "(62416, 237)\n",
      "../cache/bkup2/test7_1_t_store48.csv\n"
     ]
    },
    {
     "name": "stderr",
     "output_type": "stream",
     "text": [
      "100%|██████████| 16/16 [02:01<00:00,  7.62s/it]\n",
      "100%|██████████| 16/16 [02:01<00:00,  7.61s/it]\n",
      "100%|██████████| 16/16 [02:01<00:00,  7.59s/it]\n",
      "100%|██████████| 16/16 [02:01<00:00,  7.59s/it]\n",
      "100%|██████████| 16/16 [02:01<00:00,  7.59s/it]\n",
      "100%|██████████| 16/16 [02:01<00:00,  7.59s/it]\n",
      "100%|██████████| 16/16 [02:01<00:00,  7.59s/it]\n"
     ]
    },
    {
     "name": "stdout",
     "output_type": "stream",
     "text": [
      "(3298939, 28)\n",
      "(62416, 28)\n",
      "(16, 31)\n",
      "(16, 31)\n",
      "(16, 31)\n",
      "(16, 31)\n",
      "(16, 31)\n",
      "(16, 31)\n",
      "(16, 31)\n",
      "0\n",
      "236\n",
      "../cache/test7_1_t_store48_recent_stats_dow_1.csv\n",
      "(62416, 237)\n",
      "../cache/bkup2/test7_1_t_store49.csv\n"
     ]
    },
    {
     "name": "stderr",
     "output_type": "stream",
     "text": [
      "100%|██████████| 16/16 [02:04<00:00,  7.81s/it]\n",
      "100%|██████████| 16/16 [02:04<00:00,  7.80s/it]\n",
      "100%|██████████| 16/16 [02:04<00:00,  7.80s/it]\n",
      "100%|██████████| 16/16 [02:04<00:00,  7.81s/it]\n",
      "100%|██████████| 16/16 [02:05<00:00,  7.85s/it]\n",
      "100%|██████████| 16/16 [02:04<00:00,  7.80s/it]\n",
      "100%|██████████| 16/16 [02:04<00:00,  7.80s/it]\n"
     ]
    },
    {
     "name": "stdout",
     "output_type": "stream",
     "text": [
      "(3404947, 28)\n",
      "(62416, 28)\n",
      "(16, 31)\n",
      "(16, 31)\n",
      "(16, 31)\n",
      "(16, 31)\n",
      "(16, 31)\n",
      "(16, 31)\n",
      "(16, 31)\n",
      "0\n",
      "236\n",
      "../cache/test7_1_t_store49_recent_stats_dow_1.csv\n",
      "(62416, 237)\n",
      "../cache/bkup2/test7_1_t_store50.csv\n"
     ]
    },
    {
     "name": "stderr",
     "output_type": "stream",
     "text": [
      "100%|██████████| 16/16 [01:59<00:00,  7.48s/it]\n",
      "100%|██████████| 16/16 [01:59<00:00,  7.48s/it]\n",
      "100%|██████████| 16/16 [02:00<00:00,  7.52s/it]\n",
      "100%|██████████| 16/16 [01:59<00:00,  7.47s/it]\n",
      "100%|██████████| 16/16 [01:59<00:00,  7.48s/it]\n",
      "100%|██████████| 16/16 [01:59<00:00,  7.48s/it]\n",
      "100%|██████████| 16/16 [01:59<00:00,  7.50s/it]\n"
     ]
    },
    {
     "name": "stdout",
     "output_type": "stream",
     "text": [
      "(3254982, 28)\n",
      "(62416, 28)\n",
      "(16, 31)\n",
      "(16, 31)\n",
      "(16, 31)\n",
      "(16, 31)\n",
      "(16, 31)\n",
      "(16, 31)\n",
      "(16, 31)\n",
      "0\n",
      "236\n",
      "../cache/test7_1_t_store50_recent_stats_dow_1.csv\n",
      "(62416, 237)\n",
      "../cache/bkup2/test7_1_t_store51.csv\n"
     ]
    },
    {
     "name": "stderr",
     "output_type": "stream",
     "text": [
      "100%|██████████| 16/16 [01:50<00:00,  6.93s/it]\n",
      "100%|██████████| 16/16 [01:50<00:00,  6.93s/it]\n",
      "100%|██████████| 16/16 [01:50<00:00,  6.93s/it]\n",
      "100%|██████████| 16/16 [01:55<00:00,  7.23s/it]\n",
      "100%|██████████| 16/16 [01:56<00:00,  7.28s/it]\n",
      "100%|██████████| 16/16 [01:53<00:00,  7.07s/it]\n",
      "100%|██████████| 16/16 [01:55<00:00,  7.20s/it]\n"
     ]
    },
    {
     "name": "stdout",
     "output_type": "stream",
     "text": [
      "(3022447, 28)\n",
      "(62416, 28)\n",
      "(16, 31)\n",
      "(16, 31)\n",
      "(16, 31)\n",
      "(16, 31)\n",
      "(16, 31)\n",
      "(16, 31)\n",
      "(16, 31)\n",
      "0\n",
      "236\n",
      "../cache/test7_1_t_store51_recent_stats_dow_1.csv\n",
      "(62416, 237)\n",
      "../cache/bkup2/test7_1_t_store52.csv\n"
     ]
    },
    {
     "name": "stderr",
     "output_type": "stream",
     "text": [
      "  6%|▋         | 1/16 [00:00<00:06,  2.22it/s]"
     ]
    },
    {
     "name": "stdout",
     "output_type": "stream",
     "text": [
      "date:2017-08-16, past_date:2017-02-19\n",
      "days:180, i: 3, days-i:177\n",
      "date:2017-08-16, past_date:2016-08-18\n",
      "days:365, i: 3, days-i:362\n",
      "date:2017-08-16, past_date:2015-08-19\n",
      "days:730, i: 3, days-i:727\n"
     ]
    },
    {
     "name": "stderr",
     "output_type": "stream",
     "text": [
      "\r",
      " 12%|█▎        | 2/16 [00:00<00:06,  2.24it/s]"
     ]
    },
    {
     "name": "stdout",
     "output_type": "stream",
     "text": [
      "date:2017-08-17, past_date:2017-02-20\n",
      "days:180, i: 3, days-i:177\n",
      "date:2017-08-17, past_date:2016-08-19\n",
      "days:365, i: 3, days-i:362\n",
      "date:2017-08-17, past_date:2015-08-20\n",
      "days:730, i: 3, days-i:727\n"
     ]
    },
    {
     "name": "stderr",
     "output_type": "stream",
     "text": [
      "\r",
      " 19%|█▉        | 3/16 [00:01<00:05,  2.25it/s]"
     ]
    },
    {
     "name": "stdout",
     "output_type": "stream",
     "text": [
      "date:2017-08-18, past_date:2017-02-21\n",
      "days:180, i: 3, days-i:177\n",
      "date:2017-08-18, past_date:2016-08-20\n",
      "days:365, i: 3, days-i:362\n",
      "date:2017-08-18, past_date:2015-08-21\n",
      "days:730, i: 3, days-i:727\n"
     ]
    },
    {
     "name": "stderr",
     "output_type": "stream",
     "text": [
      "\r",
      " 25%|██▌       | 4/16 [00:01<00:05,  2.25it/s]"
     ]
    },
    {
     "name": "stdout",
     "output_type": "stream",
     "text": [
      "date:2017-08-19, past_date:2017-02-22\n",
      "days:180, i: 3, days-i:177\n",
      "date:2017-08-19, past_date:2016-08-21\n",
      "days:365, i: 3, days-i:362\n",
      "date:2017-08-19, past_date:2015-08-22\n",
      "days:730, i: 3, days-i:727\n"
     ]
    },
    {
     "name": "stderr",
     "output_type": "stream",
     "text": [
      "\r",
      " 31%|███▏      | 5/16 [00:02<00:04,  2.25it/s]"
     ]
    },
    {
     "name": "stdout",
     "output_type": "stream",
     "text": [
      "date:2017-08-20, past_date:2017-02-23\n",
      "days:180, i: 3, days-i:177\n",
      "date:2017-08-20, past_date:2016-08-22\n",
      "days:365, i: 3, days-i:362\n",
      "date:2017-08-20, past_date:2015-08-23\n",
      "days:730, i: 3, days-i:727\n"
     ]
    },
    {
     "name": "stderr",
     "output_type": "stream",
     "text": [
      "\r",
      " 38%|███▊      | 6/16 [00:02<00:04,  2.25it/s]"
     ]
    },
    {
     "name": "stdout",
     "output_type": "stream",
     "text": [
      "date:2017-08-21, past_date:2017-02-24\n",
      "days:180, i: 3, days-i:177\n",
      "date:2017-08-21, past_date:2016-08-23\n",
      "days:365, i: 3, days-i:362\n",
      "date:2017-08-21, past_date:2015-08-24\n",
      "days:730, i: 3, days-i:727\n"
     ]
    },
    {
     "name": "stderr",
     "output_type": "stream",
     "text": [
      "\r",
      " 44%|████▍     | 7/16 [00:03<00:03,  2.25it/s]"
     ]
    },
    {
     "name": "stdout",
     "output_type": "stream",
     "text": [
      "date:2017-08-22, past_date:2017-02-25\n",
      "days:180, i: 3, days-i:177\n",
      "date:2017-08-22, past_date:2016-08-24\n",
      "days:365, i: 3, days-i:362\n",
      "date:2017-08-22, past_date:2015-08-25\n",
      "days:730, i: 3, days-i:727\n"
     ]
    },
    {
     "name": "stderr",
     "output_type": "stream",
     "text": [
      "\r",
      " 50%|█████     | 8/16 [00:03<00:03,  2.26it/s]"
     ]
    },
    {
     "name": "stdout",
     "output_type": "stream",
     "text": [
      "date:2017-08-23, past_date:2017-02-26\n",
      "days:180, i: 3, days-i:177\n",
      "date:2017-08-23, past_date:2016-08-25\n",
      "days:365, i: 3, days-i:362\n",
      "date:2017-08-23, past_date:2015-08-26\n",
      "days:730, i: 3, days-i:727\n"
     ]
    },
    {
     "name": "stderr",
     "output_type": "stream",
     "text": [
      "\r",
      " 56%|█████▋    | 9/16 [00:04<00:03,  2.22it/s]"
     ]
    },
    {
     "name": "stdout",
     "output_type": "stream",
     "text": [
      "date:2017-08-24, past_date:2017-02-27\n",
      "days:180, i: 3, days-i:177\n",
      "date:2017-08-24, past_date:2016-08-26\n",
      "days:365, i: 3, days-i:362\n",
      "date:2017-08-24, past_date:2015-08-27\n",
      "days:730, i: 3, days-i:727\n"
     ]
    },
    {
     "name": "stderr",
     "output_type": "stream",
     "text": [
      "\r",
      " 62%|██████▎   | 10/16 [00:04<00:02,  2.22it/s]"
     ]
    },
    {
     "name": "stdout",
     "output_type": "stream",
     "text": [
      "date:2017-08-25, past_date:2017-02-28\n",
      "days:180, i: 3, days-i:177\n",
      "date:2017-08-25, past_date:2016-08-27\n",
      "days:365, i: 3, days-i:362\n",
      "date:2017-08-25, past_date:2015-08-28\n",
      "days:730, i: 3, days-i:727\n"
     ]
    },
    {
     "name": "stderr",
     "output_type": "stream",
     "text": [
      "\r",
      " 69%|██████▉   | 11/16 [00:04<00:02,  2.23it/s]"
     ]
    },
    {
     "name": "stdout",
     "output_type": "stream",
     "text": [
      "date:2017-08-26, past_date:2017-03-01\n",
      "days:180, i: 3, days-i:177\n",
      "date:2017-08-26, past_date:2016-08-28\n",
      "days:365, i: 3, days-i:362\n",
      "date:2017-08-26, past_date:2015-08-29\n",
      "days:730, i: 3, days-i:727\n"
     ]
    },
    {
     "name": "stderr",
     "output_type": "stream",
     "text": [
      "\r",
      " 75%|███████▌  | 12/16 [00:05<00:01,  2.23it/s]"
     ]
    },
    {
     "name": "stdout",
     "output_type": "stream",
     "text": [
      "date:2017-08-27, past_date:2017-03-02\n",
      "days:180, i: 3, days-i:177\n",
      "date:2017-08-27, past_date:2016-08-29\n",
      "days:365, i: 3, days-i:362\n",
      "date:2017-08-27, past_date:2015-08-30\n",
      "days:730, i: 3, days-i:727\n"
     ]
    },
    {
     "name": "stderr",
     "output_type": "stream",
     "text": [
      "\r",
      " 81%|████████▏ | 13/16 [00:05<00:01,  2.23it/s]"
     ]
    },
    {
     "name": "stdout",
     "output_type": "stream",
     "text": [
      "date:2017-08-28, past_date:2017-03-03\n",
      "days:180, i: 3, days-i:177\n",
      "date:2017-08-28, past_date:2016-08-30\n",
      "days:365, i: 3, days-i:362\n",
      "date:2017-08-28, past_date:2015-08-31\n",
      "days:730, i: 3, days-i:727\n"
     ]
    },
    {
     "name": "stderr",
     "output_type": "stream",
     "text": [
      "\r",
      " 88%|████████▊ | 14/16 [00:06<00:00,  2.23it/s]"
     ]
    },
    {
     "name": "stdout",
     "output_type": "stream",
     "text": [
      "date:2017-08-29, past_date:2017-03-04\n",
      "days:180, i: 3, days-i:177\n",
      "date:2017-08-29, past_date:2016-08-31\n",
      "days:365, i: 3, days-i:362\n",
      "date:2017-08-29, past_date:2015-09-01\n",
      "days:730, i: 3, days-i:727\n"
     ]
    },
    {
     "name": "stderr",
     "output_type": "stream",
     "text": [
      "\r",
      " 94%|█████████▍| 15/16 [00:06<00:00,  2.24it/s]"
     ]
    },
    {
     "name": "stdout",
     "output_type": "stream",
     "text": [
      "date:2017-08-30, past_date:2017-03-05\n",
      "days:180, i: 3, days-i:177\n",
      "date:2017-08-30, past_date:2016-09-01\n",
      "days:365, i: 3, days-i:362\n",
      "date:2017-08-30, past_date:2015-09-02\n",
      "days:730, i: 3, days-i:727\n"
     ]
    },
    {
     "name": "stderr",
     "output_type": "stream",
     "text": [
      "100%|██████████| 16/16 [00:07<00:00,  2.24it/s]\n",
      "  0%|          | 0/16 [00:00<?, ?it/s]"
     ]
    },
    {
     "name": "stdout",
     "output_type": "stream",
     "text": [
      "date:2017-08-31, past_date:2017-03-06\n",
      "days:180, i: 3, days-i:177\n",
      "date:2017-08-31, past_date:2016-09-02\n",
      "days:365, i: 3, days-i:362\n",
      "date:2017-08-31, past_date:2015-09-03\n",
      "days:730, i: 3, days-i:727\n"
     ]
    },
    {
     "name": "stderr",
     "output_type": "stream",
     "text": [
      "\r",
      "  6%|▋         | 1/16 [00:00<00:08,  1.80it/s]"
     ]
    },
    {
     "name": "stdout",
     "output_type": "stream",
     "text": [
      "date:2017-08-16, past_date:2017-02-19\n",
      "days:180, i: 3, days-i:177\n",
      "date:2017-08-16, past_date:2016-08-18\n",
      "days:365, i: 3, days-i:362\n",
      "date:2017-08-16, past_date:2015-08-19\n",
      "days:730, i: 3, days-i:727\n"
     ]
    },
    {
     "name": "stderr",
     "output_type": "stream",
     "text": [
      "\r",
      " 12%|█▎        | 2/16 [00:01<00:07,  1.97it/s]"
     ]
    },
    {
     "name": "stdout",
     "output_type": "stream",
     "text": [
      "date:2017-08-17, past_date:2017-02-20\n",
      "days:180, i: 3, days-i:177\n",
      "date:2017-08-17, past_date:2016-08-19\n",
      "days:365, i: 3, days-i:362\n",
      "date:2017-08-17, past_date:2015-08-20\n",
      "days:730, i: 3, days-i:727\n"
     ]
    },
    {
     "name": "stderr",
     "output_type": "stream",
     "text": [
      "\r",
      " 19%|█▉        | 3/16 [00:01<00:06,  2.06it/s]"
     ]
    },
    {
     "name": "stdout",
     "output_type": "stream",
     "text": [
      "date:2017-08-18, past_date:2017-02-21\n",
      "days:180, i: 3, days-i:177\n",
      "date:2017-08-18, past_date:2016-08-20\n",
      "days:365, i: 3, days-i:362\n",
      "date:2017-08-18, past_date:2015-08-21\n",
      "days:730, i: 3, days-i:727\n"
     ]
    },
    {
     "name": "stderr",
     "output_type": "stream",
     "text": [
      "\r",
      " 25%|██▌       | 4/16 [00:01<00:05,  2.11it/s]"
     ]
    },
    {
     "name": "stdout",
     "output_type": "stream",
     "text": [
      "date:2017-08-19, past_date:2017-02-22\n",
      "days:180, i: 3, days-i:177\n",
      "date:2017-08-19, past_date:2016-08-21\n",
      "days:365, i: 3, days-i:362\n",
      "date:2017-08-19, past_date:2015-08-22\n",
      "days:730, i: 3, days-i:727\n"
     ]
    },
    {
     "name": "stderr",
     "output_type": "stream",
     "text": [
      "\r",
      " 31%|███▏      | 5/16 [00:02<00:05,  2.13it/s]"
     ]
    },
    {
     "name": "stdout",
     "output_type": "stream",
     "text": [
      "date:2017-08-20, past_date:2017-02-23\n",
      "days:180, i: 3, days-i:177\n",
      "date:2017-08-20, past_date:2016-08-22\n",
      "days:365, i: 3, days-i:362\n",
      "date:2017-08-20, past_date:2015-08-23\n",
      "days:730, i: 3, days-i:727\n"
     ]
    },
    {
     "name": "stderr",
     "output_type": "stream",
     "text": [
      "\r",
      " 38%|███▊      | 6/16 [00:02<00:04,  2.14it/s]"
     ]
    },
    {
     "name": "stdout",
     "output_type": "stream",
     "text": [
      "date:2017-08-21, past_date:2017-02-24\n",
      "days:180, i: 3, days-i:177\n",
      "date:2017-08-21, past_date:2016-08-23\n",
      "days:365, i: 3, days-i:362\n",
      "date:2017-08-21, past_date:2015-08-24\n",
      "days:730, i: 3, days-i:727\n"
     ]
    },
    {
     "name": "stderr",
     "output_type": "stream",
     "text": [
      "\r",
      " 44%|████▍     | 7/16 [00:03<00:04,  2.14it/s]"
     ]
    },
    {
     "name": "stdout",
     "output_type": "stream",
     "text": [
      "date:2017-08-22, past_date:2017-02-25\n",
      "days:180, i: 3, days-i:177\n",
      "date:2017-08-22, past_date:2016-08-24\n",
      "days:365, i: 3, days-i:362\n",
      "date:2017-08-22, past_date:2015-08-25\n",
      "days:730, i: 3, days-i:727\n"
     ]
    },
    {
     "name": "stderr",
     "output_type": "stream",
     "text": [
      "\r",
      " 50%|█████     | 8/16 [00:03<00:03,  2.15it/s]"
     ]
    },
    {
     "name": "stdout",
     "output_type": "stream",
     "text": [
      "date:2017-08-23, past_date:2017-02-26\n",
      "days:180, i: 3, days-i:177\n",
      "date:2017-08-23, past_date:2016-08-25\n",
      "days:365, i: 3, days-i:362\n",
      "date:2017-08-23, past_date:2015-08-26\n",
      "days:730, i: 3, days-i:727\n"
     ]
    },
    {
     "name": "stderr",
     "output_type": "stream",
     "text": [
      "\r",
      " 56%|█████▋    | 9/16 [00:04<00:03,  2.16it/s]"
     ]
    },
    {
     "name": "stdout",
     "output_type": "stream",
     "text": [
      "date:2017-08-24, past_date:2017-02-27\n",
      "days:180, i: 3, days-i:177\n",
      "date:2017-08-24, past_date:2016-08-26\n",
      "days:365, i: 3, days-i:362\n",
      "date:2017-08-24, past_date:2015-08-27\n",
      "days:730, i: 3, days-i:727\n"
     ]
    },
    {
     "name": "stderr",
     "output_type": "stream",
     "text": [
      "\r",
      " 62%|██████▎   | 10/16 [00:04<00:02,  2.15it/s]"
     ]
    },
    {
     "name": "stdout",
     "output_type": "stream",
     "text": [
      "date:2017-08-25, past_date:2017-02-28\n",
      "days:180, i: 3, days-i:177\n",
      "date:2017-08-25, past_date:2016-08-27\n",
      "days:365, i: 3, days-i:362\n",
      "date:2017-08-25, past_date:2015-08-28\n",
      "days:730, i: 3, days-i:727\n"
     ]
    },
    {
     "name": "stderr",
     "output_type": "stream",
     "text": [
      "\r",
      " 69%|██████▉   | 11/16 [00:05<00:02,  2.15it/s]"
     ]
    },
    {
     "name": "stdout",
     "output_type": "stream",
     "text": [
      "date:2017-08-26, past_date:2017-03-01\n",
      "days:180, i: 3, days-i:177\n",
      "date:2017-08-26, past_date:2016-08-28\n",
      "days:365, i: 3, days-i:362\n",
      "date:2017-08-26, past_date:2015-08-29\n",
      "days:730, i: 3, days-i:727\n"
     ]
    },
    {
     "name": "stderr",
     "output_type": "stream",
     "text": [
      "\r",
      " 75%|███████▌  | 12/16 [00:05<00:01,  2.16it/s]"
     ]
    },
    {
     "name": "stdout",
     "output_type": "stream",
     "text": [
      "date:2017-08-27, past_date:2017-03-02\n",
      "days:180, i: 3, days-i:177\n",
      "date:2017-08-27, past_date:2016-08-29\n",
      "days:365, i: 3, days-i:362\n",
      "date:2017-08-27, past_date:2015-08-30\n",
      "days:730, i: 3, days-i:727\n"
     ]
    },
    {
     "name": "stderr",
     "output_type": "stream",
     "text": [
      "\r",
      " 81%|████████▏ | 13/16 [00:06<00:01,  2.16it/s]"
     ]
    },
    {
     "name": "stdout",
     "output_type": "stream",
     "text": [
      "date:2017-08-28, past_date:2017-03-03\n",
      "days:180, i: 3, days-i:177\n",
      "date:2017-08-28, past_date:2016-08-30\n",
      "days:365, i: 3, days-i:362\n",
      "date:2017-08-28, past_date:2015-08-31\n",
      "days:730, i: 3, days-i:727\n"
     ]
    },
    {
     "name": "stderr",
     "output_type": "stream",
     "text": [
      "\r",
      " 88%|████████▊ | 14/16 [00:06<00:00,  2.17it/s]"
     ]
    },
    {
     "name": "stdout",
     "output_type": "stream",
     "text": [
      "date:2017-08-29, past_date:2017-03-04\n",
      "days:180, i: 3, days-i:177\n",
      "date:2017-08-29, past_date:2016-08-31\n",
      "days:365, i: 3, days-i:362\n",
      "date:2017-08-29, past_date:2015-09-01\n",
      "days:730, i: 3, days-i:727\n"
     ]
    },
    {
     "name": "stderr",
     "output_type": "stream",
     "text": [
      "\r",
      " 94%|█████████▍| 15/16 [00:06<00:00,  2.17it/s]"
     ]
    },
    {
     "name": "stdout",
     "output_type": "stream",
     "text": [
      "date:2017-08-30, past_date:2017-03-05\n",
      "days:180, i: 3, days-i:177\n",
      "date:2017-08-30, past_date:2016-09-01\n",
      "days:365, i: 3, days-i:362\n",
      "date:2017-08-30, past_date:2015-09-02\n",
      "days:730, i: 3, days-i:727\n"
     ]
    },
    {
     "name": "stderr",
     "output_type": "stream",
     "text": [
      "100%|██████████| 16/16 [00:07<00:00,  2.18it/s]\n",
      "  0%|          | 0/16 [00:00<?, ?it/s]"
     ]
    },
    {
     "name": "stdout",
     "output_type": "stream",
     "text": [
      "date:2017-08-31, past_date:2017-03-06\n",
      "days:180, i: 3, days-i:177\n",
      "date:2017-08-31, past_date:2016-09-02\n",
      "days:365, i: 3, days-i:362\n",
      "date:2017-08-31, past_date:2015-09-03\n",
      "days:730, i: 3, days-i:727\n"
     ]
    },
    {
     "name": "stderr",
     "output_type": "stream",
     "text": [
      "\r",
      "  6%|▋         | 1/16 [00:00<00:06,  2.25it/s]"
     ]
    },
    {
     "name": "stdout",
     "output_type": "stream",
     "text": [
      "date:2017-08-16, past_date:2017-02-19\n",
      "days:180, i: 3, days-i:177\n",
      "date:2017-08-16, past_date:2016-08-18\n",
      "days:365, i: 3, days-i:362\n",
      "date:2017-08-16, past_date:2015-08-19\n",
      "days:730, i: 3, days-i:727\n"
     ]
    },
    {
     "name": "stderr",
     "output_type": "stream",
     "text": [
      "\r",
      " 12%|█▎        | 2/16 [00:00<00:06,  2.24it/s]"
     ]
    },
    {
     "name": "stdout",
     "output_type": "stream",
     "text": [
      "date:2017-08-17, past_date:2017-02-20\n",
      "days:180, i: 3, days-i:177\n",
      "date:2017-08-17, past_date:2016-08-19\n",
      "days:365, i: 3, days-i:362\n",
      "date:2017-08-17, past_date:2015-08-20\n",
      "days:730, i: 3, days-i:727\n"
     ]
    },
    {
     "name": "stderr",
     "output_type": "stream",
     "text": [
      "\r",
      " 19%|█▉        | 3/16 [00:01<00:05,  2.24it/s]"
     ]
    },
    {
     "name": "stdout",
     "output_type": "stream",
     "text": [
      "date:2017-08-18, past_date:2017-02-21\n",
      "days:180, i: 3, days-i:177\n",
      "date:2017-08-18, past_date:2016-08-20\n",
      "days:365, i: 3, days-i:362\n",
      "date:2017-08-18, past_date:2015-08-21\n",
      "days:730, i: 3, days-i:727\n"
     ]
    },
    {
     "name": "stderr",
     "output_type": "stream",
     "text": [
      "\r",
      " 25%|██▌       | 4/16 [00:01<00:05,  2.24it/s]"
     ]
    },
    {
     "name": "stdout",
     "output_type": "stream",
     "text": [
      "date:2017-08-19, past_date:2017-02-22\n",
      "days:180, i: 3, days-i:177\n",
      "date:2017-08-19, past_date:2016-08-21\n",
      "days:365, i: 3, days-i:362\n",
      "date:2017-08-19, past_date:2015-08-22\n",
      "days:730, i: 3, days-i:727\n"
     ]
    },
    {
     "name": "stderr",
     "output_type": "stream",
     "text": [
      "\r",
      " 31%|███▏      | 5/16 [00:02<00:04,  2.24it/s]"
     ]
    },
    {
     "name": "stdout",
     "output_type": "stream",
     "text": [
      "date:2017-08-20, past_date:2017-02-23\n",
      "days:180, i: 3, days-i:177\n",
      "date:2017-08-20, past_date:2016-08-22\n",
      "days:365, i: 3, days-i:362\n",
      "date:2017-08-20, past_date:2015-08-23\n",
      "days:730, i: 3, days-i:727\n"
     ]
    },
    {
     "name": "stderr",
     "output_type": "stream",
     "text": [
      "\r",
      " 38%|███▊      | 6/16 [00:02<00:04,  2.24it/s]"
     ]
    },
    {
     "name": "stdout",
     "output_type": "stream",
     "text": [
      "date:2017-08-21, past_date:2017-02-24\n",
      "days:180, i: 3, days-i:177\n",
      "date:2017-08-21, past_date:2016-08-23\n",
      "days:365, i: 3, days-i:362\n",
      "date:2017-08-21, past_date:2015-08-24\n",
      "days:730, i: 3, days-i:727\n"
     ]
    },
    {
     "name": "stderr",
     "output_type": "stream",
     "text": [
      "\r",
      " 44%|████▍     | 7/16 [00:03<00:04,  2.24it/s]"
     ]
    },
    {
     "name": "stdout",
     "output_type": "stream",
     "text": [
      "date:2017-08-22, past_date:2017-02-25\n",
      "days:180, i: 3, days-i:177\n",
      "date:2017-08-22, past_date:2016-08-24\n",
      "days:365, i: 3, days-i:362\n",
      "date:2017-08-22, past_date:2015-08-25\n",
      "days:730, i: 3, days-i:727\n"
     ]
    },
    {
     "name": "stderr",
     "output_type": "stream",
     "text": [
      "\r",
      " 50%|█████     | 8/16 [00:03<00:03,  2.24it/s]"
     ]
    },
    {
     "name": "stdout",
     "output_type": "stream",
     "text": [
      "date:2017-08-23, past_date:2017-02-26\n",
      "days:180, i: 3, days-i:177\n",
      "date:2017-08-23, past_date:2016-08-25\n",
      "days:365, i: 3, days-i:362\n",
      "date:2017-08-23, past_date:2015-08-26\n",
      "days:730, i: 3, days-i:727\n"
     ]
    },
    {
     "name": "stderr",
     "output_type": "stream",
     "text": [
      "\r",
      " 56%|█████▋    | 9/16 [00:04<00:03,  2.24it/s]"
     ]
    },
    {
     "name": "stdout",
     "output_type": "stream",
     "text": [
      "date:2017-08-24, past_date:2017-02-27\n",
      "days:180, i: 3, days-i:177\n",
      "date:2017-08-24, past_date:2016-08-26\n",
      "days:365, i: 3, days-i:362\n",
      "date:2017-08-24, past_date:2015-08-27\n",
      "days:730, i: 3, days-i:727\n"
     ]
    },
    {
     "name": "stderr",
     "output_type": "stream",
     "text": [
      "\r",
      " 62%|██████▎   | 10/16 [00:04<00:02,  2.24it/s]"
     ]
    },
    {
     "name": "stdout",
     "output_type": "stream",
     "text": [
      "date:2017-08-25, past_date:2017-02-28\n",
      "days:180, i: 3, days-i:177\n",
      "date:2017-08-25, past_date:2016-08-27\n",
      "days:365, i: 3, days-i:362\n",
      "date:2017-08-25, past_date:2015-08-28\n",
      "days:730, i: 3, days-i:727\n"
     ]
    },
    {
     "name": "stderr",
     "output_type": "stream",
     "text": [
      "\r",
      " 69%|██████▉   | 11/16 [00:04<00:02,  2.24it/s]"
     ]
    },
    {
     "name": "stdout",
     "output_type": "stream",
     "text": [
      "date:2017-08-26, past_date:2017-03-01\n",
      "days:180, i: 3, days-i:177\n",
      "date:2017-08-26, past_date:2016-08-28\n",
      "days:365, i: 3, days-i:362\n",
      "date:2017-08-26, past_date:2015-08-29\n",
      "days:730, i: 3, days-i:727\n"
     ]
    },
    {
     "name": "stderr",
     "output_type": "stream",
     "text": [
      "\r",
      " 75%|███████▌  | 12/16 [00:05<00:01,  2.17it/s]"
     ]
    },
    {
     "name": "stdout",
     "output_type": "stream",
     "text": [
      "date:2017-08-27, past_date:2017-03-02\n",
      "days:180, i: 3, days-i:177\n",
      "date:2017-08-27, past_date:2016-08-29\n",
      "days:365, i: 3, days-i:362\n",
      "date:2017-08-27, past_date:2015-08-30\n",
      "days:730, i: 3, days-i:727\n"
     ]
    },
    {
     "name": "stderr",
     "output_type": "stream",
     "text": [
      "\r",
      " 81%|████████▏ | 13/16 [00:06<00:01,  2.12it/s]"
     ]
    },
    {
     "name": "stdout",
     "output_type": "stream",
     "text": [
      "date:2017-08-28, past_date:2017-03-03\n",
      "days:180, i: 3, days-i:177\n",
      "date:2017-08-28, past_date:2016-08-30\n",
      "days:365, i: 3, days-i:362\n",
      "date:2017-08-28, past_date:2015-08-31\n",
      "days:730, i: 3, days-i:727\n"
     ]
    },
    {
     "name": "stderr",
     "output_type": "stream",
     "text": [
      "\r",
      " 88%|████████▊ | 14/16 [00:06<00:00,  2.13it/s]"
     ]
    },
    {
     "name": "stdout",
     "output_type": "stream",
     "text": [
      "date:2017-08-29, past_date:2017-03-04\n",
      "days:180, i: 3, days-i:177\n",
      "date:2017-08-29, past_date:2016-08-31\n",
      "days:365, i: 3, days-i:362\n",
      "date:2017-08-29, past_date:2015-09-01\n",
      "days:730, i: 3, days-i:727\n"
     ]
    },
    {
     "name": "stderr",
     "output_type": "stream",
     "text": [
      "\r",
      " 94%|█████████▍| 15/16 [00:07<00:00,  2.13it/s]"
     ]
    },
    {
     "name": "stdout",
     "output_type": "stream",
     "text": [
      "date:2017-08-30, past_date:2017-03-05\n",
      "days:180, i: 3, days-i:177\n",
      "date:2017-08-30, past_date:2016-09-01\n",
      "days:365, i: 3, days-i:362\n",
      "date:2017-08-30, past_date:2015-09-02\n",
      "days:730, i: 3, days-i:727\n"
     ]
    },
    {
     "name": "stderr",
     "output_type": "stream",
     "text": [
      "100%|██████████| 16/16 [00:07<00:00,  2.13it/s]\n",
      "  0%|          | 0/16 [00:00<?, ?it/s]"
     ]
    },
    {
     "name": "stdout",
     "output_type": "stream",
     "text": [
      "date:2017-08-31, past_date:2017-03-06\n",
      "days:180, i: 3, days-i:177\n",
      "date:2017-08-31, past_date:2016-09-02\n",
      "days:365, i: 3, days-i:362\n",
      "date:2017-08-31, past_date:2015-09-03\n",
      "days:730, i: 3, days-i:727\n"
     ]
    },
    {
     "name": "stderr",
     "output_type": "stream",
     "text": [
      "\r",
      "  6%|▋         | 1/16 [00:00<00:06,  2.21it/s]"
     ]
    },
    {
     "name": "stdout",
     "output_type": "stream",
     "text": [
      "date:2017-08-16, past_date:2017-02-19\n",
      "days:180, i: 3, days-i:177\n",
      "date:2017-08-16, past_date:2016-08-18\n",
      "days:365, i: 3, days-i:362\n",
      "date:2017-08-16, past_date:2015-08-19\n",
      "days:730, i: 3, days-i:727\n"
     ]
    },
    {
     "name": "stderr",
     "output_type": "stream",
     "text": [
      "\r",
      " 12%|█▎        | 2/16 [00:00<00:06,  2.23it/s]"
     ]
    },
    {
     "name": "stdout",
     "output_type": "stream",
     "text": [
      "date:2017-08-17, past_date:2017-02-20\n",
      "days:180, i: 3, days-i:177\n",
      "date:2017-08-17, past_date:2016-08-19\n",
      "days:365, i: 3, days-i:362\n",
      "date:2017-08-17, past_date:2015-08-20\n",
      "days:730, i: 3, days-i:727\n"
     ]
    },
    {
     "name": "stderr",
     "output_type": "stream",
     "text": [
      "\r",
      " 19%|█▉        | 3/16 [00:01<00:05,  2.23it/s]"
     ]
    },
    {
     "name": "stdout",
     "output_type": "stream",
     "text": [
      "date:2017-08-18, past_date:2017-02-21\n",
      "days:180, i: 3, days-i:177\n",
      "date:2017-08-18, past_date:2016-08-20\n",
      "days:365, i: 3, days-i:362\n",
      "date:2017-08-18, past_date:2015-08-21\n",
      "days:730, i: 3, days-i:727\n"
     ]
    },
    {
     "name": "stderr",
     "output_type": "stream",
     "text": [
      "\r",
      " 25%|██▌       | 4/16 [00:01<00:05,  2.23it/s]"
     ]
    },
    {
     "name": "stdout",
     "output_type": "stream",
     "text": [
      "date:2017-08-19, past_date:2017-02-22\n",
      "days:180, i: 3, days-i:177\n",
      "date:2017-08-19, past_date:2016-08-21\n",
      "days:365, i: 3, days-i:362\n",
      "date:2017-08-19, past_date:2015-08-22\n",
      "days:730, i: 3, days-i:727\n"
     ]
    },
    {
     "name": "stderr",
     "output_type": "stream",
     "text": [
      "\r",
      " 31%|███▏      | 5/16 [00:02<00:04,  2.22it/s]"
     ]
    },
    {
     "name": "stdout",
     "output_type": "stream",
     "text": [
      "date:2017-08-20, past_date:2017-02-23\n",
      "days:180, i: 3, days-i:177\n",
      "date:2017-08-20, past_date:2016-08-22\n",
      "days:365, i: 3, days-i:362\n",
      "date:2017-08-20, past_date:2015-08-23\n",
      "days:730, i: 3, days-i:727\n"
     ]
    },
    {
     "name": "stderr",
     "output_type": "stream",
     "text": [
      "\r",
      " 38%|███▊      | 6/16 [00:02<00:04,  2.22it/s]"
     ]
    },
    {
     "name": "stdout",
     "output_type": "stream",
     "text": [
      "date:2017-08-21, past_date:2017-02-24\n",
      "days:180, i: 3, days-i:177\n",
      "date:2017-08-21, past_date:2016-08-23\n",
      "days:365, i: 3, days-i:362\n",
      "date:2017-08-21, past_date:2015-08-24\n",
      "days:730, i: 3, days-i:727\n"
     ]
    },
    {
     "name": "stderr",
     "output_type": "stream",
     "text": [
      "\r",
      " 44%|████▍     | 7/16 [00:03<00:04,  2.21it/s]"
     ]
    },
    {
     "name": "stdout",
     "output_type": "stream",
     "text": [
      "date:2017-08-22, past_date:2017-02-25\n",
      "days:180, i: 3, days-i:177\n",
      "date:2017-08-22, past_date:2016-08-24\n",
      "days:365, i: 3, days-i:362\n",
      "date:2017-08-22, past_date:2015-08-25\n",
      "days:730, i: 3, days-i:727\n"
     ]
    },
    {
     "name": "stderr",
     "output_type": "stream",
     "text": [
      "\r",
      " 50%|█████     | 8/16 [00:03<00:03,  2.22it/s]"
     ]
    },
    {
     "name": "stdout",
     "output_type": "stream",
     "text": [
      "date:2017-08-23, past_date:2017-02-26\n",
      "days:180, i: 3, days-i:177\n",
      "date:2017-08-23, past_date:2016-08-25\n",
      "days:365, i: 3, days-i:362\n",
      "date:2017-08-23, past_date:2015-08-26\n",
      "days:730, i: 3, days-i:727\n"
     ]
    },
    {
     "name": "stderr",
     "output_type": "stream",
     "text": [
      "\r",
      " 56%|█████▋    | 9/16 [00:04<00:03,  2.22it/s]"
     ]
    },
    {
     "name": "stdout",
     "output_type": "stream",
     "text": [
      "date:2017-08-24, past_date:2017-02-27\n",
      "days:180, i: 3, days-i:177\n",
      "date:2017-08-24, past_date:2016-08-26\n",
      "days:365, i: 3, days-i:362\n",
      "date:2017-08-24, past_date:2015-08-27\n",
      "days:730, i: 3, days-i:727\n"
     ]
    },
    {
     "name": "stderr",
     "output_type": "stream",
     "text": [
      "\r",
      " 62%|██████▎   | 10/16 [00:04<00:02,  2.22it/s]"
     ]
    },
    {
     "name": "stdout",
     "output_type": "stream",
     "text": [
      "date:2017-08-25, past_date:2017-02-28\n",
      "days:180, i: 3, days-i:177\n",
      "date:2017-08-25, past_date:2016-08-27\n",
      "days:365, i: 3, days-i:362\n",
      "date:2017-08-25, past_date:2015-08-28\n",
      "days:730, i: 3, days-i:727\n"
     ]
    },
    {
     "name": "stderr",
     "output_type": "stream",
     "text": [
      "\r",
      " 69%|██████▉   | 11/16 [00:04<00:02,  2.22it/s]"
     ]
    },
    {
     "name": "stdout",
     "output_type": "stream",
     "text": [
      "date:2017-08-26, past_date:2017-03-01\n",
      "days:180, i: 3, days-i:177\n",
      "date:2017-08-26, past_date:2016-08-28\n",
      "days:365, i: 3, days-i:362\n",
      "date:2017-08-26, past_date:2015-08-29\n",
      "days:730, i: 3, days-i:727\n"
     ]
    },
    {
     "name": "stderr",
     "output_type": "stream",
     "text": [
      "\r",
      " 75%|███████▌  | 12/16 [00:05<00:01,  2.22it/s]"
     ]
    },
    {
     "name": "stdout",
     "output_type": "stream",
     "text": [
      "date:2017-08-27, past_date:2017-03-02\n",
      "days:180, i: 3, days-i:177\n",
      "date:2017-08-27, past_date:2016-08-29\n",
      "days:365, i: 3, days-i:362\n",
      "date:2017-08-27, past_date:2015-08-30\n",
      "days:730, i: 3, days-i:727\n"
     ]
    },
    {
     "name": "stderr",
     "output_type": "stream",
     "text": [
      "\r",
      " 81%|████████▏ | 13/16 [00:05<00:01,  2.22it/s]"
     ]
    },
    {
     "name": "stdout",
     "output_type": "stream",
     "text": [
      "date:2017-08-28, past_date:2017-03-03\n",
      "days:180, i: 3, days-i:177\n",
      "date:2017-08-28, past_date:2016-08-30\n",
      "days:365, i: 3, days-i:362\n",
      "date:2017-08-28, past_date:2015-08-31\n",
      "days:730, i: 3, days-i:727\n"
     ]
    },
    {
     "name": "stderr",
     "output_type": "stream",
     "text": [
      "\r",
      " 88%|████████▊ | 14/16 [00:06<00:00,  2.22it/s]"
     ]
    },
    {
     "name": "stdout",
     "output_type": "stream",
     "text": [
      "date:2017-08-29, past_date:2017-03-04\n",
      "days:180, i: 3, days-i:177\n",
      "date:2017-08-29, past_date:2016-08-31\n",
      "days:365, i: 3, days-i:362\n",
      "date:2017-08-29, past_date:2015-09-01\n",
      "days:730, i: 3, days-i:727\n"
     ]
    },
    {
     "name": "stderr",
     "output_type": "stream",
     "text": [
      "\r",
      " 94%|█████████▍| 15/16 [00:06<00:00,  2.22it/s]"
     ]
    },
    {
     "name": "stdout",
     "output_type": "stream",
     "text": [
      "date:2017-08-30, past_date:2017-03-05\n",
      "days:180, i: 3, days-i:177\n",
      "date:2017-08-30, past_date:2016-09-01\n",
      "days:365, i: 3, days-i:362\n",
      "date:2017-08-30, past_date:2015-09-02\n",
      "days:730, i: 3, days-i:727\n"
     ]
    },
    {
     "name": "stderr",
     "output_type": "stream",
     "text": [
      "100%|██████████| 16/16 [00:07<00:00,  2.22it/s]\n",
      "  0%|          | 0/16 [00:00<?, ?it/s]"
     ]
    },
    {
     "name": "stdout",
     "output_type": "stream",
     "text": [
      "date:2017-08-31, past_date:2017-03-06\n",
      "days:180, i: 3, days-i:177\n",
      "date:2017-08-31, past_date:2016-09-02\n",
      "days:365, i: 3, days-i:362\n",
      "date:2017-08-31, past_date:2015-09-03\n",
      "days:730, i: 3, days-i:727\n"
     ]
    },
    {
     "name": "stderr",
     "output_type": "stream",
     "text": [
      "\r",
      "  6%|▋         | 1/16 [00:00<00:06,  2.22it/s]"
     ]
    },
    {
     "name": "stdout",
     "output_type": "stream",
     "text": [
      "date:2017-08-16, past_date:2017-02-19\n",
      "days:180, i: 3, days-i:177\n",
      "date:2017-08-16, past_date:2016-08-18\n",
      "days:365, i: 3, days-i:362\n",
      "date:2017-08-16, past_date:2015-08-19\n",
      "days:730, i: 3, days-i:727\n"
     ]
    },
    {
     "name": "stderr",
     "output_type": "stream",
     "text": [
      "\r",
      " 12%|█▎        | 2/16 [00:00<00:06,  2.21it/s]"
     ]
    },
    {
     "name": "stdout",
     "output_type": "stream",
     "text": [
      "date:2017-08-17, past_date:2017-02-20\n",
      "days:180, i: 3, days-i:177\n",
      "date:2017-08-17, past_date:2016-08-19\n",
      "days:365, i: 3, days-i:362\n",
      "date:2017-08-17, past_date:2015-08-20\n",
      "days:730, i: 3, days-i:727\n"
     ]
    },
    {
     "name": "stderr",
     "output_type": "stream",
     "text": [
      "\r",
      " 19%|█▉        | 3/16 [00:01<00:05,  2.21it/s]"
     ]
    },
    {
     "name": "stdout",
     "output_type": "stream",
     "text": [
      "date:2017-08-18, past_date:2017-02-21\n",
      "days:180, i: 3, days-i:177\n",
      "date:2017-08-18, past_date:2016-08-20\n",
      "days:365, i: 3, days-i:362\n",
      "date:2017-08-18, past_date:2015-08-21\n",
      "days:730, i: 3, days-i:727\n"
     ]
    },
    {
     "name": "stderr",
     "output_type": "stream",
     "text": [
      "\r",
      " 25%|██▌       | 4/16 [00:01<00:05,  2.22it/s]"
     ]
    },
    {
     "name": "stdout",
     "output_type": "stream",
     "text": [
      "date:2017-08-19, past_date:2017-02-22\n",
      "days:180, i: 3, days-i:177\n",
      "date:2017-08-19, past_date:2016-08-21\n",
      "days:365, i: 3, days-i:362\n",
      "date:2017-08-19, past_date:2015-08-22\n",
      "days:730, i: 3, days-i:727\n"
     ]
    },
    {
     "name": "stderr",
     "output_type": "stream",
     "text": [
      "\r",
      " 31%|███▏      | 5/16 [00:02<00:04,  2.23it/s]"
     ]
    },
    {
     "name": "stdout",
     "output_type": "stream",
     "text": [
      "date:2017-08-20, past_date:2017-02-23\n",
      "days:180, i: 3, days-i:177\n",
      "date:2017-08-20, past_date:2016-08-22\n",
      "days:365, i: 3, days-i:362\n",
      "date:2017-08-20, past_date:2015-08-23\n",
      "days:730, i: 3, days-i:727\n"
     ]
    },
    {
     "name": "stderr",
     "output_type": "stream",
     "text": [
      "\r",
      " 38%|███▊      | 6/16 [00:02<00:04,  2.23it/s]"
     ]
    },
    {
     "name": "stdout",
     "output_type": "stream",
     "text": [
      "date:2017-08-21, past_date:2017-02-24\n",
      "days:180, i: 3, days-i:177\n",
      "date:2017-08-21, past_date:2016-08-23\n",
      "days:365, i: 3, days-i:362\n",
      "date:2017-08-21, past_date:2015-08-24\n",
      "days:730, i: 3, days-i:727\n"
     ]
    },
    {
     "name": "stderr",
     "output_type": "stream",
     "text": [
      "\r",
      " 44%|████▍     | 7/16 [00:03<00:04,  2.23it/s]"
     ]
    },
    {
     "name": "stdout",
     "output_type": "stream",
     "text": [
      "date:2017-08-22, past_date:2017-02-25\n",
      "days:180, i: 3, days-i:177\n",
      "date:2017-08-22, past_date:2016-08-24\n",
      "days:365, i: 3, days-i:362\n",
      "date:2017-08-22, past_date:2015-08-25\n",
      "days:730, i: 3, days-i:727\n"
     ]
    },
    {
     "name": "stderr",
     "output_type": "stream",
     "text": [
      "\r",
      " 50%|█████     | 8/16 [00:03<00:03,  2.23it/s]"
     ]
    },
    {
     "name": "stdout",
     "output_type": "stream",
     "text": [
      "date:2017-08-23, past_date:2017-02-26\n",
      "days:180, i: 3, days-i:177\n",
      "date:2017-08-23, past_date:2016-08-25\n",
      "days:365, i: 3, days-i:362\n",
      "date:2017-08-23, past_date:2015-08-26\n",
      "days:730, i: 3, days-i:727\n"
     ]
    },
    {
     "name": "stderr",
     "output_type": "stream",
     "text": [
      "\r",
      " 56%|█████▋    | 9/16 [00:04<00:03,  2.22it/s]"
     ]
    },
    {
     "name": "stdout",
     "output_type": "stream",
     "text": [
      "date:2017-08-24, past_date:2017-02-27\n",
      "days:180, i: 3, days-i:177\n",
      "date:2017-08-24, past_date:2016-08-26\n",
      "days:365, i: 3, days-i:362\n",
      "date:2017-08-24, past_date:2015-08-27\n",
      "days:730, i: 3, days-i:727\n"
     ]
    },
    {
     "name": "stderr",
     "output_type": "stream",
     "text": [
      "\r",
      " 62%|██████▎   | 10/16 [00:04<00:02,  2.21it/s]"
     ]
    },
    {
     "name": "stdout",
     "output_type": "stream",
     "text": [
      "date:2017-08-25, past_date:2017-02-28\n",
      "days:180, i: 3, days-i:177\n",
      "date:2017-08-25, past_date:2016-08-27\n",
      "days:365, i: 3, days-i:362\n",
      "date:2017-08-25, past_date:2015-08-28\n",
      "days:730, i: 3, days-i:727\n"
     ]
    },
    {
     "name": "stderr",
     "output_type": "stream",
     "text": [
      "\r",
      " 69%|██████▉   | 11/16 [00:04<00:02,  2.21it/s]"
     ]
    },
    {
     "name": "stdout",
     "output_type": "stream",
     "text": [
      "date:2017-08-26, past_date:2017-03-01\n",
      "days:180, i: 3, days-i:177\n",
      "date:2017-08-26, past_date:2016-08-28\n",
      "days:365, i: 3, days-i:362\n",
      "date:2017-08-26, past_date:2015-08-29\n",
      "days:730, i: 3, days-i:727\n"
     ]
    },
    {
     "name": "stderr",
     "output_type": "stream",
     "text": [
      "\r",
      " 75%|███████▌  | 12/16 [00:05<00:01,  2.22it/s]"
     ]
    },
    {
     "name": "stdout",
     "output_type": "stream",
     "text": [
      "date:2017-08-27, past_date:2017-03-02\n",
      "days:180, i: 3, days-i:177\n",
      "date:2017-08-27, past_date:2016-08-29\n",
      "days:365, i: 3, days-i:362\n",
      "date:2017-08-27, past_date:2015-08-30\n",
      "days:730, i: 3, days-i:727\n"
     ]
    },
    {
     "name": "stderr",
     "output_type": "stream",
     "text": [
      "\r",
      " 81%|████████▏ | 13/16 [00:05<00:01,  2.22it/s]"
     ]
    },
    {
     "name": "stdout",
     "output_type": "stream",
     "text": [
      "date:2017-08-28, past_date:2017-03-03\n",
      "days:180, i: 3, days-i:177\n",
      "date:2017-08-28, past_date:2016-08-30\n",
      "days:365, i: 3, days-i:362\n",
      "date:2017-08-28, past_date:2015-08-31\n",
      "days:730, i: 3, days-i:727\n"
     ]
    },
    {
     "name": "stderr",
     "output_type": "stream",
     "text": [
      "\r",
      " 88%|████████▊ | 14/16 [00:06<00:00,  2.22it/s]"
     ]
    },
    {
     "name": "stdout",
     "output_type": "stream",
     "text": [
      "date:2017-08-29, past_date:2017-03-04\n",
      "days:180, i: 3, days-i:177\n",
      "date:2017-08-29, past_date:2016-08-31\n",
      "days:365, i: 3, days-i:362\n",
      "date:2017-08-29, past_date:2015-09-01\n",
      "days:730, i: 3, days-i:727\n"
     ]
    },
    {
     "name": "stderr",
     "output_type": "stream",
     "text": [
      "\r",
      " 94%|█████████▍| 15/16 [00:06<00:00,  2.22it/s]"
     ]
    },
    {
     "name": "stdout",
     "output_type": "stream",
     "text": [
      "date:2017-08-30, past_date:2017-03-05\n",
      "days:180, i: 3, days-i:177\n",
      "date:2017-08-30, past_date:2016-09-01\n",
      "days:365, i: 3, days-i:362\n",
      "date:2017-08-30, past_date:2015-09-02\n",
      "days:730, i: 3, days-i:727\n"
     ]
    },
    {
     "name": "stderr",
     "output_type": "stream",
     "text": [
      "100%|██████████| 16/16 [00:07<00:00,  2.22it/s]\n",
      "  0%|          | 0/16 [00:00<?, ?it/s]"
     ]
    },
    {
     "name": "stdout",
     "output_type": "stream",
     "text": [
      "date:2017-08-31, past_date:2017-03-06\n",
      "days:180, i: 3, days-i:177\n",
      "date:2017-08-31, past_date:2016-09-02\n",
      "days:365, i: 3, days-i:362\n",
      "date:2017-08-31, past_date:2015-09-03\n",
      "days:730, i: 3, days-i:727\n"
     ]
    },
    {
     "name": "stderr",
     "output_type": "stream",
     "text": [
      "\r",
      "  6%|▋         | 1/16 [00:00<00:06,  2.25it/s]"
     ]
    },
    {
     "name": "stdout",
     "output_type": "stream",
     "text": [
      "date:2017-08-16, past_date:2017-02-19\n",
      "days:180, i: 3, days-i:177\n",
      "date:2017-08-16, past_date:2016-08-18\n",
      "days:365, i: 3, days-i:362\n",
      "date:2017-08-16, past_date:2015-08-19\n",
      "days:730, i: 3, days-i:727\n"
     ]
    },
    {
     "name": "stderr",
     "output_type": "stream",
     "text": [
      "\r",
      " 12%|█▎        | 2/16 [00:00<00:06,  2.25it/s]"
     ]
    },
    {
     "name": "stdout",
     "output_type": "stream",
     "text": [
      "date:2017-08-17, past_date:2017-02-20\n",
      "days:180, i: 3, days-i:177\n",
      "date:2017-08-17, past_date:2016-08-19\n",
      "days:365, i: 3, days-i:362\n",
      "date:2017-08-17, past_date:2015-08-20\n",
      "days:730, i: 3, days-i:727\n"
     ]
    },
    {
     "name": "stderr",
     "output_type": "stream",
     "text": [
      "\r",
      " 19%|█▉        | 3/16 [00:01<00:05,  2.25it/s]"
     ]
    },
    {
     "name": "stdout",
     "output_type": "stream",
     "text": [
      "date:2017-08-18, past_date:2017-02-21\n",
      "days:180, i: 3, days-i:177\n",
      "date:2017-08-18, past_date:2016-08-20\n",
      "days:365, i: 3, days-i:362\n",
      "date:2017-08-18, past_date:2015-08-21\n",
      "days:730, i: 3, days-i:727\n"
     ]
    },
    {
     "name": "stderr",
     "output_type": "stream",
     "text": [
      "\r",
      " 25%|██▌       | 4/16 [00:01<00:05,  2.25it/s]"
     ]
    },
    {
     "name": "stdout",
     "output_type": "stream",
     "text": [
      "date:2017-08-19, past_date:2017-02-22\n",
      "days:180, i: 3, days-i:177\n",
      "date:2017-08-19, past_date:2016-08-21\n",
      "days:365, i: 3, days-i:362\n",
      "date:2017-08-19, past_date:2015-08-22\n",
      "days:730, i: 3, days-i:727\n"
     ]
    },
    {
     "name": "stderr",
     "output_type": "stream",
     "text": [
      "\r",
      " 31%|███▏      | 5/16 [00:02<00:04,  2.25it/s]"
     ]
    },
    {
     "name": "stdout",
     "output_type": "stream",
     "text": [
      "date:2017-08-20, past_date:2017-02-23\n",
      "days:180, i: 3, days-i:177\n",
      "date:2017-08-20, past_date:2016-08-22\n",
      "days:365, i: 3, days-i:362\n",
      "date:2017-08-20, past_date:2015-08-23\n",
      "days:730, i: 3, days-i:727\n"
     ]
    },
    {
     "name": "stderr",
     "output_type": "stream",
     "text": [
      "\r",
      " 38%|███▊      | 6/16 [00:02<00:04,  2.25it/s]"
     ]
    },
    {
     "name": "stdout",
     "output_type": "stream",
     "text": [
      "date:2017-08-21, past_date:2017-02-24\n",
      "days:180, i: 3, days-i:177\n",
      "date:2017-08-21, past_date:2016-08-23\n",
      "days:365, i: 3, days-i:362\n",
      "date:2017-08-21, past_date:2015-08-24\n",
      "days:730, i: 3, days-i:727\n"
     ]
    },
    {
     "name": "stderr",
     "output_type": "stream",
     "text": [
      "\r",
      " 44%|████▍     | 7/16 [00:03<00:04,  2.19it/s]"
     ]
    },
    {
     "name": "stdout",
     "output_type": "stream",
     "text": [
      "date:2017-08-22, past_date:2017-02-25\n",
      "days:180, i: 3, days-i:177\n",
      "date:2017-08-22, past_date:2016-08-24\n",
      "days:365, i: 3, days-i:362\n",
      "date:2017-08-22, past_date:2015-08-25\n",
      "days:730, i: 3, days-i:727\n"
     ]
    },
    {
     "name": "stderr",
     "output_type": "stream",
     "text": [
      "\r",
      " 50%|█████     | 8/16 [00:03<00:03,  2.19it/s]"
     ]
    },
    {
     "name": "stdout",
     "output_type": "stream",
     "text": [
      "date:2017-08-23, past_date:2017-02-26\n",
      "days:180, i: 3, days-i:177\n",
      "date:2017-08-23, past_date:2016-08-25\n",
      "days:365, i: 3, days-i:362\n",
      "date:2017-08-23, past_date:2015-08-26\n",
      "days:730, i: 3, days-i:727\n"
     ]
    },
    {
     "name": "stderr",
     "output_type": "stream",
     "text": [
      "\r",
      " 56%|█████▋    | 9/16 [00:04<00:03,  2.20it/s]"
     ]
    },
    {
     "name": "stdout",
     "output_type": "stream",
     "text": [
      "date:2017-08-24, past_date:2017-02-27\n",
      "days:180, i: 3, days-i:177\n",
      "date:2017-08-24, past_date:2016-08-26\n",
      "days:365, i: 3, days-i:362\n",
      "date:2017-08-24, past_date:2015-08-27\n",
      "days:730, i: 3, days-i:727\n"
     ]
    },
    {
     "name": "stderr",
     "output_type": "stream",
     "text": [
      "\r",
      " 62%|██████▎   | 10/16 [00:04<00:02,  2.20it/s]"
     ]
    },
    {
     "name": "stdout",
     "output_type": "stream",
     "text": [
      "date:2017-08-25, past_date:2017-02-28\n",
      "days:180, i: 3, days-i:177\n",
      "date:2017-08-25, past_date:2016-08-27\n",
      "days:365, i: 3, days-i:362\n",
      "date:2017-08-25, past_date:2015-08-28\n",
      "days:730, i: 3, days-i:727\n"
     ]
    },
    {
     "name": "stderr",
     "output_type": "stream",
     "text": [
      "\r",
      " 69%|██████▉   | 11/16 [00:04<00:02,  2.20it/s]"
     ]
    },
    {
     "name": "stdout",
     "output_type": "stream",
     "text": [
      "date:2017-08-26, past_date:2017-03-01\n",
      "days:180, i: 3, days-i:177\n",
      "date:2017-08-26, past_date:2016-08-28\n",
      "days:365, i: 3, days-i:362\n",
      "date:2017-08-26, past_date:2015-08-29\n",
      "days:730, i: 3, days-i:727\n"
     ]
    },
    {
     "name": "stderr",
     "output_type": "stream",
     "text": [
      "\r",
      " 75%|███████▌  | 12/16 [00:05<00:01,  2.20it/s]"
     ]
    },
    {
     "name": "stdout",
     "output_type": "stream",
     "text": [
      "date:2017-08-27, past_date:2017-03-02\n",
      "days:180, i: 3, days-i:177\n",
      "date:2017-08-27, past_date:2016-08-29\n",
      "days:365, i: 3, days-i:362\n",
      "date:2017-08-27, past_date:2015-08-30\n",
      "days:730, i: 3, days-i:727\n"
     ]
    },
    {
     "name": "stderr",
     "output_type": "stream",
     "text": [
      "\r",
      " 81%|████████▏ | 13/16 [00:05<00:01,  2.20it/s]"
     ]
    },
    {
     "name": "stdout",
     "output_type": "stream",
     "text": [
      "date:2017-08-28, past_date:2017-03-03\n",
      "days:180, i: 3, days-i:177\n",
      "date:2017-08-28, past_date:2016-08-30\n",
      "days:365, i: 3, days-i:362\n",
      "date:2017-08-28, past_date:2015-08-31\n",
      "days:730, i: 3, days-i:727\n"
     ]
    },
    {
     "name": "stderr",
     "output_type": "stream",
     "text": [
      "\r",
      " 88%|████████▊ | 14/16 [00:06<00:00,  2.20it/s]"
     ]
    },
    {
     "name": "stdout",
     "output_type": "stream",
     "text": [
      "date:2017-08-29, past_date:2017-03-04\n",
      "days:180, i: 3, days-i:177\n",
      "date:2017-08-29, past_date:2016-08-31\n",
      "days:365, i: 3, days-i:362\n",
      "date:2017-08-29, past_date:2015-09-01\n",
      "days:730, i: 3, days-i:727\n"
     ]
    },
    {
     "name": "stderr",
     "output_type": "stream",
     "text": [
      "\r",
      " 94%|█████████▍| 15/16 [00:06<00:00,  2.21it/s]"
     ]
    },
    {
     "name": "stdout",
     "output_type": "stream",
     "text": [
      "date:2017-08-30, past_date:2017-03-05\n",
      "days:180, i: 3, days-i:177\n",
      "date:2017-08-30, past_date:2016-09-01\n",
      "days:365, i: 3, days-i:362\n",
      "date:2017-08-30, past_date:2015-09-02\n",
      "days:730, i: 3, days-i:727\n"
     ]
    },
    {
     "name": "stderr",
     "output_type": "stream",
     "text": [
      "100%|██████████| 16/16 [00:07<00:00,  2.21it/s]\n",
      "  0%|          | 0/16 [00:00<?, ?it/s]"
     ]
    },
    {
     "name": "stdout",
     "output_type": "stream",
     "text": [
      "date:2017-08-31, past_date:2017-03-06\n",
      "days:180, i: 3, days-i:177\n",
      "date:2017-08-31, past_date:2016-09-02\n",
      "days:365, i: 3, days-i:362\n",
      "date:2017-08-31, past_date:2015-09-03\n",
      "days:730, i: 3, days-i:727\n"
     ]
    },
    {
     "name": "stderr",
     "output_type": "stream",
     "text": [
      "\r",
      "  6%|▋         | 1/16 [00:00<00:06,  2.20it/s]"
     ]
    },
    {
     "name": "stdout",
     "output_type": "stream",
     "text": [
      "date:2017-08-16, past_date:2017-02-19\n",
      "days:180, i: 3, days-i:177\n",
      "date:2017-08-16, past_date:2016-08-18\n",
      "days:365, i: 3, days-i:362\n",
      "date:2017-08-16, past_date:2015-08-19\n",
      "days:730, i: 3, days-i:727\n"
     ]
    },
    {
     "name": "stderr",
     "output_type": "stream",
     "text": [
      "\r",
      " 12%|█▎        | 2/16 [00:00<00:06,  2.20it/s]"
     ]
    },
    {
     "name": "stdout",
     "output_type": "stream",
     "text": [
      "date:2017-08-17, past_date:2017-02-20\n",
      "days:180, i: 3, days-i:177\n",
      "date:2017-08-17, past_date:2016-08-19\n",
      "days:365, i: 3, days-i:362\n",
      "date:2017-08-17, past_date:2015-08-20\n",
      "days:730, i: 3, days-i:727\n"
     ]
    },
    {
     "name": "stderr",
     "output_type": "stream",
     "text": [
      "\r",
      " 19%|█▉        | 3/16 [00:01<00:05,  2.20it/s]"
     ]
    },
    {
     "name": "stdout",
     "output_type": "stream",
     "text": [
      "date:2017-08-18, past_date:2017-02-21\n",
      "days:180, i: 3, days-i:177\n",
      "date:2017-08-18, past_date:2016-08-20\n",
      "days:365, i: 3, days-i:362\n",
      "date:2017-08-18, past_date:2015-08-21\n",
      "days:730, i: 3, days-i:727\n"
     ]
    },
    {
     "name": "stderr",
     "output_type": "stream",
     "text": [
      "\r",
      " 25%|██▌       | 4/16 [00:01<00:05,  2.21it/s]"
     ]
    },
    {
     "name": "stdout",
     "output_type": "stream",
     "text": [
      "date:2017-08-19, past_date:2017-02-22\n",
      "days:180, i: 3, days-i:177\n",
      "date:2017-08-19, past_date:2016-08-21\n",
      "days:365, i: 3, days-i:362\n",
      "date:2017-08-19, past_date:2015-08-22\n",
      "days:730, i: 3, days-i:727\n"
     ]
    },
    {
     "name": "stderr",
     "output_type": "stream",
     "text": [
      "\r",
      " 31%|███▏      | 5/16 [00:02<00:04,  2.22it/s]"
     ]
    },
    {
     "name": "stdout",
     "output_type": "stream",
     "text": [
      "date:2017-08-20, past_date:2017-02-23\n",
      "days:180, i: 3, days-i:177\n",
      "date:2017-08-20, past_date:2016-08-22\n",
      "days:365, i: 3, days-i:362\n",
      "date:2017-08-20, past_date:2015-08-23\n",
      "days:730, i: 3, days-i:727\n"
     ]
    },
    {
     "name": "stderr",
     "output_type": "stream",
     "text": [
      "\r",
      " 38%|███▊      | 6/16 [00:02<00:04,  2.23it/s]"
     ]
    },
    {
     "name": "stdout",
     "output_type": "stream",
     "text": [
      "date:2017-08-21, past_date:2017-02-24\n",
      "days:180, i: 3, days-i:177\n",
      "date:2017-08-21, past_date:2016-08-23\n",
      "days:365, i: 3, days-i:362\n",
      "date:2017-08-21, past_date:2015-08-24\n",
      "days:730, i: 3, days-i:727\n"
     ]
    },
    {
     "name": "stderr",
     "output_type": "stream",
     "text": [
      "\r",
      " 44%|████▍     | 7/16 [00:03<00:04,  2.23it/s]"
     ]
    },
    {
     "name": "stdout",
     "output_type": "stream",
     "text": [
      "date:2017-08-22, past_date:2017-02-25\n",
      "days:180, i: 3, days-i:177\n",
      "date:2017-08-22, past_date:2016-08-24\n",
      "days:365, i: 3, days-i:362\n",
      "date:2017-08-22, past_date:2015-08-25\n",
      "days:730, i: 3, days-i:727\n"
     ]
    },
    {
     "name": "stderr",
     "output_type": "stream",
     "text": [
      "\r",
      " 50%|█████     | 8/16 [00:03<00:03,  2.23it/s]"
     ]
    },
    {
     "name": "stdout",
     "output_type": "stream",
     "text": [
      "date:2017-08-23, past_date:2017-02-26\n",
      "days:180, i: 3, days-i:177\n",
      "date:2017-08-23, past_date:2016-08-25\n",
      "days:365, i: 3, days-i:362\n",
      "date:2017-08-23, past_date:2015-08-26\n",
      "days:730, i: 3, days-i:727\n"
     ]
    },
    {
     "name": "stderr",
     "output_type": "stream",
     "text": [
      "\r",
      " 56%|█████▋    | 9/16 [00:04<00:03,  2.23it/s]"
     ]
    },
    {
     "name": "stdout",
     "output_type": "stream",
     "text": [
      "date:2017-08-24, past_date:2017-02-27\n",
      "days:180, i: 3, days-i:177\n",
      "date:2017-08-24, past_date:2016-08-26\n",
      "days:365, i: 3, days-i:362\n",
      "date:2017-08-24, past_date:2015-08-27\n",
      "days:730, i: 3, days-i:727\n"
     ]
    },
    {
     "name": "stderr",
     "output_type": "stream",
     "text": [
      "\r",
      " 62%|██████▎   | 10/16 [00:04<00:02,  2.23it/s]"
     ]
    },
    {
     "name": "stdout",
     "output_type": "stream",
     "text": [
      "date:2017-08-25, past_date:2017-02-28\n",
      "days:180, i: 3, days-i:177\n",
      "date:2017-08-25, past_date:2016-08-27\n",
      "days:365, i: 3, days-i:362\n",
      "date:2017-08-25, past_date:2015-08-28\n",
      "days:730, i: 3, days-i:727\n"
     ]
    },
    {
     "name": "stderr",
     "output_type": "stream",
     "text": [
      "\r",
      " 69%|██████▉   | 11/16 [00:04<00:02,  2.23it/s]"
     ]
    },
    {
     "name": "stdout",
     "output_type": "stream",
     "text": [
      "date:2017-08-26, past_date:2017-03-01\n",
      "days:180, i: 3, days-i:177\n",
      "date:2017-08-26, past_date:2016-08-28\n",
      "days:365, i: 3, days-i:362\n",
      "date:2017-08-26, past_date:2015-08-29\n",
      "days:730, i: 3, days-i:727\n"
     ]
    },
    {
     "name": "stderr",
     "output_type": "stream",
     "text": [
      "\r",
      " 75%|███████▌  | 12/16 [00:05<00:01,  2.23it/s]"
     ]
    },
    {
     "name": "stdout",
     "output_type": "stream",
     "text": [
      "date:2017-08-27, past_date:2017-03-02\n",
      "days:180, i: 3, days-i:177\n",
      "date:2017-08-27, past_date:2016-08-29\n",
      "days:365, i: 3, days-i:362\n",
      "date:2017-08-27, past_date:2015-08-30\n",
      "days:730, i: 3, days-i:727\n"
     ]
    },
    {
     "name": "stderr",
     "output_type": "stream",
     "text": [
      "\r",
      " 81%|████████▏ | 13/16 [00:05<00:01,  2.22it/s]"
     ]
    },
    {
     "name": "stdout",
     "output_type": "stream",
     "text": [
      "date:2017-08-28, past_date:2017-03-03\n",
      "days:180, i: 3, days-i:177\n",
      "date:2017-08-28, past_date:2016-08-30\n",
      "days:365, i: 3, days-i:362\n",
      "date:2017-08-28, past_date:2015-08-31\n",
      "days:730, i: 3, days-i:727\n"
     ]
    },
    {
     "name": "stderr",
     "output_type": "stream",
     "text": [
      "\r",
      " 88%|████████▊ | 14/16 [00:06<00:00,  2.20it/s]"
     ]
    },
    {
     "name": "stdout",
     "output_type": "stream",
     "text": [
      "date:2017-08-29, past_date:2017-03-04\n",
      "days:180, i: 3, days-i:177\n",
      "date:2017-08-29, past_date:2016-08-31\n",
      "days:365, i: 3, days-i:362\n",
      "date:2017-08-29, past_date:2015-09-01\n",
      "days:730, i: 3, days-i:727\n"
     ]
    },
    {
     "name": "stderr",
     "output_type": "stream",
     "text": [
      "\r",
      " 94%|█████████▍| 15/16 [00:06<00:00,  2.20it/s]"
     ]
    },
    {
     "name": "stdout",
     "output_type": "stream",
     "text": [
      "date:2017-08-30, past_date:2017-03-05\n",
      "days:180, i: 3, days-i:177\n",
      "date:2017-08-30, past_date:2016-09-01\n",
      "days:365, i: 3, days-i:362\n",
      "date:2017-08-30, past_date:2015-09-02\n",
      "days:730, i: 3, days-i:727\n"
     ]
    },
    {
     "name": "stderr",
     "output_type": "stream",
     "text": [
      "\r",
      "100%|██████████| 16/16 [00:07<00:00,  2.19it/s]"
     ]
    },
    {
     "name": "stdout",
     "output_type": "stream",
     "text": [
      "date:2017-08-31, past_date:2017-03-06\n",
      "days:180, i: 3, days-i:177\n",
      "date:2017-08-31, past_date:2016-09-02\n",
      "days:365, i: 3, days-i:362\n",
      "date:2017-08-31, past_date:2015-09-03\n",
      "days:730, i: 3, days-i:727\n",
      "(352997, 28)\n"
     ]
    },
    {
     "name": "stderr",
     "output_type": "stream",
     "text": [
      "\n"
     ]
    },
    {
     "name": "stdout",
     "output_type": "stream",
     "text": [
      "(62416, 28)\n",
      "(16, 31)\n",
      "(16, 31)\n",
      "(16, 31)\n",
      "(16, 31)\n",
      "(16, 31)\n",
      "(16, 31)\n",
      "(16, 31)\n",
      "0\n",
      "110\n",
      "../cache/test7_1_t_store52_recent_stats_dow_1.csv\n",
      "(62416, 237)\n",
      "../cache/bkup2/test7_1_t_store53.csv\n"
     ]
    },
    {
     "name": "stderr",
     "output_type": "stream",
     "text": [
      "100%|██████████| 16/16 [01:38<00:00,  6.18s/it]\n",
      "100%|██████████| 16/16 [01:22<00:00,  5.18s/it]\n",
      "100%|██████████| 16/16 [01:14<00:00,  4.63s/it]\n",
      "100%|██████████| 16/16 [01:13<00:00,  4.62s/it]\n",
      "100%|██████████| 16/16 [01:13<00:00,  4.61s/it]\n",
      "100%|██████████| 16/16 [01:13<00:00,  4.61s/it]\n",
      "100%|██████████| 16/16 [01:13<00:00,  4.60s/it]\n"
     ]
    },
    {
     "name": "stdout",
     "output_type": "stream",
     "text": [
      "(2000671, 28)\n",
      "(62416, 28)\n",
      "(16, 31)\n",
      "(16, 31)\n",
      "(16, 31)\n",
      "(16, 31)\n",
      "(16, 31)\n",
      "(16, 31)\n",
      "(16, 31)\n",
      "0\n",
      "236\n",
      "../cache/test7_1_t_store53_recent_stats_dow_1.csv\n",
      "(62416, 237)\n",
      "../cache/bkup2/test7_1_t_store54.csv\n"
     ]
    },
    {
     "name": "stderr",
     "output_type": "stream",
     "text": [
      "100%|██████████| 16/16 [01:03<00:00,  3.95s/it]\n",
      "100%|██████████| 16/16 [01:03<00:00,  3.95s/it]\n",
      "100%|██████████| 16/16 [01:03<00:00,  3.94s/it]\n",
      "100%|██████████| 16/16 [01:03<00:00,  3.94s/it]\n",
      "100%|██████████| 16/16 [01:03<00:00,  3.95s/it]\n",
      "100%|██████████| 16/16 [01:03<00:00,  3.97s/it]\n",
      "100%|██████████| 16/16 [01:03<00:00,  3.95s/it]\n"
     ]
    },
    {
     "name": "stdout",
     "output_type": "stream",
     "text": [
      "(1711283, 28)\n",
      "(62416, 28)\n",
      "(16, 31)\n",
      "(16, 31)\n",
      "(16, 31)\n",
      "(16, 31)\n",
      "(16, 31)\n",
      "(16, 31)\n",
      "(16, 31)\n",
      "0\n",
      "236\n",
      "../cache/test7_1_t_store54_recent_stats_dow_1.csv\n",
      "(62416, 237)\n"
     ]
    }
   ],
   "source": [
    "# for i in range(1,55):\n",
    "#     process_test_csv_file(i) "
   ]
  },
  {
   "cell_type": "code",
   "execution_count": 3,
   "metadata": {
    "collapsed": true
   },
   "outputs": [],
   "source": [
    "date_block = {}\n",
    "date_block['1_2013'] = 0\n",
    "date_block['2_2013'] = 1\n",
    "date_block['3_2013'] = 2\n",
    "date_block['4_2013'] = 3\n",
    "date_block['5_2013'] = 4\n",
    "date_block['6_2013'] = 5\n",
    "date_block['7_2013'] = 6\n",
    "date_block['8_2013'] = 7\n",
    "date_block['9_2013'] = 8\n",
    "date_block['10_2013'] = 9\n",
    "date_block['11_2013'] = 10\n",
    "date_block['12_2013'] = 11\n",
    "\n",
    "date_block['1_2014'] = 12\n",
    "date_block['2_2014'] = 13\n",
    "date_block['3_2014'] = 14\n",
    "date_block['4_2014'] = 15\n",
    "date_block['5_2014'] = 16\n",
    "date_block['6_2014'] = 17\n",
    "date_block['7_2014'] = 18\n",
    "date_block['8_2014'] = 19\n",
    "date_block['9_2014'] = 20\n",
    "date_block['10_2014'] = 21\n",
    "date_block['11_2014'] = 22\n",
    "date_block['12_2014'] = 23\n",
    "\n",
    "date_block['1_2015'] = 24\n",
    "date_block['2_2015'] = 25\n",
    "date_block['3_2015'] = 26\n",
    "date_block['4_2015'] = 27\n",
    "date_block['5_2015'] = 28\n",
    "date_block['6_2015'] = 29\n",
    "date_block['7_2015'] = 30\n",
    "date_block['8_2015'] = 31\n",
    "date_block['9_2015'] = 32\n",
    "date_block['10_2015'] = 33\n",
    "date_block['11_2015'] = 34\n",
    "date_block['12_2015'] = 35\n",
    "\n",
    "date_block['1_2016'] = 36\n",
    "date_block['2_2016'] = 37\n",
    "date_block['3_2016'] = 38\n",
    "date_block['4_2016'] = 39\n",
    "date_block['5_2016'] = 40\n",
    "date_block['6_2016'] = 41\n",
    "date_block['7_2016'] = 42\n",
    "date_block['8_2016'] = 43\n",
    "date_block['9_2016'] = 44\n",
    "date_block['10_2016'] = 45\n",
    "date_block['11_2016'] = 46\n",
    "date_block['12_2016'] = 47\n",
    "\n",
    "date_block['1_2017'] = 48\n",
    "date_block['2_2017'] = 49\n",
    "date_block['3_2017'] = 50\n",
    "date_block['4_2017'] = 51\n",
    "date_block['5_2017'] = 52\n",
    "date_block['6_2017'] = 53\n",
    "date_block['7_2017'] = 54\n",
    "date_block['8_2017'] = 55\n",
    "date_block['9_2017'] = 56\n",
    "date_block['10_2017'] = 57\n",
    "date_block['11_2017'] = 58\n",
    "date_block['12_2017'] = 59\n",
    "\n",
    "def get_date_block_num(x):\n",
    "    year, month, day = x.split('-')\n",
    "    mon = int(month)\n",
    "    yr = int(year)\n",
    "    mon_year = str(mon) + '_' + str(yr)\n",
    "    \n",
    "    return date_block[mon_year]"
   ]
  },
  {
   "cell_type": "code",
   "execution_count": 4,
   "metadata": {
    "collapsed": false
   },
   "outputs": [
    {
     "name": "stderr",
     "output_type": "stream",
     "text": [
      "\r",
      "  0%|          | 0/54 [00:00<?, ?it/s]"
     ]
    },
    {
     "name": "stdout",
     "output_type": "stream",
     "text": [
      "../cache/bkup2/test7_1_t_store1.csv\n"
     ]
    },
    {
     "name": "stderr",
     "output_type": "stream",
     "text": [
      "/home/watts/anaconda2/envs/sdp35/lib/python3.5/site-packages/IPython/core/interactiveshell.py:2728: DtypeWarning: Columns (5) have mixed types. Specify dtype option on import or set low_memory=False.\n",
      "  interactivity=interactivity, compiler=compiler, result=result)\n"
     ]
    },
    {
     "name": "stdout",
     "output_type": "stream",
     "text": [
      "(2624569, 27)\n"
     ]
    },
    {
     "name": "stderr",
     "output_type": "stream",
     "text": [
      "/home/watts/anaconda2/envs/sdp35/lib/python3.5/site-packages/pandas/core/groupby.py:4189: FutureWarning: using a dict with renaming is deprecated and will be removed in a future version\n",
      "  return super(DataFrameGroupBy, self).aggregate(arg, *args, **kwargs)\n",
      "  2%|▏         | 1/54 [00:32<29:00, 32.84s/it]"
     ]
    },
    {
     "name": "stdout",
     "output_type": "stream",
     "text": [
      "../cache/bkup2/test7_1_t_store2.csv\n",
      "(3050256, 27)\n"
     ]
    },
    {
     "name": "stderr",
     "output_type": "stream",
     "text": [
      "\r",
      "  4%|▎         | 2/54 [01:10<30:34, 35.28s/it]"
     ]
    },
    {
     "name": "stdout",
     "output_type": "stream",
     "text": [
      "../cache/bkup2/test7_1_t_store3.csv\n",
      "(3463680, 27)\n"
     ]
    },
    {
     "name": "stderr",
     "output_type": "stream",
     "text": [
      "\r",
      "  6%|▌         | 3/54 [01:53<32:10, 37.84s/it]"
     ]
    },
    {
     "name": "stdout",
     "output_type": "stream",
     "text": [
      "../cache/bkup2/test7_1_t_store4.csv\n",
      "(2892970, 27)\n"
     ]
    },
    {
     "name": "stderr",
     "output_type": "stream",
     "text": [
      "\r",
      "  7%|▋         | 4/54 [02:29<31:11, 37.43s/it]"
     ]
    },
    {
     "name": "stdout",
     "output_type": "stream",
     "text": [
      "../cache/bkup2/test7_1_t_store5.csv\n",
      "(2729107, 27)\n"
     ]
    },
    {
     "name": "stderr",
     "output_type": "stream",
     "text": [
      "\r",
      "  9%|▉         | 5/54 [03:04<30:11, 36.96s/it]"
     ]
    },
    {
     "name": "stdout",
     "output_type": "stream",
     "text": [
      "../cache/bkup2/test7_1_t_store6.csv\n",
      "(3152215, 27)\n"
     ]
    },
    {
     "name": "stderr",
     "output_type": "stream",
     "text": [
      "\r",
      " 11%|█         | 6/54 [03:44<29:56, 37.43s/it]"
     ]
    },
    {
     "name": "stdout",
     "output_type": "stream",
     "text": [
      "../cache/bkup2/test7_1_t_store7.csv\n",
      "(2983620, 27)\n"
     ]
    },
    {
     "name": "stderr",
     "output_type": "stream",
     "text": [
      "\r",
      " 13%|█▎        | 7/54 [04:22<29:20, 37.45s/it]"
     ]
    },
    {
     "name": "stdout",
     "output_type": "stream",
     "text": [
      "../cache/bkup2/test7_1_t_store8.csv\n",
      "(3323600, 27)\n"
     ]
    },
    {
     "name": "stderr",
     "output_type": "stream",
     "text": [
      "\r",
      " 15%|█▍        | 8/54 [05:03<29:06, 37.97s/it]"
     ]
    },
    {
     "name": "stdout",
     "output_type": "stream",
     "text": [
      "../cache/bkup2/test7_1_t_store9.csv\n",
      "(2836206, 27)\n"
     ]
    },
    {
     "name": "stderr",
     "output_type": "stream",
     "text": [
      "\r",
      " 17%|█▋        | 9/54 [05:38<28:14, 37.66s/it]"
     ]
    },
    {
     "name": "stdout",
     "output_type": "stream",
     "text": [
      "../cache/bkup2/test7_1_t_store10.csv\n",
      "(1802898, 27)\n"
     ]
    },
    {
     "name": "stderr",
     "output_type": "stream",
     "text": [
      "\r",
      " 19%|█▊        | 10/54 [06:01<26:29, 36.13s/it]"
     ]
    },
    {
     "name": "stdout",
     "output_type": "stream",
     "text": [
      "../cache/bkup2/test7_1_t_store11.csv\n",
      "(2630698, 27)\n"
     ]
    },
    {
     "name": "stderr",
     "output_type": "stream",
     "text": [
      "\r",
      " 20%|██        | 11/54 [06:34<25:40, 35.83s/it]"
     ]
    },
    {
     "name": "stdout",
     "output_type": "stream",
     "text": [
      "../cache/bkup2/test7_1_t_store12.csv\n",
      "(1898999, 27)\n"
     ]
    },
    {
     "name": "stderr",
     "output_type": "stream",
     "text": [
      "\r",
      " 22%|██▏       | 12/54 [06:57<24:22, 34.82s/it]"
     ]
    },
    {
     "name": "stdout",
     "output_type": "stream",
     "text": [
      "../cache/bkup2/test7_1_t_store13.csv\n",
      "(1799144, 27)\n"
     ]
    },
    {
     "name": "stderr",
     "output_type": "stream",
     "text": [
      "\r",
      " 24%|██▍       | 13/54 [07:20<23:08, 33.87s/it]"
     ]
    },
    {
     "name": "stdout",
     "output_type": "stream",
     "text": [
      "../cache/bkup2/test7_1_t_store14.csv\n",
      "(1868357, 27)\n"
     ]
    },
    {
     "name": "stderr",
     "output_type": "stream",
     "text": [
      "\r",
      " 26%|██▌       | 14/54 [07:43<22:04, 33.12s/it]"
     ]
    },
    {
     "name": "stdout",
     "output_type": "stream",
     "text": [
      "../cache/bkup2/test7_1_t_store15.csv\n",
      "(2001094, 27)\n"
     ]
    },
    {
     "name": "stderr",
     "output_type": "stream",
     "text": [
      "\r",
      " 28%|██▊       | 15/54 [08:08<21:11, 32.59s/it]"
     ]
    },
    {
     "name": "stdout",
     "output_type": "stream",
     "text": [
      "../cache/bkup2/test7_1_t_store16.csv\n",
      "(1882451, 27)\n"
     ]
    },
    {
     "name": "stderr",
     "output_type": "stream",
     "text": [
      "\r",
      " 30%|██▉       | 16/54 [08:32<20:16, 32.01s/it]"
     ]
    },
    {
     "name": "stdout",
     "output_type": "stream",
     "text": [
      "../cache/bkup2/test7_1_t_store17.csv\n",
      "(2226436, 27)\n"
     ]
    },
    {
     "name": "stderr",
     "output_type": "stream",
     "text": [
      "\r",
      " 31%|███▏      | 17/54 [08:59<19:34, 31.75s/it]"
     ]
    },
    {
     "name": "stdout",
     "output_type": "stream",
     "text": [
      "../cache/bkup2/test7_1_t_store18.csv\n",
      "(2259098, 27)\n"
     ]
    },
    {
     "name": "stderr",
     "output_type": "stream",
     "text": [
      "\r",
      " 33%|███▎      | 18/54 [09:27<18:55, 31.53s/it]"
     ]
    },
    {
     "name": "stdout",
     "output_type": "stream",
     "text": [
      "../cache/bkup2/test7_1_t_store19.csv\n",
      "(1941571, 27)\n"
     ]
    },
    {
     "name": "stderr",
     "output_type": "stream",
     "text": [
      "\r",
      " 35%|███▌      | 19/54 [09:51<18:09, 31.14s/it]"
     ]
    },
    {
     "name": "stdout",
     "output_type": "stream",
     "text": [
      "../cache/bkup2/test7_1_t_store20.csv\n",
      "(1728401, 27)\n"
     ]
    },
    {
     "name": "stderr",
     "output_type": "stream",
     "text": [
      "\r",
      " 37%|███▋      | 20/54 [10:12<17:21, 30.63s/it]"
     ]
    },
    {
     "name": "stdout",
     "output_type": "stream",
     "text": [
      "../cache/bkup2/test7_1_t_store21.csv\n",
      "(1435835, 27)\n"
     ]
    },
    {
     "name": "stderr",
     "output_type": "stream",
     "text": [
      "\r",
      " 39%|███▉      | 21/54 [10:30<16:30, 30.01s/it]"
     ]
    },
    {
     "name": "stdout",
     "output_type": "stream",
     "text": [
      "../cache/bkup2/test7_1_t_store22.csv\n",
      "(985899, 27)\n"
     ]
    },
    {
     "name": "stderr",
     "output_type": "stream",
     "text": [
      "\r",
      " 41%|████      | 22/54 [10:42<15:34, 29.19s/it]"
     ]
    },
    {
     "name": "stdout",
     "output_type": "stream",
     "text": [
      "../cache/bkup2/test7_1_t_store23.csv\n",
      "(2428113, 27)\n"
     ]
    },
    {
     "name": "stderr",
     "output_type": "stream",
     "text": [
      "\r",
      " 43%|████▎     | 23/54 [11:11<15:05, 29.21s/it]"
     ]
    },
    {
     "name": "stdout",
     "output_type": "stream",
     "text": [
      "../cache/bkup2/test7_1_t_store24.csv\n",
      "(2832305, 27)\n"
     ]
    },
    {
     "name": "stderr",
     "output_type": "stream",
     "text": [
      "\r",
      " 44%|████▍     | 24/54 [11:46<14:43, 29.45s/it]"
     ]
    },
    {
     "name": "stdout",
     "output_type": "stream",
     "text": [
      "../cache/bkup2/test7_1_t_store25.csv\n",
      "(2119436, 27)\n"
     ]
    },
    {
     "name": "stderr",
     "output_type": "stream",
     "text": [
      "\r",
      " 46%|████▋     | 25/54 [12:12<14:10, 29.32s/it]"
     ]
    },
    {
     "name": "stdout",
     "output_type": "stream",
     "text": [
      "../cache/bkup2/test7_1_t_store26.csv\n",
      "(1855498, 27)\n"
     ]
    },
    {
     "name": "stderr",
     "output_type": "stream",
     "text": [
      "\r",
      " 48%|████▊     | 26/54 [12:35<13:33, 29.06s/it]"
     ]
    },
    {
     "name": "stdout",
     "output_type": "stream",
     "text": [
      "../cache/bkup2/test7_1_t_store27.csv\n",
      "(2694130, 27)\n"
     ]
    },
    {
     "name": "stderr",
     "output_type": "stream",
     "text": [
      "\r",
      " 50%|█████     | 27/54 [13:08<13:08, 29.21s/it]"
     ]
    },
    {
     "name": "stdout",
     "output_type": "stream",
     "text": [
      "../cache/bkup2/test7_1_t_store28.csv\n",
      "(2481232, 27)\n"
     ]
    },
    {
     "name": "stderr",
     "output_type": "stream",
     "text": [
      "\r",
      " 52%|█████▏    | 28/54 [13:39<12:40, 29.26s/it]"
     ]
    },
    {
     "name": "stdout",
     "output_type": "stream",
     "text": [
      "../cache/bkup2/test7_1_t_store29.csv\n",
      "(1571375, 27)\n"
     ]
    },
    {
     "name": "stderr",
     "output_type": "stream",
     "text": [
      "\r",
      " 54%|█████▎    | 29/54 [13:58<12:02, 28.92s/it]"
     ]
    },
    {
     "name": "stdout",
     "output_type": "stream",
     "text": [
      "../cache/bkup2/test7_1_t_store30.csv\n",
      "(1660278, 27)\n"
     ]
    },
    {
     "name": "stderr",
     "output_type": "stream",
     "text": [
      "\r",
      " 56%|█████▌    | 30/54 [14:19<11:27, 28.63s/it]"
     ]
    },
    {
     "name": "stdout",
     "output_type": "stream",
     "text": [
      "../cache/bkup2/test7_1_t_store31.csv\n",
      "(2424140, 27)\n"
     ]
    },
    {
     "name": "stderr",
     "output_type": "stream",
     "text": [
      "\r",
      " 57%|█████▋    | 31/54 [14:48<10:59, 28.67s/it]"
     ]
    },
    {
     "name": "stdout",
     "output_type": "stream",
     "text": [
      "../cache/bkup2/test7_1_t_store32.csv\n",
      "(1425031, 27)\n"
     ]
    },
    {
     "name": "stderr",
     "output_type": "stream",
     "text": [
      "\r",
      " 59%|█████▉    | 32/54 [15:06<10:23, 28.32s/it]"
     ]
    },
    {
     "name": "stdout",
     "output_type": "stream",
     "text": [
      "../cache/bkup2/test7_1_t_store33.csv\n",
      "(2025901, 27)\n"
     ]
    },
    {
     "name": "stderr",
     "output_type": "stream",
     "text": [
      "\r",
      " 61%|██████    | 33/54 [15:31<09:52, 28.22s/it]"
     ]
    },
    {
     "name": "stdout",
     "output_type": "stream",
     "text": [
      "../cache/bkup2/test7_1_t_store34.csv\n",
      "(2361838, 27)\n"
     ]
    },
    {
     "name": "stderr",
     "output_type": "stream",
     "text": [
      "\r",
      " 63%|██████▎   | 34/54 [16:00<09:25, 28.25s/it]"
     ]
    },
    {
     "name": "stdout",
     "output_type": "stream",
     "text": [
      "../cache/bkup2/test7_1_t_store35.csv\n",
      "(1450520, 27)\n"
     ]
    },
    {
     "name": "stderr",
     "output_type": "stream",
     "text": [
      "\r",
      " 65%|██████▍   | 35/54 [16:18<08:51, 27.95s/it]"
     ]
    },
    {
     "name": "stdout",
     "output_type": "stream",
     "text": [
      "../cache/bkup2/test7_1_t_store36.csv\n",
      "(2273578, 27)\n"
     ]
    },
    {
     "name": "stderr",
     "output_type": "stream",
     "text": [
      "\r",
      " 67%|██████▋   | 36/54 [16:46<08:23, 27.95s/it]"
     ]
    },
    {
     "name": "stdout",
     "output_type": "stream",
     "text": [
      "../cache/bkup2/test7_1_t_store37.csv\n",
      "(2894107, 27)\n"
     ]
    },
    {
     "name": "stderr",
     "output_type": "stream",
     "text": [
      "\r",
      " 69%|██████▊   | 37/54 [17:21<07:58, 28.15s/it]"
     ]
    },
    {
     "name": "stdout",
     "output_type": "stream",
     "text": [
      "../cache/bkup2/test7_1_t_store38.csv\n",
      "(2790147, 27)\n"
     ]
    },
    {
     "name": "stderr",
     "output_type": "stream",
     "text": [
      "\r",
      " 70%|███████   | 38/54 [17:55<07:32, 28.31s/it]"
     ]
    },
    {
     "name": "stdout",
     "output_type": "stream",
     "text": [
      "../cache/bkup2/test7_1_t_store39.csv\n",
      "(2700452, 27)\n"
     ]
    },
    {
     "name": "stderr",
     "output_type": "stream",
     "text": [
      "\r",
      " 72%|███████▏  | 39/54 [18:28<07:06, 28.43s/it]"
     ]
    },
    {
     "name": "stdout",
     "output_type": "stream",
     "text": [
      "../cache/bkup2/test7_1_t_store40.csv\n",
      "(2165215, 27)\n"
     ]
    },
    {
     "name": "stderr",
     "output_type": "stream",
     "text": [
      "\r",
      " 74%|███████▍  | 40/54 [18:55<06:37, 28.38s/it]"
     ]
    },
    {
     "name": "stdout",
     "output_type": "stream",
     "text": [
      "../cache/bkup2/test7_1_t_store41.csv\n",
      "(2566335, 27)\n"
     ]
    },
    {
     "name": "stderr",
     "output_type": "stream",
     "text": [
      "\r",
      " 76%|███████▌  | 41/54 [19:27<06:10, 28.47s/it]"
     ]
    },
    {
     "name": "stdout",
     "output_type": "stream",
     "text": [
      "../cache/bkup2/test7_1_t_store42.csv\n",
      "(1524099, 27)\n"
     ]
    },
    {
     "name": "stderr",
     "output_type": "stream",
     "text": [
      "\r",
      " 78%|███████▊  | 42/54 [19:45<05:38, 28.23s/it]"
     ]
    },
    {
     "name": "stdout",
     "output_type": "stream",
     "text": [
      "../cache/bkup2/test7_1_t_store43.csv\n",
      "(2002110, 27)\n"
     ]
    },
    {
     "name": "stderr",
     "output_type": "stream",
     "text": [
      "\r",
      " 80%|███████▉  | 43/54 [20:10<05:09, 28.14s/it]"
     ]
    },
    {
     "name": "stdout",
     "output_type": "stream",
     "text": [
      "../cache/bkup2/test7_1_t_store44.csv\n",
      "(3575505, 27)\n"
     ]
    },
    {
     "name": "stderr",
     "output_type": "stream",
     "text": [
      "\r",
      " 81%|████████▏ | 44/54 [20:54<04:45, 28.50s/it]"
     ]
    },
    {
     "name": "stdout",
     "output_type": "stream",
     "text": [
      "../cache/bkup2/test7_1_t_store45.csv\n",
      "(3546660, 27)\n"
     ]
    },
    {
     "name": "stderr",
     "output_type": "stream",
     "text": [
      "\r",
      " 83%|████████▎ | 45/54 [21:37<04:19, 28.84s/it]"
     ]
    },
    {
     "name": "stdout",
     "output_type": "stream",
     "text": [
      "../cache/bkup2/test7_1_t_store46.csv\n",
      "(3416306, 27)\n"
     ]
    },
    {
     "name": "stderr",
     "output_type": "stream",
     "text": [
      "\r",
      " 85%|████████▌ | 46/54 [22:20<03:53, 29.13s/it]"
     ]
    },
    {
     "name": "stdout",
     "output_type": "stream",
     "text": [
      "../cache/bkup2/test7_1_t_store47.csv\n",
      "(3519823, 27)\n"
     ]
    },
    {
     "name": "stderr",
     "output_type": "stream",
     "text": [
      "\r",
      " 87%|████████▋ | 47/54 [23:03<03:26, 29.44s/it]"
     ]
    },
    {
     "name": "stdout",
     "output_type": "stream",
     "text": [
      "../cache/bkup2/test7_1_t_store48.csv\n",
      "(3298939, 27)\n"
     ]
    },
    {
     "name": "stderr",
     "output_type": "stream",
     "text": [
      "\r",
      " 89%|████████▉ | 48/54 [23:44<02:58, 29.67s/it]"
     ]
    },
    {
     "name": "stdout",
     "output_type": "stream",
     "text": [
      "../cache/bkup2/test7_1_t_store49.csv\n",
      "(3404947, 27)\n"
     ]
    },
    {
     "name": "stderr",
     "output_type": "stream",
     "text": [
      "\r",
      " 91%|█████████ | 49/54 [24:26<02:29, 29.93s/it]"
     ]
    },
    {
     "name": "stdout",
     "output_type": "stream",
     "text": [
      "../cache/bkup2/test7_1_t_store50.csv\n",
      "(3254982, 27)\n"
     ]
    },
    {
     "name": "stderr",
     "output_type": "stream",
     "text": [
      "\r",
      " 93%|█████████▎| 50/54 [25:06<02:00, 30.14s/it]"
     ]
    },
    {
     "name": "stdout",
     "output_type": "stream",
     "text": [
      "../cache/bkup2/test7_1_t_store51.csv\n",
      "(3022447, 27)\n"
     ]
    },
    {
     "name": "stderr",
     "output_type": "stream",
     "text": [
      "\r",
      " 94%|█████████▍| 51/54 [25:44<01:30, 30.28s/it]"
     ]
    },
    {
     "name": "stdout",
     "output_type": "stream",
     "text": [
      "../cache/bkup2/test7_1_t_store52.csv\n",
      "(352997, 27)\n"
     ]
    },
    {
     "name": "stderr",
     "output_type": "stream",
     "text": [
      "\r",
      " 96%|█████████▋| 52/54 [25:48<00:59, 29.78s/it]"
     ]
    },
    {
     "name": "stdout",
     "output_type": "stream",
     "text": [
      "../cache/bkup2/test7_1_t_store53.csv\n",
      "(2000671, 27)\n"
     ]
    },
    {
     "name": "stderr",
     "output_type": "stream",
     "text": [
      "\r",
      " 98%|█████████▊| 53/54 [26:12<00:29, 29.67s/it]"
     ]
    },
    {
     "name": "stdout",
     "output_type": "stream",
     "text": [
      "../cache/bkup2/test7_1_t_store54.csv\n",
      "(1711283, 27)\n"
     ]
    },
    {
     "name": "stderr",
     "output_type": "stream",
     "text": [
      "100%|██████████| 54/54 [26:33<00:00, 29.51s/it]\n"
     ]
    }
   ],
   "source": [
    "for shop_num in tqdm(range(1,55)):\n",
    "    fn_org = '../cache/bkup/train10_t_store{}.csv'.format(shop_num)\n",
    "    fn_org1 = '../cache/bkup2/test7_1_t_store{}.csv'.format(shop_num)\n",
    "    print(fn_org1)\n",
    "    df = pd.read_csv(fn_org)\n",
    "    df1 = pd.read_csv(fn_org1)\n",
    "    df = pd.concat([df, df1], axis=0)\n",
    "    \n",
    "    print(df.shape)\n",
    "    df['date_block_num']  = df.date.map(lambda x: get_date_block_num(x))\n",
    "    df['in_dow']  = df.item_nbr.astype('str') + '_' + df.dow.astype('str')\n",
    "    \n",
    "#     df = df.drop_duplicates()\n",
    "    unit_sales_dow_mean = df.groupby(['in_dow', 'date_block_num'], as_index=False).agg({'unit_sales':{'unit_sales_dow_mean':'mean'}, \n",
    "                                                         })\n",
    "    unit_sales_dow_mean.columns = ['in_dow', 'date_block_num', 'unit_sales_dow_mean']\n",
    "    df = pd.merge(df, unit_sales_dow_mean, how='left', on=['in_dow', 'date_block_num']).fillna(0.0)\n",
    "\n",
    "#     unit_sales_median = df.groupby(['item_nbr', 'date_block_num'], as_index=False).agg({'unit_sales':{'unit_sales_median':'median'}, \n",
    "#                                                          })\n",
    "#     unit_sales_median.columns = ['item_nbr', 'date_block_num', 'unit_sales_median']\n",
    "#     df = pd.merge(df, unit_sales_median, how='left', on=['item_nbr', 'date_block_num']).fillna(0.0)\n",
    "    \n",
    "#     unit_sales_std = df.groupby(['item_nbr', 'date_block_num'], as_index=False).agg({'unit_sales':{'unit_sales_std':'std'}, \n",
    "#                                                          })\n",
    "#     unit_sales_std.columns = ['item_nbr', 'date_block_num', 'unit_sales_std']\n",
    "#     df = pd.merge(df, unit_sales_std, how='left', on=['item_nbr', 'date_block_num']).fillna(0.0)\n",
    "    \n",
    "    \n",
    "    shifted_df = df[['id', 'date_block_num','in_dow','unit_sales_dow_mean']].copy()\n",
    "    \n",
    "    fn = '../cache/shifted_rsdow_df_shop{}.csv'.format(shop_num)\n",
    "    delete_file_if_exists(fn)\n",
    "    \n",
    "    shifted_df.to_csv(fn, float_format='%.5f', index=False)\n",
    "    del shifted_df\n",
    "    del df1\n",
    "    del df\n",
    "    del unit_sales_dow_mean\n",
    "#     del unit_sales_hol_median\n",
    "#     del unit_sales_hol_std\n"
   ]
  },
  {
   "cell_type": "code",
   "execution_count": 5,
   "metadata": {
    "collapsed": false
   },
   "outputs": [
    {
     "name": "stderr",
     "output_type": "stream",
     "text": [
      "100%|██████████| 54/54 [08:52<00:00,  9.87s/it]\n"
     ]
    }
   ],
   "source": [
    "# from tqdm import tqdm\n",
    "for shop_num in tqdm(range(1,55)):\n",
    "    fn = '../cache/shifted_rsdow_df_shop{}.csv'.format(shop_num)\n",
    "    df1 = pd.read_csv(fn)\n",
    "\n",
    "#     print(df1.shape)\n",
    "#     print(set(df1.date_block_num))\n",
    "#     df1 = df1.drop('my_id', axis=1)\n",
    "    # forward\n",
    "    # 1 month\n",
    "    shifted_df = df1[['date_block_num','in_dow','unit_sales_dow_mean']].copy()\n",
    "#     print(shifted_df.shape)\n",
    "    org_date_blocks = shifted_df.date_block_num.values\n",
    "    shifted_df.date_block_num += 1\n",
    "    shifted_df.columns = ['date_block_num','in_dow', 'unit_sales_dow_mean_f_lag_1']\n",
    "#     print(shifted_df.date_block_num.nunique())\n",
    "    \n",
    "    df1 = df1.merge(shifted_df, on=['date_block_num','in_dow'], how='left').fillna(0.0)\n",
    "    df1 = df1.drop_duplicates()\n",
    "    \n",
    "    assert(len(df1) == len(shifted_df))\n",
    "    \n",
    "    df = pd.DataFrame()\n",
    "    df['id'] = df1.id.values\n",
    "    df['unit_sales_dow_mean_f_lag_1'] = df1.unit_sales_dow_mean_f_lag_1.values\n",
    "    df = df.loc[:, (df != 0).any(axis=0)]\n",
    "    if len(df.columns) != 2:\n",
    "        print(shop_num)\n",
    "        print(df1.shape)\n",
    "        print(set(df1.date_block_num))\n",
    "        print(shifted_df.date_block_num.nunique())\n",
    "        print(set(shifted_df.date_block_num))\n",
    "        print(df.shape)\n",
    "        print('------')\n",
    "    fn = '../cache/lag1_sales_mean_rsdow_df_shop{}.csv'.format(shop_num)\n",
    "    delete_file_if_exists(fn)\n",
    "    df.to_csv(fn, float_format='%.5f', index=False)\n",
    "    del shifted_df\n",
    "    del df1\n",
    "    del df"
   ]
  },
  {
   "cell_type": "code",
   "execution_count": 6,
   "metadata": {
    "collapsed": false
   },
   "outputs": [
    {
     "name": "stderr",
     "output_type": "stream",
     "text": [
      "100%|██████████| 54/54 [08:47<00:00,  9.76s/it]\n"
     ]
    }
   ],
   "source": [
    "# from tqdm import tqdm\n",
    "for shop_num in tqdm(range(1,55)):\n",
    "    fn = '../cache/shifted_rsdow_df_shop{}.csv'.format(shop_num)\n",
    "    df1 = pd.read_csv(fn)\n",
    "\n",
    "#     print(df1.shape)\n",
    "#     print(set(df1.date_block_num))\n",
    "#     df1 = df1.drop('my_id', axis=1)\n",
    "    # forward\n",
    "    # 1 month\n",
    "    shifted_df = df1[['date_block_num','in_dow','unit_sales_dow_mean']].copy()\n",
    "#     print(shifted_df.shape)\n",
    "    org_date_blocks = shifted_df.date_block_num.values\n",
    "    shifted_df.date_block_num += 3\n",
    "    shifted_df.columns = ['date_block_num','in_dow', 'unit_sales_dow_mean_f_lag_3']\n",
    "#     print(shifted_df.date_block_num.nunique())\n",
    "    \n",
    "    df1 = df1.merge(shifted_df, on=['date_block_num','in_dow'], how='left').fillna(0.0)\n",
    "    df1 = df1.drop_duplicates()\n",
    "    \n",
    "    assert(len(df1) == len(shifted_df))\n",
    "    \n",
    "    df = pd.DataFrame()\n",
    "    df['id'] = df1.id.values\n",
    "    df['unit_sales_dow_mean_f_lag_3'] = df1.unit_sales_dow_mean_f_lag_3.values\n",
    "    df = df.loc[:, (df != 0).any(axis=0)]\n",
    "    if len(df.columns) != 2:\n",
    "        print(shop_num)\n",
    "        print(df1.shape)\n",
    "        print(set(df1.date_block_num))\n",
    "        print(shifted_df.date_block_num.nunique())\n",
    "        print(set(shifted_df.date_block_num))\n",
    "        print(df.shape)\n",
    "        print('------')\n",
    "    fn = '../cache/lag3_sales_mean_rsdow_df_shop{}.csv'.format(shop_num)\n",
    "    delete_file_if_exists(fn)\n",
    "    df.to_csv(fn, float_format='%.5f', index=False)\n",
    "    del shifted_df\n",
    "    del df1\n",
    "    del df"
   ]
  },
  {
   "cell_type": "code",
   "execution_count": 7,
   "metadata": {
    "collapsed": false
   },
   "outputs": [
    {
     "name": "stderr",
     "output_type": "stream",
     "text": [
      " 94%|█████████▍| 51/54 [08:24<00:29,  9.90s/it]"
     ]
    },
    {
     "name": "stdout",
     "output_type": "stream",
     "text": [
      "52\n",
      "(352997, 5)\n",
      "{51, 52, 53, 54, 55}\n",
      "5\n",
      "{57, 58, 59, 60, 61}\n",
      "(352997, 1)\n",
      "------\n"
     ]
    },
    {
     "name": "stderr",
     "output_type": "stream",
     "text": [
      "100%|██████████| 54/54 [08:40<00:00,  9.64s/it]\n"
     ]
    }
   ],
   "source": [
    "# from tqdm import tqdm\n",
    "for shop_num in tqdm(range(1,55)):\n",
    "    fn = '../cache/shifted_rsdow_df_shop{}.csv'.format(shop_num)\n",
    "    df1 = pd.read_csv(fn)\n",
    "\n",
    "#     print(df1.shape)\n",
    "#     print(set(df1.date_block_num))\n",
    "#     df1 = df1.drop('my_id', axis=1)\n",
    "    # forward\n",
    "    # 1 month\n",
    "    shifted_df = df1[['date_block_num','in_dow','unit_sales_dow_mean']].copy()\n",
    "#     print(shifted_df.shape)\n",
    "    org_date_blocks = shifted_df.date_block_num.values\n",
    "    shifted_df.date_block_num += 6\n",
    "    shifted_df.columns = ['date_block_num','in_dow', 'unit_sales_dow_mean_f_lag_6']\n",
    "#     print(shifted_df.date_block_num.nunique())\n",
    "    \n",
    "    df1 = df1.merge(shifted_df, on=['date_block_num','in_dow'], how='left').fillna(0.0)\n",
    "    df1 = df1.drop_duplicates()\n",
    "    \n",
    "    assert(len(df1) == len(shifted_df))\n",
    "    \n",
    "    df = pd.DataFrame()\n",
    "    df['id'] = df1.id.values\n",
    "    df['unit_sales_dow_mean_f_lag_6'] = df1.unit_sales_dow_mean_f_lag_6.values\n",
    "    df = df.loc[:, (df != 0).any(axis=0)]\n",
    "    if len(df.columns) != 2:\n",
    "        print(shop_num)\n",
    "        print(df1.shape)\n",
    "        print(set(df1.date_block_num))\n",
    "        print(shifted_df.date_block_num.nunique())\n",
    "        print(set(shifted_df.date_block_num))\n",
    "        print(df.shape)\n",
    "        print('------')\n",
    "    fn = '../cache/lag6_sales_mean_rsdow_df_shop{}.csv'.format(shop_num)\n",
    "    delete_file_if_exists(fn)\n",
    "    df.to_csv(fn, float_format='%.5f', index=False)\n",
    "    del shifted_df\n",
    "    del df1\n",
    "    del df"
   ]
  },
  {
   "cell_type": "code",
   "execution_count": 8,
   "metadata": {
    "collapsed": false
   },
   "outputs": [
    {
     "name": "stderr",
     "output_type": "stream",
     "text": [
      " 94%|█████████▍| 51/54 [08:13<00:29,  9.68s/it]"
     ]
    },
    {
     "name": "stdout",
     "output_type": "stream",
     "text": [
      "52\n",
      "(352997, 5)\n",
      "{51, 52, 53, 54, 55}\n",
      "5\n",
      "{64, 65, 66, 67, 63}\n",
      "(352997, 1)\n",
      "------\n"
     ]
    },
    {
     "name": "stderr",
     "output_type": "stream",
     "text": [
      "100%|██████████| 54/54 [08:28<00:00,  9.43s/it]\n"
     ]
    }
   ],
   "source": [
    "# from tqdm import tqdm\n",
    "for shop_num in tqdm(range(1,55)):\n",
    "    fn = '../cache/shifted_rsdow_df_shop{}.csv'.format(shop_num)\n",
    "    df1 = pd.read_csv(fn)\n",
    "\n",
    "#     print(df1.shape)\n",
    "#     print(set(df1.date_block_num))\n",
    "#     df1 = df1.drop('my_id', axis=1)\n",
    "    # forward\n",
    "    # 1 month\n",
    "    shifted_df = df1[['date_block_num','in_dow','unit_sales_dow_mean']].copy()\n",
    "#     print(shifted_df.shape)\n",
    "    org_date_blocks = shifted_df.date_block_num.values\n",
    "    shifted_df.date_block_num += 12\n",
    "    shifted_df.columns = ['date_block_num','in_dow', 'unit_sales_dow_mean_f_lag_12']\n",
    "#     print(shifted_df.date_block_num.nunique())\n",
    "    \n",
    "    df1 = df1.merge(shifted_df, on=['date_block_num','in_dow'], how='left').fillna(0.0)\n",
    "    df1 = df1.drop_duplicates()\n",
    "    \n",
    "    assert(len(df1) == len(shifted_df))\n",
    "    \n",
    "    df = pd.DataFrame()\n",
    "    df['id'] = df1.id.values\n",
    "    df['unit_sales_dow_mean_f_lag_12'] = df1.unit_sales_dow_mean_f_lag_12.values\n",
    "    df = df.loc[:, (df != 0).any(axis=0)]\n",
    "    if len(df.columns) != 2:\n",
    "        print(shop_num)\n",
    "        print(df1.shape)\n",
    "        print(set(df1.date_block_num))\n",
    "        print(shifted_df.date_block_num.nunique())\n",
    "        print(set(shifted_df.date_block_num))\n",
    "        print(df.shape)\n",
    "        print('------')\n",
    "    fn = '../cache/lag12_sales_mean_rsdow_df_shop{}.csv'.format(shop_num)\n",
    "    delete_file_if_exists(fn)\n",
    "    df.to_csv(fn, float_format='%.5f', index=False)\n",
    "    del shifted_df\n",
    "    del df1\n",
    "    del df"
   ]
  },
  {
   "cell_type": "code",
   "execution_count": 9,
   "metadata": {
    "collapsed": false
   },
   "outputs": [
    {
     "name": "stderr",
     "output_type": "stream",
     "text": [
      " 39%|███▉      | 21/54 [03:10<04:58,  9.06s/it]"
     ]
    },
    {
     "name": "stdout",
     "output_type": "stream",
     "text": [
      "22\n",
      "(985899, 5)\n",
      "{33, 34, 35, 36, 37, 38, 39, 40, 41, 42, 43, 44, 45, 46, 47, 48, 49, 50, 51, 52, 53, 54, 55}\n",
      "23\n",
      "{57, 58, 59, 60, 61, 62, 63, 64, 65, 66, 67, 68, 69, 70, 71, 72, 73, 74, 75, 76, 77, 78, 79}\n",
      "(985899, 1)\n",
      "------\n"
     ]
    },
    {
     "name": "stderr",
     "output_type": "stream",
     "text": [
      " 94%|█████████▍| 51/54 [07:49<00:27,  9.20s/it]"
     ]
    },
    {
     "name": "stdout",
     "output_type": "stream",
     "text": [
      "52\n",
      "(352997, 5)\n",
      "{51, 52, 53, 54, 55}\n",
      "5\n",
      "{75, 76, 77, 78, 79}\n",
      "(352997, 1)\n",
      "------\n"
     ]
    },
    {
     "name": "stderr",
     "output_type": "stream",
     "text": [
      "100%|██████████| 54/54 [08:03<00:00,  8.96s/it]\n"
     ]
    }
   ],
   "source": [
    "# from tqdm import tqdm\n",
    "for shop_num in tqdm(range(1,55)):\n",
    "    fn = '../cache/shifted_rsdow_df_shop{}.csv'.format(shop_num)\n",
    "    df1 = pd.read_csv(fn)\n",
    "\n",
    "#     print(df1.shape)\n",
    "#     print(set(df1.date_block_num))\n",
    "#     df1 = df1.drop('my_id', axis=1)\n",
    "    # forward\n",
    "    # 1 month\n",
    "    shifted_df = df1[['date_block_num','in_dow','unit_sales_dow_mean']].copy()\n",
    "#     print(shifted_df.shape)\n",
    "    org_date_blocks = shifted_df.date_block_num.values\n",
    "    shifted_df.date_block_num += 24\n",
    "    shifted_df.columns = ['date_block_num','in_dow', 'unit_sales_dow_mean_f_lag_24']\n",
    "#     print(shifted_df.date_block_num.nunique())\n",
    "    \n",
    "    df1 = df1.merge(shifted_df, on=['date_block_num','in_dow'], how='left').fillna(0.0)\n",
    "    df1 = df1.drop_duplicates()\n",
    "    \n",
    "    assert(len(df1) == len(shifted_df))\n",
    "    \n",
    "    df = pd.DataFrame()\n",
    "    df['id'] = df1.id.values\n",
    "    df['unit_sales_dow_mean_f_lag_24'] = df1.unit_sales_dow_mean_f_lag_24.values\n",
    "    df = df.loc[:, (df != 0).any(axis=0)]\n",
    "    if len(df.columns) != 2:\n",
    "        print(shop_num)\n",
    "        print(df1.shape)\n",
    "        print(set(df1.date_block_num))\n",
    "        print(shifted_df.date_block_num.nunique())\n",
    "        print(set(shifted_df.date_block_num))\n",
    "        print(df.shape)\n",
    "        print('------')\n",
    "    fn = '../cache/lag24_sales_mean_rsdow_df_shop{}.csv'.format(shop_num)\n",
    "    delete_file_if_exists(fn)\n",
    "    df.to_csv(fn, float_format='%.5f', index=False)\n",
    "    del shifted_df\n",
    "    del df1\n",
    "    del df"
   ]
  },
  {
   "cell_type": "code",
   "execution_count": 10,
   "metadata": {
    "collapsed": false
   },
   "outputs": [
    {
     "name": "stderr",
     "output_type": "stream",
     "text": [
      "100%|██████████| 54/54 [22:49<00:00, 25.36s/it]\n"
     ]
    }
   ],
   "source": [
    "for shop_num in tqdm(range(1,55)):\n",
    "    df1 = pd.DataFrame()\n",
    "    \n",
    "    df1['unit_sales_dow_mean_f_lag_1'] =0\n",
    "    df1['unit_sales_dow_mean_f_lag_3'] = 0\n",
    "    df1['unit_sales_dow_mean_f_lag_6'] = 0\n",
    "    df1['unit_sales_dow_mean_f_lag_12'] = 0\n",
    "    df1['unit_sales_dow_mean_f_lag_24'] = 0\n",
    "    \n",
    "    fn = '../cache/lag1_sales_mean_rsdow_df_shop{}.csv'.format(shop_num)\n",
    "    df2 = pd.read_csv(fn)\n",
    "    \n",
    "    fn = '../cache/lag3_sales_mean_rsdow_df_shop{}.csv'.format(shop_num)\n",
    "    df3 = pd.read_csv(fn)\n",
    "    \n",
    "    fn = '../cache/lag6_sales_mean_rsdow_df_shop{}.csv'.format(shop_num)\n",
    "    df4 = pd.read_csv(fn)\n",
    "    \n",
    "    fn = '../cache/lag12_sales_mean_rsdow_df_shop{}.csv'.format(shop_num)\n",
    "    df5 = pd.read_csv(fn)\n",
    "    \n",
    "    fn = '../cache/lag24_sales_mean_rsdow_df_shop{}.csv'.format(shop_num)\n",
    "    df6 = pd.read_csv(fn)\n",
    "    \n",
    "    df1['id'] = df2['id'].values\n",
    "    if len(df2.columns) > 1:\n",
    "        df1['unit_sales_dow_mean_f_lag_1'] = df2.unit_sales_dow_mean_f_lag_1.values\n",
    "        \n",
    "    if len(df3.columns) > 1:\n",
    "        df1['unit_sales_dow_mean_f_lag_3'] = df3.unit_sales_dow_mean_f_lag_3.values\n",
    "        \n",
    "        \n",
    "    if len(df4.columns) > 1:\n",
    "        df1['unit_sales_dow_mean_f_lag_6'] = df4.unit_sales_dow_mean_f_lag_6.values\n",
    "        \n",
    "    if len(df5.columns) > 1:\n",
    "        df1['unit_sales_dow_mean_f_lag_12'] = df5.unit_sales_dow_mean_f_lag_12.values\n",
    "        \n",
    "    if len(df6.columns) > 1:\n",
    "        df1['unit_sales_dow_mean_f_lag_24'] = df6.unit_sales_dow_mean_f_lag_24.values\n",
    "     \n",
    "    \n",
    "    \n",
    "    fn = '../cache/df_all_rsdow_lag_shop{}.csv'.format(shop_num)\n",
    "    delete_file_if_exists(fn)\n",
    "    \n",
    "#     const_col = []\n",
    "#     for col in df1.columns:\n",
    "#         c = len(set(df1[col].values))\n",
    "#         if c==1:\n",
    "#             const_col.append(col)\n",
    "#     if len(const_col) > 0:\n",
    "#         c = len(const_col)\n",
    "#         print(shop_num)\n",
    "#         print(c)\n",
    "#         print(df1.shape)\n",
    "#         print(const_col)\n",
    "    df1.to_csv(fn, float_format='%.5f', index=False)\n",
    "    del df1\n",
    "    del df2, df3, df4, df5, df6\n",
    "#     print('5..')\n",
    "    gc.collect()"
   ]
  },
  {
   "cell_type": "code",
   "execution_count": 11,
   "metadata": {
    "collapsed": false
   },
   "outputs": [
    {
     "name": "stderr",
     "output_type": "stream",
     "text": [
      "\r",
      "  0%|          | 0/54 [00:00<?, ?it/s]"
     ]
    },
    {
     "name": "stdout",
     "output_type": "stream",
     "text": [
      "../cache/bkup2/test7_1_t_store1.csv\n"
     ]
    },
    {
     "name": "stderr",
     "output_type": "stream",
     "text": [
      "/home/watts/anaconda2/envs/sdp35/lib/python3.5/site-packages/IPython/core/interactiveshell.py:2728: DtypeWarning: Columns (5) have mixed types. Specify dtype option on import or set low_memory=False.\n",
      "  interactivity=interactivity, compiler=compiler, result=result)\n",
      "  2%|▏         | 1/54 [00:25<22:08, 25.07s/it]"
     ]
    },
    {
     "name": "stdout",
     "output_type": "stream",
     "text": [
      "../cache/bkup2/test7_1_t_store2.csv\n"
     ]
    },
    {
     "name": "stderr",
     "output_type": "stream",
     "text": [
      "\r",
      "  4%|▎         | 2/54 [00:53<22:59, 26.53s/it]"
     ]
    },
    {
     "name": "stdout",
     "output_type": "stream",
     "text": [
      "../cache/bkup2/test7_1_t_store3.csv\n"
     ]
    },
    {
     "name": "stderr",
     "output_type": "stream",
     "text": [
      "\r",
      "  6%|▌         | 3/54 [01:25<24:17, 28.58s/it]"
     ]
    },
    {
     "name": "stdout",
     "output_type": "stream",
     "text": [
      "../cache/bkup2/test7_1_t_store4.csv\n"
     ]
    },
    {
     "name": "stderr",
     "output_type": "stream",
     "text": [
      "\r",
      "  7%|▋         | 4/54 [01:53<23:43, 28.47s/it]"
     ]
    },
    {
     "name": "stdout",
     "output_type": "stream",
     "text": [
      "../cache/bkup2/test7_1_t_store5.csv\n"
     ]
    },
    {
     "name": "stderr",
     "output_type": "stream",
     "text": [
      "\r",
      "  9%|▉         | 5/54 [02:19<22:46, 27.89s/it]"
     ]
    },
    {
     "name": "stdout",
     "output_type": "stream",
     "text": [
      "../cache/bkup2/test7_1_t_store6.csv\n"
     ]
    },
    {
     "name": "stderr",
     "output_type": "stream",
     "text": [
      "\r",
      " 11%|█         | 6/54 [02:48<22:24, 28.02s/it]"
     ]
    },
    {
     "name": "stdout",
     "output_type": "stream",
     "text": [
      "../cache/bkup2/test7_1_t_store7.csv\n"
     ]
    },
    {
     "name": "stderr",
     "output_type": "stream",
     "text": [
      "\r",
      " 13%|█▎        | 7/54 [03:15<21:51, 27.91s/it]"
     ]
    },
    {
     "name": "stdout",
     "output_type": "stream",
     "text": [
      "../cache/bkup2/test7_1_t_store8.csv\n"
     ]
    },
    {
     "name": "stderr",
     "output_type": "stream",
     "text": [
      "\r",
      " 15%|█▍        | 8/54 [03:46<21:44, 28.37s/it]"
     ]
    },
    {
     "name": "stdout",
     "output_type": "stream",
     "text": [
      "../cache/bkup2/test7_1_t_store9.csv\n"
     ]
    },
    {
     "name": "stderr",
     "output_type": "stream",
     "text": [
      "\r",
      " 17%|█▋        | 9/54 [04:13<21:07, 28.16s/it]"
     ]
    },
    {
     "name": "stdout",
     "output_type": "stream",
     "text": [
      "../cache/bkup2/test7_1_t_store10.csv\n"
     ]
    },
    {
     "name": "stderr",
     "output_type": "stream",
     "text": [
      "\r",
      " 19%|█▊        | 10/54 [04:29<19:45, 26.94s/it]"
     ]
    },
    {
     "name": "stdout",
     "output_type": "stream",
     "text": [
      "../cache/bkup2/test7_1_t_store11.csv\n"
     ]
    },
    {
     "name": "stderr",
     "output_type": "stream",
     "text": [
      "\r",
      " 20%|██        | 11/54 [04:54<19:10, 26.76s/it]"
     ]
    },
    {
     "name": "stdout",
     "output_type": "stream",
     "text": [
      "../cache/bkup2/test7_1_t_store12.csv\n"
     ]
    },
    {
     "name": "stderr",
     "output_type": "stream",
     "text": [
      "\r",
      " 22%|██▏       | 12/54 [05:13<18:15, 26.08s/it]"
     ]
    },
    {
     "name": "stdout",
     "output_type": "stream",
     "text": [
      "../cache/bkup2/test7_1_t_store13.csv\n"
     ]
    },
    {
     "name": "stderr",
     "output_type": "stream",
     "text": [
      "\r",
      " 24%|██▍       | 13/54 [05:30<17:22, 25.43s/it]"
     ]
    },
    {
     "name": "stdout",
     "output_type": "stream",
     "text": [
      "../cache/bkup2/test7_1_t_store14.csv\n"
     ]
    },
    {
     "name": "stderr",
     "output_type": "stream",
     "text": [
      "\r",
      " 26%|██▌       | 14/54 [05:48<16:35, 24.90s/it]"
     ]
    },
    {
     "name": "stdout",
     "output_type": "stream",
     "text": [
      "../cache/bkup2/test7_1_t_store15.csv\n"
     ]
    },
    {
     "name": "stderr",
     "output_type": "stream",
     "text": [
      "\r",
      " 28%|██▊       | 15/54 [06:08<15:58, 24.57s/it]"
     ]
    },
    {
     "name": "stdout",
     "output_type": "stream",
     "text": [
      "../cache/bkup2/test7_1_t_store16.csv\n"
     ]
    },
    {
     "name": "stderr",
     "output_type": "stream",
     "text": [
      "\r",
      " 30%|██▉       | 16/54 [06:27<15:19, 24.20s/it]"
     ]
    },
    {
     "name": "stdout",
     "output_type": "stream",
     "text": [
      "../cache/bkup2/test7_1_t_store17.csv\n"
     ]
    },
    {
     "name": "stderr",
     "output_type": "stream",
     "text": [
      "\r",
      " 31%|███▏      | 17/54 [06:48<14:49, 24.03s/it]"
     ]
    },
    {
     "name": "stdout",
     "output_type": "stream",
     "text": [
      "../cache/bkup2/test7_1_t_store18.csv\n"
     ]
    },
    {
     "name": "stderr",
     "output_type": "stream",
     "text": [
      "\r",
      " 33%|███▎      | 18/54 [07:09<14:18, 23.85s/it]"
     ]
    },
    {
     "name": "stdout",
     "output_type": "stream",
     "text": [
      "../cache/bkup2/test7_1_t_store19.csv\n"
     ]
    },
    {
     "name": "stderr",
     "output_type": "stream",
     "text": [
      "\r",
      " 35%|███▌      | 19/54 [07:27<13:45, 23.58s/it]"
     ]
    },
    {
     "name": "stdout",
     "output_type": "stream",
     "text": [
      "../cache/bkup2/test7_1_t_store20.csv\n"
     ]
    },
    {
     "name": "stderr",
     "output_type": "stream",
     "text": [
      "\r",
      " 37%|███▋      | 20/54 [07:49<13:17, 23.46s/it]"
     ]
    },
    {
     "name": "stdout",
     "output_type": "stream",
     "text": [
      "../cache/bkup2/test7_1_t_store21.csv\n"
     ]
    },
    {
     "name": "stderr",
     "output_type": "stream",
     "text": [
      "\r",
      " 39%|███▉      | 21/54 [08:07<12:46, 23.22s/it]"
     ]
    },
    {
     "name": "stdout",
     "output_type": "stream",
     "text": [
      "../cache/bkup2/test7_1_t_store22.csv\n"
     ]
    },
    {
     "name": "stderr",
     "output_type": "stream",
     "text": [
      "\r",
      " 41%|████      | 22/54 [08:17<12:04, 22.64s/it]"
     ]
    },
    {
     "name": "stdout",
     "output_type": "stream",
     "text": [
      "../cache/bkup2/test7_1_t_store23.csv\n"
     ]
    },
    {
     "name": "stderr",
     "output_type": "stream",
     "text": [
      "\r",
      " 43%|████▎     | 23/54 [08:41<11:42, 22.68s/it]"
     ]
    },
    {
     "name": "stdout",
     "output_type": "stream",
     "text": [
      "../cache/bkup2/test7_1_t_store24.csv\n"
     ]
    },
    {
     "name": "stderr",
     "output_type": "stream",
     "text": [
      "\r",
      " 44%|████▍     | 24/54 [09:09<11:26, 22.88s/it]"
     ]
    },
    {
     "name": "stdout",
     "output_type": "stream",
     "text": [
      "../cache/bkup2/test7_1_t_store25.csv\n"
     ]
    },
    {
     "name": "stderr",
     "output_type": "stream",
     "text": [
      "\r",
      " 46%|████▋     | 25/54 [09:28<10:59, 22.74s/it]"
     ]
    },
    {
     "name": "stdout",
     "output_type": "stream",
     "text": [
      "../cache/bkup2/test7_1_t_store26.csv\n"
     ]
    },
    {
     "name": "stderr",
     "output_type": "stream",
     "text": [
      "\r",
      " 48%|████▊     | 26/54 [09:44<10:29, 22.49s/it]"
     ]
    },
    {
     "name": "stdout",
     "output_type": "stream",
     "text": [
      "../cache/bkup2/test7_1_t_store27.csv\n"
     ]
    },
    {
     "name": "stderr",
     "output_type": "stream",
     "text": [
      "\r",
      " 50%|█████     | 27/54 [10:11<10:11, 22.63s/it]"
     ]
    },
    {
     "name": "stdout",
     "output_type": "stream",
     "text": [
      "../cache/bkup2/test7_1_t_store28.csv\n"
     ]
    },
    {
     "name": "stderr",
     "output_type": "stream",
     "text": [
      "\r",
      " 52%|█████▏    | 28/54 [10:33<09:48, 22.63s/it]"
     ]
    },
    {
     "name": "stdout",
     "output_type": "stream",
     "text": [
      "../cache/bkup2/test7_1_t_store29.csv\n"
     ]
    },
    {
     "name": "stderr",
     "output_type": "stream",
     "text": [
      "\r",
      " 54%|█████▎    | 29/54 [10:52<09:22, 22.49s/it]"
     ]
    },
    {
     "name": "stdout",
     "output_type": "stream",
     "text": [
      "../cache/bkup2/test7_1_t_store30.csv\n"
     ]
    },
    {
     "name": "stderr",
     "output_type": "stream",
     "text": [
      "\r",
      " 56%|█████▌    | 30/54 [11:08<08:54, 22.27s/it]"
     ]
    },
    {
     "name": "stdout",
     "output_type": "stream",
     "text": [
      "../cache/bkup2/test7_1_t_store31.csv\n"
     ]
    },
    {
     "name": "stderr",
     "output_type": "stream",
     "text": [
      "\r",
      " 57%|█████▋    | 31/54 [11:31<08:32, 22.30s/it]"
     ]
    },
    {
     "name": "stdout",
     "output_type": "stream",
     "text": [
      "../cache/bkup2/test7_1_t_store32.csv\n"
     ]
    },
    {
     "name": "stderr",
     "output_type": "stream",
     "text": [
      "\r",
      " 59%|█████▉    | 32/54 [11:44<08:04, 22.02s/it]"
     ]
    },
    {
     "name": "stdout",
     "output_type": "stream",
     "text": [
      "../cache/bkup2/test7_1_t_store33.csv\n"
     ]
    },
    {
     "name": "stderr",
     "output_type": "stream",
     "text": [
      "\r",
      " 61%|██████    | 33/54 [12:03<07:40, 21.93s/it]"
     ]
    },
    {
     "name": "stdout",
     "output_type": "stream",
     "text": [
      "../cache/bkup2/test7_1_t_store34.csv\n"
     ]
    },
    {
     "name": "stderr",
     "output_type": "stream",
     "text": [
      "\r",
      " 63%|██████▎   | 34/54 [12:26<07:18, 21.94s/it]"
     ]
    },
    {
     "name": "stdout",
     "output_type": "stream",
     "text": [
      "../cache/bkup2/test7_1_t_store35.csv\n"
     ]
    },
    {
     "name": "stderr",
     "output_type": "stream",
     "text": [
      "\r",
      " 65%|██████▍   | 35/54 [12:40<06:52, 21.72s/it]"
     ]
    },
    {
     "name": "stdout",
     "output_type": "stream",
     "text": [
      "../cache/bkup2/test7_1_t_store36.csv\n"
     ]
    },
    {
     "name": "stderr",
     "output_type": "stream",
     "text": [
      "\r",
      " 67%|██████▋   | 36/54 [13:02<06:31, 21.73s/it]"
     ]
    },
    {
     "name": "stdout",
     "output_type": "stream",
     "text": [
      "../cache/bkup2/test7_1_t_store37.csv\n"
     ]
    },
    {
     "name": "stderr",
     "output_type": "stream",
     "text": [
      "\r",
      " 69%|██████▊   | 37/54 [13:29<06:12, 21.89s/it]"
     ]
    },
    {
     "name": "stdout",
     "output_type": "stream",
     "text": [
      "../cache/bkup2/test7_1_t_store38.csv\n"
     ]
    },
    {
     "name": "stderr",
     "output_type": "stream",
     "text": [
      "\r",
      " 70%|███████   | 38/54 [13:54<05:51, 21.96s/it]"
     ]
    },
    {
     "name": "stdout",
     "output_type": "stream",
     "text": [
      "../cache/bkup2/test7_1_t_store39.csv\n"
     ]
    },
    {
     "name": "stderr",
     "output_type": "stream",
     "text": [
      "\r",
      " 72%|███████▏  | 39/54 [14:19<05:30, 22.03s/it]"
     ]
    },
    {
     "name": "stdout",
     "output_type": "stream",
     "text": [
      "../cache/bkup2/test7_1_t_store40.csv\n"
     ]
    },
    {
     "name": "stderr",
     "output_type": "stream",
     "text": [
      "\r",
      " 74%|███████▍  | 40/54 [14:39<05:07, 21.98s/it]"
     ]
    },
    {
     "name": "stdout",
     "output_type": "stream",
     "text": [
      "../cache/bkup2/test7_1_t_store41.csv\n"
     ]
    },
    {
     "name": "stderr",
     "output_type": "stream",
     "text": [
      "\r",
      " 76%|███████▌  | 41/54 [15:03<04:46, 22.05s/it]"
     ]
    },
    {
     "name": "stdout",
     "output_type": "stream",
     "text": [
      "../cache/bkup2/test7_1_t_store42.csv\n"
     ]
    },
    {
     "name": "stderr",
     "output_type": "stream",
     "text": [
      "\r",
      " 78%|███████▊  | 42/54 [15:21<04:23, 21.94s/it]"
     ]
    },
    {
     "name": "stdout",
     "output_type": "stream",
     "text": [
      "../cache/bkup2/test7_1_t_store43.csv\n"
     ]
    },
    {
     "name": "stderr",
     "output_type": "stream",
     "text": [
      "\r",
      " 80%|███████▉  | 43/54 [15:41<04:00, 21.90s/it]"
     ]
    },
    {
     "name": "stdout",
     "output_type": "stream",
     "text": [
      "../cache/bkup2/test7_1_t_store44.csv\n"
     ]
    },
    {
     "name": "stderr",
     "output_type": "stream",
     "text": [
      "\r",
      " 81%|████████▏ | 44/54 [16:15<03:41, 22.17s/it]"
     ]
    },
    {
     "name": "stdout",
     "output_type": "stream",
     "text": [
      "../cache/bkup2/test7_1_t_store45.csv\n"
     ]
    },
    {
     "name": "stderr",
     "output_type": "stream",
     "text": [
      "\r",
      " 83%|████████▎ | 45/54 [16:49<03:21, 22.44s/it]"
     ]
    },
    {
     "name": "stdout",
     "output_type": "stream",
     "text": [
      "../cache/bkup2/test7_1_t_store46.csv\n"
     ]
    },
    {
     "name": "stderr",
     "output_type": "stream",
     "text": [
      "\r",
      " 85%|████████▌ | 46/54 [17:21<03:01, 22.64s/it]"
     ]
    },
    {
     "name": "stdout",
     "output_type": "stream",
     "text": [
      "../cache/bkup2/test7_1_t_store47.csv\n"
     ]
    },
    {
     "name": "stderr",
     "output_type": "stream",
     "text": [
      "\r",
      " 87%|████████▋ | 47/54 [17:54<02:39, 22.85s/it]"
     ]
    },
    {
     "name": "stdout",
     "output_type": "stream",
     "text": [
      "../cache/bkup2/test7_1_t_store48.csv\n"
     ]
    },
    {
     "name": "stderr",
     "output_type": "stream",
     "text": [
      "\r",
      " 89%|████████▉ | 48/54 [18:23<02:17, 23.00s/it]"
     ]
    },
    {
     "name": "stdout",
     "output_type": "stream",
     "text": [
      "../cache/bkup2/test7_1_t_store49.csv\n"
     ]
    },
    {
     "name": "stderr",
     "output_type": "stream",
     "text": [
      "\r",
      " 91%|█████████ | 49/54 [18:54<01:55, 23.16s/it]"
     ]
    },
    {
     "name": "stdout",
     "output_type": "stream",
     "text": [
      "../cache/bkup2/test7_1_t_store50.csv\n"
     ]
    },
    {
     "name": "stderr",
     "output_type": "stream",
     "text": [
      "\r",
      " 93%|█████████▎| 50/54 [19:25<01:33, 23.30s/it]"
     ]
    },
    {
     "name": "stdout",
     "output_type": "stream",
     "text": [
      "../cache/bkup2/test7_1_t_store51.csv\n"
     ]
    },
    {
     "name": "stderr",
     "output_type": "stream",
     "text": [
      "\r",
      " 94%|█████████▍| 51/54 [19:50<01:10, 23.35s/it]"
     ]
    },
    {
     "name": "stdout",
     "output_type": "stream",
     "text": [
      "../cache/bkup2/test7_1_t_store52.csv\n"
     ]
    },
    {
     "name": "stderr",
     "output_type": "stream",
     "text": [
      "\r",
      " 96%|█████████▋| 52/54 [19:52<00:45, 22.94s/it]"
     ]
    },
    {
     "name": "stdout",
     "output_type": "stream",
     "text": [
      "../cache/bkup2/test7_1_t_store53.csv\n"
     ]
    },
    {
     "name": "stderr",
     "output_type": "stream",
     "text": [
      "\r",
      " 98%|█████████▊| 53/54 [20:12<00:22, 22.88s/it]"
     ]
    },
    {
     "name": "stdout",
     "output_type": "stream",
     "text": [
      "../cache/bkup2/test7_1_t_store54.csv\n"
     ]
    },
    {
     "name": "stderr",
     "output_type": "stream",
     "text": [
      "100%|██████████| 54/54 [20:26<00:00, 22.72s/it]\n"
     ]
    }
   ],
   "source": [
    "for shop_num in tqdm(range(1,55)):\n",
    "    fn_org = '../cache/bkup/train10_t_store{}.csv'.format(shop_num)\n",
    "    fn_org1 = '../cache/bkup2/test7_1_t_store{}.csv'.format(shop_num)\n",
    "    print(fn_org1)\n",
    "    train_org = pd.read_csv(fn_org)\n",
    "    test_org = pd.read_csv(fn_org1)\n",
    "    df_shop_all = pd.concat([train_org, test_org], axis=0)\n",
    "    \n",
    "#     fn_org = '../cache/bkup/train10_t_store{}.csv'.format(shop_num)\n",
    "#     train_org = pd.read_csv(fn_org)\n",
    "    \n",
    "    fn = '../cache/df_all_rsdow_lag_shop{}.csv'.format(shop_num)\n",
    "    df = pd.read_csv(fn)\n",
    "    df['date'] = df_shop_all.date.values\n",
    "    \n",
    "    df_train = df[:len(train_org)]\n",
    "    df_train = df_train[(df_train.date.astype('str') >= str('2015-01-01')) & \n",
    "                        (df_train.date.astype('str') <= str('2017-08-15'))]\n",
    "    df_train = df_train.drop('date', axis=1)\n",
    "    \n",
    "    df_test = df[len(train_org):]\n",
    "    df_test = df_test.drop('date', axis=1)\n",
    "    assert(len(test_org) == len(df_test))\n",
    "    \n",
    "    fn_tr = '../cache/df_train10_t_rsdow_lag_shop{}.csv'.format(shop_num)\n",
    "    fn_te = '../cache/df_test7_1_rsdow_lag_shop{}.csv'.format(shop_num)\n",
    "    delete_file_if_exists(fn_tr)\n",
    "    delete_file_if_exists(fn_te)\n",
    "    \n",
    "    df_train.to_csv(fn_tr, index=False, float_format='%.5f')\n",
    "    df_test.to_csv(fn_te, index=False, float_format='%.5f')\n",
    "    \n",
    "    del df_shop_all\n",
    "    del train_org, test_org\n",
    "    del df_train\n",
    "    del df_test"
   ]
  },
  {
   "cell_type": "code",
   "execution_count": null,
   "metadata": {
    "collapsed": true
   },
   "outputs": [],
   "source": []
  },
  {
   "cell_type": "code",
   "execution_count": null,
   "metadata": {
    "collapsed": true
   },
   "outputs": [],
   "source": [
    "# Multi-threaded processes to utilize all available CPUs for this task. Note that many threads will block on IO\n",
    "# so creating more than number of CPUs.    \n",
    "# thread_pool = Pool(32)\n",
    "# thread_pool.map (segment_pad_and_save_ct_scan_as_npz, dicom_folder_list)\n",
    "\n",
    "# # Cleanup\n",
    "# thread_pool.close()\n",
    "# thread_pool.join_thread()"
   ]
  },
  {
   "cell_type": "code",
   "execution_count": null,
   "metadata": {
    "collapsed": true
   },
   "outputs": [],
   "source": [
    "gc.collect()"
   ]
  },
  {
   "cell_type": "code",
   "execution_count": null,
   "metadata": {
    "collapsed": true
   },
   "outputs": [],
   "source": [
    "# i = 1\n",
    "# fn = '../cache/train10_t_store{}.csv'.format(i)\n",
    "# df = pd.read_csv(fn)\n",
    "# df.unit_sales[df.unit_sales < 0] = 0\n",
    "# df1 = df.set_index('date')\n",
    "# dates = np.unique(df.date.values)\n",
    "# for j, date in tqdm(enumerate(dates)):\n",
    "#     if j > 0:\n",
    "#         break\n",
    "#     print(j)\n",
    "#     calculate_recent_stats(date, df, df1)\n",
    "# for days in [15, 30, 60, 90, 180, 365, 730, 1095, 1460]:\n",
    "#     df = set_recent_df_stats(df ,df1, days)\n",
    "# print(df.shape)\n",
    "# print(sum(df.isnull().any()==True))\n",
    "# print(sum((df != 0).any(axis=0)))\n",
    "# fn = '../cache/train10_t_store{}_recent_stats.csv'.format(i)\n",
    "# print(fn)"
   ]
  },
  {
   "cell_type": "code",
   "execution_count": null,
   "metadata": {
    "collapsed": true
   },
   "outputs": [],
   "source": [
    "# df.isnull().sum()"
   ]
  },
  {
   "cell_type": "code",
   "execution_count": null,
   "metadata": {
    "collapsed": true
   },
   "outputs": [],
   "source": [
    "# for i in tqdm(range(44,55)):\n",
    "#     for dow in range(7):\n",
    "#         fn_tmp = '../cache/train10_t_store{}_recent_stats_dow{}_tmp.csv'.format(i, dow)\n",
    "#         delete_file_if_exists(fn_tmp)\n",
    "#     fn = '../cache/train10_t_store{}_recent_stats_dow.csv'.format(i)\n",
    "#     df = pd.read_csv(fn)\n",
    "#     df.to_csv(fn, float_format='%.5f', index=False)\n",
    "#     del df"
   ]
  },
  {
   "cell_type": "code",
   "execution_count": 3,
   "metadata": {
    "collapsed": true
   },
   "outputs": [],
   "source": [
    "from scipy.sparse import save_npz, load_npz\n",
    "import sys\n",
    "\n",
    "sys.stdout = open('/dev/stdout', 'w')\n",
    "new_cols = []"
   ]
  },
  {
   "cell_type": "code",
   "execution_count": 4,
   "metadata": {
    "collapsed": false
   },
   "outputs": [
    {
     "name": "stderr",
     "output_type": "stream",
     "text": [
      "100%|██████████| 5/5 [00:00<00:00, 8709.10it/s]\n"
     ]
    }
   ],
   "source": [
    "recent_days = [30, 90, 180, 365, 730]\n",
    "for days in tqdm(recent_days):\n",
    "    for dow in range(5, 7):\n",
    "        new_cols.append('us_{}_dow{}_mean'.format(days, dow))\n",
    "        new_cols.append('us_{}_dow{}_med'.format(days, dow))\n",
    "        new_cols.append('us_{}_dow{}_std'.format(days, dow))\n",
    "        new_cols.append('us_{}_dow{}_skew'.format(days, dow))\n",
    "        new_cols.append('us_{}_dow{}_kurt'.format(days, dow))\n",
    "        new_cols.append('us_{}_dow{}_tbn'.format(days, dow))"
   ]
  },
  {
   "cell_type": "code",
   "execution_count": 5,
   "metadata": {
    "collapsed": true
   },
   "outputs": [],
   "source": [
    "df_test_rsdow = pd.DataFrame()\n",
    "for store_num in range(1,55):\n",
    "    print(store_num)\n",
    "    fn = '../cache/test7_1_t_store{}_recent_stats_dow_1.csv'.format(store_num)\n",
    "    df = pd.read_csv(fn)\n",
    "    df = df[new_cols + ['id']]\n",
    "    df_test_rsdow = pd.concat([df_test_rsdow, df], axis=0)\n",
    "    del df"
   ]
  },
  {
   "cell_type": "code",
   "execution_count": 6,
   "metadata": {
    "collapsed": true
   },
   "outputs": [],
   "source": [
    "df_test_rsdow = df_test_rsdow.sort_values('id')\n",
    "df_test_rsdow = df_test_rsdow[new_cols]"
   ]
  },
  {
   "cell_type": "code",
   "execution_count": 7,
   "metadata": {
    "collapsed": false
   },
   "outputs": [
    {
     "data": {
      "text/plain": [
       "(3370464, 60)"
      ]
     },
     "execution_count": 7,
     "metadata": {},
     "output_type": "execute_result"
    }
   ],
   "source": [
    "df_test_rsdow.shape"
   ]
  },
  {
   "cell_type": "code",
   "execution_count": 8,
   "metadata": {
    "collapsed": true
   },
   "outputs": [],
   "source": [
    "delete_file_if_exists('../cache/df_test_rsdow.csv')\n",
    "df_test_rsdow.to_csv('../cache/df_test_rsdow.csv', index=False, float_format='%.5f')"
   ]
  },
  {
   "cell_type": "code",
   "execution_count": 9,
   "metadata": {
    "collapsed": true
   },
   "outputs": [],
   "source": [
    "X_test_rsdow = df_test_rsdow.values\n",
    "np.save('../cache/X_test_rsdow', X_test_rsdow)"
   ]
  },
  {
   "cell_type": "code",
   "execution_count": null,
   "metadata": {
    "collapsed": true
   },
   "outputs": [],
   "source": []
  }
 ],
 "metadata": {
  "kernelspec": {
   "display_name": "sdp35",
   "language": "python",
   "name": "sdp35"
  },
  "language_info": {
   "codemirror_mode": {
    "name": "ipython",
    "version": 3
   },
   "file_extension": ".py",
   "mimetype": "text/x-python",
   "name": "python",
   "nbconvert_exporter": "python",
   "pygments_lexer": "ipython3",
   "version": "3.5.4"
  }
 },
 "nbformat": 4,
 "nbformat_minor": 2
}
