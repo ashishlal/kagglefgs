{
 "cells": [
  {
   "cell_type": "code",
   "execution_count": 1,
   "metadata": {
    "collapsed": true
   },
   "outputs": [],
   "source": [
    "import os\n",
    "from tqdm import tqdm\n",
    "import feather\n",
    "import pandas as pd\n",
    "import numpy as np\n",
    "from scipy import stats\n",
    "import gc\n",
    "from joblib import Parallel, delayed"
   ]
  },
  {
   "cell_type": "code",
   "execution_count": 2,
   "metadata": {
    "collapsed": true
   },
   "outputs": [],
   "source": [
    "def append_to_csv(batch, csv_file):\n",
    "    props = dict(encoding='utf-8', index=False)\n",
    "    if not os.path.exists(csv_file):\n",
    "        batch.to_csv(csv_file, **props)\n",
    "    else:\n",
    "        batch.to_csv(csv_file, mode='a', header=False, **props)\n",
    "        \n",
    "def delete_file_if_exists(filename):\n",
    "    if os.path.exists(filename):\n",
    "        os.remove(filename)"
   ]
  },
  {
   "cell_type": "code",
   "execution_count": 3,
   "metadata": {
    "collapsed": false
   },
   "outputs": [
    {
     "name": "stderr",
     "output_type": "stream",
     "text": [
      "/home/watts/anaconda2/envs/sdp35/lib/python3.5/site-packages/IPython/core/interactiveshell.py:2728: DtypeWarning: Columns (5) have mixed types. Specify dtype option on import or set low_memory=False.\n",
      "  interactivity=interactivity, compiler=compiler, result=result)\n"
     ]
    }
   ],
   "source": [
    "fn = '../cache/bkup/train10_t_store{}.csv'.format(1)\n",
    "df =pd.read_csv(fn)"
   ]
  },
  {
   "cell_type": "code",
   "execution_count": 4,
   "metadata": {
    "collapsed": false
   },
   "outputs": [
    {
     "data": {
      "text/html": [
       "<div>\n",
       "<style scoped>\n",
       "    .dataframe tbody tr th:only-of-type {\n",
       "        vertical-align: middle;\n",
       "    }\n",
       "\n",
       "    .dataframe tbody tr th {\n",
       "        vertical-align: top;\n",
       "    }\n",
       "\n",
       "    .dataframe thead th {\n",
       "        text-align: right;\n",
       "    }\n",
       "</style>\n",
       "<table border=\"1\" class=\"dataframe\">\n",
       "  <thead>\n",
       "    <tr style=\"text-align: right;\">\n",
       "      <th></th>\n",
       "      <th>id</th>\n",
       "      <th>date</th>\n",
       "      <th>store_nbr</th>\n",
       "      <th>item_nbr</th>\n",
       "      <th>unit_sales</th>\n",
       "      <th>onpromotion</th>\n",
       "      <th>item_family</th>\n",
       "      <th>item_class</th>\n",
       "      <th>perishable</th>\n",
       "      <th>city</th>\n",
       "      <th>...</th>\n",
       "      <th>dow</th>\n",
       "      <th>doy</th>\n",
       "      <th>dcount</th>\n",
       "      <th>h_type</th>\n",
       "      <th>h_desc</th>\n",
       "      <th>pd</th>\n",
       "      <th>wbe</th>\n",
       "      <th>wae</th>\n",
       "      <th>wfe</th>\n",
       "      <th>store_item_nbr</th>\n",
       "    </tr>\n",
       "  </thead>\n",
       "  <tbody>\n",
       "    <tr>\n",
       "      <th>0</th>\n",
       "      <td>578</td>\n",
       "      <td>2013-01-02</td>\n",
       "      <td>1</td>\n",
       "      <td>103665</td>\n",
       "      <td>2.0</td>\n",
       "      <td>Unk</td>\n",
       "      <td>BREAD/BAKERY</td>\n",
       "      <td>2712</td>\n",
       "      <td>1</td>\n",
       "      <td>Quito</td>\n",
       "      <td>...</td>\n",
       "      <td>2</td>\n",
       "      <td>2</td>\n",
       "      <td>734870</td>\n",
       "      <td>Work Day</td>\n",
       "      <td>Normal</td>\n",
       "      <td>0</td>\n",
       "      <td>172</td>\n",
       "      <td>0</td>\n",
       "      <td>172</td>\n",
       "      <td>1_103665</td>\n",
       "    </tr>\n",
       "    <tr>\n",
       "      <th>1</th>\n",
       "      <td>579</td>\n",
       "      <td>2013-01-02</td>\n",
       "      <td>1</td>\n",
       "      <td>105574</td>\n",
       "      <td>8.0</td>\n",
       "      <td>Unk</td>\n",
       "      <td>GROCERY I</td>\n",
       "      <td>1045</td>\n",
       "      <td>0</td>\n",
       "      <td>Quito</td>\n",
       "      <td>...</td>\n",
       "      <td>2</td>\n",
       "      <td>2</td>\n",
       "      <td>734870</td>\n",
       "      <td>Work Day</td>\n",
       "      <td>Normal</td>\n",
       "      <td>0</td>\n",
       "      <td>172</td>\n",
       "      <td>0</td>\n",
       "      <td>172</td>\n",
       "      <td>1_105574</td>\n",
       "    </tr>\n",
       "    <tr>\n",
       "      <th>2</th>\n",
       "      <td>580</td>\n",
       "      <td>2013-01-02</td>\n",
       "      <td>1</td>\n",
       "      <td>105575</td>\n",
       "      <td>15.0</td>\n",
       "      <td>Unk</td>\n",
       "      <td>GROCERY I</td>\n",
       "      <td>1045</td>\n",
       "      <td>0</td>\n",
       "      <td>Quito</td>\n",
       "      <td>...</td>\n",
       "      <td>2</td>\n",
       "      <td>2</td>\n",
       "      <td>734870</td>\n",
       "      <td>Work Day</td>\n",
       "      <td>Normal</td>\n",
       "      <td>0</td>\n",
       "      <td>172</td>\n",
       "      <td>0</td>\n",
       "      <td>172</td>\n",
       "      <td>1_105575</td>\n",
       "    </tr>\n",
       "    <tr>\n",
       "      <th>3</th>\n",
       "      <td>581</td>\n",
       "      <td>2013-01-02</td>\n",
       "      <td>1</td>\n",
       "      <td>105577</td>\n",
       "      <td>2.0</td>\n",
       "      <td>Unk</td>\n",
       "      <td>GROCERY I</td>\n",
       "      <td>1045</td>\n",
       "      <td>0</td>\n",
       "      <td>Quito</td>\n",
       "      <td>...</td>\n",
       "      <td>2</td>\n",
       "      <td>2</td>\n",
       "      <td>734870</td>\n",
       "      <td>Work Day</td>\n",
       "      <td>Normal</td>\n",
       "      <td>0</td>\n",
       "      <td>172</td>\n",
       "      <td>0</td>\n",
       "      <td>172</td>\n",
       "      <td>1_105577</td>\n",
       "    </tr>\n",
       "    <tr>\n",
       "      <th>4</th>\n",
       "      <td>582</td>\n",
       "      <td>2013-01-02</td>\n",
       "      <td>1</td>\n",
       "      <td>105737</td>\n",
       "      <td>2.0</td>\n",
       "      <td>Unk</td>\n",
       "      <td>GROCERY I</td>\n",
       "      <td>1044</td>\n",
       "      <td>0</td>\n",
       "      <td>Quito</td>\n",
       "      <td>...</td>\n",
       "      <td>2</td>\n",
       "      <td>2</td>\n",
       "      <td>734870</td>\n",
       "      <td>Work Day</td>\n",
       "      <td>Normal</td>\n",
       "      <td>0</td>\n",
       "      <td>172</td>\n",
       "      <td>0</td>\n",
       "      <td>172</td>\n",
       "      <td>1_105737</td>\n",
       "    </tr>\n",
       "  </tbody>\n",
       "</table>\n",
       "<p>5 rows × 27 columns</p>\n",
       "</div>"
      ],
      "text/plain": [
       "    id        date  store_nbr  item_nbr  unit_sales onpromotion   item_family  \\\n",
       "0  578  2013-01-02          1    103665         2.0         Unk  BREAD/BAKERY   \n",
       "1  579  2013-01-02          1    105574         8.0         Unk     GROCERY I   \n",
       "2  580  2013-01-02          1    105575        15.0         Unk     GROCERY I   \n",
       "3  581  2013-01-02          1    105577         2.0         Unk     GROCERY I   \n",
       "4  582  2013-01-02          1    105737         2.0         Unk     GROCERY I   \n",
       "\n",
       "   item_class  perishable   city       ...       dow doy  dcount    h_type  \\\n",
       "0        2712           1  Quito       ...         2   2  734870  Work Day   \n",
       "1        1045           0  Quito       ...         2   2  734870  Work Day   \n",
       "2        1045           0  Quito       ...         2   2  734870  Work Day   \n",
       "3        1045           0  Quito       ...         2   2  734870  Work Day   \n",
       "4        1044           0  Quito       ...         2   2  734870  Work Day   \n",
       "\n",
       "   h_desc  pd  wbe  wae  wfe  store_item_nbr  \n",
       "0  Normal   0  172    0  172        1_103665  \n",
       "1  Normal   0  172    0  172        1_105574  \n",
       "2  Normal   0  172    0  172        1_105575  \n",
       "3  Normal   0  172    0  172        1_105577  \n",
       "4  Normal   0  172    0  172        1_105737  \n",
       "\n",
       "[5 rows x 27 columns]"
      ]
     },
     "execution_count": 4,
     "metadata": {},
     "output_type": "execute_result"
    }
   ],
   "source": [
    "df.head()"
   ]
  },
  {
   "cell_type": "code",
   "execution_count": 5,
   "metadata": {
    "collapsed": false
   },
   "outputs": [
    {
     "data": {
      "text/plain": [
       "(2562153, 27)"
      ]
     },
     "execution_count": 5,
     "metadata": {},
     "output_type": "execute_result"
    }
   ],
   "source": [
    "df.shape"
   ]
  },
  {
   "cell_type": "code",
   "execution_count": 6,
   "metadata": {
    "collapsed": false
   },
   "outputs": [
    {
     "data": {
      "text/plain": [
       "3567"
      ]
     },
     "execution_count": 6,
     "metadata": {},
     "output_type": "execute_result"
    }
   ],
   "source": [
    "len(set(df.item_nbr))"
   ]
  },
  {
   "cell_type": "code",
   "execution_count": 7,
   "metadata": {
    "collapsed": false
   },
   "outputs": [
    {
     "data": {
      "text/plain": [
       "'2013-01-02'"
      ]
     },
     "execution_count": 7,
     "metadata": {},
     "output_type": "execute_result"
    }
   ],
   "source": [
    "np.min(df.date)"
   ]
  },
  {
   "cell_type": "code",
   "execution_count": 8,
   "metadata": {
    "collapsed": false
   },
   "outputs": [
    {
     "data": {
      "text/plain": [
       "'2017-08-15'"
      ]
     },
     "execution_count": 8,
     "metadata": {},
     "output_type": "execute_result"
    }
   ],
   "source": [
    "np.max(df.date)"
   ]
  },
  {
   "cell_type": "code",
   "execution_count": 9,
   "metadata": {
    "collapsed": false
   },
   "outputs": [
    {
     "data": {
      "text/plain": [
       "numpy.timedelta64(1686,'D')"
      ]
     },
     "execution_count": 9,
     "metadata": {},
     "output_type": "execute_result"
    }
   ],
   "source": [
    "np.datetime64(np.max(df.date)) - np.datetime64(np.min(df.date))"
   ]
  },
  {
   "cell_type": "code",
   "execution_count": 10,
   "metadata": {
    "collapsed": false
   },
   "outputs": [
    {
     "data": {
      "text/plain": [
       "1460"
      ]
     },
     "execution_count": 10,
     "metadata": {},
     "output_type": "execute_result"
    }
   ],
   "source": [
    "365 * 4"
   ]
  },
  {
   "cell_type": "code",
   "execution_count": 11,
   "metadata": {
    "collapsed": true
   },
   "outputs": [],
   "source": [
    "def set_recent_stats(df2, date, days, mean, median, std, skew, kurtosis, ten_by_ninety):\n",
    "    df2.loc[0,'date'] = date\n",
    "    df2.loc[0,'us_{}_mean'.format(days)] = mean\n",
    "    df2.loc[0,'us_{}_med'.format(days)] = median\n",
    "    df2.loc[0,'us_{}_std'.format(days)] = std\n",
    "    df2.loc[0,'us_{}_skew'.format(days)] = skew\n",
    "    df2.loc[0,'us_{}_kurt'.format(days)] = kurtosis\n",
    "    df2.loc[0,'us_{}_tbn'.format(days)] = ten_by_ninety\n",
    "\n",
    "\n",
    "def set_recent_stats_promo(df2, date, days, mean, median, std, skew, kurtosis, ten_by_ninety):\n",
    "    df2.loc[0,'date'] = date\n",
    "    df2.loc[0,'us_{}_p_mean'.format(days)] = mean\n",
    "    df2.loc[0,'us_{}_p_med'.format(days)] = median\n",
    "    df2.loc[0,'us_{}_p_std'.format(days)] = std\n",
    "    df2.loc[0,'us_{}_p_skew'.format(days)] = skew\n",
    "    df2.loc[0,'us_{}_p_kurt'.format(days)] = kurtosis\n",
    "    df2.loc[0,'us_{}_p_tbn'.format(days)] = ten_by_ninety\n",
    "\n",
    "\n",
    "def set_recent_stats_promo2(df2, date, days, mean, median, std, skew, kurtosis, ten_by_ninety):\n",
    "    \n",
    "    df2.loc[0,'date'] = date\n",
    "    df2.loc[0,'us_{}_p_mean'.format(days)] = mean\n",
    "    df2.loc[0,'us_{}_p_med'.format(days)] = median\n",
    "    df2.loc[0,'us_{}_p_std'.format(days)] = std\n",
    "    df2.loc[0,'us_{}_p_skew'.format(days)] = skew\n",
    "    df2.loc[0,'us_{}_p_kurt'.format(days)] = kurtosis\n",
    "    df2.loc[0,'us_{}_p_tbn'.format(days)] = ten_by_ninety\n",
    "\n",
    "\n",
    "def set_recent_stats_promo3(df2, date, days, fn, mean, median, std, skew, kurtosis, ten_by_ninety):\n",
    "    df2.loc[0,'date'] = date\n",
    "    df2.loc[0,'us_{}_p_mean'.format(days)] = mean\n",
    "    df2.loc[0,'us_{}_p_med'.format(days)] = median\n",
    "    df2.loc[0,'us_{}_p_std'.format(days)] = std\n",
    "    df2.loc[0,'us_{}_p_skew'.format(days)] = skew\n",
    "    df2.loc[0,'us_{}_p_kurt'.format(days)] = kurtosis\n",
    "    df2.loc[0,'us_{}_p_tbn'.format(days)] = ten_by_ninety\n",
    "\n",
    "def set_recent_stats_hol(df2, date, days, mean, median, std, skew, kurtosis, ten_by_ninety):\n",
    "    df2.loc[0,'date'] = date\n",
    "    df2.loc[0,'us_{}_h_mean'.format(days)] = mean\n",
    "    df2.loc[0,'us_{}_h_med'.format(days)] = median\n",
    "    df2.loc[0,'us_{}_h_std'.format(days)] = std\n",
    "    df2.loc[0,'us_{}_h_skew'.format(days)] = skew\n",
    "    df2.loc[0,'us_{}_h_kurt'.format(days)] = kurtosis\n",
    "    df2.loc[0,'us_{}_h_tbn'.format(days)] = ten_by_ninety\n",
    "\n",
    "\n",
    "def set_recent_stats_per(df2, date, days, mean, median, std, skew, kurtosis, ten_by_ninety):\n",
    "    df2.loc[0,'date'] = date\n",
    "    df2.loc[0,'us_{}_per_mean'.format(days)] = mean\n",
    "    df2.loc[0,'us_{}_per_med'.format(days)] = median\n",
    "    df2.loc[0,'us_{}_per_std'.format(days)] = std\n",
    "    df2.loc[0,'us_{}_per_skew'.format(days)] = skew\n",
    "    df2.loc[0,'us_{}_per_kurt'.format(days)] = kurtosis\n",
    "    df2.loc[0,'us_{}_per_tbn'.format(days)] = ten_by_ninety\n",
    "\n",
    "\n",
    "def set_recent_stats_nper(df2, date, days, mean, median, std, skew, kurtosis, ten_by_ninety):\n",
    "    df2.loc[0,'date'] = date\n",
    "    df2.loc[0,'us_{}_nper_mean'.format(days)] = mean\n",
    "    df2.loc[0,'us_{}_nper_med'.format(days)] = median\n",
    "    df2.loc[0,'us_{}_nper_std'.format(days)] = std\n",
    "    df2.loc[0,'us_{}_nper_skew'.format(days)] = skew\n",
    "    df2.loc[0,'us_{}_nper_kurt'.format(days)] = kurtosis\n",
    "    df2.loc[0,'us_{}_nper_tbn'.format(days)] = ten_by_ninety\n",
    "\n",
    "\n",
    "def set_recent_stats_dow(df2, date, days, dow, mean, median, std, skew, kurtosis, ten_by_ninety):\n",
    "    df2.loc[0,'date'] = date\n",
    "    df2.loc[0, 'us_{}_dow{}_mean'.format(days, dow)] = mean\n",
    "    df2.loc[0, 'us_{}_dow{}_med'.format(days, dow)] = median\n",
    "    df2.loc[0, 'us_{}_dow{}_std'.format(days, dow)] = std\n",
    "    df2.loc[0, 'us_{}_dow{}_skew'.format(days, dow)] = skew\n",
    "    df2.loc[0, 'us_{}_dow{}_kurt'.format(days, dow)] = kurtosis\n",
    "    df2.loc[0, 'us_{}_dow{}_tbn'.format(days, dow)] = ten_by_ninety\n",
    "\n",
    "def set_recent_stats_promo_hol(df2, date, days, mean, median, std, skew, kurtosis, ten_by_ninety):\n",
    "    df2.loc[0,'date'] = date\n",
    "    df2.loc[0, 'us_{}_ph_mean'.format(days)] = mean\n",
    "    df2.loc[0, 'us_{}_ph_med'.format(days)] = median\n",
    "    df2.loc[0, 'us_{}_ph_std'.format(days)] = std\n",
    "    df2.loc[0, 'us_{}_ph_skew'.format(days)] = skew\n",
    "    df2.loc[0, 'us_{}_ph_kurt'.format(days)] = kurtosis\n",
    "    df2.loc[0, 'us_{}_ph_tbn'.format(days)] = ten_by_ninety\n",
    "\n",
    "\n",
    "def set_recent_stats_dow_promo_hol(df1, date, days, dow, mean, median, std, skew, kurtosis, ten_by_ninety):\n",
    "    df2.loc[0,'date'] = date\n",
    "    df2.loc[0, 'us_{}_dow{}_ph_mean'.format(days, dow)] = mean\n",
    "    df2.loc[0, 'us_{}_dow{}_ph_med'.format(days, dow)] = median\n",
    "    df2.loc[0, 'us_{}_dow{}_ph_std'.format(days, dow)] = std\n",
    "    df2.loc[0, 'us_{}_dow{}_ph_skew'.format(days, dow)] = skew\n",
    "    df2.loc[0, 'us_{}_dow{}_ph_kurt'.format(days, dow)] = kurtosis\n",
    "    df2.loc[0, 'us_{}_dow{}_ph_tbn'.format(days, dow)] = ten_by_ninety\n",
    "\n",
    "def set_recent_stats_dow_promo(df2, date, days, dow, mean, median, std, skew, kurtosis, ten_by_ninety):\n",
    "    df2.loc[0,'date'] = date\n",
    "    df2.loc[0, 'us_{}_dow{}_p_mean'.format(days, dow)] = mean\n",
    "    df2.loc[0, 'us_{}_dow{}_p_med'.format(days, dow)] = median\n",
    "    df2.loc[0, 'us_{}_dow{}_p_std'.format(days, dow)] = std\n",
    "    df2.loc[0, 'us_{}_dow{}_p_skew'.format(days, dow)] = skew\n",
    "    df2.loc[0, 'us_{}_dow{}_p_kurt'.format(days, dow)] = kurtosis\n",
    "    df2.loc[0, 'us_{}_dow{}_p_tbn'.format(days, dow)] = ten_by_ninety\n",
    "\n",
    "def set_recent_stats_dow_hol(df2, date, days, dow, mean, median, std, skew, kurtosis, ten_by_ninety):\n",
    "    df2.loc[0,'date'] = date\n",
    "    df2.loc[0, 'us_{}_dow{}_h_mean'.format(days, dow)] = mean\n",
    "    df2.loc[0, 'us_{}_dow{}_h_med'.format(days, dow)] = median\n",
    "    df2.loc[0, 'us_{}_dow{}_h_std'.format(days, dow)] = std\n",
    "    df2.loc[0, 'us_{}_dow{}_h_skew'.format(days, dow)] = skew\n",
    "    df2.loc[0, 'us_{}_dow{}_h_kurt'.format(days, dow)] = kurtosis\n",
    "    df2.loc[0, 'us_{}_dow{}_h_tbn'.format(days, dow)] = ten_by_ninety\n"
   ]
  },
  {
   "cell_type": "code",
   "execution_count": 12,
   "metadata": {
    "collapsed": false
   },
   "outputs": [],
   "source": [
    "# df_h = pd.read_csv('../data/holidays_events.csv')"
   ]
  },
  {
   "cell_type": "code",
   "execution_count": 13,
   "metadata": {
    "collapsed": false
   },
   "outputs": [],
   "source": [
    "# df_h.type.value_counts()"
   ]
  },
  {
   "cell_type": "code",
   "execution_count": 14,
   "metadata": {
    "collapsed": false
   },
   "outputs": [],
   "source": [
    "# df_h1 = df_h[(df.date.apply(np.datetime64)) > np.datetime64('2017-08-15')]"
   ]
  },
  {
   "cell_type": "code",
   "execution_count": 15,
   "metadata": {
    "collapsed": false
   },
   "outputs": [
    {
     "data": {
      "text/plain": [
       "False    1932613\n",
       "Unk       484853\n",
       "True      138020\n",
       "False       6667\n",
       "Name: onpromotion, dtype: int64"
      ]
     },
     "execution_count": 15,
     "metadata": {},
     "output_type": "execute_result"
    }
   ],
   "source": [
    "df.onpromotion.value_counts()"
   ]
  },
  {
   "cell_type": "code",
   "execution_count": 16,
   "metadata": {
    "collapsed": false
   },
   "outputs": [
    {
     "data": {
      "text/plain": [
       "True    138020\n",
       "Name: onpromotion, dtype: int64"
      ]
     },
     "execution_count": 16,
     "metadata": {},
     "output_type": "execute_result"
    }
   ],
   "source": [
    "df.onpromotion[df.onpromotion==True].value_counts()"
   ]
  },
  {
   "cell_type": "code",
   "execution_count": 17,
   "metadata": {
    "collapsed": false
   },
   "outputs": [
    {
     "data": {
      "text/plain": [
       "Work Day      1766988\n",
       "Weekend        596121\n",
       "Holiday        103455\n",
       "Event           88892\n",
       "Additional       6697\n",
       "Name: h_type, dtype: int64"
      ]
     },
     "execution_count": 17,
     "metadata": {},
     "output_type": "execute_result"
    }
   ],
   "source": [
    "df.h_type.value_counts()"
   ]
  },
  {
   "cell_type": "code",
   "execution_count": 18,
   "metadata": {
    "collapsed": false
   },
   "outputs": [
    {
     "data": {
      "text/plain": [
       "Work Day    1766988\n",
       "Name: h_type, dtype: int64"
      ]
     },
     "execution_count": 18,
     "metadata": {},
     "output_type": "execute_result"
    }
   ],
   "source": [
    "df.h_type[df.h_type=='Work Day'].value_counts()"
   ]
  },
  {
   "cell_type": "code",
   "execution_count": 19,
   "metadata": {
    "collapsed": false
   },
   "outputs": [
    {
     "data": {
      "text/plain": [
       "Weekend       596121\n",
       "Holiday       103455\n",
       "Event          88892\n",
       "Additional      6697\n",
       "Name: h_type, dtype: int64"
      ]
     },
     "execution_count": 19,
     "metadata": {},
     "output_type": "execute_result"
    }
   ],
   "source": [
    "df.h_type[df.h_type != 'Work Day'].value_counts()"
   ]
  },
  {
   "cell_type": "code",
   "execution_count": 20,
   "metadata": {
    "collapsed": true
   },
   "outputs": [],
   "source": [
    "#df_h.h_type[df_h.type == 'Additional'] = 'Holiday'"
   ]
  },
  {
   "cell_type": "code",
   "execution_count": 21,
   "metadata": {
    "collapsed": true
   },
   "outputs": [],
   "source": [
    "recent_days = [30, 90, 180, 365, 730]"
   ]
  },
  {
   "cell_type": "code",
   "execution_count": 22,
   "metadata": {
    "collapsed": true
   },
   "outputs": [],
   "source": [
    "def calculate_recent_stats(date, df, fn):\n",
    "    df3 = pd.DataFrame()\n",
    "    for days in recent_days:\n",
    "        past_date = (np.datetime64(date) - np.timedelta64(days, 'D'))\n",
    "        i = 0\n",
    "        df_min_date = np.datetime64(np.min(df.date))\n",
    "        while (past_date < df_min_date) & (i <= 0):\n",
    "            past_date = (np.datetime64(date) - np.timedelta64(days-i, 'D'))\n",
    "            i +=1\n",
    "#         print(date, days, past_date, df_min_date)\n",
    "        if past_date < df_min_date:\n",
    "            print('date:{}, past_date:{}'.format(date, past_date))\n",
    "            j = days-i\n",
    "            print('days:{}, i: {}, days-i:{}'.format(days, i, j))\n",
    "            set_recent_stats(df3, date,days,0, 0, 0, 0, 0, 0)\n",
    "            continue\n",
    "        data = df.unit_sales[(df.dts < np.datetime64(date)) & \n",
    "                             (df.dts >= past_date)]\n",
    "        if(data.shape[0] == 0):\n",
    "            print('date:{}, past_date:{}'.format(date, past_date))\n",
    "            j = days-i\n",
    "            print('days:{}, i: {}, days-i:{}'.format(days, i, j))\n",
    "            set_recent_stats(df3, date,days,0, 0, 0, 0, 0, 0)\n",
    "            continue\n",
    "        mean = data.mean()\n",
    "        median = data.median()\n",
    "        std = data.std()\n",
    "        skew = data.skew()\n",
    "        kurtosis = data.kurtosis()\n",
    "        tenp = data.quantile(0.1)\n",
    "        ninetyp = data.quantile(0.9)\n",
    "        ten_by_ninety = tenp/ninetyp\n",
    "        set_recent_stats(df3, date,days,mean, median, std, skew, kurtosis, ten_by_ninety)\n",
    "        del data\n",
    "    append_to_csv(df3, fn)\n",
    "    del df3\n",
    "        \n",
    "\n",
    "def calculate_recent_stats_promo(date, df, fn):\n",
    "    df3 = pd.DataFrame()\n",
    "    for days in recent_days:\n",
    "        past_date = (np.datetime64(date) - np.timedelta64(days, 'D'))\n",
    "        i = 0\n",
    "        df_min_date = np.datetime64(np.min(df.date))\n",
    "        while (past_date < df_min_date) & (i <= 0):\n",
    "            past_date = (np.datetime64(date) - np.timedelta64(days-i, 'D'))\n",
    "            i +=1\n",
    "        \n",
    "        if past_date < df_min_date:\n",
    "            print('date:{}, past_date:{}'.format(date, past_date))\n",
    "            j = days-i\n",
    "            print('days:{}, i: {}, days-i:{}'.format(days, i, j))\n",
    "            set_recent_stats(df3, date,days,0, 0, 0, 0, 0, 0)\n",
    "            continue\n",
    "        \n",
    "        data = df.unit_sales[(df.dts < np.datetime64(date)) & \n",
    "                             (df.dts >= past_date) & (df.onpromotion == True)]\n",
    "        if(data.shape[0] == 0):\n",
    "            print('date:{}, past_date:{}'.format(date, past_date))\n",
    "            j = days-i\n",
    "            print('days:{}, i: {}, days-i:{}'.format(days, i, j))\n",
    "            set_recent_stats(df3, date,days,0, 0, 0, 0, 0, 0)\n",
    "            continue\n",
    "        \n",
    "        mean = data.mean()\n",
    "        median = data.median()\n",
    "        std = data.std()\n",
    "        skew = data.skew()\n",
    "        kurtosis = data.kurtosis()\n",
    "        tenp = data.quantile(0.1)\n",
    "        ninetyp = data.quantile(0.9)\n",
    "        ten_by_ninety = tenp/ninetyp\n",
    "        set_recent_stats_promo3(df3, date,days,mean, median, std, skew, kurtosis, ten_by_ninety)\n",
    "        del data\n",
    "    append_to_csv(df3, fn)\n",
    "    del df3\n",
    "        \n",
    "        \n",
    "def calculate_recent_stats_hol(date, df, fn):\n",
    "    df3 = pd.DataFrame()\n",
    "    for days in recent_days:\n",
    "        past_date = (np.datetime64(date) - np.timedelta64(days, 'D'))\n",
    "        i = 0\n",
    "        df_min_date = np.datetime64(np.min(df.date))\n",
    "        while (past_date < df_min_date) & (i <= 0):\n",
    "            past_date = (np.datetime64(date) - np.timedelta64(days-i, 'D'))\n",
    "            i +=1\n",
    "        \n",
    "        if past_date < df_min_date:\n",
    "            print('date:{}, past_date:{}'.format(date, past_date))\n",
    "            j = days-i\n",
    "            print('days:{}, i: {}, days-i:{}'.format(days, i, j))\n",
    "            set_recent_stats(df3, date,days,0, 0, 0, 0, 0, 0)\n",
    "            continue\n",
    "        \n",
    "        data = df.unit_sales[(df.dts < np.datetime64(date)) & \n",
    "                             (df.dts >= past_date) & (df.h_type != 'Work Day')]\n",
    "        if(data.shape[0] == 0):\n",
    "            print('date:{}, past_date:{}'.format(date, past_date))\n",
    "            j = days-i\n",
    "            print('days:{}, i: {}, days-i:{}'.format(days, i, j))\n",
    "            set_recent_stats(df3, date,days,0, 0, 0, 0, 0, 0)\n",
    "            continue\n",
    "        \n",
    "        mean = data.mean()\n",
    "        median = data.median()\n",
    "        std = data.std()\n",
    "        skew = data.skew()\n",
    "        kurtosis = data.kurtosis()\n",
    "        tenp = data.quantile(0.1)\n",
    "        ninetyp = data.quantile(0.9)\n",
    "        ten_by_ninety = tenp/ninetyp\n",
    "        set_recent_stats_hol(df3, date,days,mean, median, std, skew, kurtosis, ten_by_ninety)\n",
    "        del data\n",
    "    append_to_csv(df3, fn)\n",
    "    del df3\n",
    "    \n",
    " \n",
    "def calculate_recent_stats_perishable(date, df, fn):\n",
    "    df3 = pd.DataFrame()\n",
    "    for days in recent_days:\n",
    "        past_date = (np.datetime64(date) - np.timedelta64(days, 'D'))\n",
    "        i = 0\n",
    "        df_min_date = np.datetime64(np.min(df.date))\n",
    "        while (past_date < df_min_date) & (i <= 0):\n",
    "            past_date = (np.datetime64(date) - np.timedelta64(days-i, 'D'))\n",
    "            i +=1\n",
    "        \n",
    "        if past_date < df_min_date:\n",
    "            print('date:{}, past_date:{}'.format(date, past_date))\n",
    "            j = days-i\n",
    "            print('days:{}, i: {}, days-i:{}'.format(days, i, j))\n",
    "            set_recent_stats(df3, date,days,0, 0, 0, 0, 0, 0)\n",
    "            continue\n",
    "        \n",
    "        data = df.unit_sales[(df.dts < np.datetime64(date)) & \n",
    "                             (df.dts >= past_date) & (df.perishable == 1)]\n",
    "        if(data.shape[0] == 0):\n",
    "            print('date:{}, past_date:{}'.format(date, past_date))\n",
    "            j = days-i\n",
    "            print('days:{}, i: {}, days-i:{}'.format(days, i, j))\n",
    "            set_recent_stats(df3, date,days,0, 0, 0, 0, 0, 0)\n",
    "            continue\n",
    "        \n",
    "        mean = data.mean()\n",
    "        median = data.median()\n",
    "        std = data.std()\n",
    "        skew = data.skew()\n",
    "        kurtosis = data.kurtosis()\n",
    "        tenp = data.quantile(0.1)\n",
    "        ninetyp = data.quantile(0.9)\n",
    "        ten_by_ninety = tenp/ninetyp\n",
    "        set_recent_stats_per(df3, date,days, mean, median, std, skew, kurtosis, ten_by_ninety)\n",
    "        del data\n",
    "    append_to_csv(df3, fn)\n",
    "    del df3\n",
    "        \n",
    "def calculate_recent_stats_not_perishable(date, df, fn):\n",
    "    df3 = pd.DataFrame()\n",
    "    for days in recent_days:\n",
    "        past_date = (np.datetime64(date) - np.timedelta64(days, 'D'))\n",
    "        i = 0\n",
    "        df_min_date = np.datetime64(np.min(df.date))\n",
    "        while (past_date < df_min_date) & (i <= 0):\n",
    "            past_date = (np.datetime64(date) - np.timedelta64(days-i, 'D'))\n",
    "            i +=1\n",
    "        \n",
    "        if past_date < df_min_date:\n",
    "            print('date:{}, past_date:{}'.format(date, past_date))\n",
    "            j = days-i\n",
    "            print('days:{}, i: {}, days-i:{}'.format(days, i, j))\n",
    "            set_recent_stats(df3, date,days,0, 0, 0, 0, 0, 0)\n",
    "            continue\n",
    "        \n",
    "        data = df.unit_sales[(df.dts < np.datetime64(date)) & \n",
    "                             (df.dts >= past_date) & (df.perishable == 0)]\n",
    "        if(data.shape[0] == 0):\n",
    "            print('date:{}, past_date:{}'.format(date, past_date))\n",
    "            j = days-i\n",
    "            print('days:{}, i: {}, days-i:{}'.format(days, i, j))\n",
    "            set_recent_stats(df3, date,days,0, 0, 0, 0, 0, 0)\n",
    "            continue\n",
    "        mean = data.mean()\n",
    "        median = data.median()\n",
    "        std = data.std()\n",
    "        skew = data.skew()\n",
    "        kurtosis = data.kurtosis()\n",
    "        tenp = data.quantile(0.1)\n",
    "        ninetyp = data.quantile(0.9)\n",
    "        ten_by_ninety = tenp/ninetyp\n",
    "        set_recent_stats_nper(df3, date,days,mean, median, std, skew, kurtosis, ten_by_ninety)\n",
    "        del data\n",
    "    append_to_csv(df3, fn)\n",
    "    del df3\n",
    "        \n",
    "def calculate_recent_stats_dow(date, dow, df, fn):\n",
    "    df3 = pd.DataFrame()\n",
    "    for days in recent_days:\n",
    "        past_date = (np.datetime64(date) - np.timedelta64(days, 'D'))\n",
    "        i = 0\n",
    "        df_min_date = np.datetime64(np.min(df.date))\n",
    "        while (past_date < df_min_date) & (i <= 0):\n",
    "            past_date = (np.datetime64(date) - np.timedelta64(days-i, 'D'))\n",
    "            i +=1\n",
    "        \n",
    "        if past_date < df_min_date:\n",
    "            print('date:{}, past_date:{}'.format(date, past_date))\n",
    "            j = days-i\n",
    "            print('days:{}, i: {}, days-i:{}'.format(days, i, j))\n",
    "            set_recent_stats(df3, date,days,0, 0, 0, 0, 0, 0)\n",
    "            continue\n",
    "        \n",
    "        data = df.unit_sales[(df.dts < np.datetime64(date)) & \n",
    "                             (df.dts >= past_date) & (df.dow == dow)]\n",
    "        if(data.shape[0] == 0):\n",
    "            print('date:{}, past_date:{}'.format(date, past_date))\n",
    "            j = days-i\n",
    "            print('days:{}, i: {}, days-i:{}'.format(days, i, j))\n",
    "            set_recent_stats(df3, date,days,0, 0, 0, 0, 0, 0)\n",
    "            continue\n",
    "        mean = data.mean()\n",
    "        median = data.median()\n",
    "        std = data.std()\n",
    "        skew = data.skew()\n",
    "        kurtosis = data.kurtosis()\n",
    "        tenp = data.quantile(0.1)\n",
    "        ninetyp = data.quantile(0.9)\n",
    "        ten_by_ninety = tenp/ninetyp\n",
    "        set_recent_stats_dow(df3, date,days,mean, median, std, skew, kurtosis, ten_by_ninety)\n",
    "        del data\n",
    "    append_to_csv(df3, fn)\n",
    "    del df3\n",
    "    \n",
    "def calculate_recent_stats_promo_hol(date, df, fn):\n",
    "    df3 = pd.DataFrame()\n",
    "    for days in recent_days:\n",
    "        past_date = (np.datetime64(date) - np.timedelta64(days, 'D'))\n",
    "        i = 0\n",
    "        df_min_date = np.datetime64(np.min(df.date))\n",
    "        while (past_date < df_min_date) & (i <= 0):\n",
    "            past_date = (np.datetime64(date) - np.timedelta64(days-i, 'D'))\n",
    "            i +=1\n",
    "        \n",
    "        if past_date < df_min_date:\n",
    "            print('date:{}, past_date:{}'.format(date, past_date))\n",
    "            j = days-i\n",
    "            print('days:{}, i: {}, days-i:{}'.format(days, i, j))\n",
    "            set_recent_stats(df3, date,days,0, 0, 0, 0, 0, 0)\n",
    "            continue\n",
    "        \n",
    "        data = df.unit_sales[(df.dts < np.datetime64(date)) & \n",
    "                             (df.dts >= past_date) & \n",
    "                             (df.h_type != 'Work Day') & (df.onpromotion == True)]\n",
    "        if(data.shape[0] == 0):\n",
    "            print('date:{}, past_date:{}'.format(date, past_date))\n",
    "            j = days-i\n",
    "            print('days:{}, i: {}, days-i:{}'.format(days, i, j))\n",
    "            set_recent_stats(df3, date,days,0, 0, 0, 0, 0, 0)\n",
    "            continue\n",
    "        mean = data.mean()\n",
    "        median = data.median()\n",
    "        std = data.std()\n",
    "        skew = data.skew()\n",
    "        kurtosis = data.kurtosis()\n",
    "        tenp = data.quantile(0.1)\n",
    "        ninetyp = data.quantile(0.9)\n",
    "        ten_by_ninety = tenp/ninetyp\n",
    "        set_recent_stats_promo_hol(df3, date,days,mean, median, std, skew, kurtosis, ten_by_ninety)\n",
    "        del data\n",
    "    append_to_csv(df3, fn)\n",
    "    del df3\n",
    "    \n",
    "def calculate_recent_stats_dow_promo_hol(date, dow, df, fn):\n",
    "    df3 = pd.DataFrame()\n",
    "    for days in recent_days:\n",
    "        past_date = (np.datetime64(date) - np.timedelta64(days, 'D'))\n",
    "        i = 0\n",
    "        df_min_date = np.datetime64(np.min(df.date))\n",
    "        while (past_date < df_min_date) & (i <= 0):\n",
    "            past_date = (np.datetime64(date) - np.timedelta64(days-i, 'D'))\n",
    "            i +=1\n",
    "        \n",
    "        if past_date < df_min_date:\n",
    "            print('date:{}, past_date:{}'.format(date, past_date))\n",
    "            j = days-i\n",
    "            print('days:{}, i: {}, days-i:{}'.format(days, i, j))\n",
    "            set_recent_stats(df3, date,days,0, 0, 0, 0, 0, 0)\n",
    "            continue\n",
    "        \n",
    "        data = df.unit_sales[(df.dts < np.datetime64(date)) & \n",
    "                             (df.dts >= past_date) & \n",
    "                             (df.h_type != 'Work Day') & \n",
    "                             (df.onpromotion == True) & \n",
    "                             (df.dow == dow)]\n",
    "        if(data.shape[0] == 0):\n",
    "            print('date:{}, past_date:{}'.format(date, past_date))\n",
    "            j = days-i\n",
    "            print('days:{}, i: {}, days-i:{}'.format(days, i, j))\n",
    "            set_recent_stats(df3, date,days,dow,0, 0, 0, 0, 0, 0)\n",
    "            continue\n",
    "        mean = data.mean()\n",
    "        median = data.median()\n",
    "        std = data.std()\n",
    "        skew = data.skew()\n",
    "        kurtosis = data.kurtosis()\n",
    "        tenp = data.quantile(0.1)\n",
    "        ninetyp = data.quantile(0.9)\n",
    "        ten_by_ninety = tenp/ninetyp\n",
    "        set_recent_stats_dow_promo_hol(df3, date,days,dow,mean, median, std, skew, kurtosis, ten_by_ninety)\n",
    "        del data\n",
    "    append_to_csv(df3, fn)\n",
    "    del df3\n",
    "    \n",
    "def calculate_recent_stats_dow_promo(date, dow, df, fn):\n",
    "    df3 = pd.DataFrame()\n",
    "    for days in recent_days:\n",
    "        past_date = (np.datetime64(date) - np.timedelta64(days, 'D'))\n",
    "        i = 0\n",
    "        df_min_date = np.datetime64(np.min(df.date))\n",
    "        while (past_date < df_min_date) & (i <= 0):\n",
    "            past_date = (np.datetime64(date) - np.timedelta64(days-i, 'D'))\n",
    "            i +=1\n",
    "        \n",
    "        if past_date < df_min_date:\n",
    "            print('date:{}, past_date:{}'.format(date, past_date))\n",
    "            j = days-i\n",
    "            print('days:{}, i: {}, days-i:{}'.format(days, i, j))\n",
    "            set_recent_stats_dow_promo(df3, date,days,0, 0, 0, 0, 0, 0)\n",
    "            continue\n",
    "        \n",
    "        data = df.unit_sales[(df.dts < np.datetime64(date)) & \n",
    "                             (df.dts >= past_date) & \n",
    "                             (df.onpromotion == True) & \n",
    "                             (df.dow == dow)]\n",
    "        if(data.shape[0] == 0):\n",
    "            print('date:{}, past_date:{}'.format(date, past_date))\n",
    "            j = days-i\n",
    "            print('days:{}, i: {}, days-i:{}'.format(days, i, j))\n",
    "            set_recent_stats_dow_promo(df3, date,days,dow,0, 0, 0, 0, 0, 0)\n",
    "            continue\n",
    "        mean = data.mean()\n",
    "        median = data.median()\n",
    "        std = data.std()\n",
    "        skew = data.skew()\n",
    "        kurtosis = data.kurtosis()\n",
    "        tenp = data.quantile(0.1)\n",
    "        ninetyp = data.quantile(0.9)\n",
    "        ten_by_ninety = tenp/ninetyp\n",
    "        set_recent_stats_dow_promo(df3, date,days,dow,mean, median, std, skew, kurtosis, ten_by_ninety)\n",
    "        del data\n",
    "    append_to_csv(df3, fn)\n",
    "    del df3\n",
    "\n",
    "def calculate_recent_stats_dow_hol(date, dow, df, fn):\n",
    "    df3 = pd.DataFrame()\n",
    "    for days in recent_days:\n",
    "        past_date = (np.datetime64(date) - np.timedelta64(days, 'D'))\n",
    "        i = 0\n",
    "        df_min_date = np.datetime64(np.min(df.date))\n",
    "        while (past_date < df_min_date) & (i <= 0):\n",
    "            past_date = (np.datetime64(date) - np.timedelta64(days-i, 'D'))\n",
    "            i +=1\n",
    "        \n",
    "        if past_date < df_min_date:\n",
    "#             print('date:{}, past_date:{}'.format(date, past_date))\n",
    "            j = days-i\n",
    "#             print('days:{}, i: {}, days-i:{}'.format(days, i, j))\n",
    "            set_recent_stats_dow_hol(df3, date,days,dow,0, 0, 0, 0, 0, 0)\n",
    "            continue\n",
    "        \n",
    "#         data = df.unit_sales[(df.dts < np.datetime64(date)) & \n",
    "#                              (df.dts >= past_date) & \n",
    "#                              (df.h_type != 'Work Day') & \n",
    "#                              (df.dow == dow)]\n",
    "        data = df.unit_sales[(df.date.astype('str') < str(date)) & \n",
    "                             (df.date.astype('str') >= str(past_date)) & \n",
    "                             (df.dow == dow) & (df.h_type != 'Work Day')]\n",
    "        if(data.shape[0] == 0):\n",
    "#             print('date:{}, past_date:{}'.format(date, past_date))\n",
    "            j = days-i\n",
    "#             print('days:{}, i: {}, days-i:{}'.format(days, i, j))\n",
    "            set_recent_stats_dow_hol(df3, date,days,dow,0, 0, 0, 0, 0, 0)\n",
    "            continue\n",
    "        mean = data.mean()\n",
    "        median = data.median()\n",
    "        std = data.std()\n",
    "        skew = data.skew()\n",
    "        kurtosis = data.kurtosis()\n",
    "        tenp = data.quantile(0.1)\n",
    "        ninetyp = data.quantile(0.9)\n",
    "        ten_by_ninety = tenp/ninetyp\n",
    "        set_recent_stats_dow_hol(df3, date,days,dow,mean, median, std, skew, kurtosis, ten_by_ninety)\n",
    "        del data\n",
    "    append_to_csv(df3, fn)\n",
    "    del df3"
   ]
  },
  {
   "cell_type": "code",
   "execution_count": 23,
   "metadata": {
    "collapsed": false
   },
   "outputs": [
    {
     "name": "stdout",
     "output_type": "stream",
     "text": [
      "5.52075222249\n"
     ]
    }
   ],
   "source": [
    "print(df.unit_sales.mean())"
   ]
  },
  {
   "cell_type": "code",
   "execution_count": 24,
   "metadata": {
    "collapsed": true
   },
   "outputs": [],
   "source": [
    "past_date = (np.datetime64('2016-01-01') - np.timedelta64(2, 'D'))"
   ]
  },
  {
   "cell_type": "code",
   "execution_count": 25,
   "metadata": {
    "collapsed": false
   },
   "outputs": [],
   "source": [
    "# df.unit_sales[(df.date.apply(np.datetime64) >= past_date) & \n",
    "#               (df.date.apply(np.datetime64) < np.datetime64('2016-01-01'))].mean()"
   ]
  },
  {
   "cell_type": "code",
   "execution_count": 26,
   "metadata": {
    "collapsed": true
   },
   "outputs": [],
   "source": [
    "df1 = df.set_index('date')"
   ]
  },
  {
   "cell_type": "code",
   "execution_count": 27,
   "metadata": {
    "collapsed": true
   },
   "outputs": [],
   "source": [
    "s1 = df1.loc['2015-12-31', 'unit_sales']\n",
    "s2 = df1.loc['2015-12-30', 'unit_sales']"
   ]
  },
  {
   "cell_type": "code",
   "execution_count": 28,
   "metadata": {
    "collapsed": true
   },
   "outputs": [],
   "source": [
    "s = pd.concat([s1, s2], axis=0)"
   ]
  },
  {
   "cell_type": "code",
   "execution_count": 29,
   "metadata": {
    "collapsed": false
   },
   "outputs": [
    {
     "data": {
      "text/plain": [
       "6.5914254756871031"
      ]
     },
     "execution_count": 29,
     "metadata": {},
     "output_type": "execute_result"
    }
   ],
   "source": [
    "s.mean()"
   ]
  },
  {
   "cell_type": "code",
   "execution_count": 30,
   "metadata": {
    "collapsed": true
   },
   "outputs": [],
   "source": [
    "gc.enable()"
   ]
  },
  {
   "cell_type": "code",
   "execution_count": 31,
   "metadata": {
    "collapsed": true
   },
   "outputs": [],
   "source": [
    "# import os\n",
    "# x = {i for i in range(20)}\n",
    "# os.sched_setaffinity(0, x)"
   ]
  },
  {
   "cell_type": "code",
   "execution_count": 32,
   "metadata": {
    "collapsed": true
   },
   "outputs": [],
   "source": [
    "# chunks = []\n",
    "# for i in range(1, len(d), 1000):\n",
    "#    chunks.append(d[i:min(i + 1000, len(d))])\n",
    "\n",
    "# res = Parallel(n_jobs=-1) (delayed(hash) (d) for d in chunks)\n",
    "\n",
    "# def hash(d):\n",
    "#     return [hashlib.sha256(str(x).encode('utf-8')).hexdigest()[:30] for x in d.itertuples(index=False, name=None)]"
   ]
  },
  {
   "cell_type": "code",
   "execution_count": 33,
   "metadata": {
    "collapsed": true
   },
   "outputs": [],
   "source": [
    "# Parallel(n_jobs=20)(delayed(sqrt)(i ** 2) for i in range(10000000))"
   ]
  },
  {
   "cell_type": "code",
   "execution_count": 34,
   "metadata": {
    "collapsed": true
   },
   "outputs": [],
   "source": [
    "# df = pd.DataFrame()\n",
    "# df1 = pd.DataFrame()"
   ]
  },
  {
   "cell_type": "code",
   "execution_count": null,
   "metadata": {
    "collapsed": true
   },
   "outputs": [],
   "source": []
  },
  {
   "cell_type": "code",
   "execution_count": 35,
   "metadata": {
    "collapsed": true
   },
   "outputs": [],
   "source": [
    "# for i in range(1,55):\n",
    "#     print(i)\n",
    "#     fn = '../cache/train10_t_store{}.csv'.format(i)\n",
    "#     df2 = pd.read_csv(fn)\n",
    "#     df2.unit_sales[df2.unit_sales < 0] = 0\n",
    "#     df3 = df2.set_index('date')\n",
    "#     dates = np.unique(df2.date.values)\n",
    "# #     for j, date in tqdm(enumerate(dates)):\n",
    "#     df = df2.copy()\n",
    "#     df1 = df3.copy()\n",
    "#     df = df.iloc[::-1]\n",
    "#     Parallel(n_jobs=10)(delayed(calculate_recent_stats)(date) for date in tqdm(dates))\n",
    "# #         calculate_recent_stats(date, df, df1)\n",
    "#     for days in [30, 90, 180, 365, 730]:\n",
    "#         df = set_recent_df_stats(df ,df1, days)\n",
    "#     df = df.iloc[::-1]\n",
    "#     print(df.shape)\n",
    "#     print(sum(df.isnull().any()==True)) # print NA\n",
    "#     print(sum((df != 0).any(axis=0))) # print non-zero columns\n",
    "#     fn = '../cache/train10_t_store{}_recent_stats.csv'.format(i)\n",
    "#     print(fn)\n",
    "#     df.to_csv(fn, index=False)\n",
    "#     del df2\n",
    "#     del df3"
   ]
  },
  {
   "cell_type": "code",
   "execution_count": 36,
   "metadata": {
    "collapsed": true
   },
   "outputs": [],
   "source": [
    "# files_list = []\n",
    "# for i in range(1,55):\n",
    "#     fn = '../cache/train10_t_store{}.csv'.format(i)\n",
    "#     files_list.append(fn)"
   ]
  },
  {
   "cell_type": "code",
   "execution_count": 37,
   "metadata": {
    "collapsed": true
   },
   "outputs": [],
   "source": [
    "# print('creating pool..')\n",
    "# print(cpu_count())\n",
    "# thread_pool = Pool(10)\n",
    "# print('mapping pool..')\n",
    "# thread_pool.map (calculate_recent_stats2, arg_list)\n",
    "\n",
    "# print('joining pool..')"
   ]
  },
  {
   "cell_type": "code",
   "execution_count": 38,
   "metadata": {
    "collapsed": true
   },
   "outputs": [],
   "source": [
    "# from multiprocessing import Pool, cpu_count\n",
    "def process_csv_file2(i):\n",
    "    fn = '../cache/bkup/train10_t_store{}.csv'.format(i)\n",
    "    print(fn)\n",
    "    df = pd.read_csv(fn)\n",
    "    print(df.shape)\n",
    "    df.unit_sales[df.unit_sales < 0] = 0 \n",
    "    df = df.iloc[::-1]\n",
    "    df1 = df.set_index('date')\n",
    "\n",
    "    trend_dates = []\n",
    "    for date in np.unique(df.date.values):\n",
    "        curr = np.datetime64(date)\n",
    "        last_in_trend = np.datetime64('2015-01-01')\n",
    "        if curr < last_in_trend:\n",
    "            continue\n",
    "        trend_dates.append(date)\n",
    "    for date in tqdm(trend_dates):\n",
    "        calculate_recent_stats_not_perishable(date, df, df1)\n",
    "    for days in [30, 90, 180, 365, 730]:\n",
    "        df = set_recent_df_stats_nper(df, df1, days)\n",
    "    df = df.iloc[::-1]\n",
    "    \n",
    "    df = df[(df.date.apply(np.datetime64) >= np.datetime64('2015-01-01')) & \n",
    "              (df.date.apply(np.datetime64) <= np.datetime64('2017-08-15'))]\n",
    "    \n",
    "    print(df.shape)\n",
    "    s = sum(df.isnull().any()==True) # print NA\n",
    "    print(s)\n",
    "    if s > 0:\n",
    "        print(df.isnull().sum())\n",
    "    print(sum((df != 0).any(axis=0))) # print non-zero columns\n",
    "    fn = '../cache/train10_t_store{}_recent_stats_nper.csv'.format(i)\n",
    "    print(fn)\n",
    "    df.to_csv(fn, index=False)\n",
    "    del df\n",
    "    del df1"
   ]
  },
  {
   "cell_type": "code",
   "execution_count": 39,
   "metadata": {
    "collapsed": true
   },
   "outputs": [],
   "source": [
    "def delete_file_if_exists(filename):\n",
    "    if os.path.exists(filename):\n",
    "        os.remove(filename)"
   ]
  },
  {
   "cell_type": "code",
   "execution_count": 40,
   "metadata": {
    "collapsed": false
   },
   "outputs": [],
   "source": [
    "# x = {i for i in range(20)}\n",
    "# os.sched_setaffinity(0, x)"
   ]
  },
  {
   "cell_type": "code",
   "execution_count": 41,
   "metadata": {
    "collapsed": true
   },
   "outputs": [],
   "source": [
    "def process_csv_file1(i):\n",
    "    fn_org = '../cache/bkup/train10_t_store{}.csv'.format(i)\n",
    "    print(fn_org)\n",
    "    df = pd.read_csv(fn_org)\n",
    "    \n",
    "    df.unit_sales[df.unit_sales < 0] = 0 \n",
    "    df['dts'] = df.date.map(np.datetime64)\n",
    "\n",
    "    trend_dates = []\n",
    "    for date in np.unique(df.date.values):\n",
    "        curr = np.datetime64(date)\n",
    "        last_in_trend = np.datetime64('2015-01-01')\n",
    "        if curr < last_in_trend:\n",
    "            continue\n",
    "        trend_dates.append(date)\n",
    "    \n",
    "    for dow in range(7):\n",
    "        fn_tmp = '../cache/train10_t_store{}_recent_stats_dow{}_hol_tmp.csv'.format(i, dow)\n",
    "        delete_file_if_exists(fn_tmp)\n",
    "        for date in tqdm(trend_dates):\n",
    "            calculate_recent_stats_dow(date, dow, df, fn_tmp)\n",
    "\n",
    "    print(df.shape)\n",
    "    df = df[(df.dts >= np.datetime64('2015-01-01')) & (df.dts <= np.datetime64('2017-08-15'))]\n",
    "\n",
    "    print(df.shape)\n",
    "    nrows1 = df.shape[0]\n",
    "    for dow in range(7):\n",
    "        fn_tmp = '../cache/train10_t_store{}_recent_stats_dow{}_hol_tmp.csv'.format(i, dow)\n",
    "        df1 = pd.read_csv(fn_tmp)\n",
    "        print(df1.shape)\n",
    "        df = pd.merge(df, df1, how='left', on='date')\n",
    "    df = df.drop('dts', axis=1)\n",
    "    s = sum(df.isnull().any()==True) # print NA\n",
    "    print(s)\n",
    "    if s > 0:\n",
    "        print(df.isnull().sum())\n",
    "    print(sum((df != 0).any(axis=0))) # print non-zero columns\n",
    "    fn = '../cache/train10_t_store{}_recent_stats_dow.csv'.format(i)\n",
    "    print(fn)\n",
    "    df.to_csv(fn, index=False)\n",
    "    print(df.shape)\n",
    "    nrows2 = df.shape[0]\n",
    "    assert(nrows1 == nrows2)\n",
    "    del df\n",
    "    del df1"
   ]
  },
  {
   "cell_type": "code",
   "execution_count": 42,
   "metadata": {
    "collapsed": true
   },
   "outputs": [],
   "source": [
    "def process_csv_file(i):\n",
    "    fn_org = '../cache/bkup/train10_t_store{}.csv'.format(i)\n",
    "    print(fn_org)\n",
    "    df = pd.read_csv(fn_org)\n",
    "    \n",
    "#     df.unit_sales[df.unit_sales < 0] = 0 \n",
    "    df['dts'] = df.date.map(np.datetime64)\n",
    "\n",
    "    trend_dates = []\n",
    "    for date in np.unique(df.date.values):\n",
    "        curr = np.datetime64(date)\n",
    "        last_in_trend = np.datetime64('2015-01-01')\n",
    "        if curr < last_in_trend:\n",
    "            continue\n",
    "        trend_dates.append(date)\n",
    "    \n",
    "    for dow in range(7):\n",
    "        fn_tmp = '../cache/train10_t_store{}_recent_stats_dow{}_hol_tmp.csv'.format(i, dow)\n",
    "        delete_file_if_exists(fn_tmp)\n",
    "        for date in tqdm(trend_dates):\n",
    "            calculate_recent_stats_dow_hol(date, dow, df, fn_tmp)\n",
    "\n",
    "#     print(df.shape)\n",
    "    df = df[(df.dts >= np.datetime64('2015-01-01')) & (df.dts <= np.datetime64('2017-08-15'))]\n",
    "\n",
    "#     print(df.shape)\n",
    "    nrows1 = df.shape[0]\n",
    "    for dow in range(7):\n",
    "        fn_tmp = '../cache/train10_t_store{}_recent_stats_dow{}_hol_tmp.csv'.format(i, dow)\n",
    "        df1 = pd.read_csv(fn_tmp)\n",
    "#         print(df1.shape)\n",
    "        df = pd.merge(df, df1, how='left', on='date')\n",
    "    df = df.drop('dts', axis=1)\n",
    "    s = sum(df.isnull().any()==True) # print NA\n",
    "    print(s)\n",
    "    if s > 0:\n",
    "        print(df.isnull().sum())\n",
    "    print(sum((df != 0).any(axis=0))) # print non-zero columns\n",
    "    fn = '../cache/train10_t_store{}_recent_stats_dow_hol_1.csv'.format(i)\n",
    "    print(fn)\n",
    "    df.to_csv(fn, float_format='%.5f',index=False)\n",
    "#     print(df.shape)\n",
    "    nrows2 = df.shape[0]\n",
    "    assert(nrows1 == nrows2)\n",
    "    del df\n",
    "    del df1\n",
    "    for dow in range(7):\n",
    "        fn_tmp = '../cache/train10_t_store{}_recent_stats_dow{}_hol_tmp.csv'.format(i, dow)\n",
    "        delete_file_if_exists(fn_tmp)"
   ]
  },
  {
   "cell_type": "code",
   "execution_count": 43,
   "metadata": {
    "collapsed": true
   },
   "outputs": [],
   "source": [
    "def process_test_csv_file(i):\n",
    "    fn_org = '../cache/bkup/train10_t_store{}.csv'.format(i)\n",
    "    fn_org1 = '../cache/bkup2/test7_1_t_store{}.csv'.format(i)\n",
    "    print(fn_org1)\n",
    "    df = pd.read_csv(fn_org)\n",
    "    df1 = pd.read_csv(fn_org1)\n",
    "    df = pd.concat([df, df1], axis=0)\n",
    "    \n",
    "#     df.unit_sales[df.unit_sales < 0] = 0 \n",
    "    df['dts'] = df.date.map(np.datetime64)\n",
    "\n",
    "    trend_dates = []\n",
    "    for date in np.unique(df.date.values):\n",
    "        curr = np.datetime64(date)\n",
    "        last_in_trend = np.datetime64('2017-08-16')\n",
    "        if curr < last_in_trend:\n",
    "            continue\n",
    "        trend_dates.append(date)\n",
    "    \n",
    "    for dow in range(7):\n",
    "        fn_tmp = '../cache/test7_1_t_store{}_recent_stats_dow{}_hol_tmp.csv'.format(i, dow)\n",
    "        delete_file_if_exists(fn_tmp)\n",
    "        for date in tqdm(trend_dates):\n",
    "            calculate_recent_stats_dow_hol(date, dow, df, fn_tmp)\n",
    "\n",
    "    print(df.shape)\n",
    "#     df = df[(df.dts >= np.datetime64('2017-08-16')) & (df.dts <= np.datetime64('2017-08-31'))]\n",
    "    df = df[(df.date.astype('str') >= str('2017-08-16')) & (df.date.astype('str') <= str('2017-08-31'))]\n",
    "\n",
    "    print(df.shape)\n",
    "    nrows1 = df.shape[0]\n",
    "    for dow in range(7):\n",
    "        fn_tmp = '../cache/test7_1_t_store{}_recent_stats_dow{}_hol_tmp.csv'.format(i, dow)\n",
    "        df1 = pd.read_csv(fn_tmp)\n",
    "        print(df1.shape)\n",
    "        df = pd.merge(df, df1, how='left', on='date')\n",
    "    df = df.drop('dts', axis=1)\n",
    "    s = sum(df.isnull().any()==True) # print NA\n",
    "    print(s)\n",
    "    if s > 0:\n",
    "        print(df.isnull().sum())\n",
    "    print(sum((df != 0).any(axis=0))) # print non-zero columns\n",
    "    fn = '../cache/test7_1_t_store{}_recent_stats_dow_hol_1.csv'.format(i)\n",
    "    print(fn)\n",
    "    df.to_csv(fn, float_format='%.5f',index=False)\n",
    "    print(df.shape)\n",
    "    nrows2 = df.shape[0]\n",
    "    assert(nrows1 == nrows2)\n",
    "    del df\n",
    "    del df1\n",
    "    for dow in range(7):\n",
    "        fn_tmp = '../cache/test7_1_t_store{}_recent_stats_dow{}_hol_tmp.csv'.format(i, dow)\n",
    "        delete_file_if_exists(fn_tmp)"
   ]
  },
  {
   "cell_type": "code",
   "execution_count": 44,
   "metadata": {
    "collapsed": false
   },
   "outputs": [
    {
     "name": "stdout",
     "output_type": "stream",
     "text": [
      "../cache/bkup2/test7_1_t_store1.csv\n"
     ]
    },
    {
     "name": "stderr",
     "output_type": "stream",
     "text": [
      "/home/watts/anaconda2/envs/sdp35/lib/python3.5/site-packages/IPython/core/interactiveshell.py:2850: DtypeWarning: Columns (5) have mixed types. Specify dtype option on import or set low_memory=False.\n",
      "  if self.run_code(code, result):\n",
      "100%|██████████| 16/16 [01:52<00:00,  7.02s/it]\n",
      "100%|██████████| 16/16 [01:52<00:00,  7.04s/it]\n",
      "100%|██████████| 16/16 [01:52<00:00,  7.00s/it]\n",
      "100%|██████████| 16/16 [01:52<00:00,  7.00s/it]\n",
      "100%|██████████| 16/16 [01:53<00:00,  7.09s/it]\n",
      "100%|██████████| 16/16 [01:53<00:00,  7.07s/it]\n",
      "100%|██████████| 16/16 [01:52<00:00,  7.03s/it]\n"
     ]
    },
    {
     "name": "stdout",
     "output_type": "stream",
     "text": [
      "(2624569, 28)\n",
      "(62416, 28)\n",
      "(16, 31)\n",
      "(16, 31)\n",
      "(16, 31)\n",
      "(16, 31)\n",
      "(16, 31)\n",
      "(16, 31)\n",
      "(16, 31)\n",
      "0\n",
      "176\n",
      "../cache/test7_1_t_store1_recent_stats_dow_hol_1.csv\n",
      "(62416, 237)\n",
      "../cache/bkup2/test7_1_t_store2.csv\n"
     ]
    },
    {
     "name": "stderr",
     "output_type": "stream",
     "text": [
      "100%|██████████| 16/16 [02:09<00:00,  8.12s/it]\n",
      "100%|██████████| 16/16 [02:09<00:00,  8.12s/it]\n",
      "100%|██████████| 16/16 [02:09<00:00,  8.09s/it]\n",
      "100%|██████████| 16/16 [02:09<00:00,  8.09s/it]\n",
      "100%|██████████| 16/16 [02:09<00:00,  8.12s/it]\n",
      "100%|██████████| 16/16 [02:10<00:00,  8.15s/it]\n",
      "100%|██████████| 16/16 [02:10<00:00,  8.14s/it]\n"
     ]
    },
    {
     "name": "stdout",
     "output_type": "stream",
     "text": [
      "(3050256, 28)\n",
      "(62416, 28)\n",
      "(16, 31)\n",
      "(16, 31)\n",
      "(16, 31)\n",
      "(16, 31)\n",
      "(16, 31)\n",
      "(16, 31)\n",
      "(16, 31)\n",
      "0\n",
      "176\n",
      "../cache/test7_1_t_store2_recent_stats_dow_hol_1.csv\n",
      "(62416, 237)\n",
      "../cache/bkup2/test7_1_t_store3.csv\n"
     ]
    },
    {
     "name": "stderr",
     "output_type": "stream",
     "text": [
      "100%|██████████| 16/16 [02:27<00:00,  9.24s/it]\n",
      "100%|██████████| 16/16 [02:27<00:00,  9.20s/it]\n",
      "100%|██████████| 16/16 [02:27<00:00,  9.21s/it]\n",
      "100%|██████████| 16/16 [02:28<00:00,  9.27s/it]\n",
      "100%|██████████| 16/16 [02:27<00:00,  9.23s/it]\n",
      "100%|██████████| 16/16 [02:27<00:00,  9.25s/it]\n",
      "100%|██████████| 16/16 [02:28<00:00,  9.27s/it]\n"
     ]
    },
    {
     "name": "stdout",
     "output_type": "stream",
     "text": [
      "(3463680, 28)\n",
      "(62416, 28)\n",
      "(16, 31)\n",
      "(16, 31)\n",
      "(16, 31)\n",
      "(16, 31)\n",
      "(16, 31)\n",
      "(16, 31)\n",
      "(16, 31)\n",
      "0\n",
      "176\n",
      "../cache/test7_1_t_store3_recent_stats_dow_hol_1.csv\n",
      "(62416, 237)\n",
      "../cache/bkup2/test7_1_t_store4.csv\n"
     ]
    },
    {
     "name": "stderr",
     "output_type": "stream",
     "text": [
      "100%|██████████| 16/16 [02:03<00:00,  7.70s/it]\n",
      "100%|██████████| 16/16 [02:02<00:00,  7.68s/it]\n",
      "100%|██████████| 16/16 [02:02<00:00,  7.67s/it]\n",
      "100%|██████████| 16/16 [02:02<00:00,  7.68s/it]\n",
      "100%|██████████| 16/16 [02:03<00:00,  7.71s/it]\n",
      "100%|██████████| 16/16 [02:03<00:00,  7.75s/it]\n",
      "100%|██████████| 16/16 [02:04<00:00,  7.79s/it]\n"
     ]
    },
    {
     "name": "stdout",
     "output_type": "stream",
     "text": [
      "(2892970, 28)\n",
      "(62416, 28)\n",
      "(16, 31)\n",
      "(16, 31)\n",
      "(16, 31)\n",
      "(16, 31)\n",
      "(16, 31)\n",
      "(16, 31)\n",
      "(16, 31)\n",
      "0\n",
      "176\n",
      "../cache/test7_1_t_store4_recent_stats_dow_hol_1.csv\n",
      "(62416, 237)\n",
      "../cache/bkup2/test7_1_t_store5.csv\n"
     ]
    },
    {
     "name": "stderr",
     "output_type": "stream",
     "text": [
      "100%|██████████| 16/16 [01:56<00:00,  7.30s/it]\n",
      "100%|██████████| 16/16 [01:57<00:00,  7.32s/it]\n",
      "100%|██████████| 16/16 [01:56<00:00,  7.28s/it]\n",
      "100%|██████████| 16/16 [01:56<00:00,  7.27s/it]\n",
      "100%|██████████| 16/16 [01:56<00:00,  7.29s/it]\n",
      "100%|██████████| 16/16 [01:57<00:00,  7.35s/it]\n",
      "100%|██████████| 16/16 [01:57<00:00,  7.32s/it]\n"
     ]
    },
    {
     "name": "stdout",
     "output_type": "stream",
     "text": [
      "(2729107, 28)\n",
      "(62416, 28)\n",
      "(16, 31)\n",
      "(16, 31)\n",
      "(16, 31)\n",
      "(16, 31)\n",
      "(16, 31)\n",
      "(16, 31)\n",
      "(16, 31)\n",
      "0\n",
      "176\n",
      "../cache/test7_1_t_store5_recent_stats_dow_hol_1.csv\n",
      "(62416, 237)\n",
      "../cache/bkup2/test7_1_t_store6.csv\n"
     ]
    },
    {
     "name": "stderr",
     "output_type": "stream",
     "text": [
      "100%|██████████| 16/16 [02:14<00:00,  8.43s/it]\n",
      "100%|██████████| 16/16 [02:14<00:00,  8.39s/it]\n",
      "100%|██████████| 16/16 [02:14<00:00,  8.41s/it]\n",
      "100%|██████████| 16/16 [02:13<00:00,  8.35s/it]\n",
      "100%|██████████| 16/16 [02:13<00:00,  8.37s/it]\n",
      "100%|██████████| 16/16 [02:14<00:00,  8.42s/it]\n",
      "100%|██████████| 16/16 [02:14<00:00,  8.43s/it]\n"
     ]
    },
    {
     "name": "stdout",
     "output_type": "stream",
     "text": [
      "(3152215, 28)\n",
      "(62416, 28)\n",
      "(16, 31)\n",
      "(16, 31)\n",
      "(16, 31)\n",
      "(16, 31)\n",
      "(16, 31)\n",
      "(16, 31)\n",
      "(16, 31)\n",
      "0\n",
      "176\n",
      "../cache/test7_1_t_store6_recent_stats_dow_hol_1.csv\n",
      "(62416, 237)\n",
      "../cache/bkup2/test7_1_t_store7.csv\n"
     ]
    },
    {
     "name": "stderr",
     "output_type": "stream",
     "text": [
      "100%|██████████| 16/16 [02:08<00:00,  8.04s/it]\n",
      "100%|██████████| 16/16 [02:07<00:00,  7.95s/it]\n",
      "100%|██████████| 16/16 [02:07<00:00,  7.95s/it]\n",
      "100%|██████████| 16/16 [02:07<00:00,  7.95s/it]\n",
      "100%|██████████| 16/16 [02:08<00:00,  8.00s/it]\n",
      "100%|██████████| 16/16 [02:07<00:00,  7.99s/it]\n",
      "100%|██████████| 16/16 [02:07<00:00,  7.98s/it]\n"
     ]
    },
    {
     "name": "stdout",
     "output_type": "stream",
     "text": [
      "(2983620, 28)\n",
      "(62416, 28)\n",
      "(16, 31)\n",
      "(16, 31)\n",
      "(16, 31)\n",
      "(16, 31)\n",
      "(16, 31)\n",
      "(16, 31)\n",
      "(16, 31)\n",
      "0\n",
      "176\n",
      "../cache/test7_1_t_store7_recent_stats_dow_hol_1.csv\n",
      "(62416, 237)\n",
      "../cache/bkup2/test7_1_t_store8.csv\n"
     ]
    },
    {
     "name": "stderr",
     "output_type": "stream",
     "text": [
      "100%|██████████| 16/16 [02:21<00:00,  8.81s/it]\n",
      "100%|██████████| 16/16 [02:21<00:00,  8.82s/it]\n",
      "100%|██████████| 16/16 [02:20<00:00,  8.80s/it]\n",
      "100%|██████████| 16/16 [02:21<00:00,  8.82s/it]\n",
      "100%|██████████| 16/16 [02:20<00:00,  8.81s/it]\n",
      "100%|██████████| 16/16 [02:21<00:00,  8.83s/it]\n",
      "100%|██████████| 16/16 [02:21<00:00,  8.86s/it]\n"
     ]
    },
    {
     "name": "stdout",
     "output_type": "stream",
     "text": [
      "(3323600, 28)\n",
      "(62416, 28)\n",
      "(16, 31)\n",
      "(16, 31)\n",
      "(16, 31)\n",
      "(16, 31)\n",
      "(16, 31)\n",
      "(16, 31)\n",
      "(16, 31)\n",
      "0\n",
      "176\n",
      "../cache/test7_1_t_store8_recent_stats_dow_hol_1.csv\n",
      "(62416, 237)\n",
      "../cache/bkup2/test7_1_t_store9.csv\n"
     ]
    },
    {
     "name": "stderr",
     "output_type": "stream",
     "text": [
      "100%|██████████| 16/16 [02:00<00:00,  7.55s/it]\n",
      "100%|██████████| 16/16 [02:00<00:00,  7.55s/it]\n",
      "100%|██████████| 16/16 [02:01<00:00,  7.56s/it]\n",
      "100%|██████████| 16/16 [02:00<00:00,  7.55s/it]\n",
      "100%|██████████| 16/16 [02:00<00:00,  7.54s/it]\n",
      "100%|██████████| 16/16 [02:01<00:00,  7.57s/it]\n",
      "100%|██████████| 16/16 [02:01<00:00,  7.57s/it]\n"
     ]
    },
    {
     "name": "stdout",
     "output_type": "stream",
     "text": [
      "(2836206, 28)\n",
      "(62416, 28)\n",
      "(16, 31)\n",
      "(16, 31)\n",
      "(16, 31)\n",
      "(16, 31)\n",
      "(16, 31)\n",
      "(16, 31)\n",
      "(16, 31)\n",
      "0\n",
      "176\n",
      "../cache/test7_1_t_store9_recent_stats_dow_hol_1.csv\n",
      "(62416, 237)\n",
      "../cache/bkup2/test7_1_t_store10.csv\n"
     ]
    },
    {
     "name": "stderr",
     "output_type": "stream",
     "text": [
      "100%|██████████| 16/16 [01:16<00:00,  4.79s/it]\n",
      "100%|██████████| 16/16 [01:16<00:00,  4.78s/it]\n",
      "100%|██████████| 16/16 [01:16<00:00,  4.79s/it]\n",
      "100%|██████████| 16/16 [01:16<00:00,  4.79s/it]\n",
      "100%|██████████| 16/16 [01:16<00:00,  4.80s/it]\n",
      "100%|██████████| 16/16 [01:17<00:00,  4.82s/it]\n",
      "100%|██████████| 16/16 [01:17<00:00,  4.85s/it]\n"
     ]
    },
    {
     "name": "stdout",
     "output_type": "stream",
     "text": [
      "(1802898, 28)\n",
      "(62416, 28)\n",
      "(16, 31)\n",
      "(16, 31)\n",
      "(16, 31)\n",
      "(16, 31)\n",
      "(16, 31)\n",
      "(16, 31)\n",
      "(16, 31)\n",
      "0\n",
      "176\n",
      "../cache/test7_1_t_store10_recent_stats_dow_hol_1.csv\n",
      "(62416, 237)\n",
      "../cache/bkup2/test7_1_t_store11.csv\n"
     ]
    },
    {
     "name": "stderr",
     "output_type": "stream",
     "text": [
      "100%|██████████| 16/16 [01:51<00:00,  6.99s/it]\n",
      "100%|██████████| 16/16 [01:51<00:00,  6.99s/it]\n",
      "100%|██████████| 16/16 [01:51<00:00,  6.99s/it]\n",
      "100%|██████████| 16/16 [01:51<00:00,  6.99s/it]\n",
      "100%|██████████| 16/16 [01:52<00:00,  7.03s/it]\n",
      "100%|██████████| 16/16 [01:52<00:00,  7.02s/it]\n",
      "100%|██████████| 16/16 [01:52<00:00,  7.01s/it]\n"
     ]
    },
    {
     "name": "stdout",
     "output_type": "stream",
     "text": [
      "(2630698, 28)\n",
      "(62416, 28)\n",
      "(16, 31)\n",
      "(16, 31)\n",
      "(16, 31)\n",
      "(16, 31)\n",
      "(16, 31)\n",
      "(16, 31)\n",
      "(16, 31)\n",
      "0\n",
      "176\n",
      "../cache/test7_1_t_store11_recent_stats_dow_hol_1.csv\n",
      "(62416, 237)\n",
      "../cache/bkup2/test7_1_t_store12.csv\n"
     ]
    },
    {
     "name": "stderr",
     "output_type": "stream",
     "text": [
      "100%|██████████| 16/16 [01:20<00:00,  5.05s/it]\n",
      "100%|██████████| 16/16 [01:20<00:00,  5.05s/it]\n",
      "100%|██████████| 16/16 [01:20<00:00,  5.05s/it]\n",
      "100%|██████████| 16/16 [01:20<00:00,  5.06s/it]\n",
      "100%|██████████| 16/16 [01:21<00:00,  5.08s/it]\n",
      "100%|██████████| 16/16 [01:21<00:00,  5.11s/it]\n",
      "100%|██████████| 16/16 [01:21<00:00,  5.07s/it]\n"
     ]
    },
    {
     "name": "stdout",
     "output_type": "stream",
     "text": [
      "(1898999, 28)\n",
      "(62416, 28)\n",
      "(16, 31)\n",
      "(16, 31)\n",
      "(16, 31)\n",
      "(16, 31)\n",
      "(16, 31)\n",
      "(16, 31)\n",
      "(16, 31)\n",
      "0\n",
      "176\n",
      "../cache/test7_1_t_store12_recent_stats_dow_hol_1.csv\n",
      "(62416, 237)\n",
      "../cache/bkup2/test7_1_t_store13.csv\n"
     ]
    },
    {
     "name": "stderr",
     "output_type": "stream",
     "text": [
      "100%|██████████| 16/16 [01:16<00:00,  4.78s/it]\n",
      "100%|██████████| 16/16 [01:16<00:00,  4.78s/it]\n",
      "100%|██████████| 16/16 [01:16<00:00,  4.80s/it]\n",
      "100%|██████████| 16/16 [01:16<00:00,  4.78s/it]\n",
      "100%|██████████| 16/16 [01:17<00:00,  4.83s/it]\n",
      "100%|██████████| 16/16 [01:16<00:00,  4.80s/it]\n",
      "100%|██████████| 16/16 [01:16<00:00,  4.81s/it]\n"
     ]
    },
    {
     "name": "stdout",
     "output_type": "stream",
     "text": [
      "(1799144, 28)\n",
      "(62416, 28)\n",
      "(16, 31)\n",
      "(16, 31)\n",
      "(16, 31)\n",
      "(16, 31)\n",
      "(16, 31)\n",
      "(16, 31)\n",
      "(16, 31)\n",
      "0\n",
      "176\n",
      "../cache/test7_1_t_store13_recent_stats_dow_hol_1.csv\n",
      "(62416, 237)\n",
      "../cache/bkup2/test7_1_t_store14.csv\n"
     ]
    },
    {
     "name": "stderr",
     "output_type": "stream",
     "text": [
      "100%|██████████| 16/16 [01:19<00:00,  4.97s/it]\n",
      "100%|██████████| 16/16 [01:19<00:00,  4.97s/it]\n",
      "100%|██████████| 16/16 [01:19<00:00,  4.97s/it]\n",
      "100%|██████████| 16/16 [01:19<00:00,  4.96s/it]\n",
      "100%|██████████| 16/16 [01:19<00:00,  4.97s/it]\n",
      "100%|██████████| 16/16 [01:19<00:00,  5.00s/it]\n",
      "100%|██████████| 16/16 [01:20<00:00,  5.03s/it]\n"
     ]
    },
    {
     "name": "stdout",
     "output_type": "stream",
     "text": [
      "(1868357, 28)\n",
      "(62416, 28)\n",
      "(16, 31)\n",
      "(16, 31)\n",
      "(16, 31)\n",
      "(16, 31)\n",
      "(16, 31)\n",
      "(16, 31)\n",
      "(16, 31)\n",
      "0\n",
      "188\n",
      "../cache/test7_1_t_store14_recent_stats_dow_hol_1.csv\n",
      "(62416, 237)\n",
      "../cache/bkup2/test7_1_t_store15.csv\n"
     ]
    },
    {
     "name": "stderr",
     "output_type": "stream",
     "text": [
      "100%|██████████| 16/16 [01:25<00:00,  5.35s/it]\n",
      "100%|██████████| 16/16 [01:25<00:00,  5.32s/it]\n",
      "100%|██████████| 16/16 [01:25<00:00,  5.35s/it]\n",
      "100%|██████████| 16/16 [01:25<00:00,  5.32s/it]\n",
      "100%|██████████| 16/16 [01:25<00:00,  5.37s/it]\n",
      "100%|██████████| 16/16 [01:25<00:00,  5.35s/it]\n",
      "100%|██████████| 16/16 [01:25<00:00,  5.35s/it]\n"
     ]
    },
    {
     "name": "stdout",
     "output_type": "stream",
     "text": [
      "(2001094, 28)\n",
      "(62416, 28)\n",
      "(16, 31)\n",
      "(16, 31)\n",
      "(16, 31)\n",
      "(16, 31)\n",
      "(16, 31)\n",
      "(16, 31)\n",
      "(16, 31)\n",
      "0\n",
      "176\n",
      "../cache/test7_1_t_store15_recent_stats_dow_hol_1.csv\n",
      "(62416, 237)\n",
      "../cache/bkup2/test7_1_t_store16.csv\n"
     ]
    },
    {
     "name": "stderr",
     "output_type": "stream",
     "text": [
      "100%|██████████| 16/16 [01:20<00:00,  5.03s/it]\n",
      "100%|██████████| 16/16 [01:20<00:00,  5.00s/it]\n",
      "100%|██████████| 16/16 [01:20<00:00,  5.01s/it]\n",
      "100%|██████████| 16/16 [01:20<00:00,  5.00s/it]\n",
      "100%|██████████| 16/16 [01:21<00:00,  5.06s/it]\n",
      "100%|██████████| 16/16 [01:20<00:00,  5.03s/it]\n",
      "100%|██████████| 16/16 [01:20<00:00,  5.02s/it]\n"
     ]
    },
    {
     "name": "stdout",
     "output_type": "stream",
     "text": [
      "(1882451, 28)\n",
      "(62416, 28)\n",
      "(16, 31)\n",
      "(16, 31)\n",
      "(16, 31)\n",
      "(16, 31)\n",
      "(16, 31)\n",
      "(16, 31)\n",
      "(16, 31)\n",
      "0\n",
      "176\n",
      "../cache/test7_1_t_store16_recent_stats_dow_hol_1.csv\n",
      "(62416, 237)\n",
      "../cache/bkup2/test7_1_t_store17.csv\n"
     ]
    },
    {
     "name": "stderr",
     "output_type": "stream",
     "text": [
      "100%|██████████| 16/16 [01:34<00:00,  5.92s/it]\n",
      "100%|██████████| 16/16 [01:34<00:00,  5.91s/it]\n",
      "100%|██████████| 16/16 [01:34<00:00,  5.91s/it]\n",
      "100%|██████████| 16/16 [01:34<00:00,  5.90s/it]\n",
      "100%|██████████| 16/16 [01:34<00:00,  5.92s/it]\n",
      "100%|██████████| 16/16 [01:35<00:00,  5.94s/it]\n",
      "100%|██████████| 16/16 [01:35<00:00,  6.00s/it]\n"
     ]
    },
    {
     "name": "stdout",
     "output_type": "stream",
     "text": [
      "(2226436, 28)\n",
      "(62416, 28)\n",
      "(16, 31)\n",
      "(16, 31)\n",
      "(16, 31)\n",
      "(16, 31)\n",
      "(16, 31)\n",
      "(16, 31)\n",
      "(16, 31)\n",
      "0\n",
      "176\n",
      "../cache/test7_1_t_store17_recent_stats_dow_hol_1.csv\n",
      "(62416, 237)\n",
      "../cache/bkup2/test7_1_t_store18.csv\n"
     ]
    },
    {
     "name": "stderr",
     "output_type": "stream",
     "text": [
      "100%|██████████| 16/16 [01:36<00:00,  6.01s/it]\n",
      "100%|██████████| 16/16 [01:35<00:00,  6.00s/it]\n",
      "100%|██████████| 16/16 [01:35<00:00,  6.00s/it]\n",
      "100%|██████████| 16/16 [01:35<00:00,  6.00s/it]\n",
      "100%|██████████| 16/16 [01:36<00:00,  6.00s/it]\n",
      "100%|██████████| 16/16 [01:36<00:00,  6.02s/it]\n",
      "100%|██████████| 16/16 [01:36<00:00,  6.02s/it]\n"
     ]
    },
    {
     "name": "stdout",
     "output_type": "stream",
     "text": [
      "(2259098, 28)\n",
      "(62416, 28)\n",
      "(16, 31)\n",
      "(16, 31)\n",
      "(16, 31)\n",
      "(16, 31)\n",
      "(16, 31)\n",
      "(16, 31)\n",
      "(16, 31)\n",
      "0\n",
      "176\n",
      "../cache/test7_1_t_store18_recent_stats_dow_hol_1.csv\n",
      "(62416, 237)\n",
      "../cache/bkup2/test7_1_t_store19.csv\n"
     ]
    },
    {
     "name": "stderr",
     "output_type": "stream",
     "text": [
      "100%|██████████| 16/16 [01:22<00:00,  5.16s/it]\n",
      "100%|██████████| 16/16 [01:22<00:00,  5.15s/it]\n",
      "100%|██████████| 16/16 [01:22<00:00,  5.18s/it]\n",
      "100%|██████████| 16/16 [01:22<00:00,  5.16s/it]\n",
      "100%|██████████| 16/16 [01:22<00:00,  5.17s/it]\n",
      "100%|██████████| 16/16 [01:23<00:00,  5.21s/it]\n",
      "100%|██████████| 16/16 [01:22<00:00,  5.17s/it]\n"
     ]
    },
    {
     "name": "stdout",
     "output_type": "stream",
     "text": [
      "(1941571, 28)\n",
      "(62416, 28)\n",
      "(16, 31)\n",
      "(16, 31)\n",
      "(16, 31)\n",
      "(16, 31)\n",
      "(16, 31)\n",
      "(16, 31)\n",
      "(16, 31)\n",
      "0\n",
      "176\n",
      "../cache/test7_1_t_store19_recent_stats_dow_hol_1.csv\n",
      "(62416, 237)\n",
      "../cache/bkup2/test7_1_t_store20.csv\n"
     ]
    },
    {
     "name": "stderr",
     "output_type": "stream",
     "text": [
      "100%|██████████| 16/16 [01:14<00:00,  4.63s/it]\n",
      "100%|██████████| 16/16 [01:13<00:00,  4.62s/it]\n",
      "100%|██████████| 16/16 [01:13<00:00,  4.61s/it]\n",
      "100%|██████████| 16/16 [01:13<00:00,  4.61s/it]\n",
      "100%|██████████| 16/16 [01:13<00:00,  4.62s/it]\n",
      "100%|██████████| 16/16 [01:14<00:00,  4.64s/it]\n",
      "100%|██████████| 16/16 [01:14<00:00,  4.65s/it]\n"
     ]
    },
    {
     "name": "stdout",
     "output_type": "stream",
     "text": [
      "(1728401, 28)\n",
      "(62416, 28)\n",
      "(16, 31)\n",
      "(16, 31)\n",
      "(16, 31)\n",
      "(16, 31)\n",
      "(16, 31)\n",
      "(16, 31)\n",
      "(16, 31)\n",
      "0\n",
      "176\n",
      "../cache/test7_1_t_store20_recent_stats_dow_hol_1.csv\n",
      "(62416, 237)\n",
      "../cache/bkup2/test7_1_t_store21.csv\n"
     ]
    },
    {
     "name": "stderr",
     "output_type": "stream",
     "text": [
      "100%|██████████| 16/16 [01:01<00:00,  3.83s/it]\n",
      "100%|██████████| 16/16 [01:01<00:00,  3.83s/it]\n",
      "100%|██████████| 16/16 [01:01<00:00,  3.83s/it]\n",
      "100%|██████████| 16/16 [01:01<00:00,  3.82s/it]\n",
      "100%|██████████| 16/16 [01:01<00:00,  3.83s/it]\n",
      "100%|██████████| 16/16 [01:01<00:00,  3.85s/it]\n",
      "100%|██████████| 16/16 [01:01<00:00,  3.85s/it]\n"
     ]
    },
    {
     "name": "stdout",
     "output_type": "stream",
     "text": [
      "(1435835, 28)\n",
      "(62416, 28)\n",
      "(16, 31)\n",
      "(16, 31)\n",
      "(16, 31)\n",
      "(16, 31)\n",
      "(16, 31)\n",
      "(16, 31)\n",
      "(16, 31)\n",
      "0\n",
      "176\n",
      "../cache/test7_1_t_store21_recent_stats_dow_hol_1.csv\n",
      "(62416, 237)\n",
      "../cache/bkup2/test7_1_t_store22.csv\n"
     ]
    },
    {
     "name": "stderr",
     "output_type": "stream",
     "text": [
      "100%|██████████| 16/16 [00:34<00:00,  2.19s/it]\n",
      "100%|██████████| 16/16 [00:35<00:00,  2.19s/it]\n",
      "100%|██████████| 16/16 [00:35<00:00,  2.19s/it]\n",
      "100%|██████████| 16/16 [00:34<00:00,  2.18s/it]\n",
      "100%|██████████| 16/16 [00:35<00:00,  2.20s/it]\n",
      "100%|██████████| 16/16 [00:35<00:00,  2.20s/it]\n",
      "100%|██████████| 16/16 [00:35<00:00,  2.20s/it]\n"
     ]
    },
    {
     "name": "stdout",
     "output_type": "stream",
     "text": [
      "(985899, 28)\n",
      "(62416, 28)\n",
      "(16, 31)\n",
      "(16, 31)\n",
      "(16, 31)\n",
      "(16, 31)\n",
      "(16, 31)\n",
      "(16, 31)\n",
      "(16, 31)\n",
      "0\n",
      "134\n",
      "../cache/test7_1_t_store22_recent_stats_dow_hol_1.csv\n",
      "(62416, 237)\n",
      "../cache/bkup2/test7_1_t_store23.csv\n"
     ]
    },
    {
     "name": "stderr",
     "output_type": "stream",
     "text": [
      "100%|██████████| 16/16 [01:43<00:00,  6.46s/it]\n",
      "100%|██████████| 16/16 [01:43<00:00,  6.47s/it]\n",
      "100%|██████████| 16/16 [01:43<00:00,  6.44s/it]\n",
      "100%|██████████| 16/16 [01:43<00:00,  6.45s/it]\n",
      "100%|██████████| 16/16 [01:43<00:00,  6.45s/it]\n",
      "100%|██████████| 16/16 [01:43<00:00,  6.47s/it]\n",
      "100%|██████████| 16/16 [01:43<00:00,  6.47s/it]\n"
     ]
    },
    {
     "name": "stdout",
     "output_type": "stream",
     "text": [
      "(2428113, 28)\n",
      "(62416, 28)\n",
      "(16, 31)\n",
      "(16, 31)\n",
      "(16, 31)\n",
      "(16, 31)\n",
      "(16, 31)\n",
      "(16, 31)\n",
      "(16, 31)\n",
      "0\n",
      "191\n",
      "../cache/test7_1_t_store23_recent_stats_dow_hol_1.csv\n",
      "(62416, 237)\n",
      "../cache/bkup2/test7_1_t_store24.csv\n"
     ]
    },
    {
     "name": "stderr",
     "output_type": "stream",
     "text": [
      "100%|██████████| 16/16 [02:00<00:00,  7.52s/it]\n",
      "100%|██████████| 16/16 [02:00<00:00,  7.51s/it]\n",
      "100%|██████████| 16/16 [02:00<00:00,  7.55s/it]\n",
      "100%|██████████| 16/16 [02:01<00:00,  7.57s/it]\n",
      "100%|██████████| 16/16 [02:00<00:00,  7.53s/it]\n",
      "100%|██████████| 16/16 [02:00<00:00,  7.54s/it]\n",
      "100%|██████████| 16/16 [02:00<00:00,  7.54s/it]\n"
     ]
    },
    {
     "name": "stdout",
     "output_type": "stream",
     "text": [
      "(2832305, 28)\n",
      "(62416, 28)\n",
      "(16, 31)\n",
      "(16, 31)\n",
      "(16, 31)\n",
      "(16, 31)\n",
      "(16, 31)\n",
      "(16, 31)\n",
      "(16, 31)\n",
      "0\n",
      "200\n",
      "../cache/test7_1_t_store24_recent_stats_dow_hol_1.csv\n",
      "(62416, 237)\n",
      "../cache/bkup2/test7_1_t_store25.csv\n"
     ]
    },
    {
     "name": "stderr",
     "output_type": "stream",
     "text": [
      "100%|██████████| 16/16 [01:30<00:00,  5.64s/it]\n",
      "100%|██████████| 16/16 [01:30<00:00,  5.63s/it]\n",
      "100%|██████████| 16/16 [01:30<00:00,  5.64s/it]\n",
      "100%|██████████| 16/16 [01:30<00:00,  5.66s/it]\n",
      "100%|██████████| 16/16 [01:30<00:00,  5.64s/it]\n",
      "100%|██████████| 16/16 [01:30<00:00,  5.65s/it]\n",
      "100%|██████████| 16/16 [01:30<00:00,  5.65s/it]\n"
     ]
    },
    {
     "name": "stdout",
     "output_type": "stream",
     "text": [
      "(2119436, 28)\n",
      "(62416, 28)\n",
      "(16, 31)\n",
      "(16, 31)\n",
      "(16, 31)\n",
      "(16, 31)\n",
      "(16, 31)\n",
      "(16, 31)\n",
      "(16, 31)\n",
      "0\n",
      "176\n",
      "../cache/test7_1_t_store25_recent_stats_dow_hol_1.csv\n",
      "(62416, 237)\n",
      "../cache/bkup2/test7_1_t_store26.csv\n"
     ]
    },
    {
     "name": "stderr",
     "output_type": "stream",
     "text": [
      "100%|██████████| 16/16 [01:18<00:00,  4.93s/it]\n",
      "100%|██████████| 16/16 [01:19<00:00,  4.94s/it]\n",
      "100%|██████████| 16/16 [01:19<00:00,  4.95s/it]\n",
      "100%|██████████| 16/16 [01:18<00:00,  4.92s/it]\n",
      "100%|██████████| 16/16 [01:18<00:00,  4.93s/it]\n",
      "100%|██████████| 16/16 [01:20<00:00,  5.03s/it]\n",
      "100%|██████████| 16/16 [01:19<00:00,  4.97s/it]\n"
     ]
    },
    {
     "name": "stdout",
     "output_type": "stream",
     "text": [
      "(1855498, 28)\n",
      "(62416, 28)\n",
      "(16, 31)\n",
      "(16, 31)\n",
      "(16, 31)\n",
      "(16, 31)\n",
      "(16, 31)\n",
      "(16, 31)\n",
      "(16, 31)\n",
      "0\n",
      "200\n",
      "../cache/test7_1_t_store26_recent_stats_dow_hol_1.csv\n",
      "(62416, 237)\n",
      "../cache/bkup2/test7_1_t_store27.csv\n"
     ]
    },
    {
     "name": "stderr",
     "output_type": "stream",
     "text": [
      "100%|██████████| 16/16 [01:54<00:00,  7.16s/it]\n",
      "100%|██████████| 16/16 [01:54<00:00,  7.15s/it]\n",
      "100%|██████████| 16/16 [01:54<00:00,  7.15s/it]\n",
      "100%|██████████| 16/16 [01:54<00:00,  7.17s/it]\n",
      "100%|██████████| 16/16 [01:54<00:00,  7.16s/it]\n",
      "100%|██████████| 16/16 [01:54<00:00,  7.18s/it]\n",
      "100%|██████████| 16/16 [01:54<00:00,  7.18s/it]\n"
     ]
    },
    {
     "name": "stdout",
     "output_type": "stream",
     "text": [
      "(2694130, 28)\n",
      "(62416, 28)\n",
      "(16, 31)\n",
      "(16, 31)\n",
      "(16, 31)\n",
      "(16, 31)\n",
      "(16, 31)\n",
      "(16, 31)\n",
      "(16, 31)\n",
      "0\n",
      "176\n",
      "../cache/test7_1_t_store27_recent_stats_dow_hol_1.csv\n",
      "(62416, 237)\n",
      "../cache/bkup2/test7_1_t_store28.csv\n"
     ]
    },
    {
     "name": "stderr",
     "output_type": "stream",
     "text": [
      "100%|██████████| 16/16 [01:45<00:00,  6.62s/it]\n",
      "100%|██████████| 16/16 [01:45<00:00,  6.62s/it]\n",
      "100%|██████████| 16/16 [01:45<00:00,  6.61s/it]\n",
      "100%|██████████| 16/16 [01:45<00:00,  6.61s/it]\n",
      "100%|██████████| 16/16 [01:45<00:00,  6.60s/it]\n",
      "100%|██████████| 16/16 [01:46<00:00,  6.63s/it]\n",
      "100%|██████████| 16/16 [01:46<00:00,  6.63s/it]\n"
     ]
    },
    {
     "name": "stdout",
     "output_type": "stream",
     "text": [
      "(2481232, 28)\n",
      "(62416, 28)\n",
      "(16, 31)\n",
      "(16, 31)\n",
      "(16, 31)\n",
      "(16, 31)\n",
      "(16, 31)\n",
      "(16, 31)\n",
      "(16, 31)\n",
      "0\n",
      "200\n",
      "../cache/test7_1_t_store28_recent_stats_dow_hol_1.csv\n",
      "(62416, 237)\n",
      "../cache/bkup2/test7_1_t_store29.csv\n"
     ]
    },
    {
     "name": "stderr",
     "output_type": "stream",
     "text": [
      "100%|██████████| 16/16 [01:07<00:00,  4.21s/it]\n",
      "100%|██████████| 16/16 [01:07<00:00,  4.24s/it]\n",
      "100%|██████████| 16/16 [01:07<00:00,  4.19s/it]\n",
      "100%|██████████| 16/16 [01:07<00:00,  4.19s/it]\n",
      "100%|██████████| 16/16 [01:07<00:00,  4.19s/it]\n",
      "100%|██████████| 16/16 [01:07<00:00,  4.21s/it]\n",
      "100%|██████████| 16/16 [01:07<00:00,  4.21s/it]\n"
     ]
    },
    {
     "name": "stdout",
     "output_type": "stream",
     "text": [
      "(1571375, 28)\n",
      "(62416, 28)\n",
      "(16, 31)\n",
      "(16, 31)\n",
      "(16, 31)\n",
      "(16, 31)\n",
      "(16, 31)\n",
      "(16, 31)\n",
      "(16, 31)\n",
      "0\n",
      "200\n",
      "../cache/test7_1_t_store29_recent_stats_dow_hol_1.csv\n",
      "(62416, 237)\n",
      "../cache/bkup2/test7_1_t_store30.csv\n"
     ]
    },
    {
     "name": "stderr",
     "output_type": "stream",
     "text": [
      "100%|██████████| 16/16 [01:10<00:00,  4.43s/it]\n",
      "100%|██████████| 16/16 [01:10<00:00,  4.42s/it]\n",
      "100%|██████████| 16/16 [01:10<00:00,  4.41s/it]\n",
      "100%|██████████| 16/16 [01:10<00:00,  4.42s/it]\n",
      "100%|██████████| 16/16 [01:10<00:00,  4.43s/it]\n",
      "100%|██████████| 16/16 [01:10<00:00,  4.43s/it]\n",
      "100%|██████████| 16/16 [01:10<00:00,  4.43s/it]\n"
     ]
    },
    {
     "name": "stdout",
     "output_type": "stream",
     "text": [
      "(1660278, 28)\n",
      "(62416, 28)\n",
      "(16, 31)\n",
      "(16, 31)\n",
      "(16, 31)\n",
      "(16, 31)\n",
      "(16, 31)\n",
      "(16, 31)\n",
      "(16, 31)\n",
      "0\n",
      "200\n",
      "../cache/test7_1_t_store30_recent_stats_dow_hol_1.csv\n",
      "(62416, 237)\n",
      "../cache/bkup2/test7_1_t_store31.csv\n"
     ]
    },
    {
     "name": "stderr",
     "output_type": "stream",
     "text": [
      "100%|██████████| 16/16 [01:43<00:00,  6.45s/it]\n",
      "100%|██████████| 16/16 [01:43<00:00,  6.45s/it]\n",
      "100%|██████████| 16/16 [01:42<00:00,  6.44s/it]\n",
      "100%|██████████| 16/16 [01:43<00:00,  6.44s/it]\n",
      "100%|██████████| 16/16 [01:43<00:00,  6.45s/it]\n",
      "100%|██████████| 16/16 [01:43<00:00,  6.47s/it]\n",
      "100%|██████████| 16/16 [01:43<00:00,  6.46s/it]\n"
     ]
    },
    {
     "name": "stdout",
     "output_type": "stream",
     "text": [
      "(2424140, 28)\n",
      "(62416, 28)\n",
      "(16, 31)\n",
      "(16, 31)\n",
      "(16, 31)\n",
      "(16, 31)\n",
      "(16, 31)\n",
      "(16, 31)\n",
      "(16, 31)\n",
      "0\n",
      "176\n",
      "../cache/test7_1_t_store31_recent_stats_dow_hol_1.csv\n",
      "(62416, 237)\n",
      "../cache/bkup2/test7_1_t_store32.csv\n"
     ]
    },
    {
     "name": "stderr",
     "output_type": "stream",
     "text": [
      "100%|██████████| 16/16 [01:01<00:00,  3.82s/it]\n",
      "100%|██████████| 16/16 [01:01<00:00,  3.82s/it]\n",
      "100%|██████████| 16/16 [01:01<00:00,  3.82s/it]\n",
      "100%|██████████| 16/16 [01:01<00:00,  3.81s/it]\n",
      "100%|██████████| 16/16 [01:01<00:00,  3.82s/it]\n",
      "100%|██████████| 16/16 [01:01<00:00,  3.83s/it]\n",
      "100%|██████████| 16/16 [01:01<00:00,  3.84s/it]\n"
     ]
    },
    {
     "name": "stdout",
     "output_type": "stream",
     "text": [
      "(1425031, 28)\n",
      "(62416, 28)\n",
      "(16, 31)\n",
      "(16, 31)\n",
      "(16, 31)\n",
      "(16, 31)\n",
      "(16, 31)\n",
      "(16, 31)\n",
      "(16, 31)\n",
      "0\n",
      "200\n",
      "../cache/test7_1_t_store32_recent_stats_dow_hol_1.csv\n",
      "(62416, 237)\n",
      "../cache/bkup2/test7_1_t_store33.csv\n"
     ]
    },
    {
     "name": "stderr",
     "output_type": "stream",
     "text": [
      "100%|██████████| 16/16 [01:26<00:00,  5.40s/it]\n",
      "100%|██████████| 16/16 [01:26<00:00,  5.40s/it]\n",
      "100%|██████████| 16/16 [01:26<00:00,  5.39s/it]\n",
      "100%|██████████| 16/16 [01:26<00:00,  5.39s/it]\n",
      "100%|██████████| 16/16 [01:26<00:00,  5.39s/it]\n",
      "100%|██████████| 16/16 [01:26<00:00,  5.41s/it]\n",
      "100%|██████████| 16/16 [01:26<00:00,  5.41s/it]\n"
     ]
    },
    {
     "name": "stdout",
     "output_type": "stream",
     "text": [
      "(2025901, 28)\n",
      "(62416, 28)\n",
      "(16, 31)\n",
      "(16, 31)\n",
      "(16, 31)\n",
      "(16, 31)\n",
      "(16, 31)\n",
      "(16, 31)\n",
      "(16, 31)\n",
      "0\n",
      "176\n",
      "../cache/test7_1_t_store33_recent_stats_dow_hol_1.csv\n",
      "(62416, 237)\n",
      "../cache/bkup2/test7_1_t_store34.csv\n"
     ]
    },
    {
     "name": "stderr",
     "output_type": "stream",
     "text": [
      "100%|██████████| 16/16 [01:40<00:00,  6.29s/it]\n",
      "100%|██████████| 16/16 [01:40<00:00,  6.30s/it]\n",
      "100%|██████████| 16/16 [01:40<00:00,  6.27s/it]\n",
      "100%|██████████| 16/16 [01:40<00:00,  6.27s/it]\n",
      "100%|██████████| 16/16 [01:40<00:00,  6.28s/it]\n",
      "100%|██████████| 16/16 [01:40<00:00,  6.29s/it]\n",
      "100%|██████████| 16/16 [01:40<00:00,  6.30s/it]\n"
     ]
    },
    {
     "name": "stdout",
     "output_type": "stream",
     "text": [
      "(2361838, 28)\n",
      "(62416, 28)\n",
      "(16, 31)\n",
      "(16, 31)\n",
      "(16, 31)\n",
      "(16, 31)\n",
      "(16, 31)\n",
      "(16, 31)\n",
      "(16, 31)\n",
      "0\n",
      "200\n",
      "../cache/test7_1_t_store34_recent_stats_dow_hol_1.csv\n",
      "(62416, 237)\n",
      "../cache/bkup2/test7_1_t_store35.csv\n"
     ]
    },
    {
     "name": "stderr",
     "output_type": "stream",
     "text": [
      "100%|██████████| 16/16 [01:01<00:00,  3.87s/it]\n",
      "100%|██████████| 16/16 [01:02<00:00,  3.88s/it]\n",
      "100%|██████████| 16/16 [01:02<00:00,  3.89s/it]\n",
      "100%|██████████| 16/16 [01:01<00:00,  3.87s/it]\n",
      "100%|██████████| 16/16 [01:01<00:00,  3.87s/it]\n",
      "100%|██████████| 16/16 [01:02<00:00,  3.89s/it]\n",
      "100%|██████████| 16/16 [01:02<00:00,  3.91s/it]\n"
     ]
    },
    {
     "name": "stdout",
     "output_type": "stream",
     "text": [
      "(1450520, 28)\n",
      "(62416, 28)\n",
      "(16, 31)\n",
      "(16, 31)\n",
      "(16, 31)\n",
      "(16, 31)\n",
      "(16, 31)\n",
      "(16, 31)\n",
      "(16, 31)\n",
      "0\n",
      "176\n",
      "../cache/test7_1_t_store35_recent_stats_dow_hol_1.csv\n",
      "(62416, 237)\n",
      "../cache/bkup2/test7_1_t_store36.csv\n"
     ]
    },
    {
     "name": "stderr",
     "output_type": "stream",
     "text": [
      "100%|██████████| 16/16 [01:36<00:00,  6.05s/it]\n",
      "100%|██████████| 16/16 [01:36<00:00,  6.05s/it]\n",
      "100%|██████████| 16/16 [01:36<00:00,  6.04s/it]\n",
      "100%|██████████| 16/16 [01:36<00:00,  6.04s/it]\n",
      "100%|██████████| 16/16 [01:36<00:00,  6.05s/it]\n",
      "100%|██████████| 16/16 [01:37<00:00,  6.06s/it]\n",
      "100%|██████████| 16/16 [01:37<00:00,  6.07s/it]\n"
     ]
    },
    {
     "name": "stdout",
     "output_type": "stream",
     "text": [
      "(2273578, 28)\n",
      "(62416, 28)\n",
      "(16, 31)\n",
      "(16, 31)\n",
      "(16, 31)\n",
      "(16, 31)\n",
      "(16, 31)\n",
      "(16, 31)\n",
      "(16, 31)\n",
      "0\n",
      "176\n",
      "../cache/test7_1_t_store36_recent_stats_dow_hol_1.csv\n",
      "(62416, 237)\n",
      "../cache/bkup2/test7_1_t_store37.csv\n"
     ]
    },
    {
     "name": "stderr",
     "output_type": "stream",
     "text": [
      "100%|██████████| 16/16 [02:03<00:00,  7.70s/it]\n",
      "100%|██████████| 16/16 [02:03<00:00,  7.74s/it]\n",
      "100%|██████████| 16/16 [02:03<00:00,  7.69s/it]\n",
      "100%|██████████| 16/16 [02:03<00:00,  7.70s/it]\n",
      "100%|██████████| 16/16 [02:03<00:00,  7.69s/it]\n",
      "100%|██████████| 16/16 [02:03<00:00,  7.72s/it]\n",
      "100%|██████████| 16/16 [02:03<00:00,  7.72s/it]\n"
     ]
    },
    {
     "name": "stdout",
     "output_type": "stream",
     "text": [
      "(2894107, 28)\n",
      "(62416, 28)\n",
      "(16, 31)\n",
      "(16, 31)\n",
      "(16, 31)\n",
      "(16, 31)\n",
      "(16, 31)\n",
      "(16, 31)\n",
      "(16, 31)\n",
      "0\n",
      "188\n",
      "../cache/test7_1_t_store37_recent_stats_dow_hol_1.csv\n",
      "(62416, 237)\n",
      "../cache/bkup2/test7_1_t_store38.csv\n"
     ]
    },
    {
     "name": "stderr",
     "output_type": "stream",
     "text": [
      "100%|██████████| 16/16 [01:58<00:00,  7.43s/it]\n",
      "100%|██████████| 16/16 [01:58<00:00,  7.40s/it]\n",
      "100%|██████████| 16/16 [01:59<00:00,  7.47s/it]\n",
      "100%|██████████| 16/16 [01:58<00:00,  7.41s/it]\n",
      "100%|██████████| 16/16 [01:58<00:00,  7.41s/it]\n",
      "100%|██████████| 16/16 [01:59<00:00,  7.44s/it]\n",
      "100%|██████████| 16/16 [01:59<00:00,  7.44s/it]\n"
     ]
    },
    {
     "name": "stdout",
     "output_type": "stream",
     "text": [
      "(2790147, 28)\n",
      "(62416, 28)\n",
      "(16, 31)\n",
      "(16, 31)\n",
      "(16, 31)\n",
      "(16, 31)\n",
      "(16, 31)\n",
      "(16, 31)\n",
      "(16, 31)\n",
      "0\n",
      "176\n",
      "../cache/test7_1_t_store38_recent_stats_dow_hol_1.csv\n",
      "(62416, 237)\n",
      "../cache/bkup2/test7_1_t_store39.csv\n"
     ]
    },
    {
     "name": "stderr",
     "output_type": "stream",
     "text": [
      "100%|██████████| 16/16 [01:55<00:00,  7.20s/it]\n",
      "100%|██████████| 16/16 [01:55<00:00,  7.19s/it]\n",
      "100%|██████████| 16/16 [01:55<00:00,  7.20s/it]\n",
      "100%|██████████| 16/16 [01:55<00:00,  7.22s/it]\n",
      "100%|██████████| 16/16 [01:55<00:00,  7.24s/it]\n",
      "100%|██████████| 16/16 [01:55<00:00,  7.23s/it]\n",
      "100%|██████████| 16/16 [01:55<00:00,  7.21s/it]\n"
     ]
    },
    {
     "name": "stdout",
     "output_type": "stream",
     "text": [
      "(2700452, 28)\n",
      "(62416, 28)\n",
      "(16, 31)\n",
      "(16, 31)\n",
      "(16, 31)\n",
      "(16, 31)\n",
      "(16, 31)\n",
      "(16, 31)\n",
      "(16, 31)\n",
      "0\n",
      "188\n",
      "../cache/test7_1_t_store39_recent_stats_dow_hol_1.csv\n",
      "(62416, 237)\n",
      "../cache/bkup2/test7_1_t_store40.csv\n"
     ]
    },
    {
     "name": "stderr",
     "output_type": "stream",
     "text": [
      "100%|██████████| 16/16 [01:32<00:00,  5.76s/it]\n",
      "100%|██████████| 16/16 [01:32<00:00,  5.75s/it]\n",
      "100%|██████████| 16/16 [01:32<00:00,  5.76s/it]\n",
      "100%|██████████| 16/16 [01:32<00:00,  5.75s/it]\n",
      "100%|██████████| 16/16 [01:32<00:00,  5.76s/it]\n",
      "100%|██████████| 16/16 [01:32<00:00,  5.81s/it]\n",
      "100%|██████████| 16/16 [01:32<00:00,  5.79s/it]\n"
     ]
    },
    {
     "name": "stdout",
     "output_type": "stream",
     "text": [
      "(2165215, 28)\n",
      "(62416, 28)\n",
      "(16, 31)\n",
      "(16, 31)\n",
      "(16, 31)\n",
      "(16, 31)\n",
      "(16, 31)\n",
      "(16, 31)\n",
      "(16, 31)\n",
      "0\n",
      "176\n",
      "../cache/test7_1_t_store40_recent_stats_dow_hol_1.csv\n",
      "(62416, 237)\n",
      "../cache/bkup2/test7_1_t_store41.csv\n"
     ]
    },
    {
     "name": "stderr",
     "output_type": "stream",
     "text": [
      "100%|██████████| 16/16 [01:49<00:00,  6.84s/it]\n",
      "100%|██████████| 16/16 [01:49<00:00,  6.86s/it]\n",
      "100%|██████████| 16/16 [01:49<00:00,  6.83s/it]\n",
      "100%|██████████| 16/16 [01:49<00:00,  6.82s/it]\n",
      "100%|██████████| 16/16 [01:49<00:00,  6.83s/it]\n",
      "100%|██████████| 16/16 [01:51<00:00,  6.99s/it]\n",
      "100%|██████████| 16/16 [01:49<00:00,  6.86s/it]\n"
     ]
    },
    {
     "name": "stdout",
     "output_type": "stream",
     "text": [
      "(2566335, 28)\n",
      "(62416, 28)\n",
      "(16, 31)\n",
      "(16, 31)\n",
      "(16, 31)\n",
      "(16, 31)\n",
      "(16, 31)\n",
      "(16, 31)\n",
      "(16, 31)\n",
      "0\n",
      "176\n",
      "../cache/test7_1_t_store41_recent_stats_dow_hol_1.csv\n",
      "(62416, 237)\n",
      "../cache/bkup2/test7_1_t_store42.csv\n"
     ]
    },
    {
     "name": "stderr",
     "output_type": "stream",
     "text": [
      "100%|██████████| 16/16 [01:02<00:00,  3.89s/it]\n",
      "100%|██████████| 16/16 [01:02<00:00,  3.88s/it]\n",
      "100%|██████████| 16/16 [01:02<00:00,  3.88s/it]\n",
      "100%|██████████| 16/16 [01:02<00:00,  3.88s/it]\n",
      "100%|██████████| 16/16 [01:02<00:00,  3.89s/it]\n",
      "100%|██████████| 16/16 [01:02<00:00,  3.91s/it]\n",
      "100%|██████████| 16/16 [01:02<00:00,  3.93s/it]\n"
     ]
    },
    {
     "name": "stdout",
     "output_type": "stream",
     "text": [
      "(1524099, 28)\n",
      "(62416, 28)\n",
      "(16, 31)\n",
      "(16, 31)\n",
      "(16, 31)\n",
      "(16, 31)\n",
      "(16, 31)\n",
      "(16, 31)\n",
      "(16, 31)\n",
      "0\n",
      "188\n",
      "../cache/test7_1_t_store42_recent_stats_dow_hol_1.csv\n",
      "(62416, 237)\n",
      "../cache/bkup2/test7_1_t_store43.csv\n"
     ]
    },
    {
     "name": "stderr",
     "output_type": "stream",
     "text": [
      "100%|██████████| 16/16 [01:25<00:00,  5.33s/it]\n",
      "100%|██████████| 16/16 [01:25<00:00,  5.32s/it]\n",
      "100%|██████████| 16/16 [01:25<00:00,  5.32s/it]\n",
      "100%|██████████| 16/16 [01:25<00:00,  5.32s/it]\n",
      "100%|██████████| 16/16 [01:25<00:00,  5.33s/it]\n",
      "100%|██████████| 16/16 [01:25<00:00,  5.35s/it]\n",
      "100%|██████████| 16/16 [01:25<00:00,  5.35s/it]\n"
     ]
    },
    {
     "name": "stdout",
     "output_type": "stream",
     "text": [
      "(2002110, 28)\n",
      "(62416, 28)\n",
      "(16, 31)\n",
      "(16, 31)\n",
      "(16, 31)\n",
      "(16, 31)\n",
      "(16, 31)\n",
      "(16, 31)\n",
      "(16, 31)\n",
      "0\n",
      "176\n",
      "../cache/test7_1_t_store43_recent_stats_dow_hol_1.csv\n",
      "(62416, 237)\n",
      "../cache/bkup2/test7_1_t_store44.csv\n"
     ]
    },
    {
     "name": "stderr",
     "output_type": "stream",
     "text": [
      "100%|██████████| 16/16 [02:31<00:00,  9.49s/it]\n",
      "100%|██████████| 16/16 [02:31<00:00,  9.48s/it]\n",
      "100%|██████████| 16/16 [02:32<00:00,  9.54s/it]\n",
      "100%|██████████| 16/16 [02:31<00:00,  9.48s/it]\n",
      "100%|██████████| 16/16 [02:32<00:00,  9.54s/it]\n",
      "100%|██████████| 16/16 [02:32<00:00,  9.51s/it]\n",
      "100%|██████████| 16/16 [02:32<00:00,  9.54s/it]\n"
     ]
    },
    {
     "name": "stdout",
     "output_type": "stream",
     "text": [
      "(3575505, 28)\n",
      "(62416, 28)\n",
      "(16, 31)\n",
      "(16, 31)\n",
      "(16, 31)\n",
      "(16, 31)\n",
      "(16, 31)\n",
      "(16, 31)\n",
      "(16, 31)\n",
      "0\n",
      "176\n",
      "../cache/test7_1_t_store44_recent_stats_dow_hol_1.csv\n",
      "(62416, 237)\n",
      "../cache/bkup2/test7_1_t_store45.csv\n"
     ]
    },
    {
     "name": "stderr",
     "output_type": "stream",
     "text": [
      "100%|██████████| 16/16 [02:30<00:00,  9.44s/it]\n",
      "100%|██████████| 16/16 [02:30<00:00,  9.42s/it]\n",
      "100%|██████████| 16/16 [02:31<00:00,  9.49s/it]\n",
      "100%|██████████| 16/16 [02:30<00:00,  9.43s/it]\n",
      "100%|██████████| 16/16 [02:31<00:00,  9.44s/it]\n",
      "100%|██████████| 16/16 [02:32<00:00,  9.51s/it]\n",
      "100%|██████████| 16/16 [02:31<00:00,  9.44s/it]\n"
     ]
    },
    {
     "name": "stdout",
     "output_type": "stream",
     "text": [
      "(3546660, 28)\n",
      "(62416, 28)\n",
      "(16, 31)\n",
      "(16, 31)\n",
      "(16, 31)\n",
      "(16, 31)\n",
      "(16, 31)\n",
      "(16, 31)\n",
      "(16, 31)\n",
      "0\n",
      "176\n",
      "../cache/test7_1_t_store45_recent_stats_dow_hol_1.csv\n",
      "(62416, 237)\n",
      "../cache/bkup2/test7_1_t_store46.csv\n"
     ]
    },
    {
     "name": "stderr",
     "output_type": "stream",
     "text": [
      "100%|██████████| 16/16 [02:25<00:00,  9.08s/it]\n",
      "100%|██████████| 16/16 [02:24<00:00,  9.05s/it]\n",
      "100%|██████████| 16/16 [02:24<00:00,  9.06s/it]\n",
      "100%|██████████| 16/16 [02:24<00:00,  9.06s/it]\n",
      "100%|██████████| 16/16 [02:25<00:00,  9.06s/it]\n",
      "100%|██████████| 16/16 [02:25<00:00,  9.08s/it]\n",
      "100%|██████████| 16/16 [02:25<00:00,  9.09s/it]\n"
     ]
    },
    {
     "name": "stdout",
     "output_type": "stream",
     "text": [
      "(3416306, 28)\n",
      "(62416, 28)\n",
      "(16, 31)\n",
      "(16, 31)\n",
      "(16, 31)\n",
      "(16, 31)\n",
      "(16, 31)\n",
      "(16, 31)\n",
      "(16, 31)\n",
      "0\n",
      "176\n",
      "../cache/test7_1_t_store46_recent_stats_dow_hol_1.csv\n",
      "(62416, 237)\n",
      "../cache/bkup2/test7_1_t_store47.csv\n"
     ]
    },
    {
     "name": "stderr",
     "output_type": "stream",
     "text": [
      "100%|██████████| 16/16 [02:29<00:00,  9.36s/it]\n",
      "100%|██████████| 16/16 [02:29<00:00,  9.34s/it]\n",
      "100%|██████████| 16/16 [02:29<00:00,  9.33s/it]\n",
      "100%|██████████| 16/16 [02:29<00:00,  9.33s/it]\n",
      "100%|██████████| 16/16 [02:29<00:00,  9.34s/it]\n",
      "100%|██████████| 16/16 [02:29<00:00,  9.37s/it]\n",
      "100%|██████████| 16/16 [02:30<00:00,  9.38s/it]\n"
     ]
    },
    {
     "name": "stdout",
     "output_type": "stream",
     "text": [
      "(3519823, 28)\n",
      "(62416, 28)\n",
      "(16, 31)\n",
      "(16, 31)\n",
      "(16, 31)\n",
      "(16, 31)\n",
      "(16, 31)\n",
      "(16, 31)\n",
      "(16, 31)\n",
      "0\n",
      "176\n",
      "../cache/test7_1_t_store47_recent_stats_dow_hol_1.csv\n",
      "(62416, 237)\n",
      "../cache/bkup2/test7_1_t_store48.csv\n"
     ]
    },
    {
     "name": "stderr",
     "output_type": "stream",
     "text": [
      "100%|██████████| 16/16 [02:20<00:00,  8.75s/it]\n",
      "100%|██████████| 16/16 [02:20<00:00,  8.75s/it]\n",
      "100%|██████████| 16/16 [02:19<00:00,  8.75s/it]\n",
      "100%|██████████| 16/16 [02:19<00:00,  8.74s/it]\n",
      "100%|██████████| 16/16 [02:20<00:00,  8.76s/it]\n",
      "100%|██████████| 16/16 [02:20<00:00,  8.79s/it]\n",
      "100%|██████████| 16/16 [02:20<00:00,  8.79s/it]\n"
     ]
    },
    {
     "name": "stdout",
     "output_type": "stream",
     "text": [
      "(3298939, 28)\n",
      "(62416, 28)\n",
      "(16, 31)\n",
      "(16, 31)\n",
      "(16, 31)\n",
      "(16, 31)\n",
      "(16, 31)\n",
      "(16, 31)\n",
      "(16, 31)\n",
      "0\n",
      "176\n",
      "../cache/test7_1_t_store48_recent_stats_dow_hol_1.csv\n",
      "(62416, 237)\n",
      "../cache/bkup2/test7_1_t_store49.csv\n"
     ]
    },
    {
     "name": "stderr",
     "output_type": "stream",
     "text": [
      "100%|██████████| 16/16 [02:24<00:00,  9.03s/it]\n",
      "100%|██████████| 16/16 [02:24<00:00,  9.03s/it]\n",
      "100%|██████████| 16/16 [02:24<00:00,  9.02s/it]\n",
      "100%|██████████| 16/16 [02:24<00:00,  9.04s/it]\n",
      "100%|██████████| 16/16 [02:24<00:00,  9.04s/it]\n",
      "100%|██████████| 16/16 [02:25<00:00,  9.06s/it]\n",
      "100%|██████████| 16/16 [02:25<00:00,  9.07s/it]\n"
     ]
    },
    {
     "name": "stdout",
     "output_type": "stream",
     "text": [
      "(3404947, 28)\n",
      "(62416, 28)\n",
      "(16, 31)\n",
      "(16, 31)\n",
      "(16, 31)\n",
      "(16, 31)\n",
      "(16, 31)\n",
      "(16, 31)\n",
      "(16, 31)\n",
      "0\n",
      "176\n",
      "../cache/test7_1_t_store49_recent_stats_dow_hol_1.csv\n",
      "(62416, 237)\n",
      "../cache/bkup2/test7_1_t_store50.csv\n"
     ]
    },
    {
     "name": "stderr",
     "output_type": "stream",
     "text": [
      "100%|██████████| 16/16 [02:18<00:00,  8.65s/it]\n",
      "100%|██████████| 16/16 [02:18<00:00,  8.67s/it]\n",
      "100%|██████████| 16/16 [02:18<00:00,  8.63s/it]\n",
      "100%|██████████| 16/16 [02:18<00:00,  8.63s/it]\n",
      "100%|██████████| 16/16 [02:18<00:00,  8.64s/it]\n",
      "100%|██████████| 16/16 [02:18<00:00,  8.67s/it]\n",
      "100%|██████████| 16/16 [02:18<00:00,  8.66s/it]\n"
     ]
    },
    {
     "name": "stdout",
     "output_type": "stream",
     "text": [
      "(3254982, 28)\n",
      "(62416, 28)\n",
      "(16, 31)\n",
      "(16, 31)\n",
      "(16, 31)\n",
      "(16, 31)\n",
      "(16, 31)\n",
      "(16, 31)\n",
      "(16, 31)\n",
      "0\n",
      "191\n",
      "../cache/test7_1_t_store50_recent_stats_dow_hol_1.csv\n",
      "(62416, 237)\n",
      "../cache/bkup2/test7_1_t_store51.csv\n"
     ]
    },
    {
     "name": "stderr",
     "output_type": "stream",
     "text": [
      "100%|██████████| 16/16 [02:08<00:00,  8.03s/it]\n",
      "100%|██████████| 16/16 [02:08<00:00,  8.05s/it]\n",
      "100%|██████████| 16/16 [02:08<00:00,  8.02s/it]\n",
      "100%|██████████| 16/16 [02:08<00:00,  8.03s/it]\n",
      "100%|██████████| 16/16 [02:08<00:00,  8.04s/it]\n",
      "100%|██████████| 16/16 [02:09<00:00,  8.09s/it]\n",
      "100%|██████████| 16/16 [02:10<00:00,  8.14s/it]\n"
     ]
    },
    {
     "name": "stdout",
     "output_type": "stream",
     "text": [
      "(3022447, 28)\n",
      "(62416, 28)\n",
      "(16, 31)\n",
      "(16, 31)\n",
      "(16, 31)\n",
      "(16, 31)\n",
      "(16, 31)\n",
      "(16, 31)\n",
      "(16, 31)\n",
      "0\n",
      "200\n",
      "../cache/test7_1_t_store51_recent_stats_dow_hol_1.csv\n",
      "(62416, 237)\n",
      "../cache/bkup2/test7_1_t_store52.csv\n"
     ]
    },
    {
     "name": "stderr",
     "output_type": "stream",
     "text": [
      "100%|██████████| 16/16 [00:07<00:00,  2.03it/s]\n",
      "100%|██████████| 16/16 [00:07<00:00,  2.05it/s]\n",
      "100%|██████████| 16/16 [00:07<00:00,  2.06it/s]\n",
      "100%|██████████| 16/16 [00:07<00:00,  2.06it/s]\n",
      "100%|██████████| 16/16 [00:07<00:00,  2.02it/s]\n",
      "100%|██████████| 16/16 [00:07<00:00,  2.04it/s]\n",
      "100%|██████████| 16/16 [00:07<00:00,  2.02it/s]\n"
     ]
    },
    {
     "name": "stdout",
     "output_type": "stream",
     "text": [
      "(352997, 28)\n",
      "(62416, 28)\n",
      "(16, 31)\n",
      "(16, 31)\n",
      "(16, 31)\n",
      "(16, 31)\n",
      "(16, 31)\n",
      "(16, 31)\n",
      "(16, 31)\n",
      "0\n",
      "62\n",
      "../cache/test7_1_t_store52_recent_stats_dow_hol_1.csv\n",
      "(62416, 237)\n",
      "../cache/bkup2/test7_1_t_store53.csv\n"
     ]
    },
    {
     "name": "stderr",
     "output_type": "stream",
     "text": [
      "100%|██████████| 16/16 [01:25<00:00,  5.33s/it]\n",
      "100%|██████████| 16/16 [01:26<00:00,  5.38s/it]\n",
      "100%|██████████| 16/16 [01:25<00:00,  5.32s/it]\n",
      "100%|██████████| 16/16 [01:25<00:00,  5.32s/it]\n",
      "100%|██████████| 16/16 [01:25<00:00,  5.34s/it]\n",
      "100%|██████████| 16/16 [01:26<00:00,  5.40s/it]\n",
      "100%|██████████| 16/16 [01:26<00:00,  5.40s/it]\n"
     ]
    },
    {
     "name": "stdout",
     "output_type": "stream",
     "text": [
      "(2000671, 28)\n",
      "(62416, 28)\n",
      "(16, 31)\n",
      "(16, 31)\n",
      "(16, 31)\n",
      "(16, 31)\n",
      "(16, 31)\n",
      "(16, 31)\n",
      "(16, 31)\n",
      "0\n",
      "182\n",
      "../cache/test7_1_t_store53_recent_stats_dow_hol_1.csv\n",
      "(62416, 237)\n",
      "../cache/bkup2/test7_1_t_store54.csv\n"
     ]
    },
    {
     "name": "stderr",
     "output_type": "stream",
     "text": [
      "100%|██████████| 16/16 [01:13<00:00,  4.57s/it]\n",
      "100%|██████████| 16/16 [01:12<00:00,  4.56s/it]\n",
      "100%|██████████| 16/16 [01:12<00:00,  4.55s/it]\n",
      "100%|██████████| 16/16 [01:12<00:00,  4.54s/it]\n",
      "100%|██████████| 16/16 [01:13<00:00,  4.56s/it]\n",
      "100%|██████████| 16/16 [01:13<00:00,  4.61s/it]\n",
      "100%|██████████| 16/16 [01:13<00:00,  4.61s/it]\n"
     ]
    },
    {
     "name": "stdout",
     "output_type": "stream",
     "text": [
      "(1711283, 28)\n",
      "(62416, 28)\n",
      "(16, 31)\n",
      "(16, 31)\n",
      "(16, 31)\n",
      "(16, 31)\n",
      "(16, 31)\n",
      "(16, 31)\n",
      "(16, 31)\n",
      "0\n",
      "182\n",
      "../cache/test7_1_t_store54_recent_stats_dow_hol_1.csv\n",
      "(62416, 237)\n"
     ]
    }
   ],
   "source": [
    "# for i in range(1,55):\n",
    "#     process_test_csv_file(i) "
   ]
  },
  {
   "cell_type": "code",
   "execution_count": 4,
   "metadata": {
    "collapsed": true
   },
   "outputs": [],
   "source": [
    "date_block = {}\n",
    "date_block['1_2013'] = 0\n",
    "date_block['2_2013'] = 1\n",
    "date_block['3_2013'] = 2\n",
    "date_block['4_2013'] = 3\n",
    "date_block['5_2013'] = 4\n",
    "date_block['6_2013'] = 5\n",
    "date_block['7_2013'] = 6\n",
    "date_block['8_2013'] = 7\n",
    "date_block['9_2013'] = 8\n",
    "date_block['10_2013'] = 9\n",
    "date_block['11_2013'] = 10\n",
    "date_block['12_2013'] = 11\n",
    "\n",
    "date_block['1_2014'] = 12\n",
    "date_block['2_2014'] = 13\n",
    "date_block['3_2014'] = 14\n",
    "date_block['4_2014'] = 15\n",
    "date_block['5_2014'] = 16\n",
    "date_block['6_2014'] = 17\n",
    "date_block['7_2014'] = 18\n",
    "date_block['8_2014'] = 19\n",
    "date_block['9_2014'] = 20\n",
    "date_block['10_2014'] = 21\n",
    "date_block['11_2014'] = 22\n",
    "date_block['12_2014'] = 23\n",
    "\n",
    "date_block['1_2015'] = 24\n",
    "date_block['2_2015'] = 25\n",
    "date_block['3_2015'] = 26\n",
    "date_block['4_2015'] = 27\n",
    "date_block['5_2015'] = 28\n",
    "date_block['6_2015'] = 29\n",
    "date_block['7_2015'] = 30\n",
    "date_block['8_2015'] = 31\n",
    "date_block['9_2015'] = 32\n",
    "date_block['10_2015'] = 33\n",
    "date_block['11_2015'] = 34\n",
    "date_block['12_2015'] = 35\n",
    "\n",
    "date_block['1_2016'] = 36\n",
    "date_block['2_2016'] = 37\n",
    "date_block['3_2016'] = 38\n",
    "date_block['4_2016'] = 39\n",
    "date_block['5_2016'] = 40\n",
    "date_block['6_2016'] = 41\n",
    "date_block['7_2016'] = 42\n",
    "date_block['8_2016'] = 43\n",
    "date_block['9_2016'] = 44\n",
    "date_block['10_2016'] = 45\n",
    "date_block['11_2016'] = 46\n",
    "date_block['12_2016'] = 47\n",
    "\n",
    "date_block['1_2017'] = 48\n",
    "date_block['2_2017'] = 49\n",
    "date_block['3_2017'] = 50\n",
    "date_block['4_2017'] = 51\n",
    "date_block['5_2017'] = 52\n",
    "date_block['6_2017'] = 53\n",
    "date_block['7_2017'] = 54\n",
    "date_block['8_2017'] = 55\n",
    "date_block['9_2017'] = 56\n",
    "date_block['10_2017'] = 57\n",
    "date_block['11_2017'] = 58\n",
    "date_block['12_2017'] = 59\n",
    "\n",
    "def get_date_block_num(x):\n",
    "    year, month, day = x.split('-')\n",
    "    mon = int(month)\n",
    "    yr = int(year)\n",
    "    mon_year = str(mon) + '_' + str(yr)\n",
    "    \n",
    "    return date_block[mon_year]"
   ]
  },
  {
   "cell_type": "code",
   "execution_count": 5,
   "metadata": {
    "collapsed": false
   },
   "outputs": [
    {
     "name": "stderr",
     "output_type": "stream",
     "text": [
      "\r",
      "  0%|          | 0/54 [00:00<?, ?it/s]"
     ]
    },
    {
     "name": "stdout",
     "output_type": "stream",
     "text": [
      "../cache/bkup2/test7_1_t_store1.csv\n"
     ]
    },
    {
     "name": "stderr",
     "output_type": "stream",
     "text": [
      "/home/watts/anaconda2/envs/sdp35/lib/python3.5/site-packages/IPython/core/interactiveshell.py:2728: DtypeWarning: Columns (5) have mixed types. Specify dtype option on import or set low_memory=False.\n",
      "  interactivity=interactivity, compiler=compiler, result=result)\n"
     ]
    },
    {
     "name": "stdout",
     "output_type": "stream",
     "text": [
      "(2624569, 27)\n"
     ]
    },
    {
     "name": "stderr",
     "output_type": "stream",
     "text": [
      "/home/watts/anaconda2/envs/sdp35/lib/python3.5/site-packages/pandas/core/groupby.py:4189: FutureWarning: using a dict with renaming is deprecated and will be removed in a future version\n",
      "  return super(DataFrameGroupBy, self).aggregate(arg, *args, **kwargs)\n",
      "  2%|▏         | 1/54 [00:34<30:37, 34.67s/it]"
     ]
    },
    {
     "name": "stdout",
     "output_type": "stream",
     "text": [
      "../cache/bkup2/test7_1_t_store2.csv\n",
      "(3050256, 27)\n"
     ]
    },
    {
     "name": "stderr",
     "output_type": "stream",
     "text": [
      "\r",
      "  4%|▎         | 2/54 [01:14<32:23, 37.37s/it]"
     ]
    },
    {
     "name": "stdout",
     "output_type": "stream",
     "text": [
      "../cache/bkup2/test7_1_t_store3.csv\n",
      "(3463680, 27)\n"
     ]
    },
    {
     "name": "stderr",
     "output_type": "stream",
     "text": [
      "\r",
      "  6%|▌         | 3/54 [02:00<34:11, 40.23s/it]"
     ]
    },
    {
     "name": "stdout",
     "output_type": "stream",
     "text": [
      "../cache/bkup2/test7_1_t_store4.csv\n",
      "(2892970, 27)\n"
     ]
    },
    {
     "name": "stderr",
     "output_type": "stream",
     "text": [
      "\r",
      "  7%|▋         | 4/54 [02:39<33:08, 39.77s/it]"
     ]
    },
    {
     "name": "stdout",
     "output_type": "stream",
     "text": [
      "../cache/bkup2/test7_1_t_store5.csv\n",
      "(2729107, 27)\n"
     ]
    },
    {
     "name": "stderr",
     "output_type": "stream",
     "text": [
      "\r",
      "  9%|▉         | 5/54 [03:15<31:57, 39.13s/it]"
     ]
    },
    {
     "name": "stdout",
     "output_type": "stream",
     "text": [
      "../cache/bkup2/test7_1_t_store6.csv\n",
      "(3152215, 27)\n"
     ]
    },
    {
     "name": "stderr",
     "output_type": "stream",
     "text": [
      "\r",
      " 11%|█         | 6/54 [03:57<31:36, 39.51s/it]"
     ]
    },
    {
     "name": "stdout",
     "output_type": "stream",
     "text": [
      "../cache/bkup2/test7_1_t_store7.csv\n",
      "(2983620, 27)\n"
     ]
    },
    {
     "name": "stderr",
     "output_type": "stream",
     "text": [
      "\r",
      " 13%|█▎        | 7/54 [04:36<30:55, 39.49s/it]"
     ]
    },
    {
     "name": "stdout",
     "output_type": "stream",
     "text": [
      "../cache/bkup2/test7_1_t_store8.csv\n",
      "(3323600, 27)\n"
     ]
    },
    {
     "name": "stderr",
     "output_type": "stream",
     "text": [
      "\r",
      " 15%|█▍        | 8/54 [05:20<30:41, 40.03s/it]"
     ]
    },
    {
     "name": "stdout",
     "output_type": "stream",
     "text": [
      "../cache/bkup2/test7_1_t_store9.csv\n",
      "(2836206, 27)\n"
     ]
    },
    {
     "name": "stderr",
     "output_type": "stream",
     "text": [
      "\r",
      " 17%|█▋        | 9/54 [05:57<29:48, 39.75s/it]"
     ]
    },
    {
     "name": "stdout",
     "output_type": "stream",
     "text": [
      "../cache/bkup2/test7_1_t_store10.csv\n",
      "(1802898, 27)\n"
     ]
    },
    {
     "name": "stderr",
     "output_type": "stream",
     "text": [
      "\r",
      " 19%|█▊        | 10/54 [06:21<27:58, 38.14s/it]"
     ]
    },
    {
     "name": "stdout",
     "output_type": "stream",
     "text": [
      "../cache/bkup2/test7_1_t_store11.csv\n",
      "(2630698, 27)\n"
     ]
    },
    {
     "name": "stderr",
     "output_type": "stream",
     "text": [
      "\r",
      " 20%|██        | 11/54 [06:56<27:07, 37.85s/it]"
     ]
    },
    {
     "name": "stdout",
     "output_type": "stream",
     "text": [
      "../cache/bkup2/test7_1_t_store12.csv\n",
      "(1898999, 27)\n"
     ]
    },
    {
     "name": "stderr",
     "output_type": "stream",
     "text": [
      "\r",
      " 22%|██▏       | 12/54 [07:21<25:44, 36.78s/it]"
     ]
    },
    {
     "name": "stdout",
     "output_type": "stream",
     "text": [
      "../cache/bkup2/test7_1_t_store13.csv\n",
      "(1799144, 27)\n"
     ]
    },
    {
     "name": "stderr",
     "output_type": "stream",
     "text": [
      "\r",
      " 24%|██▍       | 13/54 [07:44<24:26, 35.77s/it]"
     ]
    },
    {
     "name": "stdout",
     "output_type": "stream",
     "text": [
      "../cache/bkup2/test7_1_t_store14.csv\n",
      "(1868357, 27)\n"
     ]
    },
    {
     "name": "stderr",
     "output_type": "stream",
     "text": [
      "\r",
      " 26%|██▌       | 14/54 [08:09<23:18, 34.97s/it]"
     ]
    },
    {
     "name": "stdout",
     "output_type": "stream",
     "text": [
      "../cache/bkup2/test7_1_t_store15.csv\n",
      "(2001094, 27)\n"
     ]
    },
    {
     "name": "stderr",
     "output_type": "stream",
     "text": [
      "\r",
      " 28%|██▊       | 15/54 [08:36<22:21, 34.41s/it]"
     ]
    },
    {
     "name": "stdout",
     "output_type": "stream",
     "text": [
      "../cache/bkup2/test7_1_t_store16.csv\n",
      "(1882451, 27)\n"
     ]
    },
    {
     "name": "stderr",
     "output_type": "stream",
     "text": [
      "\r",
      " 30%|██▉       | 16/54 [09:01<21:25, 33.83s/it]"
     ]
    },
    {
     "name": "stdout",
     "output_type": "stream",
     "text": [
      "../cache/bkup2/test7_1_t_store17.csv\n",
      "(2226436, 27)\n"
     ]
    },
    {
     "name": "stderr",
     "output_type": "stream",
     "text": [
      "\r",
      " 31%|███▏      | 17/54 [09:30<20:42, 33.58s/it]"
     ]
    },
    {
     "name": "stdout",
     "output_type": "stream",
     "text": [
      "../cache/bkup2/test7_1_t_store18.csv\n",
      "(2259098, 27)\n"
     ]
    },
    {
     "name": "stderr",
     "output_type": "stream",
     "text": [
      "\r",
      " 33%|███▎      | 18/54 [10:01<20:02, 33.40s/it]"
     ]
    },
    {
     "name": "stdout",
     "output_type": "stream",
     "text": [
      "../cache/bkup2/test7_1_t_store19.csv\n",
      "(1941571, 27)\n"
     ]
    },
    {
     "name": "stderr",
     "output_type": "stream",
     "text": [
      "\r",
      " 35%|███▌      | 19/54 [10:27<19:15, 33.01s/it]"
     ]
    },
    {
     "name": "stdout",
     "output_type": "stream",
     "text": [
      "../cache/bkup2/test7_1_t_store20.csv\n",
      "(1728401, 27)\n"
     ]
    },
    {
     "name": "stderr",
     "output_type": "stream",
     "text": [
      "\r",
      " 37%|███▋      | 20/54 [10:50<18:25, 32.51s/it]"
     ]
    },
    {
     "name": "stdout",
     "output_type": "stream",
     "text": [
      "../cache/bkup2/test7_1_t_store21.csv\n",
      "(1435835, 27)\n"
     ]
    },
    {
     "name": "stderr",
     "output_type": "stream",
     "text": [
      "\r",
      " 39%|███▉      | 21/54 [11:09<17:32, 31.90s/it]"
     ]
    },
    {
     "name": "stdout",
     "output_type": "stream",
     "text": [
      "../cache/bkup2/test7_1_t_store22.csv\n",
      "(985899, 27)\n"
     ]
    },
    {
     "name": "stderr",
     "output_type": "stream",
     "text": [
      "\r",
      " 41%|████      | 22/54 [11:23<16:33, 31.05s/it]"
     ]
    },
    {
     "name": "stdout",
     "output_type": "stream",
     "text": [
      "../cache/bkup2/test7_1_t_store23.csv\n",
      "(2428113, 27)\n"
     ]
    },
    {
     "name": "stderr",
     "output_type": "stream",
     "text": [
      "\r",
      " 43%|████▎     | 23/54 [11:55<16:04, 31.11s/it]"
     ]
    },
    {
     "name": "stdout",
     "output_type": "stream",
     "text": [
      "../cache/bkup2/test7_1_t_store24.csv\n",
      "(2832305, 27)\n"
     ]
    },
    {
     "name": "stderr",
     "output_type": "stream",
     "text": [
      "\r",
      " 44%|████▍     | 24/54 [12:34<15:43, 31.44s/it]"
     ]
    },
    {
     "name": "stdout",
     "output_type": "stream",
     "text": [
      "../cache/bkup2/test7_1_t_store25.csv\n",
      "(2119436, 27)\n"
     ]
    },
    {
     "name": "stderr",
     "output_type": "stream",
     "text": [
      "\r",
      " 46%|████▋     | 25/54 [13:03<15:08, 31.33s/it]"
     ]
    },
    {
     "name": "stdout",
     "output_type": "stream",
     "text": [
      "../cache/bkup2/test7_1_t_store26.csv\n",
      "(1855498, 27)\n"
     ]
    },
    {
     "name": "stderr",
     "output_type": "stream",
     "text": [
      "\r",
      " 48%|████▊     | 26/54 [13:28<14:30, 31.08s/it]"
     ]
    },
    {
     "name": "stdout",
     "output_type": "stream",
     "text": [
      "../cache/bkup2/test7_1_t_store27.csv\n",
      "(2694130, 27)\n"
     ]
    },
    {
     "name": "stderr",
     "output_type": "stream",
     "text": [
      "\r",
      " 50%|█████     | 27/54 [14:04<14:04, 31.27s/it]"
     ]
    },
    {
     "name": "stdout",
     "output_type": "stream",
     "text": [
      "../cache/bkup2/test7_1_t_store28.csv\n",
      "(2481232, 27)\n"
     ]
    },
    {
     "name": "stderr",
     "output_type": "stream",
     "text": [
      "\r",
      " 52%|█████▏    | 28/54 [14:37<13:34, 31.33s/it]"
     ]
    },
    {
     "name": "stdout",
     "output_type": "stream",
     "text": [
      "../cache/bkup2/test7_1_t_store29.csv\n",
      "(1571375, 27)\n"
     ]
    },
    {
     "name": "stderr",
     "output_type": "stream",
     "text": [
      "\r",
      " 54%|█████▎    | 29/54 [14:58<12:54, 30.98s/it]"
     ]
    },
    {
     "name": "stdout",
     "output_type": "stream",
     "text": [
      "../cache/bkup2/test7_1_t_store30.csv\n",
      "(1660278, 27)\n"
     ]
    },
    {
     "name": "stderr",
     "output_type": "stream",
     "text": [
      "\r",
      " 56%|█████▌    | 30/54 [15:21<12:17, 30.71s/it]"
     ]
    },
    {
     "name": "stdout",
     "output_type": "stream",
     "text": [
      "../cache/bkup2/test7_1_t_store31.csv\n",
      "(2424140, 27)\n"
     ]
    },
    {
     "name": "stderr",
     "output_type": "stream",
     "text": [
      "\r",
      " 57%|█████▋    | 31/54 [15:53<11:47, 30.76s/it]"
     ]
    },
    {
     "name": "stdout",
     "output_type": "stream",
     "text": [
      "../cache/bkup2/test7_1_t_store32.csv\n",
      "(1425031, 27)\n"
     ]
    },
    {
     "name": "stderr",
     "output_type": "stream",
     "text": [
      "\r",
      " 59%|█████▉    | 32/54 [16:12<11:08, 30.38s/it]"
     ]
    },
    {
     "name": "stdout",
     "output_type": "stream",
     "text": [
      "../cache/bkup2/test7_1_t_store33.csv\n",
      "(2025901, 27)\n"
     ]
    },
    {
     "name": "stderr",
     "output_type": "stream",
     "text": [
      "\r",
      " 61%|██████    | 33/54 [16:39<10:36, 30.29s/it]"
     ]
    },
    {
     "name": "stdout",
     "output_type": "stream",
     "text": [
      "../cache/bkup2/test7_1_t_store34.csv\n",
      "(2361838, 27)\n"
     ]
    },
    {
     "name": "stderr",
     "output_type": "stream",
     "text": [
      "\r",
      " 63%|██████▎   | 34/54 [17:10<10:06, 30.32s/it]"
     ]
    },
    {
     "name": "stdout",
     "output_type": "stream",
     "text": [
      "../cache/bkup2/test7_1_t_store35.csv\n",
      "(1450520, 27)\n"
     ]
    },
    {
     "name": "stderr",
     "output_type": "stream",
     "text": [
      "\r",
      " 65%|██████▍   | 35/54 [17:30<09:30, 30.01s/it]"
     ]
    },
    {
     "name": "stdout",
     "output_type": "stream",
     "text": [
      "../cache/bkup2/test7_1_t_store36.csv\n",
      "(2273578, 27)\n"
     ]
    },
    {
     "name": "stderr",
     "output_type": "stream",
     "text": [
      "\r",
      " 67%|██████▋   | 36/54 [18:00<09:00, 30.03s/it]"
     ]
    },
    {
     "name": "stdout",
     "output_type": "stream",
     "text": [
      "../cache/bkup2/test7_1_t_store37.csv\n",
      "(2894107, 27)\n"
     ]
    },
    {
     "name": "stderr",
     "output_type": "stream",
     "text": [
      "\r",
      " 69%|██████▊   | 37/54 [18:39<08:34, 30.25s/it]"
     ]
    },
    {
     "name": "stdout",
     "output_type": "stream",
     "text": [
      "../cache/bkup2/test7_1_t_store38.csv\n",
      "(2790147, 27)\n"
     ]
    },
    {
     "name": "stderr",
     "output_type": "stream",
     "text": [
      "\r",
      " 70%|███████   | 38/54 [19:15<08:06, 30.41s/it]"
     ]
    },
    {
     "name": "stdout",
     "output_type": "stream",
     "text": [
      "../cache/bkup2/test7_1_t_store39.csv\n",
      "(2700452, 27)\n"
     ]
    },
    {
     "name": "stderr",
     "output_type": "stream",
     "text": [
      "\r",
      " 72%|███████▏  | 39/54 [19:51<07:38, 30.55s/it]"
     ]
    },
    {
     "name": "stdout",
     "output_type": "stream",
     "text": [
      "../cache/bkup2/test7_1_t_store40.csv\n",
      "(2165215, 27)\n"
     ]
    },
    {
     "name": "stderr",
     "output_type": "stream",
     "text": [
      "\r",
      " 74%|███████▍  | 40/54 [20:19<07:06, 30.49s/it]"
     ]
    },
    {
     "name": "stdout",
     "output_type": "stream",
     "text": [
      "../cache/bkup2/test7_1_t_store41.csv\n",
      "(2566335, 27)\n"
     ]
    },
    {
     "name": "stderr",
     "output_type": "stream",
     "text": [
      "\r",
      " 76%|███████▌  | 41/54 [20:54<06:37, 30.59s/it]"
     ]
    },
    {
     "name": "stdout",
     "output_type": "stream",
     "text": [
      "../cache/bkup2/test7_1_t_store42.csv\n",
      "(1524099, 27)\n"
     ]
    },
    {
     "name": "stderr",
     "output_type": "stream",
     "text": [
      "\r",
      " 78%|███████▊  | 42/54 [21:14<06:04, 30.34s/it]"
     ]
    },
    {
     "name": "stdout",
     "output_type": "stream",
     "text": [
      "../cache/bkup2/test7_1_t_store43.csv\n",
      "(2002110, 27)\n"
     ]
    },
    {
     "name": "stderr",
     "output_type": "stream",
     "text": [
      "\r",
      " 80%|███████▉  | 43/54 [21:40<05:32, 30.24s/it]"
     ]
    },
    {
     "name": "stdout",
     "output_type": "stream",
     "text": [
      "../cache/bkup2/test7_1_t_store44.csv\n",
      "(3575505, 27)\n"
     ]
    },
    {
     "name": "stderr",
     "output_type": "stream",
     "text": [
      "\r",
      " 81%|████████▏ | 44/54 [22:29<05:06, 30.66s/it]"
     ]
    },
    {
     "name": "stdout",
     "output_type": "stream",
     "text": [
      "../cache/bkup2/test7_1_t_store45.csv\n",
      "(3546660, 27)\n"
     ]
    },
    {
     "name": "stderr",
     "output_type": "stream",
     "text": [
      "\r",
      " 83%|████████▎ | 45/54 [23:16<04:39, 31.04s/it]"
     ]
    },
    {
     "name": "stdout",
     "output_type": "stream",
     "text": [
      "../cache/bkup2/test7_1_t_store46.csv\n",
      "(3416306, 27)\n"
     ]
    },
    {
     "name": "stderr",
     "output_type": "stream",
     "text": [
      "\r",
      " 85%|████████▌ | 46/54 [24:02<04:10, 31.37s/it]"
     ]
    },
    {
     "name": "stdout",
     "output_type": "stream",
     "text": [
      "../cache/bkup2/test7_1_t_store47.csv\n",
      "(3519823, 27)\n"
     ]
    },
    {
     "name": "stderr",
     "output_type": "stream",
     "text": [
      "\r",
      " 87%|████████▋ | 47/54 [24:50<03:41, 31.71s/it]"
     ]
    },
    {
     "name": "stdout",
     "output_type": "stream",
     "text": [
      "../cache/bkup2/test7_1_t_store48.csv\n",
      "(3298939, 27)\n"
     ]
    },
    {
     "name": "stderr",
     "output_type": "stream",
     "text": [
      "\r",
      " 89%|████████▉ | 48/54 [25:34<03:11, 31.97s/it]"
     ]
    },
    {
     "name": "stdout",
     "output_type": "stream",
     "text": [
      "../cache/bkup2/test7_1_t_store49.csv\n",
      "(3404947, 27)\n"
     ]
    },
    {
     "name": "stderr",
     "output_type": "stream",
     "text": [
      "\r",
      " 91%|█████████ | 49/54 [26:20<02:41, 32.25s/it]"
     ]
    },
    {
     "name": "stdout",
     "output_type": "stream",
     "text": [
      "../cache/bkup2/test7_1_t_store50.csv\n",
      "(3254982, 27)\n"
     ]
    },
    {
     "name": "stderr",
     "output_type": "stream",
     "text": [
      "\r",
      " 93%|█████████▎| 50/54 [27:03<02:09, 32.48s/it]"
     ]
    },
    {
     "name": "stdout",
     "output_type": "stream",
     "text": [
      "../cache/bkup2/test7_1_t_store51.csv\n",
      "(3022447, 27)\n"
     ]
    },
    {
     "name": "stderr",
     "output_type": "stream",
     "text": [
      "\r",
      " 94%|█████████▍| 51/54 [27:47<01:38, 32.70s/it]"
     ]
    },
    {
     "name": "stdout",
     "output_type": "stream",
     "text": [
      "../cache/bkup2/test7_1_t_store52.csv\n",
      "(352997, 27)\n"
     ]
    },
    {
     "name": "stderr",
     "output_type": "stream",
     "text": [
      "\r",
      " 96%|█████████▋| 52/54 [27:52<01:04, 32.16s/it]"
     ]
    },
    {
     "name": "stdout",
     "output_type": "stream",
     "text": [
      "../cache/bkup2/test7_1_t_store53.csv\n",
      "(2000671, 27)\n"
     ]
    },
    {
     "name": "stderr",
     "output_type": "stream",
     "text": [
      "\r",
      " 98%|█████████▊| 53/54 [28:20<00:32, 32.09s/it]"
     ]
    },
    {
     "name": "stdout",
     "output_type": "stream",
     "text": [
      "../cache/bkup2/test7_1_t_store54.csv\n",
      "(1711283, 27)\n"
     ]
    },
    {
     "name": "stderr",
     "output_type": "stream",
     "text": [
      "100%|██████████| 54/54 [28:53<00:00, 32.10s/it]\n"
     ]
    }
   ],
   "source": [
    "for shop_num in tqdm(range(1,55)):\n",
    "    fn_org = '../cache/bkup/train10_t_store{}.csv'.format(shop_num)\n",
    "    fn_org1 = '../cache/bkup2/test7_1_t_store{}.csv'.format(shop_num)\n",
    "    print(fn_org1)\n",
    "    df = pd.read_csv(fn_org)\n",
    "    df1 = pd.read_csv(fn_org1)\n",
    "    df = pd.concat([df, df1], axis=0)\n",
    "    \n",
    "    print(df.shape)\n",
    "    df['date_block_num']  = df.date.map(lambda x: get_date_block_num(x))\n",
    "    df['isHol'] = df['h_type'].map(lambda x: '1' if x != 'Work Day' else '0')\n",
    "    df['in_dh']  = df.item_nbr.astype('str') + '_' + df.dow.astype('str') + '_' + df.isHol.astype('str')\n",
    "    \n",
    "#     df = df.drop_duplicates()\n",
    "    unit_sales_dh_mean = df.groupby(['in_dh', 'date_block_num'], as_index=False).agg({'unit_sales':{'unit_sales_dh_mean':'mean'}, \n",
    "                                                         })\n",
    "    unit_sales_dh_mean.columns = ['in_dh', 'date_block_num', 'unit_sales_dh_mean']\n",
    "    df = pd.merge(df, unit_sales_dh_mean, how='left', on=['in_dh', 'date_block_num']).fillna(0.0)\n",
    "\n",
    "#     unit_sales_median = df.groupby(['item_nbr', 'date_block_num'], as_index=False).agg({'unit_sales':{'unit_sales_median':'median'}, \n",
    "#                                                          })\n",
    "#     unit_sales_median.columns = ['item_nbr', 'date_block_num', 'unit_sales_median']\n",
    "#     df = pd.merge(df, unit_sales_median, how='left', on=['item_nbr', 'date_block_num']).fillna(0.0)\n",
    "    \n",
    "#     unit_sales_std = df.groupby(['item_nbr', 'date_block_num'], as_index=False).agg({'unit_sales':{'unit_sales_std':'std'}, \n",
    "#                                                          })\n",
    "#     unit_sales_std.columns = ['item_nbr', 'date_block_num', 'unit_sales_std']\n",
    "#     df = pd.merge(df, unit_sales_std, how='left', on=['item_nbr', 'date_block_num']).fillna(0.0)\n",
    "    \n",
    "    \n",
    "    shifted_df = df[['id', 'date_block_num','in_dh','unit_sales_dh_mean']].copy()\n",
    "    \n",
    "    fn = '../cache/shifted_rsdh_df_shop{}.csv'.format(shop_num)\n",
    "    delete_file_if_exists(fn)\n",
    "    \n",
    "    shifted_df.to_csv(fn, float_format='%.5f', index=False)\n",
    "    del shifted_df\n",
    "    del df1\n",
    "    del df\n",
    "    del unit_sales_dh_mean\n",
    "#     del unit_sales_hol_median\n",
    "#     del unit_sales_hol_std\n"
   ]
  },
  {
   "cell_type": "code",
   "execution_count": 6,
   "metadata": {
    "collapsed": false
   },
   "outputs": [
    {
     "name": "stderr",
     "output_type": "stream",
     "text": [
      "100%|██████████| 54/54 [11:59<00:00, 13.32s/it]\n"
     ]
    }
   ],
   "source": [
    "# from tqdm import tqdm\n",
    "for shop_num in tqdm(range(1,55)):\n",
    "    fn = '../cache/shifted_rsdh_df_shop{}.csv'.format(shop_num)\n",
    "    df1 = pd.read_csv(fn)\n",
    "\n",
    "#     print(df1.shape)\n",
    "#     print(set(df1.date_block_num))\n",
    "#     df1 = df1.drop('my_id', axis=1)\n",
    "    # forward\n",
    "    # 1 month\n",
    "    shifted_df = df1[['date_block_num','in_dh','unit_sales_dh_mean']].copy()\n",
    "#     print(shifted_df.shape)\n",
    "    org_date_blocks = shifted_df.date_block_num.values\n",
    "    shifted_df.date_block_num += 1\n",
    "    shifted_df.columns = ['date_block_num','in_dh', 'unit_sales_dh_mean_f_lag_1']\n",
    "#     print(shifted_df.date_block_num.nunique())\n",
    "    \n",
    "    df1 = df1.merge(shifted_df, on=['date_block_num','in_dh'], how='left').fillna(0.0)\n",
    "    df1 = df1.drop_duplicates()\n",
    "    \n",
    "    assert(len(df1) == len(shifted_df))\n",
    "    \n",
    "    df = pd.DataFrame()\n",
    "    df['id'] = df1.id.values\n",
    "    df['unit_sales_dh_mean_f_lag_1'] = df1.unit_sales_dh_mean_f_lag_1.values\n",
    "    df = df.loc[:, (df != 0).any(axis=0)]\n",
    "    if len(df.columns) != 2:\n",
    "        print(shop_num)\n",
    "        print(df1.shape)\n",
    "        print(set(df1.date_block_num))\n",
    "        print(shifted_df.date_block_num.nunique())\n",
    "        print(set(shifted_df.date_block_num))\n",
    "        print(df.shape)\n",
    "        print('------')\n",
    "    fn = '../cache/lag1_sales_mean_rsdh_df_shop{}.csv'.format(shop_num)\n",
    "    delete_file_if_exists(fn)\n",
    "    df.to_csv(fn, float_format='%.5f', index=False)\n",
    "    del shifted_df\n",
    "    del df1\n",
    "    del df"
   ]
  },
  {
   "cell_type": "code",
   "execution_count": 7,
   "metadata": {
    "collapsed": false
   },
   "outputs": [
    {
     "name": "stderr",
     "output_type": "stream",
     "text": [
      "100%|██████████| 54/54 [10:12<00:00, 11.34s/it]\n"
     ]
    }
   ],
   "source": [
    "# from tqdm import tqdm\n",
    "for shop_num in tqdm(range(1,55)):\n",
    "    fn = '../cache/shifted_rsdh_df_shop{}.csv'.format(shop_num)\n",
    "    df1 = pd.read_csv(fn)\n",
    "\n",
    "#     print(df1.shape)\n",
    "#     print(set(df1.date_block_num))\n",
    "#     df1 = df1.drop('my_id', axis=1)\n",
    "    # forward\n",
    "    # 1 month\n",
    "    shifted_df = df1[['date_block_num','in_dh','unit_sales_dh_mean']].copy()\n",
    "#     print(shifted_df.shape)\n",
    "    org_date_blocks = shifted_df.date_block_num.values\n",
    "    shifted_df.date_block_num += 3\n",
    "    shifted_df.columns = ['date_block_num','in_dh', 'unit_sales_dh_mean_f_lag_3']\n",
    "#     print(shifted_df.date_block_num.nunique())\n",
    "    \n",
    "    df1 = df1.merge(shifted_df, on=['date_block_num','in_dh'], how='left').fillna(0.0)\n",
    "    df1 = df1.drop_duplicates()\n",
    "    \n",
    "    assert(len(df1) == len(shifted_df))\n",
    "    \n",
    "    df = pd.DataFrame()\n",
    "    df['id'] = df1.id.values\n",
    "    df['unit_sales_dh_mean_f_lag_3'] = df1.unit_sales_dh_mean_f_lag_3.values\n",
    "    df = df.loc[:, (df != 0).any(axis=0)]\n",
    "    if len(df.columns) != 2:\n",
    "        print(shop_num)\n",
    "        print(df1.shape)\n",
    "        print(set(df1.date_block_num))\n",
    "        print(shifted_df.date_block_num.nunique())\n",
    "        print(set(shifted_df.date_block_num))\n",
    "        print(df.shape)\n",
    "        print('------')\n",
    "    fn = '../cache/lag3_sales_mean_rsdh_df_shop{}.csv'.format(shop_num)\n",
    "    delete_file_if_exists(fn)\n",
    "    df.to_csv(fn, float_format='%.5f', index=False)\n",
    "    del shifted_df\n",
    "    del df1\n",
    "    del df"
   ]
  },
  {
   "cell_type": "code",
   "execution_count": 8,
   "metadata": {
    "collapsed": false
   },
   "outputs": [
    {
     "name": "stderr",
     "output_type": "stream",
     "text": [
      " 94%|█████████▍| 51/54 [08:56<00:31, 10.52s/it]"
     ]
    },
    {
     "name": "stdout",
     "output_type": "stream",
     "text": [
      "52\n",
      "(352997, 5)\n",
      "{51, 52, 53, 54, 55}\n",
      "5\n",
      "{57, 58, 59, 60, 61}\n",
      "(352997, 1)\n",
      "------\n"
     ]
    },
    {
     "name": "stderr",
     "output_type": "stream",
     "text": [
      "100%|██████████| 54/54 [09:12<00:00, 10.23s/it]\n"
     ]
    }
   ],
   "source": [
    "# from tqdm import tqdm\n",
    "for shop_num in tqdm(range(1,55)):\n",
    "    fn = '../cache/shifted_rsdh_df_shop{}.csv'.format(shop_num)\n",
    "    df1 = pd.read_csv(fn)\n",
    "\n",
    "#     print(df1.shape)\n",
    "#     print(set(df1.date_block_num))\n",
    "#     df1 = df1.drop('my_id', axis=1)\n",
    "    # forward\n",
    "    # 1 month\n",
    "    shifted_df = df1[['date_block_num','in_dh','unit_sales_dh_mean']].copy()\n",
    "#     print(shifted_df.shape)\n",
    "    org_date_blocks = shifted_df.date_block_num.values\n",
    "    shifted_df.date_block_num += 6\n",
    "    shifted_df.columns = ['date_block_num','in_dh', 'unit_sales_dh_mean_f_lag_6']\n",
    "#     print(shifted_df.date_block_num.nunique())\n",
    "    \n",
    "    df1 = df1.merge(shifted_df, on=['date_block_num','in_dh'], how='left').fillna(0.0)\n",
    "    df1 = df1.drop_duplicates()\n",
    "    \n",
    "    assert(len(df1) == len(shifted_df))\n",
    "    \n",
    "    df = pd.DataFrame()\n",
    "    df['id'] = df1.id.values\n",
    "    df['unit_sales_dh_mean_f_lag_6'] = df1.unit_sales_dh_mean_f_lag_6.values\n",
    "    df = df.loc[:, (df != 0).any(axis=0)]\n",
    "    if len(df.columns) != 2:\n",
    "        print(shop_num)\n",
    "        print(df1.shape)\n",
    "        print(set(df1.date_block_num))\n",
    "        print(shifted_df.date_block_num.nunique())\n",
    "        print(set(shifted_df.date_block_num))\n",
    "        print(df.shape)\n",
    "        print('------')\n",
    "    fn = '../cache/lag6_sales_mean_rsdh_df_shop{}.csv'.format(shop_num)\n",
    "    delete_file_if_exists(fn)\n",
    "    df.to_csv(fn, float_format='%.5f', index=False)\n",
    "    del shifted_df\n",
    "    del df1\n",
    "    del df"
   ]
  },
  {
   "cell_type": "code",
   "execution_count": 9,
   "metadata": {
    "collapsed": false
   },
   "outputs": [
    {
     "name": "stderr",
     "output_type": "stream",
     "text": [
      " 94%|█████████▍| 51/54 [08:25<00:29,  9.92s/it]"
     ]
    },
    {
     "name": "stdout",
     "output_type": "stream",
     "text": [
      "52\n",
      "(352997, 5)\n",
      "{51, 52, 53, 54, 55}\n",
      "5\n",
      "{64, 65, 66, 67, 63}\n",
      "(352997, 1)\n",
      "------\n"
     ]
    },
    {
     "name": "stderr",
     "output_type": "stream",
     "text": [
      "100%|██████████| 54/54 [08:41<00:00,  9.65s/it]\n"
     ]
    }
   ],
   "source": [
    "# from tqdm import tqdm\n",
    "for shop_num in tqdm(range(1,55)):\n",
    "    fn = '../cache/shifted_rsdh_df_shop{}.csv'.format(shop_num)\n",
    "    df1 = pd.read_csv(fn)\n",
    "\n",
    "#     print(df1.shape)\n",
    "#     print(set(df1.date_block_num))\n",
    "#     df1 = df1.drop('my_id', axis=1)\n",
    "    # forward\n",
    "    # 1 month\n",
    "    shifted_df = df1[['date_block_num','in_dh','unit_sales_dh_mean']].copy()\n",
    "#     print(shifted_df.shape)\n",
    "    org_date_blocks = shifted_df.date_block_num.values\n",
    "    shifted_df.date_block_num += 12\n",
    "    shifted_df.columns = ['date_block_num','in_dh', 'unit_sales_dh_mean_f_lag_12']\n",
    "#     print(shifted_df.date_block_num.nunique())\n",
    "    \n",
    "    df1 = df1.merge(shifted_df, on=['date_block_num','in_dh'], how='left').fillna(0.0)\n",
    "    df1 = df1.drop_duplicates()\n",
    "    \n",
    "    assert(len(df1) == len(shifted_df))\n",
    "    \n",
    "    df = pd.DataFrame()\n",
    "    df['id'] = df1.id.values\n",
    "    df['unit_sales_dh_mean_f_lag_12'] = df1.unit_sales_dh_mean_f_lag_12.values\n",
    "    df = df.loc[:, (df != 0).any(axis=0)]\n",
    "    if len(df.columns) != 2:\n",
    "        print(shop_num)\n",
    "        print(df1.shape)\n",
    "        print(set(df1.date_block_num))\n",
    "        print(shifted_df.date_block_num.nunique())\n",
    "        print(set(shifted_df.date_block_num))\n",
    "        print(df.shape)\n",
    "        print('------')\n",
    "    fn = '../cache/lag12_sales_mean_rsdh_df_shop{}.csv'.format(shop_num)\n",
    "    delete_file_if_exists(fn)\n",
    "    df.to_csv(fn, float_format='%.5f', index=False)\n",
    "    del shifted_df\n",
    "    del df1\n",
    "    del df"
   ]
  },
  {
   "cell_type": "code",
   "execution_count": 10,
   "metadata": {
    "collapsed": false
   },
   "outputs": [
    {
     "name": "stderr",
     "output_type": "stream",
     "text": [
      " 39%|███▉      | 21/54 [03:14<05:06,  9.28s/it]"
     ]
    },
    {
     "name": "stdout",
     "output_type": "stream",
     "text": [
      "22\n",
      "(985899, 5)\n",
      "{33, 34, 35, 36, 37, 38, 39, 40, 41, 42, 43, 44, 45, 46, 47, 48, 49, 50, 51, 52, 53, 54, 55}\n",
      "23\n",
      "{57, 58, 59, 60, 61, 62, 63, 64, 65, 66, 67, 68, 69, 70, 71, 72, 73, 74, 75, 76, 77, 78, 79}\n",
      "(985899, 1)\n",
      "------\n"
     ]
    },
    {
     "name": "stderr",
     "output_type": "stream",
     "text": [
      " 94%|█████████▍| 51/54 [08:03<00:28,  9.47s/it]"
     ]
    },
    {
     "name": "stdout",
     "output_type": "stream",
     "text": [
      "52\n",
      "(352997, 5)\n",
      "{51, 52, 53, 54, 55}\n",
      "5\n",
      "{75, 76, 77, 78, 79}\n",
      "(352997, 1)\n",
      "------\n"
     ]
    },
    {
     "name": "stderr",
     "output_type": "stream",
     "text": [
      "100%|██████████| 54/54 [08:18<00:00,  9.23s/it]\n"
     ]
    }
   ],
   "source": [
    "# from tqdm import tqdm\n",
    "for shop_num in tqdm(range(1,55)):\n",
    "    fn = '../cache/shifted_rsdh_df_shop{}.csv'.format(shop_num)\n",
    "    df1 = pd.read_csv(fn)\n",
    "\n",
    "#     print(df1.shape)\n",
    "#     print(set(df1.date_block_num))\n",
    "#     df1 = df1.drop('my_id', axis=1)\n",
    "    # forward\n",
    "    # 1 month\n",
    "    shifted_df = df1[['date_block_num','in_dh','unit_sales_dh_mean']].copy()\n",
    "#     print(shifted_df.shape)\n",
    "    org_date_blocks = shifted_df.date_block_num.values\n",
    "    shifted_df.date_block_num += 24\n",
    "    shifted_df.columns = ['date_block_num','in_dh', 'unit_sales_dh_mean_f_lag_24']\n",
    "#     print(shifted_df.date_block_num.nunique())\n",
    "    \n",
    "    df1 = df1.merge(shifted_df, on=['date_block_num','in_dh'], how='left').fillna(0.0)\n",
    "    df1 = df1.drop_duplicates()\n",
    "    \n",
    "    assert(len(df1) == len(shifted_df))\n",
    "    \n",
    "    df = pd.DataFrame()\n",
    "    df['id'] = df1.id.values\n",
    "    df['unit_sales_dh_mean_f_lag_24'] = df1.unit_sales_dh_mean_f_lag_24.values\n",
    "    df = df.loc[:, (df != 0).any(axis=0)]\n",
    "    if len(df.columns) != 2:\n",
    "        print(shop_num)\n",
    "        print(df1.shape)\n",
    "        print(set(df1.date_block_num))\n",
    "        print(shifted_df.date_block_num.nunique())\n",
    "        print(set(shifted_df.date_block_num))\n",
    "        print(df.shape)\n",
    "        print('------')\n",
    "    fn = '../cache/lag24_sales_mean_rsdh_df_shop{}.csv'.format(shop_num)\n",
    "    delete_file_if_exists(fn)\n",
    "    df.to_csv(fn, float_format='%.5f', index=False)\n",
    "    del shifted_df\n",
    "    del df1\n",
    "    del df"
   ]
  },
  {
   "cell_type": "code",
   "execution_count": 11,
   "metadata": {
    "collapsed": false
   },
   "outputs": [
    {
     "name": "stderr",
     "output_type": "stream",
     "text": [
      "100%|██████████| 54/54 [19:48<00:00, 22.01s/it]\n"
     ]
    }
   ],
   "source": [
    "for shop_num in tqdm(range(1,55)):\n",
    "    df1 = pd.DataFrame()\n",
    "    \n",
    "    df1['unit_sales_dh_mean_f_lag_1'] =0\n",
    "    df1['unit_sales_dh_mean_f_lag_3'] = 0\n",
    "    df1['unit_sales_dh_mean_f_lag_6'] = 0\n",
    "    df1['unit_sales_dh_mean_f_lag_12'] = 0\n",
    "    df1['unit_sales_dh_mean_f_lag_24'] = 0\n",
    "    \n",
    "    fn = '../cache/lag1_sales_mean_rsdh_df_shop{}.csv'.format(shop_num)\n",
    "    df2 = pd.read_csv(fn)\n",
    "    \n",
    "    fn = '../cache/lag3_sales_mean_rsdh_df_shop{}.csv'.format(shop_num)\n",
    "    df3 = pd.read_csv(fn)\n",
    "    \n",
    "    fn = '../cache/lag6_sales_mean_rsdh_df_shop{}.csv'.format(shop_num)\n",
    "    df4 = pd.read_csv(fn)\n",
    "    \n",
    "    fn = '../cache/lag12_sales_mean_rsdh_df_shop{}.csv'.format(shop_num)\n",
    "    df5 = pd.read_csv(fn)\n",
    "    \n",
    "    fn = '../cache/lag24_sales_mean_rsdh_df_shop{}.csv'.format(shop_num)\n",
    "    df6 = pd.read_csv(fn)\n",
    "    \n",
    "    df1['id'] = df2['id'].values\n",
    "    if len(df2.columns) > 1:\n",
    "        df1['unit_sales_dh_mean_f_lag_1'] = df2.unit_sales_dh_mean_f_lag_1.values\n",
    "        \n",
    "    if len(df3.columns) > 1:\n",
    "        df1['unit_sales_dh_mean_f_lag_3'] = df3.unit_sales_dh_mean_f_lag_3.values\n",
    "        \n",
    "        \n",
    "    if len(df4.columns) > 1:\n",
    "        df1['unit_sales_dh_mean_f_lag_6'] = df4.unit_sales_dh_mean_f_lag_6.values\n",
    "        \n",
    "    if len(df5.columns) > 1:\n",
    "        df1['unit_sales_dh_mean_f_lag_12'] = df5.unit_sales_dh_mean_f_lag_12.values\n",
    "        \n",
    "    if len(df6.columns) > 1:\n",
    "        df1['unit_sales_dh_mean_f_lag_24'] = df6.unit_sales_dh_mean_f_lag_24.values\n",
    "     \n",
    "    \n",
    "    \n",
    "    fn = '../cache/df_all_rsdh_lag_shop{}.csv'.format(shop_num)\n",
    "    delete_file_if_exists(fn)\n",
    "    \n",
    "#     const_col = []\n",
    "#     for col in df1.columns:\n",
    "#         c = len(set(df1[col].values))\n",
    "#         if c==1:\n",
    "#             const_col.append(col)\n",
    "#     if len(const_col) > 0:\n",
    "#         c = len(const_col)\n",
    "#         print(shop_num)\n",
    "#         print(c)\n",
    "#         print(df1.shape)\n",
    "#         print(const_col)\n",
    "    df1.to_csv(fn, float_format='%.5f', index=False)\n",
    "    del df1\n",
    "    del df2, df3, df4, df5, df6\n",
    "#     print('5..')\n",
    "    gc.collect()"
   ]
  },
  {
   "cell_type": "code",
   "execution_count": null,
   "metadata": {
    "collapsed": false
   },
   "outputs": [
    {
     "name": "stderr",
     "output_type": "stream",
     "text": [
      "\r",
      "  0%|          | 0/54 [00:00<?, ?it/s]"
     ]
    },
    {
     "name": "stdout",
     "output_type": "stream",
     "text": [
      "../cache/bkup2/test7_1_t_store1.csv\n"
     ]
    },
    {
     "name": "stderr",
     "output_type": "stream",
     "text": [
      "/home/watts/anaconda2/envs/sdp35/lib/python3.5/site-packages/IPython/core/interactiveshell.py:2728: DtypeWarning: Columns (5) have mixed types. Specify dtype option on import or set low_memory=False.\n",
      "  interactivity=interactivity, compiler=compiler, result=result)\n",
      "  2%|▏         | 1/54 [00:23<20:35, 23.31s/it]"
     ]
    },
    {
     "name": "stdout",
     "output_type": "stream",
     "text": [
      "../cache/bkup2/test7_1_t_store2.csv\n"
     ]
    },
    {
     "name": "stderr",
     "output_type": "stream",
     "text": [
      "\r",
      "  4%|▎         | 2/54 [00:49<21:34, 24.89s/it]"
     ]
    },
    {
     "name": "stdout",
     "output_type": "stream",
     "text": [
      "../cache/bkup2/test7_1_t_store3.csv\n"
     ]
    },
    {
     "name": "stderr",
     "output_type": "stream",
     "text": [
      "\r",
      "  6%|▌         | 3/54 [01:21<23:05, 27.17s/it]"
     ]
    },
    {
     "name": "stdout",
     "output_type": "stream",
     "text": [
      "../cache/bkup2/test7_1_t_store4.csv\n"
     ]
    },
    {
     "name": "stderr",
     "output_type": "stream",
     "text": [
      "\r",
      "  7%|▋         | 4/54 [01:48<22:41, 27.22s/it]"
     ]
    },
    {
     "name": "stdout",
     "output_type": "stream",
     "text": [
      "../cache/bkup2/test7_1_t_store5.csv\n"
     ]
    },
    {
     "name": "stderr",
     "output_type": "stream",
     "text": [
      "\r",
      "  9%|▉         | 5/54 [02:16<22:16, 27.28s/it]"
     ]
    },
    {
     "name": "stdout",
     "output_type": "stream",
     "text": [
      "../cache/bkup2/test7_1_t_store6.csv\n"
     ]
    },
    {
     "name": "stderr",
     "output_type": "stream",
     "text": [
      "\r",
      " 11%|█         | 6/54 [02:46<22:12, 27.76s/it]"
     ]
    },
    {
     "name": "stdout",
     "output_type": "stream",
     "text": [
      "../cache/bkup2/test7_1_t_store7.csv\n"
     ]
    },
    {
     "name": "stderr",
     "output_type": "stream",
     "text": [
      "\r",
      " 13%|█▎        | 7/54 [03:13<21:42, 27.70s/it]"
     ]
    },
    {
     "name": "stdout",
     "output_type": "stream",
     "text": [
      "../cache/bkup2/test7_1_t_store8.csv\n"
     ]
    },
    {
     "name": "stderr",
     "output_type": "stream",
     "text": [
      "\r",
      " 15%|█▍        | 8/54 [03:43<21:27, 27.98s/it]"
     ]
    },
    {
     "name": "stdout",
     "output_type": "stream",
     "text": [
      "../cache/bkup2/test7_1_t_store9.csv\n"
     ]
    },
    {
     "name": "stderr",
     "output_type": "stream",
     "text": [
      "\r",
      " 17%|█▋        | 9/54 [04:10<20:54, 27.88s/it]"
     ]
    },
    {
     "name": "stdout",
     "output_type": "stream",
     "text": [
      "../cache/bkup2/test7_1_t_store10.csv\n"
     ]
    },
    {
     "name": "stderr",
     "output_type": "stream",
     "text": [
      "\r",
      " 19%|█▊        | 10/54 [04:27<19:37, 26.77s/it]"
     ]
    },
    {
     "name": "stdout",
     "output_type": "stream",
     "text": [
      "../cache/bkup2/test7_1_t_store11.csv\n"
     ]
    },
    {
     "name": "stderr",
     "output_type": "stream",
     "text": [
      "\r",
      " 20%|██        | 11/54 [04:53<19:07, 26.69s/it]"
     ]
    },
    {
     "name": "stdout",
     "output_type": "stream",
     "text": [
      "../cache/bkup2/test7_1_t_store12.csv\n"
     ]
    },
    {
     "name": "stderr",
     "output_type": "stream",
     "text": [
      "\r",
      " 22%|██▏       | 12/54 [05:12<18:12, 26.02s/it]"
     ]
    },
    {
     "name": "stdout",
     "output_type": "stream",
     "text": [
      "../cache/bkup2/test7_1_t_store13.csv\n"
     ]
    },
    {
     "name": "stderr",
     "output_type": "stream",
     "text": [
      "\r",
      " 24%|██▍       | 13/54 [05:28<17:17, 25.31s/it]"
     ]
    },
    {
     "name": "stdout",
     "output_type": "stream",
     "text": [
      "../cache/bkup2/test7_1_t_store14.csv\n"
     ]
    },
    {
     "name": "stderr",
     "output_type": "stream",
     "text": [
      "\r",
      " 26%|██▌       | 14/54 [05:48<16:36, 24.92s/it]"
     ]
    },
    {
     "name": "stdout",
     "output_type": "stream",
     "text": [
      "../cache/bkup2/test7_1_t_store15.csv\n"
     ]
    },
    {
     "name": "stderr",
     "output_type": "stream",
     "text": [
      "\r",
      " 28%|██▊       | 15/54 [06:07<15:56, 24.52s/it]"
     ]
    },
    {
     "name": "stdout",
     "output_type": "stream",
     "text": [
      "../cache/bkup2/test7_1_t_store16.csv\n"
     ]
    },
    {
     "name": "stderr",
     "output_type": "stream",
     "text": [
      "\r",
      " 30%|██▉       | 16/54 [06:26<15:19, 24.19s/it]"
     ]
    },
    {
     "name": "stdout",
     "output_type": "stream",
     "text": [
      "../cache/bkup2/test7_1_t_store17.csv\n"
     ]
    },
    {
     "name": "stderr",
     "output_type": "stream",
     "text": [
      "\r",
      " 31%|███▏      | 17/54 [06:48<14:48, 24.01s/it]"
     ]
    },
    {
     "name": "stdout",
     "output_type": "stream",
     "text": [
      "../cache/bkup2/test7_1_t_store18.csv\n"
     ]
    },
    {
     "name": "stderr",
     "output_type": "stream",
     "text": [
      "\r",
      " 33%|███▎      | 18/54 [07:08<14:17, 23.82s/it]"
     ]
    },
    {
     "name": "stdout",
     "output_type": "stream",
     "text": [
      "../cache/bkup2/test7_1_t_store19.csv\n"
     ]
    },
    {
     "name": "stderr",
     "output_type": "stream",
     "text": [
      "\r",
      " 35%|███▌      | 19/54 [07:27<13:43, 23.54s/it]"
     ]
    },
    {
     "name": "stdout",
     "output_type": "stream",
     "text": [
      "../cache/bkup2/test7_1_t_store20.csv\n"
     ]
    },
    {
     "name": "stderr",
     "output_type": "stream",
     "text": [
      "\r",
      " 37%|███▋      | 20/54 [07:47<13:15, 23.40s/it]"
     ]
    },
    {
     "name": "stdout",
     "output_type": "stream",
     "text": [
      "../cache/bkup2/test7_1_t_store21.csv\n"
     ]
    },
    {
     "name": "stderr",
     "output_type": "stream",
     "text": [
      "\r",
      " 39%|███▉      | 21/54 [08:05<12:42, 23.10s/it]"
     ]
    },
    {
     "name": "stdout",
     "output_type": "stream",
     "text": [
      "../cache/bkup2/test7_1_t_store22.csv\n"
     ]
    },
    {
     "name": "stderr",
     "output_type": "stream",
     "text": [
      "\r",
      " 41%|████      | 22/54 [08:15<12:00, 22.50s/it]"
     ]
    },
    {
     "name": "stdout",
     "output_type": "stream",
     "text": [
      "../cache/bkup2/test7_1_t_store23.csv\n"
     ]
    },
    {
     "name": "stderr",
     "output_type": "stream",
     "text": [
      "\r",
      " 43%|████▎     | 23/54 [08:37<11:37, 22.49s/it]"
     ]
    },
    {
     "name": "stdout",
     "output_type": "stream",
     "text": [
      "../cache/bkup2/test7_1_t_store24.csv\n"
     ]
    },
    {
     "name": "stderr",
     "output_type": "stream",
     "text": [
      "\r",
      " 44%|████▍     | 24/54 [09:04<11:21, 22.70s/it]"
     ]
    },
    {
     "name": "stdout",
     "output_type": "stream",
     "text": [
      "../cache/bkup2/test7_1_t_store25.csv\n"
     ]
    },
    {
     "name": "stderr",
     "output_type": "stream",
     "text": [
      "\r",
      " 46%|████▋     | 25/54 [09:24<10:54, 22.57s/it]"
     ]
    },
    {
     "name": "stdout",
     "output_type": "stream",
     "text": [
      "../cache/bkup2/test7_1_t_store26.csv\n"
     ]
    },
    {
     "name": "stderr",
     "output_type": "stream",
     "text": [
      "\r",
      " 48%|████▊     | 26/54 [09:41<10:26, 22.36s/it]"
     ]
    },
    {
     "name": "stdout",
     "output_type": "stream",
     "text": [
      "../cache/bkup2/test7_1_t_store27.csv\n"
     ]
    },
    {
     "name": "stderr",
     "output_type": "stream",
     "text": [
      "\r",
      " 50%|█████     | 27/54 [10:06<10:06, 22.47s/it]"
     ]
    },
    {
     "name": "stdout",
     "output_type": "stream",
     "text": [
      "../cache/bkup2/test7_1_t_store28.csv\n"
     ]
    },
    {
     "name": "stderr",
     "output_type": "stream",
     "text": [
      "\r",
      " 52%|█████▏    | 28/54 [10:29<09:44, 22.49s/it]"
     ]
    },
    {
     "name": "stdout",
     "output_type": "stream",
     "text": [
      "../cache/bkup2/test7_1_t_store29.csv\n"
     ]
    },
    {
     "name": "stderr",
     "output_type": "stream",
     "text": [
      "\r",
      " 54%|█████▎    | 29/54 [10:48<09:18, 22.35s/it]"
     ]
    },
    {
     "name": "stdout",
     "output_type": "stream",
     "text": [
      "../cache/bkup2/test7_1_t_store30.csv\n"
     ]
    },
    {
     "name": "stderr",
     "output_type": "stream",
     "text": [
      "\r",
      " 56%|█████▌    | 30/54 [11:03<08:50, 22.10s/it]"
     ]
    },
    {
     "name": "stdout",
     "output_type": "stream",
     "text": [
      "../cache/bkup2/test7_1_t_store31.csv\n"
     ]
    },
    {
     "name": "stderr",
     "output_type": "stream",
     "text": [
      "\r",
      " 57%|█████▋    | 31/54 [11:26<08:29, 22.16s/it]"
     ]
    },
    {
     "name": "stdout",
     "output_type": "stream",
     "text": [
      "../cache/bkup2/test7_1_t_store32.csv\n"
     ]
    },
    {
     "name": "stderr",
     "output_type": "stream",
     "text": [
      "\r",
      " 59%|█████▉    | 32/54 [11:40<08:01, 21.89s/it]"
     ]
    },
    {
     "name": "stdout",
     "output_type": "stream",
     "text": [
      "../cache/bkup2/test7_1_t_store33.csv\n"
     ]
    },
    {
     "name": "stderr",
     "output_type": "stream",
     "text": [
      "\r",
      " 61%|██████    | 33/54 [11:59<07:37, 21.81s/it]"
     ]
    },
    {
     "name": "stdout",
     "output_type": "stream",
     "text": [
      "../cache/bkup2/test7_1_t_store34.csv\n"
     ]
    },
    {
     "name": "stderr",
     "output_type": "stream",
     "text": [
      "\r",
      " 63%|██████▎   | 34/54 [12:21<07:16, 21.80s/it]"
     ]
    },
    {
     "name": "stdout",
     "output_type": "stream",
     "text": [
      "../cache/bkup2/test7_1_t_store35.csv\n"
     ]
    },
    {
     "name": "stderr",
     "output_type": "stream",
     "text": [
      "\r",
      " 65%|██████▍   | 35/54 [12:35<06:49, 21.58s/it]"
     ]
    },
    {
     "name": "stdout",
     "output_type": "stream",
     "text": [
      "../cache/bkup2/test7_1_t_store36.csv\n"
     ]
    },
    {
     "name": "stderr",
     "output_type": "stream",
     "text": [
      "\r",
      " 67%|██████▋   | 36/54 [12:56<06:28, 21.57s/it]"
     ]
    },
    {
     "name": "stdout",
     "output_type": "stream",
     "text": [
      "../cache/bkup2/test7_1_t_store37.csv\n"
     ]
    },
    {
     "name": "stderr",
     "output_type": "stream",
     "text": [
      "\r",
      " 69%|██████▊   | 37/54 [13:23<06:09, 21.72s/it]"
     ]
    },
    {
     "name": "stdout",
     "output_type": "stream",
     "text": [
      "../cache/bkup2/test7_1_t_store38.csv\n"
     ]
    },
    {
     "name": "stderr",
     "output_type": "stream",
     "text": [
      "\r",
      " 70%|███████   | 38/54 [13:49<05:49, 21.83s/it]"
     ]
    },
    {
     "name": "stdout",
     "output_type": "stream",
     "text": [
      "../cache/bkup2/test7_1_t_store39.csv\n"
     ]
    },
    {
     "name": "stderr",
     "output_type": "stream",
     "text": [
      "\r",
      " 72%|███████▏  | 39/54 [14:14<05:28, 21.91s/it]"
     ]
    },
    {
     "name": "stdout",
     "output_type": "stream",
     "text": [
      "../cache/bkup2/test7_1_t_store40.csv\n"
     ]
    },
    {
     "name": "stderr",
     "output_type": "stream",
     "text": [
      "\r",
      " 74%|███████▍  | 40/54 [14:35<05:06, 21.88s/it]"
     ]
    },
    {
     "name": "stdout",
     "output_type": "stream",
     "text": [
      "../cache/bkup2/test7_1_t_store41.csv\n"
     ]
    },
    {
     "name": "stderr",
     "output_type": "stream",
     "text": [
      "\r",
      " 76%|███████▌  | 41/54 [14:59<04:45, 21.95s/it]"
     ]
    },
    {
     "name": "stdout",
     "output_type": "stream",
     "text": [
      "../cache/bkup2/test7_1_t_store42.csv\n"
     ]
    },
    {
     "name": "stderr",
     "output_type": "stream",
     "text": [
      "\r",
      " 78%|███████▊  | 42/54 [15:17<04:22, 21.85s/it]"
     ]
    },
    {
     "name": "stdout",
     "output_type": "stream",
     "text": [
      "../cache/bkup2/test7_1_t_store43.csv\n"
     ]
    },
    {
     "name": "stderr",
     "output_type": "stream",
     "text": [
      "\r",
      " 80%|███████▉  | 43/54 [15:37<03:59, 21.80s/it]"
     ]
    },
    {
     "name": "stdout",
     "output_type": "stream",
     "text": [
      "../cache/bkup2/test7_1_t_store44.csv\n"
     ]
    },
    {
     "name": "stderr",
     "output_type": "stream",
     "text": [
      "\r",
      " 81%|████████▏ | 44/54 [16:10<03:40, 22.07s/it]"
     ]
    },
    {
     "name": "stdout",
     "output_type": "stream",
     "text": [
      "../cache/bkup2/test7_1_t_store45.csv\n"
     ]
    },
    {
     "name": "stderr",
     "output_type": "stream",
     "text": [
      "\r",
      " 83%|████████▎ | 45/54 [16:44<03:20, 22.33s/it]"
     ]
    },
    {
     "name": "stdout",
     "output_type": "stream",
     "text": [
      "../cache/bkup2/test7_1_t_store46.csv\n"
     ]
    },
    {
     "name": "stderr",
     "output_type": "stream",
     "text": [
      "\r",
      " 85%|████████▌ | 46/54 [17:17<03:00, 22.55s/it]"
     ]
    },
    {
     "name": "stdout",
     "output_type": "stream",
     "text": [
      "../cache/bkup2/test7_1_t_store47.csv\n"
     ]
    },
    {
     "name": "stderr",
     "output_type": "stream",
     "text": [
      "\r",
      " 87%|████████▋ | 47/54 [17:49<02:39, 22.76s/it]"
     ]
    },
    {
     "name": "stdout",
     "output_type": "stream",
     "text": [
      "../cache/bkup2/test7_1_t_store48.csv\n"
     ]
    },
    {
     "name": "stderr",
     "output_type": "stream",
     "text": [
      "\r",
      " 89%|████████▉ | 48/54 [18:19<02:17, 22.92s/it]"
     ]
    },
    {
     "name": "stdout",
     "output_type": "stream",
     "text": [
      "../cache/bkup2/test7_1_t_store49.csv\n"
     ]
    },
    {
     "name": "stderr",
     "output_type": "stream",
     "text": [
      "\r",
      " 91%|█████████ | 49/54 [18:51<01:55, 23.09s/it]"
     ]
    },
    {
     "name": "stdout",
     "output_type": "stream",
     "text": [
      "../cache/bkup2/test7_1_t_store50.csv\n"
     ]
    },
    {
     "name": "stderr",
     "output_type": "stream",
     "text": [
      "\r",
      " 93%|█████████▎| 50/54 [19:21<01:32, 23.23s/it]"
     ]
    },
    {
     "name": "stdout",
     "output_type": "stream",
     "text": [
      "../cache/bkup2/test7_1_t_store51.csv\n"
     ]
    },
    {
     "name": "stderr",
     "output_type": "stream",
     "text": [
      "\r",
      " 94%|█████████▍| 51/54 [19:49<01:09, 23.33s/it]"
     ]
    },
    {
     "name": "stdout",
     "output_type": "stream",
     "text": [
      "../cache/bkup2/test7_1_t_store52.csv\n"
     ]
    },
    {
     "name": "stderr",
     "output_type": "stream",
     "text": [
      "\r",
      " 96%|█████████▋| 52/54 [19:52<00:45, 22.93s/it]"
     ]
    },
    {
     "name": "stdout",
     "output_type": "stream",
     "text": [
      "../cache/bkup2/test7_1_t_store53.csv\n"
     ]
    },
    {
     "name": "stderr",
     "output_type": "stream",
     "text": [
      "\r",
      " 98%|█████████▊| 53/54 [20:13<00:22, 22.90s/it]"
     ]
    },
    {
     "name": "stdout",
     "output_type": "stream",
     "text": [
      "../cache/bkup2/test7_1_t_store54.csv\n"
     ]
    }
   ],
   "source": [
    "for shop_num in tqdm(range(1,55)):\n",
    "    fn_org = '../cache/bkup/train10_t_store{}.csv'.format(shop_num)\n",
    "    fn_org1 = '../cache/bkup2/test7_1_t_store{}.csv'.format(shop_num)\n",
    "    print(fn_org1)\n",
    "    train_org = pd.read_csv(fn_org)\n",
    "    test_org = pd.read_csv(fn_org1)\n",
    "    df_shop_all = pd.concat([train_org, test_org], axis=0)\n",
    "    \n",
    "#     fn_org = '../cache/bkup/train10_t_store{}.csv'.format(shop_num)\n",
    "#     train_org = pd.read_csv(fn_org)\n",
    "    \n",
    "    fn = '../cache/df_all_rsdh_lag_shop{}.csv'.format(shop_num)\n",
    "    df = pd.read_csv(fn)\n",
    "    df['date'] = df_shop_all.date.values\n",
    "    \n",
    "    df_train = df[:len(train_org)]\n",
    "    df_train = df_train[(df_train.date.astype('str') >= str('2015-01-01')) & \n",
    "                        (df_train.date.astype('str') <= str('2017-08-15'))]\n",
    "    df_train = df_train.drop('date', axis=1)\n",
    "    \n",
    "    df_test = df[len(train_org):]\n",
    "    df_test = df_test.drop('date', axis=1)\n",
    "    assert(len(test_org) == len(df_test))\n",
    "    \n",
    "    fn_tr = '../cache/df_train10_t_rsdh_lag_shop{}.csv'.format(shop_num)\n",
    "    fn_te = '../cache/df_test7_1_rsdh_lag_shop{}.csv'.format(shop_num)\n",
    "    delete_file_if_exists(fn_tr)\n",
    "    delete_file_if_exists(fn_te)\n",
    "    \n",
    "    df_train.to_csv(fn_tr, index=False, float_format='%.5f')\n",
    "    df_test.to_csv(fn_te, index=False, float_format='%.5f')\n",
    "    \n",
    "    del df_shop_all\n",
    "    del train_org, test_org\n",
    "    del df_train\n",
    "    del df_test"
   ]
  },
  {
   "cell_type": "code",
   "execution_count": 45,
   "metadata": {
    "collapsed": true
   },
   "outputs": [],
   "source": [
    "# Multi-threaded processes to utilize all available CPUs for this task. Note that many threads will block on IO\n",
    "# so creating more than number of CPUs.    \n",
    "# thread_pool = Pool(32)\n",
    "# thread_pool.map (segment_pad_and_save_ct_scan_as_npz, dicom_folder_list)\n",
    "\n",
    "# # Cleanup\n",
    "# thread_pool.close()\n",
    "# thread_pool.join_thread()"
   ]
  },
  {
   "cell_type": "code",
   "execution_count": 46,
   "metadata": {
    "collapsed": false
   },
   "outputs": [
    {
     "data": {
      "text/plain": [
       "2639"
      ]
     },
     "execution_count": 46,
     "metadata": {},
     "output_type": "execute_result"
    }
   ],
   "source": [
    "gc.collect()"
   ]
  },
  {
   "cell_type": "code",
   "execution_count": 47,
   "metadata": {
    "collapsed": true
   },
   "outputs": [],
   "source": [
    "# i = 1\n",
    "# fn = '../cache/train10_t_store{}.csv'.format(i)\n",
    "# df = pd.read_csv(fn)\n",
    "# df.unit_sales[df.unit_sales < 0] = 0\n",
    "# df1 = df.set_index('date')\n",
    "# dates = np.unique(df.date.values)\n",
    "# for j, date in tqdm(enumerate(dates)):\n",
    "#     if j > 0:\n",
    "#         break\n",
    "#     print(j)\n",
    "#     calculate_recent_stats(date, df, df1)\n",
    "# for days in [15, 30, 60, 90, 180, 365, 730, 1095, 1460]:\n",
    "#     df = set_recent_df_stats(df ,df1, days)\n",
    "# print(df.shape)\n",
    "# print(sum(df.isnull().any()==True))\n",
    "# print(sum((df != 0).any(axis=0)))\n",
    "# fn = '../cache/train10_t_store{}_recent_stats.csv'.format(i)\n",
    "# print(fn)"
   ]
  },
  {
   "cell_type": "code",
   "execution_count": 48,
   "metadata": {
    "collapsed": true
   },
   "outputs": [],
   "source": [
    "# df.isnull().sum()"
   ]
  },
  {
   "cell_type": "code",
   "execution_count": 49,
   "metadata": {
    "collapsed": true
   },
   "outputs": [],
   "source": [
    "# for i in tqdm(range(44,55)):\n",
    "#     for dow in range(7):\n",
    "#         fn_tmp = '../cache/train10_t_store{}_recent_stats_dow{}_tmp.csv'.format(i, dow)\n",
    "#         delete_file_if_exists(fn_tmp)\n",
    "#     fn = '../cache/train10_t_store{}_recent_stats_dow.csv'.format(i)\n",
    "#     df = pd.read_csv(fn)\n",
    "#     df.to_csv(fn, float_format='%.5f', index=False)\n",
    "#     del df"
   ]
  },
  {
   "cell_type": "code",
   "execution_count": 11,
   "metadata": {
    "collapsed": true
   },
   "outputs": [],
   "source": [
    "from scipy.sparse import save_npz, load_npz\n",
    "import sys\n",
    "\n",
    "sys.stdout = open('/dev/stdout', 'w')\n",
    "new_cols = []"
   ]
  },
  {
   "cell_type": "code",
   "execution_count": 12,
   "metadata": {
    "collapsed": false
   },
   "outputs": [
    {
     "name": "stderr",
     "output_type": "stream",
     "text": [
      "100%|██████████| 5/5 [00:00<00:00, 22525.80it/s]\n"
     ]
    }
   ],
   "source": [
    "recent_days = [30, 90, 180, 365, 730]\n",
    "for days in tqdm(recent_days):\n",
    "    for dow in range(5, 7):\n",
    "        new_cols.append('us_{}_dow{}_h_mean'.format(days, dow))\n",
    "        new_cols.append('us_{}_dow{}_h_med'.format(days, dow))\n",
    "        new_cols.append('us_{}_dow{}_h_std'.format(days, dow))\n",
    "        new_cols.append('us_{}_dow{}_h_skew'.format(days, dow))\n",
    "        new_cols.append('us_{}_dow{}_h_kurt'.format(days, dow))\n",
    "        new_cols.append('us_{}_dow{}_h_tbn'.format(days, dow))"
   ]
  },
  {
   "cell_type": "code",
   "execution_count": 13,
   "metadata": {
    "collapsed": true
   },
   "outputs": [],
   "source": [
    "df_test_rsdowh = pd.DataFrame()\n",
    "for store_num in range(1,55):\n",
    "    print('dow_hol - ',store_num)\n",
    "    fn = '../cache/test7_1_t_store{}_recent_stats_dow_hol_1.csv'.format(store_num)\n",
    "    df = pd.read_csv(fn)\n",
    "    df = df[new_cols + ['id']]\n",
    "    df_test_rsdowh = pd.concat([df_test_rsdowh, df], axis=0)\n",
    "    del df"
   ]
  },
  {
   "cell_type": "code",
   "execution_count": 14,
   "metadata": {
    "collapsed": true
   },
   "outputs": [],
   "source": [
    "df_test_rsdowh = df_test_rsdowh.sort_values('id')\n",
    "df_test_rsdowh = df_test_rsdowh[new_cols]"
   ]
  },
  {
   "cell_type": "code",
   "execution_count": 15,
   "metadata": {
    "collapsed": false
   },
   "outputs": [
    {
     "data": {
      "text/plain": [
       "(3370464, 60)"
      ]
     },
     "execution_count": 15,
     "metadata": {},
     "output_type": "execute_result"
    }
   ],
   "source": [
    "df_test_rsdowh.shape"
   ]
  },
  {
   "cell_type": "code",
   "execution_count": 16,
   "metadata": {
    "collapsed": true
   },
   "outputs": [],
   "source": [
    "delete_file_if_exists('../cache/df_test_rsdowh.csv')\n",
    "df_test_rsdowh.to_csv('../cache/df_test_rsdowh.csv', index=False, float_format='%.5f')"
   ]
  },
  {
   "cell_type": "code",
   "execution_count": 17,
   "metadata": {
    "collapsed": true
   },
   "outputs": [],
   "source": [
    "X_test_rsdowh = df_test_rsdowh.values\n",
    "np.save('../cache/X_test_rsdowh', X_test_rsdowh)"
   ]
  },
  {
   "cell_type": "code",
   "execution_count": null,
   "metadata": {
    "collapsed": true
   },
   "outputs": [],
   "source": []
  }
 ],
 "metadata": {
  "kernelspec": {
   "display_name": "sdp35",
   "language": "python",
   "name": "sdp35"
  },
  "language_info": {
   "codemirror_mode": {
    "name": "ipython",
    "version": 3
   },
   "file_extension": ".py",
   "mimetype": "text/x-python",
   "name": "python",
   "nbconvert_exporter": "python",
   "pygments_lexer": "ipython3",
   "version": "3.5.4"
  }
 },
 "nbformat": 4,
 "nbformat_minor": 2
}
